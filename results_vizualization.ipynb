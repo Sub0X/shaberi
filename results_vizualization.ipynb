{
 "cells": [
  {
   "cell_type": "code",
   "execution_count": 1,
   "id": "f7159e3b-518d-4e56-86af-7c8a25c7adcd",
   "metadata": {
    "tags": []
   },
   "outputs": [],
   "source": [
    "from glob import glob\n",
    "\n",
    "model_result_paths = glob(\"./data/judgements/*/*/*.json\")"
   ]
  },
  {
   "cell_type": "code",
   "execution_count": 2,
   "id": "51e02ab0",
   "metadata": {},
   "outputs": [],
   "source": [
    "eval_dataset_dict = {\n",
    "    \"elyza__ELYZA-tasks-100\": \"ELYZA-tasks-100\",\n",
    "    \"yuzuai__rakuda-questions\": \"Rakuda\",\n",
    "    \"lightblue__tengu_bench\": \"Tengu-Bench\",\n",
    "    \"shisa-ai__ja-mt-bench-1shot\": \"MT-Bench\",\n",
    "}"
   ]
  },
  {
   "cell_type": "code",
   "execution_count": 3,
   "id": "fe36503f-515f-4e29-b58f-81b1684734b0",
   "metadata": {
    "tags": []
   },
   "outputs": [
    {
     "name": "stdout",
     "output_type": "stream",
     "text": [
      "Processing ./data/judgements\\judge_gpt-4.1\\elyza__ELYZA-tasks-100\\shisa-v2-qwen2.5-32b.json with 100 rows\n",
      "['./data/judgements', 'judge_gpt-4.1', 'elyza__ELYZA-tasks-100', 'shisa-v2-qwen2.5-32b.json']\n",
      "Processing ./data/judgements\\judge_gpt-4.1\\lightblue__tengu_bench\\shisa-v2-qwen2.5-32b.json with 120 rows\n",
      "['./data/judgements', 'judge_gpt-4.1', 'lightblue__tengu_bench', 'shisa-v2-qwen2.5-32b.json']\n",
      "Processing ./data/judgements\\judge_gpt-4.1\\shisa-ai__ja-mt-bench-1shot\\shisa-v2-qwen2.5-32b.json with 60 rows\n",
      "['./data/judgements', 'judge_gpt-4.1', 'shisa-ai__ja-mt-bench-1shot', 'shisa-v2-qwen2.5-32b.json']\n",
      "Processing ./data/judgements\\judge_gpt-4.1\\yuzuai__rakuda-questions\\shisa-v2-qwen2.5-32b.json with 40 rows\n",
      "['./data/judgements', 'judge_gpt-4.1', 'yuzuai__rakuda-questions', 'shisa-v2-qwen2.5-32b.json']\n"
     ]
    }
   ],
   "source": [
    "import pandas as pd\n",
    "import os\n",
    "\n",
    "all_result_dfs = []\n",
    "\n",
    "for model_result_path in model_result_paths:\n",
    "    temp_df = pd.read_json(model_result_path, lines=True)\n",
    "    print(f\"Processing {model_result_path} with {len(temp_df)} rows\")\n",
    "    print(model_result_path.split(os.sep))\n",
    "    temp_df[\"judge_model\"] = model_result_path.split(os.sep)[1]\n",
    "    temp_df[\"eval_dataset\"] = eval_dataset_dict[model_result_path.split(os.sep)[2]]\n",
    "    temp_df[\"model_name\"] = model_result_path.split(os.sep)[3].replace(\".json\", \"\")\n",
    "    \n",
    "    all_result_dfs.append(temp_df)"
   ]
  },
  {
   "cell_type": "code",
   "execution_count": 7,
   "id": "b1a0bda1-3deb-4f73-912e-971c8f7187e3",
   "metadata": {
    "tags": []
   },
   "outputs": [],
   "source": [
    "import pandas as pd\n",
    "import json\n",
    "\n",
    "all_result_dfs = []\n",
    "\n",
    "for model_result_path in model_result_paths:\n",
    "    try:\n",
    "        # Try the standard pandas read_json first\n",
    "        temp_df = pd.read_json(model_result_path, lines=True)\n",
    "    except ValueError as e:\n",
    "        print(f\"Error reading {model_result_path}: {e}\")\n",
    "        print(\"Attempting alternative parsing method...\")\n",
    "        try:\n",
    "            # Try manual parsing as fallback\n",
    "            with open(model_result_path, 'r', encoding='utf-8') as f:\n",
    "                json_lines = []\n",
    "                for i, line in enumerate(f):\n",
    "                    try:\n",
    "                        # Attempt to parse each line individually\n",
    "                        if line.strip():  # Skip empty lines\n",
    "                            json_obj = json.loads(line.strip())\n",
    "                            json_lines.append(json_obj)\n",
    "                    except json.JSONDecodeError as je:\n",
    "                        print(f\"Error in line {i+1}: {je} - {line[:50]}...\")\n",
    "                # Create dataframe from successfully parsed lines\n",
    "                if json_lines:\n",
    "                    temp_df = pd.DataFrame(json_lines)\n",
    "                else:\n",
    "                    print(f\"Could not parse any lines in {model_result_path}, skipping file\")\n",
    "                    continue\n",
    "        except Exception as e2:\n",
    "            print(f\"Failed to parse {model_result_path} with alternative method: {e2}\")\n",
    "            continue\n",
    "    \n",
    "    # Add metadata columns\n",
    "    temp_df[\"judge_model\"] = model_result_path.split(os.sep)[1]\n",
    "    temp_df[\"eval_dataset\"] = eval_dataset_dict[model_result_path.split(os.sep)[2]]\n",
    "    temp_df[\"model_name\"] = model_result_path.split(os.sep)[3].replace(\".json\", \"\")\n",
    "    \n",
    "    all_result_dfs.append(temp_df)\n"
   ]
  },
  {
   "cell_type": "code",
   "execution_count": 8,
   "id": "8d63791e",
   "metadata": {},
   "outputs": [],
   "source": [
    "import pandas as pd\n",
    "\n",
    "all_result_df = pd.concat(all_result_dfs)\n",
    "\n",
    "all_result_df[\"dataset_category\"] = all_result_df[\"eval_dataset\"] + \" \" + all_result_df[\"Category\"]\n"
   ]
  },
  {
   "cell_type": "code",
   "execution_count": 9,
   "id": "1a989b72",
   "metadata": {},
   "outputs": [],
   "source": [
    "eval_dataset_names = all_result_df.eval_dataset.unique()\n",
    "model_names = all_result_df.model_name.unique()\n"
   ]
  },
  {
   "cell_type": "code",
   "execution_count": null,
   "id": "63b24a3e",
   "metadata": {},
   "outputs": [
    {
     "data": {
      "text/plain": [
       "array(['ELYZA-tasks-100', 'Tengu-Bench', 'MT-Bench', 'Rakuda'],\n",
       "      dtype=object)"
      ]
     },
     "execution_count": 12,
     "metadata": {},
     "output_type": "execute_result"
    }
   ],
   "source": [
    "eval_dataset_names"
   ]
  },
  {
   "cell_type": "code",
   "execution_count": 13,
   "id": "bcffd600",
   "metadata": {},
   "outputs": [
    {
     "data": {
      "text/plain": [
       "array(['shisa-v2-qwen2.5-32b'], dtype=object)"
      ]
     },
     "execution_count": 13,
     "metadata": {},
     "output_type": "execute_result"
    }
   ],
   "source": [
    "model_names"
   ]
  },
  {
   "cell_type": "code",
   "execution_count": 14,
   "id": "d8a81669",
   "metadata": {},
   "outputs": [
    {
     "data": {
      "text/html": [
       "<div>\n",
       "<style scoped>\n",
       "    .dataframe tbody tr th:only-of-type {\n",
       "        vertical-align: middle;\n",
       "    }\n",
       "\n",
       "    .dataframe tbody tr th {\n",
       "        vertical-align: top;\n",
       "    }\n",
       "\n",
       "    .dataframe thead th {\n",
       "        text-align: right;\n",
       "    }\n",
       "</style>\n",
       "<table border=\"1\" class=\"dataframe\">\n",
       "  <thead>\n",
       "    <tr style=\"text-align: right;\">\n",
       "      <th></th>\n",
       "      <th>Question</th>\n",
       "      <th>output</th>\n",
       "      <th>eval_aspect</th>\n",
       "      <th>ModelAnswer</th>\n",
       "      <th>score</th>\n",
       "      <th>judge_model</th>\n",
       "      <th>eval_dataset</th>\n",
       "      <th>model_name</th>\n",
       "      <th>Category</th>\n",
       "      <th>Answer</th>\n",
       "      <th>Criteria</th>\n",
       "      <th>id</th>\n",
       "      <th>category</th>\n",
       "      <th>question_id</th>\n",
       "      <th>dataset_category</th>\n",
       "    </tr>\n",
       "  </thead>\n",
       "  <tbody>\n",
       "    <tr>\n",
       "      <th>0</th>\n",
       "      <td>仕事の熱意を取り戻すためのアイデアを5つ挙げてください。</td>\n",
       "      <td>1. 自分の仕事に対する興味を再発見するために、新しい技能や知識を学ぶこと。\\n2. カレッ...</td>\n",
       "      <td>- 熱意を取り戻すのではなく、仕事の効率化・スキルアップのような文脈になっていたら1点減点\\...</td>\n",
       "      <td>1. **目標設定と達成感**: 仕事を通じて達成したい具体的な目標を設定し、それを小さなス...</td>\n",
       "      <td>5</td>\n",
       "      <td>judge_gpt-4.1</td>\n",
       "      <td>ELYZA-tasks-100</td>\n",
       "      <td>shisa-v2-qwen2.5-32b</td>\n",
       "      <td>NaN</td>\n",
       "      <td>NaN</td>\n",
       "      <td>NaN</td>\n",
       "      <td>NaN</td>\n",
       "      <td>NaN</td>\n",
       "      <td>NaN</td>\n",
       "      <td>NaN</td>\n",
       "    </tr>\n",
       "    <tr>\n",
       "      <th>1</th>\n",
       "      <td>クマが海辺に行ってアザラシと友達になり、最終的には家に帰るというプロットの短編小説を書いてく...</td>\n",
       "      <td>クマは、森での生活に飽き飽きし、新しい冒険を求めて海辺に向かった。彼は海に興味があり、そこに...</td>\n",
       "      <td>- クマが海辺に行く\\n- クマとアザラシが友達になる\\n- 最後に家に帰る\\nの3つ要素が...</td>\n",
       "      <td>**海辺の出会い**\\n\\n森の中で暮らすクマのコロは、いつも同じ場所で過ごしていました。し...</td>\n",
       "      <td>5</td>\n",
       "      <td>judge_gpt-4.1</td>\n",
       "      <td>ELYZA-tasks-100</td>\n",
       "      <td>shisa-v2-qwen2.5-32b</td>\n",
       "      <td>NaN</td>\n",
       "      <td>NaN</td>\n",
       "      <td>NaN</td>\n",
       "      <td>NaN</td>\n",
       "      <td>NaN</td>\n",
       "      <td>NaN</td>\n",
       "      <td>NaN</td>\n",
       "    </tr>\n",
       "    <tr>\n",
       "      <th>2</th>\n",
       "      <td>古代ギリシャを学ぶ上で知っておくべきポイントは？</td>\n",
       "      <td>古代ギリシャは、古代文明の中で重要な役割を担った文化であり、西洋文明の原点とされています。主...</td>\n",
       "      <td>- 「独自の文化や哲学、神話が有名です」などのように具体例がない場合は-1点\\n- 事実と異...</td>\n",
       "      <td>古代ギリシャを学ぶ上で知っておくべき重要なポイントを以下にまとめます。\\n\\n**1. 歴史...</td>\n",
       "      <td>5</td>\n",
       "      <td>judge_gpt-4.1</td>\n",
       "      <td>ELYZA-tasks-100</td>\n",
       "      <td>shisa-v2-qwen2.5-32b</td>\n",
       "      <td>NaN</td>\n",
       "      <td>NaN</td>\n",
       "      <td>NaN</td>\n",
       "      <td>NaN</td>\n",
       "      <td>NaN</td>\n",
       "      <td>NaN</td>\n",
       "      <td>NaN</td>\n",
       "    </tr>\n",
       "    <tr>\n",
       "      <th>3</th>\n",
       "      <td>以下の説明を読んだユーザーが感じるであろう疑問とは？\\n\\n大量のゴミの処理にお困りではあり...</td>\n",
       "      <td>ユーザーは以下のような点について疑問を感じる可能性があります。\\n\\n- ゴミ圧縮機はどれく...</td>\n",
       "      <td>- 疑問になっておらず、説明や回答などになっている場合: -4点 (1点になる)\\n- 「ゴ...</td>\n",
       "      <td>この説明を読んだユーザーが感じるであろう疑問は以下の通りです。\\n\\n1. **具体的なコス...</td>\n",
       "      <td>5</td>\n",
       "      <td>judge_gpt-4.1</td>\n",
       "      <td>ELYZA-tasks-100</td>\n",
       "      <td>shisa-v2-qwen2.5-32b</td>\n",
       "      <td>NaN</td>\n",
       "      <td>NaN</td>\n",
       "      <td>NaN</td>\n",
       "      <td>NaN</td>\n",
       "      <td>NaN</td>\n",
       "      <td>NaN</td>\n",
       "      <td>NaN</td>\n",
       "    </tr>\n",
       "    <tr>\n",
       "      <th>4</th>\n",
       "      <td>次に読むべきSFを10冊挙げて</td>\n",
       "      <td>それではSFというジャンルに大きな影響を与えた古典とされるSF小説を読んでみるのはどうでしょ...</td>\n",
       "      <td>- 「読むべき」とあるように小説であるべきで、アバターなどのSF映画だと -2点\\n- 実在...</td>\n",
       "      <td>SFのジャンルは非常に幅広く、多様な作品がありますが、ここでは様々なスタイルとテーマを取り入...</td>\n",
       "      <td>2</td>\n",
       "      <td>judge_gpt-4.1</td>\n",
       "      <td>ELYZA-tasks-100</td>\n",
       "      <td>shisa-v2-qwen2.5-32b</td>\n",
       "      <td>NaN</td>\n",
       "      <td>NaN</td>\n",
       "      <td>NaN</td>\n",
       "      <td>NaN</td>\n",
       "      <td>NaN</td>\n",
       "      <td>NaN</td>\n",
       "      <td>NaN</td>\n",
       "    </tr>\n",
       "    <tr>\n",
       "      <th>...</th>\n",
       "      <td>...</td>\n",
       "      <td>...</td>\n",
       "      <td>...</td>\n",
       "      <td>...</td>\n",
       "      <td>...</td>\n",
       "      <td>...</td>\n",
       "      <td>...</td>\n",
       "      <td>...</td>\n",
       "      <td>...</td>\n",
       "      <td>...</td>\n",
       "      <td>...</td>\n",
       "      <td>...</td>\n",
       "      <td>...</td>\n",
       "      <td>...</td>\n",
       "      <td>...</td>\n",
       "    </tr>\n",
       "    <tr>\n",
       "      <th>35</th>\n",
       "      <td>過去10年間で日本の所得格差がどのように変化したかを説明し、それが何を示しているのかについて...</td>\n",
       "      <td>NaN</td>\n",
       "      <td>NaN</td>\n",
       "      <td>## 過去10年間の日本の所得格差の変化とその意味\\n\\n過去10年間（2013年～2023...</td>\n",
       "      <td>9</td>\n",
       "      <td>judge_gpt-4.1</td>\n",
       "      <td>Rakuda</td>\n",
       "      <td>shisa-v2-qwen2.5-32b</td>\n",
       "      <td>NaN</td>\n",
       "      <td>NaN</td>\n",
       "      <td>NaN</td>\n",
       "      <td>NaN</td>\n",
       "      <td>社会</td>\n",
       "      <td>CwkkWjBySsr4pEN5PDhHjQ</td>\n",
       "      <td>NaN</td>\n",
       "    </tr>\n",
       "    <tr>\n",
       "      <th>36</th>\n",
       "      <td>日本のエネルギー政策と環境保護のバランスについて、現状と改善策を提案してください。</td>\n",
       "      <td>NaN</td>\n",
       "      <td>NaN</td>\n",
       "      <td>## 日本のエネルギー政策と環境保護のバランス：現状と改善策\\n\\n日本のエネルギー政策は、...</td>\n",
       "      <td>9</td>\n",
       "      <td>judge_gpt-4.1</td>\n",
       "      <td>Rakuda</td>\n",
       "      <td>shisa-v2-qwen2.5-32b</td>\n",
       "      <td>NaN</td>\n",
       "      <td>NaN</td>\n",
       "      <td>NaN</td>\n",
       "      <td>NaN</td>\n",
       "      <td>社会</td>\n",
       "      <td>V7bUjFGgCcKU4Xz3p9zpm4</td>\n",
       "      <td>NaN</td>\n",
       "    </tr>\n",
       "    <tr>\n",
       "      <th>37</th>\n",
       "      <td>日本の労働市場の女性活躍推進に関する政策とその結果について説明してください。</td>\n",
       "      <td>NaN</td>\n",
       "      <td>NaN</td>\n",
       "      <td>## 日本の労働市場における女性活躍推進に関する政策とその結果\\n\\n日本は長らく、女性の社...</td>\n",
       "      <td>9</td>\n",
       "      <td>judge_gpt-4.1</td>\n",
       "      <td>Rakuda</td>\n",
       "      <td>shisa-v2-qwen2.5-32b</td>\n",
       "      <td>NaN</td>\n",
       "      <td>NaN</td>\n",
       "      <td>NaN</td>\n",
       "      <td>NaN</td>\n",
       "      <td>社会</td>\n",
       "      <td>XPfkQA2Y6TYsyjq3PiWJPa</td>\n",
       "      <td>NaN</td>\n",
       "    </tr>\n",
       "    <tr>\n",
       "      <th>38</th>\n",
       "      <td>コロナウイルスが日本経済に及ぼした影響と、それに対する政府の対策を評価してください。</td>\n",
       "      <td>NaN</td>\n",
       "      <td>NaN</td>\n",
       "      <td>## コロナウイルスが日本経済に及ぼした影響と政府の対策評価\\n\\n新型コロナウイルス感染症...</td>\n",
       "      <td>9</td>\n",
       "      <td>judge_gpt-4.1</td>\n",
       "      <td>Rakuda</td>\n",
       "      <td>shisa-v2-qwen2.5-32b</td>\n",
       "      <td>NaN</td>\n",
       "      <td>NaN</td>\n",
       "      <td>NaN</td>\n",
       "      <td>NaN</td>\n",
       "      <td>社会</td>\n",
       "      <td>Ms5tjifAoCaPuCSkEMhzXw</td>\n",
       "      <td>NaN</td>\n",
       "    </tr>\n",
       "    <tr>\n",
       "      <th>39</th>\n",
       "      <td>消費税の引き上げが日本の経済に与えた影響を評価してください。</td>\n",
       "      <td>NaN</td>\n",
       "      <td>NaN</td>\n",
       "      <td>## 消費税引き上げが日本の経済に与えた影響：多角的な評価\\n\\n日本の消費税は、1989年...</td>\n",
       "      <td>9</td>\n",
       "      <td>judge_gpt-4.1</td>\n",
       "      <td>Rakuda</td>\n",
       "      <td>shisa-v2-qwen2.5-32b</td>\n",
       "      <td>NaN</td>\n",
       "      <td>NaN</td>\n",
       "      <td>NaN</td>\n",
       "      <td>NaN</td>\n",
       "      <td>社会</td>\n",
       "      <td>eXwkFgRKqVHn2EPpSWBNsF</td>\n",
       "      <td>NaN</td>\n",
       "    </tr>\n",
       "  </tbody>\n",
       "</table>\n",
       "<p>320 rows × 15 columns</p>\n",
       "</div>"
      ],
      "text/plain": [
       "                                             Question  \\\n",
       "0                        仕事の熱意を取り戻すためのアイデアを5つ挙げてください。   \n",
       "1   クマが海辺に行ってアザラシと友達になり、最終的には家に帰るというプロットの短編小説を書いてく...   \n",
       "2                            古代ギリシャを学ぶ上で知っておくべきポイントは？   \n",
       "3   以下の説明を読んだユーザーが感じるであろう疑問とは？\\n\\n大量のゴミの処理にお困りではあり...   \n",
       "4                                     次に読むべきSFを10冊挙げて   \n",
       "..                                                ...   \n",
       "35  過去10年間で日本の所得格差がどのように変化したかを説明し、それが何を示しているのかについて...   \n",
       "36          日本のエネルギー政策と環境保護のバランスについて、現状と改善策を提案してください。   \n",
       "37             日本の労働市場の女性活躍推進に関する政策とその結果について説明してください。   \n",
       "38         コロナウイルスが日本経済に及ぼした影響と、それに対する政府の対策を評価してください。   \n",
       "39                     消費税の引き上げが日本の経済に与えた影響を評価してください。   \n",
       "\n",
       "                                               output  \\\n",
       "0   1. 自分の仕事に対する興味を再発見するために、新しい技能や知識を学ぶこと。\\n2. カレッ...   \n",
       "1   クマは、森での生活に飽き飽きし、新しい冒険を求めて海辺に向かった。彼は海に興味があり、そこに...   \n",
       "2   古代ギリシャは、古代文明の中で重要な役割を担った文化であり、西洋文明の原点とされています。主...   \n",
       "3   ユーザーは以下のような点について疑問を感じる可能性があります。\\n\\n- ゴミ圧縮機はどれく...   \n",
       "4   それではSFというジャンルに大きな影響を与えた古典とされるSF小説を読んでみるのはどうでしょ...   \n",
       "..                                                ...   \n",
       "35                                                NaN   \n",
       "36                                                NaN   \n",
       "37                                                NaN   \n",
       "38                                                NaN   \n",
       "39                                                NaN   \n",
       "\n",
       "                                          eval_aspect  \\\n",
       "0   - 熱意を取り戻すのではなく、仕事の効率化・スキルアップのような文脈になっていたら1点減点\\...   \n",
       "1   - クマが海辺に行く\\n- クマとアザラシが友達になる\\n- 最後に家に帰る\\nの3つ要素が...   \n",
       "2   - 「独自の文化や哲学、神話が有名です」などのように具体例がない場合は-1点\\n- 事実と異...   \n",
       "3   - 疑問になっておらず、説明や回答などになっている場合: -4点 (1点になる)\\n- 「ゴ...   \n",
       "4   - 「読むべき」とあるように小説であるべきで、アバターなどのSF映画だと -2点\\n- 実在...   \n",
       "..                                                ...   \n",
       "35                                                NaN   \n",
       "36                                                NaN   \n",
       "37                                                NaN   \n",
       "38                                                NaN   \n",
       "39                                                NaN   \n",
       "\n",
       "                                          ModelAnswer  score    judge_model  \\\n",
       "0   1. **目標設定と達成感**: 仕事を通じて達成したい具体的な目標を設定し、それを小さなス...      5  judge_gpt-4.1   \n",
       "1   **海辺の出会い**\\n\\n森の中で暮らすクマのコロは、いつも同じ場所で過ごしていました。し...      5  judge_gpt-4.1   \n",
       "2   古代ギリシャを学ぶ上で知っておくべき重要なポイントを以下にまとめます。\\n\\n**1. 歴史...      5  judge_gpt-4.1   \n",
       "3   この説明を読んだユーザーが感じるであろう疑問は以下の通りです。\\n\\n1. **具体的なコス...      5  judge_gpt-4.1   \n",
       "4   SFのジャンルは非常に幅広く、多様な作品がありますが、ここでは様々なスタイルとテーマを取り入...      2  judge_gpt-4.1   \n",
       "..                                                ...    ...            ...   \n",
       "35  ## 過去10年間の日本の所得格差の変化とその意味\\n\\n過去10年間（2013年～2023...      9  judge_gpt-4.1   \n",
       "36  ## 日本のエネルギー政策と環境保護のバランス：現状と改善策\\n\\n日本のエネルギー政策は、...      9  judge_gpt-4.1   \n",
       "37  ## 日本の労働市場における女性活躍推進に関する政策とその結果\\n\\n日本は長らく、女性の社...      9  judge_gpt-4.1   \n",
       "38  ## コロナウイルスが日本経済に及ぼした影響と政府の対策評価\\n\\n新型コロナウイルス感染症...      9  judge_gpt-4.1   \n",
       "39  ## 消費税引き上げが日本の経済に与えた影響：多角的な評価\\n\\n日本の消費税は、1989年...      9  judge_gpt-4.1   \n",
       "\n",
       "       eval_dataset            model_name Category Answer Criteria  id  \\\n",
       "0   ELYZA-tasks-100  shisa-v2-qwen2.5-32b      NaN    NaN      NaN NaN   \n",
       "1   ELYZA-tasks-100  shisa-v2-qwen2.5-32b      NaN    NaN      NaN NaN   \n",
       "2   ELYZA-tasks-100  shisa-v2-qwen2.5-32b      NaN    NaN      NaN NaN   \n",
       "3   ELYZA-tasks-100  shisa-v2-qwen2.5-32b      NaN    NaN      NaN NaN   \n",
       "4   ELYZA-tasks-100  shisa-v2-qwen2.5-32b      NaN    NaN      NaN NaN   \n",
       "..              ...                   ...      ...    ...      ...  ..   \n",
       "35           Rakuda  shisa-v2-qwen2.5-32b      NaN    NaN      NaN NaN   \n",
       "36           Rakuda  shisa-v2-qwen2.5-32b      NaN    NaN      NaN NaN   \n",
       "37           Rakuda  shisa-v2-qwen2.5-32b      NaN    NaN      NaN NaN   \n",
       "38           Rakuda  shisa-v2-qwen2.5-32b      NaN    NaN      NaN NaN   \n",
       "39           Rakuda  shisa-v2-qwen2.5-32b      NaN    NaN      NaN NaN   \n",
       "\n",
       "   category             question_id dataset_category  \n",
       "0       NaN                     NaN              NaN  \n",
       "1       NaN                     NaN              NaN  \n",
       "2       NaN                     NaN              NaN  \n",
       "3       NaN                     NaN              NaN  \n",
       "4       NaN                     NaN              NaN  \n",
       "..      ...                     ...              ...  \n",
       "35       社会  CwkkWjBySsr4pEN5PDhHjQ              NaN  \n",
       "36       社会  V7bUjFGgCcKU4Xz3p9zpm4              NaN  \n",
       "37       社会  XPfkQA2Y6TYsyjq3PiWJPa              NaN  \n",
       "38       社会  Ms5tjifAoCaPuCSkEMhzXw              NaN  \n",
       "39       社会  eXwkFgRKqVHn2EPpSWBNsF              NaN  \n",
       "\n",
       "[320 rows x 15 columns]"
      ]
     },
     "execution_count": 14,
     "metadata": {},
     "output_type": "execute_result"
    }
   ],
   "source": [
    "all_result_df"
   ]
  },
  {
   "cell_type": "code",
   "execution_count": null,
   "id": "aaf6077d",
   "metadata": {},
   "outputs": [],
   "source": [
    "eval_corr_results = {}\n",
    "for eval_dataset_name in eval_dataset_names:\n",
    "    eval_corr_results[eval_dataset_name] = {}\n",
    "    for model_name in model_names:\n",
    "        eval_corr_results[eval_dataset_name][model_name] = all_result_df[(all_result_df.eval_dataset == eval_dataset_name) & (all_result_df.model_name == model_name)].score.mean()"
   ]
  },
  {
   "cell_type": "code",
   "execution_count": 15,
   "id": "4c43c69c",
   "metadata": {},
   "outputs": [
    {
     "data": {
      "text/plain": [
       "{'ELYZA-tasks-100': {'shisa-v2-qwen2.5-32b': np.float64(4.35)},\n",
       " 'Tengu-Bench': {'shisa-v2-qwen2.5-32b': np.float64(7.566666666666666)},\n",
       " 'MT-Bench': {'shisa-v2-qwen2.5-32b': np.float64(8.783333333333333)},\n",
       " 'Rakuda': {'shisa-v2-qwen2.5-32b': np.float64(9.125)}}"
      ]
     },
     "execution_count": 15,
     "metadata": {},
     "output_type": "execute_result"
    }
   ],
   "source": [
    "eval_corr_results"
   ]
  },
  {
   "cell_type": "code",
   "execution_count": 11,
   "id": "9edf2bc0",
   "metadata": {},
   "outputs": [
    {
     "data": {
      "text/html": [
       "<div>\n",
       "<style scoped>\n",
       "    .dataframe tbody tr th:only-of-type {\n",
       "        vertical-align: middle;\n",
       "    }\n",
       "\n",
       "    .dataframe tbody tr th {\n",
       "        vertical-align: top;\n",
       "    }\n",
       "\n",
       "    .dataframe thead th {\n",
       "        text-align: right;\n",
       "    }\n",
       "</style>\n",
       "<table border=\"1\" class=\"dataframe\">\n",
       "  <thead>\n",
       "    <tr style=\"text-align: right;\">\n",
       "      <th></th>\n",
       "      <th>ELYZA-tasks-100</th>\n",
       "      <th>Tengu-Bench</th>\n",
       "      <th>MT-Bench</th>\n",
       "      <th>Rakuda</th>\n",
       "    </tr>\n",
       "  </thead>\n",
       "  <tbody>\n",
       "    <tr>\n",
       "      <th>ELYZA-tasks-100</th>\n",
       "      <td>NaN</td>\n",
       "      <td>NaN</td>\n",
       "      <td>NaN</td>\n",
       "      <td>NaN</td>\n",
       "    </tr>\n",
       "    <tr>\n",
       "      <th>Tengu-Bench</th>\n",
       "      <td>NaN</td>\n",
       "      <td>NaN</td>\n",
       "      <td>NaN</td>\n",
       "      <td>NaN</td>\n",
       "    </tr>\n",
       "    <tr>\n",
       "      <th>MT-Bench</th>\n",
       "      <td>NaN</td>\n",
       "      <td>NaN</td>\n",
       "      <td>NaN</td>\n",
       "      <td>NaN</td>\n",
       "    </tr>\n",
       "    <tr>\n",
       "      <th>Rakuda</th>\n",
       "      <td>NaN</td>\n",
       "      <td>NaN</td>\n",
       "      <td>NaN</td>\n",
       "      <td>NaN</td>\n",
       "    </tr>\n",
       "  </tbody>\n",
       "</table>\n",
       "</div>"
      ],
      "text/plain": [
       "                 ELYZA-tasks-100  Tengu-Bench  MT-Bench  Rakuda\n",
       "ELYZA-tasks-100              NaN          NaN       NaN     NaN\n",
       "Tengu-Bench                  NaN          NaN       NaN     NaN\n",
       "MT-Bench                     NaN          NaN       NaN     NaN\n",
       "Rakuda                       NaN          NaN       NaN     NaN"
      ]
     },
     "execution_count": 11,
     "metadata": {},
     "output_type": "execute_result"
    }
   ],
   "source": [
    "pd.DataFrame(eval_corr_results).corr().round(4)"
   ]
  },
  {
   "cell_type": "code",
   "execution_count": 16,
   "id": "e8bae080",
   "metadata": {},
   "outputs": [
    {
     "data": {
      "text/html": [
       "<style type=\"text/css\">\n",
       "#T_309bd_row0_col0, #T_309bd_row0_col1, #T_309bd_row0_col2, #T_309bd_row0_col3, #T_309bd_row0_col4 {\n",
       "  background-color: yellow;\n",
       "}\n",
       "</style>\n",
       "<table id=\"T_309bd\">\n",
       "  <thead>\n",
       "    <tr>\n",
       "      <th class=\"blank level0\" >&nbsp;</th>\n",
       "      <th id=\"T_309bd_level0_col0\" class=\"col_heading level0 col0\" >ELYZA-tasks-100</th>\n",
       "      <th id=\"T_309bd_level0_col1\" class=\"col_heading level0 col1\" >Tengu-Bench</th>\n",
       "      <th id=\"T_309bd_level0_col2\" class=\"col_heading level0 col2\" >MT-Bench</th>\n",
       "      <th id=\"T_309bd_level0_col3\" class=\"col_heading level0 col3\" >Rakuda</th>\n",
       "      <th id=\"T_309bd_level0_col4\" class=\"col_heading level0 col4\" >mean</th>\n",
       "    </tr>\n",
       "  </thead>\n",
       "  <tbody>\n",
       "    <tr>\n",
       "      <th id=\"T_309bd_level0_row0\" class=\"row_heading level0 row0\" >shisa-v2-qwen2.5-32b</th>\n",
       "      <td id=\"T_309bd_row0_col0\" class=\"data row0 col0\" >8.70</td>\n",
       "      <td id=\"T_309bd_row0_col1\" class=\"data row0 col1\" >7.57</td>\n",
       "      <td id=\"T_309bd_row0_col2\" class=\"data row0 col2\" >8.78</td>\n",
       "      <td id=\"T_309bd_row0_col3\" class=\"data row0 col3\" >9.12</td>\n",
       "      <td id=\"T_309bd_row0_col4\" class=\"data row0 col4\" >8.54</td>\n",
       "    </tr>\n",
       "  </tbody>\n",
       "</table>\n"
      ],
      "text/plain": [
       "<pandas.io.formats.style.Styler at 0x2a77eed7ed0>"
      ]
     },
     "execution_count": 16,
     "metadata": {},
     "output_type": "execute_result"
    }
   ],
   "source": [
    "eval_res_df = pd.DataFrame(eval_corr_results)\n",
    "\n",
    "eval_res_df['ELYZA-tasks-100'] = eval_res_df['ELYZA-tasks-100'] * 2\n",
    "\n",
    "eval_res_df['mean'] = eval_res_df.mean(axis=1)\n",
    "\n",
    "eval_res_df = eval_res_df.sort_values(by='mean', ascending=False)\n",
    "\n",
    "def highlight_max(s):\n",
    "    is_max = s == s.max()\n",
    "    return ['background-color: yellow' if v else '' for v in is_max]\n",
    "\n",
    "styled_df = eval_res_df.style.apply(highlight_max, axis=0)\n",
    "styled_df = styled_df.format(\"{:.2f}\")\n",
    "styled_df\n",
    "\n"
   ]
  },
  {
   "cell_type": "code",
   "execution_count": null,
   "id": "04eeb35c",
   "metadata": {},
   "outputs": [],
   "source": []
  },
  {
   "cell_type": "code",
   "execution_count": null,
   "id": "c70f06e9",
   "metadata": {},
   "outputs": [],
   "source": []
  },
  {
   "cell_type": "code",
   "execution_count": null,
   "id": "7a01caae",
   "metadata": {},
   "outputs": [],
   "source": [
    "# Latex形式で出力\n",
    "# print(eval_res_df.to_latex(float_format=\"%.4f\").replace(\"__\",\"/\").replace(\"_\",\"\\_\"))"
   ]
  },
  {
   "cell_type": "code",
   "execution_count": null,
   "id": "d05ad959",
   "metadata": {},
   "outputs": [],
   "source": [
    "# 相関を可視化\n",
    "# cols = eval_res_df.columns\n",
    "\n",
    "# for c1 in range(len(cols)):\n",
    "#     for c2 in range(c1, len(cols)):\n",
    "#         eval_res_df.plot(kind='scatter', x=cols[c1], y=cols[c2], title=f'{cols[c1]} vs {cols[c2]}')"
   ]
  },
  {
   "cell_type": "code",
   "execution_count": 17,
   "id": "b66da917",
   "metadata": {},
   "outputs": [],
   "source": [
    "import re\n",
    "def get_model_size(x):\n",
    "    # Dictionary for known models with their sizes\n",
    "    known_models = {\n",
    "        \"openchat__openchat-3.5-0106\": 7,\n",
    "        \"CohereForAI__c4ai-command-r-v01\": 35,\n",
    "        # Add more known models as needed\n",
    "    }\n",
    "    \n",
    "    # Check if the model is in our known list\n",
    "    if x.name in known_models:\n",
    "        return known_models[x.name]\n",
    "    \n",
    "    # Try multiple regex patterns to extract size\n",
    "    try:\n",
    "        # Try pattern like \"7b\" or \"13B\"\n",
    "        size_match = re.search(r\"\\b(\\d{1,3})[bB]\\b\", x.name)\n",
    "        if size_match:\n",
    "            return int(size_match.group(1))\n",
    "        \n",
    "        # Try other common patterns (add more as needed)\n",
    "        size_match = re.search(r\"-(\\d{1,3})b\", x.name, re.IGNORECASE)\n",
    "        if size_match:\n",
    "            return int(size_match.group(1))\n",
    "            \n",
    "        # For models like \"llama-3-70b\"\n",
    "        size_match = re.search(r\"\\b(\\d{1,3})b-\", x.name, re.IGNORECASE)\n",
    "        if size_match:\n",
    "            return int(size_match.group(1))\n",
    "        \n",
    "        print(f\"Could not find model size for: {x.name}\")\n",
    "        return None\n",
    "    except Exception as e:\n",
    "        print(f\"Error parsing model size for {x.name}: {e}\")\n",
    "        return None\n"
   ]
  },
  {
   "cell_type": "code",
   "execution_count": 18,
   "id": "05a7e6e8",
   "metadata": {},
   "outputs": [],
   "source": [
    "model_size_df = eval_res_df.copy()\n",
    "model_size_df['model_size'] = model_size_df.apply(get_model_size, axis=1)\n",
    "size_df = model_size_df.dropna(subset=['model_size']).sort_values(by='model_size', ascending=False).groupby('model_size').mean()\n"
   ]
  },
  {
   "cell_type": "code",
   "execution_count": 19,
   "id": "262eb37c",
   "metadata": {},
   "outputs": [],
   "source": [
    "size_df['model_size'] = size_df.index"
   ]
  },
  {
   "cell_type": "code",
   "execution_count": 20,
   "id": "bed53280",
   "metadata": {},
   "outputs": [],
   "source": [
    "log_size_df = size_df\n"
   ]
  },
  {
   "cell_type": "code",
   "execution_count": 21,
   "id": "106e674b",
   "metadata": {},
   "outputs": [],
   "source": [
    "from math import log\n",
    "\n",
    "# Add a safety check for the logarithm (only positive numbers)\n",
    "def safe_log(x):\n",
    "    try:\n",
    "        if x <= 0:\n",
    "            print(f\"Warning: Cannot take logarithm of non-positive number {x}, using 1 instead\")\n",
    "            return log(1)  # Default to log(1) = 0\n",
    "        return log(x)\n",
    "    except Exception as e:\n",
    "        print(f\"Error calculating log for value {x}: {e}\")\n",
    "        return log(1)  # Default to log(1) = 0\n",
    "\n",
    "log_size_df[\"model_size\"] = log_size_df[\"model_size\"].apply(safe_log)\n"
   ]
  },
  {
   "cell_type": "code",
   "execution_count": 22,
   "id": "560079a2",
   "metadata": {},
   "outputs": [
    {
     "data": {
      "image/png": "[encoded data removed]",
      "text/plain": [
       "<Figure size 1000x600 with 1 Axes>"
      ]
     },
     "metadata": {},
     "output_type": "display_data"
    }
   ],
   "source": [
    "import matplotlib.pyplot as plt\n",
    "import seaborn as sns\n",
    "\n",
    "# 図のサイズを設定\n",
    "plt.figure(figsize=(10, 6))\n",
    "\n",
    "# データごとに違う色で散布図と回帰直線を描画\n",
    "colors = ['blue', 'green', 'red', 'gold']  # 色を指定\n",
    "for i, column in enumerate(['ELYZA-tasks-100', 'Rakuda', 'Tengu-Bench', 'MT-Bench']):\n",
    "    sns.regplot(x='model_size', y=column, data=log_size_df, scatter=True, \n",
    "                label=column, ci=None, )\n",
    "\n",
    "\n",
    "plt.xticks([log(7), log(13), log(32), log(70)], [\"7B\", \"13B\", \"32B\", \"70B\"])\n",
    "# 凡例を表示\n",
    "plt.legend()\n",
    "# タイトルを設定\n",
    "plt.title('Model Size vs Scores with Regression Lines')\n",
    "# グラフを表示\n",
    "plt.savefig(\"model-size_vs_score.svg\")\n",
    "plt.show()\n"
   ]
  },
  {
   "cell_type": "code",
   "execution_count": 23,
   "id": "a8ecf0e5",
   "metadata": {},
   "outputs": [
    {
     "name": "stdout",
     "output_type": "stream",
     "text": [
      "\\begin{tabular}{lr}\n",
      "\\toprule\n",
      " & score \\\\\n",
      "Category &  \\\\\n",
      "\\midrule\n",
      "アイデア生成 & 10.000000 \\\\\n",
      "プロジェクト作成 & 10.000000 \\\\\n",
      "会話要約 & 10.000000 \\\\\n",
      "長い文書要約（千トークン以上） & 10.000000 \\\\\n",
      "長い文書のClosed QA（千トークン以上） & 9.800000 \\\\\n",
      "コスト見積 & 9.600000 \\\\\n",
      "雑談 & 9.200000 \\\\\n",
      "表の読み取り & 9.000000 \\\\\n",
      "抽出 & 9.000000 \\\\\n",
      "フォーマット & 9.000000 \\\\\n",
      "敬語 & 8.800000 \\\\\n",
      "翻訳 & 8.200000 \\\\\n",
      "数学 & 8.000000 \\\\\n",
      "Function calling & 8.000000 \\\\\n",
      "政治 & 7.000000 \\\\\n",
      "法律判断 & 6.800000 \\\\\n",
      "ビジネス & 6.000000 \\\\\n",
      "ダジャレ & 5.800000 \\\\\n",
      "倫理的制御 & 5.800000 \\\\\n",
      "論理パズル & 5.600000 \\\\\n",
      "建設 & 5.200000 \\\\\n",
      "日本 & 3.600000 \\\\\n",
      "架空の質問 & 3.600000 \\\\\n",
      "\\bottomrule\n",
      "\\end{tabular}\n",
      "\n"
     ]
    }
   ],
   "source": [
    "print(all_result_df[all_result_df['eval_dataset']==\"Tengu-Bench\"].groupby(\"Category\").score.mean().sort_values(ascending=False).to_frame().to_latex())"
   ]
  },
  {
   "cell_type": "code",
   "execution_count": 24,
   "id": "2250a287-35ab-441c-afa5-be78e99d9b87",
   "metadata": {
    "tags": []
   },
   "outputs": [
    {
     "data": {
      "text/html": [
       "<div>\n",
       "<style scoped>\n",
       "    .dataframe tbody tr th:only-of-type {\n",
       "        vertical-align: middle;\n",
       "    }\n",
       "\n",
       "    .dataframe tbody tr th {\n",
       "        vertical-align: top;\n",
       "    }\n",
       "\n",
       "    .dataframe thead th {\n",
       "        text-align: right;\n",
       "    }\n",
       "</style>\n",
       "<table border=\"1\" class=\"dataframe\">\n",
       "  <thead>\n",
       "    <tr style=\"text-align: right;\">\n",
       "      <th>eval_dataset</th>\n",
       "      <th>ELYZA-tasks-100</th>\n",
       "      <th>MT-Bench</th>\n",
       "      <th>Rakuda</th>\n",
       "      <th>Tengu-Bench</th>\n",
       "    </tr>\n",
       "    <tr>\n",
       "      <th>model_name</th>\n",
       "      <th></th>\n",
       "      <th></th>\n",
       "      <th></th>\n",
       "      <th></th>\n",
       "    </tr>\n",
       "  </thead>\n",
       "  <tbody>\n",
       "    <tr>\n",
       "      <th>shisa-v2-qwen2.5-32b</th>\n",
       "      <td>4.35</td>\n",
       "      <td>8.783333</td>\n",
       "      <td>9.125</td>\n",
       "      <td>7.566667</td>\n",
       "    </tr>\n",
       "  </tbody>\n",
       "</table>\n",
       "</div>"
      ],
      "text/plain": [
       "eval_dataset          ELYZA-tasks-100  MT-Bench  Rakuda  Tengu-Bench\n",
       "model_name                                                          \n",
       "shisa-v2-qwen2.5-32b             4.35  8.783333   9.125     7.566667"
      ]
     },
     "execution_count": 24,
     "metadata": {},
     "output_type": "execute_result"
    }
   ],
   "source": [
    "all_result_df.groupby(\n",
    "    [\"model_name\", \"eval_dataset\"]\n",
    ").score.mean().reset_index(drop=False).pivot_table(values=\"score\", index=\"model_name\", columns=\"eval_dataset\")"
   ]
  },
  {
   "cell_type": "code",
   "execution_count": 25,
   "id": "0bd8da5b-57a6-4809-9c9b-34959158787b",
   "metadata": {
    "tags": []
   },
   "outputs": [],
   "source": [
    "\n",
    "mean_df = all_result_df.groupby(\n",
    "    [\"eval_dataset\", \"Category\", \"model_name\"]\n",
    ").score.mean().reset_index(level=1, drop=False).pivot_table(index='model_name', columns=['eval_dataset', 'Category'], values='score')\n"
   ]
  },
  {
   "cell_type": "code",
   "execution_count": 26,
   "id": "1e7e95fb",
   "metadata": {},
   "outputs": [
    {
     "data": {
      "text/html": [
       "<div>\n",
       "<style scoped>\n",
       "    .dataframe tbody tr th:only-of-type {\n",
       "        vertical-align: middle;\n",
       "    }\n",
       "\n",
       "    .dataframe tbody tr th {\n",
       "        vertical-align: top;\n",
       "    }\n",
       "\n",
       "    .dataframe thead tr th {\n",
       "        text-align: left;\n",
       "    }\n",
       "\n",
       "    .dataframe thead tr:last-of-type th {\n",
       "        text-align: right;\n",
       "    }\n",
       "</style>\n",
       "<table border=\"1\" class=\"dataframe\">\n",
       "  <thead>\n",
       "    <tr>\n",
       "      <th>eval_dataset</th>\n",
       "      <th colspan=\"21\" halign=\"left\">Tengu-Bench</th>\n",
       "    </tr>\n",
       "    <tr>\n",
       "      <th>Category</th>\n",
       "      <th>Function calling</th>\n",
       "      <th>アイデア生成</th>\n",
       "      <th>コスト見積</th>\n",
       "      <th>ダジャレ</th>\n",
       "      <th>ビジネス</th>\n",
       "      <th>フォーマット</th>\n",
       "      <th>プロジェクト作成</th>\n",
       "      <th>会話要約</th>\n",
       "      <th>倫理的制御</th>\n",
       "      <th>建設</th>\n",
       "      <th>...</th>\n",
       "      <th>数学</th>\n",
       "      <th>日本</th>\n",
       "      <th>架空の質問</th>\n",
       "      <th>法律判断</th>\n",
       "      <th>翻訳</th>\n",
       "      <th>表の読み取り</th>\n",
       "      <th>論理パズル</th>\n",
       "      <th>長い文書のClosed QA（千トークン以上）</th>\n",
       "      <th>長い文書要約（千トークン以上）</th>\n",
       "      <th>雑談</th>\n",
       "    </tr>\n",
       "    <tr>\n",
       "      <th>model_name</th>\n",
       "      <th></th>\n",
       "      <th></th>\n",
       "      <th></th>\n",
       "      <th></th>\n",
       "      <th></th>\n",
       "      <th></th>\n",
       "      <th></th>\n",
       "      <th></th>\n",
       "      <th></th>\n",
       "      <th></th>\n",
       "      <th></th>\n",
       "      <th></th>\n",
       "      <th></th>\n",
       "      <th></th>\n",
       "      <th></th>\n",
       "      <th></th>\n",
       "      <th></th>\n",
       "      <th></th>\n",
       "      <th></th>\n",
       "      <th></th>\n",
       "      <th></th>\n",
       "    </tr>\n",
       "  </thead>\n",
       "  <tbody>\n",
       "    <tr>\n",
       "      <th>shisa-v2-qwen2.5-32b</th>\n",
       "      <td>8.0</td>\n",
       "      <td>10.0</td>\n",
       "      <td>9.6</td>\n",
       "      <td>5.8</td>\n",
       "      <td>6.0</td>\n",
       "      <td>9.0</td>\n",
       "      <td>10.0</td>\n",
       "      <td>10.0</td>\n",
       "      <td>5.8</td>\n",
       "      <td>5.2</td>\n",
       "      <td>...</td>\n",
       "      <td>8.0</td>\n",
       "      <td>3.6</td>\n",
       "      <td>3.6</td>\n",
       "      <td>6.8</td>\n",
       "      <td>8.2</td>\n",
       "      <td>9.0</td>\n",
       "      <td>5.6</td>\n",
       "      <td>9.8</td>\n",
       "      <td>10.0</td>\n",
       "      <td>9.2</td>\n",
       "    </tr>\n",
       "  </tbody>\n",
       "</table>\n",
       "<p>1 rows × 23 columns</p>\n",
       "</div>"
      ],
      "text/plain": [
       "eval_dataset              Tengu-Bench                                         \\\n",
       "Category             Function calling アイデア生成 コスト見積 ダジャレ ビジネス フォーマット プロジェクト作成   \n",
       "model_name                                                                     \n",
       "shisa-v2-qwen2.5-32b              8.0   10.0   9.6  5.8  6.0    9.0     10.0   \n",
       "\n",
       "eval_dataset                           ...                                   \\\n",
       "Category              会話要約 倫理的制御   建設  ...   数学   日本 架空の質問 法律判断   翻訳 表の読み取り   \n",
       "model_name                             ...                                    \n",
       "shisa-v2-qwen2.5-32b  10.0   5.8  5.2  ...  8.0  3.6   3.6  6.8  8.2    9.0   \n",
       "\n",
       "eval_dataset                                                             \n",
       "Category             論理パズル 長い文書のClosed QA（千トークン以上） 長い文書要約（千トークン以上）   雑談  \n",
       "model_name                                                               \n",
       "shisa-v2-qwen2.5-32b   5.6                     9.8            10.0  9.2  \n",
       "\n",
       "[1 rows x 23 columns]"
      ]
     },
     "execution_count": 26,
     "metadata": {},
     "output_type": "execute_result"
    }
   ],
   "source": [
    "mean_df"
   ]
  },
  {
   "cell_type": "code",
   "execution_count": 27,
   "id": "4a1d9fcc",
   "metadata": {},
   "outputs": [
    {
     "name": "stdout",
     "output_type": "stream",
     "text": [
      "| model_name           |   ('Tengu-Bench', 'Function calling') |   ('Tengu-Bench', 'アイデア生成') |   ('Tengu-Bench', 'コスト見積') |   ('Tengu-Bench', 'ダジャレ') |   ('Tengu-Bench', 'ビジネス') |   ('Tengu-Bench', 'フォーマット') |   ('Tengu-Bench', 'プロジェクト作成') |   ('Tengu-Bench', '会話要約') |   ('Tengu-Bench', '倫理的制御') |   ('Tengu-Bench', '建設') |   ('Tengu-Bench', '抽出') |   ('Tengu-Bench', '政治') |   ('Tengu-Bench', '敬語') |   ('Tengu-Bench', '数学') |   ('Tengu-Bench', '日本') |   ('Tengu-Bench', '架空の質問') |   ('Tengu-Bench', '法律判断') |   ('Tengu-Bench', '翻訳') |   ('Tengu-Bench', '表の読み取り') |   ('Tengu-Bench', '論理パズル') |   ('Tengu-Bench', '長い文書のClosed QA（千トークン以上）') |   ('Tengu-Bench', '長い文書要約（千トークン以上）') |   ('Tengu-Bench', '雑談') |\n",
      "|:---------------------|--------------------------------------:|----------------------------------:|--------------------------------:|------------------------------:|------------------------------:|----------------------------------:|--------------------------------------:|------------------------------:|--------------------------------:|--------------------------:|--------------------------:|--------------------------:|--------------------------:|--------------------------:|--------------------------:|--------------------------------:|------------------------------:|--------------------------:|----------------------------------:|--------------------------------:|-----------------------------------------------------------:|----------------------------------------------------:|--------------------------:|\n",
      "| shisa-v2-qwen2.5-32b |                                  8.00 |                             10.00 |                            9.60 |                          5.80 |                          6.00 |                              9.00 |                                 10.00 |                         10.00 |                            5.80 |                      5.20 |                      9.00 |                      7.00 |                      8.80 |                      8.00 |                      3.60 |                            3.60 |                          6.80 |                      8.20 |                              9.00 |                            5.60 |                                                       9.80 |                                               10.00 |                      9.20 |\n"
     ]
    }
   ],
   "source": [
    "print(mean_df.to_markdown(index=True, floatfmt='.2f'))"
   ]
  },
  {
   "cell_type": "code",
   "execution_count": 28,
   "id": "890ca161",
   "metadata": {},
   "outputs": [
    {
     "data": {
      "text/html": [
       "<div>\n",
       "<style scoped>\n",
       "    .dataframe tbody tr th:only-of-type {\n",
       "        vertical-align: middle;\n",
       "    }\n",
       "\n",
       "    .dataframe tbody tr th {\n",
       "        vertical-align: top;\n",
       "    }\n",
       "\n",
       "    .dataframe thead tr th {\n",
       "        text-align: left;\n",
       "    }\n",
       "\n",
       "    .dataframe thead tr:last-of-type th {\n",
       "        text-align: right;\n",
       "    }\n",
       "</style>\n",
       "<table border=\"1\" class=\"dataframe\">\n",
       "  <thead>\n",
       "    <tr>\n",
       "      <th>eval_dataset</th>\n",
       "      <th colspan=\"21\" halign=\"left\">Tengu-Bench</th>\n",
       "    </tr>\n",
       "    <tr>\n",
       "      <th>Category</th>\n",
       "      <th>Function calling</th>\n",
       "      <th>アイデア生成</th>\n",
       "      <th>コスト見積</th>\n",
       "      <th>ダジャレ</th>\n",
       "      <th>ビジネス</th>\n",
       "      <th>フォーマット</th>\n",
       "      <th>プロジェクト作成</th>\n",
       "      <th>会話要約</th>\n",
       "      <th>倫理的制御</th>\n",
       "      <th>建設</th>\n",
       "      <th>...</th>\n",
       "      <th>数学</th>\n",
       "      <th>日本</th>\n",
       "      <th>架空の質問</th>\n",
       "      <th>法律判断</th>\n",
       "      <th>翻訳</th>\n",
       "      <th>表の読み取り</th>\n",
       "      <th>論理パズル</th>\n",
       "      <th>長い文書のClosed QA（千トークン以上）</th>\n",
       "      <th>長い文書要約（千トークン以上）</th>\n",
       "      <th>雑談</th>\n",
       "    </tr>\n",
       "    <tr>\n",
       "      <th>model_name</th>\n",
       "      <th></th>\n",
       "      <th></th>\n",
       "      <th></th>\n",
       "      <th></th>\n",
       "      <th></th>\n",
       "      <th></th>\n",
       "      <th></th>\n",
       "      <th></th>\n",
       "      <th></th>\n",
       "      <th></th>\n",
       "      <th></th>\n",
       "      <th></th>\n",
       "      <th></th>\n",
       "      <th></th>\n",
       "      <th></th>\n",
       "      <th></th>\n",
       "      <th></th>\n",
       "      <th></th>\n",
       "      <th></th>\n",
       "      <th></th>\n",
       "      <th></th>\n",
       "    </tr>\n",
       "  </thead>\n",
       "  <tbody>\n",
       "    <tr>\n",
       "      <th>shisa-v2-qwen2.5-32b</th>\n",
       "      <td>8.0</td>\n",
       "      <td>10.0</td>\n",
       "      <td>9.6</td>\n",
       "      <td>5.8</td>\n",
       "      <td>6.0</td>\n",
       "      <td>9.0</td>\n",
       "      <td>10.0</td>\n",
       "      <td>10.0</td>\n",
       "      <td>5.8</td>\n",
       "      <td>5.2</td>\n",
       "      <td>...</td>\n",
       "      <td>8.0</td>\n",
       "      <td>3.6</td>\n",
       "      <td>3.6</td>\n",
       "      <td>6.8</td>\n",
       "      <td>8.2</td>\n",
       "      <td>9.0</td>\n",
       "      <td>5.6</td>\n",
       "      <td>9.8</td>\n",
       "      <td>10.0</td>\n",
       "      <td>9.2</td>\n",
       "    </tr>\n",
       "  </tbody>\n",
       "</table>\n",
       "<p>1 rows × 23 columns</p>\n",
       "</div>"
      ],
      "text/plain": [
       "eval_dataset              Tengu-Bench                                         \\\n",
       "Category             Function calling アイデア生成 コスト見積 ダジャレ ビジネス フォーマット プロジェクト作成   \n",
       "model_name                                                                     \n",
       "shisa-v2-qwen2.5-32b              8.0   10.0   9.6  5.8  6.0    9.0     10.0   \n",
       "\n",
       "eval_dataset                           ...                                   \\\n",
       "Category              会話要約 倫理的制御   建設  ...   数学   日本 架空の質問 法律判断   翻訳 表の読み取り   \n",
       "model_name                             ...                                    \n",
       "shisa-v2-qwen2.5-32b  10.0   5.8  5.2  ...  8.0  3.6   3.6  6.8  8.2    9.0   \n",
       "\n",
       "eval_dataset                                                             \n",
       "Category             論理パズル 長い文書のClosed QA（千トークン以上） 長い文書要約（千トークン以上）   雑談  \n",
       "model_name                                                               \n",
       "shisa-v2-qwen2.5-32b   5.6                     9.8            10.0  9.2  \n",
       "\n",
       "[1 rows x 23 columns]"
      ]
     },
     "execution_count": 28,
     "metadata": {},
     "output_type": "execute_result"
    }
   ],
   "source": [
    "mean_df"
   ]
  },
  {
   "cell_type": "code",
   "execution_count": 29,
   "id": "e438c0ae",
   "metadata": {},
   "outputs": [],
   "source": [
    "mean_df = all_result_df.groupby(\n",
    "    [\"model_name\", \"eval_dataset\"]\n",
    ").score.mean().reset_index(level=1, drop=False)"
   ]
  },
  {
   "cell_type": "code",
   "execution_count": 30,
   "id": "c51ea6db",
   "metadata": {},
   "outputs": [],
   "source": [
    "mean_df['score_'] = mean_df.apply(lambda x: x.score*2 if x.eval_dataset==\"ELYZA-tasks-100\" else x.score, axis=1)"
   ]
  },
  {
   "cell_type": "code",
   "execution_count": 31,
   "id": "db623d8e-a37d-4bba-bcd9-49a21ee5d688",
   "metadata": {
    "tags": []
   },
   "outputs": [],
   "source": [
    "unique_models = mean_df.index.unique()"
   ]
  },
  {
   "cell_type": "code",
   "execution_count": null,
   "id": "602208d7-9e68-46df-bd2c-08ff616568f7",
   "metadata": {
    "tags": []
   },
   "outputs": [
    {
     "data": {
      "application/vnd.plotly.v1+json": {
       "config": {
        "plotlyServerURL": "https://plot.ly"
       },
       "data": [
        {
         "fill": "toself",
         "name": "shisa-v2-qwen2.5-32b",
         "r": {
          "bdata": "ZmZmZmZmIUAREREREZEhQAAAAAAAQCJAREREREREHkA=",
          "dtype": "f8"
         },
         "theta": [
          "ELYZA-tasks-100",
          "MT-Bench",
          "Rakuda",
          "Tengu-Bench"
         ],
         "type": "scatterpolar"
        }
       ],
       "layout": {
        "polar": {
         "radialaxis": {
          "range": [
           0,
           10
          ],
          "visible": true
         }
        },
        "showlegend": true,
        "template": {
         "data": {
          "bar": [
           {
            "error_x": {
             "color": "#2a3f5f"
            },
            "error_y": {
             "color": "#2a3f5f"
            },
            "marker": {
             "line": {
              "color": "#E5ECF6",
              "width": 0.5
             },
             "pattern": {
              "fillmode": "overlay",
              "size": 10,
              "solidity": 0.2
             }
            },
            "type": "bar"
           }
          ],
          "barpolar": [
           {
            "marker": {
             "line": {
              "color": "#E5ECF6",
              "width": 0.5
             },
             "pattern": {
              "fillmode": "overlay",
              "size": 10,
              "solidity": 0.2
             }
            },
            "type": "barpolar"
           }
          ],
          "carpet": [
           {
            "aaxis": {
             "endlinecolor": "#2a3f5f",
             "gridcolor": "white",
             "linecolor": "white",
             "minorgridcolor": "white",
             "startlinecolor": "#2a3f5f"
            },
            "baxis": {
             "endlinecolor": "#2a3f5f",
             "gridcolor": "white",
             "linecolor": "white",
             "minorgridcolor": "white",
             "startlinecolor": "#2a3f5f"
            },
            "type": "carpet"
           }
          ],
          "choropleth": [
           {
            "colorbar": {
             "outlinewidth": 0,
             "ticks": ""
            },
            "type": "choropleth"
           }
          ],
          "contour": [
           {
            "colorbar": {
             "outlinewidth": 0,
             "ticks": ""
            },
            "colorscale": [
             [
              0,
              "#0d0887"
             ],
             [
              0.1111111111111111,
              "#46039f"
             ],
             [
              0.2222222222222222,
              "#7201a8"
             ],
             [
              0.3333333333333333,
              "#9c179e"
             ],
             [
              0.4444444444444444,
              "#bd3786"
             ],
             [
              0.5555555555555556,
              "#d8576b"
             ],
             [
              0.6666666666666666,
              "#ed7953"
             ],
             [
              0.7777777777777778,
              "#fb9f3a"
             ],
             [
              0.8888888888888888,
              "#fdca26"
             ],
             [
              1,
              "#f0f921"
             ]
            ],
            "type": "contour"
           }
          ],
          "contourcarpet": [
           {
            "colorbar": {
             "outlinewidth": 0,
             "ticks": ""
            },
            "type": "contourcarpet"
           }
          ],
          "heatmap": [
           {
            "colorbar": {
             "outlinewidth": 0,
             "ticks": ""
            },
            "colorscale": [
             [
              0,
              "#0d0887"
             ],
             [
              0.1111111111111111,
              "#46039f"
             ],
             [
              0.2222222222222222,
              "#7201a8"
             ],
             [
              0.3333333333333333,
              "#9c179e"
             ],
             [
              0.4444444444444444,
              "#bd3786"
             ],
             [
              0.5555555555555556,
              "#d8576b"
             ],
             [
              0.6666666666666666,
              "#ed7953"
             ],
             [
              0.7777777777777778,
              "#fb9f3a"
             ],
             [
              0.8888888888888888,
              "#fdca26"
             ],
             [
              1,
              "#f0f921"
             ]
            ],
            "type": "heatmap"
           }
          ],
          "histogram": [
           {
            "marker": {
             "pattern": {
              "fillmode": "overlay",
              "size": 10,
              "solidity": 0.2
             }
            },
            "type": "histogram"
           }
          ],
          "histogram2d": [
           {
            "colorbar": {
             "outlinewidth": 0,
             "ticks": ""
            },
            "colorscale": [
             [
              0,
              "#0d0887"
             ],
             [
              0.1111111111111111,
              "#46039f"
             ],
             [
              0.2222222222222222,
              "#7201a8"
             ],
             [
              0.3333333333333333,
              "#9c179e"
             ],
             [
              0.4444444444444444,
              "#bd3786"
             ],
             [
              0.5555555555555556,
              "#d8576b"
             ],
             [
              0.6666666666666666,
              "#ed7953"
             ],
             [
              0.7777777777777778,
              "#fb9f3a"
             ],
             [
              0.8888888888888888,
              "#fdca26"
             ],
             [
              1,
              "#f0f921"
             ]
            ],
            "type": "histogram2d"
           }
          ],
          "histogram2dcontour": [
           {
            "colorbar": {
             "outlinewidth": 0,
             "ticks": ""
            },
            "colorscale": [
             [
              0,
              "#0d0887"
             ],
             [
              0.1111111111111111,
              "#46039f"
             ],
             [
              0.2222222222222222,
              "#7201a8"
             ],
             [
              0.3333333333333333,
              "#9c179e"
             ],
             [
              0.4444444444444444,
              "#bd3786"
             ],
             [
              0.5555555555555556,
              "#d8576b"
             ],
             [
              0.6666666666666666,
              "#ed7953"
             ],
             [
              0.7777777777777778,
              "#fb9f3a"
             ],
             [
              0.8888888888888888,
              "#fdca26"
             ],
             [
              1,
              "#f0f921"
             ]
            ],
            "type": "histogram2dcontour"
           }
          ],
          "mesh3d": [
           {
            "colorbar": {
             "outlinewidth": 0,
             "ticks": ""
            },
            "type": "mesh3d"
           }
          ],
          "parcoords": [
           {
            "line": {
             "colorbar": {
              "outlinewidth": 0,
              "ticks": ""
             }
            },
            "type": "parcoords"
           }
          ],
          "pie": [
           {
            "automargin": true,
            "type": "pie"
           }
          ],
          "scatter": [
           {
            "fillpattern": {
             "fillmode": "overlay",
             "size": 10,
             "solidity": 0.2
            },
            "type": "scatter"
           }
          ],
          "scatter3d": [
           {
            "line": {
             "colorbar": {
              "outlinewidth": 0,
              "ticks": ""
             }
            },
            "marker": {
             "colorbar": {
              "outlinewidth": 0,
              "ticks": ""
             }
            },
            "type": "scatter3d"
           }
          ],
          "scattercarpet": [
           {
            "marker": {
             "colorbar": {
              "outlinewidth": 0,
              "ticks": ""
             }
            },
            "type": "scattercarpet"
           }
          ],
          "scattergeo": [
           {
            "marker": {
             "colorbar": {
              "outlinewidth": 0,
              "ticks": ""
             }
            },
            "type": "scattergeo"
           }
          ],
          "scattergl": [
           {
            "marker": {
             "colorbar": {
              "outlinewidth": 0,
              "ticks": ""
             }
            },
            "type": "scattergl"
           }
          ],
          "scattermap": [
           {
            "marker": {
             "colorbar": {
              "outlinewidth": 0,
              "ticks": ""
             }
            },
            "type": "scattermap"
           }
          ],
          "scattermapbox": [
           {
            "marker": {
             "colorbar": {
              "outlinewidth": 0,
              "ticks": ""
             }
            },
            "type": "scattermapbox"
           }
          ],
          "scatterpolar": [
           {
            "marker": {
             "colorbar": {
              "outlinewidth": 0,
              "ticks": ""
             }
            },
            "type": "scatterpolar"
           }
          ],
          "scatterpolargl": [
           {
            "marker": {
             "colorbar": {
              "outlinewidth": 0,
              "ticks": ""
             }
            },
            "type": "scatterpolargl"
           }
          ],
          "scatterternary": [
           {
            "marker": {
             "colorbar": {
              "outlinewidth": 0,
              "ticks": ""
             }
            },
            "type": "scatterternary"
           }
          ],
          "surface": [
           {
            "colorbar": {
             "outlinewidth": 0,
             "ticks": ""
            },
            "colorscale": [
             [
              0,
              "#0d0887"
             ],
             [
              0.1111111111111111,
              "#46039f"
             ],
             [
              0.2222222222222222,
              "#7201a8"
             ],
             [
              0.3333333333333333,
              "#9c179e"
             ],
             [
              0.4444444444444444,
              "#bd3786"
             ],
             [
              0.5555555555555556,
              "#d8576b"
             ],
             [
              0.6666666666666666,
              "#ed7953"
             ],
             [
              0.7777777777777778,
              "#fb9f3a"
             ],
             [
              0.8888888888888888,
              "#fdca26"
             ],
             [
              1,
              "#f0f921"
             ]
            ],
            "type": "surface"
           }
          ],
          "table": [
           {
            "cells": {
             "fill": {
              "color": "#EBF0F8"
             },
             "line": {
              "color": "white"
             }
            },
            "header": {
             "fill": {
              "color": "#C8D4E3"
             },
             "line": {
              "color": "white"
             }
            },
            "type": "table"
           }
          ]
         },
         "layout": {
          "annotationdefaults": {
           "arrowcolor": "#2a3f5f",
           "arrowhead": 0,
           "arrowwidth": 1
          },
          "autotypenumbers": "strict",
          "coloraxis": {
           "colorbar": {
            "outlinewidth": 0,
            "ticks": ""
           }
          },
          "colorscale": {
           "diverging": [
            [
             0,
             "#8e0152"
            ],
            [
             0.1,
             "#c51b7d"
            ],
            [
             0.2,
             "#de77ae"
            ],
            [
             0.3,
             "#f1b6da"
            ],
            [
             0.4,
             "#fde0ef"
            ],
            [
             0.5,
             "#f7f7f7"
            ],
            [
             0.6,
             "#e6f5d0"
            ],
            [
             0.7,
             "#b8e186"
            ],
            [
             0.8,
             "#7fbc41"
            ],
            [
             0.9,
             "#4d9221"
            ],
            [
             1,
             "#276419"
            ]
           ],
           "sequential": [
            [
             0,
             "#0d0887"
            ],
            [
             0.1111111111111111,
             "#46039f"
            ],
            [
             0.2222222222222222,
             "#7201a8"
            ],
            [
             0.3333333333333333,
             "#9c179e"
            ],
            [
             0.4444444444444444,
             "#bd3786"
            ],
            [
             0.5555555555555556,
             "#d8576b"
            ],
            [
             0.6666666666666666,
             "#ed7953"
            ],
            [
             0.7777777777777778,
             "#fb9f3a"
            ],
            [
             0.8888888888888888,
             "#fdca26"
            ],
            [
             1,
             "#f0f921"
            ]
           ],
           "sequentialminus": [
            [
             0,
             "#0d0887"
            ],
            [
             0.1111111111111111,
             "#46039f"
            ],
            [
             0.2222222222222222,
             "#7201a8"
            ],
            [
             0.3333333333333333,
             "#9c179e"
            ],
            [
             0.4444444444444444,
             "#bd3786"
            ],
            [
             0.5555555555555556,
             "#d8576b"
            ],
            [
             0.6666666666666666,
             "#ed7953"
            ],
            [
             0.7777777777777778,
             "#fb9f3a"
            ],
            [
             0.8888888888888888,
             "#fdca26"
            ],
            [
             1,
             "#f0f921"
            ]
           ]
          },
          "colorway": [
           "#636efa",
           "#EF553B",
           "#00cc96",
           "#ab63fa",
           "#FFA15A",
           "#19d3f3",
           "#FF6692",
           "#B6E880",
           "#FF97FF",
           "#FECB52"
          ],
          "font": {
           "color": "#2a3f5f"
          },
          "geo": {
           "bgcolor": "white",
           "lakecolor": "white",
           "landcolor": "#E5ECF6",
           "showlakes": true,
           "showland": true,
           "subunitcolor": "white"
          },
          "hoverlabel": {
           "align": "left"
          },
          "hovermode": "closest",
          "mapbox": {
           "style": "light"
          },
          "paper_bgcolor": "white",
          "plot_bgcolor": "#E5ECF6",
          "polar": {
           "angularaxis": {
            "gridcolor": "white",
            "linecolor": "white",
            "ticks": ""
           },
           "bgcolor": "#E5ECF6",
           "radialaxis": {
            "gridcolor": "white",
            "linecolor": "white",
            "ticks": ""
           }
          },
          "scene": {
           "xaxis": {
            "backgroundcolor": "#E5ECF6",
            "gridcolor": "white",
            "gridwidth": 2,
            "linecolor": "white",
            "showbackground": true,
            "ticks": "",
            "zerolinecolor": "white"
           },
           "yaxis": {
            "backgroundcolor": "#E5ECF6",
            "gridcolor": "white",
            "gridwidth": 2,
            "linecolor": "white",
            "showbackground": true,
            "ticks": "",
            "zerolinecolor": "white"
           },
           "zaxis": {
            "backgroundcolor": "#E5ECF6",
            "gridcolor": "white",
            "gridwidth": 2,
            "linecolor": "white",
            "showbackground": true,
            "ticks": "",
            "zerolinecolor": "white"
           }
          },
          "shapedefaults": {
           "line": {
            "color": "#2a3f5f"
           }
          },
          "ternary": {
           "aaxis": {
            "gridcolor": "white",
            "linecolor": "white",
            "ticks": ""
           },
           "baxis": {
            "gridcolor": "white",
            "linecolor": "white",
            "ticks": ""
           },
           "bgcolor": "#E5ECF6",
           "caxis": {
            "gridcolor": "white",
            "linecolor": "white",
            "ticks": ""
           }
          },
          "title": {
           "x": 0.05
          },
          "xaxis": {
           "automargin": true,
           "gridcolor": "white",
           "linecolor": "white",
           "ticks": "",
           "title": {
            "standoff": 15
           },
           "zerolinecolor": "white",
           "zerolinewidth": 2
          },
          "yaxis": {
           "automargin": true,
           "gridcolor": "white",
           "linecolor": "white",
           "ticks": "",
           "title": {
            "standoff": 15
           },
           "zerolinecolor": "white",
           "zerolinewidth": 2
          }
         }
        }
       }
      }
     },
     "metadata": {},
     "output_type": "display_data"
    },
    {
     "data": {
      "text/plain": [
       "'temp-plot.html'"
      ]
     },
     "execution_count": 33,
     "metadata": {},
     "output_type": "execute_result"
    }
   ],
   "source": [
    "import plotly.graph_objects as go\n",
    "from plotly import offline\n",
    "\n",
    "fig = go.Figure()\n",
    "\n",
    "for unique_model in unique_models:\n",
    "    \n",
    "    model_mean_df = mean_df.loc[unique_model]\n",
    "    \n",
    "    fig.add_trace(go.Scatterpolar(\n",
    "          r=model_mean_df[\"score_\"],\n",
    "          theta=model_mean_df[\"eval_dataset\"],\n",
    "          fill='toself',\n",
    "          name=unique_model\n",
    "    ))\n",
    "\n",
    "fig.update_layout(\n",
    "  polar=dict(\n",
    "    radialaxis=dict(\n",
    "      visible=True,\n",
    "      range=[0, 10]\n",
    "    )),\n",
    "  showlegend=True\n",
    ")\n",
    "\n",
    "fig.show()\n",
    "# offline.plot(fig)\n"
   ]
  },
  {
   "cell_type": "code",
   "execution_count": null,
   "id": "d767e9f6-3a28-438d-a027-03eccf96b034",
   "metadata": {},
   "outputs": [],
   "source": []
  }
 ],
 "metadata": {
  "environment": {
   "kernel": "python3",
   "name": "common-cpu.m118",
   "type": "gcloud",
   "uri": "us-docker.pkg.dev/deeplearning-platform-release/gcr.io/base-cpu:m118"
  },
  "kernelspec": {
   "display_name": "eval",
   "language": "python",
   "name": "python3"
  },
  "language_info": {
   "codemirror_mode": {
    "name": "ipython",
    "version": 3
   },
   "file_extension": ".py",
   "mimetype": "text/x-python",
   "name": "python",
   "nbconvert_exporter": "python",
   "pygments_lexer": "ipython3",
   "version": "3.11.11"
  }
 },
 "nbformat": 4,
 "nbformat_minor": 5
}
