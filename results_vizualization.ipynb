{
 "cells": [
  {
   "cell_type": "code",
   "execution_count": 47,
   "id": "f7159e3b-518d-4e56-86af-7c8a25c7adcd",
   "metadata": {
    "tags": []
   },
   "outputs": [],
   "source": [
    "from glob import glob\n",
    "import pandas as pd\n",
    "import os\n",
    "import json\n",
    "import re\n",
    "from math import log\n",
    "from IPython.display import display\n",
    "import plotly.graph_objects as go\n",
    "import plotly.express as px\n",
    "from plotly.subplots import make_subplots\n",
    "import matplotlib.pyplot as plt\n",
    "import seaborn as sns\n",
    "import numpy as np\n",
    "\n",
    "GRAPHS_DIR = \"./assets/results\""
   ]
  },
  {
   "cell_type": "code",
   "execution_count": 48,
   "id": "7c8b2533",
   "metadata": {},
   "outputs": [
    {
     "name": "stdout",
     "output_type": "stream",
     "text": [
      "Available groups:\n",
      "24B - 32B Model Range\n",
      "9B - 14B Model Range\n",
      "4B - 8B Model Range\n",
      "200M - 3B Model Range\n",
      "all\n",
      "references\n"
     ]
    }
   ],
   "source": [
    "# ============================================================================\n",
    "# == View Configuration\n",
    "# ============================================================================\n",
    "# This cell dynamically lists the available model groups from your organize_views.py script.\n",
    "from organize_views import MODEL_GROUPS\n",
    "try:\n",
    "    OPTION_LIST = list(MODEL_GROUPS.keys()) + [\"all\", \"references\"]\n",
    "    print(\"Available groups:\")\n",
    "    for group in OPTION_LIST:\n",
    "        print(f\"{group}\")\n",
    "except ImportError:\n",
    "    options_comment = \"# organize_views.py not found. Please enter group name manually.\"\n",
    "    print(\"Warning: Could not import from organize_views.py. Available groups will not be listed.\")"
   ]
  },
  {
   "cell_type": "code",
   "execution_count": null,
   "id": "886557d3",
   "metadata": {},
   "outputs": [],
   "source": [
    "# --- View Configuration ---\n",
    "# Options:\n",
    "#   \"all\" : Loads all results from the main ./data directory.\n",
    "#   \"references\" : Loads only the reference models from ./data/views/references.\n",
    "#   \"24B - 32B Model Range\" : Loads a specific group from ./data/views/groups/.\n",
    "\n",
    "VIEW_TO_LOAD = \"9B - 14B Model Range\""
   ]
  },
  {
   "cell_type": "code",
   "execution_count": 50,
   "id": "bda9b531",
   "metadata": {},
   "outputs": [],
   "source": [
    "# Check if VIEW_TO_LOAD starts witha  lowercase letter\n",
    "if VIEW_TO_LOAD and VIEW_TO_LOAD[0].islower():\n",
    "    MODEL_RANGE_GROUP = VIEW_TO_LOAD[0].upper() + VIEW_TO_LOAD[1:]\n",
    "else:\n",
    "    MODEL_RANGE_GROUP = VIEW_TO_LOAD"
   ]
  },
  {
   "cell_type": "code",
   "execution_count": 51,
   "id": "87e4af85",
   "metadata": {},
   "outputs": [
    {
     "name": "stdout",
     "output_type": "stream",
     "text": [
      "Loading group '4B - 8B Model Range' from: ./data/views/groups/4B - 8B Model Range\n",
      "Also loading reference models from: ./data/views/references\n"
     ]
    }
   ],
   "source": [
    "# --- Build paths based on the selected view ---\n",
    "model_result_paths = []\n",
    "reference_path = \"./data/views/references\"\n",
    "\n",
    "if VIEW_TO_LOAD.lower() == \"all\":\n",
    "    base_path = \"./data\"\n",
    "    print(\"Loading all results from the main ./data directory...\")\n",
    "    if os.path.exists(base_path):\n",
    "        model_result_paths.extend(glob(os.path.join(base_path, \"judgements\", \"judge_*\", \"*\", \"*.json\")))\n",
    "        model_result_paths.extend(glob(os.path.join(base_path, \"judgements\", \"metrics\", \"*\", \"*.csv\")))\n",
    "    else:\n",
    "        print(f\"Warning: Main data directory not found at {base_path}\")\n",
    "\n",
    "elif VIEW_TO_LOAD.lower() == \"references\":\n",
    "    print(f\"Loading reference models from: {reference_path}\")\n",
    "    if os.path.exists(reference_path):\n",
    "        model_result_paths.extend(glob(os.path.join(reference_path, \"judgements\", \"judge_*\", \"*\", \"*.json\")))\n",
    "        model_result_paths.extend(glob(os.path.join(reference_path, \"judgements\", \"metrics\", \"*\", \"*.csv\")))\n",
    "    else:\n",
    "        print(f\"Warning: References directory not found at {reference_path}\")\n",
    "\n",
    "else: # This handles specific group views\n",
    "    group_path = f\"./data/views/groups/{VIEW_TO_LOAD}\"\n",
    "    print(f\"Loading group '{VIEW_TO_LOAD}' from: {group_path}\")\n",
    "    print(f\"Also loading reference models from: {reference_path}\")\n",
    "    \n",
    "    # Load files from the specified group directory\n",
    "    if os.path.exists(group_path):\n",
    "        model_result_paths.extend(glob(os.path.join(group_path, \"judgements\", \"judge_*\", \"*\", \"*.json\")))\n",
    "        model_result_paths.extend(glob(os.path.join(group_path, \"judgements\", \"metrics\", \"*\", \"*.csv\")))\n",
    "    else:\n",
    "        print(f\"Warning: Group directory not found: {group_path}. Please run organize_views.py first.\")\n",
    "        \n",
    "    # Also load files from the references directory\n",
    "    if os.path.exists(reference_path):\n",
    "        model_result_paths.extend(glob(os.path.join(reference_path, \"judgements\", \"judge_*\", \"*\", \"*.json\")))\n",
    "        model_result_paths.extend(glob(os.path.join(reference_path, \"judgements\", \"metrics\", \"*\", \"*.csv\")))\n",
    "    else:\n",
    "        print(f\"Warning: References directory not found at {reference_path}. Cannot include reference models.\")\n",
    "\n",
    "# Remove duplicate file paths that might occur if a model is in both a group and references\n",
    "model_result_paths = sorted(list(set(model_result_paths)))\n",
    "\n",
    "if not model_result_paths:\n",
    "    print(f\"Warning: No result files found for the selected view: '{VIEW_TO_LOAD}'\")\n"
   ]
  },
  {
   "cell_type": "code",
   "execution_count": 52,
   "id": "51e02ab0",
   "metadata": {},
   "outputs": [],
   "source": [
    "eval_dataset_dict = {\n",
    "    \"elyza__ELYZA-tasks-100\": \"ELYZA-Tasks\",\n",
    "    \"yuzuai__rakuda-questions\": \"Rakuda\",\n",
    "    \"lightblue__tengu_bench\": \"Tengu-Bench\",\n",
    "    \"shisa-ai__ja-mt-bench-1shot\": \"MT-Bench\",\n",
    "    \"lmg-anon__VNTL-v3.1-1k\": \"VNTL-Translation\"\n",
    "}\n",
    "\n",
    "eval_dataset_map = {name: None for name in eval_dataset_dict.values()}"
   ]
  },
  {
   "cell_type": "code",
   "execution_count": 53,
   "id": "2cae7633",
   "metadata": {},
   "outputs": [],
   "source": [
    "def get_eval_dataset_dict():\n",
    "    base_path = './data/model_answers'\n",
    "    dataset_dirs = [d for d in os.listdir(base_path) if os.path.isdir(os.path.join(base_path, d))]\n",
    "    dataset_dict = {}\n",
    "    for dataset in dataset_dirs:\n",
    "        dataset_path = os.path.join(base_path, dataset)\n",
    "        first_file = next((f for f in os.listdir(dataset_path) if os.path.isfile(os.path.join(dataset_path, f))), None)\n",
    "        if first_file:\n",
    "            fpath = os.path.join(dataset_path, first_file)\n",
    "            with open(fpath, encoding='utf-8') as f:\n",
    "                total_lines = sum(1 for _ in f)\n",
    "            label = eval_dataset_dict.get(dataset, dataset)\n",
    "            \n",
    "            dataset_dict[dataset] = f\"{label}-{total_lines}\"\n",
    "            eval_dataset_map[label] = f\"{label}-{total_lines}\"\n",
    "        else:\n",
    "            dataset_dict[dataset] = dataset\n",
    "    return dataset_dict\n",
    "\n",
    "eval_dataset_dict = get_eval_dataset_dict()"
   ]
  },
  {
   "cell_type": "code",
   "execution_count": 54,
   "id": "9221fdf4",
   "metadata": {},
   "outputs": [],
   "source": [
    "eval_datasets = list(eval_dataset_dict.values())"
   ]
  },
  {
   "cell_type": "code",
   "execution_count": 55,
   "id": "fe36503f-515f-4e29-b58f-81b1684734b0",
   "metadata": {
    "tags": []
   },
   "outputs": [],
   "source": [
    "all_result_dfs = []\n",
    "\n",
    "vntl_score_columns = [\n",
    "    \"score_accuracy\", \"score_fluency\", \"score_character_voice\", \n",
    "    \"score_tone\", \"score_localization\", \"score_direction_following\"\n",
    "]\n",
    "\n",
    "for model_result_path in model_result_paths:\n",
    "    path_parts = model_result_path.split(os.sep)\n",
    "    \n",
    "    try:\n",
    "        if model_result_path.endswith('.json'):\n",
    "            df = pd.read_json(model_result_path, lines=True)\n",
    "            df[\"judge_model\"] = path_parts[-3]\n",
    "            df[\"eval_dataset\"] = eval_dataset_dict.get(path_parts[-2], path_parts[-2])\n",
    "            df[\"model_name\"] = path_parts[-1].replace(\".json\", \"\")\n",
    "\n",
    "            # Check if this is a VNTL multi-score file\n",
    "            if all(col in df.columns for col in vntl_score_columns):\n",
    "                df['score'] = df[vntl_score_columns].mean(axis=1)\n",
    "                temp_df = df\n",
    "            else:\n",
    "                # Use the existing 'score' column for other benchmarks\n",
    "                temp_df = df\n",
    "\n",
    "        elif model_result_path.endswith('.csv'):\n",
    "            temp_df = pd.read_csv(model_result_path)\n",
    "            temp_df['score'] = temp_df['bleu'] / 10.0\n",
    "            temp_df[\"judge_model\"] = 'Metrics (BLEU/chrF)'\n",
    "            temp_df[\"eval_dataset\"] = eval_dataset_dict.get(path_parts[-2], path_parts[-2])\n",
    "            temp_df[\"model_name\"] = path_parts[-1].replace(\".csv\", \"\")\n",
    "\n",
    "        if 'temp_df' in locals() and temp_df is not None:\n",
    "            all_result_dfs.append(temp_df)\n",
    "            \n",
    "    except Exception as e:\n",
    "        print(f\"Skipping file due to error: {model_result_path} -> {e}\")\n"
   ]
  },
  {
   "cell_type": "code",
   "execution_count": 56,
   "id": "8d63791e",
   "metadata": {},
   "outputs": [
    {
     "name": "stdout",
     "output_type": "stream",
     "text": [
      "Combined results saved to output.csv\n"
     ]
    }
   ],
   "source": [
    "# Consolidate and clean the final DataFrame\n",
    "all_result_df = pd.concat(all_result_dfs, ignore_index=True)\n",
    "all_result_df['score'] = pd.to_numeric(all_result_df['score'], errors='coerce')\n",
    "all_result_df.dropna(subset=['score'], inplace=True)\n",
    "all_result_df.to_csv(\"output.csv\", index=False)\n",
    "print(\"Combined results saved to output.csv\")"
   ]
  },
  {
   "cell_type": "code",
   "execution_count": 57,
   "id": "56ae39c5",
   "metadata": {},
   "outputs": [
    {
     "name": "stdout",
     "output_type": "stream",
     "text": [
      "Max score for ELYZA before scaling: 5.00\n",
      "Max score for ELYZA after scaling: 10.00\n"
     ]
    }
   ],
   "source": [
    "# Scale ELYZA scores to be on a 10-point scale instead of 5\n",
    "# The .loc accessor is used to select the correct rows and multiply the 'score'\n",
    "\n",
    "if 'ELYZA-Tasks' in eval_dataset_map:\n",
    "    ELYZA_NAME = eval_dataset_map[\"ELYZA-Tasks\"]\n",
    "    print(f\"Max score for ELYZA before scaling: {all_result_df.loc[all_result_df['eval_dataset'] == ELYZA_NAME, 'score'].max():.2f}\")\n",
    "    # Scale ELYZA scores to be on a 10-point scale\n",
    "    all_result_df.loc[all_result_df['eval_dataset'] == ELYZA_NAME, 'score'] *= 2\n",
    "    print(f\"Max score for ELYZA after scaling: {all_result_df.loc[all_result_df['eval_dataset'] == ELYZA_NAME, 'score'].max():.2f}\")\n"
   ]
  },
  {
   "cell_type": "code",
   "execution_count": 58,
   "id": "2b1aa2c1",
   "metadata": {},
   "outputs": [
    {
     "name": "stdout",
     "output_type": "stream",
     "text": [
      "['#66c5cc', '#FF6692', '#AB63FA', '#FF97FF', '#9eb9f3', '#f89c74', '#B6E880', '#dcb0f2', '#b3b3b3', '#EF553B', '#87c55f', '#FECB52', '#b497e7', '#19D3F3', '#c9db74', '#fe88b1', '#FFA15A', '#00CC96', '#f6cf71', '#636EFA', '#8be0a4']\n",
      "{'gpt-4o': '#66c5cc', 'gemini-2.0-flash-lite': '#FF6692', 'gemma-3-12b-it': '#AB63FA', 'qwen3-8b': '#FF97FF', 'gemma-3n-e4b-it': '#9eb9f3', 'shisa-v2-llama3.1-8b': '#f89c74', 'shisa-v2-qwen2.5-7b': '#B6E880', 'aya-expanse-8b-abliterated': '#dcb0f2', 'gemma-3-4b': '#b3b3b3', 'qwen2.5-7b-instruct': '#EF553B', 'deepcogito_cogito-v1-preview-llama-8b': '#87c55f', 'llama-3.1-8b-instruct': '#FECB52', 'granite-3.3-8b-instruct': '#b497e7', 'internvl3_5-8b': '#19D3F3', 'hunyuan-mt-7b': '#c9db74', 'dolphin3.0-llama3.1-8b': '#fe88b1', 'hunyuan-mt-chimera-7b': '#FFA15A', 'internvl3_5-4b': '#00CC96', 'aixsatoshi-honyaku-multi-translator-swallow-ms7b': '#f6cf71'}\n",
      "Global model order and color map created.\n"
     ]
    }
   ],
   "source": [
    "model_order = all_result_df.groupby('model_name')['score'].mean().sort_values(ascending=False).index.tolist()\n",
    "color_sequence = px.colors.qualitative.Plotly + px.colors.qualitative.Pastel\n",
    "color_sequence = list(set(color_sequence))\n",
    "\n",
    "# Convert rgb colors to hex format if necessary for each color in the sequence if it isn't already hex\n",
    "def rgb_to_hex(rgb_str):\n",
    "    import re\n",
    "    match = re.match(r\"rgb\\((\\d+),\\s*(\\d+),\\s*(\\d+)\\)\", rgb_str)\n",
    "    if match:\n",
    "        r, g, b = map(int, match.groups())\n",
    "        return '#{:02x}{:02x}{:02x}'.format(r, g, b)\n",
    "    return rgb_str\n",
    "\n",
    "color_sequence = [\n",
    "    rgb_to_hex(color) if isinstance(color, str) and color.startswith('rgb') else color\n",
    "    for color in color_sequence\n",
    "]\n",
    "\n",
    "print(color_sequence)\n",
    "color_map = {model: color_sequence[i % len(color_sequence)] for i, model in enumerate(model_order)}\n",
    "print(color_map)\n",
    "print(\"Global model order and color map created.\")"
   ]
  },
  {
   "cell_type": "code",
   "execution_count": 59,
   "id": "7afc4168",
   "metadata": {},
   "outputs": [
    {
     "data": {
      "text/html": [
       "<div>\n",
       "<style scoped>\n",
       "    .dataframe tbody tr th:only-of-type {\n",
       "        vertical-align: middle;\n",
       "    }\n",
       "\n",
       "    .dataframe tbody tr th {\n",
       "        vertical-align: top;\n",
       "    }\n",
       "\n",
       "    .dataframe thead th {\n",
       "        text-align: right;\n",
       "    }\n",
       "</style>\n",
       "<table border=\"1\" class=\"dataframe\">\n",
       "  <thead>\n",
       "    <tr style=\"text-align: right;\">\n",
       "      <th>bench_judge_label</th>\n",
       "      <th>ELYZA 100 (judge_gpt-4.1)</th>\n",
       "      <th>ELYZA 100 (judge_gpt-5-mini)</th>\n",
       "      <th>JA-MT (judge_gpt-4.1)</th>\n",
       "      <th>JA-MT (judge_gpt-5-mini)</th>\n",
       "      <th>Rakuda (judge_gpt-4.1)</th>\n",
       "      <th>Rakuda (judge_gpt-5-mini)</th>\n",
       "      <th>Tengu (judge_gpt-4.1)</th>\n",
       "      <th>Tengu (judge_gpt-5-mini)</th>\n",
       "      <th>VNTL (judge_gpt-4.1)</th>\n",
       "      <th>VNTL (judge_gpt-5-mini)</th>\n",
       "      <th>Average (All)</th>\n",
       "    </tr>\n",
       "    <tr>\n",
       "      <th>model_name</th>\n",
       "      <th></th>\n",
       "      <th></th>\n",
       "      <th></th>\n",
       "      <th></th>\n",
       "      <th></th>\n",
       "      <th></th>\n",
       "      <th></th>\n",
       "      <th></th>\n",
       "      <th></th>\n",
       "      <th></th>\n",
       "      <th></th>\n",
       "    </tr>\n",
       "  </thead>\n",
       "  <tbody>\n",
       "    <tr>\n",
       "      <th>gpt-4o</th>\n",
       "      <td>9.22</td>\n",
       "      <td>9.14</td>\n",
       "      <td>9.32</td>\n",
       "      <td>8.20</td>\n",
       "      <td>9.90</td>\n",
       "      <td>8.07</td>\n",
       "      <td>8.52</td>\n",
       "      <td>8.42</td>\n",
       "      <td>8.28</td>\n",
       "      <td>8.30</td>\n",
       "      <td>8.74</td>\n",
       "    </tr>\n",
       "    <tr>\n",
       "      <th>gemini-2.0-flash-lite</th>\n",
       "      <td>8.30</td>\n",
       "      <td>8.02</td>\n",
       "      <td>8.58</td>\n",
       "      <td>7.43</td>\n",
       "      <td>9.60</td>\n",
       "      <td>7.62</td>\n",
       "      <td>7.67</td>\n",
       "      <td>7.81</td>\n",
       "      <td>7.38</td>\n",
       "      <td>7.68</td>\n",
       "      <td>8.01</td>\n",
       "    </tr>\n",
       "    <tr>\n",
       "      <th>gemma-3-12b-it</th>\n",
       "      <td>8.62</td>\n",
       "      <td>7.94</td>\n",
       "      <td>8.67</td>\n",
       "      <td>7.12</td>\n",
       "      <td>8.62</td>\n",
       "      <td>6.58</td>\n",
       "      <td>7.44</td>\n",
       "      <td>7.33</td>\n",
       "      <td>7.07</td>\n",
       "      <td>7.37</td>\n",
       "      <td>7.67</td>\n",
       "    </tr>\n",
       "    <tr>\n",
       "      <th>qwen3-8b</th>\n",
       "      <td>8.40</td>\n",
       "      <td>7.30</td>\n",
       "      <td>9.03</td>\n",
       "      <td>7.05</td>\n",
       "      <td>7.62</td>\n",
       "      <td>5.65</td>\n",
       "      <td>7.81</td>\n",
       "      <td>7.68</td>\n",
       "      <td>6.40</td>\n",
       "      <td>6.39</td>\n",
       "      <td>7.33</td>\n",
       "    </tr>\n",
       "    <tr>\n",
       "      <th>gemma-3n-e4b-it</th>\n",
       "      <td>7.24</td>\n",
       "      <td>6.78</td>\n",
       "      <td>8.62</td>\n",
       "      <td>6.97</td>\n",
       "      <td>8.40</td>\n",
       "      <td>6.67</td>\n",
       "      <td>5.97</td>\n",
       "      <td>6.12</td>\n",
       "      <td>7.25</td>\n",
       "      <td>7.69</td>\n",
       "      <td>7.17</td>\n",
       "    </tr>\n",
       "    <tr>\n",
       "      <th>shisa-v2-llama3.1-8b</th>\n",
       "      <td>7.76</td>\n",
       "      <td>7.32</td>\n",
       "      <td>7.82</td>\n",
       "      <td>6.15</td>\n",
       "      <td>8.50</td>\n",
       "      <td>6.49</td>\n",
       "      <td>6.77</td>\n",
       "      <td>6.68</td>\n",
       "      <td>6.96</td>\n",
       "      <td>6.81</td>\n",
       "      <td>7.12</td>\n",
       "    </tr>\n",
       "    <tr>\n",
       "      <th>shisa-v2-qwen2.5-7b</th>\n",
       "      <td>7.82</td>\n",
       "      <td>7.40</td>\n",
       "      <td>7.70</td>\n",
       "      <td>6.20</td>\n",
       "      <td>7.67</td>\n",
       "      <td>5.82</td>\n",
       "      <td>7.00</td>\n",
       "      <td>7.04</td>\n",
       "      <td>6.64</td>\n",
       "      <td>6.68</td>\n",
       "      <td>7.00</td>\n",
       "    </tr>\n",
       "    <tr>\n",
       "      <th>aya-expanse-8b-abliterated</th>\n",
       "      <td>7.44</td>\n",
       "      <td>6.82</td>\n",
       "      <td>7.73</td>\n",
       "      <td>6.02</td>\n",
       "      <td>8.40</td>\n",
       "      <td>6.03</td>\n",
       "      <td>6.61</td>\n",
       "      <td>6.60</td>\n",
       "      <td>6.28</td>\n",
       "      <td>6.66</td>\n",
       "      <td>6.86</td>\n",
       "    </tr>\n",
       "    <tr>\n",
       "      <th>gemma-3-4b</th>\n",
       "      <td>7.42</td>\n",
       "      <td>6.72</td>\n",
       "      <td>7.92</td>\n",
       "      <td>6.00</td>\n",
       "      <td>7.45</td>\n",
       "      <td>5.62</td>\n",
       "      <td>6.40</td>\n",
       "      <td>6.21</td>\n",
       "      <td>6.67</td>\n",
       "      <td>6.42</td>\n",
       "      <td>6.68</td>\n",
       "    </tr>\n",
       "    <tr>\n",
       "      <th>qwen2.5-7b-instruct</th>\n",
       "      <td>7.62</td>\n",
       "      <td>6.96</td>\n",
       "      <td>6.85</td>\n",
       "      <td>5.47</td>\n",
       "      <td>7.55</td>\n",
       "      <td>5.83</td>\n",
       "      <td>6.97</td>\n",
       "      <td>6.82</td>\n",
       "      <td>5.99</td>\n",
       "      <td>6.56</td>\n",
       "      <td>6.66</td>\n",
       "    </tr>\n",
       "    <tr>\n",
       "      <th>deepcogito_cogito-v1-preview-llama-8b</th>\n",
       "      <td>7.20</td>\n",
       "      <td>6.36</td>\n",
       "      <td>7.02</td>\n",
       "      <td>5.53</td>\n",
       "      <td>6.33</td>\n",
       "      <td>4.95</td>\n",
       "      <td>6.55</td>\n",
       "      <td>6.46</td>\n",
       "      <td>6.15</td>\n",
       "      <td>6.56</td>\n",
       "      <td>6.31</td>\n",
       "    </tr>\n",
       "    <tr>\n",
       "      <th>granite-3.3-8b-instruct</th>\n",
       "      <td>6.76</td>\n",
       "      <td>6.06</td>\n",
       "      <td>6.73</td>\n",
       "      <td>5.18</td>\n",
       "      <td>6.03</td>\n",
       "      <td>4.75</td>\n",
       "      <td>6.07</td>\n",
       "      <td>6.03</td>\n",
       "      <td>5.77</td>\n",
       "      <td>6.25</td>\n",
       "      <td>5.96</td>\n",
       "    </tr>\n",
       "    <tr>\n",
       "      <th>llama-3.1-8b-instruct</th>\n",
       "      <td>7.44</td>\n",
       "      <td>6.62</td>\n",
       "      <td>5.73</td>\n",
       "      <td>4.57</td>\n",
       "      <td>5.75</td>\n",
       "      <td>4.64</td>\n",
       "      <td>6.38</td>\n",
       "      <td>6.19</td>\n",
       "      <td>5.89</td>\n",
       "      <td>6.25</td>\n",
       "      <td>5.95</td>\n",
       "    </tr>\n",
       "    <tr>\n",
       "      <th>internvl3_5-8b</th>\n",
       "      <td>6.74</td>\n",
       "      <td>5.36</td>\n",
       "      <td>5.90</td>\n",
       "      <td>4.62</td>\n",
       "      <td>4.60</td>\n",
       "      <td>3.92</td>\n",
       "      <td>6.33</td>\n",
       "      <td>5.97</td>\n",
       "      <td>6.16</td>\n",
       "      <td>6.55</td>\n",
       "      <td>5.62</td>\n",
       "    </tr>\n",
       "    <tr>\n",
       "      <th>dolphin3.0-llama3.1-8b</th>\n",
       "      <td>6.36</td>\n",
       "      <td>5.62</td>\n",
       "      <td>6.18</td>\n",
       "      <td>4.63</td>\n",
       "      <td>5.72</td>\n",
       "      <td>4.36</td>\n",
       "      <td>5.49</td>\n",
       "      <td>5.59</td>\n",
       "      <td>5.93</td>\n",
       "      <td>5.99</td>\n",
       "      <td>5.59</td>\n",
       "    </tr>\n",
       "    <tr>\n",
       "      <th>hunyuan-mt-7b</th>\n",
       "      <td>5.90</td>\n",
       "      <td>5.42</td>\n",
       "      <td>5.37</td>\n",
       "      <td>4.60</td>\n",
       "      <td>5.70</td>\n",
       "      <td>4.70</td>\n",
       "      <td>5.12</td>\n",
       "      <td>5.35</td>\n",
       "      <td>6.35</td>\n",
       "      <td>6.47</td>\n",
       "      <td>5.50</td>\n",
       "    </tr>\n",
       "    <tr>\n",
       "      <th>hunyuan-mt-chimera-7b</th>\n",
       "      <td>5.42</td>\n",
       "      <td>4.82</td>\n",
       "      <td>5.12</td>\n",
       "      <td>4.23</td>\n",
       "      <td>5.22</td>\n",
       "      <td>4.53</td>\n",
       "      <td>4.80</td>\n",
       "      <td>4.86</td>\n",
       "      <td>6.57</td>\n",
       "      <td>6.58</td>\n",
       "      <td>5.21</td>\n",
       "    </tr>\n",
       "    <tr>\n",
       "      <th>internvl3_5-4b</th>\n",
       "      <td>6.30</td>\n",
       "      <td>4.94</td>\n",
       "      <td>4.92</td>\n",
       "      <td>4.05</td>\n",
       "      <td>3.60</td>\n",
       "      <td>3.21</td>\n",
       "      <td>5.56</td>\n",
       "      <td>5.09</td>\n",
       "      <td>5.47</td>\n",
       "      <td>5.69</td>\n",
       "      <td>4.88</td>\n",
       "    </tr>\n",
       "    <tr>\n",
       "      <th>aixsatoshi-honyaku-multi-translator-swallow-ms7b</th>\n",
       "      <td>4.08</td>\n",
       "      <td>3.66</td>\n",
       "      <td>3.05</td>\n",
       "      <td>2.77</td>\n",
       "      <td>4.33</td>\n",
       "      <td>4.08</td>\n",
       "      <td>2.64</td>\n",
       "      <td>2.99</td>\n",
       "      <td>4.96</td>\n",
       "      <td>2.81</td>\n",
       "      <td>3.54</td>\n",
       "    </tr>\n",
       "  </tbody>\n",
       "</table>\n",
       "</div>"
      ],
      "text/plain": [
       "bench_judge_label                                ELYZA 100 (judge_gpt-4.1)  \\\n",
       "model_name                                                                   \n",
       "gpt-4o                                                                9.22   \n",
       "gemini-2.0-flash-lite                                                 8.30   \n",
       "gemma-3-12b-it                                                        8.62   \n",
       "qwen3-8b                                                              8.40   \n",
       "gemma-3n-e4b-it                                                       7.24   \n",
       "shisa-v2-llama3.1-8b                                                  7.76   \n",
       "shisa-v2-qwen2.5-7b                                                   7.82   \n",
       "aya-expanse-8b-abliterated                                            7.44   \n",
       "gemma-3-4b                                                            7.42   \n",
       "qwen2.5-7b-instruct                                                   7.62   \n",
       "deepcogito_cogito-v1-preview-llama-8b                                 7.20   \n",
       "granite-3.3-8b-instruct                                               6.76   \n",
       "llama-3.1-8b-instruct                                                 7.44   \n",
       "internvl3_5-8b                                                        6.74   \n",
       "dolphin3.0-llama3.1-8b                                                6.36   \n",
       "hunyuan-mt-7b                                                         5.90   \n",
       "hunyuan-mt-chimera-7b                                                 5.42   \n",
       "internvl3_5-4b                                                        6.30   \n",
       "aixsatoshi-honyaku-multi-translator-swallow-ms7b                      4.08   \n",
       "\n",
       "bench_judge_label                                ELYZA 100 (judge_gpt-5-mini)  \\\n",
       "model_name                                                                      \n",
       "gpt-4o                                                                   9.14   \n",
       "gemini-2.0-flash-lite                                                    8.02   \n",
       "gemma-3-12b-it                                                           7.94   \n",
       "qwen3-8b                                                                 7.30   \n",
       "gemma-3n-e4b-it                                                          6.78   \n",
       "shisa-v2-llama3.1-8b                                                     7.32   \n",
       "shisa-v2-qwen2.5-7b                                                      7.40   \n",
       "aya-expanse-8b-abliterated                                               6.82   \n",
       "gemma-3-4b                                                               6.72   \n",
       "qwen2.5-7b-instruct                                                      6.96   \n",
       "deepcogito_cogito-v1-preview-llama-8b                                    6.36   \n",
       "granite-3.3-8b-instruct                                                  6.06   \n",
       "llama-3.1-8b-instruct                                                    6.62   \n",
       "internvl3_5-8b                                                           5.36   \n",
       "dolphin3.0-llama3.1-8b                                                   5.62   \n",
       "hunyuan-mt-7b                                                            5.42   \n",
       "hunyuan-mt-chimera-7b                                                    4.82   \n",
       "internvl3_5-4b                                                           4.94   \n",
       "aixsatoshi-honyaku-multi-translator-swallow-ms7b                         3.66   \n",
       "\n",
       "bench_judge_label                                JA-MT (judge_gpt-4.1)  \\\n",
       "model_name                                                               \n",
       "gpt-4o                                                            9.32   \n",
       "gemini-2.0-flash-lite                                             8.58   \n",
       "gemma-3-12b-it                                                    8.67   \n",
       "qwen3-8b                                                          9.03   \n",
       "gemma-3n-e4b-it                                                   8.62   \n",
       "shisa-v2-llama3.1-8b                                              7.82   \n",
       "shisa-v2-qwen2.5-7b                                               7.70   \n",
       "aya-expanse-8b-abliterated                                        7.73   \n",
       "gemma-3-4b                                                        7.92   \n",
       "qwen2.5-7b-instruct                                               6.85   \n",
       "deepcogito_cogito-v1-preview-llama-8b                             7.02   \n",
       "granite-3.3-8b-instruct                                           6.73   \n",
       "llama-3.1-8b-instruct                                             5.73   \n",
       "internvl3_5-8b                                                    5.90   \n",
       "dolphin3.0-llama3.1-8b                                            6.18   \n",
       "hunyuan-mt-7b                                                     5.37   \n",
       "hunyuan-mt-chimera-7b                                             5.12   \n",
       "internvl3_5-4b                                                    4.92   \n",
       "aixsatoshi-honyaku-multi-translator-swallow-ms7b                  3.05   \n",
       "\n",
       "bench_judge_label                                JA-MT (judge_gpt-5-mini)  \\\n",
       "model_name                                                                  \n",
       "gpt-4o                                                               8.20   \n",
       "gemini-2.0-flash-lite                                                7.43   \n",
       "gemma-3-12b-it                                                       7.12   \n",
       "qwen3-8b                                                             7.05   \n",
       "gemma-3n-e4b-it                                                      6.97   \n",
       "shisa-v2-llama3.1-8b                                                 6.15   \n",
       "shisa-v2-qwen2.5-7b                                                  6.20   \n",
       "aya-expanse-8b-abliterated                                           6.02   \n",
       "gemma-3-4b                                                           6.00   \n",
       "qwen2.5-7b-instruct                                                  5.47   \n",
       "deepcogito_cogito-v1-preview-llama-8b                                5.53   \n",
       "granite-3.3-8b-instruct                                              5.18   \n",
       "llama-3.1-8b-instruct                                                4.57   \n",
       "internvl3_5-8b                                                       4.62   \n",
       "dolphin3.0-llama3.1-8b                                               4.63   \n",
       "hunyuan-mt-7b                                                        4.60   \n",
       "hunyuan-mt-chimera-7b                                                4.23   \n",
       "internvl3_5-4b                                                       4.05   \n",
       "aixsatoshi-honyaku-multi-translator-swallow-ms7b                     2.77   \n",
       "\n",
       "bench_judge_label                                Rakuda (judge_gpt-4.1)  \\\n",
       "model_name                                                                \n",
       "gpt-4o                                                             9.90   \n",
       "gemini-2.0-flash-lite                                              9.60   \n",
       "gemma-3-12b-it                                                     8.62   \n",
       "qwen3-8b                                                           7.62   \n",
       "gemma-3n-e4b-it                                                    8.40   \n",
       "shisa-v2-llama3.1-8b                                               8.50   \n",
       "shisa-v2-qwen2.5-7b                                                7.67   \n",
       "aya-expanse-8b-abliterated                                         8.40   \n",
       "gemma-3-4b                                                         7.45   \n",
       "qwen2.5-7b-instruct                                                7.55   \n",
       "deepcogito_cogito-v1-preview-llama-8b                              6.33   \n",
       "granite-3.3-8b-instruct                                            6.03   \n",
       "llama-3.1-8b-instruct                                              5.75   \n",
       "internvl3_5-8b                                                     4.60   \n",
       "dolphin3.0-llama3.1-8b                                             5.72   \n",
       "hunyuan-mt-7b                                                      5.70   \n",
       "hunyuan-mt-chimera-7b                                              5.22   \n",
       "internvl3_5-4b                                                     3.60   \n",
       "aixsatoshi-honyaku-multi-translator-swallow-ms7b                   4.33   \n",
       "\n",
       "bench_judge_label                                Rakuda (judge_gpt-5-mini)  \\\n",
       "model_name                                                                   \n",
       "gpt-4o                                                                8.07   \n",
       "gemini-2.0-flash-lite                                                 7.62   \n",
       "gemma-3-12b-it                                                        6.58   \n",
       "qwen3-8b                                                              5.65   \n",
       "gemma-3n-e4b-it                                                       6.67   \n",
       "shisa-v2-llama3.1-8b                                                  6.49   \n",
       "shisa-v2-qwen2.5-7b                                                   5.82   \n",
       "aya-expanse-8b-abliterated                                            6.03   \n",
       "gemma-3-4b                                                            5.62   \n",
       "qwen2.5-7b-instruct                                                   5.83   \n",
       "deepcogito_cogito-v1-preview-llama-8b                                 4.95   \n",
       "granite-3.3-8b-instruct                                               4.75   \n",
       "llama-3.1-8b-instruct                                                 4.64   \n",
       "internvl3_5-8b                                                        3.92   \n",
       "dolphin3.0-llama3.1-8b                                                4.36   \n",
       "hunyuan-mt-7b                                                         4.70   \n",
       "hunyuan-mt-chimera-7b                                                 4.53   \n",
       "internvl3_5-4b                                                        3.21   \n",
       "aixsatoshi-honyaku-multi-translator-swallow-ms7b                      4.08   \n",
       "\n",
       "bench_judge_label                                Tengu (judge_gpt-4.1)  \\\n",
       "model_name                                                               \n",
       "gpt-4o                                                            8.52   \n",
       "gemini-2.0-flash-lite                                             7.67   \n",
       "gemma-3-12b-it                                                    7.44   \n",
       "qwen3-8b                                                          7.81   \n",
       "gemma-3n-e4b-it                                                   5.97   \n",
       "shisa-v2-llama3.1-8b                                              6.77   \n",
       "shisa-v2-qwen2.5-7b                                               7.00   \n",
       "aya-expanse-8b-abliterated                                        6.61   \n",
       "gemma-3-4b                                                        6.40   \n",
       "qwen2.5-7b-instruct                                               6.97   \n",
       "deepcogito_cogito-v1-preview-llama-8b                             6.55   \n",
       "granite-3.3-8b-instruct                                           6.07   \n",
       "llama-3.1-8b-instruct                                             6.38   \n",
       "internvl3_5-8b                                                    6.33   \n",
       "dolphin3.0-llama3.1-8b                                            5.49   \n",
       "hunyuan-mt-7b                                                     5.12   \n",
       "hunyuan-mt-chimera-7b                                             4.80   \n",
       "internvl3_5-4b                                                    5.56   \n",
       "aixsatoshi-honyaku-multi-translator-swallow-ms7b                  2.64   \n",
       "\n",
       "bench_judge_label                                Tengu (judge_gpt-5-mini)  \\\n",
       "model_name                                                                  \n",
       "gpt-4o                                                               8.42   \n",
       "gemini-2.0-flash-lite                                                7.81   \n",
       "gemma-3-12b-it                                                       7.33   \n",
       "qwen3-8b                                                             7.68   \n",
       "gemma-3n-e4b-it                                                      6.12   \n",
       "shisa-v2-llama3.1-8b                                                 6.68   \n",
       "shisa-v2-qwen2.5-7b                                                  7.04   \n",
       "aya-expanse-8b-abliterated                                           6.60   \n",
       "gemma-3-4b                                                           6.21   \n",
       "qwen2.5-7b-instruct                                                  6.82   \n",
       "deepcogito_cogito-v1-preview-llama-8b                                6.46   \n",
       "granite-3.3-8b-instruct                                              6.03   \n",
       "llama-3.1-8b-instruct                                                6.19   \n",
       "internvl3_5-8b                                                       5.97   \n",
       "dolphin3.0-llama3.1-8b                                               5.59   \n",
       "hunyuan-mt-7b                                                        5.35   \n",
       "hunyuan-mt-chimera-7b                                                4.86   \n",
       "internvl3_5-4b                                                       5.09   \n",
       "aixsatoshi-honyaku-multi-translator-swallow-ms7b                     2.99   \n",
       "\n",
       "bench_judge_label                                VNTL (judge_gpt-4.1)  \\\n",
       "model_name                                                              \n",
       "gpt-4o                                                           8.28   \n",
       "gemini-2.0-flash-lite                                            7.38   \n",
       "gemma-3-12b-it                                                   7.07   \n",
       "qwen3-8b                                                         6.40   \n",
       "gemma-3n-e4b-it                                                  7.25   \n",
       "shisa-v2-llama3.1-8b                                             6.96   \n",
       "shisa-v2-qwen2.5-7b                                              6.64   \n",
       "aya-expanse-8b-abliterated                                       6.28   \n",
       "gemma-3-4b                                                       6.67   \n",
       "qwen2.5-7b-instruct                                              5.99   \n",
       "deepcogito_cogito-v1-preview-llama-8b                            6.15   \n",
       "granite-3.3-8b-instruct                                          5.77   \n",
       "llama-3.1-8b-instruct                                            5.89   \n",
       "internvl3_5-8b                                                   6.16   \n",
       "dolphin3.0-llama3.1-8b                                           5.93   \n",
       "hunyuan-mt-7b                                                    6.35   \n",
       "hunyuan-mt-chimera-7b                                            6.57   \n",
       "internvl3_5-4b                                                   5.47   \n",
       "aixsatoshi-honyaku-multi-translator-swallow-ms7b                 4.96   \n",
       "\n",
       "bench_judge_label                                VNTL (judge_gpt-5-mini)  \\\n",
       "model_name                                                                 \n",
       "gpt-4o                                                              8.30   \n",
       "gemini-2.0-flash-lite                                               7.68   \n",
       "gemma-3-12b-it                                                      7.37   \n",
       "qwen3-8b                                                            6.39   \n",
       "gemma-3n-e4b-it                                                     7.69   \n",
       "shisa-v2-llama3.1-8b                                                6.81   \n",
       "shisa-v2-qwen2.5-7b                                                 6.68   \n",
       "aya-expanse-8b-abliterated                                          6.66   \n",
       "gemma-3-4b                                                          6.42   \n",
       "qwen2.5-7b-instruct                                                 6.56   \n",
       "deepcogito_cogito-v1-preview-llama-8b                               6.56   \n",
       "granite-3.3-8b-instruct                                             6.25   \n",
       "llama-3.1-8b-instruct                                               6.25   \n",
       "internvl3_5-8b                                                      6.55   \n",
       "dolphin3.0-llama3.1-8b                                              5.99   \n",
       "hunyuan-mt-7b                                                       6.47   \n",
       "hunyuan-mt-chimera-7b                                               6.58   \n",
       "internvl3_5-4b                                                      5.69   \n",
       "aixsatoshi-honyaku-multi-translator-swallow-ms7b                    2.81   \n",
       "\n",
       "bench_judge_label                                Average (All)  \n",
       "model_name                                                      \n",
       "gpt-4o                                                    8.74  \n",
       "gemini-2.0-flash-lite                                     8.01  \n",
       "gemma-3-12b-it                                            7.67  \n",
       "qwen3-8b                                                  7.33  \n",
       "gemma-3n-e4b-it                                           7.17  \n",
       "shisa-v2-llama3.1-8b                                      7.12  \n",
       "shisa-v2-qwen2.5-7b                                       7.00  \n",
       "aya-expanse-8b-abliterated                                6.86  \n",
       "gemma-3-4b                                                6.68  \n",
       "qwen2.5-7b-instruct                                       6.66  \n",
       "deepcogito_cogito-v1-preview-llama-8b                     6.31  \n",
       "granite-3.3-8b-instruct                                   5.96  \n",
       "llama-3.1-8b-instruct                                     5.95  \n",
       "internvl3_5-8b                                            5.62  \n",
       "dolphin3.0-llama3.1-8b                                    5.59  \n",
       "hunyuan-mt-7b                                             5.50  \n",
       "hunyuan-mt-chimera-7b                                     5.21  \n",
       "internvl3_5-4b                                            4.88  \n",
       "aixsatoshi-honyaku-multi-translator-swallow-ms7b          3.54  "
      ]
     },
     "metadata": {},
     "output_type": "display_data"
    },
    {
     "name": "stdout",
     "output_type": "stream",
     "text": [
      "Detailed pivot table summary saved to summary_output.csv\n"
     ]
    }
   ],
   "source": [
    "# --- Create a detailed summary pivot table ---\n",
    "def get_bench_label(bench):\n",
    "    if 'elyza' in bench.lower(): return 'ELYZA 100'\n",
    "    if 'mt-bench' in bench.lower(): return 'JA-MT'\n",
    "    if 'rakuda' in bench.lower(): return 'Rakuda'\n",
    "    if 'tengu' in bench.lower(): return 'Tengu'\n",
    "    if 'vntl' in bench.lower(): return 'VNTL' # Added for new benchmark\n",
    "    return bench\n",
    "\n",
    "all_result_df['bench_label'] = all_result_df['eval_dataset'].apply(get_bench_label)\n",
    "all_result_df['bench_judge_label'] = all_result_df['bench_label'] + ' (' + all_result_df['judge_model'] + ')'\n",
    "\n",
    "pivot = all_result_df.pivot_table(\n",
    "    index='model_name',\n",
    "    columns='bench_judge_label',\n",
    "    values='score',\n",
    "    aggfunc='mean'\n",
    ")\n",
    "pivot['Average (All)'] = pivot.mean(axis=1)\n",
    "col_order = sorted([col for col in pivot.columns if col != 'Average (All)']) + ['Average (All)']\n",
    "pivot = pivot[col_order].sort_values(by='Average (All)', ascending=False)\n",
    "\n",
    "float_cols = pivot.select_dtypes(include=['float', 'float64']).columns\n",
    "for col in float_cols:\n",
    "    pivot[col] = pivot[col].apply(lambda x: format(x, '.2f') if pd.notnull(x) else '')\n",
    "\n",
    "display(pivot)\n",
    "pivot.to_csv('summary_output.csv', index=True, quoting=1)\n",
    "print(\"Detailed pivot table summary saved to summary_output.csv\")\n"
   ]
  },
  {
   "cell_type": "code",
   "execution_count": 60,
   "id": "1a989b72",
   "metadata": {},
   "outputs": [
    {
     "data": {
      "text/html": [
       "<style type=\"text/css\">\n",
       "#T_9fc97_row0_col0, #T_9fc97_row0_col1, #T_9fc97_row0_col2, #T_9fc97_row0_col3, #T_9fc97_row0_col4, #T_9fc97_row0_col5 {\n",
       "  background-color: #FFF8C4;\n",
       "}\n",
       "</style>\n",
       "<table id=\"T_9fc97\">\n",
       "  <caption>Model Mean Scores by Benchmark</caption>\n",
       "  <thead>\n",
       "    <tr>\n",
       "      <th class=\"blank level0\" >&nbsp;</th>\n",
       "      <th id=\"T_9fc97_level0_col0\" class=\"col_heading level0 col0\" >ELYZA-Tasks-100</th>\n",
       "      <th id=\"T_9fc97_level0_col1\" class=\"col_heading level0 col1\" >Tengu-Bench-120</th>\n",
       "      <th id=\"T_9fc97_level0_col2\" class=\"col_heading level0 col2\" >VNTL-Translation-200</th>\n",
       "      <th id=\"T_9fc97_level0_col3\" class=\"col_heading level0 col3\" >MT-Bench-60</th>\n",
       "      <th id=\"T_9fc97_level0_col4\" class=\"col_heading level0 col4\" >Rakuda-40</th>\n",
       "      <th id=\"T_9fc97_level0_col5\" class=\"col_heading level0 col5\" >mean</th>\n",
       "    </tr>\n",
       "  </thead>\n",
       "  <tbody>\n",
       "    <tr>\n",
       "      <th id=\"T_9fc97_level0_row0\" class=\"row_heading level0 row0\" >gpt-4o</th>\n",
       "      <td id=\"T_9fc97_row0_col0\" class=\"data row0 col0\" >9.18</td>\n",
       "      <td id=\"T_9fc97_row0_col1\" class=\"data row0 col1\" >8.47</td>\n",
       "      <td id=\"T_9fc97_row0_col2\" class=\"data row0 col2\" >8.29</td>\n",
       "      <td id=\"T_9fc97_row0_col3\" class=\"data row0 col3\" >8.76</td>\n",
       "      <td id=\"T_9fc97_row0_col4\" class=\"data row0 col4\" >8.99</td>\n",
       "      <td id=\"T_9fc97_row0_col5\" class=\"data row0 col5\" >8.74</td>\n",
       "    </tr>\n",
       "    <tr>\n",
       "      <th id=\"T_9fc97_level0_row1\" class=\"row_heading level0 row1\" >gemini-2.0-flash-lite</th>\n",
       "      <td id=\"T_9fc97_row1_col0\" class=\"data row1 col0\" >8.16</td>\n",
       "      <td id=\"T_9fc97_row1_col1\" class=\"data row1 col1\" >7.74</td>\n",
       "      <td id=\"T_9fc97_row1_col2\" class=\"data row1 col2\" >7.53</td>\n",
       "      <td id=\"T_9fc97_row1_col3\" class=\"data row1 col3\" >8.01</td>\n",
       "      <td id=\"T_9fc97_row1_col4\" class=\"data row1 col4\" >8.61</td>\n",
       "      <td id=\"T_9fc97_row1_col5\" class=\"data row1 col5\" >8.01</td>\n",
       "    </tr>\n",
       "    <tr>\n",
       "      <th id=\"T_9fc97_level0_row2\" class=\"row_heading level0 row2\" >gemma-3-12b-it</th>\n",
       "      <td id=\"T_9fc97_row2_col0\" class=\"data row2 col0\" >8.28</td>\n",
       "      <td id=\"T_9fc97_row2_col1\" class=\"data row2 col1\" >7.38</td>\n",
       "      <td id=\"T_9fc97_row2_col2\" class=\"data row2 col2\" >7.22</td>\n",
       "      <td id=\"T_9fc97_row2_col3\" class=\"data row2 col3\" >7.89</td>\n",
       "      <td id=\"T_9fc97_row2_col4\" class=\"data row2 col4\" >7.60</td>\n",
       "      <td id=\"T_9fc97_row2_col5\" class=\"data row2 col5\" >7.67</td>\n",
       "    </tr>\n",
       "    <tr>\n",
       "      <th id=\"T_9fc97_level0_row3\" class=\"row_heading level0 row3\" >qwen3-8b</th>\n",
       "      <td id=\"T_9fc97_row3_col0\" class=\"data row3 col0\" >7.85</td>\n",
       "      <td id=\"T_9fc97_row3_col1\" class=\"data row3 col1\" >7.75</td>\n",
       "      <td id=\"T_9fc97_row3_col2\" class=\"data row3 col2\" >6.39</td>\n",
       "      <td id=\"T_9fc97_row3_col3\" class=\"data row3 col3\" >8.04</td>\n",
       "      <td id=\"T_9fc97_row3_col4\" class=\"data row3 col4\" >6.64</td>\n",
       "      <td id=\"T_9fc97_row3_col5\" class=\"data row3 col5\" >7.33</td>\n",
       "    </tr>\n",
       "    <tr>\n",
       "      <th id=\"T_9fc97_level0_row4\" class=\"row_heading level0 row4\" >gemma-3n-e4b-it</th>\n",
       "      <td id=\"T_9fc97_row4_col0\" class=\"data row4 col0\" >7.01</td>\n",
       "      <td id=\"T_9fc97_row4_col1\" class=\"data row4 col1\" >6.05</td>\n",
       "      <td id=\"T_9fc97_row4_col2\" class=\"data row4 col2\" >7.47</td>\n",
       "      <td id=\"T_9fc97_row4_col3\" class=\"data row4 col3\" >7.79</td>\n",
       "      <td id=\"T_9fc97_row4_col4\" class=\"data row4 col4\" >7.54</td>\n",
       "      <td id=\"T_9fc97_row4_col5\" class=\"data row4 col5\" >7.17</td>\n",
       "    </tr>\n",
       "    <tr>\n",
       "      <th id=\"T_9fc97_level0_row5\" class=\"row_heading level0 row5\" >shisa-v2-llama3.1-8b</th>\n",
       "      <td id=\"T_9fc97_row5_col0\" class=\"data row5 col0\" >7.54</td>\n",
       "      <td id=\"T_9fc97_row5_col1\" class=\"data row5 col1\" >6.72</td>\n",
       "      <td id=\"T_9fc97_row5_col2\" class=\"data row5 col2\" >6.88</td>\n",
       "      <td id=\"T_9fc97_row5_col3\" class=\"data row5 col3\" >6.98</td>\n",
       "      <td id=\"T_9fc97_row5_col4\" class=\"data row5 col4\" >7.51</td>\n",
       "      <td id=\"T_9fc97_row5_col5\" class=\"data row5 col5\" >7.13</td>\n",
       "    </tr>\n",
       "    <tr>\n",
       "      <th id=\"T_9fc97_level0_row6\" class=\"row_heading level0 row6\" >shisa-v2-qwen2.5-7b</th>\n",
       "      <td id=\"T_9fc97_row6_col0\" class=\"data row6 col0\" >7.61</td>\n",
       "      <td id=\"T_9fc97_row6_col1\" class=\"data row6 col1\" >7.02</td>\n",
       "      <td id=\"T_9fc97_row6_col2\" class=\"data row6 col2\" >6.66</td>\n",
       "      <td id=\"T_9fc97_row6_col3\" class=\"data row6 col3\" >6.95</td>\n",
       "      <td id=\"T_9fc97_row6_col4\" class=\"data row6 col4\" >6.77</td>\n",
       "      <td id=\"T_9fc97_row6_col5\" class=\"data row6 col5\" >7.00</td>\n",
       "    </tr>\n",
       "    <tr>\n",
       "      <th id=\"T_9fc97_level0_row7\" class=\"row_heading level0 row7\" >aya-expanse-8b-abliterated</th>\n",
       "      <td id=\"T_9fc97_row7_col0\" class=\"data row7 col0\" >7.13</td>\n",
       "      <td id=\"T_9fc97_row7_col1\" class=\"data row7 col1\" >6.60</td>\n",
       "      <td id=\"T_9fc97_row7_col2\" class=\"data row7 col2\" >6.47</td>\n",
       "      <td id=\"T_9fc97_row7_col3\" class=\"data row7 col3\" >6.88</td>\n",
       "      <td id=\"T_9fc97_row7_col4\" class=\"data row7 col4\" >7.21</td>\n",
       "      <td id=\"T_9fc97_row7_col5\" class=\"data row7 col5\" >6.86</td>\n",
       "    </tr>\n",
       "    <tr>\n",
       "      <th id=\"T_9fc97_level0_row8\" class=\"row_heading level0 row8\" >gemma-3-4b</th>\n",
       "      <td id=\"T_9fc97_row8_col0\" class=\"data row8 col0\" >7.07</td>\n",
       "      <td id=\"T_9fc97_row8_col1\" class=\"data row8 col1\" >6.31</td>\n",
       "      <td id=\"T_9fc97_row8_col2\" class=\"data row8 col2\" >6.54</td>\n",
       "      <td id=\"T_9fc97_row8_col3\" class=\"data row8 col3\" >6.96</td>\n",
       "      <td id=\"T_9fc97_row8_col4\" class=\"data row8 col4\" >6.54</td>\n",
       "      <td id=\"T_9fc97_row8_col5\" class=\"data row8 col5\" >6.68</td>\n",
       "    </tr>\n",
       "    <tr>\n",
       "      <th id=\"T_9fc97_level0_row9\" class=\"row_heading level0 row9\" >qwen2.5-7b-instruct</th>\n",
       "      <td id=\"T_9fc97_row9_col0\" class=\"data row9 col0\" >7.29</td>\n",
       "      <td id=\"T_9fc97_row9_col1\" class=\"data row9 col1\" >6.89</td>\n",
       "      <td id=\"T_9fc97_row9_col2\" class=\"data row9 col2\" >6.28</td>\n",
       "      <td id=\"T_9fc97_row9_col3\" class=\"data row9 col3\" >6.16</td>\n",
       "      <td id=\"T_9fc97_row9_col4\" class=\"data row9 col4\" >6.69</td>\n",
       "      <td id=\"T_9fc97_row9_col5\" class=\"data row9 col5\" >6.66</td>\n",
       "    </tr>\n",
       "    <tr>\n",
       "      <th id=\"T_9fc97_level0_row10\" class=\"row_heading level0 row10\" >deepcogito_cogito-v1-preview-llama-8b</th>\n",
       "      <td id=\"T_9fc97_row10_col0\" class=\"data row10 col0\" >6.78</td>\n",
       "      <td id=\"T_9fc97_row10_col1\" class=\"data row10 col1\" >6.50</td>\n",
       "      <td id=\"T_9fc97_row10_col2\" class=\"data row10 col2\" >6.36</td>\n",
       "      <td id=\"T_9fc97_row10_col3\" class=\"data row10 col3\" >6.28</td>\n",
       "      <td id=\"T_9fc97_row10_col4\" class=\"data row10 col4\" >5.65</td>\n",
       "      <td id=\"T_9fc97_row10_col5\" class=\"data row10 col5\" >6.31</td>\n",
       "    </tr>\n",
       "    <tr>\n",
       "      <th id=\"T_9fc97_level0_row11\" class=\"row_heading level0 row11\" >granite-3.3-8b-instruct</th>\n",
       "      <td id=\"T_9fc97_row11_col0\" class=\"data row11 col0\" >6.41</td>\n",
       "      <td id=\"T_9fc97_row11_col1\" class=\"data row11 col1\" >6.05</td>\n",
       "      <td id=\"T_9fc97_row11_col2\" class=\"data row11 col2\" >6.01</td>\n",
       "      <td id=\"T_9fc97_row11_col3\" class=\"data row11 col3\" >5.96</td>\n",
       "      <td id=\"T_9fc97_row11_col4\" class=\"data row11 col4\" >5.39</td>\n",
       "      <td id=\"T_9fc97_row11_col5\" class=\"data row11 col5\" >5.96</td>\n",
       "    </tr>\n",
       "    <tr>\n",
       "      <th id=\"T_9fc97_level0_row12\" class=\"row_heading level0 row12\" >llama-3.1-8b-instruct</th>\n",
       "      <td id=\"T_9fc97_row12_col0\" class=\"data row12 col0\" >7.03</td>\n",
       "      <td id=\"T_9fc97_row12_col1\" class=\"data row12 col1\" >6.28</td>\n",
       "      <td id=\"T_9fc97_row12_col2\" class=\"data row12 col2\" >6.07</td>\n",
       "      <td id=\"T_9fc97_row12_col3\" class=\"data row12 col3\" >5.15</td>\n",
       "      <td id=\"T_9fc97_row12_col4\" class=\"data row12 col4\" >5.20</td>\n",
       "      <td id=\"T_9fc97_row12_col5\" class=\"data row12 col5\" >5.95</td>\n",
       "    </tr>\n",
       "    <tr>\n",
       "      <th id=\"T_9fc97_level0_row13\" class=\"row_heading level0 row13\" >internvl3_5-8b</th>\n",
       "      <td id=\"T_9fc97_row13_col0\" class=\"data row13 col0\" >6.05</td>\n",
       "      <td id=\"T_9fc97_row13_col1\" class=\"data row13 col1\" >6.15</td>\n",
       "      <td id=\"T_9fc97_row13_col2\" class=\"data row13 col2\" >6.36</td>\n",
       "      <td id=\"T_9fc97_row13_col3\" class=\"data row13 col3\" >5.26</td>\n",
       "      <td id=\"T_9fc97_row13_col4\" class=\"data row13 col4\" >4.26</td>\n",
       "      <td id=\"T_9fc97_row13_col5\" class=\"data row13 col5\" >5.62</td>\n",
       "    </tr>\n",
       "    <tr>\n",
       "      <th id=\"T_9fc97_level0_row14\" class=\"row_heading level0 row14\" >dolphin3.0-llama3.1-8b</th>\n",
       "      <td id=\"T_9fc97_row14_col0\" class=\"data row14 col0\" >5.99</td>\n",
       "      <td id=\"T_9fc97_row14_col1\" class=\"data row14 col1\" >5.54</td>\n",
       "      <td id=\"T_9fc97_row14_col2\" class=\"data row14 col2\" >5.96</td>\n",
       "      <td id=\"T_9fc97_row14_col3\" class=\"data row14 col3\" >5.41</td>\n",
       "      <td id=\"T_9fc97_row14_col4\" class=\"data row14 col4\" >5.05</td>\n",
       "      <td id=\"T_9fc97_row14_col5\" class=\"data row14 col5\" >5.59</td>\n",
       "    </tr>\n",
       "    <tr>\n",
       "      <th id=\"T_9fc97_level0_row15\" class=\"row_heading level0 row15\" >hunyuan-mt-7b</th>\n",
       "      <td id=\"T_9fc97_row15_col0\" class=\"data row15 col0\" >5.66</td>\n",
       "      <td id=\"T_9fc97_row15_col1\" class=\"data row15 col1\" >5.24</td>\n",
       "      <td id=\"T_9fc97_row15_col2\" class=\"data row15 col2\" >6.41</td>\n",
       "      <td id=\"T_9fc97_row15_col3\" class=\"data row15 col3\" >4.98</td>\n",
       "      <td id=\"T_9fc97_row15_col4\" class=\"data row15 col4\" >5.22</td>\n",
       "      <td id=\"T_9fc97_row15_col5\" class=\"data row15 col5\" >5.50</td>\n",
       "    </tr>\n",
       "    <tr>\n",
       "      <th id=\"T_9fc97_level0_row16\" class=\"row_heading level0 row16\" >hunyuan-mt-chimera-7b</th>\n",
       "      <td id=\"T_9fc97_row16_col0\" class=\"data row16 col0\" >5.12</td>\n",
       "      <td id=\"T_9fc97_row16_col1\" class=\"data row16 col1\" >4.83</td>\n",
       "      <td id=\"T_9fc97_row16_col2\" class=\"data row16 col2\" >6.57</td>\n",
       "      <td id=\"T_9fc97_row16_col3\" class=\"data row16 col3\" >4.67</td>\n",
       "      <td id=\"T_9fc97_row16_col4\" class=\"data row16 col4\" >4.88</td>\n",
       "      <td id=\"T_9fc97_row16_col5\" class=\"data row16 col5\" >5.21</td>\n",
       "    </tr>\n",
       "    <tr>\n",
       "      <th id=\"T_9fc97_level0_row17\" class=\"row_heading level0 row17\" >internvl3_5-4b</th>\n",
       "      <td id=\"T_9fc97_row17_col0\" class=\"data row17 col0\" >5.62</td>\n",
       "      <td id=\"T_9fc97_row17_col1\" class=\"data row17 col1\" >5.33</td>\n",
       "      <td id=\"T_9fc97_row17_col2\" class=\"data row17 col2\" >5.58</td>\n",
       "      <td id=\"T_9fc97_row17_col3\" class=\"data row17 col3\" >4.48</td>\n",
       "      <td id=\"T_9fc97_row17_col4\" class=\"data row17 col4\" >3.41</td>\n",
       "      <td id=\"T_9fc97_row17_col5\" class=\"data row17 col5\" >4.88</td>\n",
       "    </tr>\n",
       "    <tr>\n",
       "      <th id=\"T_9fc97_level0_row18\" class=\"row_heading level0 row18\" >aixsatoshi-honyaku-multi-translator-swallow-ms7b</th>\n",
       "      <td id=\"T_9fc97_row18_col0\" class=\"data row18 col0\" >3.87</td>\n",
       "      <td id=\"T_9fc97_row18_col1\" class=\"data row18 col1\" >2.82</td>\n",
       "      <td id=\"T_9fc97_row18_col2\" class=\"data row18 col2\" >3.89</td>\n",
       "      <td id=\"T_9fc97_row18_col3\" class=\"data row18 col3\" >2.91</td>\n",
       "      <td id=\"T_9fc97_row18_col4\" class=\"data row18 col4\" >4.20</td>\n",
       "      <td id=\"T_9fc97_row18_col5\" class=\"data row18 col5\" >3.54</td>\n",
       "    </tr>\n",
       "  </tbody>\n",
       "</table>\n"
      ],
      "text/plain": [
       "<pandas.io.formats.style.Styler at 0x15df1b45e50>"
      ]
     },
     "metadata": {},
     "output_type": "display_data"
    }
   ],
   "source": [
    "# --- Create a styled correlation-style table ---\n",
    "eval_dataset_names = all_result_df.eval_dataset.unique()\n",
    "model_names = all_result_df.model_name.unique()\n",
    "\n",
    "eval_corr_results = {model_name: {} for model_name in model_names}\n",
    "for eval_dataset_name in eval_dataset_names:\n",
    "    for model_name in model_names:\n",
    "        score = all_result_df[(all_result_df.eval_dataset == eval_dataset_name) & (all_result_df.model_name == model_name)].score.mean()\n",
    "        eval_corr_results[model_name][eval_dataset_name] = score\n",
    "\n",
    "eval_res_df = pd.DataFrame(eval_corr_results).T # Transpose to have models as rows\n",
    "\n",
    "eval_res_df['mean'] = eval_res_df.mean(axis=1)\n",
    "eval_res_df = eval_res_df.sort_values(by='mean', ascending=False)\n",
    "\n",
    "def highlight_max(s):\n",
    "    is_max = s.max()\n",
    "    return ['background-color: #FFF8C4' if v == is_max else '' for v in s]\n",
    "\n",
    "styled_df = eval_res_df.style.apply(highlight_max, axis=0).format(\"{:.2f}\").set_caption(\"Model Mean Scores by Benchmark\")\n",
    "display(styled_df)\n"
   ]
  },
  {
   "cell_type": "code",
   "execution_count": 61,
   "id": "b66da917",
   "metadata": {},
   "outputs": [],
   "source": [
    "import re\n",
    "import numpy as np\n",
    "\n",
    "def get_model_size(model_name_str):\n",
    "    try:\n",
    "        size_match = re.search(r\"\\b(\\d{1,3})[bB]\\b\", model_name_str)\n",
    "        if size_match: return int(size_match.group(1))\n",
    "        size_match = re.search(r\"-(\\d{1,3})b\", model_name_str, re.IGNORECASE)\n",
    "        if size_match: return int(size_match.group(1))\n",
    "        return None\n",
    "    except:\n",
    "        return None\n",
    "\n",
    "model_size_df = eval_res_df.copy()\n",
    "model_size_df['model_size'] = model_size_df.index.to_series().apply(get_model_size)\n",
    "size_df = model_size_df.dropna(subset=['model_size']).groupby('model_size').mean()\n",
    "size_df['model_size_log'] = np.log(size_df.index)\n"
   ]
  },
  {
   "cell_type": "code",
   "execution_count": 62,
   "id": "b9cc91b5",
   "metadata": {},
   "outputs": [
    {
     "data": {
      "image/png": "[encoded data removed]",
      "text/plain": [
       "<Figure size 1000x600 with 1 Axes>"
      ]
     },
     "metadata": {},
     "output_type": "display_data"
    }
   ],
   "source": [
    "from matplotlib import pyplot as plt\n",
    "import seaborn as sns\n",
    "\n",
    "plt.figure(figsize=(10, 6))\n",
    "plot_columns = [col for col in eval_datasets if col in size_df.columns]\n",
    "for column in plot_columns:\n",
    "    sns.regplot(x='model_size_log', y=column, data=size_df, scatter=True, label=column, ci=None)\n",
    "\n",
    "plt.xticks(size_df['model_size_log'], size_df.index.astype(int).astype(str) + \"B\")\n",
    "plt.legend()\n",
    "plt.title(f'Model Size (Log Scale) vs. Scores with Regression Lines | {MODEL_RANGE_GROUP}')\n",
    "plt.xlabel(\"Model Size\")\n",
    "plt.ylabel(\"Score\")\n",
    "plt.grid(True, which='both', linestyle='--')\n",
    "plt.show()"
   ]
  },
  {
   "cell_type": "code",
   "execution_count": 63,
   "id": "88ebe802",
   "metadata": {},
   "outputs": [
    {
     "data": {
      "application/vnd.plotly.v1+json": {
       "config": {
        "plotlyServerURL": "https://plot.ly"
       },
       "data": [
        {
         "fill": "toself",
         "fillcolor": "rgba(102, 197, 204, 0.2)",
         "hovertemplate": "<b>%{fullData.name}</b><br>Score: %{r:.2f}<extra></extra>",
         "line": {
          "color": "#66c5cc"
         },
         "mode": "lines+markers",
         "name": "gpt-4o",
         "r": [
          9.22,
          9.316666666666666,
          9.9,
          8.516666666666667,
          8.2775,
          9.22
         ],
         "theta": [
          "ELYZA-Tasks-100",
          "MT-Bench-60",
          "Rakuda-40",
          "Tengu-Bench-120",
          "VNTL-Translation-200",
          "ELYZA-Tasks-100"
         ],
         "type": "scatterpolar"
        },
        {
         "fill": "toself",
         "fillcolor": "rgba(255, 102, 146, 0.2)",
         "hovertemplate": "<b>%{fullData.name}</b><br>Score: %{r:.2f}<extra></extra>",
         "line": {
          "color": "#FF6692"
         },
         "mode": "lines+markers",
         "name": "gemini-2.0-flash-lite",
         "r": [
          8.3,
          8.583333333333334,
          9.6,
          7.666666666666667,
          7.375,
          8.3
         ],
         "theta": [
          "ELYZA-Tasks-100",
          "MT-Bench-60",
          "Rakuda-40",
          "Tengu-Bench-120",
          "VNTL-Translation-200",
          "ELYZA-Tasks-100"
         ],
         "type": "scatterpolar"
        },
        {
         "fill": "toself",
         "fillcolor": "rgba(171, 99, 250, 0.2)",
         "hovertemplate": "<b>%{fullData.name}</b><br>Score: %{r:.2f}<extra></extra>",
         "line": {
          "color": "#AB63FA"
         },
         "mode": "lines+markers",
         "name": "gemma-3-12b-it",
         "r": [
          8.62,
          8.666666666666666,
          8.625,
          7.441666666666666,
          7.066666666666666,
          8.62
         ],
         "theta": [
          "ELYZA-Tasks-100",
          "MT-Bench-60",
          "Rakuda-40",
          "Tengu-Bench-120",
          "VNTL-Translation-200",
          "ELYZA-Tasks-100"
         ],
         "type": "scatterpolar"
        },
        {
         "fill": "toself",
         "fillcolor": "rgba(255, 151, 255, 0.2)",
         "hovertemplate": "<b>%{fullData.name}</b><br>Score: %{r:.2f}<extra></extra>",
         "line": {
          "color": "#FF97FF"
         },
         "mode": "lines+markers",
         "name": "qwen3-8b",
         "r": [
          8.4,
          9.033333333333333,
          7.625,
          7.808333333333334,
          6.395833333333334,
          8.4
         ],
         "theta": [
          "ELYZA-Tasks-100",
          "MT-Bench-60",
          "Rakuda-40",
          "Tengu-Bench-120",
          "VNTL-Translation-200",
          "ELYZA-Tasks-100"
         ],
         "type": "scatterpolar"
        },
        {
         "fill": "toself",
         "fillcolor": "rgba(158, 185, 243, 0.2)",
         "hovertemplate": "<b>%{fullData.name}</b><br>Score: %{r:.2f}<extra></extra>",
         "line": {
          "color": "#9eb9f3"
         },
         "mode": "lines+markers",
         "name": "gemma-3n-e4b-it",
         "r": [
          7.24,
          8.616666666666667,
          8.4,
          5.966666666666667,
          7.246666666666666,
          7.24
         ],
         "theta": [
          "ELYZA-Tasks-100",
          "MT-Bench-60",
          "Rakuda-40",
          "Tengu-Bench-120",
          "VNTL-Translation-200",
          "ELYZA-Tasks-100"
         ],
         "type": "scatterpolar"
        },
        {
         "fill": "toself",
         "fillcolor": "rgba(248, 156, 116, 0.2)",
         "hovertemplate": "<b>%{fullData.name}</b><br>Score: %{r:.2f}<extra></extra>",
         "line": {
          "color": "#f89c74"
         },
         "mode": "lines+markers",
         "name": "shisa-v2-llama3.1-8b",
         "r": [
          7.76,
          7.816666666666666,
          8.5,
          6.766666666666667,
          6.9591666666666665,
          7.76
         ],
         "theta": [
          "ELYZA-Tasks-100",
          "MT-Bench-60",
          "Rakuda-40",
          "Tengu-Bench-120",
          "VNTL-Translation-200",
          "ELYZA-Tasks-100"
         ],
         "type": "scatterpolar"
        },
        {
         "fill": "toself",
         "fillcolor": "rgba(182, 232, 128, 0.2)",
         "hovertemplate": "<b>%{fullData.name}</b><br>Score: %{r:.2f}<extra></extra>",
         "line": {
          "color": "#B6E880"
         },
         "mode": "lines+markers",
         "name": "shisa-v2-qwen2.5-7b",
         "r": [
          7.82,
          7.7,
          7.675,
          7,
          6.644166666666666,
          7.82
         ],
         "theta": [
          "ELYZA-Tasks-100",
          "MT-Bench-60",
          "Rakuda-40",
          "Tengu-Bench-120",
          "VNTL-Translation-200",
          "ELYZA-Tasks-100"
         ],
         "type": "scatterpolar"
        },
        {
         "fill": "toself",
         "fillcolor": "rgba(220, 176, 242, 0.2)",
         "hovertemplate": "<b>%{fullData.name}</b><br>Score: %{r:.2f}<extra></extra>",
         "line": {
          "color": "#dcb0f2"
         },
         "mode": "lines+markers",
         "name": "aya-expanse-8b-abliterated",
         "r": [
          7.44,
          7.733333333333333,
          8.4,
          6.608333333333333,
          6.275,
          7.44
         ],
         "theta": [
          "ELYZA-Tasks-100",
          "MT-Bench-60",
          "Rakuda-40",
          "Tengu-Bench-120",
          "VNTL-Translation-200",
          "ELYZA-Tasks-100"
         ],
         "type": "scatterpolar"
        },
        {
         "fill": "toself",
         "fillcolor": "rgba(179, 179, 179, 0.2)",
         "hovertemplate": "<b>%{fullData.name}</b><br>Score: %{r:.2f}<extra></extra>",
         "line": {
          "color": "#b3b3b3"
         },
         "mode": "lines+markers",
         "name": "gemma-3-4b",
         "r": [
          7.42,
          7.916666666666667,
          7.45,
          6.4,
          6.670833333333333,
          7.42
         ],
         "theta": [
          "ELYZA-Tasks-100",
          "MT-Bench-60",
          "Rakuda-40",
          "Tengu-Bench-120",
          "VNTL-Translation-200",
          "ELYZA-Tasks-100"
         ],
         "type": "scatterpolar"
        },
        {
         "fill": "toself",
         "fillcolor": "rgba(239, 85, 59, 0.2)",
         "hovertemplate": "<b>%{fullData.name}</b><br>Score: %{r:.2f}<extra></extra>",
         "line": {
          "color": "#EF553B"
         },
         "mode": "lines+markers",
         "name": "qwen2.5-7b-instruct",
         "r": [
          7.62,
          6.85,
          7.55,
          6.966666666666667,
          5.989166666666666,
          7.62
         ],
         "theta": [
          "ELYZA-Tasks-100",
          "MT-Bench-60",
          "Rakuda-40",
          "Tengu-Bench-120",
          "VNTL-Translation-200",
          "ELYZA-Tasks-100"
         ],
         "type": "scatterpolar"
        },
        {
         "fill": "toself",
         "fillcolor": "rgba(135, 197, 95, 0.2)",
         "hovertemplate": "<b>%{fullData.name}</b><br>Score: %{r:.2f}<extra></extra>",
         "line": {
          "color": "#87c55f"
         },
         "mode": "lines+markers",
         "name": "deepcogito_cogito-v1-preview-llama-8b",
         "r": [
          7.2,
          7.016666666666667,
          6.325,
          6.55,
          6.154166666666666,
          7.2
         ],
         "theta": [
          "ELYZA-Tasks-100",
          "MT-Bench-60",
          "Rakuda-40",
          "Tengu-Bench-120",
          "VNTL-Translation-200",
          "ELYZA-Tasks-100"
         ],
         "type": "scatterpolar"
        },
        {
         "fill": "toself",
         "fillcolor": "rgba(254, 203, 82, 0.2)",
         "hovertemplate": "<b>%{fullData.name}</b><br>Score: %{r:.2f}<extra></extra>",
         "line": {
          "color": "#FECB52"
         },
         "mode": "lines+markers",
         "name": "llama-3.1-8b-instruct",
         "r": [
          7.44,
          5.733333333333333,
          5.75,
          6.375,
          5.888333333333334,
          7.44
         ],
         "theta": [
          "ELYZA-Tasks-100",
          "MT-Bench-60",
          "Rakuda-40",
          "Tengu-Bench-120",
          "VNTL-Translation-200",
          "ELYZA-Tasks-100"
         ],
         "type": "scatterpolar"
        },
        {
         "fill": "toself",
         "fillcolor": "rgba(180, 151, 231, 0.2)",
         "hovertemplate": "<b>%{fullData.name}</b><br>Score: %{r:.2f}<extra></extra>",
         "line": {
          "color": "#b497e7"
         },
         "mode": "lines+markers",
         "name": "granite-3.3-8b-instruct",
         "r": [
          6.76,
          6.733333333333333,
          6.025,
          6.066666666666666,
          5.769166666666666,
          6.76
         ],
         "theta": [
          "ELYZA-Tasks-100",
          "MT-Bench-60",
          "Rakuda-40",
          "Tengu-Bench-120",
          "VNTL-Translation-200",
          "ELYZA-Tasks-100"
         ],
         "type": "scatterpolar"
        },
        {
         "fill": "toself",
         "fillcolor": "rgba(25, 211, 243, 0.2)",
         "hovertemplate": "<b>%{fullData.name}</b><br>Score: %{r:.2f}<extra></extra>",
         "line": {
          "color": "#19D3F3"
         },
         "mode": "lines+markers",
         "name": "internvl3_5-8b",
         "r": [
          6.74,
          5.9,
          4.6,
          6.333333333333333,
          6.160833333333334,
          6.74
         ],
         "theta": [
          "ELYZA-Tasks-100",
          "MT-Bench-60",
          "Rakuda-40",
          "Tengu-Bench-120",
          "VNTL-Translation-200",
          "ELYZA-Tasks-100"
         ],
         "type": "scatterpolar"
        },
        {
         "fill": "toself",
         "fillcolor": "rgba(201, 219, 116, 0.2)",
         "hovertemplate": "<b>%{fullData.name}</b><br>Score: %{r:.2f}<extra></extra>",
         "line": {
          "color": "#c9db74"
         },
         "mode": "lines+markers",
         "name": "hunyuan-mt-7b",
         "r": [
          5.9,
          5.366666666666666,
          5.7,
          5.125,
          6.3475,
          5.9
         ],
         "theta": [
          "ELYZA-Tasks-100",
          "MT-Bench-60",
          "Rakuda-40",
          "Tengu-Bench-120",
          "VNTL-Translation-200",
          "ELYZA-Tasks-100"
         ],
         "type": "scatterpolar"
        },
        {
         "fill": "toself",
         "fillcolor": "rgba(254, 136, 177, 0.2)",
         "hovertemplate": "<b>%{fullData.name}</b><br>Score: %{r:.2f}<extra></extra>",
         "line": {
          "color": "#fe88b1"
         },
         "mode": "lines+markers",
         "name": "dolphin3.0-llama3.1-8b",
         "r": [
          6.36,
          6.183333333333334,
          5.725,
          5.491666666666666,
          5.930833333333334,
          6.36
         ],
         "theta": [
          "ELYZA-Tasks-100",
          "MT-Bench-60",
          "Rakuda-40",
          "Tengu-Bench-120",
          "VNTL-Translation-200",
          "ELYZA-Tasks-100"
         ],
         "type": "scatterpolar"
        },
        {
         "fill": "toself",
         "fillcolor": "rgba(255, 161, 90, 0.2)",
         "hovertemplate": "<b>%{fullData.name}</b><br>Score: %{r:.2f}<extra></extra>",
         "line": {
          "color": "#FFA15A"
         },
         "mode": "lines+markers",
         "name": "hunyuan-mt-chimera-7b",
         "r": [
          5.42,
          5.116666666666666,
          5.225,
          4.8,
          6.57,
          5.42
         ],
         "theta": [
          "ELYZA-Tasks-100",
          "MT-Bench-60",
          "Rakuda-40",
          "Tengu-Bench-120",
          "VNTL-Translation-200",
          "ELYZA-Tasks-100"
         ],
         "type": "scatterpolar"
        },
        {
         "fill": "toself",
         "fillcolor": "rgba(0, 204, 150, 0.2)",
         "hovertemplate": "<b>%{fullData.name}</b><br>Score: %{r:.2f}<extra></extra>",
         "line": {
          "color": "#00CC96"
         },
         "mode": "lines+markers",
         "name": "internvl3_5-4b",
         "r": [
          6.3,
          4.916666666666667,
          3.6,
          5.558333333333334,
          5.474166666666666,
          6.3
         ],
         "theta": [
          "ELYZA-Tasks-100",
          "MT-Bench-60",
          "Rakuda-40",
          "Tengu-Bench-120",
          "VNTL-Translation-200",
          "ELYZA-Tasks-100"
         ],
         "type": "scatterpolar"
        },
        {
         "fill": "toself",
         "fillcolor": "rgba(246, 207, 113, 0.2)",
         "hovertemplate": "<b>%{fullData.name}</b><br>Score: %{r:.2f}<extra></extra>",
         "line": {
          "color": "#f6cf71"
         },
         "mode": "lines+markers",
         "name": "aixsatoshi-honyaku-multi-translator-swallow-ms7b",
         "r": [
          4.08,
          3.05,
          4.325,
          2.6416666666666666,
          4.964166666666667,
          4.08
         ],
         "theta": [
          "ELYZA-Tasks-100",
          "MT-Bench-60",
          "Rakuda-40",
          "Tengu-Bench-120",
          "VNTL-Translation-200",
          "ELYZA-Tasks-100"
         ],
         "type": "scatterpolar"
        }
       ],
       "layout": {
        "height": 600,
        "legend": {
         "orientation": "h",
         "x": 0.5,
         "xanchor": "center",
         "y": -0.25,
         "yanchor": "bottom"
        },
        "margin": {
         "b": 120,
         "l": 80,
         "r": 80,
         "t": 80
        },
        "polar": {
         "angularaxis": {
          "tickfont": {
           "size": 12
          }
         },
         "radialaxis": {
          "range": [
           0,
           10
          ],
          "visible": true
         }
        },
        "template": {
         "data": {
          "bar": [
           {
            "error_x": {
             "color": "#2a3f5f"
            },
            "error_y": {
             "color": "#2a3f5f"
            },
            "marker": {
             "line": {
              "color": "white",
              "width": 0.5
             },
             "pattern": {
              "fillmode": "overlay",
              "size": 10,
              "solidity": 0.2
             }
            },
            "type": "bar"
           }
          ],
          "barpolar": [
           {
            "marker": {
             "line": {
              "color": "white",
              "width": 0.5
             },
             "pattern": {
              "fillmode": "overlay",
              "size": 10,
              "solidity": 0.2
             }
            },
            "type": "barpolar"
           }
          ],
          "carpet": [
           {
            "aaxis": {
             "endlinecolor": "#2a3f5f",
             "gridcolor": "#C8D4E3",
             "linecolor": "#C8D4E3",
             "minorgridcolor": "#C8D4E3",
             "startlinecolor": "#2a3f5f"
            },
            "baxis": {
             "endlinecolor": "#2a3f5f",
             "gridcolor": "#C8D4E3",
             "linecolor": "#C8D4E3",
             "minorgridcolor": "#C8D4E3",
             "startlinecolor": "#2a3f5f"
            },
            "type": "carpet"
           }
          ],
          "choropleth": [
           {
            "colorbar": {
             "outlinewidth": 0,
             "ticks": ""
            },
            "type": "choropleth"
           }
          ],
          "contour": [
           {
            "colorbar": {
             "outlinewidth": 0,
             "ticks": ""
            },
            "colorscale": [
             [
              0,
              "#0d0887"
             ],
             [
              0.1111111111111111,
              "#46039f"
             ],
             [
              0.2222222222222222,
              "#7201a8"
             ],
             [
              0.3333333333333333,
              "#9c179e"
             ],
             [
              0.4444444444444444,
              "#bd3786"
             ],
             [
              0.5555555555555556,
              "#d8576b"
             ],
             [
              0.6666666666666666,
              "#ed7953"
             ],
             [
              0.7777777777777778,
              "#fb9f3a"
             ],
             [
              0.8888888888888888,
              "#fdca26"
             ],
             [
              1,
              "#f0f921"
             ]
            ],
            "type": "contour"
           }
          ],
          "contourcarpet": [
           {
            "colorbar": {
             "outlinewidth": 0,
             "ticks": ""
            },
            "type": "contourcarpet"
           }
          ],
          "heatmap": [
           {
            "colorbar": {
             "outlinewidth": 0,
             "ticks": ""
            },
            "colorscale": [
             [
              0,
              "#0d0887"
             ],
             [
              0.1111111111111111,
              "#46039f"
             ],
             [
              0.2222222222222222,
              "#7201a8"
             ],
             [
              0.3333333333333333,
              "#9c179e"
             ],
             [
              0.4444444444444444,
              "#bd3786"
             ],
             [
              0.5555555555555556,
              "#d8576b"
             ],
             [
              0.6666666666666666,
              "#ed7953"
             ],
             [
              0.7777777777777778,
              "#fb9f3a"
             ],
             [
              0.8888888888888888,
              "#fdca26"
             ],
             [
              1,
              "#f0f921"
             ]
            ],
            "type": "heatmap"
           }
          ],
          "histogram": [
           {
            "marker": {
             "pattern": {
              "fillmode": "overlay",
              "size": 10,
              "solidity": 0.2
             }
            },
            "type": "histogram"
           }
          ],
          "histogram2d": [
           {
            "colorbar": {
             "outlinewidth": 0,
             "ticks": ""
            },
            "colorscale": [
             [
              0,
              "#0d0887"
             ],
             [
              0.1111111111111111,
              "#46039f"
             ],
             [
              0.2222222222222222,
              "#7201a8"
             ],
             [
              0.3333333333333333,
              "#9c179e"
             ],
             [
              0.4444444444444444,
              "#bd3786"
             ],
             [
              0.5555555555555556,
              "#d8576b"
             ],
             [
              0.6666666666666666,
              "#ed7953"
             ],
             [
              0.7777777777777778,
              "#fb9f3a"
             ],
             [
              0.8888888888888888,
              "#fdca26"
             ],
             [
              1,
              "#f0f921"
             ]
            ],
            "type": "histogram2d"
           }
          ],
          "histogram2dcontour": [
           {
            "colorbar": {
             "outlinewidth": 0,
             "ticks": ""
            },
            "colorscale": [
             [
              0,
              "#0d0887"
             ],
             [
              0.1111111111111111,
              "#46039f"
             ],
             [
              0.2222222222222222,
              "#7201a8"
             ],
             [
              0.3333333333333333,
              "#9c179e"
             ],
             [
              0.4444444444444444,
              "#bd3786"
             ],
             [
              0.5555555555555556,
              "#d8576b"
             ],
             [
              0.6666666666666666,
              "#ed7953"
             ],
             [
              0.7777777777777778,
              "#fb9f3a"
             ],
             [
              0.8888888888888888,
              "#fdca26"
             ],
             [
              1,
              "#f0f921"
             ]
            ],
            "type": "histogram2dcontour"
           }
          ],
          "mesh3d": [
           {
            "colorbar": {
             "outlinewidth": 0,
             "ticks": ""
            },
            "type": "mesh3d"
           }
          ],
          "parcoords": [
           {
            "line": {
             "colorbar": {
              "outlinewidth": 0,
              "ticks": ""
             }
            },
            "type": "parcoords"
           }
          ],
          "pie": [
           {
            "automargin": true,
            "type": "pie"
           }
          ],
          "scatter": [
           {
            "fillpattern": {
             "fillmode": "overlay",
             "size": 10,
             "solidity": 0.2
            },
            "type": "scatter"
           }
          ],
          "scatter3d": [
           {
            "line": {
             "colorbar": {
              "outlinewidth": 0,
              "ticks": ""
             }
            },
            "marker": {
             "colorbar": {
              "outlinewidth": 0,
              "ticks": ""
             }
            },
            "type": "scatter3d"
           }
          ],
          "scattercarpet": [
           {
            "marker": {
             "colorbar": {
              "outlinewidth": 0,
              "ticks": ""
             }
            },
            "type": "scattercarpet"
           }
          ],
          "scattergeo": [
           {
            "marker": {
             "colorbar": {
              "outlinewidth": 0,
              "ticks": ""
             }
            },
            "type": "scattergeo"
           }
          ],
          "scattergl": [
           {
            "marker": {
             "colorbar": {
              "outlinewidth": 0,
              "ticks": ""
             }
            },
            "type": "scattergl"
           }
          ],
          "scattermap": [
           {
            "marker": {
             "colorbar": {
              "outlinewidth": 0,
              "ticks": ""
             }
            },
            "type": "scattermap"
           }
          ],
          "scattermapbox": [
           {
            "marker": {
             "colorbar": {
              "outlinewidth": 0,
              "ticks": ""
             }
            },
            "type": "scattermapbox"
           }
          ],
          "scatterpolar": [
           {
            "marker": {
             "colorbar": {
              "outlinewidth": 0,
              "ticks": ""
             }
            },
            "type": "scatterpolar"
           }
          ],
          "scatterpolargl": [
           {
            "marker": {
             "colorbar": {
              "outlinewidth": 0,
              "ticks": ""
             }
            },
            "type": "scatterpolargl"
           }
          ],
          "scatterternary": [
           {
            "marker": {
             "colorbar": {
              "outlinewidth": 0,
              "ticks": ""
             }
            },
            "type": "scatterternary"
           }
          ],
          "surface": [
           {
            "colorbar": {
             "outlinewidth": 0,
             "ticks": ""
            },
            "colorscale": [
             [
              0,
              "#0d0887"
             ],
             [
              0.1111111111111111,
              "#46039f"
             ],
             [
              0.2222222222222222,
              "#7201a8"
             ],
             [
              0.3333333333333333,
              "#9c179e"
             ],
             [
              0.4444444444444444,
              "#bd3786"
             ],
             [
              0.5555555555555556,
              "#d8576b"
             ],
             [
              0.6666666666666666,
              "#ed7953"
             ],
             [
              0.7777777777777778,
              "#fb9f3a"
             ],
             [
              0.8888888888888888,
              "#fdca26"
             ],
             [
              1,
              "#f0f921"
             ]
            ],
            "type": "surface"
           }
          ],
          "table": [
           {
            "cells": {
             "fill": {
              "color": "#EBF0F8"
             },
             "line": {
              "color": "white"
             }
            },
            "header": {
             "fill": {
              "color": "#C8D4E3"
             },
             "line": {
              "color": "white"
             }
            },
            "type": "table"
           }
          ]
         },
         "layout": {
          "annotationdefaults": {
           "arrowcolor": "#2a3f5f",
           "arrowhead": 0,
           "arrowwidth": 1
          },
          "autotypenumbers": "strict",
          "coloraxis": {
           "colorbar": {
            "outlinewidth": 0,
            "ticks": ""
           }
          },
          "colorscale": {
           "diverging": [
            [
             0,
             "#8e0152"
            ],
            [
             0.1,
             "#c51b7d"
            ],
            [
             0.2,
             "#de77ae"
            ],
            [
             0.3,
             "#f1b6da"
            ],
            [
             0.4,
             "#fde0ef"
            ],
            [
             0.5,
             "#f7f7f7"
            ],
            [
             0.6,
             "#e6f5d0"
            ],
            [
             0.7,
             "#b8e186"
            ],
            [
             0.8,
             "#7fbc41"
            ],
            [
             0.9,
             "#4d9221"
            ],
            [
             1,
             "#276419"
            ]
           ],
           "sequential": [
            [
             0,
             "#0d0887"
            ],
            [
             0.1111111111111111,
             "#46039f"
            ],
            [
             0.2222222222222222,
             "#7201a8"
            ],
            [
             0.3333333333333333,
             "#9c179e"
            ],
            [
             0.4444444444444444,
             "#bd3786"
            ],
            [
             0.5555555555555556,
             "#d8576b"
            ],
            [
             0.6666666666666666,
             "#ed7953"
            ],
            [
             0.7777777777777778,
             "#fb9f3a"
            ],
            [
             0.8888888888888888,
             "#fdca26"
            ],
            [
             1,
             "#f0f921"
            ]
           ],
           "sequentialminus": [
            [
             0,
             "#0d0887"
            ],
            [
             0.1111111111111111,
             "#46039f"
            ],
            [
             0.2222222222222222,
             "#7201a8"
            ],
            [
             0.3333333333333333,
             "#9c179e"
            ],
            [
             0.4444444444444444,
             "#bd3786"
            ],
            [
             0.5555555555555556,
             "#d8576b"
            ],
            [
             0.6666666666666666,
             "#ed7953"
            ],
            [
             0.7777777777777778,
             "#fb9f3a"
            ],
            [
             0.8888888888888888,
             "#fdca26"
            ],
            [
             1,
             "#f0f921"
            ]
           ]
          },
          "colorway": [
           "#636efa",
           "#EF553B",
           "#00cc96",
           "#ab63fa",
           "#FFA15A",
           "#19d3f3",
           "#FF6692",
           "#B6E880",
           "#FF97FF",
           "#FECB52"
          ],
          "font": {
           "color": "#2a3f5f"
          },
          "geo": {
           "bgcolor": "white",
           "lakecolor": "white",
           "landcolor": "white",
           "showlakes": true,
           "showland": true,
           "subunitcolor": "#C8D4E3"
          },
          "hoverlabel": {
           "align": "left"
          },
          "hovermode": "closest",
          "mapbox": {
           "style": "light"
          },
          "paper_bgcolor": "white",
          "plot_bgcolor": "white",
          "polar": {
           "angularaxis": {
            "gridcolor": "#EBF0F8",
            "linecolor": "#EBF0F8",
            "ticks": ""
           },
           "bgcolor": "white",
           "radialaxis": {
            "gridcolor": "#EBF0F8",
            "linecolor": "#EBF0F8",
            "ticks": ""
           }
          },
          "scene": {
           "xaxis": {
            "backgroundcolor": "white",
            "gridcolor": "#DFE8F3",
            "gridwidth": 2,
            "linecolor": "#EBF0F8",
            "showbackground": true,
            "ticks": "",
            "zerolinecolor": "#EBF0F8"
           },
           "yaxis": {
            "backgroundcolor": "white",
            "gridcolor": "#DFE8F3",
            "gridwidth": 2,
            "linecolor": "#EBF0F8",
            "showbackground": true,
            "ticks": "",
            "zerolinecolor": "#EBF0F8"
           },
           "zaxis": {
            "backgroundcolor": "white",
            "gridcolor": "#DFE8F3",
            "gridwidth": 2,
            "linecolor": "#EBF0F8",
            "showbackground": true,
            "ticks": "",
            "zerolinecolor": "#EBF0F8"
           }
          },
          "shapedefaults": {
           "line": {
            "color": "#2a3f5f"
           }
          },
          "ternary": {
           "aaxis": {
            "gridcolor": "#DFE8F3",
            "linecolor": "#A2B1C6",
            "ticks": ""
           },
           "baxis": {
            "gridcolor": "#DFE8F3",
            "linecolor": "#A2B1C6",
            "ticks": ""
           },
           "bgcolor": "white",
           "caxis": {
            "gridcolor": "#DFE8F3",
            "linecolor": "#A2B1C6",
            "ticks": ""
           }
          },
          "title": {
           "x": 0.05
          },
          "xaxis": {
           "automargin": true,
           "gridcolor": "#EBF0F8",
           "linecolor": "#EBF0F8",
           "ticks": "",
           "title": {
            "standoff": 15
           },
           "zerolinecolor": "#EBF0F8",
           "zerolinewidth": 2
          },
          "yaxis": {
           "automargin": true,
           "gridcolor": "#EBF0F8",
           "linecolor": "#EBF0F8",
           "ticks": "",
           "title": {
            "standoff": 15
           },
           "zerolinecolor": "#EBF0F8",
           "zerolinewidth": 2
          }
         }
        },
        "title": {
         "font": {
          "size": 20
         },
         "text": "Model Performance Radar Chart<br><sup>Judge: gpt-4.1 & Metrics | 4B - 8B Model Range</sup>",
         "x": 0.5,
         "y": 0.95
        }
       }
      }
     },
     "metadata": {},
     "output_type": "display_data"
    },
    {
     "data": {
      "application/vnd.plotly.v1+json": {
       "config": {
        "plotlyServerURL": "https://plot.ly"
       },
       "data": [
        {
         "fill": "toself",
         "fillcolor": "rgba(102, 197, 204, 0.2)",
         "hovertemplate": "<b>%{fullData.name}</b><br>Score: %{r:.2f}<extra></extra>",
         "line": {
          "color": "#66c5cc"
         },
         "mode": "lines+markers",
         "name": "gpt-4o",
         "r": [
          9.18,
          8.758333333333333,
          8.9875,
          8.466666666666667,
          8.290833333333333,
          9.18
         ],
         "theta": [
          "ELYZA-Tasks-100",
          "MT-Bench-60",
          "Rakuda-40",
          "Tengu-Bench-120",
          "VNTL-Translation-200",
          "ELYZA-Tasks-100"
         ],
         "type": "scatterpolar"
        },
        {
         "fill": "toself",
         "fillcolor": "rgba(255, 102, 146, 0.2)",
         "hovertemplate": "<b>%{fullData.name}</b><br>Score: %{r:.2f}<extra></extra>",
         "line": {
          "color": "#FF6692"
         },
         "mode": "lines+markers",
         "name": "gemini-2.0-flash-lite",
         "r": [
          8.16,
          8.008333333333333,
          8.6125,
          7.7375,
          7.52625,
          8.16
         ],
         "theta": [
          "ELYZA-Tasks-100",
          "MT-Bench-60",
          "Rakuda-40",
          "Tengu-Bench-120",
          "VNTL-Translation-200",
          "ELYZA-Tasks-100"
         ],
         "type": "scatterpolar"
        },
        {
         "fill": "toself",
         "fillcolor": "rgba(171, 99, 250, 0.2)",
         "hovertemplate": "<b>%{fullData.name}</b><br>Score: %{r:.2f}<extra></extra>",
         "line": {
          "color": "#AB63FA"
         },
         "mode": "lines+markers",
         "name": "gemma-3-12b-it",
         "r": [
          8.28,
          7.891666666666667,
          7.6,
          7.384937238493724,
          7.2179166666666665,
          8.28
         ],
         "theta": [
          "ELYZA-Tasks-100",
          "MT-Bench-60",
          "Rakuda-40",
          "Tengu-Bench-120",
          "VNTL-Translation-200",
          "ELYZA-Tasks-100"
         ],
         "type": "scatterpolar"
        },
        {
         "fill": "toself",
         "fillcolor": "rgba(255, 151, 255, 0.2)",
         "hovertemplate": "<b>%{fullData.name}</b><br>Score: %{r:.2f}<extra></extra>",
         "line": {
          "color": "#FF97FF"
         },
         "mode": "lines+markers",
         "name": "qwen3-8b",
         "r": [
          7.85,
          8.041666666666666,
          6.6375,
          7.745833333333334,
          6.394166666666666,
          7.85
         ],
         "theta": [
          "ELYZA-Tasks-100",
          "MT-Bench-60",
          "Rakuda-40",
          "Tengu-Bench-120",
          "VNTL-Translation-200",
          "ELYZA-Tasks-100"
         ],
         "type": "scatterpolar"
        },
        {
         "fill": "toself",
         "fillcolor": "rgba(158, 185, 243, 0.2)",
         "hovertemplate": "<b>%{fullData.name}</b><br>Score: %{r:.2f}<extra></extra>",
         "line": {
          "color": "#9eb9f3"
         },
         "mode": "lines+markers",
         "name": "gemma-3n-e4b-it",
         "r": [
          7.01,
          7.791666666666667,
          7.544303797468355,
          6.045833333333333,
          7.470416666666666,
          7.01
         ],
         "theta": [
          "ELYZA-Tasks-100",
          "MT-Bench-60",
          "Rakuda-40",
          "Tengu-Bench-120",
          "VNTL-Translation-200",
          "ELYZA-Tasks-100"
         ],
         "type": "scatterpolar"
        },
        {
         "fill": "toself",
         "fillcolor": "rgba(248, 156, 116, 0.2)",
         "hovertemplate": "<b>%{fullData.name}</b><br>Score: %{r:.2f}<extra></extra>",
         "line": {
          "color": "#f89c74"
         },
         "mode": "lines+markers",
         "name": "shisa-v2-llama3.1-8b",
         "r": [
          7.54,
          6.983333333333333,
          7.506329113924051,
          6.7238493723849375,
          6.8825,
          7.54
         ],
         "theta": [
          "ELYZA-Tasks-100",
          "MT-Bench-60",
          "Rakuda-40",
          "Tengu-Bench-120",
          "VNTL-Translation-200",
          "ELYZA-Tasks-100"
         ],
         "type": "scatterpolar"
        },
        {
         "fill": "toself",
         "fillcolor": "rgba(182, 232, 128, 0.2)",
         "hovertemplate": "<b>%{fullData.name}</b><br>Score: %{r:.2f}<extra></extra>",
         "line": {
          "color": "#B6E880"
         },
         "mode": "lines+markers",
         "name": "shisa-v2-qwen2.5-7b",
         "r": [
          7.61,
          6.95,
          6.769230769230769,
          7.020833333333333,
          6.664583333333334,
          7.61
         ],
         "theta": [
          "ELYZA-Tasks-100",
          "MT-Bench-60",
          "Rakuda-40",
          "Tengu-Bench-120",
          "VNTL-Translation-200",
          "ELYZA-Tasks-100"
         ],
         "type": "scatterpolar"
        },
        {
         "fill": "toself",
         "fillcolor": "rgba(220, 176, 242, 0.2)",
         "hovertemplate": "<b>%{fullData.name}</b><br>Score: %{r:.2f}<extra></extra>",
         "line": {
          "color": "#dcb0f2"
         },
         "mode": "lines+markers",
         "name": "aya-expanse-8b-abliterated",
         "r": [
          7.13,
          6.875,
          7.2125,
          6.604166666666667,
          6.465416666666666,
          7.13
         ],
         "theta": [
          "ELYZA-Tasks-100",
          "MT-Bench-60",
          "Rakuda-40",
          "Tengu-Bench-120",
          "VNTL-Translation-200",
          "ELYZA-Tasks-100"
         ],
         "type": "scatterpolar"
        },
        {
         "fill": "toself",
         "fillcolor": "rgba(179, 179, 179, 0.2)",
         "hovertemplate": "<b>%{fullData.name}</b><br>Score: %{r:.2f}<extra></extra>",
         "line": {
          "color": "#b3b3b3"
         },
         "mode": "lines+markers",
         "name": "gemma-3-4b",
         "r": [
          7.07,
          6.958333333333333,
          6.544303797468355,
          6.305439330543933,
          6.54375,
          7.07
         ],
         "theta": [
          "ELYZA-Tasks-100",
          "MT-Bench-60",
          "Rakuda-40",
          "Tengu-Bench-120",
          "VNTL-Translation-200",
          "ELYZA-Tasks-100"
         ],
         "type": "scatterpolar"
        },
        {
         "fill": "toself",
         "fillcolor": "rgba(239, 85, 59, 0.2)",
         "hovertemplate": "<b>%{fullData.name}</b><br>Score: %{r:.2f}<extra></extra>",
         "line": {
          "color": "#EF553B"
         },
         "mode": "lines+markers",
         "name": "qwen2.5-7b-instruct",
         "r": [
          7.29,
          6.158333333333333,
          6.6875,
          6.891213389121339,
          6.276666666666666,
          7.29
         ],
         "theta": [
          "ELYZA-Tasks-100",
          "MT-Bench-60",
          "Rakuda-40",
          "Tengu-Bench-120",
          "VNTL-Translation-200",
          "ELYZA-Tasks-100"
         ],
         "type": "scatterpolar"
        },
        {
         "fill": "toself",
         "fillcolor": "rgba(135, 197, 95, 0.2)",
         "hovertemplate": "<b>%{fullData.name}</b><br>Score: %{r:.2f}<extra></extra>",
         "line": {
          "color": "#87c55f"
         },
         "mode": "lines+markers",
         "name": "deepcogito_cogito-v1-preview-llama-8b",
         "r": [
          6.78,
          6.275,
          5.6455696202531644,
          6.504166666666666,
          6.3566666666666665,
          6.78
         ],
         "theta": [
          "ELYZA-Tasks-100",
          "MT-Bench-60",
          "Rakuda-40",
          "Tengu-Bench-120",
          "VNTL-Translation-200",
          "ELYZA-Tasks-100"
         ],
         "type": "scatterpolar"
        },
        {
         "fill": "toself",
         "fillcolor": "rgba(254, 203, 82, 0.2)",
         "hovertemplate": "<b>%{fullData.name}</b><br>Score: %{r:.2f}<extra></extra>",
         "line": {
          "color": "#FECB52"
         },
         "mode": "lines+markers",
         "name": "llama-3.1-8b-instruct",
         "r": [
          7.03,
          5.15,
          5.2025316455696204,
          6.283333333333333,
          6.066666666666666,
          7.03
         ],
         "theta": [
          "ELYZA-Tasks-100",
          "MT-Bench-60",
          "Rakuda-40",
          "Tengu-Bench-120",
          "VNTL-Translation-200",
          "ELYZA-Tasks-100"
         ],
         "type": "scatterpolar"
        },
        {
         "fill": "toself",
         "fillcolor": "rgba(180, 151, 231, 0.2)",
         "hovertemplate": "<b>%{fullData.name}</b><br>Score: %{r:.2f}<extra></extra>",
         "line": {
          "color": "#b497e7"
         },
         "mode": "lines+markers",
         "name": "granite-3.3-8b-instruct",
         "r": [
          6.41,
          5.958333333333333,
          5.3875,
          6.046025104602511,
          6.010833333333334,
          6.41
         ],
         "theta": [
          "ELYZA-Tasks-100",
          "MT-Bench-60",
          "Rakuda-40",
          "Tengu-Bench-120",
          "VNTL-Translation-200",
          "ELYZA-Tasks-100"
         ],
         "type": "scatterpolar"
        },
        {
         "fill": "toself",
         "fillcolor": "rgba(25, 211, 243, 0.2)",
         "hovertemplate": "<b>%{fullData.name}</b><br>Score: %{r:.2f}<extra></extra>",
         "line": {
          "color": "#19D3F3"
         },
         "mode": "lines+markers",
         "name": "internvl3_5-8b",
         "r": [
          6.05,
          5.258333333333334,
          4.2625,
          6.150627615062762,
          6.355416666666667,
          6.05
         ],
         "theta": [
          "ELYZA-Tasks-100",
          "MT-Bench-60",
          "Rakuda-40",
          "Tengu-Bench-120",
          "VNTL-Translation-200",
          "ELYZA-Tasks-100"
         ],
         "type": "scatterpolar"
        },
        {
         "fill": "toself",
         "fillcolor": "rgba(201, 219, 116, 0.2)",
         "hovertemplate": "<b>%{fullData.name}</b><br>Score: %{r:.2f}<extra></extra>",
         "line": {
          "color": "#c9db74"
         },
         "mode": "lines+markers",
         "name": "hunyuan-mt-7b",
         "r": [
          5.66,
          4.983333333333333,
          5.220779220779221,
          5.2375,
          6.408333333333334,
          5.66
         ],
         "theta": [
          "ELYZA-Tasks-100",
          "MT-Bench-60",
          "Rakuda-40",
          "Tengu-Bench-120",
          "VNTL-Translation-200",
          "ELYZA-Tasks-100"
         ],
         "type": "scatterpolar"
        },
        {
         "fill": "toself",
         "fillcolor": "rgba(254, 136, 177, 0.2)",
         "hovertemplate": "<b>%{fullData.name}</b><br>Score: %{r:.2f}<extra></extra>",
         "line": {
          "color": "#fe88b1"
         },
         "mode": "lines+markers",
         "name": "dolphin3.0-llama3.1-8b",
         "r": [
          5.99,
          5.408333333333333,
          5.050632911392405,
          5.541666666666667,
          5.96,
          5.99
         ],
         "theta": [
          "ELYZA-Tasks-100",
          "MT-Bench-60",
          "Rakuda-40",
          "Tengu-Bench-120",
          "VNTL-Translation-200",
          "ELYZA-Tasks-100"
         ],
         "type": "scatterpolar"
        },
        {
         "fill": "toself",
         "fillcolor": "rgba(255, 161, 90, 0.2)",
         "hovertemplate": "<b>%{fullData.name}</b><br>Score: %{r:.2f}<extra></extra>",
         "line": {
          "color": "#FFA15A"
         },
         "mode": "lines+markers",
         "name": "hunyuan-mt-chimera-7b",
         "r": [
          5.12,
          4.675,
          4.875,
          4.829166666666667,
          6.57375,
          5.12
         ],
         "theta": [
          "ELYZA-Tasks-100",
          "MT-Bench-60",
          "Rakuda-40",
          "Tengu-Bench-120",
          "VNTL-Translation-200",
          "ELYZA-Tasks-100"
         ],
         "type": "scatterpolar"
        },
        {
         "fill": "toself",
         "fillcolor": "rgba(0, 204, 150, 0.2)",
         "hovertemplate": "<b>%{fullData.name}</b><br>Score: %{r:.2f}<extra></extra>",
         "line": {
          "color": "#00CC96"
         },
         "mode": "lines+markers",
         "name": "internvl3_5-4b",
         "r": [
          5.62,
          4.483333333333333,
          3.4050632911392404,
          5.325,
          5.583333333333334,
          5.62
         ],
         "theta": [
          "ELYZA-Tasks-100",
          "MT-Bench-60",
          "Rakuda-40",
          "Tengu-Bench-120",
          "VNTL-Translation-200",
          "ELYZA-Tasks-100"
         ],
         "type": "scatterpolar"
        },
        {
         "fill": "toself",
         "fillcolor": "rgba(246, 207, 113, 0.2)",
         "hovertemplate": "<b>%{fullData.name}</b><br>Score: %{r:.2f}<extra></extra>",
         "line": {
          "color": "#f6cf71"
         },
         "mode": "lines+markers",
         "name": "aixsatoshi-honyaku-multi-translator-swallow-ms7b",
         "r": [
          3.87,
          2.908333333333333,
          4.2,
          2.816666666666667,
          3.88875,
          3.87
         ],
         "theta": [
          "ELYZA-Tasks-100",
          "MT-Bench-60",
          "Rakuda-40",
          "Tengu-Bench-120",
          "VNTL-Translation-200",
          "ELYZA-Tasks-100"
         ],
         "type": "scatterpolar"
        }
       ],
       "layout": {
        "height": 600,
        "legend": {
         "orientation": "h",
         "x": 0.5,
         "xanchor": "center",
         "y": -0.25,
         "yanchor": "bottom"
        },
        "margin": {
         "b": 120,
         "l": 80,
         "r": 80,
         "t": 80
        },
        "polar": {
         "angularaxis": {
          "tickfont": {
           "size": 12
          }
         },
         "radialaxis": {
          "range": [
           0,
           10
          ],
          "visible": true
         }
        },
        "template": {
         "data": {
          "bar": [
           {
            "error_x": {
             "color": "#2a3f5f"
            },
            "error_y": {
             "color": "#2a3f5f"
            },
            "marker": {
             "line": {
              "color": "white",
              "width": 0.5
             },
             "pattern": {
              "fillmode": "overlay",
              "size": 10,
              "solidity": 0.2
             }
            },
            "type": "bar"
           }
          ],
          "barpolar": [
           {
            "marker": {
             "line": {
              "color": "white",
              "width": 0.5
             },
             "pattern": {
              "fillmode": "overlay",
              "size": 10,
              "solidity": 0.2
             }
            },
            "type": "barpolar"
           }
          ],
          "carpet": [
           {
            "aaxis": {
             "endlinecolor": "#2a3f5f",
             "gridcolor": "#C8D4E3",
             "linecolor": "#C8D4E3",
             "minorgridcolor": "#C8D4E3",
             "startlinecolor": "#2a3f5f"
            },
            "baxis": {
             "endlinecolor": "#2a3f5f",
             "gridcolor": "#C8D4E3",
             "linecolor": "#C8D4E3",
             "minorgridcolor": "#C8D4E3",
             "startlinecolor": "#2a3f5f"
            },
            "type": "carpet"
           }
          ],
          "choropleth": [
           {
            "colorbar": {
             "outlinewidth": 0,
             "ticks": ""
            },
            "type": "choropleth"
           }
          ],
          "contour": [
           {
            "colorbar": {
             "outlinewidth": 0,
             "ticks": ""
            },
            "colorscale": [
             [
              0,
              "#0d0887"
             ],
             [
              0.1111111111111111,
              "#46039f"
             ],
             [
              0.2222222222222222,
              "#7201a8"
             ],
             [
              0.3333333333333333,
              "#9c179e"
             ],
             [
              0.4444444444444444,
              "#bd3786"
             ],
             [
              0.5555555555555556,
              "#d8576b"
             ],
             [
              0.6666666666666666,
              "#ed7953"
             ],
             [
              0.7777777777777778,
              "#fb9f3a"
             ],
             [
              0.8888888888888888,
              "#fdca26"
             ],
             [
              1,
              "#f0f921"
             ]
            ],
            "type": "contour"
           }
          ],
          "contourcarpet": [
           {
            "colorbar": {
             "outlinewidth": 0,
             "ticks": ""
            },
            "type": "contourcarpet"
           }
          ],
          "heatmap": [
           {
            "colorbar": {
             "outlinewidth": 0,
             "ticks": ""
            },
            "colorscale": [
             [
              0,
              "#0d0887"
             ],
             [
              0.1111111111111111,
              "#46039f"
             ],
             [
              0.2222222222222222,
              "#7201a8"
             ],
             [
              0.3333333333333333,
              "#9c179e"
             ],
             [
              0.4444444444444444,
              "#bd3786"
             ],
             [
              0.5555555555555556,
              "#d8576b"
             ],
             [
              0.6666666666666666,
              "#ed7953"
             ],
             [
              0.7777777777777778,
              "#fb9f3a"
             ],
             [
              0.8888888888888888,
              "#fdca26"
             ],
             [
              1,
              "#f0f921"
             ]
            ],
            "type": "heatmap"
           }
          ],
          "histogram": [
           {
            "marker": {
             "pattern": {
              "fillmode": "overlay",
              "size": 10,
              "solidity": 0.2
             }
            },
            "type": "histogram"
           }
          ],
          "histogram2d": [
           {
            "colorbar": {
             "outlinewidth": 0,
             "ticks": ""
            },
            "colorscale": [
             [
              0,
              "#0d0887"
             ],
             [
              0.1111111111111111,
              "#46039f"
             ],
             [
              0.2222222222222222,
              "#7201a8"
             ],
             [
              0.3333333333333333,
              "#9c179e"
             ],
             [
              0.4444444444444444,
              "#bd3786"
             ],
             [
              0.5555555555555556,
              "#d8576b"
             ],
             [
              0.6666666666666666,
              "#ed7953"
             ],
             [
              0.7777777777777778,
              "#fb9f3a"
             ],
             [
              0.8888888888888888,
              "#fdca26"
             ],
             [
              1,
              "#f0f921"
             ]
            ],
            "type": "histogram2d"
           }
          ],
          "histogram2dcontour": [
           {
            "colorbar": {
             "outlinewidth": 0,
             "ticks": ""
            },
            "colorscale": [
             [
              0,
              "#0d0887"
             ],
             [
              0.1111111111111111,
              "#46039f"
             ],
             [
              0.2222222222222222,
              "#7201a8"
             ],
             [
              0.3333333333333333,
              "#9c179e"
             ],
             [
              0.4444444444444444,
              "#bd3786"
             ],
             [
              0.5555555555555556,
              "#d8576b"
             ],
             [
              0.6666666666666666,
              "#ed7953"
             ],
             [
              0.7777777777777778,
              "#fb9f3a"
             ],
             [
              0.8888888888888888,
              "#fdca26"
             ],
             [
              1,
              "#f0f921"
             ]
            ],
            "type": "histogram2dcontour"
           }
          ],
          "mesh3d": [
           {
            "colorbar": {
             "outlinewidth": 0,
             "ticks": ""
            },
            "type": "mesh3d"
           }
          ],
          "parcoords": [
           {
            "line": {
             "colorbar": {
              "outlinewidth": 0,
              "ticks": ""
             }
            },
            "type": "parcoords"
           }
          ],
          "pie": [
           {
            "automargin": true,
            "type": "pie"
           }
          ],
          "scatter": [
           {
            "fillpattern": {
             "fillmode": "overlay",
             "size": 10,
             "solidity": 0.2
            },
            "type": "scatter"
           }
          ],
          "scatter3d": [
           {
            "line": {
             "colorbar": {
              "outlinewidth": 0,
              "ticks": ""
             }
            },
            "marker": {
             "colorbar": {
              "outlinewidth": 0,
              "ticks": ""
             }
            },
            "type": "scatter3d"
           }
          ],
          "scattercarpet": [
           {
            "marker": {
             "colorbar": {
              "outlinewidth": 0,
              "ticks": ""
             }
            },
            "type": "scattercarpet"
           }
          ],
          "scattergeo": [
           {
            "marker": {
             "colorbar": {
              "outlinewidth": 0,
              "ticks": ""
             }
            },
            "type": "scattergeo"
           }
          ],
          "scattergl": [
           {
            "marker": {
             "colorbar": {
              "outlinewidth": 0,
              "ticks": ""
             }
            },
            "type": "scattergl"
           }
          ],
          "scattermap": [
           {
            "marker": {
             "colorbar": {
              "outlinewidth": 0,
              "ticks": ""
             }
            },
            "type": "scattermap"
           }
          ],
          "scattermapbox": [
           {
            "marker": {
             "colorbar": {
              "outlinewidth": 0,
              "ticks": ""
             }
            },
            "type": "scattermapbox"
           }
          ],
          "scatterpolar": [
           {
            "marker": {
             "colorbar": {
              "outlinewidth": 0,
              "ticks": ""
             }
            },
            "type": "scatterpolar"
           }
          ],
          "scatterpolargl": [
           {
            "marker": {
             "colorbar": {
              "outlinewidth": 0,
              "ticks": ""
             }
            },
            "type": "scatterpolargl"
           }
          ],
          "scatterternary": [
           {
            "marker": {
             "colorbar": {
              "outlinewidth": 0,
              "ticks": ""
             }
            },
            "type": "scatterternary"
           }
          ],
          "surface": [
           {
            "colorbar": {
             "outlinewidth": 0,
             "ticks": ""
            },
            "colorscale": [
             [
              0,
              "#0d0887"
             ],
             [
              0.1111111111111111,
              "#46039f"
             ],
             [
              0.2222222222222222,
              "#7201a8"
             ],
             [
              0.3333333333333333,
              "#9c179e"
             ],
             [
              0.4444444444444444,
              "#bd3786"
             ],
             [
              0.5555555555555556,
              "#d8576b"
             ],
             [
              0.6666666666666666,
              "#ed7953"
             ],
             [
              0.7777777777777778,
              "#fb9f3a"
             ],
             [
              0.8888888888888888,
              "#fdca26"
             ],
             [
              1,
              "#f0f921"
             ]
            ],
            "type": "surface"
           }
          ],
          "table": [
           {
            "cells": {
             "fill": {
              "color": "#EBF0F8"
             },
             "line": {
              "color": "white"
             }
            },
            "header": {
             "fill": {
              "color": "#C8D4E3"
             },
             "line": {
              "color": "white"
             }
            },
            "type": "table"
           }
          ]
         },
         "layout": {
          "annotationdefaults": {
           "arrowcolor": "#2a3f5f",
           "arrowhead": 0,
           "arrowwidth": 1
          },
          "autotypenumbers": "strict",
          "coloraxis": {
           "colorbar": {
            "outlinewidth": 0,
            "ticks": ""
           }
          },
          "colorscale": {
           "diverging": [
            [
             0,
             "#8e0152"
            ],
            [
             0.1,
             "#c51b7d"
            ],
            [
             0.2,
             "#de77ae"
            ],
            [
             0.3,
             "#f1b6da"
            ],
            [
             0.4,
             "#fde0ef"
            ],
            [
             0.5,
             "#f7f7f7"
            ],
            [
             0.6,
             "#e6f5d0"
            ],
            [
             0.7,
             "#b8e186"
            ],
            [
             0.8,
             "#7fbc41"
            ],
            [
             0.9,
             "#4d9221"
            ],
            [
             1,
             "#276419"
            ]
           ],
           "sequential": [
            [
             0,
             "#0d0887"
            ],
            [
             0.1111111111111111,
             "#46039f"
            ],
            [
             0.2222222222222222,
             "#7201a8"
            ],
            [
             0.3333333333333333,
             "#9c179e"
            ],
            [
             0.4444444444444444,
             "#bd3786"
            ],
            [
             0.5555555555555556,
             "#d8576b"
            ],
            [
             0.6666666666666666,
             "#ed7953"
            ],
            [
             0.7777777777777778,
             "#fb9f3a"
            ],
            [
             0.8888888888888888,
             "#fdca26"
            ],
            [
             1,
             "#f0f921"
            ]
           ],
           "sequentialminus": [
            [
             0,
             "#0d0887"
            ],
            [
             0.1111111111111111,
             "#46039f"
            ],
            [
             0.2222222222222222,
             "#7201a8"
            ],
            [
             0.3333333333333333,
             "#9c179e"
            ],
            [
             0.4444444444444444,
             "#bd3786"
            ],
            [
             0.5555555555555556,
             "#d8576b"
            ],
            [
             0.6666666666666666,
             "#ed7953"
            ],
            [
             0.7777777777777778,
             "#fb9f3a"
            ],
            [
             0.8888888888888888,
             "#fdca26"
            ],
            [
             1,
             "#f0f921"
            ]
           ]
          },
          "colorway": [
           "#636efa",
           "#EF553B",
           "#00cc96",
           "#ab63fa",
           "#FFA15A",
           "#19d3f3",
           "#FF6692",
           "#B6E880",
           "#FF97FF",
           "#FECB52"
          ],
          "font": {
           "color": "#2a3f5f"
          },
          "geo": {
           "bgcolor": "white",
           "lakecolor": "white",
           "landcolor": "white",
           "showlakes": true,
           "showland": true,
           "subunitcolor": "#C8D4E3"
          },
          "hoverlabel": {
           "align": "left"
          },
          "hovermode": "closest",
          "mapbox": {
           "style": "light"
          },
          "paper_bgcolor": "white",
          "plot_bgcolor": "white",
          "polar": {
           "angularaxis": {
            "gridcolor": "#EBF0F8",
            "linecolor": "#EBF0F8",
            "ticks": ""
           },
           "bgcolor": "white",
           "radialaxis": {
            "gridcolor": "#EBF0F8",
            "linecolor": "#EBF0F8",
            "ticks": ""
           }
          },
          "scene": {
           "xaxis": {
            "backgroundcolor": "white",
            "gridcolor": "#DFE8F3",
            "gridwidth": 2,
            "linecolor": "#EBF0F8",
            "showbackground": true,
            "ticks": "",
            "zerolinecolor": "#EBF0F8"
           },
           "yaxis": {
            "backgroundcolor": "white",
            "gridcolor": "#DFE8F3",
            "gridwidth": 2,
            "linecolor": "#EBF0F8",
            "showbackground": true,
            "ticks": "",
            "zerolinecolor": "#EBF0F8"
           },
           "zaxis": {
            "backgroundcolor": "white",
            "gridcolor": "#DFE8F3",
            "gridwidth": 2,
            "linecolor": "#EBF0F8",
            "showbackground": true,
            "ticks": "",
            "zerolinecolor": "#EBF0F8"
           }
          },
          "shapedefaults": {
           "line": {
            "color": "#2a3f5f"
           }
          },
          "ternary": {
           "aaxis": {
            "gridcolor": "#DFE8F3",
            "linecolor": "#A2B1C6",
            "ticks": ""
           },
           "baxis": {
            "gridcolor": "#DFE8F3",
            "linecolor": "#A2B1C6",
            "ticks": ""
           },
           "bgcolor": "white",
           "caxis": {
            "gridcolor": "#DFE8F3",
            "linecolor": "#A2B1C6",
            "ticks": ""
           }
          },
          "title": {
           "x": 0.05
          },
          "xaxis": {
           "automargin": true,
           "gridcolor": "#EBF0F8",
           "linecolor": "#EBF0F8",
           "ticks": "",
           "title": {
            "standoff": 15
           },
           "zerolinecolor": "#EBF0F8",
           "zerolinewidth": 2
          },
          "yaxis": {
           "automargin": true,
           "gridcolor": "#EBF0F8",
           "linecolor": "#EBF0F8",
           "ticks": "",
           "title": {
            "standoff": 15
           },
           "zerolinecolor": "#EBF0F8",
           "zerolinewidth": 2
          }
         }
        },
        "title": {
         "font": {
          "size": 20
         },
         "text": "Model Performance Radar Chart (Averaged)<br><sup>Average Across gpt-4.1, gpt-5-mini | 4B - 8B Model Range</sup>",
         "x": 0.5,
         "y": 0.95
        }
       }
      }
     },
     "metadata": {},
     "output_type": "display_data"
    }
   ],
   "source": [
    "import plotly.graph_objects as go\n",
    "import plotly.express as px\n",
    "import textwrap\n",
    "\n",
    "primary_judge = 'judge_gpt-4.1'\n",
    "df_filtered = all_result_df[all_result_df['judge_model'].isin([primary_judge, 'Metrics (BLEU/chrF)'])]\n",
    "mean_df = df_filtered.groupby([\"model_name\", \"eval_dataset\"])['score'].mean().reset_index()\n",
    "unique_benchmarks = sorted(mean_df['eval_dataset'].unique())\n",
    "\n",
    "def hex_to_rgba(h, a):\n",
    "    h = h.lstrip('#')\n",
    "    return f'rgba({int(h[0:2], 16)}, {int(h[2:4], 16)}, {int(h[4:6], 16)}, {a})'\n",
    "\n",
    "fig_radar = go.Figure()\n",
    "# Uses the global model_order and color_map\n",
    "for model_name in model_order:\n",
    "    if model_name in mean_df['model_name'].values:\n",
    "        model_subset = mean_df[mean_df['model_name'] == model_name].set_index('eval_dataset').reindex(unique_benchmarks).reset_index()\n",
    "\n",
    "        # Check if there's data to avoid errors\n",
    "        if not model_subset.empty:\n",
    "            scores_closed = model_subset[\"score\"].tolist() + [model_subset[\"score\"].iloc[0]]\n",
    "            theta_closed = model_subset[\"eval_dataset\"].tolist() + [model_subset[\"eval_dataset\"].iloc[0]]\n",
    "\n",
    "            fig_radar.add_trace(go.Scatterpolar(\n",
    "                # Use the new \"closed\" lists\n",
    "                r=scores_closed,\n",
    "                theta=theta_closed,\n",
    "                fill='toself',\n",
    "                name=model_name,\n",
    "                mode='lines+markers',\n",
    "                line=dict(color=color_map[model_name]),\n",
    "                fillcolor=hex_to_rgba(color_map[model_name], 0.2),\n",
    "                hovertemplate=\"<b>%{fullData.name}</b><br>Score: %{r:.2f}<extra></extra>\"\n",
    "            ))\n",
    "        \n",
    "# --- Final Layout Update ---\n",
    "fig_radar.update_layout(\n",
    "    height=600,\n",
    "    title=dict(\n",
    "        text=f\"Model Performance Radar Chart<br><sup>Judge: {primary_judge.replace('judge_', '')} & Metrics | {MODEL_RANGE_GROUP}</sup>\",\n",
    "        font=dict(size=20),\n",
    "        x=0.5,\n",
    "        y=0.95\n",
    "    ),\n",
    "    polar=dict(\n",
    "        radialaxis=dict(visible=True, range=[0, 10]),\n",
    "        angularaxis=dict(\n",
    "            tickfont=dict(size=12)\n",
    "        )\n",
    "    ),\n",
    "    legend=dict(\n",
    "        orientation='h',\n",
    "        yanchor='bottom',\n",
    "        y=-0.25, # Further increase distance for legend\n",
    "        xanchor='center',\n",
    "        x=0.5\n",
    "    ),\n",
    "    template='plotly_white',\n",
    "    # Increase bottom margin significantly to ensure everything fits\n",
    "    margin=dict(l=80, r=80, b=120, t=80)\n",
    ")\n",
    "\n",
    "fig_radar.show()\n",
    "\n",
    "# fig_radar.write_image(f\"{GRAPHS_DIR}/radar_chart.png\")\n",
    "\n",
    "# --- AVERAGED RADAR CHART (Across All Judge Models) ---\n",
    "import plotly.graph_objects as go\n",
    "import plotly.express as px\n",
    "import textwrap\n",
    "\n",
    "# Get the list of judge models for the title\n",
    "judge_models_list = sorted(all_result_df['judge_model'].unique())\n",
    "judge_models_formatted = [j.replace('judge_', '') for j in judge_models_list]\n",
    "judge_models_text = ', '.join(judge_models_formatted)\n",
    "\n",
    "# Create averaged data across all judge models\n",
    "df_averaged = all_result_df.copy()\n",
    "mean_df_averaged = df_averaged.groupby([\"model_name\", \"eval_dataset\"])['score'].mean().reset_index()\n",
    "unique_benchmarks = sorted(mean_df_averaged['eval_dataset'].unique())\n",
    "\n",
    "fig_radar_avg = go.Figure()\n",
    "# Uses the global model_order and color_map\n",
    "for model_name in model_order:\n",
    "    if model_name in mean_df_averaged['model_name'].values:\n",
    "        model_subset = mean_df_averaged[mean_df_averaged['model_name'] == model_name].set_index('eval_dataset').reindex(unique_benchmarks).reset_index()\n",
    "\n",
    "        # Check if there's data to avoid errors\n",
    "        if not model_subset.empty:\n",
    "            scores_closed = model_subset[\"score\"].tolist() + [model_subset[\"score\"].iloc[0]]\n",
    "            theta_closed = model_subset[\"eval_dataset\"].tolist() + [model_subset[\"eval_dataset\"].iloc[0]]\n",
    "\n",
    "            fig_radar_avg.add_trace(go.Scatterpolar(\n",
    "                # Use the new \"closed\" lists\n",
    "                r=scores_closed,\n",
    "                theta=theta_closed,\n",
    "                fill='toself',\n",
    "                name=model_name,\n",
    "                mode='lines+markers',\n",
    "                line=dict(color=color_map[model_name]),\n",
    "                fillcolor=hex_to_rgba(color_map[model_name], 0.2),\n",
    "                hovertemplate=\"<b>%{fullData.name}</b><br>Score: %{r:.2f}<extra></extra>\"\n",
    "            ))\n",
    "        \n",
    "# --- Final Layout Update ---\n",
    "fig_radar_avg.update_layout(\n",
    "    height=600,\n",
    "    title=dict(\n",
    "        text=f\"Model Performance Radar Chart (Averaged)<br><sup>Average Across {judge_models_text} | {MODEL_RANGE_GROUP}</sup>\",\n",
    "        font=dict(size=20),\n",
    "        x=0.5,\n",
    "        y=0.95\n",
    "    ),\n",
    "    polar=dict(\n",
    "        radialaxis=dict(visible=True, range=[0, 10]),\n",
    "        angularaxis=dict(\n",
    "            tickfont=dict(size=12)\n",
    "        )\n",
    "    ),\n",
    "    legend=dict(\n",
    "        orientation='h',\n",
    "        yanchor='bottom',\n",
    "        y=-0.25, # Further increase distance for legend\n",
    "        xanchor='center',\n",
    "        x=0.5\n",
    "    ),\n",
    "    template='plotly_white',\n",
    "    # Increase bottom margin significantly to ensure everything fits\n",
    "    margin=dict(l=80, r=80, b=120, t=80)\n",
    ")\n",
    "\n",
    "fig_radar_avg.show()\n",
    "\n",
    "# fig_radar_avg.write_image(f\"{GRAPHS_DIR}/radar_chart_averaged.png\")\n"
   ]
  },
  {
   "cell_type": "code",
   "execution_count": 64,
   "id": "82216dff",
   "metadata": {},
   "outputs": [
    {
     "data": {
      "application/vnd.plotly.v1+json": {
       "config": {
        "plotlyServerURL": "https://plot.ly"
       },
       "data": [
        {
         "marker": {
          "color": "#66c5cc"
         },
         "name": "gpt-4o",
         "orientation": "h",
         "showlegend": true,
         "text": [
          "9.22"
         ],
         "textposition": "outside",
         "type": "bar",
         "x": [
          9.22
         ],
         "xaxis": "x",
         "y": [
          "gpt-4o"
         ],
         "yaxis": "y"
        },
        {
         "marker": {
          "color": "#FF6692"
         },
         "name": "gemini-2.0-flash-lite",
         "orientation": "h",
         "showlegend": true,
         "text": [
          "8.30"
         ],
         "textposition": "outside",
         "type": "bar",
         "x": [
          8.3
         ],
         "xaxis": "x",
         "y": [
          "gemini-2.0-flash-lite"
         ],
         "yaxis": "y"
        },
        {
         "marker": {
          "color": "#AB63FA"
         },
         "name": "gemma-3-12b-it",
         "orientation": "h",
         "showlegend": true,
         "text": [
          "8.62"
         ],
         "textposition": "outside",
         "type": "bar",
         "x": [
          8.62
         ],
         "xaxis": "x",
         "y": [
          "gemma-3-12b-it"
         ],
         "yaxis": "y"
        },
        {
         "marker": {
          "color": "#FF97FF"
         },
         "name": "qwen3-8b",
         "orientation": "h",
         "showlegend": true,
         "text": [
          "8.40"
         ],
         "textposition": "outside",
         "type": "bar",
         "x": [
          8.4
         ],
         "xaxis": "x",
         "y": [
          "qwen3-8b"
         ],
         "yaxis": "y"
        },
        {
         "marker": {
          "color": "#9eb9f3"
         },
         "name": "gemma-3n-e4b-it",
         "orientation": "h",
         "showlegend": true,
         "text": [
          "7.24"
         ],
         "textposition": "outside",
         "type": "bar",
         "x": [
          7.24
         ],
         "xaxis": "x",
         "y": [
          "gemma-3n-e4b-it"
         ],
         "yaxis": "y"
        },
        {
         "marker": {
          "color": "#f89c74"
         },
         "name": "shisa-v2-llama3.1-8b",
         "orientation": "h",
         "showlegend": true,
         "text": [
          "7.76"
         ],
         "textposition": "outside",
         "type": "bar",
         "x": [
          7.76
         ],
         "xaxis": "x",
         "y": [
          "shisa-v2-llama3.1-8b"
         ],
         "yaxis": "y"
        },
        {
         "marker": {
          "color": "#B6E880"
         },
         "name": "shisa-v2-qwen2.5-7b",
         "orientation": "h",
         "showlegend": true,
         "text": [
          "7.82"
         ],
         "textposition": "outside",
         "type": "bar",
         "x": [
          7.82
         ],
         "xaxis": "x",
         "y": [
          "shisa-v2-qwen2.5-7b"
         ],
         "yaxis": "y"
        },
        {
         "marker": {
          "color": "#dcb0f2"
         },
         "name": "aya-expanse-8b-abliterated",
         "orientation": "h",
         "showlegend": true,
         "text": [
          "7.44"
         ],
         "textposition": "outside",
         "type": "bar",
         "x": [
          7.44
         ],
         "xaxis": "x",
         "y": [
          "aya-expanse-8b-abliterated"
         ],
         "yaxis": "y"
        },
        {
         "marker": {
          "color": "#b3b3b3"
         },
         "name": "gemma-3-4b",
         "orientation": "h",
         "showlegend": true,
         "text": [
          "7.42"
         ],
         "textposition": "outside",
         "type": "bar",
         "x": [
          7.42
         ],
         "xaxis": "x",
         "y": [
          "gemma-3-4b"
         ],
         "yaxis": "y"
        },
        {
         "marker": {
          "color": "#EF553B"
         },
         "name": "qwen2.5-7b-instruct",
         "orientation": "h",
         "showlegend": true,
         "text": [
          "7.62"
         ],
         "textposition": "outside",
         "type": "bar",
         "x": [
          7.62
         ],
         "xaxis": "x",
         "y": [
          "qwen2.5-7b-instruct"
         ],
         "yaxis": "y"
        },
        {
         "marker": {
          "color": "#87c55f"
         },
         "name": "deepcogito_cogito-v1-preview-llama-8b",
         "orientation": "h",
         "showlegend": true,
         "text": [
          "7.20"
         ],
         "textposition": "outside",
         "type": "bar",
         "x": [
          7.2
         ],
         "xaxis": "x",
         "y": [
          "deepcogito_cogito-v1-preview-llama-8b"
         ],
         "yaxis": "y"
        },
        {
         "marker": {
          "color": "#FECB52"
         },
         "name": "llama-3.1-8b-instruct",
         "orientation": "h",
         "showlegend": true,
         "text": [
          "7.44"
         ],
         "textposition": "outside",
         "type": "bar",
         "x": [
          7.44
         ],
         "xaxis": "x",
         "y": [
          "llama-3.1-8b-instruct"
         ],
         "yaxis": "y"
        },
        {
         "marker": {
          "color": "#b497e7"
         },
         "name": "granite-3.3-8b-instruct",
         "orientation": "h",
         "showlegend": true,
         "text": [
          "6.76"
         ],
         "textposition": "outside",
         "type": "bar",
         "x": [
          6.76
         ],
         "xaxis": "x",
         "y": [
          "granite-3.3-8b-instruct"
         ],
         "yaxis": "y"
        },
        {
         "marker": {
          "color": "#19D3F3"
         },
         "name": "internvl3_5-8b",
         "orientation": "h",
         "showlegend": true,
         "text": [
          "6.74"
         ],
         "textposition": "outside",
         "type": "bar",
         "x": [
          6.74
         ],
         "xaxis": "x",
         "y": [
          "internvl3_5-8b"
         ],
         "yaxis": "y"
        },
        {
         "marker": {
          "color": "#c9db74"
         },
         "name": "hunyuan-mt-7b",
         "orientation": "h",
         "showlegend": true,
         "text": [
          "5.90"
         ],
         "textposition": "outside",
         "type": "bar",
         "x": [
          5.9
         ],
         "xaxis": "x",
         "y": [
          "hunyuan-mt-7b"
         ],
         "yaxis": "y"
        },
        {
         "marker": {
          "color": "#fe88b1"
         },
         "name": "dolphin3.0-llama3.1-8b",
         "orientation": "h",
         "showlegend": true,
         "text": [
          "6.36"
         ],
         "textposition": "outside",
         "type": "bar",
         "x": [
          6.36
         ],
         "xaxis": "x",
         "y": [
          "dolphin3.0-llama3.1-8b"
         ],
         "yaxis": "y"
        },
        {
         "marker": {
          "color": "#FFA15A"
         },
         "name": "hunyuan-mt-chimera-7b",
         "orientation": "h",
         "showlegend": true,
         "text": [
          "5.42"
         ],
         "textposition": "outside",
         "type": "bar",
         "x": [
          5.42
         ],
         "xaxis": "x",
         "y": [
          "hunyuan-mt-chimera-7b"
         ],
         "yaxis": "y"
        },
        {
         "marker": {
          "color": "#00CC96"
         },
         "name": "internvl3_5-4b",
         "orientation": "h",
         "showlegend": true,
         "text": [
          "6.30"
         ],
         "textposition": "outside",
         "type": "bar",
         "x": [
          6.3
         ],
         "xaxis": "x",
         "y": [
          "internvl3_5-4b"
         ],
         "yaxis": "y"
        },
        {
         "marker": {
          "color": "#f6cf71"
         },
         "name": "aixsatoshi-honyaku-multi-translator-swallow-ms7b",
         "orientation": "h",
         "showlegend": true,
         "text": [
          "4.08"
         ],
         "textposition": "outside",
         "type": "bar",
         "x": [
          4.08
         ],
         "xaxis": "x",
         "y": [
          "aixsatoshi-honyaku-multi-translator-swallow-ms7b"
         ],
         "yaxis": "y"
        },
        {
         "marker": {
          "color": "#66c5cc"
         },
         "name": "gpt-4o",
         "orientation": "h",
         "showlegend": false,
         "text": [
          "9.32"
         ],
         "textposition": "outside",
         "type": "bar",
         "x": [
          9.316666666666666
         ],
         "xaxis": "x2",
         "y": [
          "gpt-4o"
         ],
         "yaxis": "y2"
        },
        {
         "marker": {
          "color": "#FF6692"
         },
         "name": "gemini-2.0-flash-lite",
         "orientation": "h",
         "showlegend": false,
         "text": [
          "8.58"
         ],
         "textposition": "outside",
         "type": "bar",
         "x": [
          8.583333333333334
         ],
         "xaxis": "x2",
         "y": [
          "gemini-2.0-flash-lite"
         ],
         "yaxis": "y2"
        },
        {
         "marker": {
          "color": "#AB63FA"
         },
         "name": "gemma-3-12b-it",
         "orientation": "h",
         "showlegend": false,
         "text": [
          "8.67"
         ],
         "textposition": "outside",
         "type": "bar",
         "x": [
          8.666666666666666
         ],
         "xaxis": "x2",
         "y": [
          "gemma-3-12b-it"
         ],
         "yaxis": "y2"
        },
        {
         "marker": {
          "color": "#FF97FF"
         },
         "name": "qwen3-8b",
         "orientation": "h",
         "showlegend": false,
         "text": [
          "9.03"
         ],
         "textposition": "outside",
         "type": "bar",
         "x": [
          9.033333333333333
         ],
         "xaxis": "x2",
         "y": [
          "qwen3-8b"
         ],
         "yaxis": "y2"
        },
        {
         "marker": {
          "color": "#9eb9f3"
         },
         "name": "gemma-3n-e4b-it",
         "orientation": "h",
         "showlegend": false,
         "text": [
          "8.62"
         ],
         "textposition": "outside",
         "type": "bar",
         "x": [
          8.616666666666667
         ],
         "xaxis": "x2",
         "y": [
          "gemma-3n-e4b-it"
         ],
         "yaxis": "y2"
        },
        {
         "marker": {
          "color": "#f89c74"
         },
         "name": "shisa-v2-llama3.1-8b",
         "orientation": "h",
         "showlegend": false,
         "text": [
          "7.82"
         ],
         "textposition": "outside",
         "type": "bar",
         "x": [
          7.816666666666666
         ],
         "xaxis": "x2",
         "y": [
          "shisa-v2-llama3.1-8b"
         ],
         "yaxis": "y2"
        },
        {
         "marker": {
          "color": "#B6E880"
         },
         "name": "shisa-v2-qwen2.5-7b",
         "orientation": "h",
         "showlegend": false,
         "text": [
          "7.70"
         ],
         "textposition": "outside",
         "type": "bar",
         "x": [
          7.7
         ],
         "xaxis": "x2",
         "y": [
          "shisa-v2-qwen2.5-7b"
         ],
         "yaxis": "y2"
        },
        {
         "marker": {
          "color": "#dcb0f2"
         },
         "name": "aya-expanse-8b-abliterated",
         "orientation": "h",
         "showlegend": false,
         "text": [
          "7.73"
         ],
         "textposition": "outside",
         "type": "bar",
         "x": [
          7.733333333333333
         ],
         "xaxis": "x2",
         "y": [
          "aya-expanse-8b-abliterated"
         ],
         "yaxis": "y2"
        },
        {
         "marker": {
          "color": "#b3b3b3"
         },
         "name": "gemma-3-4b",
         "orientation": "h",
         "showlegend": false,
         "text": [
          "7.92"
         ],
         "textposition": "outside",
         "type": "bar",
         "x": [
          7.916666666666667
         ],
         "xaxis": "x2",
         "y": [
          "gemma-3-4b"
         ],
         "yaxis": "y2"
        },
        {
         "marker": {
          "color": "#EF553B"
         },
         "name": "qwen2.5-7b-instruct",
         "orientation": "h",
         "showlegend": false,
         "text": [
          "6.85"
         ],
         "textposition": "outside",
         "type": "bar",
         "x": [
          6.85
         ],
         "xaxis": "x2",
         "y": [
          "qwen2.5-7b-instruct"
         ],
         "yaxis": "y2"
        },
        {
         "marker": {
          "color": "#87c55f"
         },
         "name": "deepcogito_cogito-v1-preview-llama-8b",
         "orientation": "h",
         "showlegend": false,
         "text": [
          "7.02"
         ],
         "textposition": "outside",
         "type": "bar",
         "x": [
          7.016666666666667
         ],
         "xaxis": "x2",
         "y": [
          "deepcogito_cogito-v1-preview-llama-8b"
         ],
         "yaxis": "y2"
        },
        {
         "marker": {
          "color": "#FECB52"
         },
         "name": "llama-3.1-8b-instruct",
         "orientation": "h",
         "showlegend": false,
         "text": [
          "5.73"
         ],
         "textposition": "outside",
         "type": "bar",
         "x": [
          5.733333333333333
         ],
         "xaxis": "x2",
         "y": [
          "llama-3.1-8b-instruct"
         ],
         "yaxis": "y2"
        },
        {
         "marker": {
          "color": "#b497e7"
         },
         "name": "granite-3.3-8b-instruct",
         "orientation": "h",
         "showlegend": false,
         "text": [
          "6.73"
         ],
         "textposition": "outside",
         "type": "bar",
         "x": [
          6.733333333333333
         ],
         "xaxis": "x2",
         "y": [
          "granite-3.3-8b-instruct"
         ],
         "yaxis": "y2"
        },
        {
         "marker": {
          "color": "#19D3F3"
         },
         "name": "internvl3_5-8b",
         "orientation": "h",
         "showlegend": false,
         "text": [
          "5.90"
         ],
         "textposition": "outside",
         "type": "bar",
         "x": [
          5.9
         ],
         "xaxis": "x2",
         "y": [
          "internvl3_5-8b"
         ],
         "yaxis": "y2"
        },
        {
         "marker": {
          "color": "#c9db74"
         },
         "name": "hunyuan-mt-7b",
         "orientation": "h",
         "showlegend": false,
         "text": [
          "5.37"
         ],
         "textposition": "outside",
         "type": "bar",
         "x": [
          5.366666666666666
         ],
         "xaxis": "x2",
         "y": [
          "hunyuan-mt-7b"
         ],
         "yaxis": "y2"
        },
        {
         "marker": {
          "color": "#fe88b1"
         },
         "name": "dolphin3.0-llama3.1-8b",
         "orientation": "h",
         "showlegend": false,
         "text": [
          "6.18"
         ],
         "textposition": "outside",
         "type": "bar",
         "x": [
          6.183333333333334
         ],
         "xaxis": "x2",
         "y": [
          "dolphin3.0-llama3.1-8b"
         ],
         "yaxis": "y2"
        },
        {
         "marker": {
          "color": "#FFA15A"
         },
         "name": "hunyuan-mt-chimera-7b",
         "orientation": "h",
         "showlegend": false,
         "text": [
          "5.12"
         ],
         "textposition": "outside",
         "type": "bar",
         "x": [
          5.116666666666666
         ],
         "xaxis": "x2",
         "y": [
          "hunyuan-mt-chimera-7b"
         ],
         "yaxis": "y2"
        },
        {
         "marker": {
          "color": "#00CC96"
         },
         "name": "internvl3_5-4b",
         "orientation": "h",
         "showlegend": false,
         "text": [
          "4.92"
         ],
         "textposition": "outside",
         "type": "bar",
         "x": [
          4.916666666666667
         ],
         "xaxis": "x2",
         "y": [
          "internvl3_5-4b"
         ],
         "yaxis": "y2"
        },
        {
         "marker": {
          "color": "#f6cf71"
         },
         "name": "aixsatoshi-honyaku-multi-translator-swallow-ms7b",
         "orientation": "h",
         "showlegend": false,
         "text": [
          "3.05"
         ],
         "textposition": "outside",
         "type": "bar",
         "x": [
          3.05
         ],
         "xaxis": "x2",
         "y": [
          "aixsatoshi-honyaku-multi-translator-swallow-ms7b"
         ],
         "yaxis": "y2"
        },
        {
         "marker": {
          "color": "#66c5cc"
         },
         "name": "gpt-4o",
         "orientation": "h",
         "showlegend": false,
         "text": [
          "9.90"
         ],
         "textposition": "outside",
         "type": "bar",
         "x": [
          9.9
         ],
         "xaxis": "x3",
         "y": [
          "gpt-4o"
         ],
         "yaxis": "y3"
        },
        {
         "marker": {
          "color": "#FF6692"
         },
         "name": "gemini-2.0-flash-lite",
         "orientation": "h",
         "showlegend": false,
         "text": [
          "9.60"
         ],
         "textposition": "outside",
         "type": "bar",
         "x": [
          9.6
         ],
         "xaxis": "x3",
         "y": [
          "gemini-2.0-flash-lite"
         ],
         "yaxis": "y3"
        },
        {
         "marker": {
          "color": "#AB63FA"
         },
         "name": "gemma-3-12b-it",
         "orientation": "h",
         "showlegend": false,
         "text": [
          "8.62"
         ],
         "textposition": "outside",
         "type": "bar",
         "x": [
          8.625
         ],
         "xaxis": "x3",
         "y": [
          "gemma-3-12b-it"
         ],
         "yaxis": "y3"
        },
        {
         "marker": {
          "color": "#FF97FF"
         },
         "name": "qwen3-8b",
         "orientation": "h",
         "showlegend": false,
         "text": [
          "7.62"
         ],
         "textposition": "outside",
         "type": "bar",
         "x": [
          7.625
         ],
         "xaxis": "x3",
         "y": [
          "qwen3-8b"
         ],
         "yaxis": "y3"
        },
        {
         "marker": {
          "color": "#9eb9f3"
         },
         "name": "gemma-3n-e4b-it",
         "orientation": "h",
         "showlegend": false,
         "text": [
          "8.40"
         ],
         "textposition": "outside",
         "type": "bar",
         "x": [
          8.4
         ],
         "xaxis": "x3",
         "y": [
          "gemma-3n-e4b-it"
         ],
         "yaxis": "y3"
        },
        {
         "marker": {
          "color": "#f89c74"
         },
         "name": "shisa-v2-llama3.1-8b",
         "orientation": "h",
         "showlegend": false,
         "text": [
          "8.50"
         ],
         "textposition": "outside",
         "type": "bar",
         "x": [
          8.5
         ],
         "xaxis": "x3",
         "y": [
          "shisa-v2-llama3.1-8b"
         ],
         "yaxis": "y3"
        },
        {
         "marker": {
          "color": "#B6E880"
         },
         "name": "shisa-v2-qwen2.5-7b",
         "orientation": "h",
         "showlegend": false,
         "text": [
          "7.67"
         ],
         "textposition": "outside",
         "type": "bar",
         "x": [
          7.675
         ],
         "xaxis": "x3",
         "y": [
          "shisa-v2-qwen2.5-7b"
         ],
         "yaxis": "y3"
        },
        {
         "marker": {
          "color": "#dcb0f2"
         },
         "name": "aya-expanse-8b-abliterated",
         "orientation": "h",
         "showlegend": false,
         "text": [
          "8.40"
         ],
         "textposition": "outside",
         "type": "bar",
         "x": [
          8.4
         ],
         "xaxis": "x3",
         "y": [
          "aya-expanse-8b-abliterated"
         ],
         "yaxis": "y3"
        },
        {
         "marker": {
          "color": "#b3b3b3"
         },
         "name": "gemma-3-4b",
         "orientation": "h",
         "showlegend": false,
         "text": [
          "7.45"
         ],
         "textposition": "outside",
         "type": "bar",
         "x": [
          7.45
         ],
         "xaxis": "x3",
         "y": [
          "gemma-3-4b"
         ],
         "yaxis": "y3"
        },
        {
         "marker": {
          "color": "#EF553B"
         },
         "name": "qwen2.5-7b-instruct",
         "orientation": "h",
         "showlegend": false,
         "text": [
          "7.55"
         ],
         "textposition": "outside",
         "type": "bar",
         "x": [
          7.55
         ],
         "xaxis": "x3",
         "y": [
          "qwen2.5-7b-instruct"
         ],
         "yaxis": "y3"
        },
        {
         "marker": {
          "color": "#87c55f"
         },
         "name": "deepcogito_cogito-v1-preview-llama-8b",
         "orientation": "h",
         "showlegend": false,
         "text": [
          "6.33"
         ],
         "textposition": "outside",
         "type": "bar",
         "x": [
          6.325
         ],
         "xaxis": "x3",
         "y": [
          "deepcogito_cogito-v1-preview-llama-8b"
         ],
         "yaxis": "y3"
        },
        {
         "marker": {
          "color": "#FECB52"
         },
         "name": "llama-3.1-8b-instruct",
         "orientation": "h",
         "showlegend": false,
         "text": [
          "5.75"
         ],
         "textposition": "outside",
         "type": "bar",
         "x": [
          5.75
         ],
         "xaxis": "x3",
         "y": [
          "llama-3.1-8b-instruct"
         ],
         "yaxis": "y3"
        },
        {
         "marker": {
          "color": "#b497e7"
         },
         "name": "granite-3.3-8b-instruct",
         "orientation": "h",
         "showlegend": false,
         "text": [
          "6.03"
         ],
         "textposition": "outside",
         "type": "bar",
         "x": [
          6.025
         ],
         "xaxis": "x3",
         "y": [
          "granite-3.3-8b-instruct"
         ],
         "yaxis": "y3"
        },
        {
         "marker": {
          "color": "#19D3F3"
         },
         "name": "internvl3_5-8b",
         "orientation": "h",
         "showlegend": false,
         "text": [
          "4.60"
         ],
         "textposition": "outside",
         "type": "bar",
         "x": [
          4.6
         ],
         "xaxis": "x3",
         "y": [
          "internvl3_5-8b"
         ],
         "yaxis": "y3"
        },
        {
         "marker": {
          "color": "#c9db74"
         },
         "name": "hunyuan-mt-7b",
         "orientation": "h",
         "showlegend": false,
         "text": [
          "5.70"
         ],
         "textposition": "outside",
         "type": "bar",
         "x": [
          5.7
         ],
         "xaxis": "x3",
         "y": [
          "hunyuan-mt-7b"
         ],
         "yaxis": "y3"
        },
        {
         "marker": {
          "color": "#fe88b1"
         },
         "name": "dolphin3.0-llama3.1-8b",
         "orientation": "h",
         "showlegend": false,
         "text": [
          "5.72"
         ],
         "textposition": "outside",
         "type": "bar",
         "x": [
          5.725
         ],
         "xaxis": "x3",
         "y": [
          "dolphin3.0-llama3.1-8b"
         ],
         "yaxis": "y3"
        },
        {
         "marker": {
          "color": "#FFA15A"
         },
         "name": "hunyuan-mt-chimera-7b",
         "orientation": "h",
         "showlegend": false,
         "text": [
          "5.22"
         ],
         "textposition": "outside",
         "type": "bar",
         "x": [
          5.225
         ],
         "xaxis": "x3",
         "y": [
          "hunyuan-mt-chimera-7b"
         ],
         "yaxis": "y3"
        },
        {
         "marker": {
          "color": "#00CC96"
         },
         "name": "internvl3_5-4b",
         "orientation": "h",
         "showlegend": false,
         "text": [
          "3.60"
         ],
         "textposition": "outside",
         "type": "bar",
         "x": [
          3.6
         ],
         "xaxis": "x3",
         "y": [
          "internvl3_5-4b"
         ],
         "yaxis": "y3"
        },
        {
         "marker": {
          "color": "#f6cf71"
         },
         "name": "aixsatoshi-honyaku-multi-translator-swallow-ms7b",
         "orientation": "h",
         "showlegend": false,
         "text": [
          "4.33"
         ],
         "textposition": "outside",
         "type": "bar",
         "x": [
          4.325
         ],
         "xaxis": "x3",
         "y": [
          "aixsatoshi-honyaku-multi-translator-swallow-ms7b"
         ],
         "yaxis": "y3"
        },
        {
         "marker": {
          "color": "#66c5cc"
         },
         "name": "gpt-4o",
         "orientation": "h",
         "showlegend": false,
         "text": [
          "8.52"
         ],
         "textposition": "outside",
         "type": "bar",
         "x": [
          8.516666666666667
         ],
         "xaxis": "x4",
         "y": [
          "gpt-4o"
         ],
         "yaxis": "y4"
        },
        {
         "marker": {
          "color": "#FF6692"
         },
         "name": "gemini-2.0-flash-lite",
         "orientation": "h",
         "showlegend": false,
         "text": [
          "7.67"
         ],
         "textposition": "outside",
         "type": "bar",
         "x": [
          7.666666666666667
         ],
         "xaxis": "x4",
         "y": [
          "gemini-2.0-flash-lite"
         ],
         "yaxis": "y4"
        },
        {
         "marker": {
          "color": "#AB63FA"
         },
         "name": "gemma-3-12b-it",
         "orientation": "h",
         "showlegend": false,
         "text": [
          "7.44"
         ],
         "textposition": "outside",
         "type": "bar",
         "x": [
          7.441666666666666
         ],
         "xaxis": "x4",
         "y": [
          "gemma-3-12b-it"
         ],
         "yaxis": "y4"
        },
        {
         "marker": {
          "color": "#FF97FF"
         },
         "name": "qwen3-8b",
         "orientation": "h",
         "showlegend": false,
         "text": [
          "7.81"
         ],
         "textposition": "outside",
         "type": "bar",
         "x": [
          7.808333333333334
         ],
         "xaxis": "x4",
         "y": [
          "qwen3-8b"
         ],
         "yaxis": "y4"
        },
        {
         "marker": {
          "color": "#9eb9f3"
         },
         "name": "gemma-3n-e4b-it",
         "orientation": "h",
         "showlegend": false,
         "text": [
          "5.97"
         ],
         "textposition": "outside",
         "type": "bar",
         "x": [
          5.966666666666667
         ],
         "xaxis": "x4",
         "y": [
          "gemma-3n-e4b-it"
         ],
         "yaxis": "y4"
        },
        {
         "marker": {
          "color": "#f89c74"
         },
         "name": "shisa-v2-llama3.1-8b",
         "orientation": "h",
         "showlegend": false,
         "text": [
          "6.77"
         ],
         "textposition": "outside",
         "type": "bar",
         "x": [
          6.766666666666667
         ],
         "xaxis": "x4",
         "y": [
          "shisa-v2-llama3.1-8b"
         ],
         "yaxis": "y4"
        },
        {
         "marker": {
          "color": "#B6E880"
         },
         "name": "shisa-v2-qwen2.5-7b",
         "orientation": "h",
         "showlegend": false,
         "text": [
          "7.00"
         ],
         "textposition": "outside",
         "type": "bar",
         "x": [
          7
         ],
         "xaxis": "x4",
         "y": [
          "shisa-v2-qwen2.5-7b"
         ],
         "yaxis": "y4"
        },
        {
         "marker": {
          "color": "#dcb0f2"
         },
         "name": "aya-expanse-8b-abliterated",
         "orientation": "h",
         "showlegend": false,
         "text": [
          "6.61"
         ],
         "textposition": "outside",
         "type": "bar",
         "x": [
          6.608333333333333
         ],
         "xaxis": "x4",
         "y": [
          "aya-expanse-8b-abliterated"
         ],
         "yaxis": "y4"
        },
        {
         "marker": {
          "color": "#b3b3b3"
         },
         "name": "gemma-3-4b",
         "orientation": "h",
         "showlegend": false,
         "text": [
          "6.40"
         ],
         "textposition": "outside",
         "type": "bar",
         "x": [
          6.4
         ],
         "xaxis": "x4",
         "y": [
          "gemma-3-4b"
         ],
         "yaxis": "y4"
        },
        {
         "marker": {
          "color": "#EF553B"
         },
         "name": "qwen2.5-7b-instruct",
         "orientation": "h",
         "showlegend": false,
         "text": [
          "6.97"
         ],
         "textposition": "outside",
         "type": "bar",
         "x": [
          6.966666666666667
         ],
         "xaxis": "x4",
         "y": [
          "qwen2.5-7b-instruct"
         ],
         "yaxis": "y4"
        },
        {
         "marker": {
          "color": "#87c55f"
         },
         "name": "deepcogito_cogito-v1-preview-llama-8b",
         "orientation": "h",
         "showlegend": false,
         "text": [
          "6.55"
         ],
         "textposition": "outside",
         "type": "bar",
         "x": [
          6.55
         ],
         "xaxis": "x4",
         "y": [
          "deepcogito_cogito-v1-preview-llama-8b"
         ],
         "yaxis": "y4"
        },
        {
         "marker": {
          "color": "#FECB52"
         },
         "name": "llama-3.1-8b-instruct",
         "orientation": "h",
         "showlegend": false,
         "text": [
          "6.38"
         ],
         "textposition": "outside",
         "type": "bar",
         "x": [
          6.375
         ],
         "xaxis": "x4",
         "y": [
          "llama-3.1-8b-instruct"
         ],
         "yaxis": "y4"
        },
        {
         "marker": {
          "color": "#b497e7"
         },
         "name": "granite-3.3-8b-instruct",
         "orientation": "h",
         "showlegend": false,
         "text": [
          "6.07"
         ],
         "textposition": "outside",
         "type": "bar",
         "x": [
          6.066666666666666
         ],
         "xaxis": "x4",
         "y": [
          "granite-3.3-8b-instruct"
         ],
         "yaxis": "y4"
        },
        {
         "marker": {
          "color": "#19D3F3"
         },
         "name": "internvl3_5-8b",
         "orientation": "h",
         "showlegend": false,
         "text": [
          "6.33"
         ],
         "textposition": "outside",
         "type": "bar",
         "x": [
          6.333333333333333
         ],
         "xaxis": "x4",
         "y": [
          "internvl3_5-8b"
         ],
         "yaxis": "y4"
        },
        {
         "marker": {
          "color": "#c9db74"
         },
         "name": "hunyuan-mt-7b",
         "orientation": "h",
         "showlegend": false,
         "text": [
          "5.12"
         ],
         "textposition": "outside",
         "type": "bar",
         "x": [
          5.125
         ],
         "xaxis": "x4",
         "y": [
          "hunyuan-mt-7b"
         ],
         "yaxis": "y4"
        },
        {
         "marker": {
          "color": "#fe88b1"
         },
         "name": "dolphin3.0-llama3.1-8b",
         "orientation": "h",
         "showlegend": false,
         "text": [
          "5.49"
         ],
         "textposition": "outside",
         "type": "bar",
         "x": [
          5.491666666666666
         ],
         "xaxis": "x4",
         "y": [
          "dolphin3.0-llama3.1-8b"
         ],
         "yaxis": "y4"
        },
        {
         "marker": {
          "color": "#FFA15A"
         },
         "name": "hunyuan-mt-chimera-7b",
         "orientation": "h",
         "showlegend": false,
         "text": [
          "4.80"
         ],
         "textposition": "outside",
         "type": "bar",
         "x": [
          4.8
         ],
         "xaxis": "x4",
         "y": [
          "hunyuan-mt-chimera-7b"
         ],
         "yaxis": "y4"
        },
        {
         "marker": {
          "color": "#00CC96"
         },
         "name": "internvl3_5-4b",
         "orientation": "h",
         "showlegend": false,
         "text": [
          "5.56"
         ],
         "textposition": "outside",
         "type": "bar",
         "x": [
          5.558333333333334
         ],
         "xaxis": "x4",
         "y": [
          "internvl3_5-4b"
         ],
         "yaxis": "y4"
        },
        {
         "marker": {
          "color": "#f6cf71"
         },
         "name": "aixsatoshi-honyaku-multi-translator-swallow-ms7b",
         "orientation": "h",
         "showlegend": false,
         "text": [
          "2.64"
         ],
         "textposition": "outside",
         "type": "bar",
         "x": [
          2.6416666666666666
         ],
         "xaxis": "x4",
         "y": [
          "aixsatoshi-honyaku-multi-translator-swallow-ms7b"
         ],
         "yaxis": "y4"
        },
        {
         "marker": {
          "color": "#66c5cc"
         },
         "name": "gpt-4o",
         "orientation": "h",
         "showlegend": false,
         "text": [
          "8.28"
         ],
         "textposition": "outside",
         "type": "bar",
         "x": [
          8.2775
         ],
         "xaxis": "x5",
         "y": [
          "gpt-4o"
         ],
         "yaxis": "y5"
        },
        {
         "marker": {
          "color": "#FF6692"
         },
         "name": "gemini-2.0-flash-lite",
         "orientation": "h",
         "showlegend": false,
         "text": [
          "7.38"
         ],
         "textposition": "outside",
         "type": "bar",
         "x": [
          7.375
         ],
         "xaxis": "x5",
         "y": [
          "gemini-2.0-flash-lite"
         ],
         "yaxis": "y5"
        },
        {
         "marker": {
          "color": "#AB63FA"
         },
         "name": "gemma-3-12b-it",
         "orientation": "h",
         "showlegend": false,
         "text": [
          "7.07"
         ],
         "textposition": "outside",
         "type": "bar",
         "x": [
          7.066666666666666
         ],
         "xaxis": "x5",
         "y": [
          "gemma-3-12b-it"
         ],
         "yaxis": "y5"
        },
        {
         "marker": {
          "color": "#FF97FF"
         },
         "name": "qwen3-8b",
         "orientation": "h",
         "showlegend": false,
         "text": [
          "6.40"
         ],
         "textposition": "outside",
         "type": "bar",
         "x": [
          6.395833333333334
         ],
         "xaxis": "x5",
         "y": [
          "qwen3-8b"
         ],
         "yaxis": "y5"
        },
        {
         "marker": {
          "color": "#9eb9f3"
         },
         "name": "gemma-3n-e4b-it",
         "orientation": "h",
         "showlegend": false,
         "text": [
          "7.25"
         ],
         "textposition": "outside",
         "type": "bar",
         "x": [
          7.246666666666666
         ],
         "xaxis": "x5",
         "y": [
          "gemma-3n-e4b-it"
         ],
         "yaxis": "y5"
        },
        {
         "marker": {
          "color": "#f89c74"
         },
         "name": "shisa-v2-llama3.1-8b",
         "orientation": "h",
         "showlegend": false,
         "text": [
          "6.96"
         ],
         "textposition": "outside",
         "type": "bar",
         "x": [
          6.9591666666666665
         ],
         "xaxis": "x5",
         "y": [
          "shisa-v2-llama3.1-8b"
         ],
         "yaxis": "y5"
        },
        {
         "marker": {
          "color": "#B6E880"
         },
         "name": "shisa-v2-qwen2.5-7b",
         "orientation": "h",
         "showlegend": false,
         "text": [
          "6.64"
         ],
         "textposition": "outside",
         "type": "bar",
         "x": [
          6.644166666666666
         ],
         "xaxis": "x5",
         "y": [
          "shisa-v2-qwen2.5-7b"
         ],
         "yaxis": "y5"
        },
        {
         "marker": {
          "color": "#dcb0f2"
         },
         "name": "aya-expanse-8b-abliterated",
         "orientation": "h",
         "showlegend": false,
         "text": [
          "6.28"
         ],
         "textposition": "outside",
         "type": "bar",
         "x": [
          6.275
         ],
         "xaxis": "x5",
         "y": [
          "aya-expanse-8b-abliterated"
         ],
         "yaxis": "y5"
        },
        {
         "marker": {
          "color": "#b3b3b3"
         },
         "name": "gemma-3-4b",
         "orientation": "h",
         "showlegend": false,
         "text": [
          "6.67"
         ],
         "textposition": "outside",
         "type": "bar",
         "x": [
          6.670833333333333
         ],
         "xaxis": "x5",
         "y": [
          "gemma-3-4b"
         ],
         "yaxis": "y5"
        },
        {
         "marker": {
          "color": "#EF553B"
         },
         "name": "qwen2.5-7b-instruct",
         "orientation": "h",
         "showlegend": false,
         "text": [
          "5.99"
         ],
         "textposition": "outside",
         "type": "bar",
         "x": [
          5.989166666666666
         ],
         "xaxis": "x5",
         "y": [
          "qwen2.5-7b-instruct"
         ],
         "yaxis": "y5"
        },
        {
         "marker": {
          "color": "#87c55f"
         },
         "name": "deepcogito_cogito-v1-preview-llama-8b",
         "orientation": "h",
         "showlegend": false,
         "text": [
          "6.15"
         ],
         "textposition": "outside",
         "type": "bar",
         "x": [
          6.154166666666666
         ],
         "xaxis": "x5",
         "y": [
          "deepcogito_cogito-v1-preview-llama-8b"
         ],
         "yaxis": "y5"
        },
        {
         "marker": {
          "color": "#FECB52"
         },
         "name": "llama-3.1-8b-instruct",
         "orientation": "h",
         "showlegend": false,
         "text": [
          "5.89"
         ],
         "textposition": "outside",
         "type": "bar",
         "x": [
          5.888333333333334
         ],
         "xaxis": "x5",
         "y": [
          "llama-3.1-8b-instruct"
         ],
         "yaxis": "y5"
        },
        {
         "marker": {
          "color": "#b497e7"
         },
         "name": "granite-3.3-8b-instruct",
         "orientation": "h",
         "showlegend": false,
         "text": [
          "5.77"
         ],
         "textposition": "outside",
         "type": "bar",
         "x": [
          5.769166666666666
         ],
         "xaxis": "x5",
         "y": [
          "granite-3.3-8b-instruct"
         ],
         "yaxis": "y5"
        },
        {
         "marker": {
          "color": "#19D3F3"
         },
         "name": "internvl3_5-8b",
         "orientation": "h",
         "showlegend": false,
         "text": [
          "6.16"
         ],
         "textposition": "outside",
         "type": "bar",
         "x": [
          6.160833333333334
         ],
         "xaxis": "x5",
         "y": [
          "internvl3_5-8b"
         ],
         "yaxis": "y5"
        },
        {
         "marker": {
          "color": "#c9db74"
         },
         "name": "hunyuan-mt-7b",
         "orientation": "h",
         "showlegend": false,
         "text": [
          "6.35"
         ],
         "textposition": "outside",
         "type": "bar",
         "x": [
          6.3475
         ],
         "xaxis": "x5",
         "y": [
          "hunyuan-mt-7b"
         ],
         "yaxis": "y5"
        },
        {
         "marker": {
          "color": "#fe88b1"
         },
         "name": "dolphin3.0-llama3.1-8b",
         "orientation": "h",
         "showlegend": false,
         "text": [
          "5.93"
         ],
         "textposition": "outside",
         "type": "bar",
         "x": [
          5.930833333333334
         ],
         "xaxis": "x5",
         "y": [
          "dolphin3.0-llama3.1-8b"
         ],
         "yaxis": "y5"
        },
        {
         "marker": {
          "color": "#FFA15A"
         },
         "name": "hunyuan-mt-chimera-7b",
         "orientation": "h",
         "showlegend": false,
         "text": [
          "6.57"
         ],
         "textposition": "outside",
         "type": "bar",
         "x": [
          6.57
         ],
         "xaxis": "x5",
         "y": [
          "hunyuan-mt-chimera-7b"
         ],
         "yaxis": "y5"
        },
        {
         "marker": {
          "color": "#00CC96"
         },
         "name": "internvl3_5-4b",
         "orientation": "h",
         "showlegend": false,
         "text": [
          "5.47"
         ],
         "textposition": "outside",
         "type": "bar",
         "x": [
          5.474166666666666
         ],
         "xaxis": "x5",
         "y": [
          "internvl3_5-4b"
         ],
         "yaxis": "y5"
        },
        {
         "marker": {
          "color": "#f6cf71"
         },
         "name": "aixsatoshi-honyaku-multi-translator-swallow-ms7b",
         "orientation": "h",
         "showlegend": false,
         "text": [
          "4.96"
         ],
         "textposition": "outside",
         "type": "bar",
         "x": [
          4.964166666666667
         ],
         "xaxis": "x5",
         "y": [
          "aixsatoshi-honyaku-multi-translator-swallow-ms7b"
         ],
         "yaxis": "y5"
        },
        {
         "marker": {
          "color": "#66c5cc"
         },
         "name": "gpt-4o",
         "orientation": "h",
         "showlegend": false,
         "text": [
          "9.05"
         ],
         "textposition": "outside",
         "type": "bar",
         "x": [
          9.046166666666668
         ],
         "xaxis": "x6",
         "y": [
          "gpt-4o"
         ],
         "yaxis": "y6"
        },
        {
         "marker": {
          "color": "#FF6692"
         },
         "name": "gemini-2.0-flash-lite",
         "orientation": "h",
         "showlegend": false,
         "text": [
          "8.30"
         ],
         "textposition": "outside",
         "type": "bar",
         "x": [
          8.305
         ],
         "xaxis": "x6",
         "y": [
          "gemini-2.0-flash-lite"
         ],
         "yaxis": "y6"
        },
        {
         "marker": {
          "color": "#AB63FA"
         },
         "name": "gemma-3-12b-it",
         "orientation": "h",
         "showlegend": false,
         "text": [
          "8.08"
         ],
         "textposition": "outside",
         "type": "bar",
         "x": [
          8.084
         ],
         "xaxis": "x6",
         "y": [
          "gemma-3-12b-it"
         ],
         "yaxis": "y6"
        },
        {
         "marker": {
          "color": "#FF97FF"
         },
         "name": "qwen3-8b",
         "orientation": "h",
         "showlegend": false,
         "text": [
          "7.85"
         ],
         "textposition": "outside",
         "type": "bar",
         "x": [
          7.852500000000001
         ],
         "xaxis": "x6",
         "y": [
          "qwen3-8b"
         ],
         "yaxis": "y6"
        },
        {
         "marker": {
          "color": "#9eb9f3"
         },
         "name": "gemma-3n-e4b-it",
         "orientation": "h",
         "showlegend": false,
         "text": [
          "7.49"
         ],
         "textposition": "outside",
         "type": "bar",
         "x": [
          7.494
         ],
         "xaxis": "x6",
         "y": [
          "gemma-3n-e4b-it"
         ],
         "yaxis": "y6"
        },
        {
         "marker": {
          "color": "#f89c74"
         },
         "name": "shisa-v2-llama3.1-8b",
         "orientation": "h",
         "showlegend": false,
         "text": [
          "7.56"
         ],
         "textposition": "outside",
         "type": "bar",
         "x": [
          7.5605
         ],
         "xaxis": "x6",
         "y": [
          "shisa-v2-llama3.1-8b"
         ],
         "yaxis": "y6"
        },
        {
         "marker": {
          "color": "#B6E880"
         },
         "name": "shisa-v2-qwen2.5-7b",
         "orientation": "h",
         "showlegend": false,
         "text": [
          "7.37"
         ],
         "textposition": "outside",
         "type": "bar",
         "x": [
          7.367833333333333
         ],
         "xaxis": "x6",
         "y": [
          "shisa-v2-qwen2.5-7b"
         ],
         "yaxis": "y6"
        },
        {
         "marker": {
          "color": "#dcb0f2"
         },
         "name": "aya-expanse-8b-abliterated",
         "orientation": "h",
         "showlegend": false,
         "text": [
          "7.29"
         ],
         "textposition": "outside",
         "type": "bar",
         "x": [
          7.291333333333334
         ],
         "xaxis": "x6",
         "y": [
          "aya-expanse-8b-abliterated"
         ],
         "yaxis": "y6"
        },
        {
         "marker": {
          "color": "#b3b3b3"
         },
         "name": "gemma-3-4b",
         "orientation": "h",
         "showlegend": false,
         "text": [
          "7.17"
         ],
         "textposition": "outside",
         "type": "bar",
         "x": [
          7.1715
         ],
         "xaxis": "x6",
         "y": [
          "gemma-3-4b"
         ],
         "yaxis": "y6"
        },
        {
         "marker": {
          "color": "#EF553B"
         },
         "name": "qwen2.5-7b-instruct",
         "orientation": "h",
         "showlegend": false,
         "text": [
          "7.00"
         ],
         "textposition": "outside",
         "type": "bar",
         "x": [
          6.995166666666667
         ],
         "xaxis": "x6",
         "y": [
          "qwen2.5-7b-instruct"
         ],
         "yaxis": "y6"
        },
        {
         "marker": {
          "color": "#87c55f"
         },
         "name": "deepcogito_cogito-v1-preview-llama-8b",
         "orientation": "h",
         "showlegend": false,
         "text": [
          "6.65"
         ],
         "textposition": "outside",
         "type": "bar",
         "x": [
          6.649166666666666
         ],
         "xaxis": "x6",
         "y": [
          "deepcogito_cogito-v1-preview-llama-8b"
         ],
         "yaxis": "y6"
        },
        {
         "marker": {
          "color": "#FECB52"
         },
         "name": "llama-3.1-8b-instruct",
         "orientation": "h",
         "showlegend": false,
         "text": [
          "6.24"
         ],
         "textposition": "outside",
         "type": "bar",
         "x": [
          6.237333333333334
         ],
         "xaxis": "x6",
         "y": [
          "llama-3.1-8b-instruct"
         ],
         "yaxis": "y6"
        },
        {
         "marker": {
          "color": "#b497e7"
         },
         "name": "granite-3.3-8b-instruct",
         "orientation": "h",
         "showlegend": false,
         "text": [
          "6.27"
         ],
         "textposition": "outside",
         "type": "bar",
         "x": [
          6.270833333333333
         ],
         "xaxis": "x6",
         "y": [
          "granite-3.3-8b-instruct"
         ],
         "yaxis": "y6"
        },
        {
         "marker": {
          "color": "#19D3F3"
         },
         "name": "internvl3_5-8b",
         "orientation": "h",
         "showlegend": false,
         "text": [
          "5.95"
         ],
         "textposition": "outside",
         "type": "bar",
         "x": [
          5.946833333333333
         ],
         "xaxis": "x6",
         "y": [
          "internvl3_5-8b"
         ],
         "yaxis": "y6"
        },
        {
         "marker": {
          "color": "#c9db74"
         },
         "name": "hunyuan-mt-7b",
         "orientation": "h",
         "showlegend": false,
         "text": [
          "5.69"
         ],
         "textposition": "outside",
         "type": "bar",
         "x": [
          5.687833333333333
         ],
         "xaxis": "x6",
         "y": [
          "hunyuan-mt-7b"
         ],
         "yaxis": "y6"
        },
        {
         "marker": {
          "color": "#fe88b1"
         },
         "name": "dolphin3.0-llama3.1-8b",
         "orientation": "h",
         "showlegend": false,
         "text": [
          "5.94"
         ],
         "textposition": "outside",
         "type": "bar",
         "x": [
          5.938166666666667
         ],
         "xaxis": "x6",
         "y": [
          "dolphin3.0-llama3.1-8b"
         ],
         "yaxis": "y6"
        },
        {
         "marker": {
          "color": "#FFA15A"
         },
         "name": "hunyuan-mt-chimera-7b",
         "orientation": "h",
         "showlegend": false,
         "text": [
          "5.43"
         ],
         "textposition": "outside",
         "type": "bar",
         "x": [
          5.426333333333334
         ],
         "xaxis": "x6",
         "y": [
          "hunyuan-mt-chimera-7b"
         ],
         "yaxis": "y6"
        },
        {
         "marker": {
          "color": "#00CC96"
         },
         "name": "internvl3_5-4b",
         "orientation": "h",
         "showlegend": false,
         "text": [
          "5.17"
         ],
         "textposition": "outside",
         "type": "bar",
         "x": [
          5.169833333333333
         ],
         "xaxis": "x6",
         "y": [
          "internvl3_5-4b"
         ],
         "yaxis": "y6"
        },
        {
         "marker": {
          "color": "#f6cf71"
         },
         "name": "aixsatoshi-honyaku-multi-translator-swallow-ms7b",
         "orientation": "h",
         "showlegend": false,
         "text": [
          "3.81"
         ],
         "textposition": "outside",
         "type": "bar",
         "x": [
          3.812166666666667
         ],
         "xaxis": "x6",
         "y": [
          "aixsatoshi-honyaku-multi-translator-swallow-ms7b"
         ],
         "yaxis": "y6"
        }
       ],
       "layout": {
        "annotations": [
         {
          "font": {
           "size": 16
          },
          "showarrow": false,
          "text": "ELYZA-Tasks-100",
          "x": 0.2375,
          "xanchor": "center",
          "xref": "paper",
          "y": 1,
          "yanchor": "bottom",
          "yref": "paper"
         },
         {
          "font": {
           "size": 16
          },
          "showarrow": false,
          "text": "MT-Bench-60",
          "x": 0.7625,
          "xanchor": "center",
          "xref": "paper",
          "y": 1,
          "yanchor": "bottom",
          "yref": "paper"
         },
         {
          "font": {
           "size": 16
          },
          "showarrow": false,
          "text": "Rakuda-40",
          "x": 0.2375,
          "xanchor": "center",
          "xref": "paper",
          "y": 0.6333333333333333,
          "yanchor": "bottom",
          "yref": "paper"
         },
         {
          "font": {
           "size": 16
          },
          "showarrow": false,
          "text": "Tengu-Bench-120",
          "x": 0.7625,
          "xanchor": "center",
          "xref": "paper",
          "y": 0.6333333333333333,
          "yanchor": "bottom",
          "yref": "paper"
         },
         {
          "font": {
           "size": 16
          },
          "showarrow": false,
          "text": "VNTL-Translation-200",
          "x": 0.2375,
          "xanchor": "center",
          "xref": "paper",
          "y": 0.26666666666666666,
          "yanchor": "bottom",
          "yref": "paper"
         },
         {
          "font": {
           "size": 16
          },
          "showarrow": false,
          "text": "Average",
          "x": 0.7625,
          "xanchor": "center",
          "xref": "paper",
          "y": 0.26666666666666666,
          "yanchor": "bottom",
          "yref": "paper"
         }
        ],
        "bargap": 0.01,
        "bargroupgap": 0.01,
        "height": 1000,
        "legend": {
         "title": {
          "text": "Model"
         }
        },
        "template": {
         "data": {
          "bar": [
           {
            "error_x": {
             "color": "#2a3f5f"
            },
            "error_y": {
             "color": "#2a3f5f"
            },
            "marker": {
             "line": {
              "color": "white",
              "width": 0.5
             },
             "pattern": {
              "fillmode": "overlay",
              "size": 10,
              "solidity": 0.2
             }
            },
            "type": "bar"
           }
          ],
          "barpolar": [
           {
            "marker": {
             "line": {
              "color": "white",
              "width": 0.5
             },
             "pattern": {
              "fillmode": "overlay",
              "size": 10,
              "solidity": 0.2
             }
            },
            "type": "barpolar"
           }
          ],
          "carpet": [
           {
            "aaxis": {
             "endlinecolor": "#2a3f5f",
             "gridcolor": "#C8D4E3",
             "linecolor": "#C8D4E3",
             "minorgridcolor": "#C8D4E3",
             "startlinecolor": "#2a3f5f"
            },
            "baxis": {
             "endlinecolor": "#2a3f5f",
             "gridcolor": "#C8D4E3",
             "linecolor": "#C8D4E3",
             "minorgridcolor": "#C8D4E3",
             "startlinecolor": "#2a3f5f"
            },
            "type": "carpet"
           }
          ],
          "choropleth": [
           {
            "colorbar": {
             "outlinewidth": 0,
             "ticks": ""
            },
            "type": "choropleth"
           }
          ],
          "contour": [
           {
            "colorbar": {
             "outlinewidth": 0,
             "ticks": ""
            },
            "colorscale": [
             [
              0,
              "#0d0887"
             ],
             [
              0.1111111111111111,
              "#46039f"
             ],
             [
              0.2222222222222222,
              "#7201a8"
             ],
             [
              0.3333333333333333,
              "#9c179e"
             ],
             [
              0.4444444444444444,
              "#bd3786"
             ],
             [
              0.5555555555555556,
              "#d8576b"
             ],
             [
              0.6666666666666666,
              "#ed7953"
             ],
             [
              0.7777777777777778,
              "#fb9f3a"
             ],
             [
              0.8888888888888888,
              "#fdca26"
             ],
             [
              1,
              "#f0f921"
             ]
            ],
            "type": "contour"
           }
          ],
          "contourcarpet": [
           {
            "colorbar": {
             "outlinewidth": 0,
             "ticks": ""
            },
            "type": "contourcarpet"
           }
          ],
          "heatmap": [
           {
            "colorbar": {
             "outlinewidth": 0,
             "ticks": ""
            },
            "colorscale": [
             [
              0,
              "#0d0887"
             ],
             [
              0.1111111111111111,
              "#46039f"
             ],
             [
              0.2222222222222222,
              "#7201a8"
             ],
             [
              0.3333333333333333,
              "#9c179e"
             ],
             [
              0.4444444444444444,
              "#bd3786"
             ],
             [
              0.5555555555555556,
              "#d8576b"
             ],
             [
              0.6666666666666666,
              "#ed7953"
             ],
             [
              0.7777777777777778,
              "#fb9f3a"
             ],
             [
              0.8888888888888888,
              "#fdca26"
             ],
             [
              1,
              "#f0f921"
             ]
            ],
            "type": "heatmap"
           }
          ],
          "histogram": [
           {
            "marker": {
             "pattern": {
              "fillmode": "overlay",
              "size": 10,
              "solidity": 0.2
             }
            },
            "type": "histogram"
           }
          ],
          "histogram2d": [
           {
            "colorbar": {
             "outlinewidth": 0,
             "ticks": ""
            },
            "colorscale": [
             [
              0,
              "#0d0887"
             ],
             [
              0.1111111111111111,
              "#46039f"
             ],
             [
              0.2222222222222222,
              "#7201a8"
             ],
             [
              0.3333333333333333,
              "#9c179e"
             ],
             [
              0.4444444444444444,
              "#bd3786"
             ],
             [
              0.5555555555555556,
              "#d8576b"
             ],
             [
              0.6666666666666666,
              "#ed7953"
             ],
             [
              0.7777777777777778,
              "#fb9f3a"
             ],
             [
              0.8888888888888888,
              "#fdca26"
             ],
             [
              1,
              "#f0f921"
             ]
            ],
            "type": "histogram2d"
           }
          ],
          "histogram2dcontour": [
           {
            "colorbar": {
             "outlinewidth": 0,
             "ticks": ""
            },
            "colorscale": [
             [
              0,
              "#0d0887"
             ],
             [
              0.1111111111111111,
              "#46039f"
             ],
             [
              0.2222222222222222,
              "#7201a8"
             ],
             [
              0.3333333333333333,
              "#9c179e"
             ],
             [
              0.4444444444444444,
              "#bd3786"
             ],
             [
              0.5555555555555556,
              "#d8576b"
             ],
             [
              0.6666666666666666,
              "#ed7953"
             ],
             [
              0.7777777777777778,
              "#fb9f3a"
             ],
             [
              0.8888888888888888,
              "#fdca26"
             ],
             [
              1,
              "#f0f921"
             ]
            ],
            "type": "histogram2dcontour"
           }
          ],
          "mesh3d": [
           {
            "colorbar": {
             "outlinewidth": 0,
             "ticks": ""
            },
            "type": "mesh3d"
           }
          ],
          "parcoords": [
           {
            "line": {
             "colorbar": {
              "outlinewidth": 0,
              "ticks": ""
             }
            },
            "type": "parcoords"
           }
          ],
          "pie": [
           {
            "automargin": true,
            "type": "pie"
           }
          ],
          "scatter": [
           {
            "fillpattern": {
             "fillmode": "overlay",
             "size": 10,
             "solidity": 0.2
            },
            "type": "scatter"
           }
          ],
          "scatter3d": [
           {
            "line": {
             "colorbar": {
              "outlinewidth": 0,
              "ticks": ""
             }
            },
            "marker": {
             "colorbar": {
              "outlinewidth": 0,
              "ticks": ""
             }
            },
            "type": "scatter3d"
           }
          ],
          "scattercarpet": [
           {
            "marker": {
             "colorbar": {
              "outlinewidth": 0,
              "ticks": ""
             }
            },
            "type": "scattercarpet"
           }
          ],
          "scattergeo": [
           {
            "marker": {
             "colorbar": {
              "outlinewidth": 0,
              "ticks": ""
             }
            },
            "type": "scattergeo"
           }
          ],
          "scattergl": [
           {
            "marker": {
             "colorbar": {
              "outlinewidth": 0,
              "ticks": ""
             }
            },
            "type": "scattergl"
           }
          ],
          "scattermap": [
           {
            "marker": {
             "colorbar": {
              "outlinewidth": 0,
              "ticks": ""
             }
            },
            "type": "scattermap"
           }
          ],
          "scattermapbox": [
           {
            "marker": {
             "colorbar": {
              "outlinewidth": 0,
              "ticks": ""
             }
            },
            "type": "scattermapbox"
           }
          ],
          "scatterpolar": [
           {
            "marker": {
             "colorbar": {
              "outlinewidth": 0,
              "ticks": ""
             }
            },
            "type": "scatterpolar"
           }
          ],
          "scatterpolargl": [
           {
            "marker": {
             "colorbar": {
              "outlinewidth": 0,
              "ticks": ""
             }
            },
            "type": "scatterpolargl"
           }
          ],
          "scatterternary": [
           {
            "marker": {
             "colorbar": {
              "outlinewidth": 0,
              "ticks": ""
             }
            },
            "type": "scatterternary"
           }
          ],
          "surface": [
           {
            "colorbar": {
             "outlinewidth": 0,
             "ticks": ""
            },
            "colorscale": [
             [
              0,
              "#0d0887"
             ],
             [
              0.1111111111111111,
              "#46039f"
             ],
             [
              0.2222222222222222,
              "#7201a8"
             ],
             [
              0.3333333333333333,
              "#9c179e"
             ],
             [
              0.4444444444444444,
              "#bd3786"
             ],
             [
              0.5555555555555556,
              "#d8576b"
             ],
             [
              0.6666666666666666,
              "#ed7953"
             ],
             [
              0.7777777777777778,
              "#fb9f3a"
             ],
             [
              0.8888888888888888,
              "#fdca26"
             ],
             [
              1,
              "#f0f921"
             ]
            ],
            "type": "surface"
           }
          ],
          "table": [
           {
            "cells": {
             "fill": {
              "color": "#EBF0F8"
             },
             "line": {
              "color": "white"
             }
            },
            "header": {
             "fill": {
              "color": "#C8D4E3"
             },
             "line": {
              "color": "white"
             }
            },
            "type": "table"
           }
          ]
         },
         "layout": {
          "annotationdefaults": {
           "arrowcolor": "#2a3f5f",
           "arrowhead": 0,
           "arrowwidth": 1
          },
          "autotypenumbers": "strict",
          "coloraxis": {
           "colorbar": {
            "outlinewidth": 0,
            "ticks": ""
           }
          },
          "colorscale": {
           "diverging": [
            [
             0,
             "#8e0152"
            ],
            [
             0.1,
             "#c51b7d"
            ],
            [
             0.2,
             "#de77ae"
            ],
            [
             0.3,
             "#f1b6da"
            ],
            [
             0.4,
             "#fde0ef"
            ],
            [
             0.5,
             "#f7f7f7"
            ],
            [
             0.6,
             "#e6f5d0"
            ],
            [
             0.7,
             "#b8e186"
            ],
            [
             0.8,
             "#7fbc41"
            ],
            [
             0.9,
             "#4d9221"
            ],
            [
             1,
             "#276419"
            ]
           ],
           "sequential": [
            [
             0,
             "#0d0887"
            ],
            [
             0.1111111111111111,
             "#46039f"
            ],
            [
             0.2222222222222222,
             "#7201a8"
            ],
            [
             0.3333333333333333,
             "#9c179e"
            ],
            [
             0.4444444444444444,
             "#bd3786"
            ],
            [
             0.5555555555555556,
             "#d8576b"
            ],
            [
             0.6666666666666666,
             "#ed7953"
            ],
            [
             0.7777777777777778,
             "#fb9f3a"
            ],
            [
             0.8888888888888888,
             "#fdca26"
            ],
            [
             1,
             "#f0f921"
            ]
           ],
           "sequentialminus": [
            [
             0,
             "#0d0887"
            ],
            [
             0.1111111111111111,
             "#46039f"
            ],
            [
             0.2222222222222222,
             "#7201a8"
            ],
            [
             0.3333333333333333,
             "#9c179e"
            ],
            [
             0.4444444444444444,
             "#bd3786"
            ],
            [
             0.5555555555555556,
             "#d8576b"
            ],
            [
             0.6666666666666666,
             "#ed7953"
            ],
            [
             0.7777777777777778,
             "#fb9f3a"
            ],
            [
             0.8888888888888888,
             "#fdca26"
            ],
            [
             1,
             "#f0f921"
            ]
           ]
          },
          "colorway": [
           "#636efa",
           "#EF553B",
           "#00cc96",
           "#ab63fa",
           "#FFA15A",
           "#19d3f3",
           "#FF6692",
           "#B6E880",
           "#FF97FF",
           "#FECB52"
          ],
          "font": {
           "color": "#2a3f5f"
          },
          "geo": {
           "bgcolor": "white",
           "lakecolor": "white",
           "landcolor": "white",
           "showlakes": true,
           "showland": true,
           "subunitcolor": "#C8D4E3"
          },
          "hoverlabel": {
           "align": "left"
          },
          "hovermode": "closest",
          "mapbox": {
           "style": "light"
          },
          "paper_bgcolor": "white",
          "plot_bgcolor": "white",
          "polar": {
           "angularaxis": {
            "gridcolor": "#EBF0F8",
            "linecolor": "#EBF0F8",
            "ticks": ""
           },
           "bgcolor": "white",
           "radialaxis": {
            "gridcolor": "#EBF0F8",
            "linecolor": "#EBF0F8",
            "ticks": ""
           }
          },
          "scene": {
           "xaxis": {
            "backgroundcolor": "white",
            "gridcolor": "#DFE8F3",
            "gridwidth": 2,
            "linecolor": "#EBF0F8",
            "showbackground": true,
            "ticks": "",
            "zerolinecolor": "#EBF0F8"
           },
           "yaxis": {
            "backgroundcolor": "white",
            "gridcolor": "#DFE8F3",
            "gridwidth": 2,
            "linecolor": "#EBF0F8",
            "showbackground": true,
            "ticks": "",
            "zerolinecolor": "#EBF0F8"
           },
           "zaxis": {
            "backgroundcolor": "white",
            "gridcolor": "#DFE8F3",
            "gridwidth": 2,
            "linecolor": "#EBF0F8",
            "showbackground": true,
            "ticks": "",
            "zerolinecolor": "#EBF0F8"
           }
          },
          "shapedefaults": {
           "line": {
            "color": "#2a3f5f"
           }
          },
          "ternary": {
           "aaxis": {
            "gridcolor": "#DFE8F3",
            "linecolor": "#A2B1C6",
            "ticks": ""
           },
           "baxis": {
            "gridcolor": "#DFE8F3",
            "linecolor": "#A2B1C6",
            "ticks": ""
           },
           "bgcolor": "white",
           "caxis": {
            "gridcolor": "#DFE8F3",
            "linecolor": "#A2B1C6",
            "ticks": ""
           }
          },
          "title": {
           "x": 0.05
          },
          "xaxis": {
           "automargin": true,
           "gridcolor": "#EBF0F8",
           "linecolor": "#EBF0F8",
           "ticks": "",
           "title": {
            "standoff": 15
           },
           "zerolinecolor": "#EBF0F8",
           "zerolinewidth": 2
          },
          "yaxis": {
           "automargin": true,
           "gridcolor": "#EBF0F8",
           "linecolor": "#EBF0F8",
           "ticks": "",
           "title": {
            "standoff": 15
           },
           "zerolinecolor": "#EBF0F8",
           "zerolinewidth": 2
          }
         }
        },
        "title": {
         "text": "Model Score Comparison - Horizontal<br><sup>Judge: gpt-4.1 | 4B - 8B Model Range</sup>",
         "x": 0.5
        },
        "width": 1200,
        "xaxis": {
         "anchor": "y",
         "domain": [
          0,
          0.475
         ],
         "range": [
          0,
          10.5
         ]
        },
        "xaxis2": {
         "anchor": "y2",
         "domain": [
          0.525,
          1
         ],
         "range": [
          0,
          10.5
         ]
        },
        "xaxis3": {
         "anchor": "y3",
         "domain": [
          0,
          0.475
         ],
         "range": [
          0,
          10.5
         ]
        },
        "xaxis4": {
         "anchor": "y4",
         "domain": [
          0.525,
          1
         ],
         "range": [
          0,
          10.5
         ]
        },
        "xaxis5": {
         "anchor": "y5",
         "domain": [
          0,
          0.475
         ],
         "range": [
          0,
          10.5
         ]
        },
        "xaxis6": {
         "anchor": "y6",
         "domain": [
          0.525,
          1
         ],
         "range": [
          0,
          10.5
         ]
        },
        "yaxis": {
         "anchor": "x",
         "autorange": "reversed",
         "domain": [
          0.7333333333333334,
          1
         ],
         "showticklabels": false
        },
        "yaxis2": {
         "anchor": "x2",
         "autorange": "reversed",
         "domain": [
          0.7333333333333334,
          1
         ],
         "showticklabels": false
        },
        "yaxis3": {
         "anchor": "x3",
         "autorange": "reversed",
         "domain": [
          0.3666666666666667,
          0.6333333333333333
         ],
         "showticklabels": false
        },
        "yaxis4": {
         "anchor": "x4",
         "autorange": "reversed",
         "domain": [
          0.3666666666666667,
          0.6333333333333333
         ],
         "showticklabels": false
        },
        "yaxis5": {
         "anchor": "x5",
         "autorange": "reversed",
         "domain": [
          0,
          0.26666666666666666
         ],
         "showticklabels": false
        },
        "yaxis6": {
         "anchor": "x6",
         "autorange": "reversed",
         "domain": [
          0,
          0.26666666666666666
         ],
         "showticklabels": false
        }
       }
      }
     },
     "metadata": {},
     "output_type": "display_data"
    },
    {
     "data": {
      "application/vnd.plotly.v1+json": {
       "config": {
        "plotlyServerURL": "https://plot.ly"
       },
       "data": [
        {
         "marker": {
          "color": "#66c5cc"
         },
         "name": "gpt-4o",
         "orientation": "h",
         "showlegend": true,
         "text": [
          "9.14"
         ],
         "textposition": "outside",
         "type": "bar",
         "x": [
          9.14
         ],
         "xaxis": "x",
         "y": [
          "gpt-4o"
         ],
         "yaxis": "y"
        },
        {
         "marker": {
          "color": "#FF6692"
         },
         "name": "gemini-2.0-flash-lite",
         "orientation": "h",
         "showlegend": true,
         "text": [
          "8.02"
         ],
         "textposition": "outside",
         "type": "bar",
         "x": [
          8.02
         ],
         "xaxis": "x",
         "y": [
          "gemini-2.0-flash-lite"
         ],
         "yaxis": "y"
        },
        {
         "marker": {
          "color": "#AB63FA"
         },
         "name": "gemma-3-12b-it",
         "orientation": "h",
         "showlegend": true,
         "text": [
          "7.94"
         ],
         "textposition": "outside",
         "type": "bar",
         "x": [
          7.94
         ],
         "xaxis": "x",
         "y": [
          "gemma-3-12b-it"
         ],
         "yaxis": "y"
        },
        {
         "marker": {
          "color": "#FF97FF"
         },
         "name": "qwen3-8b",
         "orientation": "h",
         "showlegend": true,
         "text": [
          "7.30"
         ],
         "textposition": "outside",
         "type": "bar",
         "x": [
          7.3
         ],
         "xaxis": "x",
         "y": [
          "qwen3-8b"
         ],
         "yaxis": "y"
        },
        {
         "marker": {
          "color": "#9eb9f3"
         },
         "name": "gemma-3n-e4b-it",
         "orientation": "h",
         "showlegend": true,
         "text": [
          "6.78"
         ],
         "textposition": "outside",
         "type": "bar",
         "x": [
          6.78
         ],
         "xaxis": "x",
         "y": [
          "gemma-3n-e4b-it"
         ],
         "yaxis": "y"
        },
        {
         "marker": {
          "color": "#f89c74"
         },
         "name": "shisa-v2-llama3.1-8b",
         "orientation": "h",
         "showlegend": true,
         "text": [
          "7.32"
         ],
         "textposition": "outside",
         "type": "bar",
         "x": [
          7.32
         ],
         "xaxis": "x",
         "y": [
          "shisa-v2-llama3.1-8b"
         ],
         "yaxis": "y"
        },
        {
         "marker": {
          "color": "#B6E880"
         },
         "name": "shisa-v2-qwen2.5-7b",
         "orientation": "h",
         "showlegend": true,
         "text": [
          "7.40"
         ],
         "textposition": "outside",
         "type": "bar",
         "x": [
          7.4
         ],
         "xaxis": "x",
         "y": [
          "shisa-v2-qwen2.5-7b"
         ],
         "yaxis": "y"
        },
        {
         "marker": {
          "color": "#dcb0f2"
         },
         "name": "aya-expanse-8b-abliterated",
         "orientation": "h",
         "showlegend": true,
         "text": [
          "6.82"
         ],
         "textposition": "outside",
         "type": "bar",
         "x": [
          6.82
         ],
         "xaxis": "x",
         "y": [
          "aya-expanse-8b-abliterated"
         ],
         "yaxis": "y"
        },
        {
         "marker": {
          "color": "#b3b3b3"
         },
         "name": "gemma-3-4b",
         "orientation": "h",
         "showlegend": true,
         "text": [
          "6.72"
         ],
         "textposition": "outside",
         "type": "bar",
         "x": [
          6.72
         ],
         "xaxis": "x",
         "y": [
          "gemma-3-4b"
         ],
         "yaxis": "y"
        },
        {
         "marker": {
          "color": "#EF553B"
         },
         "name": "qwen2.5-7b-instruct",
         "orientation": "h",
         "showlegend": true,
         "text": [
          "6.96"
         ],
         "textposition": "outside",
         "type": "bar",
         "x": [
          6.96
         ],
         "xaxis": "x",
         "y": [
          "qwen2.5-7b-instruct"
         ],
         "yaxis": "y"
        },
        {
         "marker": {
          "color": "#87c55f"
         },
         "name": "deepcogito_cogito-v1-preview-llama-8b",
         "orientation": "h",
         "showlegend": true,
         "text": [
          "6.36"
         ],
         "textposition": "outside",
         "type": "bar",
         "x": [
          6.36
         ],
         "xaxis": "x",
         "y": [
          "deepcogito_cogito-v1-preview-llama-8b"
         ],
         "yaxis": "y"
        },
        {
         "marker": {
          "color": "#FECB52"
         },
         "name": "llama-3.1-8b-instruct",
         "orientation": "h",
         "showlegend": true,
         "text": [
          "6.62"
         ],
         "textposition": "outside",
         "type": "bar",
         "x": [
          6.62
         ],
         "xaxis": "x",
         "y": [
          "llama-3.1-8b-instruct"
         ],
         "yaxis": "y"
        },
        {
         "marker": {
          "color": "#b497e7"
         },
         "name": "granite-3.3-8b-instruct",
         "orientation": "h",
         "showlegend": true,
         "text": [
          "6.06"
         ],
         "textposition": "outside",
         "type": "bar",
         "x": [
          6.06
         ],
         "xaxis": "x",
         "y": [
          "granite-3.3-8b-instruct"
         ],
         "yaxis": "y"
        },
        {
         "marker": {
          "color": "#19D3F3"
         },
         "name": "internvl3_5-8b",
         "orientation": "h",
         "showlegend": true,
         "text": [
          "5.36"
         ],
         "textposition": "outside",
         "type": "bar",
         "x": [
          5.36
         ],
         "xaxis": "x",
         "y": [
          "internvl3_5-8b"
         ],
         "yaxis": "y"
        },
        {
         "marker": {
          "color": "#c9db74"
         },
         "name": "hunyuan-mt-7b",
         "orientation": "h",
         "showlegend": true,
         "text": [
          "5.42"
         ],
         "textposition": "outside",
         "type": "bar",
         "x": [
          5.42
         ],
         "xaxis": "x",
         "y": [
          "hunyuan-mt-7b"
         ],
         "yaxis": "y"
        },
        {
         "marker": {
          "color": "#fe88b1"
         },
         "name": "dolphin3.0-llama3.1-8b",
         "orientation": "h",
         "showlegend": true,
         "text": [
          "5.62"
         ],
         "textposition": "outside",
         "type": "bar",
         "x": [
          5.62
         ],
         "xaxis": "x",
         "y": [
          "dolphin3.0-llama3.1-8b"
         ],
         "yaxis": "y"
        },
        {
         "marker": {
          "color": "#FFA15A"
         },
         "name": "hunyuan-mt-chimera-7b",
         "orientation": "h",
         "showlegend": true,
         "text": [
          "4.82"
         ],
         "textposition": "outside",
         "type": "bar",
         "x": [
          4.82
         ],
         "xaxis": "x",
         "y": [
          "hunyuan-mt-chimera-7b"
         ],
         "yaxis": "y"
        },
        {
         "marker": {
          "color": "#00CC96"
         },
         "name": "internvl3_5-4b",
         "orientation": "h",
         "showlegend": true,
         "text": [
          "4.94"
         ],
         "textposition": "outside",
         "type": "bar",
         "x": [
          4.94
         ],
         "xaxis": "x",
         "y": [
          "internvl3_5-4b"
         ],
         "yaxis": "y"
        },
        {
         "marker": {
          "color": "#f6cf71"
         },
         "name": "aixsatoshi-honyaku-multi-translator-swallow-ms7b",
         "orientation": "h",
         "showlegend": true,
         "text": [
          "3.66"
         ],
         "textposition": "outside",
         "type": "bar",
         "x": [
          3.66
         ],
         "xaxis": "x",
         "y": [
          "aixsatoshi-honyaku-multi-translator-swallow-ms7b"
         ],
         "yaxis": "y"
        },
        {
         "marker": {
          "color": "#66c5cc"
         },
         "name": "gpt-4o",
         "orientation": "h",
         "showlegend": false,
         "text": [
          "8.20"
         ],
         "textposition": "outside",
         "type": "bar",
         "x": [
          8.2
         ],
         "xaxis": "x2",
         "y": [
          "gpt-4o"
         ],
         "yaxis": "y2"
        },
        {
         "marker": {
          "color": "#FF6692"
         },
         "name": "gemini-2.0-flash-lite",
         "orientation": "h",
         "showlegend": false,
         "text": [
          "7.43"
         ],
         "textposition": "outside",
         "type": "bar",
         "x": [
          7.433333333333334
         ],
         "xaxis": "x2",
         "y": [
          "gemini-2.0-flash-lite"
         ],
         "yaxis": "y2"
        },
        {
         "marker": {
          "color": "#AB63FA"
         },
         "name": "gemma-3-12b-it",
         "orientation": "h",
         "showlegend": false,
         "text": [
          "7.12"
         ],
         "textposition": "outside",
         "type": "bar",
         "x": [
          7.116666666666666
         ],
         "xaxis": "x2",
         "y": [
          "gemma-3-12b-it"
         ],
         "yaxis": "y2"
        },
        {
         "marker": {
          "color": "#FF97FF"
         },
         "name": "qwen3-8b",
         "orientation": "h",
         "showlegend": false,
         "text": [
          "7.05"
         ],
         "textposition": "outside",
         "type": "bar",
         "x": [
          7.05
         ],
         "xaxis": "x2",
         "y": [
          "qwen3-8b"
         ],
         "yaxis": "y2"
        },
        {
         "marker": {
          "color": "#9eb9f3"
         },
         "name": "gemma-3n-e4b-it",
         "orientation": "h",
         "showlegend": false,
         "text": [
          "6.97"
         ],
         "textposition": "outside",
         "type": "bar",
         "x": [
          6.966666666666667
         ],
         "xaxis": "x2",
         "y": [
          "gemma-3n-e4b-it"
         ],
         "yaxis": "y2"
        },
        {
         "marker": {
          "color": "#f89c74"
         },
         "name": "shisa-v2-llama3.1-8b",
         "orientation": "h",
         "showlegend": false,
         "text": [
          "6.15"
         ],
         "textposition": "outside",
         "type": "bar",
         "x": [
          6.15
         ],
         "xaxis": "x2",
         "y": [
          "shisa-v2-llama3.1-8b"
         ],
         "yaxis": "y2"
        },
        {
         "marker": {
          "color": "#B6E880"
         },
         "name": "shisa-v2-qwen2.5-7b",
         "orientation": "h",
         "showlegend": false,
         "text": [
          "6.20"
         ],
         "textposition": "outside",
         "type": "bar",
         "x": [
          6.2
         ],
         "xaxis": "x2",
         "y": [
          "shisa-v2-qwen2.5-7b"
         ],
         "yaxis": "y2"
        },
        {
         "marker": {
          "color": "#dcb0f2"
         },
         "name": "aya-expanse-8b-abliterated",
         "orientation": "h",
         "showlegend": false,
         "text": [
          "6.02"
         ],
         "textposition": "outside",
         "type": "bar",
         "x": [
          6.016666666666667
         ],
         "xaxis": "x2",
         "y": [
          "aya-expanse-8b-abliterated"
         ],
         "yaxis": "y2"
        },
        {
         "marker": {
          "color": "#b3b3b3"
         },
         "name": "gemma-3-4b",
         "orientation": "h",
         "showlegend": false,
         "text": [
          "6.00"
         ],
         "textposition": "outside",
         "type": "bar",
         "x": [
          6
         ],
         "xaxis": "x2",
         "y": [
          "gemma-3-4b"
         ],
         "yaxis": "y2"
        },
        {
         "marker": {
          "color": "#EF553B"
         },
         "name": "qwen2.5-7b-instruct",
         "orientation": "h",
         "showlegend": false,
         "text": [
          "5.47"
         ],
         "textposition": "outside",
         "type": "bar",
         "x": [
          5.466666666666667
         ],
         "xaxis": "x2",
         "y": [
          "qwen2.5-7b-instruct"
         ],
         "yaxis": "y2"
        },
        {
         "marker": {
          "color": "#87c55f"
         },
         "name": "deepcogito_cogito-v1-preview-llama-8b",
         "orientation": "h",
         "showlegend": false,
         "text": [
          "5.53"
         ],
         "textposition": "outside",
         "type": "bar",
         "x": [
          5.533333333333333
         ],
         "xaxis": "x2",
         "y": [
          "deepcogito_cogito-v1-preview-llama-8b"
         ],
         "yaxis": "y2"
        },
        {
         "marker": {
          "color": "#FECB52"
         },
         "name": "llama-3.1-8b-instruct",
         "orientation": "h",
         "showlegend": false,
         "text": [
          "4.57"
         ],
         "textposition": "outside",
         "type": "bar",
         "x": [
          4.566666666666666
         ],
         "xaxis": "x2",
         "y": [
          "llama-3.1-8b-instruct"
         ],
         "yaxis": "y2"
        },
        {
         "marker": {
          "color": "#b497e7"
         },
         "name": "granite-3.3-8b-instruct",
         "orientation": "h",
         "showlegend": false,
         "text": [
          "5.18"
         ],
         "textposition": "outside",
         "type": "bar",
         "x": [
          5.183333333333334
         ],
         "xaxis": "x2",
         "y": [
          "granite-3.3-8b-instruct"
         ],
         "yaxis": "y2"
        },
        {
         "marker": {
          "color": "#19D3F3"
         },
         "name": "internvl3_5-8b",
         "orientation": "h",
         "showlegend": false,
         "text": [
          "4.62"
         ],
         "textposition": "outside",
         "type": "bar",
         "x": [
          4.616666666666666
         ],
         "xaxis": "x2",
         "y": [
          "internvl3_5-8b"
         ],
         "yaxis": "y2"
        },
        {
         "marker": {
          "color": "#c9db74"
         },
         "name": "hunyuan-mt-7b",
         "orientation": "h",
         "showlegend": false,
         "text": [
          "4.60"
         ],
         "textposition": "outside",
         "type": "bar",
         "x": [
          4.6
         ],
         "xaxis": "x2",
         "y": [
          "hunyuan-mt-7b"
         ],
         "yaxis": "y2"
        },
        {
         "marker": {
          "color": "#fe88b1"
         },
         "name": "dolphin3.0-llama3.1-8b",
         "orientation": "h",
         "showlegend": false,
         "text": [
          "4.63"
         ],
         "textposition": "outside",
         "type": "bar",
         "x": [
          4.633333333333334
         ],
         "xaxis": "x2",
         "y": [
          "dolphin3.0-llama3.1-8b"
         ],
         "yaxis": "y2"
        },
        {
         "marker": {
          "color": "#FFA15A"
         },
         "name": "hunyuan-mt-chimera-7b",
         "orientation": "h",
         "showlegend": false,
         "text": [
          "4.23"
         ],
         "textposition": "outside",
         "type": "bar",
         "x": [
          4.233333333333333
         ],
         "xaxis": "x2",
         "y": [
          "hunyuan-mt-chimera-7b"
         ],
         "yaxis": "y2"
        },
        {
         "marker": {
          "color": "#00CC96"
         },
         "name": "internvl3_5-4b",
         "orientation": "h",
         "showlegend": false,
         "text": [
          "4.05"
         ],
         "textposition": "outside",
         "type": "bar",
         "x": [
          4.05
         ],
         "xaxis": "x2",
         "y": [
          "internvl3_5-4b"
         ],
         "yaxis": "y2"
        },
        {
         "marker": {
          "color": "#f6cf71"
         },
         "name": "aixsatoshi-honyaku-multi-translator-swallow-ms7b",
         "orientation": "h",
         "showlegend": false,
         "text": [
          "2.77"
         ],
         "textposition": "outside",
         "type": "bar",
         "x": [
          2.7666666666666666
         ],
         "xaxis": "x2",
         "y": [
          "aixsatoshi-honyaku-multi-translator-swallow-ms7b"
         ],
         "yaxis": "y2"
        },
        {
         "marker": {
          "color": "#66c5cc"
         },
         "name": "gpt-4o",
         "orientation": "h",
         "showlegend": false,
         "text": [
          "8.07"
         ],
         "textposition": "outside",
         "type": "bar",
         "x": [
          8.075
         ],
         "xaxis": "x3",
         "y": [
          "gpt-4o"
         ],
         "yaxis": "y3"
        },
        {
         "marker": {
          "color": "#FF6692"
         },
         "name": "gemini-2.0-flash-lite",
         "orientation": "h",
         "showlegend": false,
         "text": [
          "7.62"
         ],
         "textposition": "outside",
         "type": "bar",
         "x": [
          7.625
         ],
         "xaxis": "x3",
         "y": [
          "gemini-2.0-flash-lite"
         ],
         "yaxis": "y3"
        },
        {
         "marker": {
          "color": "#AB63FA"
         },
         "name": "gemma-3-12b-it",
         "orientation": "h",
         "showlegend": false,
         "text": [
          "6.58"
         ],
         "textposition": "outside",
         "type": "bar",
         "x": [
          6.575
         ],
         "xaxis": "x3",
         "y": [
          "gemma-3-12b-it"
         ],
         "yaxis": "y3"
        },
        {
         "marker": {
          "color": "#FF97FF"
         },
         "name": "qwen3-8b",
         "orientation": "h",
         "showlegend": false,
         "text": [
          "5.65"
         ],
         "textposition": "outside",
         "type": "bar",
         "x": [
          5.65
         ],
         "xaxis": "x3",
         "y": [
          "qwen3-8b"
         ],
         "yaxis": "y3"
        },
        {
         "marker": {
          "color": "#9eb9f3"
         },
         "name": "gemma-3n-e4b-it",
         "orientation": "h",
         "showlegend": false,
         "text": [
          "6.67"
         ],
         "textposition": "outside",
         "type": "bar",
         "x": [
          6.666666666666667
         ],
         "xaxis": "x3",
         "y": [
          "gemma-3n-e4b-it"
         ],
         "yaxis": "y3"
        },
        {
         "marker": {
          "color": "#f89c74"
         },
         "name": "shisa-v2-llama3.1-8b",
         "orientation": "h",
         "showlegend": false,
         "text": [
          "6.49"
         ],
         "textposition": "outside",
         "type": "bar",
         "x": [
          6.487179487179487
         ],
         "xaxis": "x3",
         "y": [
          "shisa-v2-llama3.1-8b"
         ],
         "yaxis": "y3"
        },
        {
         "marker": {
          "color": "#B6E880"
         },
         "name": "shisa-v2-qwen2.5-7b",
         "orientation": "h",
         "showlegend": false,
         "text": [
          "5.82"
         ],
         "textposition": "outside",
         "type": "bar",
         "x": [
          5.815789473684211
         ],
         "xaxis": "x3",
         "y": [
          "shisa-v2-qwen2.5-7b"
         ],
         "yaxis": "y3"
        },
        {
         "marker": {
          "color": "#dcb0f2"
         },
         "name": "aya-expanse-8b-abliterated",
         "orientation": "h",
         "showlegend": false,
         "text": [
          "6.03"
         ],
         "textposition": "outside",
         "type": "bar",
         "x": [
          6.025
         ],
         "xaxis": "x3",
         "y": [
          "aya-expanse-8b-abliterated"
         ],
         "yaxis": "y3"
        },
        {
         "marker": {
          "color": "#b3b3b3"
         },
         "name": "gemma-3-4b",
         "orientation": "h",
         "showlegend": false,
         "text": [
          "5.62"
         ],
         "textposition": "outside",
         "type": "bar",
         "x": [
          5.615384615384615
         ],
         "xaxis": "x3",
         "y": [
          "gemma-3-4b"
         ],
         "yaxis": "y3"
        },
        {
         "marker": {
          "color": "#EF553B"
         },
         "name": "qwen2.5-7b-instruct",
         "orientation": "h",
         "showlegend": false,
         "text": [
          "5.83"
         ],
         "textposition": "outside",
         "type": "bar",
         "x": [
          5.825
         ],
         "xaxis": "x3",
         "y": [
          "qwen2.5-7b-instruct"
         ],
         "yaxis": "y3"
        },
        {
         "marker": {
          "color": "#87c55f"
         },
         "name": "deepcogito_cogito-v1-preview-llama-8b",
         "orientation": "h",
         "showlegend": false,
         "text": [
          "4.95"
         ],
         "textposition": "outside",
         "type": "bar",
         "x": [
          4.948717948717949
         ],
         "xaxis": "x3",
         "y": [
          "deepcogito_cogito-v1-preview-llama-8b"
         ],
         "yaxis": "y3"
        },
        {
         "marker": {
          "color": "#FECB52"
         },
         "name": "llama-3.1-8b-instruct",
         "orientation": "h",
         "showlegend": false,
         "text": [
          "4.64"
         ],
         "textposition": "outside",
         "type": "bar",
         "x": [
          4.641025641025641
         ],
         "xaxis": "x3",
         "y": [
          "llama-3.1-8b-instruct"
         ],
         "yaxis": "y3"
        },
        {
         "marker": {
          "color": "#b497e7"
         },
         "name": "granite-3.3-8b-instruct",
         "orientation": "h",
         "showlegend": false,
         "text": [
          "4.75"
         ],
         "textposition": "outside",
         "type": "bar",
         "x": [
          4.75
         ],
         "xaxis": "x3",
         "y": [
          "granite-3.3-8b-instruct"
         ],
         "yaxis": "y3"
        },
        {
         "marker": {
          "color": "#19D3F3"
         },
         "name": "internvl3_5-8b",
         "orientation": "h",
         "showlegend": false,
         "text": [
          "3.92"
         ],
         "textposition": "outside",
         "type": "bar",
         "x": [
          3.925
         ],
         "xaxis": "x3",
         "y": [
          "internvl3_5-8b"
         ],
         "yaxis": "y3"
        },
        {
         "marker": {
          "color": "#c9db74"
         },
         "name": "hunyuan-mt-7b",
         "orientation": "h",
         "showlegend": false,
         "text": [
          "4.70"
         ],
         "textposition": "outside",
         "type": "bar",
         "x": [
          4.702702702702703
         ],
         "xaxis": "x3",
         "y": [
          "hunyuan-mt-7b"
         ],
         "yaxis": "y3"
        },
        {
         "marker": {
          "color": "#fe88b1"
         },
         "name": "dolphin3.0-llama3.1-8b",
         "orientation": "h",
         "showlegend": false,
         "text": [
          "4.36"
         ],
         "textposition": "outside",
         "type": "bar",
         "x": [
          4.358974358974359
         ],
         "xaxis": "x3",
         "y": [
          "dolphin3.0-llama3.1-8b"
         ],
         "yaxis": "y3"
        },
        {
         "marker": {
          "color": "#FFA15A"
         },
         "name": "hunyuan-mt-chimera-7b",
         "orientation": "h",
         "showlegend": false,
         "text": [
          "4.53"
         ],
         "textposition": "outside",
         "type": "bar",
         "x": [
          4.525
         ],
         "xaxis": "x3",
         "y": [
          "hunyuan-mt-chimera-7b"
         ],
         "yaxis": "y3"
        },
        {
         "marker": {
          "color": "#00CC96"
         },
         "name": "internvl3_5-4b",
         "orientation": "h",
         "showlegend": false,
         "text": [
          "3.21"
         ],
         "textposition": "outside",
         "type": "bar",
         "x": [
          3.2051282051282053
         ],
         "xaxis": "x3",
         "y": [
          "internvl3_5-4b"
         ],
         "yaxis": "y3"
        },
        {
         "marker": {
          "color": "#f6cf71"
         },
         "name": "aixsatoshi-honyaku-multi-translator-swallow-ms7b",
         "orientation": "h",
         "showlegend": false,
         "text": [
          "4.08"
         ],
         "textposition": "outside",
         "type": "bar",
         "x": [
          4.075
         ],
         "xaxis": "x3",
         "y": [
          "aixsatoshi-honyaku-multi-translator-swallow-ms7b"
         ],
         "yaxis": "y3"
        },
        {
         "marker": {
          "color": "#66c5cc"
         },
         "name": "gpt-4o",
         "orientation": "h",
         "showlegend": false,
         "text": [
          "8.42"
         ],
         "textposition": "outside",
         "type": "bar",
         "x": [
          8.416666666666666
         ],
         "xaxis": "x4",
         "y": [
          "gpt-4o"
         ],
         "yaxis": "y4"
        },
        {
         "marker": {
          "color": "#FF6692"
         },
         "name": "gemini-2.0-flash-lite",
         "orientation": "h",
         "showlegend": false,
         "text": [
          "7.81"
         ],
         "textposition": "outside",
         "type": "bar",
         "x": [
          7.808333333333334
         ],
         "xaxis": "x4",
         "y": [
          "gemini-2.0-flash-lite"
         ],
         "yaxis": "y4"
        },
        {
         "marker": {
          "color": "#AB63FA"
         },
         "name": "gemma-3-12b-it",
         "orientation": "h",
         "showlegend": false,
         "text": [
          "7.33"
         ],
         "textposition": "outside",
         "type": "bar",
         "x": [
          7.3277310924369745
         ],
         "xaxis": "x4",
         "y": [
          "gemma-3-12b-it"
         ],
         "yaxis": "y4"
        },
        {
         "marker": {
          "color": "#FF97FF"
         },
         "name": "qwen3-8b",
         "orientation": "h",
         "showlegend": false,
         "text": [
          "7.68"
         ],
         "textposition": "outside",
         "type": "bar",
         "x": [
          7.683333333333334
         ],
         "xaxis": "x4",
         "y": [
          "qwen3-8b"
         ],
         "yaxis": "y4"
        },
        {
         "marker": {
          "color": "#9eb9f3"
         },
         "name": "gemma-3n-e4b-it",
         "orientation": "h",
         "showlegend": false,
         "text": [
          "6.12"
         ],
         "textposition": "outside",
         "type": "bar",
         "x": [
          6.125
         ],
         "xaxis": "x4",
         "y": [
          "gemma-3n-e4b-it"
         ],
         "yaxis": "y4"
        },
        {
         "marker": {
          "color": "#f89c74"
         },
         "name": "shisa-v2-llama3.1-8b",
         "orientation": "h",
         "showlegend": false,
         "text": [
          "6.68"
         ],
         "textposition": "outside",
         "type": "bar",
         "x": [
          6.680672268907563
         ],
         "xaxis": "x4",
         "y": [
          "shisa-v2-llama3.1-8b"
         ],
         "yaxis": "y4"
        },
        {
         "marker": {
          "color": "#B6E880"
         },
         "name": "shisa-v2-qwen2.5-7b",
         "orientation": "h",
         "showlegend": false,
         "text": [
          "7.04"
         ],
         "textposition": "outside",
         "type": "bar",
         "x": [
          7.041666666666667
         ],
         "xaxis": "x4",
         "y": [
          "shisa-v2-qwen2.5-7b"
         ],
         "yaxis": "y4"
        },
        {
         "marker": {
          "color": "#dcb0f2"
         },
         "name": "aya-expanse-8b-abliterated",
         "orientation": "h",
         "showlegend": false,
         "text": [
          "6.60"
         ],
         "textposition": "outside",
         "type": "bar",
         "x": [
          6.6
         ],
         "xaxis": "x4",
         "y": [
          "aya-expanse-8b-abliterated"
         ],
         "yaxis": "y4"
        },
        {
         "marker": {
          "color": "#b3b3b3"
         },
         "name": "gemma-3-4b",
         "orientation": "h",
         "showlegend": false,
         "text": [
          "6.21"
         ],
         "textposition": "outside",
         "type": "bar",
         "x": [
          6.2100840336134455
         ],
         "xaxis": "x4",
         "y": [
          "gemma-3-4b"
         ],
         "yaxis": "y4"
        },
        {
         "marker": {
          "color": "#EF553B"
         },
         "name": "qwen2.5-7b-instruct",
         "orientation": "h",
         "showlegend": false,
         "text": [
          "6.82"
         ],
         "textposition": "outside",
         "type": "bar",
         "x": [
          6.815126050420168
         ],
         "xaxis": "x4",
         "y": [
          "qwen2.5-7b-instruct"
         ],
         "yaxis": "y4"
        },
        {
         "marker": {
          "color": "#87c55f"
         },
         "name": "deepcogito_cogito-v1-preview-llama-8b",
         "orientation": "h",
         "showlegend": false,
         "text": [
          "6.46"
         ],
         "textposition": "outside",
         "type": "bar",
         "x": [
          6.458333333333333
         ],
         "xaxis": "x4",
         "y": [
          "deepcogito_cogito-v1-preview-llama-8b"
         ],
         "yaxis": "y4"
        },
        {
         "marker": {
          "color": "#FECB52"
         },
         "name": "llama-3.1-8b-instruct",
         "orientation": "h",
         "showlegend": false,
         "text": [
          "6.19"
         ],
         "textposition": "outside",
         "type": "bar",
         "x": [
          6.191666666666666
         ],
         "xaxis": "x4",
         "y": [
          "llama-3.1-8b-instruct"
         ],
         "yaxis": "y4"
        },
        {
         "marker": {
          "color": "#b497e7"
         },
         "name": "granite-3.3-8b-instruct",
         "orientation": "h",
         "showlegend": false,
         "text": [
          "6.03"
         ],
         "textposition": "outside",
         "type": "bar",
         "x": [
          6.025210084033613
         ],
         "xaxis": "x4",
         "y": [
          "granite-3.3-8b-instruct"
         ],
         "yaxis": "y4"
        },
        {
         "marker": {
          "color": "#19D3F3"
         },
         "name": "internvl3_5-8b",
         "orientation": "h",
         "showlegend": false,
         "text": [
          "5.97"
         ],
         "textposition": "outside",
         "type": "bar",
         "x": [
          5.966386554621849
         ],
         "xaxis": "x4",
         "y": [
          "internvl3_5-8b"
         ],
         "yaxis": "y4"
        },
        {
         "marker": {
          "color": "#c9db74"
         },
         "name": "hunyuan-mt-7b",
         "orientation": "h",
         "showlegend": false,
         "text": [
          "5.35"
         ],
         "textposition": "outside",
         "type": "bar",
         "x": [
          5.35
         ],
         "xaxis": "x4",
         "y": [
          "hunyuan-mt-7b"
         ],
         "yaxis": "y4"
        },
        {
         "marker": {
          "color": "#fe88b1"
         },
         "name": "dolphin3.0-llama3.1-8b",
         "orientation": "h",
         "showlegend": false,
         "text": [
          "5.59"
         ],
         "textposition": "outside",
         "type": "bar",
         "x": [
          5.591666666666667
         ],
         "xaxis": "x4",
         "y": [
          "dolphin3.0-llama3.1-8b"
         ],
         "yaxis": "y4"
        },
        {
         "marker": {
          "color": "#FFA15A"
         },
         "name": "hunyuan-mt-chimera-7b",
         "orientation": "h",
         "showlegend": false,
         "text": [
          "4.86"
         ],
         "textposition": "outside",
         "type": "bar",
         "x": [
          4.858333333333333
         ],
         "xaxis": "x4",
         "y": [
          "hunyuan-mt-chimera-7b"
         ],
         "yaxis": "y4"
        },
        {
         "marker": {
          "color": "#00CC96"
         },
         "name": "internvl3_5-4b",
         "orientation": "h",
         "showlegend": false,
         "text": [
          "5.09"
         ],
         "textposition": "outside",
         "type": "bar",
         "x": [
          5.091666666666667
         ],
         "xaxis": "x4",
         "y": [
          "internvl3_5-4b"
         ],
         "yaxis": "y4"
        },
        {
         "marker": {
          "color": "#f6cf71"
         },
         "name": "aixsatoshi-honyaku-multi-translator-swallow-ms7b",
         "orientation": "h",
         "showlegend": false,
         "text": [
          "2.99"
         ],
         "textposition": "outside",
         "type": "bar",
         "x": [
          2.9916666666666667
         ],
         "xaxis": "x4",
         "y": [
          "aixsatoshi-honyaku-multi-translator-swallow-ms7b"
         ],
         "yaxis": "y4"
        },
        {
         "marker": {
          "color": "#66c5cc"
         },
         "name": "gpt-4o",
         "orientation": "h",
         "showlegend": false,
         "text": [
          "8.30"
         ],
         "textposition": "outside",
         "type": "bar",
         "x": [
          8.304166666666667
         ],
         "xaxis": "x5",
         "y": [
          "gpt-4o"
         ],
         "yaxis": "y5"
        },
        {
         "marker": {
          "color": "#FF6692"
         },
         "name": "gemini-2.0-flash-lite",
         "orientation": "h",
         "showlegend": false,
         "text": [
          "7.68"
         ],
         "textposition": "outside",
         "type": "bar",
         "x": [
          7.6775
         ],
         "xaxis": "x5",
         "y": [
          "gemini-2.0-flash-lite"
         ],
         "yaxis": "y5"
        },
        {
         "marker": {
          "color": "#AB63FA"
         },
         "name": "gemma-3-12b-it",
         "orientation": "h",
         "showlegend": false,
         "text": [
          "7.37"
         ],
         "textposition": "outside",
         "type": "bar",
         "x": [
          7.369166666666667
         ],
         "xaxis": "x5",
         "y": [
          "gemma-3-12b-it"
         ],
         "yaxis": "y5"
        },
        {
         "marker": {
          "color": "#FF97FF"
         },
         "name": "qwen3-8b",
         "orientation": "h",
         "showlegend": false,
         "text": [
          "6.39"
         ],
         "textposition": "outside",
         "type": "bar",
         "x": [
          6.3925
         ],
         "xaxis": "x5",
         "y": [
          "qwen3-8b"
         ],
         "yaxis": "y5"
        },
        {
         "marker": {
          "color": "#9eb9f3"
         },
         "name": "gemma-3n-e4b-it",
         "orientation": "h",
         "showlegend": false,
         "text": [
          "7.69"
         ],
         "textposition": "outside",
         "type": "bar",
         "x": [
          7.694166666666666
         ],
         "xaxis": "x5",
         "y": [
          "gemma-3n-e4b-it"
         ],
         "yaxis": "y5"
        },
        {
         "marker": {
          "color": "#f89c74"
         },
         "name": "shisa-v2-llama3.1-8b",
         "orientation": "h",
         "showlegend": false,
         "text": [
          "6.81"
         ],
         "textposition": "outside",
         "type": "bar",
         "x": [
          6.805833333333334
         ],
         "xaxis": "x5",
         "y": [
          "shisa-v2-llama3.1-8b"
         ],
         "yaxis": "y5"
        },
        {
         "marker": {
          "color": "#B6E880"
         },
         "name": "shisa-v2-qwen2.5-7b",
         "orientation": "h",
         "showlegend": false,
         "text": [
          "6.68"
         ],
         "textposition": "outside",
         "type": "bar",
         "x": [
          6.685
         ],
         "xaxis": "x5",
         "y": [
          "shisa-v2-qwen2.5-7b"
         ],
         "yaxis": "y5"
        },
        {
         "marker": {
          "color": "#dcb0f2"
         },
         "name": "aya-expanse-8b-abliterated",
         "orientation": "h",
         "showlegend": false,
         "text": [
          "6.66"
         ],
         "textposition": "outside",
         "type": "bar",
         "x": [
          6.655833333333334
         ],
         "xaxis": "x5",
         "y": [
          "aya-expanse-8b-abliterated"
         ],
         "yaxis": "y5"
        },
        {
         "marker": {
          "color": "#b3b3b3"
         },
         "name": "gemma-3-4b",
         "orientation": "h",
         "showlegend": false,
         "text": [
          "6.42"
         ],
         "textposition": "outside",
         "type": "bar",
         "x": [
          6.416666666666666
         ],
         "xaxis": "x5",
         "y": [
          "gemma-3-4b"
         ],
         "yaxis": "y5"
        },
        {
         "marker": {
          "color": "#EF553B"
         },
         "name": "qwen2.5-7b-instruct",
         "orientation": "h",
         "showlegend": false,
         "text": [
          "6.56"
         ],
         "textposition": "outside",
         "type": "bar",
         "x": [
          6.564166666666666
         ],
         "xaxis": "x5",
         "y": [
          "qwen2.5-7b-instruct"
         ],
         "yaxis": "y5"
        },
        {
         "marker": {
          "color": "#87c55f"
         },
         "name": "deepcogito_cogito-v1-preview-llama-8b",
         "orientation": "h",
         "showlegend": false,
         "text": [
          "6.56"
         ],
         "textposition": "outside",
         "type": "bar",
         "x": [
          6.559166666666666
         ],
         "xaxis": "x5",
         "y": [
          "deepcogito_cogito-v1-preview-llama-8b"
         ],
         "yaxis": "y5"
        },
        {
         "marker": {
          "color": "#FECB52"
         },
         "name": "llama-3.1-8b-instruct",
         "orientation": "h",
         "showlegend": false,
         "text": [
          "6.25"
         ],
         "textposition": "outside",
         "type": "bar",
         "x": [
          6.245
         ],
         "xaxis": "x5",
         "y": [
          "llama-3.1-8b-instruct"
         ],
         "yaxis": "y5"
        },
        {
         "marker": {
          "color": "#b497e7"
         },
         "name": "granite-3.3-8b-instruct",
         "orientation": "h",
         "showlegend": false,
         "text": [
          "6.25"
         ],
         "textposition": "outside",
         "type": "bar",
         "x": [
          6.2525
         ],
         "xaxis": "x5",
         "y": [
          "granite-3.3-8b-instruct"
         ],
         "yaxis": "y5"
        },
        {
         "marker": {
          "color": "#19D3F3"
         },
         "name": "internvl3_5-8b",
         "orientation": "h",
         "showlegend": false,
         "text": [
          "6.55"
         ],
         "textposition": "outside",
         "type": "bar",
         "x": [
          6.55
         ],
         "xaxis": "x5",
         "y": [
          "internvl3_5-8b"
         ],
         "yaxis": "y5"
        },
        {
         "marker": {
          "color": "#c9db74"
         },
         "name": "hunyuan-mt-7b",
         "orientation": "h",
         "showlegend": false,
         "text": [
          "6.47"
         ],
         "textposition": "outside",
         "type": "bar",
         "x": [
          6.469166666666666
         ],
         "xaxis": "x5",
         "y": [
          "hunyuan-mt-7b"
         ],
         "yaxis": "y5"
        },
        {
         "marker": {
          "color": "#fe88b1"
         },
         "name": "dolphin3.0-llama3.1-8b",
         "orientation": "h",
         "showlegend": false,
         "text": [
          "5.99"
         ],
         "textposition": "outside",
         "type": "bar",
         "x": [
          5.989166666666666
         ],
         "xaxis": "x5",
         "y": [
          "dolphin3.0-llama3.1-8b"
         ],
         "yaxis": "y5"
        },
        {
         "marker": {
          "color": "#FFA15A"
         },
         "name": "hunyuan-mt-chimera-7b",
         "orientation": "h",
         "showlegend": false,
         "text": [
          "6.58"
         ],
         "textposition": "outside",
         "type": "bar",
         "x": [
          6.5775
         ],
         "xaxis": "x5",
         "y": [
          "hunyuan-mt-chimera-7b"
         ],
         "yaxis": "y5"
        },
        {
         "marker": {
          "color": "#00CC96"
         },
         "name": "internvl3_5-4b",
         "orientation": "h",
         "showlegend": false,
         "text": [
          "5.69"
         ],
         "textposition": "outside",
         "type": "bar",
         "x": [
          5.6925
         ],
         "xaxis": "x5",
         "y": [
          "internvl3_5-4b"
         ],
         "yaxis": "y5"
        },
        {
         "marker": {
          "color": "#f6cf71"
         },
         "name": "aixsatoshi-honyaku-multi-translator-swallow-ms7b",
         "orientation": "h",
         "showlegend": false,
         "text": [
          "2.81"
         ],
         "textposition": "outside",
         "type": "bar",
         "x": [
          2.813333333333333
         ],
         "xaxis": "x5",
         "y": [
          "aixsatoshi-honyaku-multi-translator-swallow-ms7b"
         ],
         "yaxis": "y5"
        },
        {
         "marker": {
          "color": "#66c5cc"
         },
         "name": "gpt-4o",
         "orientation": "h",
         "showlegend": false,
         "text": [
          "8.43"
         ],
         "textposition": "outside",
         "type": "bar",
         "x": [
          8.427166666666666
         ],
         "xaxis": "x6",
         "y": [
          "gpt-4o"
         ],
         "yaxis": "y6"
        },
        {
         "marker": {
          "color": "#FF6692"
         },
         "name": "gemini-2.0-flash-lite",
         "orientation": "h",
         "showlegend": false,
         "text": [
          "7.71"
         ],
         "textposition": "outside",
         "type": "bar",
         "x": [
          7.712833333333333
         ],
         "xaxis": "x6",
         "y": [
          "gemini-2.0-flash-lite"
         ],
         "yaxis": "y6"
        },
        {
         "marker": {
          "color": "#AB63FA"
         },
         "name": "gemma-3-12b-it",
         "orientation": "h",
         "showlegend": false,
         "text": [
          "7.27"
         ],
         "textposition": "outside",
         "type": "bar",
         "x": [
          7.265712885154062
         ],
         "xaxis": "x6",
         "y": [
          "gemma-3-12b-it"
         ],
         "yaxis": "y6"
        },
        {
         "marker": {
          "color": "#FF97FF"
         },
         "name": "qwen3-8b",
         "orientation": "h",
         "showlegend": false,
         "text": [
          "6.82"
         ],
         "textposition": "outside",
         "type": "bar",
         "x": [
          6.815166666666667
         ],
         "xaxis": "x6",
         "y": [
          "qwen3-8b"
         ],
         "yaxis": "y6"
        },
        {
         "marker": {
          "color": "#9eb9f3"
         },
         "name": "gemma-3n-e4b-it",
         "orientation": "h",
         "showlegend": false,
         "text": [
          "6.85"
         ],
         "textposition": "outside",
         "type": "bar",
         "x": [
          6.846500000000001
         ],
         "xaxis": "x6",
         "y": [
          "gemma-3n-e4b-it"
         ],
         "yaxis": "y6"
        },
        {
         "marker": {
          "color": "#f89c74"
         },
         "name": "shisa-v2-llama3.1-8b",
         "orientation": "h",
         "showlegend": false,
         "text": [
          "6.69"
         ],
         "textposition": "outside",
         "type": "bar",
         "x": [
          6.688737017884077
         ],
         "xaxis": "x6",
         "y": [
          "shisa-v2-llama3.1-8b"
         ],
         "yaxis": "y6"
        },
        {
         "marker": {
          "color": "#B6E880"
         },
         "name": "shisa-v2-qwen2.5-7b",
         "orientation": "h",
         "showlegend": false,
         "text": [
          "6.63"
         ],
         "textposition": "outside",
         "type": "bar",
         "x": [
          6.628491228070176
         ],
         "xaxis": "x6",
         "y": [
          "shisa-v2-qwen2.5-7b"
         ],
         "yaxis": "y6"
        },
        {
         "marker": {
          "color": "#dcb0f2"
         },
         "name": "aya-expanse-8b-abliterated",
         "orientation": "h",
         "showlegend": false,
         "text": [
          "6.42"
         ],
         "textposition": "outside",
         "type": "bar",
         "x": [
          6.4235
         ],
         "xaxis": "x6",
         "y": [
          "aya-expanse-8b-abliterated"
         ],
         "yaxis": "y6"
        },
        {
         "marker": {
          "color": "#b3b3b3"
         },
         "name": "gemma-3-4b",
         "orientation": "h",
         "showlegend": false,
         "text": [
          "6.19"
         ],
         "textposition": "outside",
         "type": "bar",
         "x": [
          6.1924270631329446
         ],
         "xaxis": "x6",
         "y": [
          "gemma-3-4b"
         ],
         "yaxis": "y6"
        },
        {
         "marker": {
          "color": "#EF553B"
         },
         "name": "qwen2.5-7b-instruct",
         "orientation": "h",
         "showlegend": false,
         "text": [
          "6.33"
         ],
         "textposition": "outside",
         "type": "bar",
         "x": [
          6.3261918767507
         ],
         "xaxis": "x6",
         "y": [
          "qwen2.5-7b-instruct"
         ],
         "yaxis": "y6"
        },
        {
         "marker": {
          "color": "#87c55f"
         },
         "name": "deepcogito_cogito-v1-preview-llama-8b",
         "orientation": "h",
         "showlegend": false,
         "text": [
          "5.97"
         ],
         "textposition": "outside",
         "type": "bar",
         "x": [
          5.971910256410256
         ],
         "xaxis": "x6",
         "y": [
          "deepcogito_cogito-v1-preview-llama-8b"
         ],
         "yaxis": "y6"
        },
        {
         "marker": {
          "color": "#FECB52"
         },
         "name": "llama-3.1-8b-instruct",
         "orientation": "h",
         "showlegend": false,
         "text": [
          "5.65"
         ],
         "textposition": "outside",
         "type": "bar",
         "x": [
          5.652871794871794
         ],
         "xaxis": "x6",
         "y": [
          "llama-3.1-8b-instruct"
         ],
         "yaxis": "y6"
        },
        {
         "marker": {
          "color": "#b497e7"
         },
         "name": "granite-3.3-8b-instruct",
         "orientation": "h",
         "showlegend": false,
         "text": [
          "5.65"
         ],
         "textposition": "outside",
         "type": "bar",
         "x": [
          5.65420868347339
         ],
         "xaxis": "x6",
         "y": [
          "granite-3.3-8b-instruct"
         ],
         "yaxis": "y6"
        },
        {
         "marker": {
          "color": "#19D3F3"
         },
         "name": "internvl3_5-8b",
         "orientation": "h",
         "showlegend": false,
         "text": [
          "5.28"
         ],
         "textposition": "outside",
         "type": "bar",
         "x": [
          5.2836106442577035
         ],
         "xaxis": "x6",
         "y": [
          "internvl3_5-8b"
         ],
         "yaxis": "y6"
        },
        {
         "marker": {
          "color": "#c9db74"
         },
         "name": "hunyuan-mt-7b",
         "orientation": "h",
         "showlegend": false,
         "text": [
          "5.31"
         ],
         "textposition": "outside",
         "type": "bar",
         "x": [
          5.308373873873874
         ],
         "xaxis": "x6",
         "y": [
          "hunyuan-mt-7b"
         ],
         "yaxis": "y6"
        },
        {
         "marker": {
          "color": "#fe88b1"
         },
         "name": "dolphin3.0-llama3.1-8b",
         "orientation": "h",
         "showlegend": false,
         "text": [
          "5.24"
         ],
         "textposition": "outside",
         "type": "bar",
         "x": [
          5.238628205128205
         ],
         "xaxis": "x6",
         "y": [
          "dolphin3.0-llama3.1-8b"
         ],
         "yaxis": "y6"
        },
        {
         "marker": {
          "color": "#FFA15A"
         },
         "name": "hunyuan-mt-chimera-7b",
         "orientation": "h",
         "showlegend": false,
         "text": [
          "5.00"
         ],
         "textposition": "outside",
         "type": "bar",
         "x": [
          5.002833333333333
         ],
         "xaxis": "x6",
         "y": [
          "hunyuan-mt-chimera-7b"
         ],
         "yaxis": "y6"
        },
        {
         "marker": {
          "color": "#00CC96"
         },
         "name": "internvl3_5-4b",
         "orientation": "h",
         "showlegend": false,
         "text": [
          "4.60"
         ],
         "textposition": "outside",
         "type": "bar",
         "x": [
          4.595858974358974
         ],
         "xaxis": "x6",
         "y": [
          "internvl3_5-4b"
         ],
         "yaxis": "y6"
        },
        {
         "marker": {
          "color": "#f6cf71"
         },
         "name": "aixsatoshi-honyaku-multi-translator-swallow-ms7b",
         "orientation": "h",
         "showlegend": false,
         "text": [
          "3.26"
         ],
         "textposition": "outside",
         "type": "bar",
         "x": [
          3.261333333333333
         ],
         "xaxis": "x6",
         "y": [
          "aixsatoshi-honyaku-multi-translator-swallow-ms7b"
         ],
         "yaxis": "y6"
        }
       ],
       "layout": {
        "annotations": [
         {
          "font": {
           "size": 16
          },
          "showarrow": false,
          "text": "ELYZA-Tasks-100",
          "x": 0.2375,
          "xanchor": "center",
          "xref": "paper",
          "y": 1,
          "yanchor": "bottom",
          "yref": "paper"
         },
         {
          "font": {
           "size": 16
          },
          "showarrow": false,
          "text": "MT-Bench-60",
          "x": 0.7625,
          "xanchor": "center",
          "xref": "paper",
          "y": 1,
          "yanchor": "bottom",
          "yref": "paper"
         },
         {
          "font": {
           "size": 16
          },
          "showarrow": false,
          "text": "Rakuda-40",
          "x": 0.2375,
          "xanchor": "center",
          "xref": "paper",
          "y": 0.6333333333333333,
          "yanchor": "bottom",
          "yref": "paper"
         },
         {
          "font": {
           "size": 16
          },
          "showarrow": false,
          "text": "Tengu-Bench-120",
          "x": 0.7625,
          "xanchor": "center",
          "xref": "paper",
          "y": 0.6333333333333333,
          "yanchor": "bottom",
          "yref": "paper"
         },
         {
          "font": {
           "size": 16
          },
          "showarrow": false,
          "text": "VNTL-Translation-200",
          "x": 0.2375,
          "xanchor": "center",
          "xref": "paper",
          "y": 0.26666666666666666,
          "yanchor": "bottom",
          "yref": "paper"
         },
         {
          "font": {
           "size": 16
          },
          "showarrow": false,
          "text": "Average",
          "x": 0.7625,
          "xanchor": "center",
          "xref": "paper",
          "y": 0.26666666666666666,
          "yanchor": "bottom",
          "yref": "paper"
         }
        ],
        "bargap": 0.01,
        "bargroupgap": 0.01,
        "height": 1000,
        "legend": {
         "title": {
          "text": "Model"
         }
        },
        "template": {
         "data": {
          "bar": [
           {
            "error_x": {
             "color": "#2a3f5f"
            },
            "error_y": {
             "color": "#2a3f5f"
            },
            "marker": {
             "line": {
              "color": "white",
              "width": 0.5
             },
             "pattern": {
              "fillmode": "overlay",
              "size": 10,
              "solidity": 0.2
             }
            },
            "type": "bar"
           }
          ],
          "barpolar": [
           {
            "marker": {
             "line": {
              "color": "white",
              "width": 0.5
             },
             "pattern": {
              "fillmode": "overlay",
              "size": 10,
              "solidity": 0.2
             }
            },
            "type": "barpolar"
           }
          ],
          "carpet": [
           {
            "aaxis": {
             "endlinecolor": "#2a3f5f",
             "gridcolor": "#C8D4E3",
             "linecolor": "#C8D4E3",
             "minorgridcolor": "#C8D4E3",
             "startlinecolor": "#2a3f5f"
            },
            "baxis": {
             "endlinecolor": "#2a3f5f",
             "gridcolor": "#C8D4E3",
             "linecolor": "#C8D4E3",
             "minorgridcolor": "#C8D4E3",
             "startlinecolor": "#2a3f5f"
            },
            "type": "carpet"
           }
          ],
          "choropleth": [
           {
            "colorbar": {
             "outlinewidth": 0,
             "ticks": ""
            },
            "type": "choropleth"
           }
          ],
          "contour": [
           {
            "colorbar": {
             "outlinewidth": 0,
             "ticks": ""
            },
            "colorscale": [
             [
              0,
              "#0d0887"
             ],
             [
              0.1111111111111111,
              "#46039f"
             ],
             [
              0.2222222222222222,
              "#7201a8"
             ],
             [
              0.3333333333333333,
              "#9c179e"
             ],
             [
              0.4444444444444444,
              "#bd3786"
             ],
             [
              0.5555555555555556,
              "#d8576b"
             ],
             [
              0.6666666666666666,
              "#ed7953"
             ],
             [
              0.7777777777777778,
              "#fb9f3a"
             ],
             [
              0.8888888888888888,
              "#fdca26"
             ],
             [
              1,
              "#f0f921"
             ]
            ],
            "type": "contour"
           }
          ],
          "contourcarpet": [
           {
            "colorbar": {
             "outlinewidth": 0,
             "ticks": ""
            },
            "type": "contourcarpet"
           }
          ],
          "heatmap": [
           {
            "colorbar": {
             "outlinewidth": 0,
             "ticks": ""
            },
            "colorscale": [
             [
              0,
              "#0d0887"
             ],
             [
              0.1111111111111111,
              "#46039f"
             ],
             [
              0.2222222222222222,
              "#7201a8"
             ],
             [
              0.3333333333333333,
              "#9c179e"
             ],
             [
              0.4444444444444444,
              "#bd3786"
             ],
             [
              0.5555555555555556,
              "#d8576b"
             ],
             [
              0.6666666666666666,
              "#ed7953"
             ],
             [
              0.7777777777777778,
              "#fb9f3a"
             ],
             [
              0.8888888888888888,
              "#fdca26"
             ],
             [
              1,
              "#f0f921"
             ]
            ],
            "type": "heatmap"
           }
          ],
          "histogram": [
           {
            "marker": {
             "pattern": {
              "fillmode": "overlay",
              "size": 10,
              "solidity": 0.2
             }
            },
            "type": "histogram"
           }
          ],
          "histogram2d": [
           {
            "colorbar": {
             "outlinewidth": 0,
             "ticks": ""
            },
            "colorscale": [
             [
              0,
              "#0d0887"
             ],
             [
              0.1111111111111111,
              "#46039f"
             ],
             [
              0.2222222222222222,
              "#7201a8"
             ],
             [
              0.3333333333333333,
              "#9c179e"
             ],
             [
              0.4444444444444444,
              "#bd3786"
             ],
             [
              0.5555555555555556,
              "#d8576b"
             ],
             [
              0.6666666666666666,
              "#ed7953"
             ],
             [
              0.7777777777777778,
              "#fb9f3a"
             ],
             [
              0.8888888888888888,
              "#fdca26"
             ],
             [
              1,
              "#f0f921"
             ]
            ],
            "type": "histogram2d"
           }
          ],
          "histogram2dcontour": [
           {
            "colorbar": {
             "outlinewidth": 0,
             "ticks": ""
            },
            "colorscale": [
             [
              0,
              "#0d0887"
             ],
             [
              0.1111111111111111,
              "#46039f"
             ],
             [
              0.2222222222222222,
              "#7201a8"
             ],
             [
              0.3333333333333333,
              "#9c179e"
             ],
             [
              0.4444444444444444,
              "#bd3786"
             ],
             [
              0.5555555555555556,
              "#d8576b"
             ],
             [
              0.6666666666666666,
              "#ed7953"
             ],
             [
              0.7777777777777778,
              "#fb9f3a"
             ],
             [
              0.8888888888888888,
              "#fdca26"
             ],
             [
              1,
              "#f0f921"
             ]
            ],
            "type": "histogram2dcontour"
           }
          ],
          "mesh3d": [
           {
            "colorbar": {
             "outlinewidth": 0,
             "ticks": ""
            },
            "type": "mesh3d"
           }
          ],
          "parcoords": [
           {
            "line": {
             "colorbar": {
              "outlinewidth": 0,
              "ticks": ""
             }
            },
            "type": "parcoords"
           }
          ],
          "pie": [
           {
            "automargin": true,
            "type": "pie"
           }
          ],
          "scatter": [
           {
            "fillpattern": {
             "fillmode": "overlay",
             "size": 10,
             "solidity": 0.2
            },
            "type": "scatter"
           }
          ],
          "scatter3d": [
           {
            "line": {
             "colorbar": {
              "outlinewidth": 0,
              "ticks": ""
             }
            },
            "marker": {
             "colorbar": {
              "outlinewidth": 0,
              "ticks": ""
             }
            },
            "type": "scatter3d"
           }
          ],
          "scattercarpet": [
           {
            "marker": {
             "colorbar": {
              "outlinewidth": 0,
              "ticks": ""
             }
            },
            "type": "scattercarpet"
           }
          ],
          "scattergeo": [
           {
            "marker": {
             "colorbar": {
              "outlinewidth": 0,
              "ticks": ""
             }
            },
            "type": "scattergeo"
           }
          ],
          "scattergl": [
           {
            "marker": {
             "colorbar": {
              "outlinewidth": 0,
              "ticks": ""
             }
            },
            "type": "scattergl"
           }
          ],
          "scattermap": [
           {
            "marker": {
             "colorbar": {
              "outlinewidth": 0,
              "ticks": ""
             }
            },
            "type": "scattermap"
           }
          ],
          "scattermapbox": [
           {
            "marker": {
             "colorbar": {
              "outlinewidth": 0,
              "ticks": ""
             }
            },
            "type": "scattermapbox"
           }
          ],
          "scatterpolar": [
           {
            "marker": {
             "colorbar": {
              "outlinewidth": 0,
              "ticks": ""
             }
            },
            "type": "scatterpolar"
           }
          ],
          "scatterpolargl": [
           {
            "marker": {
             "colorbar": {
              "outlinewidth": 0,
              "ticks": ""
             }
            },
            "type": "scatterpolargl"
           }
          ],
          "scatterternary": [
           {
            "marker": {
             "colorbar": {
              "outlinewidth": 0,
              "ticks": ""
             }
            },
            "type": "scatterternary"
           }
          ],
          "surface": [
           {
            "colorbar": {
             "outlinewidth": 0,
             "ticks": ""
            },
            "colorscale": [
             [
              0,
              "#0d0887"
             ],
             [
              0.1111111111111111,
              "#46039f"
             ],
             [
              0.2222222222222222,
              "#7201a8"
             ],
             [
              0.3333333333333333,
              "#9c179e"
             ],
             [
              0.4444444444444444,
              "#bd3786"
             ],
             [
              0.5555555555555556,
              "#d8576b"
             ],
             [
              0.6666666666666666,
              "#ed7953"
             ],
             [
              0.7777777777777778,
              "#fb9f3a"
             ],
             [
              0.8888888888888888,
              "#fdca26"
             ],
             [
              1,
              "#f0f921"
             ]
            ],
            "type": "surface"
           }
          ],
          "table": [
           {
            "cells": {
             "fill": {
              "color": "#EBF0F8"
             },
             "line": {
              "color": "white"
             }
            },
            "header": {
             "fill": {
              "color": "#C8D4E3"
             },
             "line": {
              "color": "white"
             }
            },
            "type": "table"
           }
          ]
         },
         "layout": {
          "annotationdefaults": {
           "arrowcolor": "#2a3f5f",
           "arrowhead": 0,
           "arrowwidth": 1
          },
          "autotypenumbers": "strict",
          "coloraxis": {
           "colorbar": {
            "outlinewidth": 0,
            "ticks": ""
           }
          },
          "colorscale": {
           "diverging": [
            [
             0,
             "#8e0152"
            ],
            [
             0.1,
             "#c51b7d"
            ],
            [
             0.2,
             "#de77ae"
            ],
            [
             0.3,
             "#f1b6da"
            ],
            [
             0.4,
             "#fde0ef"
            ],
            [
             0.5,
             "#f7f7f7"
            ],
            [
             0.6,
             "#e6f5d0"
            ],
            [
             0.7,
             "#b8e186"
            ],
            [
             0.8,
             "#7fbc41"
            ],
            [
             0.9,
             "#4d9221"
            ],
            [
             1,
             "#276419"
            ]
           ],
           "sequential": [
            [
             0,
             "#0d0887"
            ],
            [
             0.1111111111111111,
             "#46039f"
            ],
            [
             0.2222222222222222,
             "#7201a8"
            ],
            [
             0.3333333333333333,
             "#9c179e"
            ],
            [
             0.4444444444444444,
             "#bd3786"
            ],
            [
             0.5555555555555556,
             "#d8576b"
            ],
            [
             0.6666666666666666,
             "#ed7953"
            ],
            [
             0.7777777777777778,
             "#fb9f3a"
            ],
            [
             0.8888888888888888,
             "#fdca26"
            ],
            [
             1,
             "#f0f921"
            ]
           ],
           "sequentialminus": [
            [
             0,
             "#0d0887"
            ],
            [
             0.1111111111111111,
             "#46039f"
            ],
            [
             0.2222222222222222,
             "#7201a8"
            ],
            [
             0.3333333333333333,
             "#9c179e"
            ],
            [
             0.4444444444444444,
             "#bd3786"
            ],
            [
             0.5555555555555556,
             "#d8576b"
            ],
            [
             0.6666666666666666,
             "#ed7953"
            ],
            [
             0.7777777777777778,
             "#fb9f3a"
            ],
            [
             0.8888888888888888,
             "#fdca26"
            ],
            [
             1,
             "#f0f921"
            ]
           ]
          },
          "colorway": [
           "#636efa",
           "#EF553B",
           "#00cc96",
           "#ab63fa",
           "#FFA15A",
           "#19d3f3",
           "#FF6692",
           "#B6E880",
           "#FF97FF",
           "#FECB52"
          ],
          "font": {
           "color": "#2a3f5f"
          },
          "geo": {
           "bgcolor": "white",
           "lakecolor": "white",
           "landcolor": "white",
           "showlakes": true,
           "showland": true,
           "subunitcolor": "#C8D4E3"
          },
          "hoverlabel": {
           "align": "left"
          },
          "hovermode": "closest",
          "mapbox": {
           "style": "light"
          },
          "paper_bgcolor": "white",
          "plot_bgcolor": "white",
          "polar": {
           "angularaxis": {
            "gridcolor": "#EBF0F8",
            "linecolor": "#EBF0F8",
            "ticks": ""
           },
           "bgcolor": "white",
           "radialaxis": {
            "gridcolor": "#EBF0F8",
            "linecolor": "#EBF0F8",
            "ticks": ""
           }
          },
          "scene": {
           "xaxis": {
            "backgroundcolor": "white",
            "gridcolor": "#DFE8F3",
            "gridwidth": 2,
            "linecolor": "#EBF0F8",
            "showbackground": true,
            "ticks": "",
            "zerolinecolor": "#EBF0F8"
           },
           "yaxis": {
            "backgroundcolor": "white",
            "gridcolor": "#DFE8F3",
            "gridwidth": 2,
            "linecolor": "#EBF0F8",
            "showbackground": true,
            "ticks": "",
            "zerolinecolor": "#EBF0F8"
           },
           "zaxis": {
            "backgroundcolor": "white",
            "gridcolor": "#DFE8F3",
            "gridwidth": 2,
            "linecolor": "#EBF0F8",
            "showbackground": true,
            "ticks": "",
            "zerolinecolor": "#EBF0F8"
           }
          },
          "shapedefaults": {
           "line": {
            "color": "#2a3f5f"
           }
          },
          "ternary": {
           "aaxis": {
            "gridcolor": "#DFE8F3",
            "linecolor": "#A2B1C6",
            "ticks": ""
           },
           "baxis": {
            "gridcolor": "#DFE8F3",
            "linecolor": "#A2B1C6",
            "ticks": ""
           },
           "bgcolor": "white",
           "caxis": {
            "gridcolor": "#DFE8F3",
            "linecolor": "#A2B1C6",
            "ticks": ""
           }
          },
          "title": {
           "x": 0.05
          },
          "xaxis": {
           "automargin": true,
           "gridcolor": "#EBF0F8",
           "linecolor": "#EBF0F8",
           "ticks": "",
           "title": {
            "standoff": 15
           },
           "zerolinecolor": "#EBF0F8",
           "zerolinewidth": 2
          },
          "yaxis": {
           "automargin": true,
           "gridcolor": "#EBF0F8",
           "linecolor": "#EBF0F8",
           "ticks": "",
           "title": {
            "standoff": 15
           },
           "zerolinecolor": "#EBF0F8",
           "zerolinewidth": 2
          }
         }
        },
        "title": {
         "text": "Model Score Comparison - Horizontal<br><sup>Judge: gpt-5-mini | 4B - 8B Model Range</sup>",
         "x": 0.5
        },
        "width": 1200,
        "xaxis": {
         "anchor": "y",
         "domain": [
          0,
          0.475
         ],
         "range": [
          0,
          10.5
         ]
        },
        "xaxis2": {
         "anchor": "y2",
         "domain": [
          0.525,
          1
         ],
         "range": [
          0,
          10.5
         ]
        },
        "xaxis3": {
         "anchor": "y3",
         "domain": [
          0,
          0.475
         ],
         "range": [
          0,
          10.5
         ]
        },
        "xaxis4": {
         "anchor": "y4",
         "domain": [
          0.525,
          1
         ],
         "range": [
          0,
          10.5
         ]
        },
        "xaxis5": {
         "anchor": "y5",
         "domain": [
          0,
          0.475
         ],
         "range": [
          0,
          10.5
         ]
        },
        "xaxis6": {
         "anchor": "y6",
         "domain": [
          0.525,
          1
         ],
         "range": [
          0,
          10.5
         ]
        },
        "yaxis": {
         "anchor": "x",
         "autorange": "reversed",
         "domain": [
          0.7333333333333334,
          1
         ],
         "showticklabels": false
        },
        "yaxis2": {
         "anchor": "x2",
         "autorange": "reversed",
         "domain": [
          0.7333333333333334,
          1
         ],
         "showticklabels": false
        },
        "yaxis3": {
         "anchor": "x3",
         "autorange": "reversed",
         "domain": [
          0.3666666666666667,
          0.6333333333333333
         ],
         "showticklabels": false
        },
        "yaxis4": {
         "anchor": "x4",
         "autorange": "reversed",
         "domain": [
          0.3666666666666667,
          0.6333333333333333
         ],
         "showticklabels": false
        },
        "yaxis5": {
         "anchor": "x5",
         "autorange": "reversed",
         "domain": [
          0,
          0.26666666666666666
         ],
         "showticklabels": false
        },
        "yaxis6": {
         "anchor": "x6",
         "autorange": "reversed",
         "domain": [
          0,
          0.26666666666666666
         ],
         "showticklabels": false
        }
       }
      }
     },
     "metadata": {},
     "output_type": "display_data"
    },
    {
     "data": {
      "application/vnd.plotly.v1+json": {
       "config": {
        "plotlyServerURL": "https://plot.ly"
       },
       "data": [
        {
         "marker": {
          "color": "#66c5cc"
         },
         "name": "gpt-4o",
         "orientation": "h",
         "showlegend": true,
         "text": [
          "9.18"
         ],
         "textposition": "outside",
         "type": "bar",
         "x": [
          9.18
         ],
         "xaxis": "x",
         "y": [
          "gpt-4o"
         ],
         "yaxis": "y"
        },
        {
         "marker": {
          "color": "#FF6692"
         },
         "name": "gemini-2.0-flash-lite",
         "orientation": "h",
         "showlegend": true,
         "text": [
          "8.16"
         ],
         "textposition": "outside",
         "type": "bar",
         "x": [
          8.16
         ],
         "xaxis": "x",
         "y": [
          "gemini-2.0-flash-lite"
         ],
         "yaxis": "y"
        },
        {
         "marker": {
          "color": "#AB63FA"
         },
         "name": "gemma-3-12b-it",
         "orientation": "h",
         "showlegend": true,
         "text": [
          "8.28"
         ],
         "textposition": "outside",
         "type": "bar",
         "x": [
          8.28
         ],
         "xaxis": "x",
         "y": [
          "gemma-3-12b-it"
         ],
         "yaxis": "y"
        },
        {
         "marker": {
          "color": "#FF97FF"
         },
         "name": "qwen3-8b",
         "orientation": "h",
         "showlegend": true,
         "text": [
          "7.85"
         ],
         "textposition": "outside",
         "type": "bar",
         "x": [
          7.85
         ],
         "xaxis": "x",
         "y": [
          "qwen3-8b"
         ],
         "yaxis": "y"
        },
        {
         "marker": {
          "color": "#9eb9f3"
         },
         "name": "gemma-3n-e4b-it",
         "orientation": "h",
         "showlegend": true,
         "text": [
          "7.01"
         ],
         "textposition": "outside",
         "type": "bar",
         "x": [
          7.01
         ],
         "xaxis": "x",
         "y": [
          "gemma-3n-e4b-it"
         ],
         "yaxis": "y"
        },
        {
         "marker": {
          "color": "#f89c74"
         },
         "name": "shisa-v2-llama3.1-8b",
         "orientation": "h",
         "showlegend": true,
         "text": [
          "7.54"
         ],
         "textposition": "outside",
         "type": "bar",
         "x": [
          7.54
         ],
         "xaxis": "x",
         "y": [
          "shisa-v2-llama3.1-8b"
         ],
         "yaxis": "y"
        },
        {
         "marker": {
          "color": "#B6E880"
         },
         "name": "shisa-v2-qwen2.5-7b",
         "orientation": "h",
         "showlegend": true,
         "text": [
          "7.61"
         ],
         "textposition": "outside",
         "type": "bar",
         "x": [
          7.61
         ],
         "xaxis": "x",
         "y": [
          "shisa-v2-qwen2.5-7b"
         ],
         "yaxis": "y"
        },
        {
         "marker": {
          "color": "#dcb0f2"
         },
         "name": "aya-expanse-8b-abliterated",
         "orientation": "h",
         "showlegend": true,
         "text": [
          "7.13"
         ],
         "textposition": "outside",
         "type": "bar",
         "x": [
          7.13
         ],
         "xaxis": "x",
         "y": [
          "aya-expanse-8b-abliterated"
         ],
         "yaxis": "y"
        },
        {
         "marker": {
          "color": "#b3b3b3"
         },
         "name": "gemma-3-4b",
         "orientation": "h",
         "showlegend": true,
         "text": [
          "7.07"
         ],
         "textposition": "outside",
         "type": "bar",
         "x": [
          7.07
         ],
         "xaxis": "x",
         "y": [
          "gemma-3-4b"
         ],
         "yaxis": "y"
        },
        {
         "marker": {
          "color": "#EF553B"
         },
         "name": "qwen2.5-7b-instruct",
         "orientation": "h",
         "showlegend": true,
         "text": [
          "7.29"
         ],
         "textposition": "outside",
         "type": "bar",
         "x": [
          7.29
         ],
         "xaxis": "x",
         "y": [
          "qwen2.5-7b-instruct"
         ],
         "yaxis": "y"
        },
        {
         "marker": {
          "color": "#87c55f"
         },
         "name": "deepcogito_cogito-v1-preview-llama-8b",
         "orientation": "h",
         "showlegend": true,
         "text": [
          "6.78"
         ],
         "textposition": "outside",
         "type": "bar",
         "x": [
          6.78
         ],
         "xaxis": "x",
         "y": [
          "deepcogito_cogito-v1-preview-llama-8b"
         ],
         "yaxis": "y"
        },
        {
         "marker": {
          "color": "#FECB52"
         },
         "name": "llama-3.1-8b-instruct",
         "orientation": "h",
         "showlegend": true,
         "text": [
          "7.03"
         ],
         "textposition": "outside",
         "type": "bar",
         "x": [
          7.03
         ],
         "xaxis": "x",
         "y": [
          "llama-3.1-8b-instruct"
         ],
         "yaxis": "y"
        },
        {
         "marker": {
          "color": "#b497e7"
         },
         "name": "granite-3.3-8b-instruct",
         "orientation": "h",
         "showlegend": true,
         "text": [
          "6.41"
         ],
         "textposition": "outside",
         "type": "bar",
         "x": [
          6.41
         ],
         "xaxis": "x",
         "y": [
          "granite-3.3-8b-instruct"
         ],
         "yaxis": "y"
        },
        {
         "marker": {
          "color": "#19D3F3"
         },
         "name": "internvl3_5-8b",
         "orientation": "h",
         "showlegend": true,
         "text": [
          "6.05"
         ],
         "textposition": "outside",
         "type": "bar",
         "x": [
          6.05
         ],
         "xaxis": "x",
         "y": [
          "internvl3_5-8b"
         ],
         "yaxis": "y"
        },
        {
         "marker": {
          "color": "#c9db74"
         },
         "name": "hunyuan-mt-7b",
         "orientation": "h",
         "showlegend": true,
         "text": [
          "5.66"
         ],
         "textposition": "outside",
         "type": "bar",
         "x": [
          5.66
         ],
         "xaxis": "x",
         "y": [
          "hunyuan-mt-7b"
         ],
         "yaxis": "y"
        },
        {
         "marker": {
          "color": "#fe88b1"
         },
         "name": "dolphin3.0-llama3.1-8b",
         "orientation": "h",
         "showlegend": true,
         "text": [
          "5.99"
         ],
         "textposition": "outside",
         "type": "bar",
         "x": [
          5.99
         ],
         "xaxis": "x",
         "y": [
          "dolphin3.0-llama3.1-8b"
         ],
         "yaxis": "y"
        },
        {
         "marker": {
          "color": "#FFA15A"
         },
         "name": "hunyuan-mt-chimera-7b",
         "orientation": "h",
         "showlegend": true,
         "text": [
          "5.12"
         ],
         "textposition": "outside",
         "type": "bar",
         "x": [
          5.12
         ],
         "xaxis": "x",
         "y": [
          "hunyuan-mt-chimera-7b"
         ],
         "yaxis": "y"
        },
        {
         "marker": {
          "color": "#00CC96"
         },
         "name": "internvl3_5-4b",
         "orientation": "h",
         "showlegend": true,
         "text": [
          "5.62"
         ],
         "textposition": "outside",
         "type": "bar",
         "x": [
          5.62
         ],
         "xaxis": "x",
         "y": [
          "internvl3_5-4b"
         ],
         "yaxis": "y"
        },
        {
         "marker": {
          "color": "#f6cf71"
         },
         "name": "aixsatoshi-honyaku-multi-translator-swallow-ms7b",
         "orientation": "h",
         "showlegend": true,
         "text": [
          "3.87"
         ],
         "textposition": "outside",
         "type": "bar",
         "x": [
          3.87
         ],
         "xaxis": "x",
         "y": [
          "aixsatoshi-honyaku-multi-translator-swallow-ms7b"
         ],
         "yaxis": "y"
        },
        {
         "marker": {
          "color": "#66c5cc"
         },
         "name": "gpt-4o",
         "orientation": "h",
         "showlegend": false,
         "text": [
          "8.76"
         ],
         "textposition": "outside",
         "type": "bar",
         "x": [
          8.758333333333333
         ],
         "xaxis": "x2",
         "y": [
          "gpt-4o"
         ],
         "yaxis": "y2"
        },
        {
         "marker": {
          "color": "#FF6692"
         },
         "name": "gemini-2.0-flash-lite",
         "orientation": "h",
         "showlegend": false,
         "text": [
          "8.01"
         ],
         "textposition": "outside",
         "type": "bar",
         "x": [
          8.008333333333333
         ],
         "xaxis": "x2",
         "y": [
          "gemini-2.0-flash-lite"
         ],
         "yaxis": "y2"
        },
        {
         "marker": {
          "color": "#AB63FA"
         },
         "name": "gemma-3-12b-it",
         "orientation": "h",
         "showlegend": false,
         "text": [
          "7.89"
         ],
         "textposition": "outside",
         "type": "bar",
         "x": [
          7.891666666666667
         ],
         "xaxis": "x2",
         "y": [
          "gemma-3-12b-it"
         ],
         "yaxis": "y2"
        },
        {
         "marker": {
          "color": "#FF97FF"
         },
         "name": "qwen3-8b",
         "orientation": "h",
         "showlegend": false,
         "text": [
          "8.04"
         ],
         "textposition": "outside",
         "type": "bar",
         "x": [
          8.041666666666666
         ],
         "xaxis": "x2",
         "y": [
          "qwen3-8b"
         ],
         "yaxis": "y2"
        },
        {
         "marker": {
          "color": "#9eb9f3"
         },
         "name": "gemma-3n-e4b-it",
         "orientation": "h",
         "showlegend": false,
         "text": [
          "7.79"
         ],
         "textposition": "outside",
         "type": "bar",
         "x": [
          7.791666666666667
         ],
         "xaxis": "x2",
         "y": [
          "gemma-3n-e4b-it"
         ],
         "yaxis": "y2"
        },
        {
         "marker": {
          "color": "#f89c74"
         },
         "name": "shisa-v2-llama3.1-8b",
         "orientation": "h",
         "showlegend": false,
         "text": [
          "6.98"
         ],
         "textposition": "outside",
         "type": "bar",
         "x": [
          6.983333333333333
         ],
         "xaxis": "x2",
         "y": [
          "shisa-v2-llama3.1-8b"
         ],
         "yaxis": "y2"
        },
        {
         "marker": {
          "color": "#B6E880"
         },
         "name": "shisa-v2-qwen2.5-7b",
         "orientation": "h",
         "showlegend": false,
         "text": [
          "6.95"
         ],
         "textposition": "outside",
         "type": "bar",
         "x": [
          6.95
         ],
         "xaxis": "x2",
         "y": [
          "shisa-v2-qwen2.5-7b"
         ],
         "yaxis": "y2"
        },
        {
         "marker": {
          "color": "#dcb0f2"
         },
         "name": "aya-expanse-8b-abliterated",
         "orientation": "h",
         "showlegend": false,
         "text": [
          "6.88"
         ],
         "textposition": "outside",
         "type": "bar",
         "x": [
          6.875
         ],
         "xaxis": "x2",
         "y": [
          "aya-expanse-8b-abliterated"
         ],
         "yaxis": "y2"
        },
        {
         "marker": {
          "color": "#b3b3b3"
         },
         "name": "gemma-3-4b",
         "orientation": "h",
         "showlegend": false,
         "text": [
          "6.96"
         ],
         "textposition": "outside",
         "type": "bar",
         "x": [
          6.958333333333333
         ],
         "xaxis": "x2",
         "y": [
          "gemma-3-4b"
         ],
         "yaxis": "y2"
        },
        {
         "marker": {
          "color": "#EF553B"
         },
         "name": "qwen2.5-7b-instruct",
         "orientation": "h",
         "showlegend": false,
         "text": [
          "6.16"
         ],
         "textposition": "outside",
         "type": "bar",
         "x": [
          6.158333333333333
         ],
         "xaxis": "x2",
         "y": [
          "qwen2.5-7b-instruct"
         ],
         "yaxis": "y2"
        },
        {
         "marker": {
          "color": "#87c55f"
         },
         "name": "deepcogito_cogito-v1-preview-llama-8b",
         "orientation": "h",
         "showlegend": false,
         "text": [
          "6.28"
         ],
         "textposition": "outside",
         "type": "bar",
         "x": [
          6.275
         ],
         "xaxis": "x2",
         "y": [
          "deepcogito_cogito-v1-preview-llama-8b"
         ],
         "yaxis": "y2"
        },
        {
         "marker": {
          "color": "#FECB52"
         },
         "name": "llama-3.1-8b-instruct",
         "orientation": "h",
         "showlegend": false,
         "text": [
          "5.15"
         ],
         "textposition": "outside",
         "type": "bar",
         "x": [
          5.15
         ],
         "xaxis": "x2",
         "y": [
          "llama-3.1-8b-instruct"
         ],
         "yaxis": "y2"
        },
        {
         "marker": {
          "color": "#b497e7"
         },
         "name": "granite-3.3-8b-instruct",
         "orientation": "h",
         "showlegend": false,
         "text": [
          "5.96"
         ],
         "textposition": "outside",
         "type": "bar",
         "x": [
          5.958333333333333
         ],
         "xaxis": "x2",
         "y": [
          "granite-3.3-8b-instruct"
         ],
         "yaxis": "y2"
        },
        {
         "marker": {
          "color": "#19D3F3"
         },
         "name": "internvl3_5-8b",
         "orientation": "h",
         "showlegend": false,
         "text": [
          "5.26"
         ],
         "textposition": "outside",
         "type": "bar",
         "x": [
          5.258333333333334
         ],
         "xaxis": "x2",
         "y": [
          "internvl3_5-8b"
         ],
         "yaxis": "y2"
        },
        {
         "marker": {
          "color": "#c9db74"
         },
         "name": "hunyuan-mt-7b",
         "orientation": "h",
         "showlegend": false,
         "text": [
          "4.98"
         ],
         "textposition": "outside",
         "type": "bar",
         "x": [
          4.983333333333333
         ],
         "xaxis": "x2",
         "y": [
          "hunyuan-mt-7b"
         ],
         "yaxis": "y2"
        },
        {
         "marker": {
          "color": "#fe88b1"
         },
         "name": "dolphin3.0-llama3.1-8b",
         "orientation": "h",
         "showlegend": false,
         "text": [
          "5.41"
         ],
         "textposition": "outside",
         "type": "bar",
         "x": [
          5.408333333333333
         ],
         "xaxis": "x2",
         "y": [
          "dolphin3.0-llama3.1-8b"
         ],
         "yaxis": "y2"
        },
        {
         "marker": {
          "color": "#FFA15A"
         },
         "name": "hunyuan-mt-chimera-7b",
         "orientation": "h",
         "showlegend": false,
         "text": [
          "4.67"
         ],
         "textposition": "outside",
         "type": "bar",
         "x": [
          4.675
         ],
         "xaxis": "x2",
         "y": [
          "hunyuan-mt-chimera-7b"
         ],
         "yaxis": "y2"
        },
        {
         "marker": {
          "color": "#00CC96"
         },
         "name": "internvl3_5-4b",
         "orientation": "h",
         "showlegend": false,
         "text": [
          "4.48"
         ],
         "textposition": "outside",
         "type": "bar",
         "x": [
          4.483333333333333
         ],
         "xaxis": "x2",
         "y": [
          "internvl3_5-4b"
         ],
         "yaxis": "y2"
        },
        {
         "marker": {
          "color": "#f6cf71"
         },
         "name": "aixsatoshi-honyaku-multi-translator-swallow-ms7b",
         "orientation": "h",
         "showlegend": false,
         "text": [
          "2.91"
         ],
         "textposition": "outside",
         "type": "bar",
         "x": [
          2.908333333333333
         ],
         "xaxis": "x2",
         "y": [
          "aixsatoshi-honyaku-multi-translator-swallow-ms7b"
         ],
         "yaxis": "y2"
        },
        {
         "marker": {
          "color": "#66c5cc"
         },
         "name": "gpt-4o",
         "orientation": "h",
         "showlegend": false,
         "text": [
          "8.99"
         ],
         "textposition": "outside",
         "type": "bar",
         "x": [
          8.9875
         ],
         "xaxis": "x3",
         "y": [
          "gpt-4o"
         ],
         "yaxis": "y3"
        },
        {
         "marker": {
          "color": "#FF6692"
         },
         "name": "gemini-2.0-flash-lite",
         "orientation": "h",
         "showlegend": false,
         "text": [
          "8.61"
         ],
         "textposition": "outside",
         "type": "bar",
         "x": [
          8.6125
         ],
         "xaxis": "x3",
         "y": [
          "gemini-2.0-flash-lite"
         ],
         "yaxis": "y3"
        },
        {
         "marker": {
          "color": "#AB63FA"
         },
         "name": "gemma-3-12b-it",
         "orientation": "h",
         "showlegend": false,
         "text": [
          "7.60"
         ],
         "textposition": "outside",
         "type": "bar",
         "x": [
          7.6
         ],
         "xaxis": "x3",
         "y": [
          "gemma-3-12b-it"
         ],
         "yaxis": "y3"
        },
        {
         "marker": {
          "color": "#FF97FF"
         },
         "name": "qwen3-8b",
         "orientation": "h",
         "showlegend": false,
         "text": [
          "6.64"
         ],
         "textposition": "outside",
         "type": "bar",
         "x": [
          6.6375
         ],
         "xaxis": "x3",
         "y": [
          "qwen3-8b"
         ],
         "yaxis": "y3"
        },
        {
         "marker": {
          "color": "#9eb9f3"
         },
         "name": "gemma-3n-e4b-it",
         "orientation": "h",
         "showlegend": false,
         "text": [
          "7.54"
         ],
         "textposition": "outside",
         "type": "bar",
         "x": [
          7.544303797468355
         ],
         "xaxis": "x3",
         "y": [
          "gemma-3n-e4b-it"
         ],
         "yaxis": "y3"
        },
        {
         "marker": {
          "color": "#f89c74"
         },
         "name": "shisa-v2-llama3.1-8b",
         "orientation": "h",
         "showlegend": false,
         "text": [
          "7.51"
         ],
         "textposition": "outside",
         "type": "bar",
         "x": [
          7.506329113924051
         ],
         "xaxis": "x3",
         "y": [
          "shisa-v2-llama3.1-8b"
         ],
         "yaxis": "y3"
        },
        {
         "marker": {
          "color": "#B6E880"
         },
         "name": "shisa-v2-qwen2.5-7b",
         "orientation": "h",
         "showlegend": false,
         "text": [
          "6.77"
         ],
         "textposition": "outside",
         "type": "bar",
         "x": [
          6.769230769230769
         ],
         "xaxis": "x3",
         "y": [
          "shisa-v2-qwen2.5-7b"
         ],
         "yaxis": "y3"
        },
        {
         "marker": {
          "color": "#dcb0f2"
         },
         "name": "aya-expanse-8b-abliterated",
         "orientation": "h",
         "showlegend": false,
         "text": [
          "7.21"
         ],
         "textposition": "outside",
         "type": "bar",
         "x": [
          7.2125
         ],
         "xaxis": "x3",
         "y": [
          "aya-expanse-8b-abliterated"
         ],
         "yaxis": "y3"
        },
        {
         "marker": {
          "color": "#b3b3b3"
         },
         "name": "gemma-3-4b",
         "orientation": "h",
         "showlegend": false,
         "text": [
          "6.54"
         ],
         "textposition": "outside",
         "type": "bar",
         "x": [
          6.544303797468355
         ],
         "xaxis": "x3",
         "y": [
          "gemma-3-4b"
         ],
         "yaxis": "y3"
        },
        {
         "marker": {
          "color": "#EF553B"
         },
         "name": "qwen2.5-7b-instruct",
         "orientation": "h",
         "showlegend": false,
         "text": [
          "6.69"
         ],
         "textposition": "outside",
         "type": "bar",
         "x": [
          6.6875
         ],
         "xaxis": "x3",
         "y": [
          "qwen2.5-7b-instruct"
         ],
         "yaxis": "y3"
        },
        {
         "marker": {
          "color": "#87c55f"
         },
         "name": "deepcogito_cogito-v1-preview-llama-8b",
         "orientation": "h",
         "showlegend": false,
         "text": [
          "5.65"
         ],
         "textposition": "outside",
         "type": "bar",
         "x": [
          5.6455696202531644
         ],
         "xaxis": "x3",
         "y": [
          "deepcogito_cogito-v1-preview-llama-8b"
         ],
         "yaxis": "y3"
        },
        {
         "marker": {
          "color": "#FECB52"
         },
         "name": "llama-3.1-8b-instruct",
         "orientation": "h",
         "showlegend": false,
         "text": [
          "5.20"
         ],
         "textposition": "outside",
         "type": "bar",
         "x": [
          5.2025316455696204
         ],
         "xaxis": "x3",
         "y": [
          "llama-3.1-8b-instruct"
         ],
         "yaxis": "y3"
        },
        {
         "marker": {
          "color": "#b497e7"
         },
         "name": "granite-3.3-8b-instruct",
         "orientation": "h",
         "showlegend": false,
         "text": [
          "5.39"
         ],
         "textposition": "outside",
         "type": "bar",
         "x": [
          5.3875
         ],
         "xaxis": "x3",
         "y": [
          "granite-3.3-8b-instruct"
         ],
         "yaxis": "y3"
        },
        {
         "marker": {
          "color": "#19D3F3"
         },
         "name": "internvl3_5-8b",
         "orientation": "h",
         "showlegend": false,
         "text": [
          "4.26"
         ],
         "textposition": "outside",
         "type": "bar",
         "x": [
          4.2625
         ],
         "xaxis": "x3",
         "y": [
          "internvl3_5-8b"
         ],
         "yaxis": "y3"
        },
        {
         "marker": {
          "color": "#c9db74"
         },
         "name": "hunyuan-mt-7b",
         "orientation": "h",
         "showlegend": false,
         "text": [
          "5.22"
         ],
         "textposition": "outside",
         "type": "bar",
         "x": [
          5.220779220779221
         ],
         "xaxis": "x3",
         "y": [
          "hunyuan-mt-7b"
         ],
         "yaxis": "y3"
        },
        {
         "marker": {
          "color": "#fe88b1"
         },
         "name": "dolphin3.0-llama3.1-8b",
         "orientation": "h",
         "showlegend": false,
         "text": [
          "5.05"
         ],
         "textposition": "outside",
         "type": "bar",
         "x": [
          5.050632911392405
         ],
         "xaxis": "x3",
         "y": [
          "dolphin3.0-llama3.1-8b"
         ],
         "yaxis": "y3"
        },
        {
         "marker": {
          "color": "#FFA15A"
         },
         "name": "hunyuan-mt-chimera-7b",
         "orientation": "h",
         "showlegend": false,
         "text": [
          "4.88"
         ],
         "textposition": "outside",
         "type": "bar",
         "x": [
          4.875
         ],
         "xaxis": "x3",
         "y": [
          "hunyuan-mt-chimera-7b"
         ],
         "yaxis": "y3"
        },
        {
         "marker": {
          "color": "#00CC96"
         },
         "name": "internvl3_5-4b",
         "orientation": "h",
         "showlegend": false,
         "text": [
          "3.41"
         ],
         "textposition": "outside",
         "type": "bar",
         "x": [
          3.4050632911392404
         ],
         "xaxis": "x3",
         "y": [
          "internvl3_5-4b"
         ],
         "yaxis": "y3"
        },
        {
         "marker": {
          "color": "#f6cf71"
         },
         "name": "aixsatoshi-honyaku-multi-translator-swallow-ms7b",
         "orientation": "h",
         "showlegend": false,
         "text": [
          "4.20"
         ],
         "textposition": "outside",
         "type": "bar",
         "x": [
          4.2
         ],
         "xaxis": "x3",
         "y": [
          "aixsatoshi-honyaku-multi-translator-swallow-ms7b"
         ],
         "yaxis": "y3"
        },
        {
         "marker": {
          "color": "#66c5cc"
         },
         "name": "gpt-4o",
         "orientation": "h",
         "showlegend": false,
         "text": [
          "8.47"
         ],
         "textposition": "outside",
         "type": "bar",
         "x": [
          8.466666666666667
         ],
         "xaxis": "x4",
         "y": [
          "gpt-4o"
         ],
         "yaxis": "y4"
        },
        {
         "marker": {
          "color": "#FF6692"
         },
         "name": "gemini-2.0-flash-lite",
         "orientation": "h",
         "showlegend": false,
         "text": [
          "7.74"
         ],
         "textposition": "outside",
         "type": "bar",
         "x": [
          7.7375
         ],
         "xaxis": "x4",
         "y": [
          "gemini-2.0-flash-lite"
         ],
         "yaxis": "y4"
        },
        {
         "marker": {
          "color": "#AB63FA"
         },
         "name": "gemma-3-12b-it",
         "orientation": "h",
         "showlegend": false,
         "text": [
          "7.38"
         ],
         "textposition": "outside",
         "type": "bar",
         "x": [
          7.384937238493724
         ],
         "xaxis": "x4",
         "y": [
          "gemma-3-12b-it"
         ],
         "yaxis": "y4"
        },
        {
         "marker": {
          "color": "#FF97FF"
         },
         "name": "qwen3-8b",
         "orientation": "h",
         "showlegend": false,
         "text": [
          "7.75"
         ],
         "textposition": "outside",
         "type": "bar",
         "x": [
          7.745833333333334
         ],
         "xaxis": "x4",
         "y": [
          "qwen3-8b"
         ],
         "yaxis": "y4"
        },
        {
         "marker": {
          "color": "#9eb9f3"
         },
         "name": "gemma-3n-e4b-it",
         "orientation": "h",
         "showlegend": false,
         "text": [
          "6.05"
         ],
         "textposition": "outside",
         "type": "bar",
         "x": [
          6.045833333333333
         ],
         "xaxis": "x4",
         "y": [
          "gemma-3n-e4b-it"
         ],
         "yaxis": "y4"
        },
        {
         "marker": {
          "color": "#f89c74"
         },
         "name": "shisa-v2-llama3.1-8b",
         "orientation": "h",
         "showlegend": false,
         "text": [
          "6.72"
         ],
         "textposition": "outside",
         "type": "bar",
         "x": [
          6.7238493723849375
         ],
         "xaxis": "x4",
         "y": [
          "shisa-v2-llama3.1-8b"
         ],
         "yaxis": "y4"
        },
        {
         "marker": {
          "color": "#B6E880"
         },
         "name": "shisa-v2-qwen2.5-7b",
         "orientation": "h",
         "showlegend": false,
         "text": [
          "7.02"
         ],
         "textposition": "outside",
         "type": "bar",
         "x": [
          7.020833333333333
         ],
         "xaxis": "x4",
         "y": [
          "shisa-v2-qwen2.5-7b"
         ],
         "yaxis": "y4"
        },
        {
         "marker": {
          "color": "#dcb0f2"
         },
         "name": "aya-expanse-8b-abliterated",
         "orientation": "h",
         "showlegend": false,
         "text": [
          "6.60"
         ],
         "textposition": "outside",
         "type": "bar",
         "x": [
          6.604166666666667
         ],
         "xaxis": "x4",
         "y": [
          "aya-expanse-8b-abliterated"
         ],
         "yaxis": "y4"
        },
        {
         "marker": {
          "color": "#b3b3b3"
         },
         "name": "gemma-3-4b",
         "orientation": "h",
         "showlegend": false,
         "text": [
          "6.31"
         ],
         "textposition": "outside",
         "type": "bar",
         "x": [
          6.305439330543933
         ],
         "xaxis": "x4",
         "y": [
          "gemma-3-4b"
         ],
         "yaxis": "y4"
        },
        {
         "marker": {
          "color": "#EF553B"
         },
         "name": "qwen2.5-7b-instruct",
         "orientation": "h",
         "showlegend": false,
         "text": [
          "6.89"
         ],
         "textposition": "outside",
         "type": "bar",
         "x": [
          6.891213389121339
         ],
         "xaxis": "x4",
         "y": [
          "qwen2.5-7b-instruct"
         ],
         "yaxis": "y4"
        },
        {
         "marker": {
          "color": "#87c55f"
         },
         "name": "deepcogito_cogito-v1-preview-llama-8b",
         "orientation": "h",
         "showlegend": false,
         "text": [
          "6.50"
         ],
         "textposition": "outside",
         "type": "bar",
         "x": [
          6.504166666666666
         ],
         "xaxis": "x4",
         "y": [
          "deepcogito_cogito-v1-preview-llama-8b"
         ],
         "yaxis": "y4"
        },
        {
         "marker": {
          "color": "#FECB52"
         },
         "name": "llama-3.1-8b-instruct",
         "orientation": "h",
         "showlegend": false,
         "text": [
          "6.28"
         ],
         "textposition": "outside",
         "type": "bar",
         "x": [
          6.283333333333333
         ],
         "xaxis": "x4",
         "y": [
          "llama-3.1-8b-instruct"
         ],
         "yaxis": "y4"
        },
        {
         "marker": {
          "color": "#b497e7"
         },
         "name": "granite-3.3-8b-instruct",
         "orientation": "h",
         "showlegend": false,
         "text": [
          "6.05"
         ],
         "textposition": "outside",
         "type": "bar",
         "x": [
          6.046025104602511
         ],
         "xaxis": "x4",
         "y": [
          "granite-3.3-8b-instruct"
         ],
         "yaxis": "y4"
        },
        {
         "marker": {
          "color": "#19D3F3"
         },
         "name": "internvl3_5-8b",
         "orientation": "h",
         "showlegend": false,
         "text": [
          "6.15"
         ],
         "textposition": "outside",
         "type": "bar",
         "x": [
          6.150627615062762
         ],
         "xaxis": "x4",
         "y": [
          "internvl3_5-8b"
         ],
         "yaxis": "y4"
        },
        {
         "marker": {
          "color": "#c9db74"
         },
         "name": "hunyuan-mt-7b",
         "orientation": "h",
         "showlegend": false,
         "text": [
          "5.24"
         ],
         "textposition": "outside",
         "type": "bar",
         "x": [
          5.2375
         ],
         "xaxis": "x4",
         "y": [
          "hunyuan-mt-7b"
         ],
         "yaxis": "y4"
        },
        {
         "marker": {
          "color": "#fe88b1"
         },
         "name": "dolphin3.0-llama3.1-8b",
         "orientation": "h",
         "showlegend": false,
         "text": [
          "5.54"
         ],
         "textposition": "outside",
         "type": "bar",
         "x": [
          5.541666666666667
         ],
         "xaxis": "x4",
         "y": [
          "dolphin3.0-llama3.1-8b"
         ],
         "yaxis": "y4"
        },
        {
         "marker": {
          "color": "#FFA15A"
         },
         "name": "hunyuan-mt-chimera-7b",
         "orientation": "h",
         "showlegend": false,
         "text": [
          "4.83"
         ],
         "textposition": "outside",
         "type": "bar",
         "x": [
          4.829166666666667
         ],
         "xaxis": "x4",
         "y": [
          "hunyuan-mt-chimera-7b"
         ],
         "yaxis": "y4"
        },
        {
         "marker": {
          "color": "#00CC96"
         },
         "name": "internvl3_5-4b",
         "orientation": "h",
         "showlegend": false,
         "text": [
          "5.33"
         ],
         "textposition": "outside",
         "type": "bar",
         "x": [
          5.325
         ],
         "xaxis": "x4",
         "y": [
          "internvl3_5-4b"
         ],
         "yaxis": "y4"
        },
        {
         "marker": {
          "color": "#f6cf71"
         },
         "name": "aixsatoshi-honyaku-multi-translator-swallow-ms7b",
         "orientation": "h",
         "showlegend": false,
         "text": [
          "2.82"
         ],
         "textposition": "outside",
         "type": "bar",
         "x": [
          2.816666666666667
         ],
         "xaxis": "x4",
         "y": [
          "aixsatoshi-honyaku-multi-translator-swallow-ms7b"
         ],
         "yaxis": "y4"
        },
        {
         "marker": {
          "color": "#66c5cc"
         },
         "name": "gpt-4o",
         "orientation": "h",
         "showlegend": false,
         "text": [
          "8.29"
         ],
         "textposition": "outside",
         "type": "bar",
         "x": [
          8.290833333333333
         ],
         "xaxis": "x5",
         "y": [
          "gpt-4o"
         ],
         "yaxis": "y5"
        },
        {
         "marker": {
          "color": "#FF6692"
         },
         "name": "gemini-2.0-flash-lite",
         "orientation": "h",
         "showlegend": false,
         "text": [
          "7.53"
         ],
         "textposition": "outside",
         "type": "bar",
         "x": [
          7.52625
         ],
         "xaxis": "x5",
         "y": [
          "gemini-2.0-flash-lite"
         ],
         "yaxis": "y5"
        },
        {
         "marker": {
          "color": "#AB63FA"
         },
         "name": "gemma-3-12b-it",
         "orientation": "h",
         "showlegend": false,
         "text": [
          "7.22"
         ],
         "textposition": "outside",
         "type": "bar",
         "x": [
          7.2179166666666665
         ],
         "xaxis": "x5",
         "y": [
          "gemma-3-12b-it"
         ],
         "yaxis": "y5"
        },
        {
         "marker": {
          "color": "#FF97FF"
         },
         "name": "qwen3-8b",
         "orientation": "h",
         "showlegend": false,
         "text": [
          "6.39"
         ],
         "textposition": "outside",
         "type": "bar",
         "x": [
          6.394166666666666
         ],
         "xaxis": "x5",
         "y": [
          "qwen3-8b"
         ],
         "yaxis": "y5"
        },
        {
         "marker": {
          "color": "#9eb9f3"
         },
         "name": "gemma-3n-e4b-it",
         "orientation": "h",
         "showlegend": false,
         "text": [
          "7.47"
         ],
         "textposition": "outside",
         "type": "bar",
         "x": [
          7.470416666666666
         ],
         "xaxis": "x5",
         "y": [
          "gemma-3n-e4b-it"
         ],
         "yaxis": "y5"
        },
        {
         "marker": {
          "color": "#f89c74"
         },
         "name": "shisa-v2-llama3.1-8b",
         "orientation": "h",
         "showlegend": false,
         "text": [
          "6.88"
         ],
         "textposition": "outside",
         "type": "bar",
         "x": [
          6.8825
         ],
         "xaxis": "x5",
         "y": [
          "shisa-v2-llama3.1-8b"
         ],
         "yaxis": "y5"
        },
        {
         "marker": {
          "color": "#B6E880"
         },
         "name": "shisa-v2-qwen2.5-7b",
         "orientation": "h",
         "showlegend": false,
         "text": [
          "6.66"
         ],
         "textposition": "outside",
         "type": "bar",
         "x": [
          6.664583333333334
         ],
         "xaxis": "x5",
         "y": [
          "shisa-v2-qwen2.5-7b"
         ],
         "yaxis": "y5"
        },
        {
         "marker": {
          "color": "#dcb0f2"
         },
         "name": "aya-expanse-8b-abliterated",
         "orientation": "h",
         "showlegend": false,
         "text": [
          "6.47"
         ],
         "textposition": "outside",
         "type": "bar",
         "x": [
          6.465416666666666
         ],
         "xaxis": "x5",
         "y": [
          "aya-expanse-8b-abliterated"
         ],
         "yaxis": "y5"
        },
        {
         "marker": {
          "color": "#b3b3b3"
         },
         "name": "gemma-3-4b",
         "orientation": "h",
         "showlegend": false,
         "text": [
          "6.54"
         ],
         "textposition": "outside",
         "type": "bar",
         "x": [
          6.54375
         ],
         "xaxis": "x5",
         "y": [
          "gemma-3-4b"
         ],
         "yaxis": "y5"
        },
        {
         "marker": {
          "color": "#EF553B"
         },
         "name": "qwen2.5-7b-instruct",
         "orientation": "h",
         "showlegend": false,
         "text": [
          "6.28"
         ],
         "textposition": "outside",
         "type": "bar",
         "x": [
          6.276666666666666
         ],
         "xaxis": "x5",
         "y": [
          "qwen2.5-7b-instruct"
         ],
         "yaxis": "y5"
        },
        {
         "marker": {
          "color": "#87c55f"
         },
         "name": "deepcogito_cogito-v1-preview-llama-8b",
         "orientation": "h",
         "showlegend": false,
         "text": [
          "6.36"
         ],
         "textposition": "outside",
         "type": "bar",
         "x": [
          6.3566666666666665
         ],
         "xaxis": "x5",
         "y": [
          "deepcogito_cogito-v1-preview-llama-8b"
         ],
         "yaxis": "y5"
        },
        {
         "marker": {
          "color": "#FECB52"
         },
         "name": "llama-3.1-8b-instruct",
         "orientation": "h",
         "showlegend": false,
         "text": [
          "6.07"
         ],
         "textposition": "outside",
         "type": "bar",
         "x": [
          6.066666666666666
         ],
         "xaxis": "x5",
         "y": [
          "llama-3.1-8b-instruct"
         ],
         "yaxis": "y5"
        },
        {
         "marker": {
          "color": "#b497e7"
         },
         "name": "granite-3.3-8b-instruct",
         "orientation": "h",
         "showlegend": false,
         "text": [
          "6.01"
         ],
         "textposition": "outside",
         "type": "bar",
         "x": [
          6.010833333333334
         ],
         "xaxis": "x5",
         "y": [
          "granite-3.3-8b-instruct"
         ],
         "yaxis": "y5"
        },
        {
         "marker": {
          "color": "#19D3F3"
         },
         "name": "internvl3_5-8b",
         "orientation": "h",
         "showlegend": false,
         "text": [
          "6.36"
         ],
         "textposition": "outside",
         "type": "bar",
         "x": [
          6.355416666666667
         ],
         "xaxis": "x5",
         "y": [
          "internvl3_5-8b"
         ],
         "yaxis": "y5"
        },
        {
         "marker": {
          "color": "#c9db74"
         },
         "name": "hunyuan-mt-7b",
         "orientation": "h",
         "showlegend": false,
         "text": [
          "6.41"
         ],
         "textposition": "outside",
         "type": "bar",
         "x": [
          6.408333333333334
         ],
         "xaxis": "x5",
         "y": [
          "hunyuan-mt-7b"
         ],
         "yaxis": "y5"
        },
        {
         "marker": {
          "color": "#fe88b1"
         },
         "name": "dolphin3.0-llama3.1-8b",
         "orientation": "h",
         "showlegend": false,
         "text": [
          "5.96"
         ],
         "textposition": "outside",
         "type": "bar",
         "x": [
          5.96
         ],
         "xaxis": "x5",
         "y": [
          "dolphin3.0-llama3.1-8b"
         ],
         "yaxis": "y5"
        },
        {
         "marker": {
          "color": "#FFA15A"
         },
         "name": "hunyuan-mt-chimera-7b",
         "orientation": "h",
         "showlegend": false,
         "text": [
          "6.57"
         ],
         "textposition": "outside",
         "type": "bar",
         "x": [
          6.57375
         ],
         "xaxis": "x5",
         "y": [
          "hunyuan-mt-chimera-7b"
         ],
         "yaxis": "y5"
        },
        {
         "marker": {
          "color": "#00CC96"
         },
         "name": "internvl3_5-4b",
         "orientation": "h",
         "showlegend": false,
         "text": [
          "5.58"
         ],
         "textposition": "outside",
         "type": "bar",
         "x": [
          5.583333333333334
         ],
         "xaxis": "x5",
         "y": [
          "internvl3_5-4b"
         ],
         "yaxis": "y5"
        },
        {
         "marker": {
          "color": "#f6cf71"
         },
         "name": "aixsatoshi-honyaku-multi-translator-swallow-ms7b",
         "orientation": "h",
         "showlegend": false,
         "text": [
          "3.89"
         ],
         "textposition": "outside",
         "type": "bar",
         "x": [
          3.88875
         ],
         "xaxis": "x5",
         "y": [
          "aixsatoshi-honyaku-multi-translator-swallow-ms7b"
         ],
         "yaxis": "y5"
        },
        {
         "marker": {
          "color": "#66c5cc"
         },
         "name": "gpt-4o",
         "orientation": "h",
         "showlegend": false,
         "text": [
          "8.74"
         ],
         "textposition": "outside",
         "type": "bar",
         "x": [
          8.736666666666668
         ],
         "xaxis": "x6",
         "y": [
          "gpt-4o"
         ],
         "yaxis": "y6"
        },
        {
         "marker": {
          "color": "#FF6692"
         },
         "name": "gemini-2.0-flash-lite",
         "orientation": "h",
         "showlegend": false,
         "text": [
          "8.01"
         ],
         "textposition": "outside",
         "type": "bar",
         "x": [
          8.008916666666668
         ],
         "xaxis": "x6",
         "y": [
          "gemini-2.0-flash-lite"
         ],
         "yaxis": "y6"
        },
        {
         "marker": {
          "color": "#AB63FA"
         },
         "name": "gemma-3-12b-it",
         "orientation": "h",
         "showlegend": false,
         "text": [
          "7.67"
         ],
         "textposition": "outside",
         "type": "bar",
         "x": [
          7.674904114365411
         ],
         "xaxis": "x6",
         "y": [
          "gemma-3-12b-it"
         ],
         "yaxis": "y6"
        },
        {
         "marker": {
          "color": "#FF97FF"
         },
         "name": "qwen3-8b",
         "orientation": "h",
         "showlegend": false,
         "text": [
          "7.33"
         ],
         "textposition": "outside",
         "type": "bar",
         "x": [
          7.333833333333334
         ],
         "xaxis": "x6",
         "y": [
          "qwen3-8b"
         ],
         "yaxis": "y6"
        },
        {
         "marker": {
          "color": "#9eb9f3"
         },
         "name": "gemma-3n-e4b-it",
         "orientation": "h",
         "showlegend": false,
         "text": [
          "7.17"
         ],
         "textposition": "outside",
         "type": "bar",
         "x": [
          7.172444092827004
         ],
         "xaxis": "x6",
         "y": [
          "gemma-3n-e4b-it"
         ],
         "yaxis": "y6"
        },
        {
         "marker": {
          "color": "#f89c74"
         },
         "name": "shisa-v2-llama3.1-8b",
         "orientation": "h",
         "showlegend": false,
         "text": [
          "7.13"
         ],
         "textposition": "outside",
         "type": "bar",
         "x": [
          7.127202363928464
         ],
         "xaxis": "x6",
         "y": [
          "shisa-v2-llama3.1-8b"
         ],
         "yaxis": "y6"
        },
        {
         "marker": {
          "color": "#B6E880"
         },
         "name": "shisa-v2-qwen2.5-7b",
         "orientation": "h",
         "showlegend": false,
         "text": [
          "7.00"
         ],
         "textposition": "outside",
         "type": "bar",
         "x": [
          7.002929487179488
         ],
         "xaxis": "x6",
         "y": [
          "shisa-v2-qwen2.5-7b"
         ],
         "yaxis": "y6"
        },
        {
         "marker": {
          "color": "#dcb0f2"
         },
         "name": "aya-expanse-8b-abliterated",
         "orientation": "h",
         "showlegend": false,
         "text": [
          "6.86"
         ],
         "textposition": "outside",
         "type": "bar",
         "x": [
          6.857416666666667
         ],
         "xaxis": "x6",
         "y": [
          "aya-expanse-8b-abliterated"
         ],
         "yaxis": "y6"
        },
        {
         "marker": {
          "color": "#b3b3b3"
         },
         "name": "gemma-3-4b",
         "orientation": "h",
         "showlegend": false,
         "text": [
          "6.68"
         ],
         "textposition": "outside",
         "type": "bar",
         "x": [
          6.684365292269125
         ],
         "xaxis": "x6",
         "y": [
          "gemma-3-4b"
         ],
         "yaxis": "y6"
        },
        {
         "marker": {
          "color": "#EF553B"
         },
         "name": "qwen2.5-7b-instruct",
         "orientation": "h",
         "showlegend": false,
         "text": [
          "6.66"
         ],
         "textposition": "outside",
         "type": "bar",
         "x": [
          6.660742677824269
         ],
         "xaxis": "x6",
         "y": [
          "qwen2.5-7b-instruct"
         ],
         "yaxis": "y6"
        },
        {
         "marker": {
          "color": "#87c55f"
         },
         "name": "deepcogito_cogito-v1-preview-llama-8b",
         "orientation": "h",
         "showlegend": false,
         "text": [
          "6.31"
         ],
         "textposition": "outside",
         "type": "bar",
         "x": [
          6.312280590717299
         ],
         "xaxis": "x6",
         "y": [
          "deepcogito_cogito-v1-preview-llama-8b"
         ],
         "yaxis": "y6"
        },
        {
         "marker": {
          "color": "#FECB52"
         },
         "name": "llama-3.1-8b-instruct",
         "orientation": "h",
         "showlegend": false,
         "text": [
          "5.95"
         ],
         "textposition": "outside",
         "type": "bar",
         "x": [
          5.946506329113925
         ],
         "xaxis": "x6",
         "y": [
          "llama-3.1-8b-instruct"
         ],
         "yaxis": "y6"
        },
        {
         "marker": {
          "color": "#b497e7"
         },
         "name": "granite-3.3-8b-instruct",
         "orientation": "h",
         "showlegend": false,
         "text": [
          "5.96"
         ],
         "textposition": "outside",
         "type": "bar",
         "x": [
          5.9625383542538355
         ],
         "xaxis": "x6",
         "y": [
          "granite-3.3-8b-instruct"
         ],
         "yaxis": "y6"
        },
        {
         "marker": {
          "color": "#19D3F3"
         },
         "name": "internvl3_5-8b",
         "orientation": "h",
         "showlegend": false,
         "text": [
          "5.62"
         ],
         "textposition": "outside",
         "type": "bar",
         "x": [
          5.615375523012553
         ],
         "xaxis": "x6",
         "y": [
          "internvl3_5-8b"
         ],
         "yaxis": "y6"
        },
        {
         "marker": {
          "color": "#c9db74"
         },
         "name": "hunyuan-mt-7b",
         "orientation": "h",
         "showlegend": false,
         "text": [
          "5.50"
         ],
         "textposition": "outside",
         "type": "bar",
         "x": [
          5.501989177489177
         ],
         "xaxis": "x6",
         "y": [
          "hunyuan-mt-7b"
         ],
         "yaxis": "y6"
        },
        {
         "marker": {
          "color": "#fe88b1"
         },
         "name": "dolphin3.0-llama3.1-8b",
         "orientation": "h",
         "showlegend": false,
         "text": [
          "5.59"
         ],
         "textposition": "outside",
         "type": "bar",
         "x": [
          5.590126582278481
         ],
         "xaxis": "x6",
         "y": [
          "dolphin3.0-llama3.1-8b"
         ],
         "yaxis": "y6"
        },
        {
         "marker": {
          "color": "#FFA15A"
         },
         "name": "hunyuan-mt-chimera-7b",
         "orientation": "h",
         "showlegend": false,
         "text": [
          "5.21"
         ],
         "textposition": "outside",
         "type": "bar",
         "x": [
          5.214583333333334
         ],
         "xaxis": "x6",
         "y": [
          "hunyuan-mt-chimera-7b"
         ],
         "yaxis": "y6"
        },
        {
         "marker": {
          "color": "#00CC96"
         },
         "name": "internvl3_5-4b",
         "orientation": "h",
         "showlegend": false,
         "text": [
          "4.88"
         ],
         "textposition": "outside",
         "type": "bar",
         "x": [
          4.883345991561181
         ],
         "xaxis": "x6",
         "y": [
          "internvl3_5-4b"
         ],
         "yaxis": "y6"
        },
        {
         "marker": {
          "color": "#f6cf71"
         },
         "name": "aixsatoshi-honyaku-multi-translator-swallow-ms7b",
         "orientation": "h",
         "showlegend": false,
         "text": [
          "3.54"
         ],
         "textposition": "outside",
         "type": "bar",
         "x": [
          3.53675
         ],
         "xaxis": "x6",
         "y": [
          "aixsatoshi-honyaku-multi-translator-swallow-ms7b"
         ],
         "yaxis": "y6"
        }
       ],
       "layout": {
        "annotations": [
         {
          "font": {
           "size": 16
          },
          "showarrow": false,
          "text": "ELYZA-Tasks-100",
          "x": 0.2375,
          "xanchor": "center",
          "xref": "paper",
          "y": 1,
          "yanchor": "bottom",
          "yref": "paper"
         },
         {
          "font": {
           "size": 16
          },
          "showarrow": false,
          "text": "MT-Bench-60",
          "x": 0.7625,
          "xanchor": "center",
          "xref": "paper",
          "y": 1,
          "yanchor": "bottom",
          "yref": "paper"
         },
         {
          "font": {
           "size": 16
          },
          "showarrow": false,
          "text": "Rakuda-40",
          "x": 0.2375,
          "xanchor": "center",
          "xref": "paper",
          "y": 0.6333333333333333,
          "yanchor": "bottom",
          "yref": "paper"
         },
         {
          "font": {
           "size": 16
          },
          "showarrow": false,
          "text": "Tengu-Bench-120",
          "x": 0.7625,
          "xanchor": "center",
          "xref": "paper",
          "y": 0.6333333333333333,
          "yanchor": "bottom",
          "yref": "paper"
         },
         {
          "font": {
           "size": 16
          },
          "showarrow": false,
          "text": "VNTL-Translation-200",
          "x": 0.2375,
          "xanchor": "center",
          "xref": "paper",
          "y": 0.26666666666666666,
          "yanchor": "bottom",
          "yref": "paper"
         },
         {
          "font": {
           "size": 16
          },
          "showarrow": false,
          "text": "Average",
          "x": 0.7625,
          "xanchor": "center",
          "xref": "paper",
          "y": 0.26666666666666666,
          "yanchor": "bottom",
          "yref": "paper"
         }
        ],
        "bargap": 0.01,
        "bargroupgap": 0.01,
        "height": 1000,
        "legend": {
         "title": {
          "text": "Model"
         }
        },
        "template": {
         "data": {
          "bar": [
           {
            "error_x": {
             "color": "#2a3f5f"
            },
            "error_y": {
             "color": "#2a3f5f"
            },
            "marker": {
             "line": {
              "color": "white",
              "width": 0.5
             },
             "pattern": {
              "fillmode": "overlay",
              "size": 10,
              "solidity": 0.2
             }
            },
            "type": "bar"
           }
          ],
          "barpolar": [
           {
            "marker": {
             "line": {
              "color": "white",
              "width": 0.5
             },
             "pattern": {
              "fillmode": "overlay",
              "size": 10,
              "solidity": 0.2
             }
            },
            "type": "barpolar"
           }
          ],
          "carpet": [
           {
            "aaxis": {
             "endlinecolor": "#2a3f5f",
             "gridcolor": "#C8D4E3",
             "linecolor": "#C8D4E3",
             "minorgridcolor": "#C8D4E3",
             "startlinecolor": "#2a3f5f"
            },
            "baxis": {
             "endlinecolor": "#2a3f5f",
             "gridcolor": "#C8D4E3",
             "linecolor": "#C8D4E3",
             "minorgridcolor": "#C8D4E3",
             "startlinecolor": "#2a3f5f"
            },
            "type": "carpet"
           }
          ],
          "choropleth": [
           {
            "colorbar": {
             "outlinewidth": 0,
             "ticks": ""
            },
            "type": "choropleth"
           }
          ],
          "contour": [
           {
            "colorbar": {
             "outlinewidth": 0,
             "ticks": ""
            },
            "colorscale": [
             [
              0,
              "#0d0887"
             ],
             [
              0.1111111111111111,
              "#46039f"
             ],
             [
              0.2222222222222222,
              "#7201a8"
             ],
             [
              0.3333333333333333,
              "#9c179e"
             ],
             [
              0.4444444444444444,
              "#bd3786"
             ],
             [
              0.5555555555555556,
              "#d8576b"
             ],
             [
              0.6666666666666666,
              "#ed7953"
             ],
             [
              0.7777777777777778,
              "#fb9f3a"
             ],
             [
              0.8888888888888888,
              "#fdca26"
             ],
             [
              1,
              "#f0f921"
             ]
            ],
            "type": "contour"
           }
          ],
          "contourcarpet": [
           {
            "colorbar": {
             "outlinewidth": 0,
             "ticks": ""
            },
            "type": "contourcarpet"
           }
          ],
          "heatmap": [
           {
            "colorbar": {
             "outlinewidth": 0,
             "ticks": ""
            },
            "colorscale": [
             [
              0,
              "#0d0887"
             ],
             [
              0.1111111111111111,
              "#46039f"
             ],
             [
              0.2222222222222222,
              "#7201a8"
             ],
             [
              0.3333333333333333,
              "#9c179e"
             ],
             [
              0.4444444444444444,
              "#bd3786"
             ],
             [
              0.5555555555555556,
              "#d8576b"
             ],
             [
              0.6666666666666666,
              "#ed7953"
             ],
             [
              0.7777777777777778,
              "#fb9f3a"
             ],
             [
              0.8888888888888888,
              "#fdca26"
             ],
             [
              1,
              "#f0f921"
             ]
            ],
            "type": "heatmap"
           }
          ],
          "histogram": [
           {
            "marker": {
             "pattern": {
              "fillmode": "overlay",
              "size": 10,
              "solidity": 0.2
             }
            },
            "type": "histogram"
           }
          ],
          "histogram2d": [
           {
            "colorbar": {
             "outlinewidth": 0,
             "ticks": ""
            },
            "colorscale": [
             [
              0,
              "#0d0887"
             ],
             [
              0.1111111111111111,
              "#46039f"
             ],
             [
              0.2222222222222222,
              "#7201a8"
             ],
             [
              0.3333333333333333,
              "#9c179e"
             ],
             [
              0.4444444444444444,
              "#bd3786"
             ],
             [
              0.5555555555555556,
              "#d8576b"
             ],
             [
              0.6666666666666666,
              "#ed7953"
             ],
             [
              0.7777777777777778,
              "#fb9f3a"
             ],
             [
              0.8888888888888888,
              "#fdca26"
             ],
             [
              1,
              "#f0f921"
             ]
            ],
            "type": "histogram2d"
           }
          ],
          "histogram2dcontour": [
           {
            "colorbar": {
             "outlinewidth": 0,
             "ticks": ""
            },
            "colorscale": [
             [
              0,
              "#0d0887"
             ],
             [
              0.1111111111111111,
              "#46039f"
             ],
             [
              0.2222222222222222,
              "#7201a8"
             ],
             [
              0.3333333333333333,
              "#9c179e"
             ],
             [
              0.4444444444444444,
              "#bd3786"
             ],
             [
              0.5555555555555556,
              "#d8576b"
             ],
             [
              0.6666666666666666,
              "#ed7953"
             ],
             [
              0.7777777777777778,
              "#fb9f3a"
             ],
             [
              0.8888888888888888,
              "#fdca26"
             ],
             [
              1,
              "#f0f921"
             ]
            ],
            "type": "histogram2dcontour"
           }
          ],
          "mesh3d": [
           {
            "colorbar": {
             "outlinewidth": 0,
             "ticks": ""
            },
            "type": "mesh3d"
           }
          ],
          "parcoords": [
           {
            "line": {
             "colorbar": {
              "outlinewidth": 0,
              "ticks": ""
             }
            },
            "type": "parcoords"
           }
          ],
          "pie": [
           {
            "automargin": true,
            "type": "pie"
           }
          ],
          "scatter": [
           {
            "fillpattern": {
             "fillmode": "overlay",
             "size": 10,
             "solidity": 0.2
            },
            "type": "scatter"
           }
          ],
          "scatter3d": [
           {
            "line": {
             "colorbar": {
              "outlinewidth": 0,
              "ticks": ""
             }
            },
            "marker": {
             "colorbar": {
              "outlinewidth": 0,
              "ticks": ""
             }
            },
            "type": "scatter3d"
           }
          ],
          "scattercarpet": [
           {
            "marker": {
             "colorbar": {
              "outlinewidth": 0,
              "ticks": ""
             }
            },
            "type": "scattercarpet"
           }
          ],
          "scattergeo": [
           {
            "marker": {
             "colorbar": {
              "outlinewidth": 0,
              "ticks": ""
             }
            },
            "type": "scattergeo"
           }
          ],
          "scattergl": [
           {
            "marker": {
             "colorbar": {
              "outlinewidth": 0,
              "ticks": ""
             }
            },
            "type": "scattergl"
           }
          ],
          "scattermap": [
           {
            "marker": {
             "colorbar": {
              "outlinewidth": 0,
              "ticks": ""
             }
            },
            "type": "scattermap"
           }
          ],
          "scattermapbox": [
           {
            "marker": {
             "colorbar": {
              "outlinewidth": 0,
              "ticks": ""
             }
            },
            "type": "scattermapbox"
           }
          ],
          "scatterpolar": [
           {
            "marker": {
             "colorbar": {
              "outlinewidth": 0,
              "ticks": ""
             }
            },
            "type": "scatterpolar"
           }
          ],
          "scatterpolargl": [
           {
            "marker": {
             "colorbar": {
              "outlinewidth": 0,
              "ticks": ""
             }
            },
            "type": "scatterpolargl"
           }
          ],
          "scatterternary": [
           {
            "marker": {
             "colorbar": {
              "outlinewidth": 0,
              "ticks": ""
             }
            },
            "type": "scatterternary"
           }
          ],
          "surface": [
           {
            "colorbar": {
             "outlinewidth": 0,
             "ticks": ""
            },
            "colorscale": [
             [
              0,
              "#0d0887"
             ],
             [
              0.1111111111111111,
              "#46039f"
             ],
             [
              0.2222222222222222,
              "#7201a8"
             ],
             [
              0.3333333333333333,
              "#9c179e"
             ],
             [
              0.4444444444444444,
              "#bd3786"
             ],
             [
              0.5555555555555556,
              "#d8576b"
             ],
             [
              0.6666666666666666,
              "#ed7953"
             ],
             [
              0.7777777777777778,
              "#fb9f3a"
             ],
             [
              0.8888888888888888,
              "#fdca26"
             ],
             [
              1,
              "#f0f921"
             ]
            ],
            "type": "surface"
           }
          ],
          "table": [
           {
            "cells": {
             "fill": {
              "color": "#EBF0F8"
             },
             "line": {
              "color": "white"
             }
            },
            "header": {
             "fill": {
              "color": "#C8D4E3"
             },
             "line": {
              "color": "white"
             }
            },
            "type": "table"
           }
          ]
         },
         "layout": {
          "annotationdefaults": {
           "arrowcolor": "#2a3f5f",
           "arrowhead": 0,
           "arrowwidth": 1
          },
          "autotypenumbers": "strict",
          "coloraxis": {
           "colorbar": {
            "outlinewidth": 0,
            "ticks": ""
           }
          },
          "colorscale": {
           "diverging": [
            [
             0,
             "#8e0152"
            ],
            [
             0.1,
             "#c51b7d"
            ],
            [
             0.2,
             "#de77ae"
            ],
            [
             0.3,
             "#f1b6da"
            ],
            [
             0.4,
             "#fde0ef"
            ],
            [
             0.5,
             "#f7f7f7"
            ],
            [
             0.6,
             "#e6f5d0"
            ],
            [
             0.7,
             "#b8e186"
            ],
            [
             0.8,
             "#7fbc41"
            ],
            [
             0.9,
             "#4d9221"
            ],
            [
             1,
             "#276419"
            ]
           ],
           "sequential": [
            [
             0,
             "#0d0887"
            ],
            [
             0.1111111111111111,
             "#46039f"
            ],
            [
             0.2222222222222222,
             "#7201a8"
            ],
            [
             0.3333333333333333,
             "#9c179e"
            ],
            [
             0.4444444444444444,
             "#bd3786"
            ],
            [
             0.5555555555555556,
             "#d8576b"
            ],
            [
             0.6666666666666666,
             "#ed7953"
            ],
            [
             0.7777777777777778,
             "#fb9f3a"
            ],
            [
             0.8888888888888888,
             "#fdca26"
            ],
            [
             1,
             "#f0f921"
            ]
           ],
           "sequentialminus": [
            [
             0,
             "#0d0887"
            ],
            [
             0.1111111111111111,
             "#46039f"
            ],
            [
             0.2222222222222222,
             "#7201a8"
            ],
            [
             0.3333333333333333,
             "#9c179e"
            ],
            [
             0.4444444444444444,
             "#bd3786"
            ],
            [
             0.5555555555555556,
             "#d8576b"
            ],
            [
             0.6666666666666666,
             "#ed7953"
            ],
            [
             0.7777777777777778,
             "#fb9f3a"
            ],
            [
             0.8888888888888888,
             "#fdca26"
            ],
            [
             1,
             "#f0f921"
            ]
           ]
          },
          "colorway": [
           "#636efa",
           "#EF553B",
           "#00cc96",
           "#ab63fa",
           "#FFA15A",
           "#19d3f3",
           "#FF6692",
           "#B6E880",
           "#FF97FF",
           "#FECB52"
          ],
          "font": {
           "color": "#2a3f5f"
          },
          "geo": {
           "bgcolor": "white",
           "lakecolor": "white",
           "landcolor": "white",
           "showlakes": true,
           "showland": true,
           "subunitcolor": "#C8D4E3"
          },
          "hoverlabel": {
           "align": "left"
          },
          "hovermode": "closest",
          "mapbox": {
           "style": "light"
          },
          "paper_bgcolor": "white",
          "plot_bgcolor": "white",
          "polar": {
           "angularaxis": {
            "gridcolor": "#EBF0F8",
            "linecolor": "#EBF0F8",
            "ticks": ""
           },
           "bgcolor": "white",
           "radialaxis": {
            "gridcolor": "#EBF0F8",
            "linecolor": "#EBF0F8",
            "ticks": ""
           }
          },
          "scene": {
           "xaxis": {
            "backgroundcolor": "white",
            "gridcolor": "#DFE8F3",
            "gridwidth": 2,
            "linecolor": "#EBF0F8",
            "showbackground": true,
            "ticks": "",
            "zerolinecolor": "#EBF0F8"
           },
           "yaxis": {
            "backgroundcolor": "white",
            "gridcolor": "#DFE8F3",
            "gridwidth": 2,
            "linecolor": "#EBF0F8",
            "showbackground": true,
            "ticks": "",
            "zerolinecolor": "#EBF0F8"
           },
           "zaxis": {
            "backgroundcolor": "white",
            "gridcolor": "#DFE8F3",
            "gridwidth": 2,
            "linecolor": "#EBF0F8",
            "showbackground": true,
            "ticks": "",
            "zerolinecolor": "#EBF0F8"
           }
          },
          "shapedefaults": {
           "line": {
            "color": "#2a3f5f"
           }
          },
          "ternary": {
           "aaxis": {
            "gridcolor": "#DFE8F3",
            "linecolor": "#A2B1C6",
            "ticks": ""
           },
           "baxis": {
            "gridcolor": "#DFE8F3",
            "linecolor": "#A2B1C6",
            "ticks": ""
           },
           "bgcolor": "white",
           "caxis": {
            "gridcolor": "#DFE8F3",
            "linecolor": "#A2B1C6",
            "ticks": ""
           }
          },
          "title": {
           "x": 0.05
          },
          "xaxis": {
           "automargin": true,
           "gridcolor": "#EBF0F8",
           "linecolor": "#EBF0F8",
           "ticks": "",
           "title": {
            "standoff": 15
           },
           "zerolinecolor": "#EBF0F8",
           "zerolinewidth": 2
          },
          "yaxis": {
           "automargin": true,
           "gridcolor": "#EBF0F8",
           "linecolor": "#EBF0F8",
           "ticks": "",
           "title": {
            "standoff": 15
           },
           "zerolinecolor": "#EBF0F8",
           "zerolinewidth": 2
          }
         }
        },
        "title": {
         "text": "Model Score Comparison - Horizontal (Averaged)<br><sup>Average Across gpt-4.1, gpt-5-mini | 4B - 8B Model Range</sup>",
         "x": 0.5
        },
        "width": 1200,
        "xaxis": {
         "anchor": "y",
         "domain": [
          0,
          0.475
         ],
         "range": [
          0,
          10.5
         ]
        },
        "xaxis2": {
         "anchor": "y2",
         "domain": [
          0.525,
          1
         ],
         "range": [
          0,
          10.5
         ]
        },
        "xaxis3": {
         "anchor": "y3",
         "domain": [
          0,
          0.475
         ],
         "range": [
          0,
          10.5
         ]
        },
        "xaxis4": {
         "anchor": "y4",
         "domain": [
          0.525,
          1
         ],
         "range": [
          0,
          10.5
         ]
        },
        "xaxis5": {
         "anchor": "y5",
         "domain": [
          0,
          0.475
         ],
         "range": [
          0,
          10.5
         ]
        },
        "xaxis6": {
         "anchor": "y6",
         "domain": [
          0.525,
          1
         ],
         "range": [
          0,
          10.5
         ]
        },
        "yaxis": {
         "anchor": "x",
         "autorange": "reversed",
         "domain": [
          0.7333333333333334,
          1
         ],
         "showticklabels": false
        },
        "yaxis2": {
         "anchor": "x2",
         "autorange": "reversed",
         "domain": [
          0.7333333333333334,
          1
         ],
         "showticklabels": false
        },
        "yaxis3": {
         "anchor": "x3",
         "autorange": "reversed",
         "domain": [
          0.3666666666666667,
          0.6333333333333333
         ],
         "showticklabels": false
        },
        "yaxis4": {
         "anchor": "x4",
         "autorange": "reversed",
         "domain": [
          0.3666666666666667,
          0.6333333333333333
         ],
         "showticklabels": false
        },
        "yaxis5": {
         "anchor": "x5",
         "autorange": "reversed",
         "domain": [
          0,
          0.26666666666666666
         ],
         "showticklabels": false
        },
        "yaxis6": {
         "anchor": "x6",
         "autorange": "reversed",
         "domain": [
          0,
          0.26666666666666666
         ],
         "showticklabels": false
        }
       }
      }
     },
     "metadata": {},
     "output_type": "display_data"
    }
   ],
   "source": [
    "import plotly.graph_objects as go\n",
    "from plotly.subplots import make_subplots\n",
    "\n",
    "# --- Horizontal Bar Chart Grid (Looping through all judges) ---\n",
    "for judge_model in all_result_df['judge_model'].unique():\n",
    "    df_judge = all_result_df[all_result_df['judge_model'] == judge_model]\n",
    "    if df_judge.empty: continue\n",
    "\n",
    "    mean_df_judge = df_judge.groupby([\"model_name\", \"eval_dataset\"]).score.mean().reset_index()\n",
    "    # Uses the global model_order for consistent sorting\n",
    "    benchmarks = sorted(mean_df_judge['eval_dataset'].unique())\n",
    "    avg_scores = mean_df_judge.groupby('model_name')['score'].mean().reindex(model_order)\n",
    "    \n",
    "    n_rows, n_cols = 3, 2\n",
    "    subplot_titles = benchmarks[:5]\n",
    "    subplot_titles.append(\"Average\")\n",
    "    while len(subplot_titles) < 6: subplot_titles.append(\"\")\n",
    "\n",
    "    fig_horizontal = make_subplots(rows=n_rows, cols=n_cols, subplot_titles=subplot_titles, vertical_spacing=0.1, horizontal_spacing=0.05)\n",
    "    \n",
    "    for i, title in enumerate(subplot_titles):\n",
    "        if not title: continue\n",
    "        row, col = i // n_cols + 1, i % n_cols + 1\n",
    "        plot_data = avg_scores if title == \"Average\" else mean_df_judge[mean_df_judge['eval_dataset'] == title].set_index('model_name')['score'].reindex(model_order)\n",
    "        # Uses the global color_map\n",
    "        for model_name in model_order:\n",
    "            if model_name in plot_data.index:\n",
    "                score = plot_data.get(model_name, float('nan'))\n",
    "                fig_horizontal.add_trace(go.Bar(\n",
    "                    y=[model_name], x=[score], name=model_name, marker_color=color_map[model_name],\n",
    "                    text=[f\"{score:.2f}\" if pd.notnull(score) else \"\"], textposition='outside', orientation='h',\n",
    "                    showlegend=(i == 0)\n",
    "                ), row=row, col=col)\n",
    "        \n",
    "        fig_horizontal.update_xaxes(range=[0, 10.5], row=row, col=col)\n",
    "        fig_horizontal.update_yaxes(showticklabels=False, autorange='reversed', row=row, col=col)\n",
    "\n",
    "    fig_horizontal.update_layout(\n",
    "        height=1000, width=1200,\n",
    "        title_text=f\"Model Score Comparison - Horizontal<br><sup>Judge: {judge_model.replace('judge_', '')} | {MODEL_RANGE_GROUP}</sup>\",\n",
    "        title_x=0.5, template='plotly_white', legend_title_text='Model',\n",
    "        bargap=0.01, bargroupgap=0.01\n",
    "    )\n",
    "    fig_horizontal.show()\n",
    "    # fig_horizontal.write_image(f\"{GRAPHS_DIR}/horizontal_bar_chart_{judge_model.replace('judge_', '')}.png\")\n",
    "\n",
    "\n",
    "# --- AVERAGED HORIZONTAL BAR CHART GRID ---\n",
    "import plotly.graph_objects as go\n",
    "from plotly.subplots import make_subplots\n",
    "\n",
    "# Get the list of judge models for the title\n",
    "judge_models_list = sorted(all_result_df['judge_model'].unique())\n",
    "judge_models_formatted = [j.replace('judge_', '') for j in judge_models_list]\n",
    "judge_models_text = ', '.join(judge_models_formatted)\n",
    "\n",
    "# Create averaged data across all judge models\n",
    "df_averaged = all_result_df.copy()\n",
    "mean_df_averaged = df_averaged.groupby([\"model_name\", \"eval_dataset\"]).score.mean().reset_index()\n",
    "# Uses the global model_order for consistent sorting\n",
    "benchmarks = sorted(mean_df_averaged['eval_dataset'].unique())\n",
    "avg_scores = mean_df_averaged.groupby('model_name')['score'].mean().reindex(model_order)\n",
    "\n",
    "n_rows, n_cols = 3, 2\n",
    "subplot_titles = benchmarks[:5]\n",
    "subplot_titles.append(\"Average\")\n",
    "while len(subplot_titles) < 6: subplot_titles.append(\"\")\n",
    "\n",
    "fig_horizontal_avg = make_subplots(rows=n_rows, cols=n_cols, subplot_titles=subplot_titles, vertical_spacing=0.1, horizontal_spacing=0.05)\n",
    "\n",
    "for i, title in enumerate(subplot_titles):\n",
    "    if not title: continue\n",
    "    row, col = i // n_cols + 1, i % n_cols + 1\n",
    "    plot_data = avg_scores if title == \"Average\" else mean_df_averaged[mean_df_averaged['eval_dataset'] == title].set_index('model_name')['score'].reindex(model_order)\n",
    "    # Uses the global color_map\n",
    "    for model_name in model_order:\n",
    "        if model_name in plot_data.index:\n",
    "            score = plot_data.get(model_name, float('nan'))\n",
    "            fig_horizontal_avg.add_trace(go.Bar(\n",
    "                y=[model_name], x=[score], name=model_name, marker_color=color_map[model_name],\n",
    "                text=[f\"{score:.2f}\" if pd.notnull(score) else \"\"], textposition='outside', orientation='h',\n",
    "                showlegend=(i == 0)\n",
    "            ), row=row, col=col)\n",
    "    \n",
    "    fig_horizontal_avg.update_xaxes(range=[0, 10.5], row=row, col=col)\n",
    "    fig_horizontal_avg.update_yaxes(showticklabels=False, autorange='reversed', row=row, col=col)\n",
    "\n",
    "fig_horizontal_avg.update_layout(\n",
    "    height=1000, width=1200,\n",
    "    title_text=f\"Model Score Comparison - Horizontal (Averaged)<br><sup>Average Across {judge_models_text} | {MODEL_RANGE_GROUP}</sup>\",\n",
    "    title_x=0.5, template='plotly_white', legend_title_text='Model',\n",
    "    bargap=0.01, bargroupgap=0.01\n",
    ")\n",
    "fig_horizontal_avg.show()\n",
    "# fig_horizontal_avg.write_image(f\"{GRAPHS_DIR}/horizontal_bar_chart_averaged.png\")"
   ]
  },
  {
   "cell_type": "code",
   "execution_count": 65,
   "id": "98b3c2ee",
   "metadata": {},
   "outputs": [
    {
     "data": {
      "application/vnd.plotly.v1+json": {
       "config": {
        "plotlyServerURL": "https://plot.ly"
       },
       "data": [
        {
         "marker": {
          "color": "#66c5cc"
         },
         "name": "gpt-4o",
         "showlegend": true,
         "text": [
          "9.22"
         ],
         "textposition": "outside",
         "type": "bar",
         "x": [
          "gpt-4o"
         ],
         "xaxis": "x",
         "y": [
          9.22
         ],
         "yaxis": "y"
        },
        {
         "marker": {
          "color": "#FF6692"
         },
         "name": "gemini-2.0-flash-lite",
         "showlegend": true,
         "text": [
          "8.30"
         ],
         "textposition": "outside",
         "type": "bar",
         "x": [
          "gemini-2.0-flash-lite"
         ],
         "xaxis": "x",
         "y": [
          8.3
         ],
         "yaxis": "y"
        },
        {
         "marker": {
          "color": "#AB63FA"
         },
         "name": "gemma-3-12b-it",
         "showlegend": true,
         "text": [
          "8.62"
         ],
         "textposition": "outside",
         "type": "bar",
         "x": [
          "gemma-3-12b-it"
         ],
         "xaxis": "x",
         "y": [
          8.62
         ],
         "yaxis": "y"
        },
        {
         "marker": {
          "color": "#FF97FF"
         },
         "name": "qwen3-8b",
         "showlegend": true,
         "text": [
          "8.40"
         ],
         "textposition": "outside",
         "type": "bar",
         "x": [
          "qwen3-8b"
         ],
         "xaxis": "x",
         "y": [
          8.4
         ],
         "yaxis": "y"
        },
        {
         "marker": {
          "color": "#9eb9f3"
         },
         "name": "gemma-3n-e4b-it",
         "showlegend": true,
         "text": [
          "7.24"
         ],
         "textposition": "outside",
         "type": "bar",
         "x": [
          "gemma-3n-e4b-it"
         ],
         "xaxis": "x",
         "y": [
          7.24
         ],
         "yaxis": "y"
        },
        {
         "marker": {
          "color": "#f89c74"
         },
         "name": "shisa-v2-llama3.1-8b",
         "showlegend": true,
         "text": [
          "7.76"
         ],
         "textposition": "outside",
         "type": "bar",
         "x": [
          "shisa-v2-llama3.1-8b"
         ],
         "xaxis": "x",
         "y": [
          7.76
         ],
         "yaxis": "y"
        },
        {
         "marker": {
          "color": "#B6E880"
         },
         "name": "shisa-v2-qwen2.5-7b",
         "showlegend": true,
         "text": [
          "7.82"
         ],
         "textposition": "outside",
         "type": "bar",
         "x": [
          "shisa-v2-qwen2.5-7b"
         ],
         "xaxis": "x",
         "y": [
          7.82
         ],
         "yaxis": "y"
        },
        {
         "marker": {
          "color": "#dcb0f2"
         },
         "name": "aya-expanse-8b-abliterated",
         "showlegend": true,
         "text": [
          "7.44"
         ],
         "textposition": "outside",
         "type": "bar",
         "x": [
          "aya-expanse-8b-abliterated"
         ],
         "xaxis": "x",
         "y": [
          7.44
         ],
         "yaxis": "y"
        },
        {
         "marker": {
          "color": "#b3b3b3"
         },
         "name": "gemma-3-4b",
         "showlegend": true,
         "text": [
          "7.42"
         ],
         "textposition": "outside",
         "type": "bar",
         "x": [
          "gemma-3-4b"
         ],
         "xaxis": "x",
         "y": [
          7.42
         ],
         "yaxis": "y"
        },
        {
         "marker": {
          "color": "#EF553B"
         },
         "name": "qwen2.5-7b-instruct",
         "showlegend": true,
         "text": [
          "7.62"
         ],
         "textposition": "outside",
         "type": "bar",
         "x": [
          "qwen2.5-7b-instruct"
         ],
         "xaxis": "x",
         "y": [
          7.62
         ],
         "yaxis": "y"
        },
        {
         "marker": {
          "color": "#87c55f"
         },
         "name": "deepcogito_cogito-v1-preview-llama-8b",
         "showlegend": true,
         "text": [
          "7.20"
         ],
         "textposition": "outside",
         "type": "bar",
         "x": [
          "deepcogito_cogito-v1-preview-llama-8b"
         ],
         "xaxis": "x",
         "y": [
          7.2
         ],
         "yaxis": "y"
        },
        {
         "marker": {
          "color": "#FECB52"
         },
         "name": "llama-3.1-8b-instruct",
         "showlegend": true,
         "text": [
          "7.44"
         ],
         "textposition": "outside",
         "type": "bar",
         "x": [
          "llama-3.1-8b-instruct"
         ],
         "xaxis": "x",
         "y": [
          7.44
         ],
         "yaxis": "y"
        },
        {
         "marker": {
          "color": "#b497e7"
         },
         "name": "granite-3.3-8b-instruct",
         "showlegend": true,
         "text": [
          "6.76"
         ],
         "textposition": "outside",
         "type": "bar",
         "x": [
          "granite-3.3-8b-instruct"
         ],
         "xaxis": "x",
         "y": [
          6.76
         ],
         "yaxis": "y"
        },
        {
         "marker": {
          "color": "#19D3F3"
         },
         "name": "internvl3_5-8b",
         "showlegend": true,
         "text": [
          "6.74"
         ],
         "textposition": "outside",
         "type": "bar",
         "x": [
          "internvl3_5-8b"
         ],
         "xaxis": "x",
         "y": [
          6.74
         ],
         "yaxis": "y"
        },
        {
         "marker": {
          "color": "#c9db74"
         },
         "name": "hunyuan-mt-7b",
         "showlegend": true,
         "text": [
          "5.90"
         ],
         "textposition": "outside",
         "type": "bar",
         "x": [
          "hunyuan-mt-7b"
         ],
         "xaxis": "x",
         "y": [
          5.9
         ],
         "yaxis": "y"
        },
        {
         "marker": {
          "color": "#fe88b1"
         },
         "name": "dolphin3.0-llama3.1-8b",
         "showlegend": true,
         "text": [
          "6.36"
         ],
         "textposition": "outside",
         "type": "bar",
         "x": [
          "dolphin3.0-llama3.1-8b"
         ],
         "xaxis": "x",
         "y": [
          6.36
         ],
         "yaxis": "y"
        },
        {
         "marker": {
          "color": "#FFA15A"
         },
         "name": "hunyuan-mt-chimera-7b",
         "showlegend": true,
         "text": [
          "5.42"
         ],
         "textposition": "outside",
         "type": "bar",
         "x": [
          "hunyuan-mt-chimera-7b"
         ],
         "xaxis": "x",
         "y": [
          5.42
         ],
         "yaxis": "y"
        },
        {
         "marker": {
          "color": "#00CC96"
         },
         "name": "internvl3_5-4b",
         "showlegend": true,
         "text": [
          "6.30"
         ],
         "textposition": "outside",
         "type": "bar",
         "x": [
          "internvl3_5-4b"
         ],
         "xaxis": "x",
         "y": [
          6.3
         ],
         "yaxis": "y"
        },
        {
         "marker": {
          "color": "#f6cf71"
         },
         "name": "aixsatoshi-honyaku-multi-translator-swallow-ms7b",
         "showlegend": true,
         "text": [
          "4.08"
         ],
         "textposition": "outside",
         "type": "bar",
         "x": [
          "aixsatoshi-honyaku-multi-translator-swallow-ms7b"
         ],
         "xaxis": "x",
         "y": [
          4.08
         ],
         "yaxis": "y"
        },
        {
         "marker": {
          "color": "#66c5cc"
         },
         "name": "gpt-4o",
         "showlegend": false,
         "text": [
          "9.32"
         ],
         "textposition": "outside",
         "type": "bar",
         "x": [
          "gpt-4o"
         ],
         "xaxis": "x2",
         "y": [
          9.316666666666666
         ],
         "yaxis": "y2"
        },
        {
         "marker": {
          "color": "#FF6692"
         },
         "name": "gemini-2.0-flash-lite",
         "showlegend": false,
         "text": [
          "8.58"
         ],
         "textposition": "outside",
         "type": "bar",
         "x": [
          "gemini-2.0-flash-lite"
         ],
         "xaxis": "x2",
         "y": [
          8.583333333333334
         ],
         "yaxis": "y2"
        },
        {
         "marker": {
          "color": "#AB63FA"
         },
         "name": "gemma-3-12b-it",
         "showlegend": false,
         "text": [
          "8.67"
         ],
         "textposition": "outside",
         "type": "bar",
         "x": [
          "gemma-3-12b-it"
         ],
         "xaxis": "x2",
         "y": [
          8.666666666666666
         ],
         "yaxis": "y2"
        },
        {
         "marker": {
          "color": "#FF97FF"
         },
         "name": "qwen3-8b",
         "showlegend": false,
         "text": [
          "9.03"
         ],
         "textposition": "outside",
         "type": "bar",
         "x": [
          "qwen3-8b"
         ],
         "xaxis": "x2",
         "y": [
          9.033333333333333
         ],
         "yaxis": "y2"
        },
        {
         "marker": {
          "color": "#9eb9f3"
         },
         "name": "gemma-3n-e4b-it",
         "showlegend": false,
         "text": [
          "8.62"
         ],
         "textposition": "outside",
         "type": "bar",
         "x": [
          "gemma-3n-e4b-it"
         ],
         "xaxis": "x2",
         "y": [
          8.616666666666667
         ],
         "yaxis": "y2"
        },
        {
         "marker": {
          "color": "#f89c74"
         },
         "name": "shisa-v2-llama3.1-8b",
         "showlegend": false,
         "text": [
          "7.82"
         ],
         "textposition": "outside",
         "type": "bar",
         "x": [
          "shisa-v2-llama3.1-8b"
         ],
         "xaxis": "x2",
         "y": [
          7.816666666666666
         ],
         "yaxis": "y2"
        },
        {
         "marker": {
          "color": "#B6E880"
         },
         "name": "shisa-v2-qwen2.5-7b",
         "showlegend": false,
         "text": [
          "7.70"
         ],
         "textposition": "outside",
         "type": "bar",
         "x": [
          "shisa-v2-qwen2.5-7b"
         ],
         "xaxis": "x2",
         "y": [
          7.7
         ],
         "yaxis": "y2"
        },
        {
         "marker": {
          "color": "#dcb0f2"
         },
         "name": "aya-expanse-8b-abliterated",
         "showlegend": false,
         "text": [
          "7.73"
         ],
         "textposition": "outside",
         "type": "bar",
         "x": [
          "aya-expanse-8b-abliterated"
         ],
         "xaxis": "x2",
         "y": [
          7.733333333333333
         ],
         "yaxis": "y2"
        },
        {
         "marker": {
          "color": "#b3b3b3"
         },
         "name": "gemma-3-4b",
         "showlegend": false,
         "text": [
          "7.92"
         ],
         "textposition": "outside",
         "type": "bar",
         "x": [
          "gemma-3-4b"
         ],
         "xaxis": "x2",
         "y": [
          7.916666666666667
         ],
         "yaxis": "y2"
        },
        {
         "marker": {
          "color": "#EF553B"
         },
         "name": "qwen2.5-7b-instruct",
         "showlegend": false,
         "text": [
          "6.85"
         ],
         "textposition": "outside",
         "type": "bar",
         "x": [
          "qwen2.5-7b-instruct"
         ],
         "xaxis": "x2",
         "y": [
          6.85
         ],
         "yaxis": "y2"
        },
        {
         "marker": {
          "color": "#87c55f"
         },
         "name": "deepcogito_cogito-v1-preview-llama-8b",
         "showlegend": false,
         "text": [
          "7.02"
         ],
         "textposition": "outside",
         "type": "bar",
         "x": [
          "deepcogito_cogito-v1-preview-llama-8b"
         ],
         "xaxis": "x2",
         "y": [
          7.016666666666667
         ],
         "yaxis": "y2"
        },
        {
         "marker": {
          "color": "#FECB52"
         },
         "name": "llama-3.1-8b-instruct",
         "showlegend": false,
         "text": [
          "5.73"
         ],
         "textposition": "outside",
         "type": "bar",
         "x": [
          "llama-3.1-8b-instruct"
         ],
         "xaxis": "x2",
         "y": [
          5.733333333333333
         ],
         "yaxis": "y2"
        },
        {
         "marker": {
          "color": "#b497e7"
         },
         "name": "granite-3.3-8b-instruct",
         "showlegend": false,
         "text": [
          "6.73"
         ],
         "textposition": "outside",
         "type": "bar",
         "x": [
          "granite-3.3-8b-instruct"
         ],
         "xaxis": "x2",
         "y": [
          6.733333333333333
         ],
         "yaxis": "y2"
        },
        {
         "marker": {
          "color": "#19D3F3"
         },
         "name": "internvl3_5-8b",
         "showlegend": false,
         "text": [
          "5.90"
         ],
         "textposition": "outside",
         "type": "bar",
         "x": [
          "internvl3_5-8b"
         ],
         "xaxis": "x2",
         "y": [
          5.9
         ],
         "yaxis": "y2"
        },
        {
         "marker": {
          "color": "#c9db74"
         },
         "name": "hunyuan-mt-7b",
         "showlegend": false,
         "text": [
          "5.37"
         ],
         "textposition": "outside",
         "type": "bar",
         "x": [
          "hunyuan-mt-7b"
         ],
         "xaxis": "x2",
         "y": [
          5.366666666666666
         ],
         "yaxis": "y2"
        },
        {
         "marker": {
          "color": "#fe88b1"
         },
         "name": "dolphin3.0-llama3.1-8b",
         "showlegend": false,
         "text": [
          "6.18"
         ],
         "textposition": "outside",
         "type": "bar",
         "x": [
          "dolphin3.0-llama3.1-8b"
         ],
         "xaxis": "x2",
         "y": [
          6.183333333333334
         ],
         "yaxis": "y2"
        },
        {
         "marker": {
          "color": "#FFA15A"
         },
         "name": "hunyuan-mt-chimera-7b",
         "showlegend": false,
         "text": [
          "5.12"
         ],
         "textposition": "outside",
         "type": "bar",
         "x": [
          "hunyuan-mt-chimera-7b"
         ],
         "xaxis": "x2",
         "y": [
          5.116666666666666
         ],
         "yaxis": "y2"
        },
        {
         "marker": {
          "color": "#00CC96"
         },
         "name": "internvl3_5-4b",
         "showlegend": false,
         "text": [
          "4.92"
         ],
         "textposition": "outside",
         "type": "bar",
         "x": [
          "internvl3_5-4b"
         ],
         "xaxis": "x2",
         "y": [
          4.916666666666667
         ],
         "yaxis": "y2"
        },
        {
         "marker": {
          "color": "#f6cf71"
         },
         "name": "aixsatoshi-honyaku-multi-translator-swallow-ms7b",
         "showlegend": false,
         "text": [
          "3.05"
         ],
         "textposition": "outside",
         "type": "bar",
         "x": [
          "aixsatoshi-honyaku-multi-translator-swallow-ms7b"
         ],
         "xaxis": "x2",
         "y": [
          3.05
         ],
         "yaxis": "y2"
        },
        {
         "marker": {
          "color": "#66c5cc"
         },
         "name": "gpt-4o",
         "showlegend": false,
         "text": [
          "9.90"
         ],
         "textposition": "outside",
         "type": "bar",
         "x": [
          "gpt-4o"
         ],
         "xaxis": "x3",
         "y": [
          9.9
         ],
         "yaxis": "y3"
        },
        {
         "marker": {
          "color": "#FF6692"
         },
         "name": "gemini-2.0-flash-lite",
         "showlegend": false,
         "text": [
          "9.60"
         ],
         "textposition": "outside",
         "type": "bar",
         "x": [
          "gemini-2.0-flash-lite"
         ],
         "xaxis": "x3",
         "y": [
          9.6
         ],
         "yaxis": "y3"
        },
        {
         "marker": {
          "color": "#AB63FA"
         },
         "name": "gemma-3-12b-it",
         "showlegend": false,
         "text": [
          "8.62"
         ],
         "textposition": "outside",
         "type": "bar",
         "x": [
          "gemma-3-12b-it"
         ],
         "xaxis": "x3",
         "y": [
          8.625
         ],
         "yaxis": "y3"
        },
        {
         "marker": {
          "color": "#FF97FF"
         },
         "name": "qwen3-8b",
         "showlegend": false,
         "text": [
          "7.62"
         ],
         "textposition": "outside",
         "type": "bar",
         "x": [
          "qwen3-8b"
         ],
         "xaxis": "x3",
         "y": [
          7.625
         ],
         "yaxis": "y3"
        },
        {
         "marker": {
          "color": "#9eb9f3"
         },
         "name": "gemma-3n-e4b-it",
         "showlegend": false,
         "text": [
          "8.40"
         ],
         "textposition": "outside",
         "type": "bar",
         "x": [
          "gemma-3n-e4b-it"
         ],
         "xaxis": "x3",
         "y": [
          8.4
         ],
         "yaxis": "y3"
        },
        {
         "marker": {
          "color": "#f89c74"
         },
         "name": "shisa-v2-llama3.1-8b",
         "showlegend": false,
         "text": [
          "8.50"
         ],
         "textposition": "outside",
         "type": "bar",
         "x": [
          "shisa-v2-llama3.1-8b"
         ],
         "xaxis": "x3",
         "y": [
          8.5
         ],
         "yaxis": "y3"
        },
        {
         "marker": {
          "color": "#B6E880"
         },
         "name": "shisa-v2-qwen2.5-7b",
         "showlegend": false,
         "text": [
          "7.67"
         ],
         "textposition": "outside",
         "type": "bar",
         "x": [
          "shisa-v2-qwen2.5-7b"
         ],
         "xaxis": "x3",
         "y": [
          7.675
         ],
         "yaxis": "y3"
        },
        {
         "marker": {
          "color": "#dcb0f2"
         },
         "name": "aya-expanse-8b-abliterated",
         "showlegend": false,
         "text": [
          "8.40"
         ],
         "textposition": "outside",
         "type": "bar",
         "x": [
          "aya-expanse-8b-abliterated"
         ],
         "xaxis": "x3",
         "y": [
          8.4
         ],
         "yaxis": "y3"
        },
        {
         "marker": {
          "color": "#b3b3b3"
         },
         "name": "gemma-3-4b",
         "showlegend": false,
         "text": [
          "7.45"
         ],
         "textposition": "outside",
         "type": "bar",
         "x": [
          "gemma-3-4b"
         ],
         "xaxis": "x3",
         "y": [
          7.45
         ],
         "yaxis": "y3"
        },
        {
         "marker": {
          "color": "#EF553B"
         },
         "name": "qwen2.5-7b-instruct",
         "showlegend": false,
         "text": [
          "7.55"
         ],
         "textposition": "outside",
         "type": "bar",
         "x": [
          "qwen2.5-7b-instruct"
         ],
         "xaxis": "x3",
         "y": [
          7.55
         ],
         "yaxis": "y3"
        },
        {
         "marker": {
          "color": "#87c55f"
         },
         "name": "deepcogito_cogito-v1-preview-llama-8b",
         "showlegend": false,
         "text": [
          "6.33"
         ],
         "textposition": "outside",
         "type": "bar",
         "x": [
          "deepcogito_cogito-v1-preview-llama-8b"
         ],
         "xaxis": "x3",
         "y": [
          6.325
         ],
         "yaxis": "y3"
        },
        {
         "marker": {
          "color": "#FECB52"
         },
         "name": "llama-3.1-8b-instruct",
         "showlegend": false,
         "text": [
          "5.75"
         ],
         "textposition": "outside",
         "type": "bar",
         "x": [
          "llama-3.1-8b-instruct"
         ],
         "xaxis": "x3",
         "y": [
          5.75
         ],
         "yaxis": "y3"
        },
        {
         "marker": {
          "color": "#b497e7"
         },
         "name": "granite-3.3-8b-instruct",
         "showlegend": false,
         "text": [
          "6.03"
         ],
         "textposition": "outside",
         "type": "bar",
         "x": [
          "granite-3.3-8b-instruct"
         ],
         "xaxis": "x3",
         "y": [
          6.025
         ],
         "yaxis": "y3"
        },
        {
         "marker": {
          "color": "#19D3F3"
         },
         "name": "internvl3_5-8b",
         "showlegend": false,
         "text": [
          "4.60"
         ],
         "textposition": "outside",
         "type": "bar",
         "x": [
          "internvl3_5-8b"
         ],
         "xaxis": "x3",
         "y": [
          4.6
         ],
         "yaxis": "y3"
        },
        {
         "marker": {
          "color": "#c9db74"
         },
         "name": "hunyuan-mt-7b",
         "showlegend": false,
         "text": [
          "5.70"
         ],
         "textposition": "outside",
         "type": "bar",
         "x": [
          "hunyuan-mt-7b"
         ],
         "xaxis": "x3",
         "y": [
          5.7
         ],
         "yaxis": "y3"
        },
        {
         "marker": {
          "color": "#fe88b1"
         },
         "name": "dolphin3.0-llama3.1-8b",
         "showlegend": false,
         "text": [
          "5.72"
         ],
         "textposition": "outside",
         "type": "bar",
         "x": [
          "dolphin3.0-llama3.1-8b"
         ],
         "xaxis": "x3",
         "y": [
          5.725
         ],
         "yaxis": "y3"
        },
        {
         "marker": {
          "color": "#FFA15A"
         },
         "name": "hunyuan-mt-chimera-7b",
         "showlegend": false,
         "text": [
          "5.22"
         ],
         "textposition": "outside",
         "type": "bar",
         "x": [
          "hunyuan-mt-chimera-7b"
         ],
         "xaxis": "x3",
         "y": [
          5.225
         ],
         "yaxis": "y3"
        },
        {
         "marker": {
          "color": "#00CC96"
         },
         "name": "internvl3_5-4b",
         "showlegend": false,
         "text": [
          "3.60"
         ],
         "textposition": "outside",
         "type": "bar",
         "x": [
          "internvl3_5-4b"
         ],
         "xaxis": "x3",
         "y": [
          3.6
         ],
         "yaxis": "y3"
        },
        {
         "marker": {
          "color": "#f6cf71"
         },
         "name": "aixsatoshi-honyaku-multi-translator-swallow-ms7b",
         "showlegend": false,
         "text": [
          "4.33"
         ],
         "textposition": "outside",
         "type": "bar",
         "x": [
          "aixsatoshi-honyaku-multi-translator-swallow-ms7b"
         ],
         "xaxis": "x3",
         "y": [
          4.325
         ],
         "yaxis": "y3"
        },
        {
         "marker": {
          "color": "#66c5cc"
         },
         "name": "gpt-4o",
         "showlegend": false,
         "text": [
          "8.52"
         ],
         "textposition": "outside",
         "type": "bar",
         "x": [
          "gpt-4o"
         ],
         "xaxis": "x4",
         "y": [
          8.516666666666667
         ],
         "yaxis": "y4"
        },
        {
         "marker": {
          "color": "#FF6692"
         },
         "name": "gemini-2.0-flash-lite",
         "showlegend": false,
         "text": [
          "7.67"
         ],
         "textposition": "outside",
         "type": "bar",
         "x": [
          "gemini-2.0-flash-lite"
         ],
         "xaxis": "x4",
         "y": [
          7.666666666666667
         ],
         "yaxis": "y4"
        },
        {
         "marker": {
          "color": "#AB63FA"
         },
         "name": "gemma-3-12b-it",
         "showlegend": false,
         "text": [
          "7.44"
         ],
         "textposition": "outside",
         "type": "bar",
         "x": [
          "gemma-3-12b-it"
         ],
         "xaxis": "x4",
         "y": [
          7.441666666666666
         ],
         "yaxis": "y4"
        },
        {
         "marker": {
          "color": "#FF97FF"
         },
         "name": "qwen3-8b",
         "showlegend": false,
         "text": [
          "7.81"
         ],
         "textposition": "outside",
         "type": "bar",
         "x": [
          "qwen3-8b"
         ],
         "xaxis": "x4",
         "y": [
          7.808333333333334
         ],
         "yaxis": "y4"
        },
        {
         "marker": {
          "color": "#9eb9f3"
         },
         "name": "gemma-3n-e4b-it",
         "showlegend": false,
         "text": [
          "5.97"
         ],
         "textposition": "outside",
         "type": "bar",
         "x": [
          "gemma-3n-e4b-it"
         ],
         "xaxis": "x4",
         "y": [
          5.966666666666667
         ],
         "yaxis": "y4"
        },
        {
         "marker": {
          "color": "#f89c74"
         },
         "name": "shisa-v2-llama3.1-8b",
         "showlegend": false,
         "text": [
          "6.77"
         ],
         "textposition": "outside",
         "type": "bar",
         "x": [
          "shisa-v2-llama3.1-8b"
         ],
         "xaxis": "x4",
         "y": [
          6.766666666666667
         ],
         "yaxis": "y4"
        },
        {
         "marker": {
          "color": "#B6E880"
         },
         "name": "shisa-v2-qwen2.5-7b",
         "showlegend": false,
         "text": [
          "7.00"
         ],
         "textposition": "outside",
         "type": "bar",
         "x": [
          "shisa-v2-qwen2.5-7b"
         ],
         "xaxis": "x4",
         "y": [
          7
         ],
         "yaxis": "y4"
        },
        {
         "marker": {
          "color": "#dcb0f2"
         },
         "name": "aya-expanse-8b-abliterated",
         "showlegend": false,
         "text": [
          "6.61"
         ],
         "textposition": "outside",
         "type": "bar",
         "x": [
          "aya-expanse-8b-abliterated"
         ],
         "xaxis": "x4",
         "y": [
          6.608333333333333
         ],
         "yaxis": "y4"
        },
        {
         "marker": {
          "color": "#b3b3b3"
         },
         "name": "gemma-3-4b",
         "showlegend": false,
         "text": [
          "6.40"
         ],
         "textposition": "outside",
         "type": "bar",
         "x": [
          "gemma-3-4b"
         ],
         "xaxis": "x4",
         "y": [
          6.4
         ],
         "yaxis": "y4"
        },
        {
         "marker": {
          "color": "#EF553B"
         },
         "name": "qwen2.5-7b-instruct",
         "showlegend": false,
         "text": [
          "6.97"
         ],
         "textposition": "outside",
         "type": "bar",
         "x": [
          "qwen2.5-7b-instruct"
         ],
         "xaxis": "x4",
         "y": [
          6.966666666666667
         ],
         "yaxis": "y4"
        },
        {
         "marker": {
          "color": "#87c55f"
         },
         "name": "deepcogito_cogito-v1-preview-llama-8b",
         "showlegend": false,
         "text": [
          "6.55"
         ],
         "textposition": "outside",
         "type": "bar",
         "x": [
          "deepcogito_cogito-v1-preview-llama-8b"
         ],
         "xaxis": "x4",
         "y": [
          6.55
         ],
         "yaxis": "y4"
        },
        {
         "marker": {
          "color": "#FECB52"
         },
         "name": "llama-3.1-8b-instruct",
         "showlegend": false,
         "text": [
          "6.38"
         ],
         "textposition": "outside",
         "type": "bar",
         "x": [
          "llama-3.1-8b-instruct"
         ],
         "xaxis": "x4",
         "y": [
          6.375
         ],
         "yaxis": "y4"
        },
        {
         "marker": {
          "color": "#b497e7"
         },
         "name": "granite-3.3-8b-instruct",
         "showlegend": false,
         "text": [
          "6.07"
         ],
         "textposition": "outside",
         "type": "bar",
         "x": [
          "granite-3.3-8b-instruct"
         ],
         "xaxis": "x4",
         "y": [
          6.066666666666666
         ],
         "yaxis": "y4"
        },
        {
         "marker": {
          "color": "#19D3F3"
         },
         "name": "internvl3_5-8b",
         "showlegend": false,
         "text": [
          "6.33"
         ],
         "textposition": "outside",
         "type": "bar",
         "x": [
          "internvl3_5-8b"
         ],
         "xaxis": "x4",
         "y": [
          6.333333333333333
         ],
         "yaxis": "y4"
        },
        {
         "marker": {
          "color": "#c9db74"
         },
         "name": "hunyuan-mt-7b",
         "showlegend": false,
         "text": [
          "5.12"
         ],
         "textposition": "outside",
         "type": "bar",
         "x": [
          "hunyuan-mt-7b"
         ],
         "xaxis": "x4",
         "y": [
          5.125
         ],
         "yaxis": "y4"
        },
        {
         "marker": {
          "color": "#fe88b1"
         },
         "name": "dolphin3.0-llama3.1-8b",
         "showlegend": false,
         "text": [
          "5.49"
         ],
         "textposition": "outside",
         "type": "bar",
         "x": [
          "dolphin3.0-llama3.1-8b"
         ],
         "xaxis": "x4",
         "y": [
          5.491666666666666
         ],
         "yaxis": "y4"
        },
        {
         "marker": {
          "color": "#FFA15A"
         },
         "name": "hunyuan-mt-chimera-7b",
         "showlegend": false,
         "text": [
          "4.80"
         ],
         "textposition": "outside",
         "type": "bar",
         "x": [
          "hunyuan-mt-chimera-7b"
         ],
         "xaxis": "x4",
         "y": [
          4.8
         ],
         "yaxis": "y4"
        },
        {
         "marker": {
          "color": "#00CC96"
         },
         "name": "internvl3_5-4b",
         "showlegend": false,
         "text": [
          "5.56"
         ],
         "textposition": "outside",
         "type": "bar",
         "x": [
          "internvl3_5-4b"
         ],
         "xaxis": "x4",
         "y": [
          5.558333333333334
         ],
         "yaxis": "y4"
        },
        {
         "marker": {
          "color": "#f6cf71"
         },
         "name": "aixsatoshi-honyaku-multi-translator-swallow-ms7b",
         "showlegend": false,
         "text": [
          "2.64"
         ],
         "textposition": "outside",
         "type": "bar",
         "x": [
          "aixsatoshi-honyaku-multi-translator-swallow-ms7b"
         ],
         "xaxis": "x4",
         "y": [
          2.6416666666666666
         ],
         "yaxis": "y4"
        },
        {
         "marker": {
          "color": "#66c5cc"
         },
         "name": "gpt-4o",
         "showlegend": false,
         "text": [
          "8.28"
         ],
         "textposition": "outside",
         "type": "bar",
         "x": [
          "gpt-4o"
         ],
         "xaxis": "x5",
         "y": [
          8.2775
         ],
         "yaxis": "y5"
        },
        {
         "marker": {
          "color": "#FF6692"
         },
         "name": "gemini-2.0-flash-lite",
         "showlegend": false,
         "text": [
          "7.38"
         ],
         "textposition": "outside",
         "type": "bar",
         "x": [
          "gemini-2.0-flash-lite"
         ],
         "xaxis": "x5",
         "y": [
          7.375
         ],
         "yaxis": "y5"
        },
        {
         "marker": {
          "color": "#AB63FA"
         },
         "name": "gemma-3-12b-it",
         "showlegend": false,
         "text": [
          "7.07"
         ],
         "textposition": "outside",
         "type": "bar",
         "x": [
          "gemma-3-12b-it"
         ],
         "xaxis": "x5",
         "y": [
          7.066666666666666
         ],
         "yaxis": "y5"
        },
        {
         "marker": {
          "color": "#FF97FF"
         },
         "name": "qwen3-8b",
         "showlegend": false,
         "text": [
          "6.40"
         ],
         "textposition": "outside",
         "type": "bar",
         "x": [
          "qwen3-8b"
         ],
         "xaxis": "x5",
         "y": [
          6.395833333333334
         ],
         "yaxis": "y5"
        },
        {
         "marker": {
          "color": "#9eb9f3"
         },
         "name": "gemma-3n-e4b-it",
         "showlegend": false,
         "text": [
          "7.25"
         ],
         "textposition": "outside",
         "type": "bar",
         "x": [
          "gemma-3n-e4b-it"
         ],
         "xaxis": "x5",
         "y": [
          7.246666666666666
         ],
         "yaxis": "y5"
        },
        {
         "marker": {
          "color": "#f89c74"
         },
         "name": "shisa-v2-llama3.1-8b",
         "showlegend": false,
         "text": [
          "6.96"
         ],
         "textposition": "outside",
         "type": "bar",
         "x": [
          "shisa-v2-llama3.1-8b"
         ],
         "xaxis": "x5",
         "y": [
          6.9591666666666665
         ],
         "yaxis": "y5"
        },
        {
         "marker": {
          "color": "#B6E880"
         },
         "name": "shisa-v2-qwen2.5-7b",
         "showlegend": false,
         "text": [
          "6.64"
         ],
         "textposition": "outside",
         "type": "bar",
         "x": [
          "shisa-v2-qwen2.5-7b"
         ],
         "xaxis": "x5",
         "y": [
          6.644166666666666
         ],
         "yaxis": "y5"
        },
        {
         "marker": {
          "color": "#dcb0f2"
         },
         "name": "aya-expanse-8b-abliterated",
         "showlegend": false,
         "text": [
          "6.28"
         ],
         "textposition": "outside",
         "type": "bar",
         "x": [
          "aya-expanse-8b-abliterated"
         ],
         "xaxis": "x5",
         "y": [
          6.275
         ],
         "yaxis": "y5"
        },
        {
         "marker": {
          "color": "#b3b3b3"
         },
         "name": "gemma-3-4b",
         "showlegend": false,
         "text": [
          "6.67"
         ],
         "textposition": "outside",
         "type": "bar",
         "x": [
          "gemma-3-4b"
         ],
         "xaxis": "x5",
         "y": [
          6.670833333333333
         ],
         "yaxis": "y5"
        },
        {
         "marker": {
          "color": "#EF553B"
         },
         "name": "qwen2.5-7b-instruct",
         "showlegend": false,
         "text": [
          "5.99"
         ],
         "textposition": "outside",
         "type": "bar",
         "x": [
          "qwen2.5-7b-instruct"
         ],
         "xaxis": "x5",
         "y": [
          5.989166666666666
         ],
         "yaxis": "y5"
        },
        {
         "marker": {
          "color": "#87c55f"
         },
         "name": "deepcogito_cogito-v1-preview-llama-8b",
         "showlegend": false,
         "text": [
          "6.15"
         ],
         "textposition": "outside",
         "type": "bar",
         "x": [
          "deepcogito_cogito-v1-preview-llama-8b"
         ],
         "xaxis": "x5",
         "y": [
          6.154166666666666
         ],
         "yaxis": "y5"
        },
        {
         "marker": {
          "color": "#FECB52"
         },
         "name": "llama-3.1-8b-instruct",
         "showlegend": false,
         "text": [
          "5.89"
         ],
         "textposition": "outside",
         "type": "bar",
         "x": [
          "llama-3.1-8b-instruct"
         ],
         "xaxis": "x5",
         "y": [
          5.888333333333334
         ],
         "yaxis": "y5"
        },
        {
         "marker": {
          "color": "#b497e7"
         },
         "name": "granite-3.3-8b-instruct",
         "showlegend": false,
         "text": [
          "5.77"
         ],
         "textposition": "outside",
         "type": "bar",
         "x": [
          "granite-3.3-8b-instruct"
         ],
         "xaxis": "x5",
         "y": [
          5.769166666666666
         ],
         "yaxis": "y5"
        },
        {
         "marker": {
          "color": "#19D3F3"
         },
         "name": "internvl3_5-8b",
         "showlegend": false,
         "text": [
          "6.16"
         ],
         "textposition": "outside",
         "type": "bar",
         "x": [
          "internvl3_5-8b"
         ],
         "xaxis": "x5",
         "y": [
          6.160833333333334
         ],
         "yaxis": "y5"
        },
        {
         "marker": {
          "color": "#c9db74"
         },
         "name": "hunyuan-mt-7b",
         "showlegend": false,
         "text": [
          "6.35"
         ],
         "textposition": "outside",
         "type": "bar",
         "x": [
          "hunyuan-mt-7b"
         ],
         "xaxis": "x5",
         "y": [
          6.3475
         ],
         "yaxis": "y5"
        },
        {
         "marker": {
          "color": "#fe88b1"
         },
         "name": "dolphin3.0-llama3.1-8b",
         "showlegend": false,
         "text": [
          "5.93"
         ],
         "textposition": "outside",
         "type": "bar",
         "x": [
          "dolphin3.0-llama3.1-8b"
         ],
         "xaxis": "x5",
         "y": [
          5.930833333333334
         ],
         "yaxis": "y5"
        },
        {
         "marker": {
          "color": "#FFA15A"
         },
         "name": "hunyuan-mt-chimera-7b",
         "showlegend": false,
         "text": [
          "6.57"
         ],
         "textposition": "outside",
         "type": "bar",
         "x": [
          "hunyuan-mt-chimera-7b"
         ],
         "xaxis": "x5",
         "y": [
          6.57
         ],
         "yaxis": "y5"
        },
        {
         "marker": {
          "color": "#00CC96"
         },
         "name": "internvl3_5-4b",
         "showlegend": false,
         "text": [
          "5.47"
         ],
         "textposition": "outside",
         "type": "bar",
         "x": [
          "internvl3_5-4b"
         ],
         "xaxis": "x5",
         "y": [
          5.474166666666666
         ],
         "yaxis": "y5"
        },
        {
         "marker": {
          "color": "#f6cf71"
         },
         "name": "aixsatoshi-honyaku-multi-translator-swallow-ms7b",
         "showlegend": false,
         "text": [
          "4.96"
         ],
         "textposition": "outside",
         "type": "bar",
         "x": [
          "aixsatoshi-honyaku-multi-translator-swallow-ms7b"
         ],
         "xaxis": "x5",
         "y": [
          4.964166666666667
         ],
         "yaxis": "y5"
        },
        {
         "marker": {
          "color": "#66c5cc"
         },
         "name": "gpt-4o",
         "showlegend": false,
         "text": [
          "9.05"
         ],
         "textposition": "outside",
         "type": "bar",
         "x": [
          "gpt-4o"
         ],
         "xaxis": "x6",
         "y": [
          9.046166666666668
         ],
         "yaxis": "y6"
        },
        {
         "marker": {
          "color": "#FF6692"
         },
         "name": "gemini-2.0-flash-lite",
         "showlegend": false,
         "text": [
          "8.30"
         ],
         "textposition": "outside",
         "type": "bar",
         "x": [
          "gemini-2.0-flash-lite"
         ],
         "xaxis": "x6",
         "y": [
          8.305
         ],
         "yaxis": "y6"
        },
        {
         "marker": {
          "color": "#AB63FA"
         },
         "name": "gemma-3-12b-it",
         "showlegend": false,
         "text": [
          "8.08"
         ],
         "textposition": "outside",
         "type": "bar",
         "x": [
          "gemma-3-12b-it"
         ],
         "xaxis": "x6",
         "y": [
          8.084
         ],
         "yaxis": "y6"
        },
        {
         "marker": {
          "color": "#FF97FF"
         },
         "name": "qwen3-8b",
         "showlegend": false,
         "text": [
          "7.85"
         ],
         "textposition": "outside",
         "type": "bar",
         "x": [
          "qwen3-8b"
         ],
         "xaxis": "x6",
         "y": [
          7.852500000000001
         ],
         "yaxis": "y6"
        },
        {
         "marker": {
          "color": "#9eb9f3"
         },
         "name": "gemma-3n-e4b-it",
         "showlegend": false,
         "text": [
          "7.49"
         ],
         "textposition": "outside",
         "type": "bar",
         "x": [
          "gemma-3n-e4b-it"
         ],
         "xaxis": "x6",
         "y": [
          7.494
         ],
         "yaxis": "y6"
        },
        {
         "marker": {
          "color": "#f89c74"
         },
         "name": "shisa-v2-llama3.1-8b",
         "showlegend": false,
         "text": [
          "7.56"
         ],
         "textposition": "outside",
         "type": "bar",
         "x": [
          "shisa-v2-llama3.1-8b"
         ],
         "xaxis": "x6",
         "y": [
          7.5605
         ],
         "yaxis": "y6"
        },
        {
         "marker": {
          "color": "#B6E880"
         },
         "name": "shisa-v2-qwen2.5-7b",
         "showlegend": false,
         "text": [
          "7.37"
         ],
         "textposition": "outside",
         "type": "bar",
         "x": [
          "shisa-v2-qwen2.5-7b"
         ],
         "xaxis": "x6",
         "y": [
          7.367833333333333
         ],
         "yaxis": "y6"
        },
        {
         "marker": {
          "color": "#dcb0f2"
         },
         "name": "aya-expanse-8b-abliterated",
         "showlegend": false,
         "text": [
          "7.29"
         ],
         "textposition": "outside",
         "type": "bar",
         "x": [
          "aya-expanse-8b-abliterated"
         ],
         "xaxis": "x6",
         "y": [
          7.291333333333334
         ],
         "yaxis": "y6"
        },
        {
         "marker": {
          "color": "#b3b3b3"
         },
         "name": "gemma-3-4b",
         "showlegend": false,
         "text": [
          "7.17"
         ],
         "textposition": "outside",
         "type": "bar",
         "x": [
          "gemma-3-4b"
         ],
         "xaxis": "x6",
         "y": [
          7.1715
         ],
         "yaxis": "y6"
        },
        {
         "marker": {
          "color": "#EF553B"
         },
         "name": "qwen2.5-7b-instruct",
         "showlegend": false,
         "text": [
          "7.00"
         ],
         "textposition": "outside",
         "type": "bar",
         "x": [
          "qwen2.5-7b-instruct"
         ],
         "xaxis": "x6",
         "y": [
          6.995166666666667
         ],
         "yaxis": "y6"
        },
        {
         "marker": {
          "color": "#87c55f"
         },
         "name": "deepcogito_cogito-v1-preview-llama-8b",
         "showlegend": false,
         "text": [
          "6.65"
         ],
         "textposition": "outside",
         "type": "bar",
         "x": [
          "deepcogito_cogito-v1-preview-llama-8b"
         ],
         "xaxis": "x6",
         "y": [
          6.649166666666666
         ],
         "yaxis": "y6"
        },
        {
         "marker": {
          "color": "#FECB52"
         },
         "name": "llama-3.1-8b-instruct",
         "showlegend": false,
         "text": [
          "6.24"
         ],
         "textposition": "outside",
         "type": "bar",
         "x": [
          "llama-3.1-8b-instruct"
         ],
         "xaxis": "x6",
         "y": [
          6.237333333333334
         ],
         "yaxis": "y6"
        },
        {
         "marker": {
          "color": "#b497e7"
         },
         "name": "granite-3.3-8b-instruct",
         "showlegend": false,
         "text": [
          "6.27"
         ],
         "textposition": "outside",
         "type": "bar",
         "x": [
          "granite-3.3-8b-instruct"
         ],
         "xaxis": "x6",
         "y": [
          6.270833333333333
         ],
         "yaxis": "y6"
        },
        {
         "marker": {
          "color": "#19D3F3"
         },
         "name": "internvl3_5-8b",
         "showlegend": false,
         "text": [
          "5.95"
         ],
         "textposition": "outside",
         "type": "bar",
         "x": [
          "internvl3_5-8b"
         ],
         "xaxis": "x6",
         "y": [
          5.946833333333333
         ],
         "yaxis": "y6"
        },
        {
         "marker": {
          "color": "#c9db74"
         },
         "name": "hunyuan-mt-7b",
         "showlegend": false,
         "text": [
          "5.69"
         ],
         "textposition": "outside",
         "type": "bar",
         "x": [
          "hunyuan-mt-7b"
         ],
         "xaxis": "x6",
         "y": [
          5.687833333333333
         ],
         "yaxis": "y6"
        },
        {
         "marker": {
          "color": "#fe88b1"
         },
         "name": "dolphin3.0-llama3.1-8b",
         "showlegend": false,
         "text": [
          "5.94"
         ],
         "textposition": "outside",
         "type": "bar",
         "x": [
          "dolphin3.0-llama3.1-8b"
         ],
         "xaxis": "x6",
         "y": [
          5.938166666666667
         ],
         "yaxis": "y6"
        },
        {
         "marker": {
          "color": "#FFA15A"
         },
         "name": "hunyuan-mt-chimera-7b",
         "showlegend": false,
         "text": [
          "5.43"
         ],
         "textposition": "outside",
         "type": "bar",
         "x": [
          "hunyuan-mt-chimera-7b"
         ],
         "xaxis": "x6",
         "y": [
          5.426333333333334
         ],
         "yaxis": "y6"
        },
        {
         "marker": {
          "color": "#00CC96"
         },
         "name": "internvl3_5-4b",
         "showlegend": false,
         "text": [
          "5.17"
         ],
         "textposition": "outside",
         "type": "bar",
         "x": [
          "internvl3_5-4b"
         ],
         "xaxis": "x6",
         "y": [
          5.169833333333333
         ],
         "yaxis": "y6"
        },
        {
         "marker": {
          "color": "#f6cf71"
         },
         "name": "aixsatoshi-honyaku-multi-translator-swallow-ms7b",
         "showlegend": false,
         "text": [
          "3.81"
         ],
         "textposition": "outside",
         "type": "bar",
         "x": [
          "aixsatoshi-honyaku-multi-translator-swallow-ms7b"
         ],
         "xaxis": "x6",
         "y": [
          3.812166666666667
         ],
         "yaxis": "y6"
        }
       ],
       "layout": {
        "annotations": [
         {
          "font": {
           "size": 16
          },
          "showarrow": false,
          "text": "ELYZA-Tasks-100",
          "x": 0.2375,
          "xanchor": "center",
          "xref": "paper",
          "y": 1,
          "yanchor": "bottom",
          "yref": "paper"
         },
         {
          "font": {
           "size": 16
          },
          "showarrow": false,
          "text": "MT-Bench-60",
          "x": 0.7625,
          "xanchor": "center",
          "xref": "paper",
          "y": 1,
          "yanchor": "bottom",
          "yref": "paper"
         },
         {
          "font": {
           "size": 16
          },
          "showarrow": false,
          "text": "Rakuda-40",
          "x": 0.2375,
          "xanchor": "center",
          "xref": "paper",
          "y": 0.6333333333333333,
          "yanchor": "bottom",
          "yref": "paper"
         },
         {
          "font": {
           "size": 16
          },
          "showarrow": false,
          "text": "Tengu-Bench-120",
          "x": 0.7625,
          "xanchor": "center",
          "xref": "paper",
          "y": 0.6333333333333333,
          "yanchor": "bottom",
          "yref": "paper"
         },
         {
          "font": {
           "size": 16
          },
          "showarrow": false,
          "text": "VNTL-Translation-200",
          "x": 0.2375,
          "xanchor": "center",
          "xref": "paper",
          "y": 0.26666666666666666,
          "yanchor": "bottom",
          "yref": "paper"
         },
         {
          "font": {
           "size": 16
          },
          "showarrow": false,
          "text": "Average",
          "x": 0.7625,
          "xanchor": "center",
          "xref": "paper",
          "y": 0.26666666666666666,
          "yanchor": "bottom",
          "yref": "paper"
         }
        ],
        "bargap": 0.01,
        "bargroupgap": 0.01,
        "barmode": "group",
        "height": 1000,
        "legend": {
         "title": {
          "text": "Model"
         }
        },
        "template": {
         "data": {
          "bar": [
           {
            "error_x": {
             "color": "#2a3f5f"
            },
            "error_y": {
             "color": "#2a3f5f"
            },
            "marker": {
             "line": {
              "color": "white",
              "width": 0.5
             },
             "pattern": {
              "fillmode": "overlay",
              "size": 10,
              "solidity": 0.2
             }
            },
            "type": "bar"
           }
          ],
          "barpolar": [
           {
            "marker": {
             "line": {
              "color": "white",
              "width": 0.5
             },
             "pattern": {
              "fillmode": "overlay",
              "size": 10,
              "solidity": 0.2
             }
            },
            "type": "barpolar"
           }
          ],
          "carpet": [
           {
            "aaxis": {
             "endlinecolor": "#2a3f5f",
             "gridcolor": "#C8D4E3",
             "linecolor": "#C8D4E3",
             "minorgridcolor": "#C8D4E3",
             "startlinecolor": "#2a3f5f"
            },
            "baxis": {
             "endlinecolor": "#2a3f5f",
             "gridcolor": "#C8D4E3",
             "linecolor": "#C8D4E3",
             "minorgridcolor": "#C8D4E3",
             "startlinecolor": "#2a3f5f"
            },
            "type": "carpet"
           }
          ],
          "choropleth": [
           {
            "colorbar": {
             "outlinewidth": 0,
             "ticks": ""
            },
            "type": "choropleth"
           }
          ],
          "contour": [
           {
            "colorbar": {
             "outlinewidth": 0,
             "ticks": ""
            },
            "colorscale": [
             [
              0,
              "#0d0887"
             ],
             [
              0.1111111111111111,
              "#46039f"
             ],
             [
              0.2222222222222222,
              "#7201a8"
             ],
             [
              0.3333333333333333,
              "#9c179e"
             ],
             [
              0.4444444444444444,
              "#bd3786"
             ],
             [
              0.5555555555555556,
              "#d8576b"
             ],
             [
              0.6666666666666666,
              "#ed7953"
             ],
             [
              0.7777777777777778,
              "#fb9f3a"
             ],
             [
              0.8888888888888888,
              "#fdca26"
             ],
             [
              1,
              "#f0f921"
             ]
            ],
            "type": "contour"
           }
          ],
          "contourcarpet": [
           {
            "colorbar": {
             "outlinewidth": 0,
             "ticks": ""
            },
            "type": "contourcarpet"
           }
          ],
          "heatmap": [
           {
            "colorbar": {
             "outlinewidth": 0,
             "ticks": ""
            },
            "colorscale": [
             [
              0,
              "#0d0887"
             ],
             [
              0.1111111111111111,
              "#46039f"
             ],
             [
              0.2222222222222222,
              "#7201a8"
             ],
             [
              0.3333333333333333,
              "#9c179e"
             ],
             [
              0.4444444444444444,
              "#bd3786"
             ],
             [
              0.5555555555555556,
              "#d8576b"
             ],
             [
              0.6666666666666666,
              "#ed7953"
             ],
             [
              0.7777777777777778,
              "#fb9f3a"
             ],
             [
              0.8888888888888888,
              "#fdca26"
             ],
             [
              1,
              "#f0f921"
             ]
            ],
            "type": "heatmap"
           }
          ],
          "histogram": [
           {
            "marker": {
             "pattern": {
              "fillmode": "overlay",
              "size": 10,
              "solidity": 0.2
             }
            },
            "type": "histogram"
           }
          ],
          "histogram2d": [
           {
            "colorbar": {
             "outlinewidth": 0,
             "ticks": ""
            },
            "colorscale": [
             [
              0,
              "#0d0887"
             ],
             [
              0.1111111111111111,
              "#46039f"
             ],
             [
              0.2222222222222222,
              "#7201a8"
             ],
             [
              0.3333333333333333,
              "#9c179e"
             ],
             [
              0.4444444444444444,
              "#bd3786"
             ],
             [
              0.5555555555555556,
              "#d8576b"
             ],
             [
              0.6666666666666666,
              "#ed7953"
             ],
             [
              0.7777777777777778,
              "#fb9f3a"
             ],
             [
              0.8888888888888888,
              "#fdca26"
             ],
             [
              1,
              "#f0f921"
             ]
            ],
            "type": "histogram2d"
           }
          ],
          "histogram2dcontour": [
           {
            "colorbar": {
             "outlinewidth": 0,
             "ticks": ""
            },
            "colorscale": [
             [
              0,
              "#0d0887"
             ],
             [
              0.1111111111111111,
              "#46039f"
             ],
             [
              0.2222222222222222,
              "#7201a8"
             ],
             [
              0.3333333333333333,
              "#9c179e"
             ],
             [
              0.4444444444444444,
              "#bd3786"
             ],
             [
              0.5555555555555556,
              "#d8576b"
             ],
             [
              0.6666666666666666,
              "#ed7953"
             ],
             [
              0.7777777777777778,
              "#fb9f3a"
             ],
             [
              0.8888888888888888,
              "#fdca26"
             ],
             [
              1,
              "#f0f921"
             ]
            ],
            "type": "histogram2dcontour"
           }
          ],
          "mesh3d": [
           {
            "colorbar": {
             "outlinewidth": 0,
             "ticks": ""
            },
            "type": "mesh3d"
           }
          ],
          "parcoords": [
           {
            "line": {
             "colorbar": {
              "outlinewidth": 0,
              "ticks": ""
             }
            },
            "type": "parcoords"
           }
          ],
          "pie": [
           {
            "automargin": true,
            "type": "pie"
           }
          ],
          "scatter": [
           {
            "fillpattern": {
             "fillmode": "overlay",
             "size": 10,
             "solidity": 0.2
            },
            "type": "scatter"
           }
          ],
          "scatter3d": [
           {
            "line": {
             "colorbar": {
              "outlinewidth": 0,
              "ticks": ""
             }
            },
            "marker": {
             "colorbar": {
              "outlinewidth": 0,
              "ticks": ""
             }
            },
            "type": "scatter3d"
           }
          ],
          "scattercarpet": [
           {
            "marker": {
             "colorbar": {
              "outlinewidth": 0,
              "ticks": ""
             }
            },
            "type": "scattercarpet"
           }
          ],
          "scattergeo": [
           {
            "marker": {
             "colorbar": {
              "outlinewidth": 0,
              "ticks": ""
             }
            },
            "type": "scattergeo"
           }
          ],
          "scattergl": [
           {
            "marker": {
             "colorbar": {
              "outlinewidth": 0,
              "ticks": ""
             }
            },
            "type": "scattergl"
           }
          ],
          "scattermap": [
           {
            "marker": {
             "colorbar": {
              "outlinewidth": 0,
              "ticks": ""
             }
            },
            "type": "scattermap"
           }
          ],
          "scattermapbox": [
           {
            "marker": {
             "colorbar": {
              "outlinewidth": 0,
              "ticks": ""
             }
            },
            "type": "scattermapbox"
           }
          ],
          "scatterpolar": [
           {
            "marker": {
             "colorbar": {
              "outlinewidth": 0,
              "ticks": ""
             }
            },
            "type": "scatterpolar"
           }
          ],
          "scatterpolargl": [
           {
            "marker": {
             "colorbar": {
              "outlinewidth": 0,
              "ticks": ""
             }
            },
            "type": "scatterpolargl"
           }
          ],
          "scatterternary": [
           {
            "marker": {
             "colorbar": {
              "outlinewidth": 0,
              "ticks": ""
             }
            },
            "type": "scatterternary"
           }
          ],
          "surface": [
           {
            "colorbar": {
             "outlinewidth": 0,
             "ticks": ""
            },
            "colorscale": [
             [
              0,
              "#0d0887"
             ],
             [
              0.1111111111111111,
              "#46039f"
             ],
             [
              0.2222222222222222,
              "#7201a8"
             ],
             [
              0.3333333333333333,
              "#9c179e"
             ],
             [
              0.4444444444444444,
              "#bd3786"
             ],
             [
              0.5555555555555556,
              "#d8576b"
             ],
             [
              0.6666666666666666,
              "#ed7953"
             ],
             [
              0.7777777777777778,
              "#fb9f3a"
             ],
             [
              0.8888888888888888,
              "#fdca26"
             ],
             [
              1,
              "#f0f921"
             ]
            ],
            "type": "surface"
           }
          ],
          "table": [
           {
            "cells": {
             "fill": {
              "color": "#EBF0F8"
             },
             "line": {
              "color": "white"
             }
            },
            "header": {
             "fill": {
              "color": "#C8D4E3"
             },
             "line": {
              "color": "white"
             }
            },
            "type": "table"
           }
          ]
         },
         "layout": {
          "annotationdefaults": {
           "arrowcolor": "#2a3f5f",
           "arrowhead": 0,
           "arrowwidth": 1
          },
          "autotypenumbers": "strict",
          "coloraxis": {
           "colorbar": {
            "outlinewidth": 0,
            "ticks": ""
           }
          },
          "colorscale": {
           "diverging": [
            [
             0,
             "#8e0152"
            ],
            [
             0.1,
             "#c51b7d"
            ],
            [
             0.2,
             "#de77ae"
            ],
            [
             0.3,
             "#f1b6da"
            ],
            [
             0.4,
             "#fde0ef"
            ],
            [
             0.5,
             "#f7f7f7"
            ],
            [
             0.6,
             "#e6f5d0"
            ],
            [
             0.7,
             "#b8e186"
            ],
            [
             0.8,
             "#7fbc41"
            ],
            [
             0.9,
             "#4d9221"
            ],
            [
             1,
             "#276419"
            ]
           ],
           "sequential": [
            [
             0,
             "#0d0887"
            ],
            [
             0.1111111111111111,
             "#46039f"
            ],
            [
             0.2222222222222222,
             "#7201a8"
            ],
            [
             0.3333333333333333,
             "#9c179e"
            ],
            [
             0.4444444444444444,
             "#bd3786"
            ],
            [
             0.5555555555555556,
             "#d8576b"
            ],
            [
             0.6666666666666666,
             "#ed7953"
            ],
            [
             0.7777777777777778,
             "#fb9f3a"
            ],
            [
             0.8888888888888888,
             "#fdca26"
            ],
            [
             1,
             "#f0f921"
            ]
           ],
           "sequentialminus": [
            [
             0,
             "#0d0887"
            ],
            [
             0.1111111111111111,
             "#46039f"
            ],
            [
             0.2222222222222222,
             "#7201a8"
            ],
            [
             0.3333333333333333,
             "#9c179e"
            ],
            [
             0.4444444444444444,
             "#bd3786"
            ],
            [
             0.5555555555555556,
             "#d8576b"
            ],
            [
             0.6666666666666666,
             "#ed7953"
            ],
            [
             0.7777777777777778,
             "#fb9f3a"
            ],
            [
             0.8888888888888888,
             "#fdca26"
            ],
            [
             1,
             "#f0f921"
            ]
           ]
          },
          "colorway": [
           "#636efa",
           "#EF553B",
           "#00cc96",
           "#ab63fa",
           "#FFA15A",
           "#19d3f3",
           "#FF6692",
           "#B6E880",
           "#FF97FF",
           "#FECB52"
          ],
          "font": {
           "color": "#2a3f5f"
          },
          "geo": {
           "bgcolor": "white",
           "lakecolor": "white",
           "landcolor": "white",
           "showlakes": true,
           "showland": true,
           "subunitcolor": "#C8D4E3"
          },
          "hoverlabel": {
           "align": "left"
          },
          "hovermode": "closest",
          "mapbox": {
           "style": "light"
          },
          "paper_bgcolor": "white",
          "plot_bgcolor": "white",
          "polar": {
           "angularaxis": {
            "gridcolor": "#EBF0F8",
            "linecolor": "#EBF0F8",
            "ticks": ""
           },
           "bgcolor": "white",
           "radialaxis": {
            "gridcolor": "#EBF0F8",
            "linecolor": "#EBF0F8",
            "ticks": ""
           }
          },
          "scene": {
           "xaxis": {
            "backgroundcolor": "white",
            "gridcolor": "#DFE8F3",
            "gridwidth": 2,
            "linecolor": "#EBF0F8",
            "showbackground": true,
            "ticks": "",
            "zerolinecolor": "#EBF0F8"
           },
           "yaxis": {
            "backgroundcolor": "white",
            "gridcolor": "#DFE8F3",
            "gridwidth": 2,
            "linecolor": "#EBF0F8",
            "showbackground": true,
            "ticks": "",
            "zerolinecolor": "#EBF0F8"
           },
           "zaxis": {
            "backgroundcolor": "white",
            "gridcolor": "#DFE8F3",
            "gridwidth": 2,
            "linecolor": "#EBF0F8",
            "showbackground": true,
            "ticks": "",
            "zerolinecolor": "#EBF0F8"
           }
          },
          "shapedefaults": {
           "line": {
            "color": "#2a3f5f"
           }
          },
          "ternary": {
           "aaxis": {
            "gridcolor": "#DFE8F3",
            "linecolor": "#A2B1C6",
            "ticks": ""
           },
           "baxis": {
            "gridcolor": "#DFE8F3",
            "linecolor": "#A2B1C6",
            "ticks": ""
           },
           "bgcolor": "white",
           "caxis": {
            "gridcolor": "#DFE8F3",
            "linecolor": "#A2B1C6",
            "ticks": ""
           }
          },
          "title": {
           "x": 0.05
          },
          "xaxis": {
           "automargin": true,
           "gridcolor": "#EBF0F8",
           "linecolor": "#EBF0F8",
           "ticks": "",
           "title": {
            "standoff": 15
           },
           "zerolinecolor": "#EBF0F8",
           "zerolinewidth": 2
          },
          "yaxis": {
           "automargin": true,
           "gridcolor": "#EBF0F8",
           "linecolor": "#EBF0F8",
           "ticks": "",
           "title": {
            "standoff": 15
           },
           "zerolinecolor": "#EBF0F8",
           "zerolinewidth": 2
          }
         }
        },
        "title": {
         "text": "Model Score Comparison - Vertical<br><sup>Judge: gpt-4.1 | 4B - 8B Model Range</sup>",
         "x": 0.5
        },
        "width": 1200,
        "xaxis": {
         "anchor": "y",
         "domain": [
          0,
          0.475
         ],
         "showticklabels": false
        },
        "xaxis2": {
         "anchor": "y2",
         "domain": [
          0.525,
          1
         ],
         "showticklabels": false
        },
        "xaxis3": {
         "anchor": "y3",
         "domain": [
          0,
          0.475
         ],
         "showticklabels": false
        },
        "xaxis4": {
         "anchor": "y4",
         "domain": [
          0.525,
          1
         ],
         "showticklabels": false
        },
        "xaxis5": {
         "anchor": "y5",
         "domain": [
          0,
          0.475
         ],
         "showticklabels": false
        },
        "xaxis6": {
         "anchor": "y6",
         "domain": [
          0.525,
          1
         ],
         "showticklabels": false
        },
        "yaxis": {
         "anchor": "x",
         "domain": [
          0.7333333333333334,
          1
         ],
         "range": [
          0,
          10.5
         ]
        },
        "yaxis2": {
         "anchor": "x2",
         "domain": [
          0.7333333333333334,
          1
         ],
         "range": [
          0,
          10.5
         ]
        },
        "yaxis3": {
         "anchor": "x3",
         "domain": [
          0.3666666666666667,
          0.6333333333333333
         ],
         "range": [
          0,
          10.5
         ]
        },
        "yaxis4": {
         "anchor": "x4",
         "domain": [
          0.3666666666666667,
          0.6333333333333333
         ],
         "range": [
          0,
          10.5
         ]
        },
        "yaxis5": {
         "anchor": "x5",
         "domain": [
          0,
          0.26666666666666666
         ],
         "range": [
          0,
          10.5
         ]
        },
        "yaxis6": {
         "anchor": "x6",
         "domain": [
          0,
          0.26666666666666666
         ],
         "range": [
          0,
          10.5
         ]
        }
       }
      }
     },
     "metadata": {},
     "output_type": "display_data"
    },
    {
     "data": {
      "application/vnd.plotly.v1+json": {
       "config": {
        "plotlyServerURL": "https://plot.ly"
       },
       "data": [
        {
         "marker": {
          "color": "#66c5cc"
         },
         "name": "gpt-4o",
         "showlegend": true,
         "text": [
          "9.14"
         ],
         "textposition": "outside",
         "type": "bar",
         "x": [
          "gpt-4o"
         ],
         "xaxis": "x",
         "y": [
          9.14
         ],
         "yaxis": "y"
        },
        {
         "marker": {
          "color": "#FF6692"
         },
         "name": "gemini-2.0-flash-lite",
         "showlegend": true,
         "text": [
          "8.02"
         ],
         "textposition": "outside",
         "type": "bar",
         "x": [
          "gemini-2.0-flash-lite"
         ],
         "xaxis": "x",
         "y": [
          8.02
         ],
         "yaxis": "y"
        },
        {
         "marker": {
          "color": "#AB63FA"
         },
         "name": "gemma-3-12b-it",
         "showlegend": true,
         "text": [
          "7.94"
         ],
         "textposition": "outside",
         "type": "bar",
         "x": [
          "gemma-3-12b-it"
         ],
         "xaxis": "x",
         "y": [
          7.94
         ],
         "yaxis": "y"
        },
        {
         "marker": {
          "color": "#FF97FF"
         },
         "name": "qwen3-8b",
         "showlegend": true,
         "text": [
          "7.30"
         ],
         "textposition": "outside",
         "type": "bar",
         "x": [
          "qwen3-8b"
         ],
         "xaxis": "x",
         "y": [
          7.3
         ],
         "yaxis": "y"
        },
        {
         "marker": {
          "color": "#9eb9f3"
         },
         "name": "gemma-3n-e4b-it",
         "showlegend": true,
         "text": [
          "6.78"
         ],
         "textposition": "outside",
         "type": "bar",
         "x": [
          "gemma-3n-e4b-it"
         ],
         "xaxis": "x",
         "y": [
          6.78
         ],
         "yaxis": "y"
        },
        {
         "marker": {
          "color": "#f89c74"
         },
         "name": "shisa-v2-llama3.1-8b",
         "showlegend": true,
         "text": [
          "7.32"
         ],
         "textposition": "outside",
         "type": "bar",
         "x": [
          "shisa-v2-llama3.1-8b"
         ],
         "xaxis": "x",
         "y": [
          7.32
         ],
         "yaxis": "y"
        },
        {
         "marker": {
          "color": "#B6E880"
         },
         "name": "shisa-v2-qwen2.5-7b",
         "showlegend": true,
         "text": [
          "7.40"
         ],
         "textposition": "outside",
         "type": "bar",
         "x": [
          "shisa-v2-qwen2.5-7b"
         ],
         "xaxis": "x",
         "y": [
          7.4
         ],
         "yaxis": "y"
        },
        {
         "marker": {
          "color": "#dcb0f2"
         },
         "name": "aya-expanse-8b-abliterated",
         "showlegend": true,
         "text": [
          "6.82"
         ],
         "textposition": "outside",
         "type": "bar",
         "x": [
          "aya-expanse-8b-abliterated"
         ],
         "xaxis": "x",
         "y": [
          6.82
         ],
         "yaxis": "y"
        },
        {
         "marker": {
          "color": "#b3b3b3"
         },
         "name": "gemma-3-4b",
         "showlegend": true,
         "text": [
          "6.72"
         ],
         "textposition": "outside",
         "type": "bar",
         "x": [
          "gemma-3-4b"
         ],
         "xaxis": "x",
         "y": [
          6.72
         ],
         "yaxis": "y"
        },
        {
         "marker": {
          "color": "#EF553B"
         },
         "name": "qwen2.5-7b-instruct",
         "showlegend": true,
         "text": [
          "6.96"
         ],
         "textposition": "outside",
         "type": "bar",
         "x": [
          "qwen2.5-7b-instruct"
         ],
         "xaxis": "x",
         "y": [
          6.96
         ],
         "yaxis": "y"
        },
        {
         "marker": {
          "color": "#87c55f"
         },
         "name": "deepcogito_cogito-v1-preview-llama-8b",
         "showlegend": true,
         "text": [
          "6.36"
         ],
         "textposition": "outside",
         "type": "bar",
         "x": [
          "deepcogito_cogito-v1-preview-llama-8b"
         ],
         "xaxis": "x",
         "y": [
          6.36
         ],
         "yaxis": "y"
        },
        {
         "marker": {
          "color": "#FECB52"
         },
         "name": "llama-3.1-8b-instruct",
         "showlegend": true,
         "text": [
          "6.62"
         ],
         "textposition": "outside",
         "type": "bar",
         "x": [
          "llama-3.1-8b-instruct"
         ],
         "xaxis": "x",
         "y": [
          6.62
         ],
         "yaxis": "y"
        },
        {
         "marker": {
          "color": "#b497e7"
         },
         "name": "granite-3.3-8b-instruct",
         "showlegend": true,
         "text": [
          "6.06"
         ],
         "textposition": "outside",
         "type": "bar",
         "x": [
          "granite-3.3-8b-instruct"
         ],
         "xaxis": "x",
         "y": [
          6.06
         ],
         "yaxis": "y"
        },
        {
         "marker": {
          "color": "#19D3F3"
         },
         "name": "internvl3_5-8b",
         "showlegend": true,
         "text": [
          "5.36"
         ],
         "textposition": "outside",
         "type": "bar",
         "x": [
          "internvl3_5-8b"
         ],
         "xaxis": "x",
         "y": [
          5.36
         ],
         "yaxis": "y"
        },
        {
         "marker": {
          "color": "#c9db74"
         },
         "name": "hunyuan-mt-7b",
         "showlegend": true,
         "text": [
          "5.42"
         ],
         "textposition": "outside",
         "type": "bar",
         "x": [
          "hunyuan-mt-7b"
         ],
         "xaxis": "x",
         "y": [
          5.42
         ],
         "yaxis": "y"
        },
        {
         "marker": {
          "color": "#fe88b1"
         },
         "name": "dolphin3.0-llama3.1-8b",
         "showlegend": true,
         "text": [
          "5.62"
         ],
         "textposition": "outside",
         "type": "bar",
         "x": [
          "dolphin3.0-llama3.1-8b"
         ],
         "xaxis": "x",
         "y": [
          5.62
         ],
         "yaxis": "y"
        },
        {
         "marker": {
          "color": "#FFA15A"
         },
         "name": "hunyuan-mt-chimera-7b",
         "showlegend": true,
         "text": [
          "4.82"
         ],
         "textposition": "outside",
         "type": "bar",
         "x": [
          "hunyuan-mt-chimera-7b"
         ],
         "xaxis": "x",
         "y": [
          4.82
         ],
         "yaxis": "y"
        },
        {
         "marker": {
          "color": "#00CC96"
         },
         "name": "internvl3_5-4b",
         "showlegend": true,
         "text": [
          "4.94"
         ],
         "textposition": "outside",
         "type": "bar",
         "x": [
          "internvl3_5-4b"
         ],
         "xaxis": "x",
         "y": [
          4.94
         ],
         "yaxis": "y"
        },
        {
         "marker": {
          "color": "#f6cf71"
         },
         "name": "aixsatoshi-honyaku-multi-translator-swallow-ms7b",
         "showlegend": true,
         "text": [
          "3.66"
         ],
         "textposition": "outside",
         "type": "bar",
         "x": [
          "aixsatoshi-honyaku-multi-translator-swallow-ms7b"
         ],
         "xaxis": "x",
         "y": [
          3.66
         ],
         "yaxis": "y"
        },
        {
         "marker": {
          "color": "#66c5cc"
         },
         "name": "gpt-4o",
         "showlegend": false,
         "text": [
          "8.20"
         ],
         "textposition": "outside",
         "type": "bar",
         "x": [
          "gpt-4o"
         ],
         "xaxis": "x2",
         "y": [
          8.2
         ],
         "yaxis": "y2"
        },
        {
         "marker": {
          "color": "#FF6692"
         },
         "name": "gemini-2.0-flash-lite",
         "showlegend": false,
         "text": [
          "7.43"
         ],
         "textposition": "outside",
         "type": "bar",
         "x": [
          "gemini-2.0-flash-lite"
         ],
         "xaxis": "x2",
         "y": [
          7.433333333333334
         ],
         "yaxis": "y2"
        },
        {
         "marker": {
          "color": "#AB63FA"
         },
         "name": "gemma-3-12b-it",
         "showlegend": false,
         "text": [
          "7.12"
         ],
         "textposition": "outside",
         "type": "bar",
         "x": [
          "gemma-3-12b-it"
         ],
         "xaxis": "x2",
         "y": [
          7.116666666666666
         ],
         "yaxis": "y2"
        },
        {
         "marker": {
          "color": "#FF97FF"
         },
         "name": "qwen3-8b",
         "showlegend": false,
         "text": [
          "7.05"
         ],
         "textposition": "outside",
         "type": "bar",
         "x": [
          "qwen3-8b"
         ],
         "xaxis": "x2",
         "y": [
          7.05
         ],
         "yaxis": "y2"
        },
        {
         "marker": {
          "color": "#9eb9f3"
         },
         "name": "gemma-3n-e4b-it",
         "showlegend": false,
         "text": [
          "6.97"
         ],
         "textposition": "outside",
         "type": "bar",
         "x": [
          "gemma-3n-e4b-it"
         ],
         "xaxis": "x2",
         "y": [
          6.966666666666667
         ],
         "yaxis": "y2"
        },
        {
         "marker": {
          "color": "#f89c74"
         },
         "name": "shisa-v2-llama3.1-8b",
         "showlegend": false,
         "text": [
          "6.15"
         ],
         "textposition": "outside",
         "type": "bar",
         "x": [
          "shisa-v2-llama3.1-8b"
         ],
         "xaxis": "x2",
         "y": [
          6.15
         ],
         "yaxis": "y2"
        },
        {
         "marker": {
          "color": "#B6E880"
         },
         "name": "shisa-v2-qwen2.5-7b",
         "showlegend": false,
         "text": [
          "6.20"
         ],
         "textposition": "outside",
         "type": "bar",
         "x": [
          "shisa-v2-qwen2.5-7b"
         ],
         "xaxis": "x2",
         "y": [
          6.2
         ],
         "yaxis": "y2"
        },
        {
         "marker": {
          "color": "#dcb0f2"
         },
         "name": "aya-expanse-8b-abliterated",
         "showlegend": false,
         "text": [
          "6.02"
         ],
         "textposition": "outside",
         "type": "bar",
         "x": [
          "aya-expanse-8b-abliterated"
         ],
         "xaxis": "x2",
         "y": [
          6.016666666666667
         ],
         "yaxis": "y2"
        },
        {
         "marker": {
          "color": "#b3b3b3"
         },
         "name": "gemma-3-4b",
         "showlegend": false,
         "text": [
          "6.00"
         ],
         "textposition": "outside",
         "type": "bar",
         "x": [
          "gemma-3-4b"
         ],
         "xaxis": "x2",
         "y": [
          6
         ],
         "yaxis": "y2"
        },
        {
         "marker": {
          "color": "#EF553B"
         },
         "name": "qwen2.5-7b-instruct",
         "showlegend": false,
         "text": [
          "5.47"
         ],
         "textposition": "outside",
         "type": "bar",
         "x": [
          "qwen2.5-7b-instruct"
         ],
         "xaxis": "x2",
         "y": [
          5.466666666666667
         ],
         "yaxis": "y2"
        },
        {
         "marker": {
          "color": "#87c55f"
         },
         "name": "deepcogito_cogito-v1-preview-llama-8b",
         "showlegend": false,
         "text": [
          "5.53"
         ],
         "textposition": "outside",
         "type": "bar",
         "x": [
          "deepcogito_cogito-v1-preview-llama-8b"
         ],
         "xaxis": "x2",
         "y": [
          5.533333333333333
         ],
         "yaxis": "y2"
        },
        {
         "marker": {
          "color": "#FECB52"
         },
         "name": "llama-3.1-8b-instruct",
         "showlegend": false,
         "text": [
          "4.57"
         ],
         "textposition": "outside",
         "type": "bar",
         "x": [
          "llama-3.1-8b-instruct"
         ],
         "xaxis": "x2",
         "y": [
          4.566666666666666
         ],
         "yaxis": "y2"
        },
        {
         "marker": {
          "color": "#b497e7"
         },
         "name": "granite-3.3-8b-instruct",
         "showlegend": false,
         "text": [
          "5.18"
         ],
         "textposition": "outside",
         "type": "bar",
         "x": [
          "granite-3.3-8b-instruct"
         ],
         "xaxis": "x2",
         "y": [
          5.183333333333334
         ],
         "yaxis": "y2"
        },
        {
         "marker": {
          "color": "#19D3F3"
         },
         "name": "internvl3_5-8b",
         "showlegend": false,
         "text": [
          "4.62"
         ],
         "textposition": "outside",
         "type": "bar",
         "x": [
          "internvl3_5-8b"
         ],
         "xaxis": "x2",
         "y": [
          4.616666666666666
         ],
         "yaxis": "y2"
        },
        {
         "marker": {
          "color": "#c9db74"
         },
         "name": "hunyuan-mt-7b",
         "showlegend": false,
         "text": [
          "4.60"
         ],
         "textposition": "outside",
         "type": "bar",
         "x": [
          "hunyuan-mt-7b"
         ],
         "xaxis": "x2",
         "y": [
          4.6
         ],
         "yaxis": "y2"
        },
        {
         "marker": {
          "color": "#fe88b1"
         },
         "name": "dolphin3.0-llama3.1-8b",
         "showlegend": false,
         "text": [
          "4.63"
         ],
         "textposition": "outside",
         "type": "bar",
         "x": [
          "dolphin3.0-llama3.1-8b"
         ],
         "xaxis": "x2",
         "y": [
          4.633333333333334
         ],
         "yaxis": "y2"
        },
        {
         "marker": {
          "color": "#FFA15A"
         },
         "name": "hunyuan-mt-chimera-7b",
         "showlegend": false,
         "text": [
          "4.23"
         ],
         "textposition": "outside",
         "type": "bar",
         "x": [
          "hunyuan-mt-chimera-7b"
         ],
         "xaxis": "x2",
         "y": [
          4.233333333333333
         ],
         "yaxis": "y2"
        },
        {
         "marker": {
          "color": "#00CC96"
         },
         "name": "internvl3_5-4b",
         "showlegend": false,
         "text": [
          "4.05"
         ],
         "textposition": "outside",
         "type": "bar",
         "x": [
          "internvl3_5-4b"
         ],
         "xaxis": "x2",
         "y": [
          4.05
         ],
         "yaxis": "y2"
        },
        {
         "marker": {
          "color": "#f6cf71"
         },
         "name": "aixsatoshi-honyaku-multi-translator-swallow-ms7b",
         "showlegend": false,
         "text": [
          "2.77"
         ],
         "textposition": "outside",
         "type": "bar",
         "x": [
          "aixsatoshi-honyaku-multi-translator-swallow-ms7b"
         ],
         "xaxis": "x2",
         "y": [
          2.7666666666666666
         ],
         "yaxis": "y2"
        },
        {
         "marker": {
          "color": "#66c5cc"
         },
         "name": "gpt-4o",
         "showlegend": false,
         "text": [
          "8.07"
         ],
         "textposition": "outside",
         "type": "bar",
         "x": [
          "gpt-4o"
         ],
         "xaxis": "x3",
         "y": [
          8.075
         ],
         "yaxis": "y3"
        },
        {
         "marker": {
          "color": "#FF6692"
         },
         "name": "gemini-2.0-flash-lite",
         "showlegend": false,
         "text": [
          "7.62"
         ],
         "textposition": "outside",
         "type": "bar",
         "x": [
          "gemini-2.0-flash-lite"
         ],
         "xaxis": "x3",
         "y": [
          7.625
         ],
         "yaxis": "y3"
        },
        {
         "marker": {
          "color": "#AB63FA"
         },
         "name": "gemma-3-12b-it",
         "showlegend": false,
         "text": [
          "6.58"
         ],
         "textposition": "outside",
         "type": "bar",
         "x": [
          "gemma-3-12b-it"
         ],
         "xaxis": "x3",
         "y": [
          6.575
         ],
         "yaxis": "y3"
        },
        {
         "marker": {
          "color": "#FF97FF"
         },
         "name": "qwen3-8b",
         "showlegend": false,
         "text": [
          "5.65"
         ],
         "textposition": "outside",
         "type": "bar",
         "x": [
          "qwen3-8b"
         ],
         "xaxis": "x3",
         "y": [
          5.65
         ],
         "yaxis": "y3"
        },
        {
         "marker": {
          "color": "#9eb9f3"
         },
         "name": "gemma-3n-e4b-it",
         "showlegend": false,
         "text": [
          "6.67"
         ],
         "textposition": "outside",
         "type": "bar",
         "x": [
          "gemma-3n-e4b-it"
         ],
         "xaxis": "x3",
         "y": [
          6.666666666666667
         ],
         "yaxis": "y3"
        },
        {
         "marker": {
          "color": "#f89c74"
         },
         "name": "shisa-v2-llama3.1-8b",
         "showlegend": false,
         "text": [
          "6.49"
         ],
         "textposition": "outside",
         "type": "bar",
         "x": [
          "shisa-v2-llama3.1-8b"
         ],
         "xaxis": "x3",
         "y": [
          6.487179487179487
         ],
         "yaxis": "y3"
        },
        {
         "marker": {
          "color": "#B6E880"
         },
         "name": "shisa-v2-qwen2.5-7b",
         "showlegend": false,
         "text": [
          "5.82"
         ],
         "textposition": "outside",
         "type": "bar",
         "x": [
          "shisa-v2-qwen2.5-7b"
         ],
         "xaxis": "x3",
         "y": [
          5.815789473684211
         ],
         "yaxis": "y3"
        },
        {
         "marker": {
          "color": "#dcb0f2"
         },
         "name": "aya-expanse-8b-abliterated",
         "showlegend": false,
         "text": [
          "6.03"
         ],
         "textposition": "outside",
         "type": "bar",
         "x": [
          "aya-expanse-8b-abliterated"
         ],
         "xaxis": "x3",
         "y": [
          6.025
         ],
         "yaxis": "y3"
        },
        {
         "marker": {
          "color": "#b3b3b3"
         },
         "name": "gemma-3-4b",
         "showlegend": false,
         "text": [
          "5.62"
         ],
         "textposition": "outside",
         "type": "bar",
         "x": [
          "gemma-3-4b"
         ],
         "xaxis": "x3",
         "y": [
          5.615384615384615
         ],
         "yaxis": "y3"
        },
        {
         "marker": {
          "color": "#EF553B"
         },
         "name": "qwen2.5-7b-instruct",
         "showlegend": false,
         "text": [
          "5.83"
         ],
         "textposition": "outside",
         "type": "bar",
         "x": [
          "qwen2.5-7b-instruct"
         ],
         "xaxis": "x3",
         "y": [
          5.825
         ],
         "yaxis": "y3"
        },
        {
         "marker": {
          "color": "#87c55f"
         },
         "name": "deepcogito_cogito-v1-preview-llama-8b",
         "showlegend": false,
         "text": [
          "4.95"
         ],
         "textposition": "outside",
         "type": "bar",
         "x": [
          "deepcogito_cogito-v1-preview-llama-8b"
         ],
         "xaxis": "x3",
         "y": [
          4.948717948717949
         ],
         "yaxis": "y3"
        },
        {
         "marker": {
          "color": "#FECB52"
         },
         "name": "llama-3.1-8b-instruct",
         "showlegend": false,
         "text": [
          "4.64"
         ],
         "textposition": "outside",
         "type": "bar",
         "x": [
          "llama-3.1-8b-instruct"
         ],
         "xaxis": "x3",
         "y": [
          4.641025641025641
         ],
         "yaxis": "y3"
        },
        {
         "marker": {
          "color": "#b497e7"
         },
         "name": "granite-3.3-8b-instruct",
         "showlegend": false,
         "text": [
          "4.75"
         ],
         "textposition": "outside",
         "type": "bar",
         "x": [
          "granite-3.3-8b-instruct"
         ],
         "xaxis": "x3",
         "y": [
          4.75
         ],
         "yaxis": "y3"
        },
        {
         "marker": {
          "color": "#19D3F3"
         },
         "name": "internvl3_5-8b",
         "showlegend": false,
         "text": [
          "3.92"
         ],
         "textposition": "outside",
         "type": "bar",
         "x": [
          "internvl3_5-8b"
         ],
         "xaxis": "x3",
         "y": [
          3.925
         ],
         "yaxis": "y3"
        },
        {
         "marker": {
          "color": "#c9db74"
         },
         "name": "hunyuan-mt-7b",
         "showlegend": false,
         "text": [
          "4.70"
         ],
         "textposition": "outside",
         "type": "bar",
         "x": [
          "hunyuan-mt-7b"
         ],
         "xaxis": "x3",
         "y": [
          4.702702702702703
         ],
         "yaxis": "y3"
        },
        {
         "marker": {
          "color": "#fe88b1"
         },
         "name": "dolphin3.0-llama3.1-8b",
         "showlegend": false,
         "text": [
          "4.36"
         ],
         "textposition": "outside",
         "type": "bar",
         "x": [
          "dolphin3.0-llama3.1-8b"
         ],
         "xaxis": "x3",
         "y": [
          4.358974358974359
         ],
         "yaxis": "y3"
        },
        {
         "marker": {
          "color": "#FFA15A"
         },
         "name": "hunyuan-mt-chimera-7b",
         "showlegend": false,
         "text": [
          "4.53"
         ],
         "textposition": "outside",
         "type": "bar",
         "x": [
          "hunyuan-mt-chimera-7b"
         ],
         "xaxis": "x3",
         "y": [
          4.525
         ],
         "yaxis": "y3"
        },
        {
         "marker": {
          "color": "#00CC96"
         },
         "name": "internvl3_5-4b",
         "showlegend": false,
         "text": [
          "3.21"
         ],
         "textposition": "outside",
         "type": "bar",
         "x": [
          "internvl3_5-4b"
         ],
         "xaxis": "x3",
         "y": [
          3.2051282051282053
         ],
         "yaxis": "y3"
        },
        {
         "marker": {
          "color": "#f6cf71"
         },
         "name": "aixsatoshi-honyaku-multi-translator-swallow-ms7b",
         "showlegend": false,
         "text": [
          "4.08"
         ],
         "textposition": "outside",
         "type": "bar",
         "x": [
          "aixsatoshi-honyaku-multi-translator-swallow-ms7b"
         ],
         "xaxis": "x3",
         "y": [
          4.075
         ],
         "yaxis": "y3"
        },
        {
         "marker": {
          "color": "#66c5cc"
         },
         "name": "gpt-4o",
         "showlegend": false,
         "text": [
          "8.42"
         ],
         "textposition": "outside",
         "type": "bar",
         "x": [
          "gpt-4o"
         ],
         "xaxis": "x4",
         "y": [
          8.416666666666666
         ],
         "yaxis": "y4"
        },
        {
         "marker": {
          "color": "#FF6692"
         },
         "name": "gemini-2.0-flash-lite",
         "showlegend": false,
         "text": [
          "7.81"
         ],
         "textposition": "outside",
         "type": "bar",
         "x": [
          "gemini-2.0-flash-lite"
         ],
         "xaxis": "x4",
         "y": [
          7.808333333333334
         ],
         "yaxis": "y4"
        },
        {
         "marker": {
          "color": "#AB63FA"
         },
         "name": "gemma-3-12b-it",
         "showlegend": false,
         "text": [
          "7.33"
         ],
         "textposition": "outside",
         "type": "bar",
         "x": [
          "gemma-3-12b-it"
         ],
         "xaxis": "x4",
         "y": [
          7.3277310924369745
         ],
         "yaxis": "y4"
        },
        {
         "marker": {
          "color": "#FF97FF"
         },
         "name": "qwen3-8b",
         "showlegend": false,
         "text": [
          "7.68"
         ],
         "textposition": "outside",
         "type": "bar",
         "x": [
          "qwen3-8b"
         ],
         "xaxis": "x4",
         "y": [
          7.683333333333334
         ],
         "yaxis": "y4"
        },
        {
         "marker": {
          "color": "#9eb9f3"
         },
         "name": "gemma-3n-e4b-it",
         "showlegend": false,
         "text": [
          "6.12"
         ],
         "textposition": "outside",
         "type": "bar",
         "x": [
          "gemma-3n-e4b-it"
         ],
         "xaxis": "x4",
         "y": [
          6.125
         ],
         "yaxis": "y4"
        },
        {
         "marker": {
          "color": "#f89c74"
         },
         "name": "shisa-v2-llama3.1-8b",
         "showlegend": false,
         "text": [
          "6.68"
         ],
         "textposition": "outside",
         "type": "bar",
         "x": [
          "shisa-v2-llama3.1-8b"
         ],
         "xaxis": "x4",
         "y": [
          6.680672268907563
         ],
         "yaxis": "y4"
        },
        {
         "marker": {
          "color": "#B6E880"
         },
         "name": "shisa-v2-qwen2.5-7b",
         "showlegend": false,
         "text": [
          "7.04"
         ],
         "textposition": "outside",
         "type": "bar",
         "x": [
          "shisa-v2-qwen2.5-7b"
         ],
         "xaxis": "x4",
         "y": [
          7.041666666666667
         ],
         "yaxis": "y4"
        },
        {
         "marker": {
          "color": "#dcb0f2"
         },
         "name": "aya-expanse-8b-abliterated",
         "showlegend": false,
         "text": [
          "6.60"
         ],
         "textposition": "outside",
         "type": "bar",
         "x": [
          "aya-expanse-8b-abliterated"
         ],
         "xaxis": "x4",
         "y": [
          6.6
         ],
         "yaxis": "y4"
        },
        {
         "marker": {
          "color": "#b3b3b3"
         },
         "name": "gemma-3-4b",
         "showlegend": false,
         "text": [
          "6.21"
         ],
         "textposition": "outside",
         "type": "bar",
         "x": [
          "gemma-3-4b"
         ],
         "xaxis": "x4",
         "y": [
          6.2100840336134455
         ],
         "yaxis": "y4"
        },
        {
         "marker": {
          "color": "#EF553B"
         },
         "name": "qwen2.5-7b-instruct",
         "showlegend": false,
         "text": [
          "6.82"
         ],
         "textposition": "outside",
         "type": "bar",
         "x": [
          "qwen2.5-7b-instruct"
         ],
         "xaxis": "x4",
         "y": [
          6.815126050420168
         ],
         "yaxis": "y4"
        },
        {
         "marker": {
          "color": "#87c55f"
         },
         "name": "deepcogito_cogito-v1-preview-llama-8b",
         "showlegend": false,
         "text": [
          "6.46"
         ],
         "textposition": "outside",
         "type": "bar",
         "x": [
          "deepcogito_cogito-v1-preview-llama-8b"
         ],
         "xaxis": "x4",
         "y": [
          6.458333333333333
         ],
         "yaxis": "y4"
        },
        {
         "marker": {
          "color": "#FECB52"
         },
         "name": "llama-3.1-8b-instruct",
         "showlegend": false,
         "text": [
          "6.19"
         ],
         "textposition": "outside",
         "type": "bar",
         "x": [
          "llama-3.1-8b-instruct"
         ],
         "xaxis": "x4",
         "y": [
          6.191666666666666
         ],
         "yaxis": "y4"
        },
        {
         "marker": {
          "color": "#b497e7"
         },
         "name": "granite-3.3-8b-instruct",
         "showlegend": false,
         "text": [
          "6.03"
         ],
         "textposition": "outside",
         "type": "bar",
         "x": [
          "granite-3.3-8b-instruct"
         ],
         "xaxis": "x4",
         "y": [
          6.025210084033613
         ],
         "yaxis": "y4"
        },
        {
         "marker": {
          "color": "#19D3F3"
         },
         "name": "internvl3_5-8b",
         "showlegend": false,
         "text": [
          "5.97"
         ],
         "textposition": "outside",
         "type": "bar",
         "x": [
          "internvl3_5-8b"
         ],
         "xaxis": "x4",
         "y": [
          5.966386554621849
         ],
         "yaxis": "y4"
        },
        {
         "marker": {
          "color": "#c9db74"
         },
         "name": "hunyuan-mt-7b",
         "showlegend": false,
         "text": [
          "5.35"
         ],
         "textposition": "outside",
         "type": "bar",
         "x": [
          "hunyuan-mt-7b"
         ],
         "xaxis": "x4",
         "y": [
          5.35
         ],
         "yaxis": "y4"
        },
        {
         "marker": {
          "color": "#fe88b1"
         },
         "name": "dolphin3.0-llama3.1-8b",
         "showlegend": false,
         "text": [
          "5.59"
         ],
         "textposition": "outside",
         "type": "bar",
         "x": [
          "dolphin3.0-llama3.1-8b"
         ],
         "xaxis": "x4",
         "y": [
          5.591666666666667
         ],
         "yaxis": "y4"
        },
        {
         "marker": {
          "color": "#FFA15A"
         },
         "name": "hunyuan-mt-chimera-7b",
         "showlegend": false,
         "text": [
          "4.86"
         ],
         "textposition": "outside",
         "type": "bar",
         "x": [
          "hunyuan-mt-chimera-7b"
         ],
         "xaxis": "x4",
         "y": [
          4.858333333333333
         ],
         "yaxis": "y4"
        },
        {
         "marker": {
          "color": "#00CC96"
         },
         "name": "internvl3_5-4b",
         "showlegend": false,
         "text": [
          "5.09"
         ],
         "textposition": "outside",
         "type": "bar",
         "x": [
          "internvl3_5-4b"
         ],
         "xaxis": "x4",
         "y": [
          5.091666666666667
         ],
         "yaxis": "y4"
        },
        {
         "marker": {
          "color": "#f6cf71"
         },
         "name": "aixsatoshi-honyaku-multi-translator-swallow-ms7b",
         "showlegend": false,
         "text": [
          "2.99"
         ],
         "textposition": "outside",
         "type": "bar",
         "x": [
          "aixsatoshi-honyaku-multi-translator-swallow-ms7b"
         ],
         "xaxis": "x4",
         "y": [
          2.9916666666666667
         ],
         "yaxis": "y4"
        },
        {
         "marker": {
          "color": "#66c5cc"
         },
         "name": "gpt-4o",
         "showlegend": false,
         "text": [
          "8.30"
         ],
         "textposition": "outside",
         "type": "bar",
         "x": [
          "gpt-4o"
         ],
         "xaxis": "x5",
         "y": [
          8.304166666666667
         ],
         "yaxis": "y5"
        },
        {
         "marker": {
          "color": "#FF6692"
         },
         "name": "gemini-2.0-flash-lite",
         "showlegend": false,
         "text": [
          "7.68"
         ],
         "textposition": "outside",
         "type": "bar",
         "x": [
          "gemini-2.0-flash-lite"
         ],
         "xaxis": "x5",
         "y": [
          7.6775
         ],
         "yaxis": "y5"
        },
        {
         "marker": {
          "color": "#AB63FA"
         },
         "name": "gemma-3-12b-it",
         "showlegend": false,
         "text": [
          "7.37"
         ],
         "textposition": "outside",
         "type": "bar",
         "x": [
          "gemma-3-12b-it"
         ],
         "xaxis": "x5",
         "y": [
          7.369166666666667
         ],
         "yaxis": "y5"
        },
        {
         "marker": {
          "color": "#FF97FF"
         },
         "name": "qwen3-8b",
         "showlegend": false,
         "text": [
          "6.39"
         ],
         "textposition": "outside",
         "type": "bar",
         "x": [
          "qwen3-8b"
         ],
         "xaxis": "x5",
         "y": [
          6.3925
         ],
         "yaxis": "y5"
        },
        {
         "marker": {
          "color": "#9eb9f3"
         },
         "name": "gemma-3n-e4b-it",
         "showlegend": false,
         "text": [
          "7.69"
         ],
         "textposition": "outside",
         "type": "bar",
         "x": [
          "gemma-3n-e4b-it"
         ],
         "xaxis": "x5",
         "y": [
          7.694166666666666
         ],
         "yaxis": "y5"
        },
        {
         "marker": {
          "color": "#f89c74"
         },
         "name": "shisa-v2-llama3.1-8b",
         "showlegend": false,
         "text": [
          "6.81"
         ],
         "textposition": "outside",
         "type": "bar",
         "x": [
          "shisa-v2-llama3.1-8b"
         ],
         "xaxis": "x5",
         "y": [
          6.805833333333334
         ],
         "yaxis": "y5"
        },
        {
         "marker": {
          "color": "#B6E880"
         },
         "name": "shisa-v2-qwen2.5-7b",
         "showlegend": false,
         "text": [
          "6.68"
         ],
         "textposition": "outside",
         "type": "bar",
         "x": [
          "shisa-v2-qwen2.5-7b"
         ],
         "xaxis": "x5",
         "y": [
          6.685
         ],
         "yaxis": "y5"
        },
        {
         "marker": {
          "color": "#dcb0f2"
         },
         "name": "aya-expanse-8b-abliterated",
         "showlegend": false,
         "text": [
          "6.66"
         ],
         "textposition": "outside",
         "type": "bar",
         "x": [
          "aya-expanse-8b-abliterated"
         ],
         "xaxis": "x5",
         "y": [
          6.655833333333334
         ],
         "yaxis": "y5"
        },
        {
         "marker": {
          "color": "#b3b3b3"
         },
         "name": "gemma-3-4b",
         "showlegend": false,
         "text": [
          "6.42"
         ],
         "textposition": "outside",
         "type": "bar",
         "x": [
          "gemma-3-4b"
         ],
         "xaxis": "x5",
         "y": [
          6.416666666666666
         ],
         "yaxis": "y5"
        },
        {
         "marker": {
          "color": "#EF553B"
         },
         "name": "qwen2.5-7b-instruct",
         "showlegend": false,
         "text": [
          "6.56"
         ],
         "textposition": "outside",
         "type": "bar",
         "x": [
          "qwen2.5-7b-instruct"
         ],
         "xaxis": "x5",
         "y": [
          6.564166666666666
         ],
         "yaxis": "y5"
        },
        {
         "marker": {
          "color": "#87c55f"
         },
         "name": "deepcogito_cogito-v1-preview-llama-8b",
         "showlegend": false,
         "text": [
          "6.56"
         ],
         "textposition": "outside",
         "type": "bar",
         "x": [
          "deepcogito_cogito-v1-preview-llama-8b"
         ],
         "xaxis": "x5",
         "y": [
          6.559166666666666
         ],
         "yaxis": "y5"
        },
        {
         "marker": {
          "color": "#FECB52"
         },
         "name": "llama-3.1-8b-instruct",
         "showlegend": false,
         "text": [
          "6.25"
         ],
         "textposition": "outside",
         "type": "bar",
         "x": [
          "llama-3.1-8b-instruct"
         ],
         "xaxis": "x5",
         "y": [
          6.245
         ],
         "yaxis": "y5"
        },
        {
         "marker": {
          "color": "#b497e7"
         },
         "name": "granite-3.3-8b-instruct",
         "showlegend": false,
         "text": [
          "6.25"
         ],
         "textposition": "outside",
         "type": "bar",
         "x": [
          "granite-3.3-8b-instruct"
         ],
         "xaxis": "x5",
         "y": [
          6.2525
         ],
         "yaxis": "y5"
        },
        {
         "marker": {
          "color": "#19D3F3"
         },
         "name": "internvl3_5-8b",
         "showlegend": false,
         "text": [
          "6.55"
         ],
         "textposition": "outside",
         "type": "bar",
         "x": [
          "internvl3_5-8b"
         ],
         "xaxis": "x5",
         "y": [
          6.55
         ],
         "yaxis": "y5"
        },
        {
         "marker": {
          "color": "#c9db74"
         },
         "name": "hunyuan-mt-7b",
         "showlegend": false,
         "text": [
          "6.47"
         ],
         "textposition": "outside",
         "type": "bar",
         "x": [
          "hunyuan-mt-7b"
         ],
         "xaxis": "x5",
         "y": [
          6.469166666666666
         ],
         "yaxis": "y5"
        },
        {
         "marker": {
          "color": "#fe88b1"
         },
         "name": "dolphin3.0-llama3.1-8b",
         "showlegend": false,
         "text": [
          "5.99"
         ],
         "textposition": "outside",
         "type": "bar",
         "x": [
          "dolphin3.0-llama3.1-8b"
         ],
         "xaxis": "x5",
         "y": [
          5.989166666666666
         ],
         "yaxis": "y5"
        },
        {
         "marker": {
          "color": "#FFA15A"
         },
         "name": "hunyuan-mt-chimera-7b",
         "showlegend": false,
         "text": [
          "6.58"
         ],
         "textposition": "outside",
         "type": "bar",
         "x": [
          "hunyuan-mt-chimera-7b"
         ],
         "xaxis": "x5",
         "y": [
          6.5775
         ],
         "yaxis": "y5"
        },
        {
         "marker": {
          "color": "#00CC96"
         },
         "name": "internvl3_5-4b",
         "showlegend": false,
         "text": [
          "5.69"
         ],
         "textposition": "outside",
         "type": "bar",
         "x": [
          "internvl3_5-4b"
         ],
         "xaxis": "x5",
         "y": [
          5.6925
         ],
         "yaxis": "y5"
        },
        {
         "marker": {
          "color": "#f6cf71"
         },
         "name": "aixsatoshi-honyaku-multi-translator-swallow-ms7b",
         "showlegend": false,
         "text": [
          "2.81"
         ],
         "textposition": "outside",
         "type": "bar",
         "x": [
          "aixsatoshi-honyaku-multi-translator-swallow-ms7b"
         ],
         "xaxis": "x5",
         "y": [
          2.813333333333333
         ],
         "yaxis": "y5"
        },
        {
         "marker": {
          "color": "#66c5cc"
         },
         "name": "gpt-4o",
         "showlegend": false,
         "text": [
          "8.43"
         ],
         "textposition": "outside",
         "type": "bar",
         "x": [
          "gpt-4o"
         ],
         "xaxis": "x6",
         "y": [
          8.427166666666666
         ],
         "yaxis": "y6"
        },
        {
         "marker": {
          "color": "#FF6692"
         },
         "name": "gemini-2.0-flash-lite",
         "showlegend": false,
         "text": [
          "7.71"
         ],
         "textposition": "outside",
         "type": "bar",
         "x": [
          "gemini-2.0-flash-lite"
         ],
         "xaxis": "x6",
         "y": [
          7.712833333333333
         ],
         "yaxis": "y6"
        },
        {
         "marker": {
          "color": "#AB63FA"
         },
         "name": "gemma-3-12b-it",
         "showlegend": false,
         "text": [
          "7.27"
         ],
         "textposition": "outside",
         "type": "bar",
         "x": [
          "gemma-3-12b-it"
         ],
         "xaxis": "x6",
         "y": [
          7.265712885154062
         ],
         "yaxis": "y6"
        },
        {
         "marker": {
          "color": "#FF97FF"
         },
         "name": "qwen3-8b",
         "showlegend": false,
         "text": [
          "6.82"
         ],
         "textposition": "outside",
         "type": "bar",
         "x": [
          "qwen3-8b"
         ],
         "xaxis": "x6",
         "y": [
          6.815166666666667
         ],
         "yaxis": "y6"
        },
        {
         "marker": {
          "color": "#9eb9f3"
         },
         "name": "gemma-3n-e4b-it",
         "showlegend": false,
         "text": [
          "6.85"
         ],
         "textposition": "outside",
         "type": "bar",
         "x": [
          "gemma-3n-e4b-it"
         ],
         "xaxis": "x6",
         "y": [
          6.846500000000001
         ],
         "yaxis": "y6"
        },
        {
         "marker": {
          "color": "#f89c74"
         },
         "name": "shisa-v2-llama3.1-8b",
         "showlegend": false,
         "text": [
          "6.69"
         ],
         "textposition": "outside",
         "type": "bar",
         "x": [
          "shisa-v2-llama3.1-8b"
         ],
         "xaxis": "x6",
         "y": [
          6.688737017884077
         ],
         "yaxis": "y6"
        },
        {
         "marker": {
          "color": "#B6E880"
         },
         "name": "shisa-v2-qwen2.5-7b",
         "showlegend": false,
         "text": [
          "6.63"
         ],
         "textposition": "outside",
         "type": "bar",
         "x": [
          "shisa-v2-qwen2.5-7b"
         ],
         "xaxis": "x6",
         "y": [
          6.628491228070176
         ],
         "yaxis": "y6"
        },
        {
         "marker": {
          "color": "#dcb0f2"
         },
         "name": "aya-expanse-8b-abliterated",
         "showlegend": false,
         "text": [
          "6.42"
         ],
         "textposition": "outside",
         "type": "bar",
         "x": [
          "aya-expanse-8b-abliterated"
         ],
         "xaxis": "x6",
         "y": [
          6.4235
         ],
         "yaxis": "y6"
        },
        {
         "marker": {
          "color": "#b3b3b3"
         },
         "name": "gemma-3-4b",
         "showlegend": false,
         "text": [
          "6.19"
         ],
         "textposition": "outside",
         "type": "bar",
         "x": [
          "gemma-3-4b"
         ],
         "xaxis": "x6",
         "y": [
          6.1924270631329446
         ],
         "yaxis": "y6"
        },
        {
         "marker": {
          "color": "#EF553B"
         },
         "name": "qwen2.5-7b-instruct",
         "showlegend": false,
         "text": [
          "6.33"
         ],
         "textposition": "outside",
         "type": "bar",
         "x": [
          "qwen2.5-7b-instruct"
         ],
         "xaxis": "x6",
         "y": [
          6.3261918767507
         ],
         "yaxis": "y6"
        },
        {
         "marker": {
          "color": "#87c55f"
         },
         "name": "deepcogito_cogito-v1-preview-llama-8b",
         "showlegend": false,
         "text": [
          "5.97"
         ],
         "textposition": "outside",
         "type": "bar",
         "x": [
          "deepcogito_cogito-v1-preview-llama-8b"
         ],
         "xaxis": "x6",
         "y": [
          5.971910256410256
         ],
         "yaxis": "y6"
        },
        {
         "marker": {
          "color": "#FECB52"
         },
         "name": "llama-3.1-8b-instruct",
         "showlegend": false,
         "text": [
          "5.65"
         ],
         "textposition": "outside",
         "type": "bar",
         "x": [
          "llama-3.1-8b-instruct"
         ],
         "xaxis": "x6",
         "y": [
          5.652871794871794
         ],
         "yaxis": "y6"
        },
        {
         "marker": {
          "color": "#b497e7"
         },
         "name": "granite-3.3-8b-instruct",
         "showlegend": false,
         "text": [
          "5.65"
         ],
         "textposition": "outside",
         "type": "bar",
         "x": [
          "granite-3.3-8b-instruct"
         ],
         "xaxis": "x6",
         "y": [
          5.65420868347339
         ],
         "yaxis": "y6"
        },
        {
         "marker": {
          "color": "#19D3F3"
         },
         "name": "internvl3_5-8b",
         "showlegend": false,
         "text": [
          "5.28"
         ],
         "textposition": "outside",
         "type": "bar",
         "x": [
          "internvl3_5-8b"
         ],
         "xaxis": "x6",
         "y": [
          5.2836106442577035
         ],
         "yaxis": "y6"
        },
        {
         "marker": {
          "color": "#c9db74"
         },
         "name": "hunyuan-mt-7b",
         "showlegend": false,
         "text": [
          "5.31"
         ],
         "textposition": "outside",
         "type": "bar",
         "x": [
          "hunyuan-mt-7b"
         ],
         "xaxis": "x6",
         "y": [
          5.308373873873874
         ],
         "yaxis": "y6"
        },
        {
         "marker": {
          "color": "#fe88b1"
         },
         "name": "dolphin3.0-llama3.1-8b",
         "showlegend": false,
         "text": [
          "5.24"
         ],
         "textposition": "outside",
         "type": "bar",
         "x": [
          "dolphin3.0-llama3.1-8b"
         ],
         "xaxis": "x6",
         "y": [
          5.238628205128205
         ],
         "yaxis": "y6"
        },
        {
         "marker": {
          "color": "#FFA15A"
         },
         "name": "hunyuan-mt-chimera-7b",
         "showlegend": false,
         "text": [
          "5.00"
         ],
         "textposition": "outside",
         "type": "bar",
         "x": [
          "hunyuan-mt-chimera-7b"
         ],
         "xaxis": "x6",
         "y": [
          5.002833333333333
         ],
         "yaxis": "y6"
        },
        {
         "marker": {
          "color": "#00CC96"
         },
         "name": "internvl3_5-4b",
         "showlegend": false,
         "text": [
          "4.60"
         ],
         "textposition": "outside",
         "type": "bar",
         "x": [
          "internvl3_5-4b"
         ],
         "xaxis": "x6",
         "y": [
          4.595858974358974
         ],
         "yaxis": "y6"
        },
        {
         "marker": {
          "color": "#f6cf71"
         },
         "name": "aixsatoshi-honyaku-multi-translator-swallow-ms7b",
         "showlegend": false,
         "text": [
          "3.26"
         ],
         "textposition": "outside",
         "type": "bar",
         "x": [
          "aixsatoshi-honyaku-multi-translator-swallow-ms7b"
         ],
         "xaxis": "x6",
         "y": [
          3.261333333333333
         ],
         "yaxis": "y6"
        }
       ],
       "layout": {
        "annotations": [
         {
          "font": {
           "size": 16
          },
          "showarrow": false,
          "text": "ELYZA-Tasks-100",
          "x": 0.2375,
          "xanchor": "center",
          "xref": "paper",
          "y": 1,
          "yanchor": "bottom",
          "yref": "paper"
         },
         {
          "font": {
           "size": 16
          },
          "showarrow": false,
          "text": "MT-Bench-60",
          "x": 0.7625,
          "xanchor": "center",
          "xref": "paper",
          "y": 1,
          "yanchor": "bottom",
          "yref": "paper"
         },
         {
          "font": {
           "size": 16
          },
          "showarrow": false,
          "text": "Rakuda-40",
          "x": 0.2375,
          "xanchor": "center",
          "xref": "paper",
          "y": 0.6333333333333333,
          "yanchor": "bottom",
          "yref": "paper"
         },
         {
          "font": {
           "size": 16
          },
          "showarrow": false,
          "text": "Tengu-Bench-120",
          "x": 0.7625,
          "xanchor": "center",
          "xref": "paper",
          "y": 0.6333333333333333,
          "yanchor": "bottom",
          "yref": "paper"
         },
         {
          "font": {
           "size": 16
          },
          "showarrow": false,
          "text": "VNTL-Translation-200",
          "x": 0.2375,
          "xanchor": "center",
          "xref": "paper",
          "y": 0.26666666666666666,
          "yanchor": "bottom",
          "yref": "paper"
         },
         {
          "font": {
           "size": 16
          },
          "showarrow": false,
          "text": "Average",
          "x": 0.7625,
          "xanchor": "center",
          "xref": "paper",
          "y": 0.26666666666666666,
          "yanchor": "bottom",
          "yref": "paper"
         }
        ],
        "bargap": 0.01,
        "bargroupgap": 0.01,
        "barmode": "group",
        "height": 1000,
        "legend": {
         "title": {
          "text": "Model"
         }
        },
        "template": {
         "data": {
          "bar": [
           {
            "error_x": {
             "color": "#2a3f5f"
            },
            "error_y": {
             "color": "#2a3f5f"
            },
            "marker": {
             "line": {
              "color": "white",
              "width": 0.5
             },
             "pattern": {
              "fillmode": "overlay",
              "size": 10,
              "solidity": 0.2
             }
            },
            "type": "bar"
           }
          ],
          "barpolar": [
           {
            "marker": {
             "line": {
              "color": "white",
              "width": 0.5
             },
             "pattern": {
              "fillmode": "overlay",
              "size": 10,
              "solidity": 0.2
             }
            },
            "type": "barpolar"
           }
          ],
          "carpet": [
           {
            "aaxis": {
             "endlinecolor": "#2a3f5f",
             "gridcolor": "#C8D4E3",
             "linecolor": "#C8D4E3",
             "minorgridcolor": "#C8D4E3",
             "startlinecolor": "#2a3f5f"
            },
            "baxis": {
             "endlinecolor": "#2a3f5f",
             "gridcolor": "#C8D4E3",
             "linecolor": "#C8D4E3",
             "minorgridcolor": "#C8D4E3",
             "startlinecolor": "#2a3f5f"
            },
            "type": "carpet"
           }
          ],
          "choropleth": [
           {
            "colorbar": {
             "outlinewidth": 0,
             "ticks": ""
            },
            "type": "choropleth"
           }
          ],
          "contour": [
           {
            "colorbar": {
             "outlinewidth": 0,
             "ticks": ""
            },
            "colorscale": [
             [
              0,
              "#0d0887"
             ],
             [
              0.1111111111111111,
              "#46039f"
             ],
             [
              0.2222222222222222,
              "#7201a8"
             ],
             [
              0.3333333333333333,
              "#9c179e"
             ],
             [
              0.4444444444444444,
              "#bd3786"
             ],
             [
              0.5555555555555556,
              "#d8576b"
             ],
             [
              0.6666666666666666,
              "#ed7953"
             ],
             [
              0.7777777777777778,
              "#fb9f3a"
             ],
             [
              0.8888888888888888,
              "#fdca26"
             ],
             [
              1,
              "#f0f921"
             ]
            ],
            "type": "contour"
           }
          ],
          "contourcarpet": [
           {
            "colorbar": {
             "outlinewidth": 0,
             "ticks": ""
            },
            "type": "contourcarpet"
           }
          ],
          "heatmap": [
           {
            "colorbar": {
             "outlinewidth": 0,
             "ticks": ""
            },
            "colorscale": [
             [
              0,
              "#0d0887"
             ],
             [
              0.1111111111111111,
              "#46039f"
             ],
             [
              0.2222222222222222,
              "#7201a8"
             ],
             [
              0.3333333333333333,
              "#9c179e"
             ],
             [
              0.4444444444444444,
              "#bd3786"
             ],
             [
              0.5555555555555556,
              "#d8576b"
             ],
             [
              0.6666666666666666,
              "#ed7953"
             ],
             [
              0.7777777777777778,
              "#fb9f3a"
             ],
             [
              0.8888888888888888,
              "#fdca26"
             ],
             [
              1,
              "#f0f921"
             ]
            ],
            "type": "heatmap"
           }
          ],
          "histogram": [
           {
            "marker": {
             "pattern": {
              "fillmode": "overlay",
              "size": 10,
              "solidity": 0.2
             }
            },
            "type": "histogram"
           }
          ],
          "histogram2d": [
           {
            "colorbar": {
             "outlinewidth": 0,
             "ticks": ""
            },
            "colorscale": [
             [
              0,
              "#0d0887"
             ],
             [
              0.1111111111111111,
              "#46039f"
             ],
             [
              0.2222222222222222,
              "#7201a8"
             ],
             [
              0.3333333333333333,
              "#9c179e"
             ],
             [
              0.4444444444444444,
              "#bd3786"
             ],
             [
              0.5555555555555556,
              "#d8576b"
             ],
             [
              0.6666666666666666,
              "#ed7953"
             ],
             [
              0.7777777777777778,
              "#fb9f3a"
             ],
             [
              0.8888888888888888,
              "#fdca26"
             ],
             [
              1,
              "#f0f921"
             ]
            ],
            "type": "histogram2d"
           }
          ],
          "histogram2dcontour": [
           {
            "colorbar": {
             "outlinewidth": 0,
             "ticks": ""
            },
            "colorscale": [
             [
              0,
              "#0d0887"
             ],
             [
              0.1111111111111111,
              "#46039f"
             ],
             [
              0.2222222222222222,
              "#7201a8"
             ],
             [
              0.3333333333333333,
              "#9c179e"
             ],
             [
              0.4444444444444444,
              "#bd3786"
             ],
             [
              0.5555555555555556,
              "#d8576b"
             ],
             [
              0.6666666666666666,
              "#ed7953"
             ],
             [
              0.7777777777777778,
              "#fb9f3a"
             ],
             [
              0.8888888888888888,
              "#fdca26"
             ],
             [
              1,
              "#f0f921"
             ]
            ],
            "type": "histogram2dcontour"
           }
          ],
          "mesh3d": [
           {
            "colorbar": {
             "outlinewidth": 0,
             "ticks": ""
            },
            "type": "mesh3d"
           }
          ],
          "parcoords": [
           {
            "line": {
             "colorbar": {
              "outlinewidth": 0,
              "ticks": ""
             }
            },
            "type": "parcoords"
           }
          ],
          "pie": [
           {
            "automargin": true,
            "type": "pie"
           }
          ],
          "scatter": [
           {
            "fillpattern": {
             "fillmode": "overlay",
             "size": 10,
             "solidity": 0.2
            },
            "type": "scatter"
           }
          ],
          "scatter3d": [
           {
            "line": {
             "colorbar": {
              "outlinewidth": 0,
              "ticks": ""
             }
            },
            "marker": {
             "colorbar": {
              "outlinewidth": 0,
              "ticks": ""
             }
            },
            "type": "scatter3d"
           }
          ],
          "scattercarpet": [
           {
            "marker": {
             "colorbar": {
              "outlinewidth": 0,
              "ticks": ""
             }
            },
            "type": "scattercarpet"
           }
          ],
          "scattergeo": [
           {
            "marker": {
             "colorbar": {
              "outlinewidth": 0,
              "ticks": ""
             }
            },
            "type": "scattergeo"
           }
          ],
          "scattergl": [
           {
            "marker": {
             "colorbar": {
              "outlinewidth": 0,
              "ticks": ""
             }
            },
            "type": "scattergl"
           }
          ],
          "scattermap": [
           {
            "marker": {
             "colorbar": {
              "outlinewidth": 0,
              "ticks": ""
             }
            },
            "type": "scattermap"
           }
          ],
          "scattermapbox": [
           {
            "marker": {
             "colorbar": {
              "outlinewidth": 0,
              "ticks": ""
             }
            },
            "type": "scattermapbox"
           }
          ],
          "scatterpolar": [
           {
            "marker": {
             "colorbar": {
              "outlinewidth": 0,
              "ticks": ""
             }
            },
            "type": "scatterpolar"
           }
          ],
          "scatterpolargl": [
           {
            "marker": {
             "colorbar": {
              "outlinewidth": 0,
              "ticks": ""
             }
            },
            "type": "scatterpolargl"
           }
          ],
          "scatterternary": [
           {
            "marker": {
             "colorbar": {
              "outlinewidth": 0,
              "ticks": ""
             }
            },
            "type": "scatterternary"
           }
          ],
          "surface": [
           {
            "colorbar": {
             "outlinewidth": 0,
             "ticks": ""
            },
            "colorscale": [
             [
              0,
              "#0d0887"
             ],
             [
              0.1111111111111111,
              "#46039f"
             ],
             [
              0.2222222222222222,
              "#7201a8"
             ],
             [
              0.3333333333333333,
              "#9c179e"
             ],
             [
              0.4444444444444444,
              "#bd3786"
             ],
             [
              0.5555555555555556,
              "#d8576b"
             ],
             [
              0.6666666666666666,
              "#ed7953"
             ],
             [
              0.7777777777777778,
              "#fb9f3a"
             ],
             [
              0.8888888888888888,
              "#fdca26"
             ],
             [
              1,
              "#f0f921"
             ]
            ],
            "type": "surface"
           }
          ],
          "table": [
           {
            "cells": {
             "fill": {
              "color": "#EBF0F8"
             },
             "line": {
              "color": "white"
             }
            },
            "header": {
             "fill": {
              "color": "#C8D4E3"
             },
             "line": {
              "color": "white"
             }
            },
            "type": "table"
           }
          ]
         },
         "layout": {
          "annotationdefaults": {
           "arrowcolor": "#2a3f5f",
           "arrowhead": 0,
           "arrowwidth": 1
          },
          "autotypenumbers": "strict",
          "coloraxis": {
           "colorbar": {
            "outlinewidth": 0,
            "ticks": ""
           }
          },
          "colorscale": {
           "diverging": [
            [
             0,
             "#8e0152"
            ],
            [
             0.1,
             "#c51b7d"
            ],
            [
             0.2,
             "#de77ae"
            ],
            [
             0.3,
             "#f1b6da"
            ],
            [
             0.4,
             "#fde0ef"
            ],
            [
             0.5,
             "#f7f7f7"
            ],
            [
             0.6,
             "#e6f5d0"
            ],
            [
             0.7,
             "#b8e186"
            ],
            [
             0.8,
             "#7fbc41"
            ],
            [
             0.9,
             "#4d9221"
            ],
            [
             1,
             "#276419"
            ]
           ],
           "sequential": [
            [
             0,
             "#0d0887"
            ],
            [
             0.1111111111111111,
             "#46039f"
            ],
            [
             0.2222222222222222,
             "#7201a8"
            ],
            [
             0.3333333333333333,
             "#9c179e"
            ],
            [
             0.4444444444444444,
             "#bd3786"
            ],
            [
             0.5555555555555556,
             "#d8576b"
            ],
            [
             0.6666666666666666,
             "#ed7953"
            ],
            [
             0.7777777777777778,
             "#fb9f3a"
            ],
            [
             0.8888888888888888,
             "#fdca26"
            ],
            [
             1,
             "#f0f921"
            ]
           ],
           "sequentialminus": [
            [
             0,
             "#0d0887"
            ],
            [
             0.1111111111111111,
             "#46039f"
            ],
            [
             0.2222222222222222,
             "#7201a8"
            ],
            [
             0.3333333333333333,
             "#9c179e"
            ],
            [
             0.4444444444444444,
             "#bd3786"
            ],
            [
             0.5555555555555556,
             "#d8576b"
            ],
            [
             0.6666666666666666,
             "#ed7953"
            ],
            [
             0.7777777777777778,
             "#fb9f3a"
            ],
            [
             0.8888888888888888,
             "#fdca26"
            ],
            [
             1,
             "#f0f921"
            ]
           ]
          },
          "colorway": [
           "#636efa",
           "#EF553B",
           "#00cc96",
           "#ab63fa",
           "#FFA15A",
           "#19d3f3",
           "#FF6692",
           "#B6E880",
           "#FF97FF",
           "#FECB52"
          ],
          "font": {
           "color": "#2a3f5f"
          },
          "geo": {
           "bgcolor": "white",
           "lakecolor": "white",
           "landcolor": "white",
           "showlakes": true,
           "showland": true,
           "subunitcolor": "#C8D4E3"
          },
          "hoverlabel": {
           "align": "left"
          },
          "hovermode": "closest",
          "mapbox": {
           "style": "light"
          },
          "paper_bgcolor": "white",
          "plot_bgcolor": "white",
          "polar": {
           "angularaxis": {
            "gridcolor": "#EBF0F8",
            "linecolor": "#EBF0F8",
            "ticks": ""
           },
           "bgcolor": "white",
           "radialaxis": {
            "gridcolor": "#EBF0F8",
            "linecolor": "#EBF0F8",
            "ticks": ""
           }
          },
          "scene": {
           "xaxis": {
            "backgroundcolor": "white",
            "gridcolor": "#DFE8F3",
            "gridwidth": 2,
            "linecolor": "#EBF0F8",
            "showbackground": true,
            "ticks": "",
            "zerolinecolor": "#EBF0F8"
           },
           "yaxis": {
            "backgroundcolor": "white",
            "gridcolor": "#DFE8F3",
            "gridwidth": 2,
            "linecolor": "#EBF0F8",
            "showbackground": true,
            "ticks": "",
            "zerolinecolor": "#EBF0F8"
           },
           "zaxis": {
            "backgroundcolor": "white",
            "gridcolor": "#DFE8F3",
            "gridwidth": 2,
            "linecolor": "#EBF0F8",
            "showbackground": true,
            "ticks": "",
            "zerolinecolor": "#EBF0F8"
           }
          },
          "shapedefaults": {
           "line": {
            "color": "#2a3f5f"
           }
          },
          "ternary": {
           "aaxis": {
            "gridcolor": "#DFE8F3",
            "linecolor": "#A2B1C6",
            "ticks": ""
           },
           "baxis": {
            "gridcolor": "#DFE8F3",
            "linecolor": "#A2B1C6",
            "ticks": ""
           },
           "bgcolor": "white",
           "caxis": {
            "gridcolor": "#DFE8F3",
            "linecolor": "#A2B1C6",
            "ticks": ""
           }
          },
          "title": {
           "x": 0.05
          },
          "xaxis": {
           "automargin": true,
           "gridcolor": "#EBF0F8",
           "linecolor": "#EBF0F8",
           "ticks": "",
           "title": {
            "standoff": 15
           },
           "zerolinecolor": "#EBF0F8",
           "zerolinewidth": 2
          },
          "yaxis": {
           "automargin": true,
           "gridcolor": "#EBF0F8",
           "linecolor": "#EBF0F8",
           "ticks": "",
           "title": {
            "standoff": 15
           },
           "zerolinecolor": "#EBF0F8",
           "zerolinewidth": 2
          }
         }
        },
        "title": {
         "text": "Model Score Comparison - Vertical<br><sup>Judge: gpt-5-mini | 4B - 8B Model Range</sup>",
         "x": 0.5
        },
        "width": 1200,
        "xaxis": {
         "anchor": "y",
         "domain": [
          0,
          0.475
         ],
         "showticklabels": false
        },
        "xaxis2": {
         "anchor": "y2",
         "domain": [
          0.525,
          1
         ],
         "showticklabels": false
        },
        "xaxis3": {
         "anchor": "y3",
         "domain": [
          0,
          0.475
         ],
         "showticklabels": false
        },
        "xaxis4": {
         "anchor": "y4",
         "domain": [
          0.525,
          1
         ],
         "showticklabels": false
        },
        "xaxis5": {
         "anchor": "y5",
         "domain": [
          0,
          0.475
         ],
         "showticklabels": false
        },
        "xaxis6": {
         "anchor": "y6",
         "domain": [
          0.525,
          1
         ],
         "showticklabels": false
        },
        "yaxis": {
         "anchor": "x",
         "domain": [
          0.7333333333333334,
          1
         ],
         "range": [
          0,
          10.5
         ]
        },
        "yaxis2": {
         "anchor": "x2",
         "domain": [
          0.7333333333333334,
          1
         ],
         "range": [
          0,
          10.5
         ]
        },
        "yaxis3": {
         "anchor": "x3",
         "domain": [
          0.3666666666666667,
          0.6333333333333333
         ],
         "range": [
          0,
          10.5
         ]
        },
        "yaxis4": {
         "anchor": "x4",
         "domain": [
          0.3666666666666667,
          0.6333333333333333
         ],
         "range": [
          0,
          10.5
         ]
        },
        "yaxis5": {
         "anchor": "x5",
         "domain": [
          0,
          0.26666666666666666
         ],
         "range": [
          0,
          10.5
         ]
        },
        "yaxis6": {
         "anchor": "x6",
         "domain": [
          0,
          0.26666666666666666
         ],
         "range": [
          0,
          10.5
         ]
        }
       }
      }
     },
     "metadata": {},
     "output_type": "display_data"
    },
    {
     "data": {
      "application/vnd.plotly.v1+json": {
       "config": {
        "plotlyServerURL": "https://plot.ly"
       },
       "data": [
        {
         "marker": {
          "color": "#66c5cc"
         },
         "name": "gpt-4o",
         "showlegend": true,
         "text": [
          "9.18"
         ],
         "textposition": "outside",
         "type": "bar",
         "x": [
          "gpt-4o"
         ],
         "xaxis": "x",
         "y": [
          9.18
         ],
         "yaxis": "y"
        },
        {
         "marker": {
          "color": "#FF6692"
         },
         "name": "gemini-2.0-flash-lite",
         "showlegend": true,
         "text": [
          "8.16"
         ],
         "textposition": "outside",
         "type": "bar",
         "x": [
          "gemini-2.0-flash-lite"
         ],
         "xaxis": "x",
         "y": [
          8.16
         ],
         "yaxis": "y"
        },
        {
         "marker": {
          "color": "#AB63FA"
         },
         "name": "gemma-3-12b-it",
         "showlegend": true,
         "text": [
          "8.28"
         ],
         "textposition": "outside",
         "type": "bar",
         "x": [
          "gemma-3-12b-it"
         ],
         "xaxis": "x",
         "y": [
          8.28
         ],
         "yaxis": "y"
        },
        {
         "marker": {
          "color": "#FF97FF"
         },
         "name": "qwen3-8b",
         "showlegend": true,
         "text": [
          "7.85"
         ],
         "textposition": "outside",
         "type": "bar",
         "x": [
          "qwen3-8b"
         ],
         "xaxis": "x",
         "y": [
          7.85
         ],
         "yaxis": "y"
        },
        {
         "marker": {
          "color": "#9eb9f3"
         },
         "name": "gemma-3n-e4b-it",
         "showlegend": true,
         "text": [
          "7.01"
         ],
         "textposition": "outside",
         "type": "bar",
         "x": [
          "gemma-3n-e4b-it"
         ],
         "xaxis": "x",
         "y": [
          7.01
         ],
         "yaxis": "y"
        },
        {
         "marker": {
          "color": "#f89c74"
         },
         "name": "shisa-v2-llama3.1-8b",
         "showlegend": true,
         "text": [
          "7.54"
         ],
         "textposition": "outside",
         "type": "bar",
         "x": [
          "shisa-v2-llama3.1-8b"
         ],
         "xaxis": "x",
         "y": [
          7.54
         ],
         "yaxis": "y"
        },
        {
         "marker": {
          "color": "#B6E880"
         },
         "name": "shisa-v2-qwen2.5-7b",
         "showlegend": true,
         "text": [
          "7.61"
         ],
         "textposition": "outside",
         "type": "bar",
         "x": [
          "shisa-v2-qwen2.5-7b"
         ],
         "xaxis": "x",
         "y": [
          7.61
         ],
         "yaxis": "y"
        },
        {
         "marker": {
          "color": "#dcb0f2"
         },
         "name": "aya-expanse-8b-abliterated",
         "showlegend": true,
         "text": [
          "7.13"
         ],
         "textposition": "outside",
         "type": "bar",
         "x": [
          "aya-expanse-8b-abliterated"
         ],
         "xaxis": "x",
         "y": [
          7.13
         ],
         "yaxis": "y"
        },
        {
         "marker": {
          "color": "#b3b3b3"
         },
         "name": "gemma-3-4b",
         "showlegend": true,
         "text": [
          "7.07"
         ],
         "textposition": "outside",
         "type": "bar",
         "x": [
          "gemma-3-4b"
         ],
         "xaxis": "x",
         "y": [
          7.07
         ],
         "yaxis": "y"
        },
        {
         "marker": {
          "color": "#EF553B"
         },
         "name": "qwen2.5-7b-instruct",
         "showlegend": true,
         "text": [
          "7.29"
         ],
         "textposition": "outside",
         "type": "bar",
         "x": [
          "qwen2.5-7b-instruct"
         ],
         "xaxis": "x",
         "y": [
          7.29
         ],
         "yaxis": "y"
        },
        {
         "marker": {
          "color": "#87c55f"
         },
         "name": "deepcogito_cogito-v1-preview-llama-8b",
         "showlegend": true,
         "text": [
          "6.78"
         ],
         "textposition": "outside",
         "type": "bar",
         "x": [
          "deepcogito_cogito-v1-preview-llama-8b"
         ],
         "xaxis": "x",
         "y": [
          6.78
         ],
         "yaxis": "y"
        },
        {
         "marker": {
          "color": "#FECB52"
         },
         "name": "llama-3.1-8b-instruct",
         "showlegend": true,
         "text": [
          "7.03"
         ],
         "textposition": "outside",
         "type": "bar",
         "x": [
          "llama-3.1-8b-instruct"
         ],
         "xaxis": "x",
         "y": [
          7.03
         ],
         "yaxis": "y"
        },
        {
         "marker": {
          "color": "#b497e7"
         },
         "name": "granite-3.3-8b-instruct",
         "showlegend": true,
         "text": [
          "6.41"
         ],
         "textposition": "outside",
         "type": "bar",
         "x": [
          "granite-3.3-8b-instruct"
         ],
         "xaxis": "x",
         "y": [
          6.41
         ],
         "yaxis": "y"
        },
        {
         "marker": {
          "color": "#19D3F3"
         },
         "name": "internvl3_5-8b",
         "showlegend": true,
         "text": [
          "6.05"
         ],
         "textposition": "outside",
         "type": "bar",
         "x": [
          "internvl3_5-8b"
         ],
         "xaxis": "x",
         "y": [
          6.05
         ],
         "yaxis": "y"
        },
        {
         "marker": {
          "color": "#c9db74"
         },
         "name": "hunyuan-mt-7b",
         "showlegend": true,
         "text": [
          "5.66"
         ],
         "textposition": "outside",
         "type": "bar",
         "x": [
          "hunyuan-mt-7b"
         ],
         "xaxis": "x",
         "y": [
          5.66
         ],
         "yaxis": "y"
        },
        {
         "marker": {
          "color": "#fe88b1"
         },
         "name": "dolphin3.0-llama3.1-8b",
         "showlegend": true,
         "text": [
          "5.99"
         ],
         "textposition": "outside",
         "type": "bar",
         "x": [
          "dolphin3.0-llama3.1-8b"
         ],
         "xaxis": "x",
         "y": [
          5.99
         ],
         "yaxis": "y"
        },
        {
         "marker": {
          "color": "#FFA15A"
         },
         "name": "hunyuan-mt-chimera-7b",
         "showlegend": true,
         "text": [
          "5.12"
         ],
         "textposition": "outside",
         "type": "bar",
         "x": [
          "hunyuan-mt-chimera-7b"
         ],
         "xaxis": "x",
         "y": [
          5.12
         ],
         "yaxis": "y"
        },
        {
         "marker": {
          "color": "#00CC96"
         },
         "name": "internvl3_5-4b",
         "showlegend": true,
         "text": [
          "5.62"
         ],
         "textposition": "outside",
         "type": "bar",
         "x": [
          "internvl3_5-4b"
         ],
         "xaxis": "x",
         "y": [
          5.62
         ],
         "yaxis": "y"
        },
        {
         "marker": {
          "color": "#f6cf71"
         },
         "name": "aixsatoshi-honyaku-multi-translator-swallow-ms7b",
         "showlegend": true,
         "text": [
          "3.87"
         ],
         "textposition": "outside",
         "type": "bar",
         "x": [
          "aixsatoshi-honyaku-multi-translator-swallow-ms7b"
         ],
         "xaxis": "x",
         "y": [
          3.87
         ],
         "yaxis": "y"
        },
        {
         "marker": {
          "color": "#66c5cc"
         },
         "name": "gpt-4o",
         "showlegend": false,
         "text": [
          "8.76"
         ],
         "textposition": "outside",
         "type": "bar",
         "x": [
          "gpt-4o"
         ],
         "xaxis": "x2",
         "y": [
          8.758333333333333
         ],
         "yaxis": "y2"
        },
        {
         "marker": {
          "color": "#FF6692"
         },
         "name": "gemini-2.0-flash-lite",
         "showlegend": false,
         "text": [
          "8.01"
         ],
         "textposition": "outside",
         "type": "bar",
         "x": [
          "gemini-2.0-flash-lite"
         ],
         "xaxis": "x2",
         "y": [
          8.008333333333333
         ],
         "yaxis": "y2"
        },
        {
         "marker": {
          "color": "#AB63FA"
         },
         "name": "gemma-3-12b-it",
         "showlegend": false,
         "text": [
          "7.89"
         ],
         "textposition": "outside",
         "type": "bar",
         "x": [
          "gemma-3-12b-it"
         ],
         "xaxis": "x2",
         "y": [
          7.891666666666667
         ],
         "yaxis": "y2"
        },
        {
         "marker": {
          "color": "#FF97FF"
         },
         "name": "qwen3-8b",
         "showlegend": false,
         "text": [
          "8.04"
         ],
         "textposition": "outside",
         "type": "bar",
         "x": [
          "qwen3-8b"
         ],
         "xaxis": "x2",
         "y": [
          8.041666666666666
         ],
         "yaxis": "y2"
        },
        {
         "marker": {
          "color": "#9eb9f3"
         },
         "name": "gemma-3n-e4b-it",
         "showlegend": false,
         "text": [
          "7.79"
         ],
         "textposition": "outside",
         "type": "bar",
         "x": [
          "gemma-3n-e4b-it"
         ],
         "xaxis": "x2",
         "y": [
          7.791666666666667
         ],
         "yaxis": "y2"
        },
        {
         "marker": {
          "color": "#f89c74"
         },
         "name": "shisa-v2-llama3.1-8b",
         "showlegend": false,
         "text": [
          "6.98"
         ],
         "textposition": "outside",
         "type": "bar",
         "x": [
          "shisa-v2-llama3.1-8b"
         ],
         "xaxis": "x2",
         "y": [
          6.983333333333333
         ],
         "yaxis": "y2"
        },
        {
         "marker": {
          "color": "#B6E880"
         },
         "name": "shisa-v2-qwen2.5-7b",
         "showlegend": false,
         "text": [
          "6.95"
         ],
         "textposition": "outside",
         "type": "bar",
         "x": [
          "shisa-v2-qwen2.5-7b"
         ],
         "xaxis": "x2",
         "y": [
          6.95
         ],
         "yaxis": "y2"
        },
        {
         "marker": {
          "color": "#dcb0f2"
         },
         "name": "aya-expanse-8b-abliterated",
         "showlegend": false,
         "text": [
          "6.88"
         ],
         "textposition": "outside",
         "type": "bar",
         "x": [
          "aya-expanse-8b-abliterated"
         ],
         "xaxis": "x2",
         "y": [
          6.875
         ],
         "yaxis": "y2"
        },
        {
         "marker": {
          "color": "#b3b3b3"
         },
         "name": "gemma-3-4b",
         "showlegend": false,
         "text": [
          "6.96"
         ],
         "textposition": "outside",
         "type": "bar",
         "x": [
          "gemma-3-4b"
         ],
         "xaxis": "x2",
         "y": [
          6.958333333333333
         ],
         "yaxis": "y2"
        },
        {
         "marker": {
          "color": "#EF553B"
         },
         "name": "qwen2.5-7b-instruct",
         "showlegend": false,
         "text": [
          "6.16"
         ],
         "textposition": "outside",
         "type": "bar",
         "x": [
          "qwen2.5-7b-instruct"
         ],
         "xaxis": "x2",
         "y": [
          6.158333333333333
         ],
         "yaxis": "y2"
        },
        {
         "marker": {
          "color": "#87c55f"
         },
         "name": "deepcogito_cogito-v1-preview-llama-8b",
         "showlegend": false,
         "text": [
          "6.28"
         ],
         "textposition": "outside",
         "type": "bar",
         "x": [
          "deepcogito_cogito-v1-preview-llama-8b"
         ],
         "xaxis": "x2",
         "y": [
          6.275
         ],
         "yaxis": "y2"
        },
        {
         "marker": {
          "color": "#FECB52"
         },
         "name": "llama-3.1-8b-instruct",
         "showlegend": false,
         "text": [
          "5.15"
         ],
         "textposition": "outside",
         "type": "bar",
         "x": [
          "llama-3.1-8b-instruct"
         ],
         "xaxis": "x2",
         "y": [
          5.15
         ],
         "yaxis": "y2"
        },
        {
         "marker": {
          "color": "#b497e7"
         },
         "name": "granite-3.3-8b-instruct",
         "showlegend": false,
         "text": [
          "5.96"
         ],
         "textposition": "outside",
         "type": "bar",
         "x": [
          "granite-3.3-8b-instruct"
         ],
         "xaxis": "x2",
         "y": [
          5.958333333333333
         ],
         "yaxis": "y2"
        },
        {
         "marker": {
          "color": "#19D3F3"
         },
         "name": "internvl3_5-8b",
         "showlegend": false,
         "text": [
          "5.26"
         ],
         "textposition": "outside",
         "type": "bar",
         "x": [
          "internvl3_5-8b"
         ],
         "xaxis": "x2",
         "y": [
          5.258333333333334
         ],
         "yaxis": "y2"
        },
        {
         "marker": {
          "color": "#c9db74"
         },
         "name": "hunyuan-mt-7b",
         "showlegend": false,
         "text": [
          "4.98"
         ],
         "textposition": "outside",
         "type": "bar",
         "x": [
          "hunyuan-mt-7b"
         ],
         "xaxis": "x2",
         "y": [
          4.983333333333333
         ],
         "yaxis": "y2"
        },
        {
         "marker": {
          "color": "#fe88b1"
         },
         "name": "dolphin3.0-llama3.1-8b",
         "showlegend": false,
         "text": [
          "5.41"
         ],
         "textposition": "outside",
         "type": "bar",
         "x": [
          "dolphin3.0-llama3.1-8b"
         ],
         "xaxis": "x2",
         "y": [
          5.408333333333333
         ],
         "yaxis": "y2"
        },
        {
         "marker": {
          "color": "#FFA15A"
         },
         "name": "hunyuan-mt-chimera-7b",
         "showlegend": false,
         "text": [
          "4.67"
         ],
         "textposition": "outside",
         "type": "bar",
         "x": [
          "hunyuan-mt-chimera-7b"
         ],
         "xaxis": "x2",
         "y": [
          4.675
         ],
         "yaxis": "y2"
        },
        {
         "marker": {
          "color": "#00CC96"
         },
         "name": "internvl3_5-4b",
         "showlegend": false,
         "text": [
          "4.48"
         ],
         "textposition": "outside",
         "type": "bar",
         "x": [
          "internvl3_5-4b"
         ],
         "xaxis": "x2",
         "y": [
          4.483333333333333
         ],
         "yaxis": "y2"
        },
        {
         "marker": {
          "color": "#f6cf71"
         },
         "name": "aixsatoshi-honyaku-multi-translator-swallow-ms7b",
         "showlegend": false,
         "text": [
          "2.91"
         ],
         "textposition": "outside",
         "type": "bar",
         "x": [
          "aixsatoshi-honyaku-multi-translator-swallow-ms7b"
         ],
         "xaxis": "x2",
         "y": [
          2.908333333333333
         ],
         "yaxis": "y2"
        },
        {
         "marker": {
          "color": "#66c5cc"
         },
         "name": "gpt-4o",
         "showlegend": false,
         "text": [
          "8.99"
         ],
         "textposition": "outside",
         "type": "bar",
         "x": [
          "gpt-4o"
         ],
         "xaxis": "x3",
         "y": [
          8.9875
         ],
         "yaxis": "y3"
        },
        {
         "marker": {
          "color": "#FF6692"
         },
         "name": "gemini-2.0-flash-lite",
         "showlegend": false,
         "text": [
          "8.61"
         ],
         "textposition": "outside",
         "type": "bar",
         "x": [
          "gemini-2.0-flash-lite"
         ],
         "xaxis": "x3",
         "y": [
          8.6125
         ],
         "yaxis": "y3"
        },
        {
         "marker": {
          "color": "#AB63FA"
         },
         "name": "gemma-3-12b-it",
         "showlegend": false,
         "text": [
          "7.60"
         ],
         "textposition": "outside",
         "type": "bar",
         "x": [
          "gemma-3-12b-it"
         ],
         "xaxis": "x3",
         "y": [
          7.6
         ],
         "yaxis": "y3"
        },
        {
         "marker": {
          "color": "#FF97FF"
         },
         "name": "qwen3-8b",
         "showlegend": false,
         "text": [
          "6.64"
         ],
         "textposition": "outside",
         "type": "bar",
         "x": [
          "qwen3-8b"
         ],
         "xaxis": "x3",
         "y": [
          6.6375
         ],
         "yaxis": "y3"
        },
        {
         "marker": {
          "color": "#9eb9f3"
         },
         "name": "gemma-3n-e4b-it",
         "showlegend": false,
         "text": [
          "7.54"
         ],
         "textposition": "outside",
         "type": "bar",
         "x": [
          "gemma-3n-e4b-it"
         ],
         "xaxis": "x3",
         "y": [
          7.544303797468355
         ],
         "yaxis": "y3"
        },
        {
         "marker": {
          "color": "#f89c74"
         },
         "name": "shisa-v2-llama3.1-8b",
         "showlegend": false,
         "text": [
          "7.51"
         ],
         "textposition": "outside",
         "type": "bar",
         "x": [
          "shisa-v2-llama3.1-8b"
         ],
         "xaxis": "x3",
         "y": [
          7.506329113924051
         ],
         "yaxis": "y3"
        },
        {
         "marker": {
          "color": "#B6E880"
         },
         "name": "shisa-v2-qwen2.5-7b",
         "showlegend": false,
         "text": [
          "6.77"
         ],
         "textposition": "outside",
         "type": "bar",
         "x": [
          "shisa-v2-qwen2.5-7b"
         ],
         "xaxis": "x3",
         "y": [
          6.769230769230769
         ],
         "yaxis": "y3"
        },
        {
         "marker": {
          "color": "#dcb0f2"
         },
         "name": "aya-expanse-8b-abliterated",
         "showlegend": false,
         "text": [
          "7.21"
         ],
         "textposition": "outside",
         "type": "bar",
         "x": [
          "aya-expanse-8b-abliterated"
         ],
         "xaxis": "x3",
         "y": [
          7.2125
         ],
         "yaxis": "y3"
        },
        {
         "marker": {
          "color": "#b3b3b3"
         },
         "name": "gemma-3-4b",
         "showlegend": false,
         "text": [
          "6.54"
         ],
         "textposition": "outside",
         "type": "bar",
         "x": [
          "gemma-3-4b"
         ],
         "xaxis": "x3",
         "y": [
          6.544303797468355
         ],
         "yaxis": "y3"
        },
        {
         "marker": {
          "color": "#EF553B"
         },
         "name": "qwen2.5-7b-instruct",
         "showlegend": false,
         "text": [
          "6.69"
         ],
         "textposition": "outside",
         "type": "bar",
         "x": [
          "qwen2.5-7b-instruct"
         ],
         "xaxis": "x3",
         "y": [
          6.6875
         ],
         "yaxis": "y3"
        },
        {
         "marker": {
          "color": "#87c55f"
         },
         "name": "deepcogito_cogito-v1-preview-llama-8b",
         "showlegend": false,
         "text": [
          "5.65"
         ],
         "textposition": "outside",
         "type": "bar",
         "x": [
          "deepcogito_cogito-v1-preview-llama-8b"
         ],
         "xaxis": "x3",
         "y": [
          5.6455696202531644
         ],
         "yaxis": "y3"
        },
        {
         "marker": {
          "color": "#FECB52"
         },
         "name": "llama-3.1-8b-instruct",
         "showlegend": false,
         "text": [
          "5.20"
         ],
         "textposition": "outside",
         "type": "bar",
         "x": [
          "llama-3.1-8b-instruct"
         ],
         "xaxis": "x3",
         "y": [
          5.2025316455696204
         ],
         "yaxis": "y3"
        },
        {
         "marker": {
          "color": "#b497e7"
         },
         "name": "granite-3.3-8b-instruct",
         "showlegend": false,
         "text": [
          "5.39"
         ],
         "textposition": "outside",
         "type": "bar",
         "x": [
          "granite-3.3-8b-instruct"
         ],
         "xaxis": "x3",
         "y": [
          5.3875
         ],
         "yaxis": "y3"
        },
        {
         "marker": {
          "color": "#19D3F3"
         },
         "name": "internvl3_5-8b",
         "showlegend": false,
         "text": [
          "4.26"
         ],
         "textposition": "outside",
         "type": "bar",
         "x": [
          "internvl3_5-8b"
         ],
         "xaxis": "x3",
         "y": [
          4.2625
         ],
         "yaxis": "y3"
        },
        {
         "marker": {
          "color": "#c9db74"
         },
         "name": "hunyuan-mt-7b",
         "showlegend": false,
         "text": [
          "5.22"
         ],
         "textposition": "outside",
         "type": "bar",
         "x": [
          "hunyuan-mt-7b"
         ],
         "xaxis": "x3",
         "y": [
          5.220779220779221
         ],
         "yaxis": "y3"
        },
        {
         "marker": {
          "color": "#fe88b1"
         },
         "name": "dolphin3.0-llama3.1-8b",
         "showlegend": false,
         "text": [
          "5.05"
         ],
         "textposition": "outside",
         "type": "bar",
         "x": [
          "dolphin3.0-llama3.1-8b"
         ],
         "xaxis": "x3",
         "y": [
          5.050632911392405
         ],
         "yaxis": "y3"
        },
        {
         "marker": {
          "color": "#FFA15A"
         },
         "name": "hunyuan-mt-chimera-7b",
         "showlegend": false,
         "text": [
          "4.88"
         ],
         "textposition": "outside",
         "type": "bar",
         "x": [
          "hunyuan-mt-chimera-7b"
         ],
         "xaxis": "x3",
         "y": [
          4.875
         ],
         "yaxis": "y3"
        },
        {
         "marker": {
          "color": "#00CC96"
         },
         "name": "internvl3_5-4b",
         "showlegend": false,
         "text": [
          "3.41"
         ],
         "textposition": "outside",
         "type": "bar",
         "x": [
          "internvl3_5-4b"
         ],
         "xaxis": "x3",
         "y": [
          3.4050632911392404
         ],
         "yaxis": "y3"
        },
        {
         "marker": {
          "color": "#f6cf71"
         },
         "name": "aixsatoshi-honyaku-multi-translator-swallow-ms7b",
         "showlegend": false,
         "text": [
          "4.20"
         ],
         "textposition": "outside",
         "type": "bar",
         "x": [
          "aixsatoshi-honyaku-multi-translator-swallow-ms7b"
         ],
         "xaxis": "x3",
         "y": [
          4.2
         ],
         "yaxis": "y3"
        },
        {
         "marker": {
          "color": "#66c5cc"
         },
         "name": "gpt-4o",
         "showlegend": false,
         "text": [
          "8.47"
         ],
         "textposition": "outside",
         "type": "bar",
         "x": [
          "gpt-4o"
         ],
         "xaxis": "x4",
         "y": [
          8.466666666666667
         ],
         "yaxis": "y4"
        },
        {
         "marker": {
          "color": "#FF6692"
         },
         "name": "gemini-2.0-flash-lite",
         "showlegend": false,
         "text": [
          "7.74"
         ],
         "textposition": "outside",
         "type": "bar",
         "x": [
          "gemini-2.0-flash-lite"
         ],
         "xaxis": "x4",
         "y": [
          7.7375
         ],
         "yaxis": "y4"
        },
        {
         "marker": {
          "color": "#AB63FA"
         },
         "name": "gemma-3-12b-it",
         "showlegend": false,
         "text": [
          "7.38"
         ],
         "textposition": "outside",
         "type": "bar",
         "x": [
          "gemma-3-12b-it"
         ],
         "xaxis": "x4",
         "y": [
          7.384937238493724
         ],
         "yaxis": "y4"
        },
        {
         "marker": {
          "color": "#FF97FF"
         },
         "name": "qwen3-8b",
         "showlegend": false,
         "text": [
          "7.75"
         ],
         "textposition": "outside",
         "type": "bar",
         "x": [
          "qwen3-8b"
         ],
         "xaxis": "x4",
         "y": [
          7.745833333333334
         ],
         "yaxis": "y4"
        },
        {
         "marker": {
          "color": "#9eb9f3"
         },
         "name": "gemma-3n-e4b-it",
         "showlegend": false,
         "text": [
          "6.05"
         ],
         "textposition": "outside",
         "type": "bar",
         "x": [
          "gemma-3n-e4b-it"
         ],
         "xaxis": "x4",
         "y": [
          6.045833333333333
         ],
         "yaxis": "y4"
        },
        {
         "marker": {
          "color": "#f89c74"
         },
         "name": "shisa-v2-llama3.1-8b",
         "showlegend": false,
         "text": [
          "6.72"
         ],
         "textposition": "outside",
         "type": "bar",
         "x": [
          "shisa-v2-llama3.1-8b"
         ],
         "xaxis": "x4",
         "y": [
          6.7238493723849375
         ],
         "yaxis": "y4"
        },
        {
         "marker": {
          "color": "#B6E880"
         },
         "name": "shisa-v2-qwen2.5-7b",
         "showlegend": false,
         "text": [
          "7.02"
         ],
         "textposition": "outside",
         "type": "bar",
         "x": [
          "shisa-v2-qwen2.5-7b"
         ],
         "xaxis": "x4",
         "y": [
          7.020833333333333
         ],
         "yaxis": "y4"
        },
        {
         "marker": {
          "color": "#dcb0f2"
         },
         "name": "aya-expanse-8b-abliterated",
         "showlegend": false,
         "text": [
          "6.60"
         ],
         "textposition": "outside",
         "type": "bar",
         "x": [
          "aya-expanse-8b-abliterated"
         ],
         "xaxis": "x4",
         "y": [
          6.604166666666667
         ],
         "yaxis": "y4"
        },
        {
         "marker": {
          "color": "#b3b3b3"
         },
         "name": "gemma-3-4b",
         "showlegend": false,
         "text": [
          "6.31"
         ],
         "textposition": "outside",
         "type": "bar",
         "x": [
          "gemma-3-4b"
         ],
         "xaxis": "x4",
         "y": [
          6.305439330543933
         ],
         "yaxis": "y4"
        },
        {
         "marker": {
          "color": "#EF553B"
         },
         "name": "qwen2.5-7b-instruct",
         "showlegend": false,
         "text": [
          "6.89"
         ],
         "textposition": "outside",
         "type": "bar",
         "x": [
          "qwen2.5-7b-instruct"
         ],
         "xaxis": "x4",
         "y": [
          6.891213389121339
         ],
         "yaxis": "y4"
        },
        {
         "marker": {
          "color": "#87c55f"
         },
         "name": "deepcogito_cogito-v1-preview-llama-8b",
         "showlegend": false,
         "text": [
          "6.50"
         ],
         "textposition": "outside",
         "type": "bar",
         "x": [
          "deepcogito_cogito-v1-preview-llama-8b"
         ],
         "xaxis": "x4",
         "y": [
          6.504166666666666
         ],
         "yaxis": "y4"
        },
        {
         "marker": {
          "color": "#FECB52"
         },
         "name": "llama-3.1-8b-instruct",
         "showlegend": false,
         "text": [
          "6.28"
         ],
         "textposition": "outside",
         "type": "bar",
         "x": [
          "llama-3.1-8b-instruct"
         ],
         "xaxis": "x4",
         "y": [
          6.283333333333333
         ],
         "yaxis": "y4"
        },
        {
         "marker": {
          "color": "#b497e7"
         },
         "name": "granite-3.3-8b-instruct",
         "showlegend": false,
         "text": [
          "6.05"
         ],
         "textposition": "outside",
         "type": "bar",
         "x": [
          "granite-3.3-8b-instruct"
         ],
         "xaxis": "x4",
         "y": [
          6.046025104602511
         ],
         "yaxis": "y4"
        },
        {
         "marker": {
          "color": "#19D3F3"
         },
         "name": "internvl3_5-8b",
         "showlegend": false,
         "text": [
          "6.15"
         ],
         "textposition": "outside",
         "type": "bar",
         "x": [
          "internvl3_5-8b"
         ],
         "xaxis": "x4",
         "y": [
          6.150627615062762
         ],
         "yaxis": "y4"
        },
        {
         "marker": {
          "color": "#c9db74"
         },
         "name": "hunyuan-mt-7b",
         "showlegend": false,
         "text": [
          "5.24"
         ],
         "textposition": "outside",
         "type": "bar",
         "x": [
          "hunyuan-mt-7b"
         ],
         "xaxis": "x4",
         "y": [
          5.2375
         ],
         "yaxis": "y4"
        },
        {
         "marker": {
          "color": "#fe88b1"
         },
         "name": "dolphin3.0-llama3.1-8b",
         "showlegend": false,
         "text": [
          "5.54"
         ],
         "textposition": "outside",
         "type": "bar",
         "x": [
          "dolphin3.0-llama3.1-8b"
         ],
         "xaxis": "x4",
         "y": [
          5.541666666666667
         ],
         "yaxis": "y4"
        },
        {
         "marker": {
          "color": "#FFA15A"
         },
         "name": "hunyuan-mt-chimera-7b",
         "showlegend": false,
         "text": [
          "4.83"
         ],
         "textposition": "outside",
         "type": "bar",
         "x": [
          "hunyuan-mt-chimera-7b"
         ],
         "xaxis": "x4",
         "y": [
          4.829166666666667
         ],
         "yaxis": "y4"
        },
        {
         "marker": {
          "color": "#00CC96"
         },
         "name": "internvl3_5-4b",
         "showlegend": false,
         "text": [
          "5.33"
         ],
         "textposition": "outside",
         "type": "bar",
         "x": [
          "internvl3_5-4b"
         ],
         "xaxis": "x4",
         "y": [
          5.325
         ],
         "yaxis": "y4"
        },
        {
         "marker": {
          "color": "#f6cf71"
         },
         "name": "aixsatoshi-honyaku-multi-translator-swallow-ms7b",
         "showlegend": false,
         "text": [
          "2.82"
         ],
         "textposition": "outside",
         "type": "bar",
         "x": [
          "aixsatoshi-honyaku-multi-translator-swallow-ms7b"
         ],
         "xaxis": "x4",
         "y": [
          2.816666666666667
         ],
         "yaxis": "y4"
        },
        {
         "marker": {
          "color": "#66c5cc"
         },
         "name": "gpt-4o",
         "showlegend": false,
         "text": [
          "8.29"
         ],
         "textposition": "outside",
         "type": "bar",
         "x": [
          "gpt-4o"
         ],
         "xaxis": "x5",
         "y": [
          8.290833333333333
         ],
         "yaxis": "y5"
        },
        {
         "marker": {
          "color": "#FF6692"
         },
         "name": "gemini-2.0-flash-lite",
         "showlegend": false,
         "text": [
          "7.53"
         ],
         "textposition": "outside",
         "type": "bar",
         "x": [
          "gemini-2.0-flash-lite"
         ],
         "xaxis": "x5",
         "y": [
          7.52625
         ],
         "yaxis": "y5"
        },
        {
         "marker": {
          "color": "#AB63FA"
         },
         "name": "gemma-3-12b-it",
         "showlegend": false,
         "text": [
          "7.22"
         ],
         "textposition": "outside",
         "type": "bar",
         "x": [
          "gemma-3-12b-it"
         ],
         "xaxis": "x5",
         "y": [
          7.2179166666666665
         ],
         "yaxis": "y5"
        },
        {
         "marker": {
          "color": "#FF97FF"
         },
         "name": "qwen3-8b",
         "showlegend": false,
         "text": [
          "6.39"
         ],
         "textposition": "outside",
         "type": "bar",
         "x": [
          "qwen3-8b"
         ],
         "xaxis": "x5",
         "y": [
          6.394166666666666
         ],
         "yaxis": "y5"
        },
        {
         "marker": {
          "color": "#9eb9f3"
         },
         "name": "gemma-3n-e4b-it",
         "showlegend": false,
         "text": [
          "7.47"
         ],
         "textposition": "outside",
         "type": "bar",
         "x": [
          "gemma-3n-e4b-it"
         ],
         "xaxis": "x5",
         "y": [
          7.470416666666666
         ],
         "yaxis": "y5"
        },
        {
         "marker": {
          "color": "#f89c74"
         },
         "name": "shisa-v2-llama3.1-8b",
         "showlegend": false,
         "text": [
          "6.88"
         ],
         "textposition": "outside",
         "type": "bar",
         "x": [
          "shisa-v2-llama3.1-8b"
         ],
         "xaxis": "x5",
         "y": [
          6.8825
         ],
         "yaxis": "y5"
        },
        {
         "marker": {
          "color": "#B6E880"
         },
         "name": "shisa-v2-qwen2.5-7b",
         "showlegend": false,
         "text": [
          "6.66"
         ],
         "textposition": "outside",
         "type": "bar",
         "x": [
          "shisa-v2-qwen2.5-7b"
         ],
         "xaxis": "x5",
         "y": [
          6.664583333333334
         ],
         "yaxis": "y5"
        },
        {
         "marker": {
          "color": "#dcb0f2"
         },
         "name": "aya-expanse-8b-abliterated",
         "showlegend": false,
         "text": [
          "6.47"
         ],
         "textposition": "outside",
         "type": "bar",
         "x": [
          "aya-expanse-8b-abliterated"
         ],
         "xaxis": "x5",
         "y": [
          6.465416666666666
         ],
         "yaxis": "y5"
        },
        {
         "marker": {
          "color": "#b3b3b3"
         },
         "name": "gemma-3-4b",
         "showlegend": false,
         "text": [
          "6.54"
         ],
         "textposition": "outside",
         "type": "bar",
         "x": [
          "gemma-3-4b"
         ],
         "xaxis": "x5",
         "y": [
          6.54375
         ],
         "yaxis": "y5"
        },
        {
         "marker": {
          "color": "#EF553B"
         },
         "name": "qwen2.5-7b-instruct",
         "showlegend": false,
         "text": [
          "6.28"
         ],
         "textposition": "outside",
         "type": "bar",
         "x": [
          "qwen2.5-7b-instruct"
         ],
         "xaxis": "x5",
         "y": [
          6.276666666666666
         ],
         "yaxis": "y5"
        },
        {
         "marker": {
          "color": "#87c55f"
         },
         "name": "deepcogito_cogito-v1-preview-llama-8b",
         "showlegend": false,
         "text": [
          "6.36"
         ],
         "textposition": "outside",
         "type": "bar",
         "x": [
          "deepcogito_cogito-v1-preview-llama-8b"
         ],
         "xaxis": "x5",
         "y": [
          6.3566666666666665
         ],
         "yaxis": "y5"
        },
        {
         "marker": {
          "color": "#FECB52"
         },
         "name": "llama-3.1-8b-instruct",
         "showlegend": false,
         "text": [
          "6.07"
         ],
         "textposition": "outside",
         "type": "bar",
         "x": [
          "llama-3.1-8b-instruct"
         ],
         "xaxis": "x5",
         "y": [
          6.066666666666666
         ],
         "yaxis": "y5"
        },
        {
         "marker": {
          "color": "#b497e7"
         },
         "name": "granite-3.3-8b-instruct",
         "showlegend": false,
         "text": [
          "6.01"
         ],
         "textposition": "outside",
         "type": "bar",
         "x": [
          "granite-3.3-8b-instruct"
         ],
         "xaxis": "x5",
         "y": [
          6.010833333333334
         ],
         "yaxis": "y5"
        },
        {
         "marker": {
          "color": "#19D3F3"
         },
         "name": "internvl3_5-8b",
         "showlegend": false,
         "text": [
          "6.36"
         ],
         "textposition": "outside",
         "type": "bar",
         "x": [
          "internvl3_5-8b"
         ],
         "xaxis": "x5",
         "y": [
          6.355416666666667
         ],
         "yaxis": "y5"
        },
        {
         "marker": {
          "color": "#c9db74"
         },
         "name": "hunyuan-mt-7b",
         "showlegend": false,
         "text": [
          "6.41"
         ],
         "textposition": "outside",
         "type": "bar",
         "x": [
          "hunyuan-mt-7b"
         ],
         "xaxis": "x5",
         "y": [
          6.408333333333334
         ],
         "yaxis": "y5"
        },
        {
         "marker": {
          "color": "#fe88b1"
         },
         "name": "dolphin3.0-llama3.1-8b",
         "showlegend": false,
         "text": [
          "5.96"
         ],
         "textposition": "outside",
         "type": "bar",
         "x": [
          "dolphin3.0-llama3.1-8b"
         ],
         "xaxis": "x5",
         "y": [
          5.96
         ],
         "yaxis": "y5"
        },
        {
         "marker": {
          "color": "#FFA15A"
         },
         "name": "hunyuan-mt-chimera-7b",
         "showlegend": false,
         "text": [
          "6.57"
         ],
         "textposition": "outside",
         "type": "bar",
         "x": [
          "hunyuan-mt-chimera-7b"
         ],
         "xaxis": "x5",
         "y": [
          6.57375
         ],
         "yaxis": "y5"
        },
        {
         "marker": {
          "color": "#00CC96"
         },
         "name": "internvl3_5-4b",
         "showlegend": false,
         "text": [
          "5.58"
         ],
         "textposition": "outside",
         "type": "bar",
         "x": [
          "internvl3_5-4b"
         ],
         "xaxis": "x5",
         "y": [
          5.583333333333334
         ],
         "yaxis": "y5"
        },
        {
         "marker": {
          "color": "#f6cf71"
         },
         "name": "aixsatoshi-honyaku-multi-translator-swallow-ms7b",
         "showlegend": false,
         "text": [
          "3.89"
         ],
         "textposition": "outside",
         "type": "bar",
         "x": [
          "aixsatoshi-honyaku-multi-translator-swallow-ms7b"
         ],
         "xaxis": "x5",
         "y": [
          3.88875
         ],
         "yaxis": "y5"
        },
        {
         "marker": {
          "color": "#66c5cc"
         },
         "name": "gpt-4o",
         "showlegend": false,
         "text": [
          "8.74"
         ],
         "textposition": "outside",
         "type": "bar",
         "x": [
          "gpt-4o"
         ],
         "xaxis": "x6",
         "y": [
          8.736666666666668
         ],
         "yaxis": "y6"
        },
        {
         "marker": {
          "color": "#FF6692"
         },
         "name": "gemini-2.0-flash-lite",
         "showlegend": false,
         "text": [
          "8.01"
         ],
         "textposition": "outside",
         "type": "bar",
         "x": [
          "gemini-2.0-flash-lite"
         ],
         "xaxis": "x6",
         "y": [
          8.008916666666668
         ],
         "yaxis": "y6"
        },
        {
         "marker": {
          "color": "#AB63FA"
         },
         "name": "gemma-3-12b-it",
         "showlegend": false,
         "text": [
          "7.67"
         ],
         "textposition": "outside",
         "type": "bar",
         "x": [
          "gemma-3-12b-it"
         ],
         "xaxis": "x6",
         "y": [
          7.674904114365411
         ],
         "yaxis": "y6"
        },
        {
         "marker": {
          "color": "#FF97FF"
         },
         "name": "qwen3-8b",
         "showlegend": false,
         "text": [
          "7.33"
         ],
         "textposition": "outside",
         "type": "bar",
         "x": [
          "qwen3-8b"
         ],
         "xaxis": "x6",
         "y": [
          7.333833333333334
         ],
         "yaxis": "y6"
        },
        {
         "marker": {
          "color": "#9eb9f3"
         },
         "name": "gemma-3n-e4b-it",
         "showlegend": false,
         "text": [
          "7.17"
         ],
         "textposition": "outside",
         "type": "bar",
         "x": [
          "gemma-3n-e4b-it"
         ],
         "xaxis": "x6",
         "y": [
          7.172444092827004
         ],
         "yaxis": "y6"
        },
        {
         "marker": {
          "color": "#f89c74"
         },
         "name": "shisa-v2-llama3.1-8b",
         "showlegend": false,
         "text": [
          "7.13"
         ],
         "textposition": "outside",
         "type": "bar",
         "x": [
          "shisa-v2-llama3.1-8b"
         ],
         "xaxis": "x6",
         "y": [
          7.127202363928464
         ],
         "yaxis": "y6"
        },
        {
         "marker": {
          "color": "#B6E880"
         },
         "name": "shisa-v2-qwen2.5-7b",
         "showlegend": false,
         "text": [
          "7.00"
         ],
         "textposition": "outside",
         "type": "bar",
         "x": [
          "shisa-v2-qwen2.5-7b"
         ],
         "xaxis": "x6",
         "y": [
          7.002929487179488
         ],
         "yaxis": "y6"
        },
        {
         "marker": {
          "color": "#dcb0f2"
         },
         "name": "aya-expanse-8b-abliterated",
         "showlegend": false,
         "text": [
          "6.86"
         ],
         "textposition": "outside",
         "type": "bar",
         "x": [
          "aya-expanse-8b-abliterated"
         ],
         "xaxis": "x6",
         "y": [
          6.857416666666667
         ],
         "yaxis": "y6"
        },
        {
         "marker": {
          "color": "#b3b3b3"
         },
         "name": "gemma-3-4b",
         "showlegend": false,
         "text": [
          "6.68"
         ],
         "textposition": "outside",
         "type": "bar",
         "x": [
          "gemma-3-4b"
         ],
         "xaxis": "x6",
         "y": [
          6.684365292269125
         ],
         "yaxis": "y6"
        },
        {
         "marker": {
          "color": "#EF553B"
         },
         "name": "qwen2.5-7b-instruct",
         "showlegend": false,
         "text": [
          "6.66"
         ],
         "textposition": "outside",
         "type": "bar",
         "x": [
          "qwen2.5-7b-instruct"
         ],
         "xaxis": "x6",
         "y": [
          6.660742677824269
         ],
         "yaxis": "y6"
        },
        {
         "marker": {
          "color": "#87c55f"
         },
         "name": "deepcogito_cogito-v1-preview-llama-8b",
         "showlegend": false,
         "text": [
          "6.31"
         ],
         "textposition": "outside",
         "type": "bar",
         "x": [
          "deepcogito_cogito-v1-preview-llama-8b"
         ],
         "xaxis": "x6",
         "y": [
          6.312280590717299
         ],
         "yaxis": "y6"
        },
        {
         "marker": {
          "color": "#FECB52"
         },
         "name": "llama-3.1-8b-instruct",
         "showlegend": false,
         "text": [
          "5.95"
         ],
         "textposition": "outside",
         "type": "bar",
         "x": [
          "llama-3.1-8b-instruct"
         ],
         "xaxis": "x6",
         "y": [
          5.946506329113925
         ],
         "yaxis": "y6"
        },
        {
         "marker": {
          "color": "#b497e7"
         },
         "name": "granite-3.3-8b-instruct",
         "showlegend": false,
         "text": [
          "5.96"
         ],
         "textposition": "outside",
         "type": "bar",
         "x": [
          "granite-3.3-8b-instruct"
         ],
         "xaxis": "x6",
         "y": [
          5.9625383542538355
         ],
         "yaxis": "y6"
        },
        {
         "marker": {
          "color": "#19D3F3"
         },
         "name": "internvl3_5-8b",
         "showlegend": false,
         "text": [
          "5.62"
         ],
         "textposition": "outside",
         "type": "bar",
         "x": [
          "internvl3_5-8b"
         ],
         "xaxis": "x6",
         "y": [
          5.615375523012553
         ],
         "yaxis": "y6"
        },
        {
         "marker": {
          "color": "#c9db74"
         },
         "name": "hunyuan-mt-7b",
         "showlegend": false,
         "text": [
          "5.50"
         ],
         "textposition": "outside",
         "type": "bar",
         "x": [
          "hunyuan-mt-7b"
         ],
         "xaxis": "x6",
         "y": [
          5.501989177489177
         ],
         "yaxis": "y6"
        },
        {
         "marker": {
          "color": "#fe88b1"
         },
         "name": "dolphin3.0-llama3.1-8b",
         "showlegend": false,
         "text": [
          "5.59"
         ],
         "textposition": "outside",
         "type": "bar",
         "x": [
          "dolphin3.0-llama3.1-8b"
         ],
         "xaxis": "x6",
         "y": [
          5.590126582278481
         ],
         "yaxis": "y6"
        },
        {
         "marker": {
          "color": "#FFA15A"
         },
         "name": "hunyuan-mt-chimera-7b",
         "showlegend": false,
         "text": [
          "5.21"
         ],
         "textposition": "outside",
         "type": "bar",
         "x": [
          "hunyuan-mt-chimera-7b"
         ],
         "xaxis": "x6",
         "y": [
          5.214583333333334
         ],
         "yaxis": "y6"
        },
        {
         "marker": {
          "color": "#00CC96"
         },
         "name": "internvl3_5-4b",
         "showlegend": false,
         "text": [
          "4.88"
         ],
         "textposition": "outside",
         "type": "bar",
         "x": [
          "internvl3_5-4b"
         ],
         "xaxis": "x6",
         "y": [
          4.883345991561181
         ],
         "yaxis": "y6"
        },
        {
         "marker": {
          "color": "#f6cf71"
         },
         "name": "aixsatoshi-honyaku-multi-translator-swallow-ms7b",
         "showlegend": false,
         "text": [
          "3.54"
         ],
         "textposition": "outside",
         "type": "bar",
         "x": [
          "aixsatoshi-honyaku-multi-translator-swallow-ms7b"
         ],
         "xaxis": "x6",
         "y": [
          3.53675
         ],
         "yaxis": "y6"
        }
       ],
       "layout": {
        "annotations": [
         {
          "font": {
           "size": 16
          },
          "showarrow": false,
          "text": "ELYZA-Tasks-100",
          "x": 0.2375,
          "xanchor": "center",
          "xref": "paper",
          "y": 1,
          "yanchor": "bottom",
          "yref": "paper"
         },
         {
          "font": {
           "size": 16
          },
          "showarrow": false,
          "text": "MT-Bench-60",
          "x": 0.7625,
          "xanchor": "center",
          "xref": "paper",
          "y": 1,
          "yanchor": "bottom",
          "yref": "paper"
         },
         {
          "font": {
           "size": 16
          },
          "showarrow": false,
          "text": "Rakuda-40",
          "x": 0.2375,
          "xanchor": "center",
          "xref": "paper",
          "y": 0.6333333333333333,
          "yanchor": "bottom",
          "yref": "paper"
         },
         {
          "font": {
           "size": 16
          },
          "showarrow": false,
          "text": "Tengu-Bench-120",
          "x": 0.7625,
          "xanchor": "center",
          "xref": "paper",
          "y": 0.6333333333333333,
          "yanchor": "bottom",
          "yref": "paper"
         },
         {
          "font": {
           "size": 16
          },
          "showarrow": false,
          "text": "VNTL-Translation-200",
          "x": 0.2375,
          "xanchor": "center",
          "xref": "paper",
          "y": 0.26666666666666666,
          "yanchor": "bottom",
          "yref": "paper"
         },
         {
          "font": {
           "size": 16
          },
          "showarrow": false,
          "text": "Average",
          "x": 0.7625,
          "xanchor": "center",
          "xref": "paper",
          "y": 0.26666666666666666,
          "yanchor": "bottom",
          "yref": "paper"
         }
        ],
        "bargap": 0.01,
        "bargroupgap": 0.01,
        "barmode": "group",
        "height": 1000,
        "legend": {
         "title": {
          "text": "Model"
         }
        },
        "template": {
         "data": {
          "bar": [
           {
            "error_x": {
             "color": "#2a3f5f"
            },
            "error_y": {
             "color": "#2a3f5f"
            },
            "marker": {
             "line": {
              "color": "white",
              "width": 0.5
             },
             "pattern": {
              "fillmode": "overlay",
              "size": 10,
              "solidity": 0.2
             }
            },
            "type": "bar"
           }
          ],
          "barpolar": [
           {
            "marker": {
             "line": {
              "color": "white",
              "width": 0.5
             },
             "pattern": {
              "fillmode": "overlay",
              "size": 10,
              "solidity": 0.2
             }
            },
            "type": "barpolar"
           }
          ],
          "carpet": [
           {
            "aaxis": {
             "endlinecolor": "#2a3f5f",
             "gridcolor": "#C8D4E3",
             "linecolor": "#C8D4E3",
             "minorgridcolor": "#C8D4E3",
             "startlinecolor": "#2a3f5f"
            },
            "baxis": {
             "endlinecolor": "#2a3f5f",
             "gridcolor": "#C8D4E3",
             "linecolor": "#C8D4E3",
             "minorgridcolor": "#C8D4E3",
             "startlinecolor": "#2a3f5f"
            },
            "type": "carpet"
           }
          ],
          "choropleth": [
           {
            "colorbar": {
             "outlinewidth": 0,
             "ticks": ""
            },
            "type": "choropleth"
           }
          ],
          "contour": [
           {
            "colorbar": {
             "outlinewidth": 0,
             "ticks": ""
            },
            "colorscale": [
             [
              0,
              "#0d0887"
             ],
             [
              0.1111111111111111,
              "#46039f"
             ],
             [
              0.2222222222222222,
              "#7201a8"
             ],
             [
              0.3333333333333333,
              "#9c179e"
             ],
             [
              0.4444444444444444,
              "#bd3786"
             ],
             [
              0.5555555555555556,
              "#d8576b"
             ],
             [
              0.6666666666666666,
              "#ed7953"
             ],
             [
              0.7777777777777778,
              "#fb9f3a"
             ],
             [
              0.8888888888888888,
              "#fdca26"
             ],
             [
              1,
              "#f0f921"
             ]
            ],
            "type": "contour"
           }
          ],
          "contourcarpet": [
           {
            "colorbar": {
             "outlinewidth": 0,
             "ticks": ""
            },
            "type": "contourcarpet"
           }
          ],
          "heatmap": [
           {
            "colorbar": {
             "outlinewidth": 0,
             "ticks": ""
            },
            "colorscale": [
             [
              0,
              "#0d0887"
             ],
             [
              0.1111111111111111,
              "#46039f"
             ],
             [
              0.2222222222222222,
              "#7201a8"
             ],
             [
              0.3333333333333333,
              "#9c179e"
             ],
             [
              0.4444444444444444,
              "#bd3786"
             ],
             [
              0.5555555555555556,
              "#d8576b"
             ],
             [
              0.6666666666666666,
              "#ed7953"
             ],
             [
              0.7777777777777778,
              "#fb9f3a"
             ],
             [
              0.8888888888888888,
              "#fdca26"
             ],
             [
              1,
              "#f0f921"
             ]
            ],
            "type": "heatmap"
           }
          ],
          "histogram": [
           {
            "marker": {
             "pattern": {
              "fillmode": "overlay",
              "size": 10,
              "solidity": 0.2
             }
            },
            "type": "histogram"
           }
          ],
          "histogram2d": [
           {
            "colorbar": {
             "outlinewidth": 0,
             "ticks": ""
            },
            "colorscale": [
             [
              0,
              "#0d0887"
             ],
             [
              0.1111111111111111,
              "#46039f"
             ],
             [
              0.2222222222222222,
              "#7201a8"
             ],
             [
              0.3333333333333333,
              "#9c179e"
             ],
             [
              0.4444444444444444,
              "#bd3786"
             ],
             [
              0.5555555555555556,
              "#d8576b"
             ],
             [
              0.6666666666666666,
              "#ed7953"
             ],
             [
              0.7777777777777778,
              "#fb9f3a"
             ],
             [
              0.8888888888888888,
              "#fdca26"
             ],
             [
              1,
              "#f0f921"
             ]
            ],
            "type": "histogram2d"
           }
          ],
          "histogram2dcontour": [
           {
            "colorbar": {
             "outlinewidth": 0,
             "ticks": ""
            },
            "colorscale": [
             [
              0,
              "#0d0887"
             ],
             [
              0.1111111111111111,
              "#46039f"
             ],
             [
              0.2222222222222222,
              "#7201a8"
             ],
             [
              0.3333333333333333,
              "#9c179e"
             ],
             [
              0.4444444444444444,
              "#bd3786"
             ],
             [
              0.5555555555555556,
              "#d8576b"
             ],
             [
              0.6666666666666666,
              "#ed7953"
             ],
             [
              0.7777777777777778,
              "#fb9f3a"
             ],
             [
              0.8888888888888888,
              "#fdca26"
             ],
             [
              1,
              "#f0f921"
             ]
            ],
            "type": "histogram2dcontour"
           }
          ],
          "mesh3d": [
           {
            "colorbar": {
             "outlinewidth": 0,
             "ticks": ""
            },
            "type": "mesh3d"
           }
          ],
          "parcoords": [
           {
            "line": {
             "colorbar": {
              "outlinewidth": 0,
              "ticks": ""
             }
            },
            "type": "parcoords"
           }
          ],
          "pie": [
           {
            "automargin": true,
            "type": "pie"
           }
          ],
          "scatter": [
           {
            "fillpattern": {
             "fillmode": "overlay",
             "size": 10,
             "solidity": 0.2
            },
            "type": "scatter"
           }
          ],
          "scatter3d": [
           {
            "line": {
             "colorbar": {
              "outlinewidth": 0,
              "ticks": ""
             }
            },
            "marker": {
             "colorbar": {
              "outlinewidth": 0,
              "ticks": ""
             }
            },
            "type": "scatter3d"
           }
          ],
          "scattercarpet": [
           {
            "marker": {
             "colorbar": {
              "outlinewidth": 0,
              "ticks": ""
             }
            },
            "type": "scattercarpet"
           }
          ],
          "scattergeo": [
           {
            "marker": {
             "colorbar": {
              "outlinewidth": 0,
              "ticks": ""
             }
            },
            "type": "scattergeo"
           }
          ],
          "scattergl": [
           {
            "marker": {
             "colorbar": {
              "outlinewidth": 0,
              "ticks": ""
             }
            },
            "type": "scattergl"
           }
          ],
          "scattermap": [
           {
            "marker": {
             "colorbar": {
              "outlinewidth": 0,
              "ticks": ""
             }
            },
            "type": "scattermap"
           }
          ],
          "scattermapbox": [
           {
            "marker": {
             "colorbar": {
              "outlinewidth": 0,
              "ticks": ""
             }
            },
            "type": "scattermapbox"
           }
          ],
          "scatterpolar": [
           {
            "marker": {
             "colorbar": {
              "outlinewidth": 0,
              "ticks": ""
             }
            },
            "type": "scatterpolar"
           }
          ],
          "scatterpolargl": [
           {
            "marker": {
             "colorbar": {
              "outlinewidth": 0,
              "ticks": ""
             }
            },
            "type": "scatterpolargl"
           }
          ],
          "scatterternary": [
           {
            "marker": {
             "colorbar": {
              "outlinewidth": 0,
              "ticks": ""
             }
            },
            "type": "scatterternary"
           }
          ],
          "surface": [
           {
            "colorbar": {
             "outlinewidth": 0,
             "ticks": ""
            },
            "colorscale": [
             [
              0,
              "#0d0887"
             ],
             [
              0.1111111111111111,
              "#46039f"
             ],
             [
              0.2222222222222222,
              "#7201a8"
             ],
             [
              0.3333333333333333,
              "#9c179e"
             ],
             [
              0.4444444444444444,
              "#bd3786"
             ],
             [
              0.5555555555555556,
              "#d8576b"
             ],
             [
              0.6666666666666666,
              "#ed7953"
             ],
             [
              0.7777777777777778,
              "#fb9f3a"
             ],
             [
              0.8888888888888888,
              "#fdca26"
             ],
             [
              1,
              "#f0f921"
             ]
            ],
            "type": "surface"
           }
          ],
          "table": [
           {
            "cells": {
             "fill": {
              "color": "#EBF0F8"
             },
             "line": {
              "color": "white"
             }
            },
            "header": {
             "fill": {
              "color": "#C8D4E3"
             },
             "line": {
              "color": "white"
             }
            },
            "type": "table"
           }
          ]
         },
         "layout": {
          "annotationdefaults": {
           "arrowcolor": "#2a3f5f",
           "arrowhead": 0,
           "arrowwidth": 1
          },
          "autotypenumbers": "strict",
          "coloraxis": {
           "colorbar": {
            "outlinewidth": 0,
            "ticks": ""
           }
          },
          "colorscale": {
           "diverging": [
            [
             0,
             "#8e0152"
            ],
            [
             0.1,
             "#c51b7d"
            ],
            [
             0.2,
             "#de77ae"
            ],
            [
             0.3,
             "#f1b6da"
            ],
            [
             0.4,
             "#fde0ef"
            ],
            [
             0.5,
             "#f7f7f7"
            ],
            [
             0.6,
             "#e6f5d0"
            ],
            [
             0.7,
             "#b8e186"
            ],
            [
             0.8,
             "#7fbc41"
            ],
            [
             0.9,
             "#4d9221"
            ],
            [
             1,
             "#276419"
            ]
           ],
           "sequential": [
            [
             0,
             "#0d0887"
            ],
            [
             0.1111111111111111,
             "#46039f"
            ],
            [
             0.2222222222222222,
             "#7201a8"
            ],
            [
             0.3333333333333333,
             "#9c179e"
            ],
            [
             0.4444444444444444,
             "#bd3786"
            ],
            [
             0.5555555555555556,
             "#d8576b"
            ],
            [
             0.6666666666666666,
             "#ed7953"
            ],
            [
             0.7777777777777778,
             "#fb9f3a"
            ],
            [
             0.8888888888888888,
             "#fdca26"
            ],
            [
             1,
             "#f0f921"
            ]
           ],
           "sequentialminus": [
            [
             0,
             "#0d0887"
            ],
            [
             0.1111111111111111,
             "#46039f"
            ],
            [
             0.2222222222222222,
             "#7201a8"
            ],
            [
             0.3333333333333333,
             "#9c179e"
            ],
            [
             0.4444444444444444,
             "#bd3786"
            ],
            [
             0.5555555555555556,
             "#d8576b"
            ],
            [
             0.6666666666666666,
             "#ed7953"
            ],
            [
             0.7777777777777778,
             "#fb9f3a"
            ],
            [
             0.8888888888888888,
             "#fdca26"
            ],
            [
             1,
             "#f0f921"
            ]
           ]
          },
          "colorway": [
           "#636efa",
           "#EF553B",
           "#00cc96",
           "#ab63fa",
           "#FFA15A",
           "#19d3f3",
           "#FF6692",
           "#B6E880",
           "#FF97FF",
           "#FECB52"
          ],
          "font": {
           "color": "#2a3f5f"
          },
          "geo": {
           "bgcolor": "white",
           "lakecolor": "white",
           "landcolor": "white",
           "showlakes": true,
           "showland": true,
           "subunitcolor": "#C8D4E3"
          },
          "hoverlabel": {
           "align": "left"
          },
          "hovermode": "closest",
          "mapbox": {
           "style": "light"
          },
          "paper_bgcolor": "white",
          "plot_bgcolor": "white",
          "polar": {
           "angularaxis": {
            "gridcolor": "#EBF0F8",
            "linecolor": "#EBF0F8",
            "ticks": ""
           },
           "bgcolor": "white",
           "radialaxis": {
            "gridcolor": "#EBF0F8",
            "linecolor": "#EBF0F8",
            "ticks": ""
           }
          },
          "scene": {
           "xaxis": {
            "backgroundcolor": "white",
            "gridcolor": "#DFE8F3",
            "gridwidth": 2,
            "linecolor": "#EBF0F8",
            "showbackground": true,
            "ticks": "",
            "zerolinecolor": "#EBF0F8"
           },
           "yaxis": {
            "backgroundcolor": "white",
            "gridcolor": "#DFE8F3",
            "gridwidth": 2,
            "linecolor": "#EBF0F8",
            "showbackground": true,
            "ticks": "",
            "zerolinecolor": "#EBF0F8"
           },
           "zaxis": {
            "backgroundcolor": "white",
            "gridcolor": "#DFE8F3",
            "gridwidth": 2,
            "linecolor": "#EBF0F8",
            "showbackground": true,
            "ticks": "",
            "zerolinecolor": "#EBF0F8"
           }
          },
          "shapedefaults": {
           "line": {
            "color": "#2a3f5f"
           }
          },
          "ternary": {
           "aaxis": {
            "gridcolor": "#DFE8F3",
            "linecolor": "#A2B1C6",
            "ticks": ""
           },
           "baxis": {
            "gridcolor": "#DFE8F3",
            "linecolor": "#A2B1C6",
            "ticks": ""
           },
           "bgcolor": "white",
           "caxis": {
            "gridcolor": "#DFE8F3",
            "linecolor": "#A2B1C6",
            "ticks": ""
           }
          },
          "title": {
           "x": 0.05
          },
          "xaxis": {
           "automargin": true,
           "gridcolor": "#EBF0F8",
           "linecolor": "#EBF0F8",
           "ticks": "",
           "title": {
            "standoff": 15
           },
           "zerolinecolor": "#EBF0F8",
           "zerolinewidth": 2
          },
          "yaxis": {
           "automargin": true,
           "gridcolor": "#EBF0F8",
           "linecolor": "#EBF0F8",
           "ticks": "",
           "title": {
            "standoff": 15
           },
           "zerolinecolor": "#EBF0F8",
           "zerolinewidth": 2
          }
         }
        },
        "title": {
         "text": "Model Score Comparison - Vertical (Averaged)<br><sup>Average Across gpt-4.1, gpt-5-mini | 4B - 8B Model Range</sup>",
         "x": 0.5
        },
        "width": 1200,
        "xaxis": {
         "anchor": "y",
         "domain": [
          0,
          0.475
         ],
         "showticklabels": false
        },
        "xaxis2": {
         "anchor": "y2",
         "domain": [
          0.525,
          1
         ],
         "showticklabels": false
        },
        "xaxis3": {
         "anchor": "y3",
         "domain": [
          0,
          0.475
         ],
         "showticklabels": false
        },
        "xaxis4": {
         "anchor": "y4",
         "domain": [
          0.525,
          1
         ],
         "showticklabels": false
        },
        "xaxis5": {
         "anchor": "y5",
         "domain": [
          0,
          0.475
         ],
         "showticklabels": false
        },
        "xaxis6": {
         "anchor": "y6",
         "domain": [
          0.525,
          1
         ],
         "showticklabels": false
        },
        "yaxis": {
         "anchor": "x",
         "domain": [
          0.7333333333333334,
          1
         ],
         "range": [
          0,
          10.5
         ]
        },
        "yaxis2": {
         "anchor": "x2",
         "domain": [
          0.7333333333333334,
          1
         ],
         "range": [
          0,
          10.5
         ]
        },
        "yaxis3": {
         "anchor": "x3",
         "domain": [
          0.3666666666666667,
          0.6333333333333333
         ],
         "range": [
          0,
          10.5
         ]
        },
        "yaxis4": {
         "anchor": "x4",
         "domain": [
          0.3666666666666667,
          0.6333333333333333
         ],
         "range": [
          0,
          10.5
         ]
        },
        "yaxis5": {
         "anchor": "x5",
         "domain": [
          0,
          0.26666666666666666
         ],
         "range": [
          0,
          10.5
         ]
        },
        "yaxis6": {
         "anchor": "x6",
         "domain": [
          0,
          0.26666666666666666
         ],
         "range": [
          0,
          10.5
         ]
        }
       }
      }
     },
     "metadata": {},
     "output_type": "display_data"
    }
   ],
   "source": [
    "for judge_model in all_result_df['judge_model'].unique():\n",
    "    df_judge = all_result_df[all_result_df['judge_model'] == judge_model]\n",
    "    if df_judge.empty: continue\n",
    "\n",
    "    mean_df_judge = df_judge.groupby([\"model_name\", \"eval_dataset\"]).score.mean().reset_index()\n",
    "    # Uses the global model_order\n",
    "    benchmarks = sorted(mean_df_judge['eval_dataset'].unique())\n",
    "    avg_scores = mean_df_judge.groupby('model_name')['score'].mean().reindex(model_order)\n",
    "    \n",
    "    n_rows, n_cols = 3, 2\n",
    "    subplot_titles = benchmarks[:5]\n",
    "    subplot_titles.append(\"Average\")\n",
    "    while len(subplot_titles) < 6: subplot_titles.append(\"\")\n",
    "\n",
    "    fig_vertical = make_subplots(rows=n_rows, cols=n_cols, subplot_titles=subplot_titles, vertical_spacing=0.1, horizontal_spacing=0.05)\n",
    "    \n",
    "    for i, title in enumerate(subplot_titles):\n",
    "        if not title: continue\n",
    "        row, col = i // n_cols + 1, i % n_cols + 1\n",
    "        plot_data = avg_scores if title == \"Average\" else mean_df_judge[mean_df_judge['eval_dataset'] == title].set_index('model_name')['score'].reindex(model_order)\n",
    "        # Uses the global color_map\n",
    "        for model_name in model_order:\n",
    "            if model_name in plot_data.index:\n",
    "                score = plot_data.get(model_name, float('nan'))\n",
    "                fig_vertical.add_trace(go.Bar(\n",
    "                    x=[model_name], y=[score], name=model_name, marker_color=color_map[model_name],\n",
    "                    text=[f\"{score:.2f}\" if pd.notnull(score) else \"\"], textposition='outside',\n",
    "                    showlegend=(i == 0)\n",
    "                ), row=row, col=col)\n",
    "            \n",
    "        fig_vertical.update_yaxes(range=[0, 10.5], row=row, col=col)\n",
    "        fig_vertical.update_xaxes(showticklabels=False, row=row, col=col)\n",
    "\n",
    "    fig_vertical.update_layout(\n",
    "        height=1000, width=1200, barmode='group',\n",
    "        title_text=f\"Model Score Comparison - Vertical<br><sup>Judge: {judge_model.replace('judge_', '')} | {MODEL_RANGE_GROUP}</sup>\",\n",
    "        title_x=0.5, template='plotly_white',\n",
    "        legend_title_text='Model',\n",
    "        bargap=0.01, bargroupgap=0.01\n",
    "    )\n",
    "    fig_vertical.show()\n",
    "    # fig_vertical.write_image(f\"{GRAPHS_DIR}/vertical_bar_chart_{judge_model.replace('judge_', '')}.png\")\n",
    "\n",
    "# --- AVERAGED VERTICAL BAR CHART GRID ---\n",
    "import plotly.graph_objects as go\n",
    "from plotly.subplots import make_subplots\n",
    "\n",
    "# Get the list of judge models for the title\n",
    "judge_models_list = sorted(all_result_df['judge_model'].unique())\n",
    "judge_models_formatted = [j.replace('judge_', '') for j in judge_models_list]\n",
    "judge_models_text = ', '.join(judge_models_formatted)\n",
    "\n",
    "# Create averaged data across all judge models\n",
    "df_averaged = all_result_df.copy()\n",
    "mean_df_averaged = df_averaged.groupby([\"model_name\", \"eval_dataset\"]).score.mean().reset_index()\n",
    "# Uses the global model_order\n",
    "benchmarks = sorted(mean_df_averaged['eval_dataset'].unique())\n",
    "avg_scores = mean_df_averaged.groupby('model_name')['score'].mean().reindex(model_order)\n",
    "\n",
    "n_rows, n_cols = 3, 2\n",
    "subplot_titles = benchmarks[:5]\n",
    "subplot_titles.append(\"Average\")\n",
    "while len(subplot_titles) < 6: subplot_titles.append(\"\")\n",
    "\n",
    "fig_vertical_avg = make_subplots(rows=n_rows, cols=n_cols, subplot_titles=subplot_titles, vertical_spacing=0.1, horizontal_spacing=0.05)\n",
    "\n",
    "for i, title in enumerate(subplot_titles):\n",
    "    if not title: continue\n",
    "    row, col = i // n_cols + 1, i % n_cols + 1\n",
    "    plot_data = avg_scores if title == \"Average\" else mean_df_averaged[mean_df_averaged['eval_dataset'] == title].set_index('model_name')['score'].reindex(model_order)\n",
    "    # Uses the global color_map\n",
    "    for model_name in model_order:\n",
    "        if model_name in plot_data.index:\n",
    "            score = plot_data.get(model_name, float('nan'))\n",
    "            fig_vertical_avg.add_trace(go.Bar(\n",
    "                x=[model_name], y=[score], name=model_name, marker_color=color_map[model_name],\n",
    "                text=[f\"{score:.2f}\" if pd.notnull(score) else \"\"], textposition='outside',\n",
    "                showlegend=(i == 0)\n",
    "            ), row=row, col=col)\n",
    "        \n",
    "    fig_vertical_avg.update_yaxes(range=[0, 10.5], row=row, col=col)\n",
    "    fig_vertical_avg.update_xaxes(showticklabels=False, row=row, col=col)\n",
    "\n",
    "fig_vertical_avg.update_layout(\n",
    "    height=1000, width=1200, barmode='group',\n",
    "    title_text=f\"Model Score Comparison - Vertical (Averaged)<br><sup>Average Across {judge_models_text} | {MODEL_RANGE_GROUP}</sup>\",\n",
    "    title_x=0.5, template='plotly_white',\n",
    "    legend_title_text='Model',\n",
    "    bargap=0.01, bargroupgap=0.01\n",
    ")\n",
    "fig_vertical_avg.show()\n",
    "# fig_vertical_avg.write_image(f\"{GRAPHS_DIR}/vertical_bar_chart_averaged.png\")"
   ]
  },
  {
   "cell_type": "code",
   "execution_count": 66,
   "id": "929435a7",
   "metadata": {},
   "outputs": [
    {
     "name": "stdout",
     "output_type": "stream",
     "text": [
      "VNTL-Translation dataset found: VNTL-Translation-200\n"
     ]
    }
   ],
   "source": [
    "# Check if vntl is here\n",
    "if 'VNTL-Translation' in eval_dataset_map:\n",
    "    vntl_name = eval_dataset_map['VNTL-Translation']\n",
    "    print(f\"VNTL-Translation dataset found: {vntl_name}\")"
   ]
  },
  {
   "cell_type": "code",
   "execution_count": 67,
   "id": "3c90775b",
   "metadata": {},
   "outputs": [
    {
     "data": {
      "text/plain": [
       "'VNTL-Translation-200'"
      ]
     },
     "execution_count": 67,
     "metadata": {},
     "output_type": "execute_result"
    }
   ],
   "source": [
    "eval_dataset_map['VNTL-Translation']"
   ]
  },
  {
   "cell_type": "code",
   "execution_count": 68,
   "id": "01d11ce6",
   "metadata": {},
   "outputs": [
    {
     "data": {
      "application/vnd.plotly.v1+json": {
       "config": {
        "plotlyServerURL": "https://plot.ly"
       },
       "data": [
        {
         "marker": {
          "color": "#66c5cc"
         },
         "name": "gpt-4o",
         "showlegend": true,
         "text": [
          "8.23"
         ],
         "textposition": "outside",
         "type": "bar",
         "x": [
          "gpt-4o"
         ],
         "xaxis": "x",
         "y": [
          8.23
         ],
         "yaxis": "y"
        },
        {
         "marker": {
          "color": "#FF6692"
         },
         "name": "gemini-2.0-flash-lite",
         "showlegend": true,
         "text": [
          "7.48"
         ],
         "textposition": "outside",
         "type": "bar",
         "x": [
          "gemini-2.0-flash-lite"
         ],
         "xaxis": "x",
         "y": [
          7.48
         ],
         "yaxis": "y"
        },
        {
         "marker": {
          "color": "#9eb9f3"
         },
         "name": "gemma-3n-e4b-it",
         "showlegend": true,
         "text": [
          "7.18"
         ],
         "textposition": "outside",
         "type": "bar",
         "x": [
          "gemma-3n-e4b-it"
         ],
         "xaxis": "x",
         "y": [
          7.185
         ],
         "yaxis": "y"
        },
        {
         "marker": {
          "color": "#AB63FA"
         },
         "name": "gemma-3-12b-it",
         "showlegend": true,
         "text": [
          "7.13"
         ],
         "textposition": "outside",
         "type": "bar",
         "x": [
          "gemma-3-12b-it"
         ],
         "xaxis": "x",
         "y": [
          7.13
         ],
         "yaxis": "y"
        },
        {
         "marker": {
          "color": "#f89c74"
         },
         "name": "shisa-v2-llama3.1-8b",
         "showlegend": true,
         "text": [
          "6.80"
         ],
         "textposition": "outside",
         "type": "bar",
         "x": [
          "shisa-v2-llama3.1-8b"
         ],
         "xaxis": "x",
         "y": [
          6.805
         ],
         "yaxis": "y"
        },
        {
         "marker": {
          "color": "#b3b3b3"
         },
         "name": "gemma-3-4b",
         "showlegend": true,
         "text": [
          "6.39"
         ],
         "textposition": "outside",
         "type": "bar",
         "x": [
          "gemma-3-4b"
         ],
         "xaxis": "x",
         "y": [
          6.39
         ],
         "yaxis": "y"
        },
        {
         "marker": {
          "color": "#B6E880"
         },
         "name": "shisa-v2-qwen2.5-7b",
         "showlegend": true,
         "text": [
          "6.51"
         ],
         "textposition": "outside",
         "type": "bar",
         "x": [
          "shisa-v2-qwen2.5-7b"
         ],
         "xaxis": "x",
         "y": [
          6.51
         ],
         "yaxis": "y"
        },
        {
         "marker": {
          "color": "#FFA15A"
         },
         "name": "hunyuan-mt-chimera-7b",
         "showlegend": true,
         "text": [
          "6.74"
         ],
         "textposition": "outside",
         "type": "bar",
         "x": [
          "hunyuan-mt-chimera-7b"
         ],
         "xaxis": "x",
         "y": [
          6.74
         ],
         "yaxis": "y"
        },
        {
         "marker": {
          "color": "#FF97FF"
         },
         "name": "qwen3-8b",
         "showlegend": true,
         "text": [
          "6.55"
         ],
         "textposition": "outside",
         "type": "bar",
         "x": [
          "qwen3-8b"
         ],
         "xaxis": "x",
         "y": [
          6.55
         ],
         "yaxis": "y"
        },
        {
         "marker": {
          "color": "#c9db74"
         },
         "name": "hunyuan-mt-7b",
         "showlegend": true,
         "text": [
          "6.52"
         ],
         "textposition": "outside",
         "type": "bar",
         "x": [
          "hunyuan-mt-7b"
         ],
         "xaxis": "x",
         "y": [
          6.52
         ],
         "yaxis": "y"
        },
        {
         "marker": {
          "color": "#dcb0f2"
         },
         "name": "aya-expanse-8b-abliterated",
         "showlegend": true,
         "text": [
          "6.46"
         ],
         "textposition": "outside",
         "type": "bar",
         "x": [
          "aya-expanse-8b-abliterated"
         ],
         "xaxis": "x",
         "y": [
          6.455
         ],
         "yaxis": "y"
        },
        {
         "marker": {
          "color": "#19D3F3"
         },
         "name": "internvl3_5-8b",
         "showlegend": true,
         "text": [
          "6.11"
         ],
         "textposition": "outside",
         "type": "bar",
         "x": [
          "internvl3_5-8b"
         ],
         "xaxis": "x",
         "y": [
          6.105
         ],
         "yaxis": "y"
        },
        {
         "marker": {
          "color": "#87c55f"
         },
         "name": "deepcogito_cogito-v1-preview-llama-8b",
         "showlegend": true,
         "text": [
          "6.28"
         ],
         "textposition": "outside",
         "type": "bar",
         "x": [
          "deepcogito_cogito-v1-preview-llama-8b"
         ],
         "xaxis": "x",
         "y": [
          6.28
         ],
         "yaxis": "y"
        },
        {
         "marker": {
          "color": "#EF553B"
         },
         "name": "qwen2.5-7b-instruct",
         "showlegend": true,
         "text": [
          "6.08"
         ],
         "textposition": "outside",
         "type": "bar",
         "x": [
          "qwen2.5-7b-instruct"
         ],
         "xaxis": "x",
         "y": [
          6.08
         ],
         "yaxis": "y"
        },
        {
         "marker": {
          "color": "#fe88b1"
         },
         "name": "dolphin3.0-llama3.1-8b",
         "showlegend": true,
         "text": [
          "5.96"
         ],
         "textposition": "outside",
         "type": "bar",
         "x": [
          "dolphin3.0-llama3.1-8b"
         ],
         "xaxis": "x",
         "y": [
          5.955
         ],
         "yaxis": "y"
        },
        {
         "marker": {
          "color": "#FECB52"
         },
         "name": "llama-3.1-8b-instruct",
         "showlegend": true,
         "text": [
          "6.05"
         ],
         "textposition": "outside",
         "type": "bar",
         "x": [
          "llama-3.1-8b-instruct"
         ],
         "xaxis": "x",
         "y": [
          6.055
         ],
         "yaxis": "y"
        },
        {
         "marker": {
          "color": "#b497e7"
         },
         "name": "granite-3.3-8b-instruct",
         "showlegend": true,
         "text": [
          "5.57"
         ],
         "textposition": "outside",
         "type": "bar",
         "x": [
          "granite-3.3-8b-instruct"
         ],
         "xaxis": "x",
         "y": [
          5.57
         ],
         "yaxis": "y"
        },
        {
         "marker": {
          "color": "#00CC96"
         },
         "name": "internvl3_5-4b",
         "showlegend": true,
         "text": [
          "5.42"
         ],
         "textposition": "outside",
         "type": "bar",
         "x": [
          "internvl3_5-4b"
         ],
         "xaxis": "x",
         "y": [
          5.42
         ],
         "yaxis": "y"
        },
        {
         "marker": {
          "color": "#f6cf71"
         },
         "name": "aixsatoshi-honyaku-multi-translator-swallow-ms7b",
         "showlegend": true,
         "text": [
          "4.86"
         ],
         "textposition": "outside",
         "type": "bar",
         "x": [
          "aixsatoshi-honyaku-multi-translator-swallow-ms7b"
         ],
         "xaxis": "x",
         "y": [
          4.86
         ],
         "yaxis": "y"
        },
        {
         "marker": {
          "color": "#66c5cc"
         },
         "name": "gpt-4o",
         "showlegend": false,
         "text": [
          "9.11"
         ],
         "textposition": "outside",
         "type": "bar",
         "x": [
          "gpt-4o"
         ],
         "xaxis": "x2",
         "y": [
          9.105
         ],
         "yaxis": "y2"
        },
        {
         "marker": {
          "color": "#FF6692"
         },
         "name": "gemini-2.0-flash-lite",
         "showlegend": false,
         "text": [
          "7.54"
         ],
         "textposition": "outside",
         "type": "bar",
         "x": [
          "gemini-2.0-flash-lite"
         ],
         "xaxis": "x2",
         "y": [
          7.54
         ],
         "yaxis": "y2"
        },
        {
         "marker": {
          "color": "#9eb9f3"
         },
         "name": "gemma-3n-e4b-it",
         "showlegend": false,
         "text": [
          "7.78"
         ],
         "textposition": "outside",
         "type": "bar",
         "x": [
          "gemma-3n-e4b-it"
         ],
         "xaxis": "x2",
         "y": [
          7.78
         ],
         "yaxis": "y2"
        },
        {
         "marker": {
          "color": "#AB63FA"
         },
         "name": "gemma-3-12b-it",
         "showlegend": false,
         "text": [
          "7.46"
         ],
         "textposition": "outside",
         "type": "bar",
         "x": [
          "gemma-3-12b-it"
         ],
         "xaxis": "x2",
         "y": [
          7.465
         ],
         "yaxis": "y2"
        },
        {
         "marker": {
          "color": "#f89c74"
         },
         "name": "shisa-v2-llama3.1-8b",
         "showlegend": false,
         "text": [
          "7.75"
         ],
         "textposition": "outside",
         "type": "bar",
         "x": [
          "shisa-v2-llama3.1-8b"
         ],
         "xaxis": "x2",
         "y": [
          7.745
         ],
         "yaxis": "y2"
        },
        {
         "marker": {
          "color": "#b3b3b3"
         },
         "name": "gemma-3-4b",
         "showlegend": false,
         "text": [
          "7.16"
         ],
         "textposition": "outside",
         "type": "bar",
         "x": [
          "gemma-3-4b"
         ],
         "xaxis": "x2",
         "y": [
          7.16
         ],
         "yaxis": "y2"
        },
        {
         "marker": {
          "color": "#B6E880"
         },
         "name": "shisa-v2-qwen2.5-7b",
         "showlegend": false,
         "text": [
          "7.62"
         ],
         "textposition": "outside",
         "type": "bar",
         "x": [
          "shisa-v2-qwen2.5-7b"
         ],
         "xaxis": "x2",
         "y": [
          7.615
         ],
         "yaxis": "y2"
        },
        {
         "marker": {
          "color": "#FFA15A"
         },
         "name": "hunyuan-mt-chimera-7b",
         "showlegend": false,
         "text": [
          "7.57"
         ],
         "textposition": "outside",
         "type": "bar",
         "x": [
          "hunyuan-mt-chimera-7b"
         ],
         "xaxis": "x2",
         "y": [
          7.57
         ],
         "yaxis": "y2"
        },
        {
         "marker": {
          "color": "#FF97FF"
         },
         "name": "qwen3-8b",
         "showlegend": false,
         "text": [
          "6.37"
         ],
         "textposition": "outside",
         "type": "bar",
         "x": [
          "qwen3-8b"
         ],
         "xaxis": "x2",
         "y": [
          6.37
         ],
         "yaxis": "y2"
        },
        {
         "marker": {
          "color": "#c9db74"
         },
         "name": "hunyuan-mt-7b",
         "showlegend": false,
         "text": [
          "7.78"
         ],
         "textposition": "outside",
         "type": "bar",
         "x": [
          "hunyuan-mt-7b"
         ],
         "xaxis": "x2",
         "y": [
          7.775
         ],
         "yaxis": "y2"
        },
        {
         "marker": {
          "color": "#dcb0f2"
         },
         "name": "aya-expanse-8b-abliterated",
         "showlegend": false,
         "text": [
          "7.53"
         ],
         "textposition": "outside",
         "type": "bar",
         "x": [
          "aya-expanse-8b-abliterated"
         ],
         "xaxis": "x2",
         "y": [
          7.53
         ],
         "yaxis": "y2"
        },
        {
         "marker": {
          "color": "#19D3F3"
         },
         "name": "internvl3_5-8b",
         "showlegend": false,
         "text": [
          "6.63"
         ],
         "textposition": "outside",
         "type": "bar",
         "x": [
          "internvl3_5-8b"
         ],
         "xaxis": "x2",
         "y": [
          6.635
         ],
         "yaxis": "y2"
        },
        {
         "marker": {
          "color": "#87c55f"
         },
         "name": "deepcogito_cogito-v1-preview-llama-8b",
         "showlegend": false,
         "text": [
          "6.96"
         ],
         "textposition": "outside",
         "type": "bar",
         "x": [
          "deepcogito_cogito-v1-preview-llama-8b"
         ],
         "xaxis": "x2",
         "y": [
          6.955
         ],
         "yaxis": "y2"
        },
        {
         "marker": {
          "color": "#EF553B"
         },
         "name": "qwen2.5-7b-instruct",
         "showlegend": false,
         "text": [
          "6.32"
         ],
         "textposition": "outside",
         "type": "bar",
         "x": [
          "qwen2.5-7b-instruct"
         ],
         "xaxis": "x2",
         "y": [
          6.32
         ],
         "yaxis": "y2"
        },
        {
         "marker": {
          "color": "#fe88b1"
         },
         "name": "dolphin3.0-llama3.1-8b",
         "showlegend": false,
         "text": [
          "6.45"
         ],
         "textposition": "outside",
         "type": "bar",
         "x": [
          "dolphin3.0-llama3.1-8b"
         ],
         "xaxis": "x2",
         "y": [
          6.445
         ],
         "yaxis": "y2"
        },
        {
         "marker": {
          "color": "#FECB52"
         },
         "name": "llama-3.1-8b-instruct",
         "showlegend": false,
         "text": [
          "6.71"
         ],
         "textposition": "outside",
         "type": "bar",
         "x": [
          "llama-3.1-8b-instruct"
         ],
         "xaxis": "x2",
         "y": [
          6.715
         ],
         "yaxis": "y2"
        },
        {
         "marker": {
          "color": "#b497e7"
         },
         "name": "granite-3.3-8b-instruct",
         "showlegend": false,
         "text": [
          "6.47"
         ],
         "textposition": "outside",
         "type": "bar",
         "x": [
          "granite-3.3-8b-instruct"
         ],
         "xaxis": "x2",
         "y": [
          6.475
         ],
         "yaxis": "y2"
        },
        {
         "marker": {
          "color": "#00CC96"
         },
         "name": "internvl3_5-4b",
         "showlegend": false,
         "text": [
          "6.04"
         ],
         "textposition": "outside",
         "type": "bar",
         "x": [
          "internvl3_5-4b"
         ],
         "xaxis": "x2",
         "y": [
          6.035
         ],
         "yaxis": "y2"
        },
        {
         "marker": {
          "color": "#f6cf71"
         },
         "name": "aixsatoshi-honyaku-multi-translator-swallow-ms7b",
         "showlegend": false,
         "text": [
          "5.04"
         ],
         "textposition": "outside",
         "type": "bar",
         "x": [
          "aixsatoshi-honyaku-multi-translator-swallow-ms7b"
         ],
         "xaxis": "x2",
         "y": [
          5.04
         ],
         "yaxis": "y2"
        },
        {
         "marker": {
          "color": "#66c5cc"
         },
         "name": "gpt-4o",
         "showlegend": false,
         "text": [
          "7.89"
         ],
         "textposition": "outside",
         "type": "bar",
         "x": [
          "gpt-4o"
         ],
         "xaxis": "x3",
         "y": [
          7.895
         ],
         "yaxis": "y3"
        },
        {
         "marker": {
          "color": "#FF6692"
         },
         "name": "gemini-2.0-flash-lite",
         "showlegend": false,
         "text": [
          "7.01"
         ],
         "textposition": "outside",
         "type": "bar",
         "x": [
          "gemini-2.0-flash-lite"
         ],
         "xaxis": "x3",
         "y": [
          7.01
         ],
         "yaxis": "y3"
        },
        {
         "marker": {
          "color": "#9eb9f3"
         },
         "name": "gemma-3n-e4b-it",
         "showlegend": false,
         "text": [
          "6.91"
         ],
         "textposition": "outside",
         "type": "bar",
         "x": [
          "gemma-3n-e4b-it"
         ],
         "xaxis": "x3",
         "y": [
          6.905
         ],
         "yaxis": "y3"
        },
        {
         "marker": {
          "color": "#AB63FA"
         },
         "name": "gemma-3-12b-it",
         "showlegend": false,
         "text": [
          "6.78"
         ],
         "textposition": "outside",
         "type": "bar",
         "x": [
          "gemma-3-12b-it"
         ],
         "xaxis": "x3",
         "y": [
          6.78
         ],
         "yaxis": "y3"
        },
        {
         "marker": {
          "color": "#f89c74"
         },
         "name": "shisa-v2-llama3.1-8b",
         "showlegend": false,
         "text": [
          "6.66"
         ],
         "textposition": "outside",
         "type": "bar",
         "x": [
          "shisa-v2-llama3.1-8b"
         ],
         "xaxis": "x3",
         "y": [
          6.66
         ],
         "yaxis": "y3"
        },
        {
         "marker": {
          "color": "#b3b3b3"
         },
         "name": "gemma-3-4b",
         "showlegend": false,
         "text": [
          "6.29"
         ],
         "textposition": "outside",
         "type": "bar",
         "x": [
          "gemma-3-4b"
         ],
         "xaxis": "x3",
         "y": [
          6.285
         ],
         "yaxis": "y3"
        },
        {
         "marker": {
          "color": "#B6E880"
         },
         "name": "shisa-v2-qwen2.5-7b",
         "showlegend": false,
         "text": [
          "6.42"
         ],
         "textposition": "outside",
         "type": "bar",
         "x": [
          "shisa-v2-qwen2.5-7b"
         ],
         "xaxis": "x3",
         "y": [
          6.425
         ],
         "yaxis": "y3"
        },
        {
         "marker": {
          "color": "#FFA15A"
         },
         "name": "hunyuan-mt-chimera-7b",
         "showlegend": false,
         "text": [
          "6.34"
         ],
         "textposition": "outside",
         "type": "bar",
         "x": [
          "hunyuan-mt-chimera-7b"
         ],
         "xaxis": "x3",
         "y": [
          6.34
         ],
         "yaxis": "y3"
        },
        {
         "marker": {
          "color": "#FF97FF"
         },
         "name": "qwen3-8b",
         "showlegend": false,
         "text": [
          "6.25"
         ],
         "textposition": "outside",
         "type": "bar",
         "x": [
          "qwen3-8b"
         ],
         "xaxis": "x3",
         "y": [
          6.255
         ],
         "yaxis": "y3"
        },
        {
         "marker": {
          "color": "#c9db74"
         },
         "name": "hunyuan-mt-7b",
         "showlegend": false,
         "text": [
          "6.29"
         ],
         "textposition": "outside",
         "type": "bar",
         "x": [
          "hunyuan-mt-7b"
         ],
         "xaxis": "x3",
         "y": [
          6.295
         ],
         "yaxis": "y3"
        },
        {
         "marker": {
          "color": "#dcb0f2"
         },
         "name": "aya-expanse-8b-abliterated",
         "showlegend": false,
         "text": [
          "6.14"
         ],
         "textposition": "outside",
         "type": "bar",
         "x": [
          "aya-expanse-8b-abliterated"
         ],
         "xaxis": "x3",
         "y": [
          6.14
         ],
         "yaxis": "y3"
        },
        {
         "marker": {
          "color": "#19D3F3"
         },
         "name": "internvl3_5-8b",
         "showlegend": false,
         "text": [
          "5.72"
         ],
         "textposition": "outside",
         "type": "bar",
         "x": [
          "internvl3_5-8b"
         ],
         "xaxis": "x3",
         "y": [
          5.725
         ],
         "yaxis": "y3"
        },
        {
         "marker": {
          "color": "#87c55f"
         },
         "name": "deepcogito_cogito-v1-preview-llama-8b",
         "showlegend": false,
         "text": [
          "5.92"
         ],
         "textposition": "outside",
         "type": "bar",
         "x": [
          "deepcogito_cogito-v1-preview-llama-8b"
         ],
         "xaxis": "x3",
         "y": [
          5.915
         ],
         "yaxis": "y3"
        },
        {
         "marker": {
          "color": "#EF553B"
         },
         "name": "qwen2.5-7b-instruct",
         "showlegend": false,
         "text": [
          "5.68"
         ],
         "textposition": "outside",
         "type": "bar",
         "x": [
          "qwen2.5-7b-instruct"
         ],
         "xaxis": "x3",
         "y": [
          5.68
         ],
         "yaxis": "y3"
        },
        {
         "marker": {
          "color": "#fe88b1"
         },
         "name": "dolphin3.0-llama3.1-8b",
         "showlegend": false,
         "text": [
          "5.67"
         ],
         "textposition": "outside",
         "type": "bar",
         "x": [
          "dolphin3.0-llama3.1-8b"
         ],
         "xaxis": "x3",
         "y": [
          5.665
         ],
         "yaxis": "y3"
        },
        {
         "marker": {
          "color": "#FECB52"
         },
         "name": "llama-3.1-8b-instruct",
         "showlegend": false,
         "text": [
          "5.78"
         ],
         "textposition": "outside",
         "type": "bar",
         "x": [
          "llama-3.1-8b-instruct"
         ],
         "xaxis": "x3",
         "y": [
          5.78
         ],
         "yaxis": "y3"
        },
        {
         "marker": {
          "color": "#b497e7"
         },
         "name": "granite-3.3-8b-instruct",
         "showlegend": false,
         "text": [
          "5.38"
         ],
         "textposition": "outside",
         "type": "bar",
         "x": [
          "granite-3.3-8b-instruct"
         ],
         "xaxis": "x3",
         "y": [
          5.375
         ],
         "yaxis": "y3"
        },
        {
         "marker": {
          "color": "#00CC96"
         },
         "name": "internvl3_5-4b",
         "showlegend": false,
         "text": [
          "5.18"
         ],
         "textposition": "outside",
         "type": "bar",
         "x": [
          "internvl3_5-4b"
         ],
         "xaxis": "x3",
         "y": [
          5.18
         ],
         "yaxis": "y3"
        },
        {
         "marker": {
          "color": "#f6cf71"
         },
         "name": "aixsatoshi-honyaku-multi-translator-swallow-ms7b",
         "showlegend": false,
         "text": [
          "4.79"
         ],
         "textposition": "outside",
         "type": "bar",
         "x": [
          "aixsatoshi-honyaku-multi-translator-swallow-ms7b"
         ],
         "xaxis": "x3",
         "y": [
          4.785
         ],
         "yaxis": "y3"
        },
        {
         "marker": {
          "color": "#66c5cc"
         },
         "name": "gpt-4o",
         "showlegend": false,
         "text": [
          "8.77"
         ],
         "textposition": "outside",
         "type": "bar",
         "x": [
          "gpt-4o"
         ],
         "xaxis": "x4",
         "y": [
          8.77
         ],
         "yaxis": "y4"
        },
        {
         "marker": {
          "color": "#FF6692"
         },
         "name": "gemini-2.0-flash-lite",
         "showlegend": false,
         "text": [
          "7.65"
         ],
         "textposition": "outside",
         "type": "bar",
         "x": [
          "gemini-2.0-flash-lite"
         ],
         "xaxis": "x4",
         "y": [
          7.65
         ],
         "yaxis": "y4"
        },
        {
         "marker": {
          "color": "#9eb9f3"
         },
         "name": "gemma-3n-e4b-it",
         "showlegend": false,
         "text": [
          "7.64"
         ],
         "textposition": "outside",
         "type": "bar",
         "x": [
          "gemma-3n-e4b-it"
         ],
         "xaxis": "x4",
         "y": [
          7.64
         ],
         "yaxis": "y4"
        },
        {
         "marker": {
          "color": "#AB63FA"
         },
         "name": "gemma-3-12b-it",
         "showlegend": false,
         "text": [
          "7.53"
         ],
         "textposition": "outside",
         "type": "bar",
         "x": [
          "gemma-3-12b-it"
         ],
         "xaxis": "x4",
         "y": [
          7.53
         ],
         "yaxis": "y4"
        },
        {
         "marker": {
          "color": "#f89c74"
         },
         "name": "shisa-v2-llama3.1-8b",
         "showlegend": false,
         "text": [
          "7.45"
         ],
         "textposition": "outside",
         "type": "bar",
         "x": [
          "shisa-v2-llama3.1-8b"
         ],
         "xaxis": "x4",
         "y": [
          7.445
         ],
         "yaxis": "y4"
        },
        {
         "marker": {
          "color": "#b3b3b3"
         },
         "name": "gemma-3-4b",
         "showlegend": false,
         "text": [
          "7.05"
         ],
         "textposition": "outside",
         "type": "bar",
         "x": [
          "gemma-3-4b"
         ],
         "xaxis": "x4",
         "y": [
          7.055
         ],
         "yaxis": "y4"
        },
        {
         "marker": {
          "color": "#B6E880"
         },
         "name": "shisa-v2-qwen2.5-7b",
         "showlegend": false,
         "text": [
          "7.25"
         ],
         "textposition": "outside",
         "type": "bar",
         "x": [
          "shisa-v2-qwen2.5-7b"
         ],
         "xaxis": "x4",
         "y": [
          7.25
         ],
         "yaxis": "y4"
        },
        {
         "marker": {
          "color": "#FFA15A"
         },
         "name": "hunyuan-mt-chimera-7b",
         "showlegend": false,
         "text": [
          "7.29"
         ],
         "textposition": "outside",
         "type": "bar",
         "x": [
          "hunyuan-mt-chimera-7b"
         ],
         "xaxis": "x4",
         "y": [
          7.295
         ],
         "yaxis": "y4"
        },
        {
         "marker": {
          "color": "#FF97FF"
         },
         "name": "qwen3-8b",
         "showlegend": false,
         "text": [
          "6.57"
         ],
         "textposition": "outside",
         "type": "bar",
         "x": [
          "qwen3-8b"
         ],
         "xaxis": "x4",
         "y": [
          6.565
         ],
         "yaxis": "y4"
        },
        {
         "marker": {
          "color": "#c9db74"
         },
         "name": "hunyuan-mt-7b",
         "showlegend": false,
         "text": [
          "7.19"
         ],
         "textposition": "outside",
         "type": "bar",
         "x": [
          "hunyuan-mt-7b"
         ],
         "xaxis": "x4",
         "y": [
          7.19
         ],
         "yaxis": "y4"
        },
        {
         "marker": {
          "color": "#dcb0f2"
         },
         "name": "aya-expanse-8b-abliterated",
         "showlegend": false,
         "text": [
          "7.00"
         ],
         "textposition": "outside",
         "type": "bar",
         "x": [
          "aya-expanse-8b-abliterated"
         ],
         "xaxis": "x4",
         "y": [
          7.005
         ],
         "yaxis": "y4"
        },
        {
         "marker": {
          "color": "#19D3F3"
         },
         "name": "internvl3_5-8b",
         "showlegend": false,
         "text": [
          "6.57"
         ],
         "textposition": "outside",
         "type": "bar",
         "x": [
          "internvl3_5-8b"
         ],
         "xaxis": "x4",
         "y": [
          6.565
         ],
         "yaxis": "y4"
        },
        {
         "marker": {
          "color": "#87c55f"
         },
         "name": "deepcogito_cogito-v1-preview-llama-8b",
         "showlegend": false,
         "text": [
          "6.77"
         ],
         "textposition": "outside",
         "type": "bar",
         "x": [
          "deepcogito_cogito-v1-preview-llama-8b"
         ],
         "xaxis": "x4",
         "y": [
          6.77
         ],
         "yaxis": "y4"
        },
        {
         "marker": {
          "color": "#EF553B"
         },
         "name": "qwen2.5-7b-instruct",
         "showlegend": false,
         "text": [
          "6.54"
         ],
         "textposition": "outside",
         "type": "bar",
         "x": [
          "qwen2.5-7b-instruct"
         ],
         "xaxis": "x4",
         "y": [
          6.535
         ],
         "yaxis": "y4"
        },
        {
         "marker": {
          "color": "#fe88b1"
         },
         "name": "dolphin3.0-llama3.1-8b",
         "showlegend": false,
         "text": [
          "6.49"
         ],
         "textposition": "outside",
         "type": "bar",
         "x": [
          "dolphin3.0-llama3.1-8b"
         ],
         "xaxis": "x4",
         "y": [
          6.49
         ],
         "yaxis": "y4"
        },
        {
         "marker": {
          "color": "#FECB52"
         },
         "name": "llama-3.1-8b-instruct",
         "showlegend": false,
         "text": [
          "6.61"
         ],
         "textposition": "outside",
         "type": "bar",
         "x": [
          "llama-3.1-8b-instruct"
         ],
         "xaxis": "x4",
         "y": [
          6.605
         ],
         "yaxis": "y4"
        },
        {
         "marker": {
          "color": "#b497e7"
         },
         "name": "granite-3.3-8b-instruct",
         "showlegend": false,
         "text": [
          "6.25"
         ],
         "textposition": "outside",
         "type": "bar",
         "x": [
          "granite-3.3-8b-instruct"
         ],
         "xaxis": "x4",
         "y": [
          6.255
         ],
         "yaxis": "y4"
        },
        {
         "marker": {
          "color": "#00CC96"
         },
         "name": "internvl3_5-4b",
         "showlegend": false,
         "text": [
          "5.92"
         ],
         "textposition": "outside",
         "type": "bar",
         "x": [
          "internvl3_5-4b"
         ],
         "xaxis": "x4",
         "y": [
          5.925
         ],
         "yaxis": "y4"
        },
        {
         "marker": {
          "color": "#f6cf71"
         },
         "name": "aixsatoshi-honyaku-multi-translator-swallow-ms7b",
         "showlegend": false,
         "text": [
          "5.09"
         ],
         "textposition": "outside",
         "type": "bar",
         "x": [
          "aixsatoshi-honyaku-multi-translator-swallow-ms7b"
         ],
         "xaxis": "x4",
         "y": [
          5.095
         ],
         "yaxis": "y4"
        },
        {
         "marker": {
          "color": "#66c5cc"
         },
         "name": "gpt-4o",
         "showlegend": false,
         "text": [
          "7.63"
         ],
         "textposition": "outside",
         "type": "bar",
         "x": [
          "gpt-4o"
         ],
         "xaxis": "x5",
         "y": [
          7.63
         ],
         "yaxis": "y5"
        },
        {
         "marker": {
          "color": "#FF6692"
         },
         "name": "gemini-2.0-flash-lite",
         "showlegend": false,
         "text": [
          "6.41"
         ],
         "textposition": "outside",
         "type": "bar",
         "x": [
          "gemini-2.0-flash-lite"
         ],
         "xaxis": "x5",
         "y": [
          6.41
         ],
         "yaxis": "y5"
        },
        {
         "marker": {
          "color": "#9eb9f3"
         },
         "name": "gemma-3n-e4b-it",
         "showlegend": false,
         "text": [
          "6.37"
         ],
         "textposition": "outside",
         "type": "bar",
         "x": [
          "gemma-3n-e4b-it"
         ],
         "xaxis": "x5",
         "y": [
          6.37
         ],
         "yaxis": "y5"
        },
        {
         "marker": {
          "color": "#AB63FA"
         },
         "name": "gemma-3-12b-it",
         "showlegend": false,
         "text": [
          "6.17"
         ],
         "textposition": "outside",
         "type": "bar",
         "x": [
          "gemma-3-12b-it"
         ],
         "xaxis": "x5",
         "y": [
          6.165
         ],
         "yaxis": "y5"
        },
        {
         "marker": {
          "color": "#f89c74"
         },
         "name": "shisa-v2-llama3.1-8b",
         "showlegend": false,
         "text": [
          "6.12"
         ],
         "textposition": "outside",
         "type": "bar",
         "x": [
          "shisa-v2-llama3.1-8b"
         ],
         "xaxis": "x5",
         "y": [
          6.125
         ],
         "yaxis": "y5"
        },
        {
         "marker": {
          "color": "#b3b3b3"
         },
         "name": "gemma-3-4b",
         "showlegend": false,
         "text": [
          "5.74"
         ],
         "textposition": "outside",
         "type": "bar",
         "x": [
          "gemma-3-4b"
         ],
         "xaxis": "x5",
         "y": [
          5.74
         ],
         "yaxis": "y5"
        },
        {
         "marker": {
          "color": "#B6E880"
         },
         "name": "shisa-v2-qwen2.5-7b",
         "showlegend": false,
         "text": [
          "6.00"
         ],
         "textposition": "outside",
         "type": "bar",
         "x": [
          "shisa-v2-qwen2.5-7b"
         ],
         "xaxis": "x5",
         "y": [
          5.995
         ],
         "yaxis": "y5"
        },
        {
         "marker": {
          "color": "#FFA15A"
         },
         "name": "hunyuan-mt-chimera-7b",
         "showlegend": false,
         "text": [
          "5.71"
         ],
         "textposition": "outside",
         "type": "bar",
         "x": [
          "hunyuan-mt-chimera-7b"
         ],
         "xaxis": "x5",
         "y": [
          5.705
         ],
         "yaxis": "y5"
        },
        {
         "marker": {
          "color": "#FF97FF"
         },
         "name": "qwen3-8b",
         "showlegend": false,
         "text": [
          "5.83"
         ],
         "textposition": "outside",
         "type": "bar",
         "x": [
          "qwen3-8b"
         ],
         "xaxis": "x5",
         "y": [
          5.835
         ],
         "yaxis": "y5"
        },
        {
         "marker": {
          "color": "#c9db74"
         },
         "name": "hunyuan-mt-7b",
         "showlegend": false,
         "text": [
          "5.63"
         ],
         "textposition": "outside",
         "type": "bar",
         "x": [
          "hunyuan-mt-7b"
         ],
         "xaxis": "x5",
         "y": [
          5.63
         ],
         "yaxis": "y5"
        },
        {
         "marker": {
          "color": "#dcb0f2"
         },
         "name": "aya-expanse-8b-abliterated",
         "showlegend": false,
         "text": [
          "5.71"
         ],
         "textposition": "outside",
         "type": "bar",
         "x": [
          "aya-expanse-8b-abliterated"
         ],
         "xaxis": "x5",
         "y": [
          5.71
         ],
         "yaxis": "y5"
        },
        {
         "marker": {
          "color": "#19D3F3"
         },
         "name": "internvl3_5-8b",
         "showlegend": false,
         "text": [
          "5.21"
         ],
         "textposition": "outside",
         "type": "bar",
         "x": [
          "internvl3_5-8b"
         ],
         "xaxis": "x5",
         "y": [
          5.205
         ],
         "yaxis": "y5"
        },
        {
         "marker": {
          "color": "#87c55f"
         },
         "name": "deepcogito_cogito-v1-preview-llama-8b",
         "showlegend": false,
         "text": [
          "5.38"
         ],
         "textposition": "outside",
         "type": "bar",
         "x": [
          "deepcogito_cogito-v1-preview-llama-8b"
         ],
         "xaxis": "x5",
         "y": [
          5.38
         ],
         "yaxis": "y5"
        },
        {
         "marker": {
          "color": "#EF553B"
         },
         "name": "qwen2.5-7b-instruct",
         "showlegend": false,
         "text": [
          "5.08"
         ],
         "textposition": "outside",
         "type": "bar",
         "x": [
          "qwen2.5-7b-instruct"
         ],
         "xaxis": "x5",
         "y": [
          5.075
         ],
         "yaxis": "y5"
        },
        {
         "marker": {
          "color": "#fe88b1"
         },
         "name": "dolphin3.0-llama3.1-8b",
         "showlegend": false,
         "text": [
          "5.13"
         ],
         "textposition": "outside",
         "type": "bar",
         "x": [
          "dolphin3.0-llama3.1-8b"
         ],
         "xaxis": "x5",
         "y": [
          5.13
         ],
         "yaxis": "y5"
        },
        {
         "marker": {
          "color": "#FECB52"
         },
         "name": "llama-3.1-8b-instruct",
         "showlegend": false,
         "text": [
          "5.21"
         ],
         "textposition": "outside",
         "type": "bar",
         "x": [
          "llama-3.1-8b-instruct"
         ],
         "xaxis": "x5",
         "y": [
          5.205
         ],
         "yaxis": "y5"
        },
        {
         "marker": {
          "color": "#b497e7"
         },
         "name": "granite-3.3-8b-instruct",
         "showlegend": false,
         "text": [
          "4.96"
         ],
         "textposition": "outside",
         "type": "bar",
         "x": [
          "granite-3.3-8b-instruct"
         ],
         "xaxis": "x5",
         "y": [
          4.965
         ],
         "yaxis": "y5"
        },
        {
         "marker": {
          "color": "#00CC96"
         },
         "name": "internvl3_5-4b",
         "showlegend": false,
         "text": [
          "4.66"
         ],
         "textposition": "outside",
         "type": "bar",
         "x": [
          "internvl3_5-4b"
         ],
         "xaxis": "x5",
         "y": [
          4.66
         ],
         "yaxis": "y5"
        },
        {
         "marker": {
          "color": "#f6cf71"
         },
         "name": "aixsatoshi-honyaku-multi-translator-swallow-ms7b",
         "showlegend": false,
         "text": [
          "4.54"
         ],
         "textposition": "outside",
         "type": "bar",
         "x": [
          "aixsatoshi-honyaku-multi-translator-swallow-ms7b"
         ],
         "xaxis": "x5",
         "y": [
          4.545
         ],
         "yaxis": "y5"
        },
        {
         "marker": {
          "color": "#66c5cc"
         },
         "name": "gpt-4o",
         "showlegend": false,
         "text": [
          "8.04"
         ],
         "textposition": "outside",
         "type": "bar",
         "x": [
          "gpt-4o"
         ],
         "xaxis": "x6",
         "y": [
          8.035
         ],
         "yaxis": "y6"
        },
        {
         "marker": {
          "color": "#FF6692"
         },
         "name": "gemini-2.0-flash-lite",
         "showlegend": false,
         "text": [
          "8.16"
         ],
         "textposition": "outside",
         "type": "bar",
         "x": [
          "gemini-2.0-flash-lite"
         ],
         "xaxis": "x6",
         "y": [
          8.16
         ],
         "yaxis": "y6"
        },
        {
         "marker": {
          "color": "#9eb9f3"
         },
         "name": "gemma-3n-e4b-it",
         "showlegend": false,
         "text": [
          "7.60"
         ],
         "textposition": "outside",
         "type": "bar",
         "x": [
          "gemma-3n-e4b-it"
         ],
         "xaxis": "x6",
         "y": [
          7.6
         ],
         "yaxis": "y6"
        },
        {
         "marker": {
          "color": "#AB63FA"
         },
         "name": "gemma-3-12b-it",
         "showlegend": false,
         "text": [
          "7.33"
         ],
         "textposition": "outside",
         "type": "bar",
         "x": [
          "gemma-3-12b-it"
         ],
         "xaxis": "x6",
         "y": [
          7.33
         ],
         "yaxis": "y6"
        },
        {
         "marker": {
          "color": "#f89c74"
         },
         "name": "shisa-v2-llama3.1-8b",
         "showlegend": false,
         "text": [
          "6.97"
         ],
         "textposition": "outside",
         "type": "bar",
         "x": [
          "shisa-v2-llama3.1-8b"
         ],
         "xaxis": "x6",
         "y": [
          6.975
         ],
         "yaxis": "y6"
        },
        {
         "marker": {
          "color": "#b3b3b3"
         },
         "name": "gemma-3-4b",
         "showlegend": false,
         "text": [
          "7.39"
         ],
         "textposition": "outside",
         "type": "bar",
         "x": [
          "gemma-3-4b"
         ],
         "xaxis": "x6",
         "y": [
          7.395
         ],
         "yaxis": "y6"
        },
        {
         "marker": {
          "color": "#B6E880"
         },
         "name": "shisa-v2-qwen2.5-7b",
         "showlegend": false,
         "text": [
          "6.07"
         ],
         "textposition": "outside",
         "type": "bar",
         "x": [
          "shisa-v2-qwen2.5-7b"
         ],
         "xaxis": "x6",
         "y": [
          6.07
         ],
         "yaxis": "y6"
        },
        {
         "marker": {
          "color": "#FFA15A"
         },
         "name": "hunyuan-mt-chimera-7b",
         "showlegend": false,
         "text": [
          "5.77"
         ],
         "textposition": "outside",
         "type": "bar",
         "x": [
          "hunyuan-mt-chimera-7b"
         ],
         "xaxis": "x6",
         "y": [
          5.77
         ],
         "yaxis": "y6"
        },
        {
         "marker": {
          "color": "#FF97FF"
         },
         "name": "qwen3-8b",
         "showlegend": false,
         "text": [
          "6.80"
         ],
         "textposition": "outside",
         "type": "bar",
         "x": [
          "qwen3-8b"
         ],
         "xaxis": "x6",
         "y": [
          6.8
         ],
         "yaxis": "y6"
        },
        {
         "marker": {
          "color": "#c9db74"
         },
         "name": "hunyuan-mt-7b",
         "showlegend": false,
         "text": [
          "4.67"
         ],
         "textposition": "outside",
         "type": "bar",
         "x": [
          "hunyuan-mt-7b"
         ],
         "xaxis": "x6",
         "y": [
          4.675
         ],
         "yaxis": "y6"
        },
        {
         "marker": {
          "color": "#dcb0f2"
         },
         "name": "aya-expanse-8b-abliterated",
         "showlegend": false,
         "text": [
          "4.81"
         ],
         "textposition": "outside",
         "type": "bar",
         "x": [
          "aya-expanse-8b-abliterated"
         ],
         "xaxis": "x6",
         "y": [
          4.81
         ],
         "yaxis": "y6"
        },
        {
         "marker": {
          "color": "#19D3F3"
         },
         "name": "internvl3_5-8b",
         "showlegend": false,
         "text": [
          "6.73"
         ],
         "textposition": "outside",
         "type": "bar",
         "x": [
          "internvl3_5-8b"
         ],
         "xaxis": "x6",
         "y": [
          6.73
         ],
         "yaxis": "y6"
        },
        {
         "marker": {
          "color": "#87c55f"
         },
         "name": "deepcogito_cogito-v1-preview-llama-8b",
         "showlegend": false,
         "text": [
          "5.62"
         ],
         "textposition": "outside",
         "type": "bar",
         "x": [
          "deepcogito_cogito-v1-preview-llama-8b"
         ],
         "xaxis": "x6",
         "y": [
          5.625
         ],
         "yaxis": "y6"
        },
        {
         "marker": {
          "color": "#EF553B"
         },
         "name": "qwen2.5-7b-instruct",
         "showlegend": false,
         "text": [
          "6.25"
         ],
         "textposition": "outside",
         "type": "bar",
         "x": [
          "qwen2.5-7b-instruct"
         ],
         "xaxis": "x6",
         "y": [
          6.245
         ],
         "yaxis": "y6"
        },
        {
         "marker": {
          "color": "#fe88b1"
         },
         "name": "dolphin3.0-llama3.1-8b",
         "showlegend": false,
         "text": [
          "5.90"
         ],
         "textposition": "outside",
         "type": "bar",
         "x": [
          "dolphin3.0-llama3.1-8b"
         ],
         "xaxis": "x6",
         "y": [
          5.9
         ],
         "yaxis": "y6"
        },
        {
         "marker": {
          "color": "#FECB52"
         },
         "name": "llama-3.1-8b-instruct",
         "showlegend": false,
         "text": [
          "4.97"
         ],
         "textposition": "outside",
         "type": "bar",
         "x": [
          "llama-3.1-8b-instruct"
         ],
         "xaxis": "x6",
         "y": [
          4.97
         ],
         "yaxis": "y6"
        },
        {
         "marker": {
          "color": "#b497e7"
         },
         "name": "granite-3.3-8b-instruct",
         "showlegend": false,
         "text": [
          "5.97"
         ],
         "textposition": "outside",
         "type": "bar",
         "x": [
          "granite-3.3-8b-instruct"
         ],
         "xaxis": "x6",
         "y": [
          5.975
         ],
         "yaxis": "y6"
        },
        {
         "marker": {
          "color": "#00CC96"
         },
         "name": "internvl3_5-4b",
         "showlegend": false,
         "text": [
          "5.62"
         ],
         "textposition": "outside",
         "type": "bar",
         "x": [
          "internvl3_5-4b"
         ],
         "xaxis": "x6",
         "y": [
          5.625
         ],
         "yaxis": "y6"
        },
        {
         "marker": {
          "color": "#f6cf71"
         },
         "name": "aixsatoshi-honyaku-multi-translator-swallow-ms7b",
         "showlegend": false,
         "text": [
          "5.46"
         ],
         "textposition": "outside",
         "type": "bar",
         "x": [
          "aixsatoshi-honyaku-multi-translator-swallow-ms7b"
         ],
         "xaxis": "x6",
         "y": [
          5.46
         ],
         "yaxis": "y6"
        },
        {
         "marker": {
          "color": "#66c5cc"
         },
         "name": "gpt-4o",
         "showlegend": false,
         "text": [
          "8.28"
         ],
         "textposition": "outside",
         "type": "bar",
         "x": [
          "gpt-4o"
         ],
         "xaxis": "x7",
         "y": [
          8.277500000000002
         ],
         "yaxis": "y7"
        },
        {
         "marker": {
          "color": "#FF6692"
         },
         "name": "gemini-2.0-flash-lite",
         "showlegend": false,
         "text": [
          "7.38"
         ],
         "textposition": "outside",
         "type": "bar",
         "x": [
          "gemini-2.0-flash-lite"
         ],
         "xaxis": "x7",
         "y": [
          7.375
         ],
         "yaxis": "y7"
        },
        {
         "marker": {
          "color": "#9eb9f3"
         },
         "name": "gemma-3n-e4b-it",
         "showlegend": false,
         "text": [
          "7.25"
         ],
         "textposition": "outside",
         "type": "bar",
         "x": [
          "gemma-3n-e4b-it"
         ],
         "xaxis": "x7",
         "y": [
          7.246666666666667
         ],
         "yaxis": "y7"
        },
        {
         "marker": {
          "color": "#AB63FA"
         },
         "name": "gemma-3-12b-it",
         "showlegend": false,
         "text": [
          "7.07"
         ],
         "textposition": "outside",
         "type": "bar",
         "x": [
          "gemma-3-12b-it"
         ],
         "xaxis": "x7",
         "y": [
          7.066666666666666
         ],
         "yaxis": "y7"
        },
        {
         "marker": {
          "color": "#f89c74"
         },
         "name": "shisa-v2-llama3.1-8b",
         "showlegend": false,
         "text": [
          "6.96"
         ],
         "textposition": "outside",
         "type": "bar",
         "x": [
          "shisa-v2-llama3.1-8b"
         ],
         "xaxis": "x7",
         "y": [
          6.959166666666667
         ],
         "yaxis": "y7"
        },
        {
         "marker": {
          "color": "#b3b3b3"
         },
         "name": "gemma-3-4b",
         "showlegend": false,
         "text": [
          "6.67"
         ],
         "textposition": "outside",
         "type": "bar",
         "x": [
          "gemma-3-4b"
         ],
         "xaxis": "x7",
         "y": [
          6.670833333333334
         ],
         "yaxis": "y7"
        },
        {
         "marker": {
          "color": "#B6E880"
         },
         "name": "shisa-v2-qwen2.5-7b",
         "showlegend": false,
         "text": [
          "6.64"
         ],
         "textposition": "outside",
         "type": "bar",
         "x": [
          "shisa-v2-qwen2.5-7b"
         ],
         "xaxis": "x7",
         "y": [
          6.644166666666667
         ],
         "yaxis": "y7"
        },
        {
         "marker": {
          "color": "#FFA15A"
         },
         "name": "hunyuan-mt-chimera-7b",
         "showlegend": false,
         "text": [
          "6.57"
         ],
         "textposition": "outside",
         "type": "bar",
         "x": [
          "hunyuan-mt-chimera-7b"
         ],
         "xaxis": "x7",
         "y": [
          6.57
         ],
         "yaxis": "y7"
        },
        {
         "marker": {
          "color": "#FF97FF"
         },
         "name": "qwen3-8b",
         "showlegend": false,
         "text": [
          "6.40"
         ],
         "textposition": "outside",
         "type": "bar",
         "x": [
          "qwen3-8b"
         ],
         "xaxis": "x7",
         "y": [
          6.395833333333333
         ],
         "yaxis": "y7"
        },
        {
         "marker": {
          "color": "#c9db74"
         },
         "name": "hunyuan-mt-7b",
         "showlegend": false,
         "text": [
          "6.35"
         ],
         "textposition": "outside",
         "type": "bar",
         "x": [
          "hunyuan-mt-7b"
         ],
         "xaxis": "x7",
         "y": [
          6.3475
         ],
         "yaxis": "y7"
        },
        {
         "marker": {
          "color": "#dcb0f2"
         },
         "name": "aya-expanse-8b-abliterated",
         "showlegend": false,
         "text": [
          "6.27"
         ],
         "textposition": "outside",
         "type": "bar",
         "x": [
          "aya-expanse-8b-abliterated"
         ],
         "xaxis": "x7",
         "y": [
          6.2749999999999995
         ],
         "yaxis": "y7"
        },
        {
         "marker": {
          "color": "#19D3F3"
         },
         "name": "internvl3_5-8b",
         "showlegend": false,
         "text": [
          "6.16"
         ],
         "textposition": "outside",
         "type": "bar",
         "x": [
          "internvl3_5-8b"
         ],
         "xaxis": "x7",
         "y": [
          6.160833333333334
         ],
         "yaxis": "y7"
        },
        {
         "marker": {
          "color": "#87c55f"
         },
         "name": "deepcogito_cogito-v1-preview-llama-8b",
         "showlegend": false,
         "text": [
          "6.15"
         ],
         "textposition": "outside",
         "type": "bar",
         "x": [
          "deepcogito_cogito-v1-preview-llama-8b"
         ],
         "xaxis": "x7",
         "y": [
          6.154166666666666
         ],
         "yaxis": "y7"
        },
        {
         "marker": {
          "color": "#EF553B"
         },
         "name": "qwen2.5-7b-instruct",
         "showlegend": false,
         "text": [
          "5.99"
         ],
         "textposition": "outside",
         "type": "bar",
         "x": [
          "qwen2.5-7b-instruct"
         ],
         "xaxis": "x7",
         "y": [
          5.989166666666666
         ],
         "yaxis": "y7"
        },
        {
         "marker": {
          "color": "#fe88b1"
         },
         "name": "dolphin3.0-llama3.1-8b",
         "showlegend": false,
         "text": [
          "5.93"
         ],
         "textposition": "outside",
         "type": "bar",
         "x": [
          "dolphin3.0-llama3.1-8b"
         ],
         "xaxis": "x7",
         "y": [
          5.930833333333333
         ],
         "yaxis": "y7"
        },
        {
         "marker": {
          "color": "#FECB52"
         },
         "name": "llama-3.1-8b-instruct",
         "showlegend": false,
         "text": [
          "5.89"
         ],
         "textposition": "outside",
         "type": "bar",
         "x": [
          "llama-3.1-8b-instruct"
         ],
         "xaxis": "x7",
         "y": [
          5.888333333333333
         ],
         "yaxis": "y7"
        },
        {
         "marker": {
          "color": "#b497e7"
         },
         "name": "granite-3.3-8b-instruct",
         "showlegend": false,
         "text": [
          "5.77"
         ],
         "textposition": "outside",
         "type": "bar",
         "x": [
          "granite-3.3-8b-instruct"
         ],
         "xaxis": "x7",
         "y": [
          5.769166666666667
         ],
         "yaxis": "y7"
        },
        {
         "marker": {
          "color": "#00CC96"
         },
         "name": "internvl3_5-4b",
         "showlegend": false,
         "text": [
          "5.47"
         ],
         "textposition": "outside",
         "type": "bar",
         "x": [
          "internvl3_5-4b"
         ],
         "xaxis": "x7",
         "y": [
          5.474166666666666
         ],
         "yaxis": "y7"
        },
        {
         "marker": {
          "color": "#f6cf71"
         },
         "name": "aixsatoshi-honyaku-multi-translator-swallow-ms7b",
         "showlegend": false,
         "text": [
          "4.96"
         ],
         "textposition": "outside",
         "type": "bar",
         "x": [
          "aixsatoshi-honyaku-multi-translator-swallow-ms7b"
         ],
         "xaxis": "x7",
         "y": [
          4.964166666666667
         ],
         "yaxis": "y7"
        }
       ],
       "layout": {
        "annotations": [
         {
          "font": {
           "size": 16
          },
          "showarrow": false,
          "text": "Accuracy",
          "x": 0.2375,
          "xanchor": "center",
          "xref": "paper",
          "y": 1,
          "yanchor": "bottom",
          "yref": "paper"
         },
         {
          "font": {
           "size": 16
          },
          "showarrow": false,
          "text": "Fluency",
          "x": 0.7625,
          "xanchor": "center",
          "xref": "paper",
          "y": 1,
          "yanchor": "bottom",
          "yref": "paper"
         },
         {
          "font": {
           "size": 16
          },
          "showarrow": false,
          "text": "Character Voice",
          "x": 0.2375,
          "xanchor": "center",
          "xref": "paper",
          "y": 0.73,
          "yanchor": "bottom",
          "yref": "paper"
         },
         {
          "font": {
           "size": 16
          },
          "showarrow": false,
          "text": "Tone",
          "x": 0.7625,
          "xanchor": "center",
          "xref": "paper",
          "y": 0.73,
          "yanchor": "bottom",
          "yref": "paper"
         },
         {
          "font": {
           "size": 16
          },
          "showarrow": false,
          "text": "Localization",
          "x": 0.2375,
          "xanchor": "center",
          "xref": "paper",
          "y": 0.46,
          "yanchor": "bottom",
          "yref": "paper"
         },
         {
          "font": {
           "size": 16
          },
          "showarrow": false,
          "text": "Direction Following",
          "x": 0.7625,
          "xanchor": "center",
          "xref": "paper",
          "y": 0.46,
          "yanchor": "bottom",
          "yref": "paper"
         },
         {
          "font": {
           "size": 16
          },
          "showarrow": false,
          "text": "Average Sub-Score",
          "x": 0.2375,
          "xanchor": "center",
          "xref": "paper",
          "y": 0.19,
          "yanchor": "bottom",
          "yref": "paper"
         }
        ],
        "bargap": 0.01,
        "bargroupgap": 0.01,
        "barmode": "group",
        "height": 1400,
        "legend": {
         "title": {
          "text": "Model"
         }
        },
        "template": {
         "data": {
          "bar": [
           {
            "error_x": {
             "color": "#2a3f5f"
            },
            "error_y": {
             "color": "#2a3f5f"
            },
            "marker": {
             "line": {
              "color": "white",
              "width": 0.5
             },
             "pattern": {
              "fillmode": "overlay",
              "size": 10,
              "solidity": 0.2
             }
            },
            "type": "bar"
           }
          ],
          "barpolar": [
           {
            "marker": {
             "line": {
              "color": "white",
              "width": 0.5
             },
             "pattern": {
              "fillmode": "overlay",
              "size": 10,
              "solidity": 0.2
             }
            },
            "type": "barpolar"
           }
          ],
          "carpet": [
           {
            "aaxis": {
             "endlinecolor": "#2a3f5f",
             "gridcolor": "#C8D4E3",
             "linecolor": "#C8D4E3",
             "minorgridcolor": "#C8D4E3",
             "startlinecolor": "#2a3f5f"
            },
            "baxis": {
             "endlinecolor": "#2a3f5f",
             "gridcolor": "#C8D4E3",
             "linecolor": "#C8D4E3",
             "minorgridcolor": "#C8D4E3",
             "startlinecolor": "#2a3f5f"
            },
            "type": "carpet"
           }
          ],
          "choropleth": [
           {
            "colorbar": {
             "outlinewidth": 0,
             "ticks": ""
            },
            "type": "choropleth"
           }
          ],
          "contour": [
           {
            "colorbar": {
             "outlinewidth": 0,
             "ticks": ""
            },
            "colorscale": [
             [
              0,
              "#0d0887"
             ],
             [
              0.1111111111111111,
              "#46039f"
             ],
             [
              0.2222222222222222,
              "#7201a8"
             ],
             [
              0.3333333333333333,
              "#9c179e"
             ],
             [
              0.4444444444444444,
              "#bd3786"
             ],
             [
              0.5555555555555556,
              "#d8576b"
             ],
             [
              0.6666666666666666,
              "#ed7953"
             ],
             [
              0.7777777777777778,
              "#fb9f3a"
             ],
             [
              0.8888888888888888,
              "#fdca26"
             ],
             [
              1,
              "#f0f921"
             ]
            ],
            "type": "contour"
           }
          ],
          "contourcarpet": [
           {
            "colorbar": {
             "outlinewidth": 0,
             "ticks": ""
            },
            "type": "contourcarpet"
           }
          ],
          "heatmap": [
           {
            "colorbar": {
             "outlinewidth": 0,
             "ticks": ""
            },
            "colorscale": [
             [
              0,
              "#0d0887"
             ],
             [
              0.1111111111111111,
              "#46039f"
             ],
             [
              0.2222222222222222,
              "#7201a8"
             ],
             [
              0.3333333333333333,
              "#9c179e"
             ],
             [
              0.4444444444444444,
              "#bd3786"
             ],
             [
              0.5555555555555556,
              "#d8576b"
             ],
             [
              0.6666666666666666,
              "#ed7953"
             ],
             [
              0.7777777777777778,
              "#fb9f3a"
             ],
             [
              0.8888888888888888,
              "#fdca26"
             ],
             [
              1,
              "#f0f921"
             ]
            ],
            "type": "heatmap"
           }
          ],
          "histogram": [
           {
            "marker": {
             "pattern": {
              "fillmode": "overlay",
              "size": 10,
              "solidity": 0.2
             }
            },
            "type": "histogram"
           }
          ],
          "histogram2d": [
           {
            "colorbar": {
             "outlinewidth": 0,
             "ticks": ""
            },
            "colorscale": [
             [
              0,
              "#0d0887"
             ],
             [
              0.1111111111111111,
              "#46039f"
             ],
             [
              0.2222222222222222,
              "#7201a8"
             ],
             [
              0.3333333333333333,
              "#9c179e"
             ],
             [
              0.4444444444444444,
              "#bd3786"
             ],
             [
              0.5555555555555556,
              "#d8576b"
             ],
             [
              0.6666666666666666,
              "#ed7953"
             ],
             [
              0.7777777777777778,
              "#fb9f3a"
             ],
             [
              0.8888888888888888,
              "#fdca26"
             ],
             [
              1,
              "#f0f921"
             ]
            ],
            "type": "histogram2d"
           }
          ],
          "histogram2dcontour": [
           {
            "colorbar": {
             "outlinewidth": 0,
             "ticks": ""
            },
            "colorscale": [
             [
              0,
              "#0d0887"
             ],
             [
              0.1111111111111111,
              "#46039f"
             ],
             [
              0.2222222222222222,
              "#7201a8"
             ],
             [
              0.3333333333333333,
              "#9c179e"
             ],
             [
              0.4444444444444444,
              "#bd3786"
             ],
             [
              0.5555555555555556,
              "#d8576b"
             ],
             [
              0.6666666666666666,
              "#ed7953"
             ],
             [
              0.7777777777777778,
              "#fb9f3a"
             ],
             [
              0.8888888888888888,
              "#fdca26"
             ],
             [
              1,
              "#f0f921"
             ]
            ],
            "type": "histogram2dcontour"
           }
          ],
          "mesh3d": [
           {
            "colorbar": {
             "outlinewidth": 0,
             "ticks": ""
            },
            "type": "mesh3d"
           }
          ],
          "parcoords": [
           {
            "line": {
             "colorbar": {
              "outlinewidth": 0,
              "ticks": ""
             }
            },
            "type": "parcoords"
           }
          ],
          "pie": [
           {
            "automargin": true,
            "type": "pie"
           }
          ],
          "scatter": [
           {
            "fillpattern": {
             "fillmode": "overlay",
             "size": 10,
             "solidity": 0.2
            },
            "type": "scatter"
           }
          ],
          "scatter3d": [
           {
            "line": {
             "colorbar": {
              "outlinewidth": 0,
              "ticks": ""
             }
            },
            "marker": {
             "colorbar": {
              "outlinewidth": 0,
              "ticks": ""
             }
            },
            "type": "scatter3d"
           }
          ],
          "scattercarpet": [
           {
            "marker": {
             "colorbar": {
              "outlinewidth": 0,
              "ticks": ""
             }
            },
            "type": "scattercarpet"
           }
          ],
          "scattergeo": [
           {
            "marker": {
             "colorbar": {
              "outlinewidth": 0,
              "ticks": ""
             }
            },
            "type": "scattergeo"
           }
          ],
          "scattergl": [
           {
            "marker": {
             "colorbar": {
              "outlinewidth": 0,
              "ticks": ""
             }
            },
            "type": "scattergl"
           }
          ],
          "scattermap": [
           {
            "marker": {
             "colorbar": {
              "outlinewidth": 0,
              "ticks": ""
             }
            },
            "type": "scattermap"
           }
          ],
          "scattermapbox": [
           {
            "marker": {
             "colorbar": {
              "outlinewidth": 0,
              "ticks": ""
             }
            },
            "type": "scattermapbox"
           }
          ],
          "scatterpolar": [
           {
            "marker": {
             "colorbar": {
              "outlinewidth": 0,
              "ticks": ""
             }
            },
            "type": "scatterpolar"
           }
          ],
          "scatterpolargl": [
           {
            "marker": {
             "colorbar": {
              "outlinewidth": 0,
              "ticks": ""
             }
            },
            "type": "scatterpolargl"
           }
          ],
          "scatterternary": [
           {
            "marker": {
             "colorbar": {
              "outlinewidth": 0,
              "ticks": ""
             }
            },
            "type": "scatterternary"
           }
          ],
          "surface": [
           {
            "colorbar": {
             "outlinewidth": 0,
             "ticks": ""
            },
            "colorscale": [
             [
              0,
              "#0d0887"
             ],
             [
              0.1111111111111111,
              "#46039f"
             ],
             [
              0.2222222222222222,
              "#7201a8"
             ],
             [
              0.3333333333333333,
              "#9c179e"
             ],
             [
              0.4444444444444444,
              "#bd3786"
             ],
             [
              0.5555555555555556,
              "#d8576b"
             ],
             [
              0.6666666666666666,
              "#ed7953"
             ],
             [
              0.7777777777777778,
              "#fb9f3a"
             ],
             [
              0.8888888888888888,
              "#fdca26"
             ],
             [
              1,
              "#f0f921"
             ]
            ],
            "type": "surface"
           }
          ],
          "table": [
           {
            "cells": {
             "fill": {
              "color": "#EBF0F8"
             },
             "line": {
              "color": "white"
             }
            },
            "header": {
             "fill": {
              "color": "#C8D4E3"
             },
             "line": {
              "color": "white"
             }
            },
            "type": "table"
           }
          ]
         },
         "layout": {
          "annotationdefaults": {
           "arrowcolor": "#2a3f5f",
           "arrowhead": 0,
           "arrowwidth": 1
          },
          "autotypenumbers": "strict",
          "coloraxis": {
           "colorbar": {
            "outlinewidth": 0,
            "ticks": ""
           }
          },
          "colorscale": {
           "diverging": [
            [
             0,
             "#8e0152"
            ],
            [
             0.1,
             "#c51b7d"
            ],
            [
             0.2,
             "#de77ae"
            ],
            [
             0.3,
             "#f1b6da"
            ],
            [
             0.4,
             "#fde0ef"
            ],
            [
             0.5,
             "#f7f7f7"
            ],
            [
             0.6,
             "#e6f5d0"
            ],
            [
             0.7,
             "#b8e186"
            ],
            [
             0.8,
             "#7fbc41"
            ],
            [
             0.9,
             "#4d9221"
            ],
            [
             1,
             "#276419"
            ]
           ],
           "sequential": [
            [
             0,
             "#0d0887"
            ],
            [
             0.1111111111111111,
             "#46039f"
            ],
            [
             0.2222222222222222,
             "#7201a8"
            ],
            [
             0.3333333333333333,
             "#9c179e"
            ],
            [
             0.4444444444444444,
             "#bd3786"
            ],
            [
             0.5555555555555556,
             "#d8576b"
            ],
            [
             0.6666666666666666,
             "#ed7953"
            ],
            [
             0.7777777777777778,
             "#fb9f3a"
            ],
            [
             0.8888888888888888,
             "#fdca26"
            ],
            [
             1,
             "#f0f921"
            ]
           ],
           "sequentialminus": [
            [
             0,
             "#0d0887"
            ],
            [
             0.1111111111111111,
             "#46039f"
            ],
            [
             0.2222222222222222,
             "#7201a8"
            ],
            [
             0.3333333333333333,
             "#9c179e"
            ],
            [
             0.4444444444444444,
             "#bd3786"
            ],
            [
             0.5555555555555556,
             "#d8576b"
            ],
            [
             0.6666666666666666,
             "#ed7953"
            ],
            [
             0.7777777777777778,
             "#fb9f3a"
            ],
            [
             0.8888888888888888,
             "#fdca26"
            ],
            [
             1,
             "#f0f921"
            ]
           ]
          },
          "colorway": [
           "#636efa",
           "#EF553B",
           "#00cc96",
           "#ab63fa",
           "#FFA15A",
           "#19d3f3",
           "#FF6692",
           "#B6E880",
           "#FF97FF",
           "#FECB52"
          ],
          "font": {
           "color": "#2a3f5f"
          },
          "geo": {
           "bgcolor": "white",
           "lakecolor": "white",
           "landcolor": "white",
           "showlakes": true,
           "showland": true,
           "subunitcolor": "#C8D4E3"
          },
          "hoverlabel": {
           "align": "left"
          },
          "hovermode": "closest",
          "mapbox": {
           "style": "light"
          },
          "paper_bgcolor": "white",
          "plot_bgcolor": "white",
          "polar": {
           "angularaxis": {
            "gridcolor": "#EBF0F8",
            "linecolor": "#EBF0F8",
            "ticks": ""
           },
           "bgcolor": "white",
           "radialaxis": {
            "gridcolor": "#EBF0F8",
            "linecolor": "#EBF0F8",
            "ticks": ""
           }
          },
          "scene": {
           "xaxis": {
            "backgroundcolor": "white",
            "gridcolor": "#DFE8F3",
            "gridwidth": 2,
            "linecolor": "#EBF0F8",
            "showbackground": true,
            "ticks": "",
            "zerolinecolor": "#EBF0F8"
           },
           "yaxis": {
            "backgroundcolor": "white",
            "gridcolor": "#DFE8F3",
            "gridwidth": 2,
            "linecolor": "#EBF0F8",
            "showbackground": true,
            "ticks": "",
            "zerolinecolor": "#EBF0F8"
           },
           "zaxis": {
            "backgroundcolor": "white",
            "gridcolor": "#DFE8F3",
            "gridwidth": 2,
            "linecolor": "#EBF0F8",
            "showbackground": true,
            "ticks": "",
            "zerolinecolor": "#EBF0F8"
           }
          },
          "shapedefaults": {
           "line": {
            "color": "#2a3f5f"
           }
          },
          "ternary": {
           "aaxis": {
            "gridcolor": "#DFE8F3",
            "linecolor": "#A2B1C6",
            "ticks": ""
           },
           "baxis": {
            "gridcolor": "#DFE8F3",
            "linecolor": "#A2B1C6",
            "ticks": ""
           },
           "bgcolor": "white",
           "caxis": {
            "gridcolor": "#DFE8F3",
            "linecolor": "#A2B1C6",
            "ticks": ""
           }
          },
          "title": {
           "x": 0.05
          },
          "xaxis": {
           "automargin": true,
           "gridcolor": "#EBF0F8",
           "linecolor": "#EBF0F8",
           "ticks": "",
           "title": {
            "standoff": 15
           },
           "zerolinecolor": "#EBF0F8",
           "zerolinewidth": 2
          },
          "yaxis": {
           "automargin": true,
           "gridcolor": "#EBF0F8",
           "linecolor": "#EBF0F8",
           "ticks": "",
           "title": {
            "standoff": 15
           },
           "zerolinecolor": "#EBF0F8",
           "zerolinewidth": 2
          }
         }
        },
        "title": {
         "text": "VNTL Detailed Score Comparison<br><sup>Judge: gpt-4.1 | 4B - 8B Model Range</sup>",
         "x": 0.5
        },
        "width": 1200,
        "xaxis": {
         "anchor": "y",
         "domain": [
          0,
          0.475
         ],
         "showticklabels": false
        },
        "xaxis2": {
         "anchor": "y2",
         "domain": [
          0.525,
          1
         ],
         "showticklabels": false
        },
        "xaxis3": {
         "anchor": "y3",
         "domain": [
          0,
          0.475
         ],
         "showticklabels": false
        },
        "xaxis4": {
         "anchor": "y4",
         "domain": [
          0.525,
          1
         ],
         "showticklabels": false
        },
        "xaxis5": {
         "anchor": "y5",
         "domain": [
          0,
          0.475
         ],
         "showticklabels": false
        },
        "xaxis6": {
         "anchor": "y6",
         "domain": [
          0.525,
          1
         ],
         "showticklabels": false
        },
        "xaxis7": {
         "anchor": "y7",
         "domain": [
          0,
          0.475
         ],
         "showticklabels": false
        },
        "xaxis8": {
         "anchor": "y8",
         "domain": [
          0.525,
          1
         ]
        },
        "yaxis": {
         "anchor": "x",
         "domain": [
          0.81,
          1
         ],
         "range": [
          0,
          10.5
         ]
        },
        "yaxis2": {
         "anchor": "x2",
         "domain": [
          0.81,
          1
         ],
         "range": [
          0,
          10.5
         ]
        },
        "yaxis3": {
         "anchor": "x3",
         "domain": [
          0.54,
          0.73
         ],
         "range": [
          0,
          10.5
         ]
        },
        "yaxis4": {
         "anchor": "x4",
         "domain": [
          0.54,
          0.73
         ],
         "range": [
          0,
          10.5
         ]
        },
        "yaxis5": {
         "anchor": "x5",
         "domain": [
          0.27,
          0.46
         ],
         "range": [
          0,
          10.5
         ]
        },
        "yaxis6": {
         "anchor": "x6",
         "domain": [
          0.27,
          0.46
         ],
         "range": [
          0,
          10.5
         ]
        },
        "yaxis7": {
         "anchor": "x7",
         "domain": [
          0,
          0.19
         ],
         "range": [
          0,
          10.5
         ]
        },
        "yaxis8": {
         "anchor": "x8",
         "domain": [
          0,
          0.19
         ]
        }
       }
      }
     },
     "metadata": {},
     "output_type": "display_data"
    },
    {
     "data": {
      "application/vnd.plotly.v1+json": {
       "config": {
        "plotlyServerURL": "https://plot.ly"
       },
       "data": [
        {
         "marker": {
          "color": "#66c5cc"
         },
         "name": "gpt-4o",
         "showlegend": true,
         "text": [
          "8.28"
         ],
         "textposition": "outside",
         "type": "bar",
         "x": [
          "gpt-4o"
         ],
         "xaxis": "x",
         "y": [
          8.28
         ],
         "yaxis": "y"
        },
        {
         "marker": {
          "color": "#9eb9f3"
         },
         "name": "gemma-3n-e4b-it",
         "showlegend": true,
         "text": [
          "7.36"
         ],
         "textposition": "outside",
         "type": "bar",
         "x": [
          "gemma-3n-e4b-it"
         ],
         "xaxis": "x",
         "y": [
          7.355
         ],
         "yaxis": "y"
        },
        {
         "marker": {
          "color": "#FF6692"
         },
         "name": "gemini-2.0-flash-lite",
         "showlegend": true,
         "text": [
          "7.71"
         ],
         "textposition": "outside",
         "type": "bar",
         "x": [
          "gemini-2.0-flash-lite"
         ],
         "xaxis": "x",
         "y": [
          7.715
         ],
         "yaxis": "y"
        },
        {
         "marker": {
          "color": "#AB63FA"
         },
         "name": "gemma-3-12b-it",
         "showlegend": true,
         "text": [
          "7.09"
         ],
         "textposition": "outside",
         "type": "bar",
         "x": [
          "gemma-3-12b-it"
         ],
         "xaxis": "x",
         "y": [
          7.09
         ],
         "yaxis": "y"
        },
        {
         "marker": {
          "color": "#f89c74"
         },
         "name": "shisa-v2-llama3.1-8b",
         "showlegend": true,
         "text": [
          "6.82"
         ],
         "textposition": "outside",
         "type": "bar",
         "x": [
          "shisa-v2-llama3.1-8b"
         ],
         "xaxis": "x",
         "y": [
          6.815
         ],
         "yaxis": "y"
        },
        {
         "marker": {
          "color": "#B6E880"
         },
         "name": "shisa-v2-qwen2.5-7b",
         "showlegend": true,
         "text": [
          "6.60"
         ],
         "textposition": "outside",
         "type": "bar",
         "x": [
          "shisa-v2-qwen2.5-7b"
         ],
         "xaxis": "x",
         "y": [
          6.6
         ],
         "yaxis": "y"
        },
        {
         "marker": {
          "color": "#dcb0f2"
         },
         "name": "aya-expanse-8b-abliterated",
         "showlegend": true,
         "text": [
          "6.69"
         ],
         "textposition": "outside",
         "type": "bar",
         "x": [
          "aya-expanse-8b-abliterated"
         ],
         "xaxis": "x",
         "y": [
          6.69
         ],
         "yaxis": "y"
        },
        {
         "marker": {
          "color": "#FFA15A"
         },
         "name": "hunyuan-mt-chimera-7b",
         "showlegend": true,
         "text": [
          "6.66"
         ],
         "textposition": "outside",
         "type": "bar",
         "x": [
          "hunyuan-mt-chimera-7b"
         ],
         "xaxis": "x",
         "y": [
          6.66
         ],
         "yaxis": "y"
        },
        {
         "marker": {
          "color": "#EF553B"
         },
         "name": "qwen2.5-7b-instruct",
         "showlegend": true,
         "text": [
          "6.07"
         ],
         "textposition": "outside",
         "type": "bar",
         "x": [
          "qwen2.5-7b-instruct"
         ],
         "xaxis": "x",
         "y": [
          6.07
         ],
         "yaxis": "y"
        },
        {
         "marker": {
          "color": "#87c55f"
         },
         "name": "deepcogito_cogito-v1-preview-llama-8b",
         "showlegend": true,
         "text": [
          "6.22"
         ],
         "textposition": "outside",
         "type": "bar",
         "x": [
          "deepcogito_cogito-v1-preview-llama-8b"
         ],
         "xaxis": "x",
         "y": [
          6.22
         ],
         "yaxis": "y"
        },
        {
         "marker": {
          "color": "#19D3F3"
         },
         "name": "internvl3_5-8b",
         "showlegend": true,
         "text": [
          "5.93"
         ],
         "textposition": "outside",
         "type": "bar",
         "x": [
          "internvl3_5-8b"
         ],
         "xaxis": "x",
         "y": [
          5.93
         ],
         "yaxis": "y"
        },
        {
         "marker": {
          "color": "#c9db74"
         },
         "name": "hunyuan-mt-7b",
         "showlegend": true,
         "text": [
          "6.43"
         ],
         "textposition": "outside",
         "type": "bar",
         "x": [
          "hunyuan-mt-7b"
         ],
         "xaxis": "x",
         "y": [
          6.435
         ],
         "yaxis": "y"
        },
        {
         "marker": {
          "color": "#b3b3b3"
         },
         "name": "gemma-3-4b",
         "showlegend": true,
         "text": [
          "6.07"
         ],
         "textposition": "outside",
         "type": "bar",
         "x": [
          "gemma-3-4b"
         ],
         "xaxis": "x",
         "y": [
          6.065
         ],
         "yaxis": "y"
        },
        {
         "marker": {
          "color": "#FF97FF"
         },
         "name": "qwen3-8b",
         "showlegend": true,
         "text": [
          "6.14"
         ],
         "textposition": "outside",
         "type": "bar",
         "x": [
          "qwen3-8b"
         ],
         "xaxis": "x",
         "y": [
          6.145
         ],
         "yaxis": "y"
        },
        {
         "marker": {
          "color": "#b497e7"
         },
         "name": "granite-3.3-8b-instruct",
         "showlegend": true,
         "text": [
          "5.28"
         ],
         "textposition": "outside",
         "type": "bar",
         "x": [
          "granite-3.3-8b-instruct"
         ],
         "xaxis": "x",
         "y": [
          5.28
         ],
         "yaxis": "y"
        },
        {
         "marker": {
          "color": "#FECB52"
         },
         "name": "llama-3.1-8b-instruct",
         "showlegend": true,
         "text": [
          "5.86"
         ],
         "textposition": "outside",
         "type": "bar",
         "x": [
          "llama-3.1-8b-instruct"
         ],
         "xaxis": "x",
         "y": [
          5.86
         ],
         "yaxis": "y"
        },
        {
         "marker": {
          "color": "#fe88b1"
         },
         "name": "dolphin3.0-llama3.1-8b",
         "showlegend": true,
         "text": [
          "5.79"
         ],
         "textposition": "outside",
         "type": "bar",
         "x": [
          "dolphin3.0-llama3.1-8b"
         ],
         "xaxis": "x",
         "y": [
          5.795
         ],
         "yaxis": "y"
        },
        {
         "marker": {
          "color": "#00CC96"
         },
         "name": "internvl3_5-4b",
         "showlegend": true,
         "text": [
          "5.06"
         ],
         "textposition": "outside",
         "type": "bar",
         "x": [
          "internvl3_5-4b"
         ],
         "xaxis": "x",
         "y": [
          5.06
         ],
         "yaxis": "y"
        },
        {
         "marker": {
          "color": "#f6cf71"
         },
         "name": "aixsatoshi-honyaku-multi-translator-swallow-ms7b",
         "showlegend": true,
         "text": [
          "2.69"
         ],
         "textposition": "outside",
         "type": "bar",
         "x": [
          "aixsatoshi-honyaku-multi-translator-swallow-ms7b"
         ],
         "xaxis": "x",
         "y": [
          2.695
         ],
         "yaxis": "y"
        },
        {
         "marker": {
          "color": "#66c5cc"
         },
         "name": "gpt-4o",
         "showlegend": false,
         "text": [
          "8.54"
         ],
         "textposition": "outside",
         "type": "bar",
         "x": [
          "gpt-4o"
         ],
         "xaxis": "x2",
         "y": [
          8.535
         ],
         "yaxis": "y2"
        },
        {
         "marker": {
          "color": "#9eb9f3"
         },
         "name": "gemma-3n-e4b-it",
         "showlegend": false,
         "text": [
          "8.01"
         ],
         "textposition": "outside",
         "type": "bar",
         "x": [
          "gemma-3n-e4b-it"
         ],
         "xaxis": "x2",
         "y": [
          8.005
         ],
         "yaxis": "y2"
        },
        {
         "marker": {
          "color": "#FF6692"
         },
         "name": "gemini-2.0-flash-lite",
         "showlegend": false,
         "text": [
          "7.64"
         ],
         "textposition": "outside",
         "type": "bar",
         "x": [
          "gemini-2.0-flash-lite"
         ],
         "xaxis": "x2",
         "y": [
          7.64
         ],
         "yaxis": "y2"
        },
        {
         "marker": {
          "color": "#AB63FA"
         },
         "name": "gemma-3-12b-it",
         "showlegend": false,
         "text": [
          "7.54"
         ],
         "textposition": "outside",
         "type": "bar",
         "x": [
          "gemma-3-12b-it"
         ],
         "xaxis": "x2",
         "y": [
          7.545
         ],
         "yaxis": "y2"
        },
        {
         "marker": {
          "color": "#f89c74"
         },
         "name": "shisa-v2-llama3.1-8b",
         "showlegend": false,
         "text": [
          "7.79"
         ],
         "textposition": "outside",
         "type": "bar",
         "x": [
          "shisa-v2-llama3.1-8b"
         ],
         "xaxis": "x2",
         "y": [
          7.79
         ],
         "yaxis": "y2"
        },
        {
         "marker": {
          "color": "#B6E880"
         },
         "name": "shisa-v2-qwen2.5-7b",
         "showlegend": false,
         "text": [
          "7.76"
         ],
         "textposition": "outside",
         "type": "bar",
         "x": [
          "shisa-v2-qwen2.5-7b"
         ],
         "xaxis": "x2",
         "y": [
          7.76
         ],
         "yaxis": "y2"
        },
        {
         "marker": {
          "color": "#dcb0f2"
         },
         "name": "aya-expanse-8b-abliterated",
         "showlegend": false,
         "text": [
          "7.78"
         ],
         "textposition": "outside",
         "type": "bar",
         "x": [
          "aya-expanse-8b-abliterated"
         ],
         "xaxis": "x2",
         "y": [
          7.78
         ],
         "yaxis": "y2"
        },
        {
         "marker": {
          "color": "#FFA15A"
         },
         "name": "hunyuan-mt-chimera-7b",
         "showlegend": false,
         "text": [
          "7.81"
         ],
         "textposition": "outside",
         "type": "bar",
         "x": [
          "hunyuan-mt-chimera-7b"
         ],
         "xaxis": "x2",
         "y": [
          7.81
         ],
         "yaxis": "y2"
        },
        {
         "marker": {
          "color": "#EF553B"
         },
         "name": "qwen2.5-7b-instruct",
         "showlegend": false,
         "text": [
          "6.78"
         ],
         "textposition": "outside",
         "type": "bar",
         "x": [
          "qwen2.5-7b-instruct"
         ],
         "xaxis": "x2",
         "y": [
          6.775
         ],
         "yaxis": "y2"
        },
        {
         "marker": {
          "color": "#87c55f"
         },
         "name": "deepcogito_cogito-v1-preview-llama-8b",
         "showlegend": false,
         "text": [
          "7.28"
         ],
         "textposition": "outside",
         "type": "bar",
         "x": [
          "deepcogito_cogito-v1-preview-llama-8b"
         ],
         "xaxis": "x2",
         "y": [
          7.275
         ],
         "yaxis": "y2"
        },
        {
         "marker": {
          "color": "#19D3F3"
         },
         "name": "internvl3_5-8b",
         "showlegend": false,
         "text": [
          "7.05"
         ],
         "textposition": "outside",
         "type": "bar",
         "x": [
          "internvl3_5-8b"
         ],
         "xaxis": "x2",
         "y": [
          7.055
         ],
         "yaxis": "y2"
        },
        {
         "marker": {
          "color": "#c9db74"
         },
         "name": "hunyuan-mt-7b",
         "showlegend": false,
         "text": [
          "7.88"
         ],
         "textposition": "outside",
         "type": "bar",
         "x": [
          "hunyuan-mt-7b"
         ],
         "xaxis": "x2",
         "y": [
          7.88
         ],
         "yaxis": "y2"
        },
        {
         "marker": {
          "color": "#b3b3b3"
         },
         "name": "gemma-3-4b",
         "showlegend": false,
         "text": [
          "7.29"
         ],
         "textposition": "outside",
         "type": "bar",
         "x": [
          "gemma-3-4b"
         ],
         "xaxis": "x2",
         "y": [
          7.29
         ],
         "yaxis": "y2"
        },
        {
         "marker": {
          "color": "#FF97FF"
         },
         "name": "qwen3-8b",
         "showlegend": false,
         "text": [
          "6.67"
         ],
         "textposition": "outside",
         "type": "bar",
         "x": [
          "qwen3-8b"
         ],
         "xaxis": "x2",
         "y": [
          6.67
         ],
         "yaxis": "y2"
        },
        {
         "marker": {
          "color": "#b497e7"
         },
         "name": "granite-3.3-8b-instruct",
         "showlegend": false,
         "text": [
          "6.94"
         ],
         "textposition": "outside",
         "type": "bar",
         "x": [
          "granite-3.3-8b-instruct"
         ],
         "xaxis": "x2",
         "y": [
          6.94
         ],
         "yaxis": "y2"
        },
        {
         "marker": {
          "color": "#FECB52"
         },
         "name": "llama-3.1-8b-instruct",
         "showlegend": false,
         "text": [
          "7.11"
         ],
         "textposition": "outside",
         "type": "bar",
         "x": [
          "llama-3.1-8b-instruct"
         ],
         "xaxis": "x2",
         "y": [
          7.105
         ],
         "yaxis": "y2"
        },
        {
         "marker": {
          "color": "#fe88b1"
         },
         "name": "dolphin3.0-llama3.1-8b",
         "showlegend": false,
         "text": [
          "6.83"
         ],
         "textposition": "outside",
         "type": "bar",
         "x": [
          "dolphin3.0-llama3.1-8b"
         ],
         "xaxis": "x2",
         "y": [
          6.825
         ],
         "yaxis": "y2"
        },
        {
         "marker": {
          "color": "#00CC96"
         },
         "name": "internvl3_5-4b",
         "showlegend": false,
         "text": [
          "6.52"
         ],
         "textposition": "outside",
         "type": "bar",
         "x": [
          "internvl3_5-4b"
         ],
         "xaxis": "x2",
         "y": [
          6.52
         ],
         "yaxis": "y2"
        },
        {
         "marker": {
          "color": "#f6cf71"
         },
         "name": "aixsatoshi-honyaku-multi-translator-swallow-ms7b",
         "showlegend": false,
         "text": [
          "3.31"
         ],
         "textposition": "outside",
         "type": "bar",
         "x": [
          "aixsatoshi-honyaku-multi-translator-swallow-ms7b"
         ],
         "xaxis": "x2",
         "y": [
          3.305
         ],
         "yaxis": "y2"
        },
        {
         "marker": {
          "color": "#66c5cc"
         },
         "name": "gpt-4o",
         "showlegend": false,
         "text": [
          "7.97"
         ],
         "textposition": "outside",
         "type": "bar",
         "x": [
          "gpt-4o"
         ],
         "xaxis": "x3",
         "y": [
          7.975
         ],
         "yaxis": "y3"
        },
        {
         "marker": {
          "color": "#9eb9f3"
         },
         "name": "gemma-3n-e4b-it",
         "showlegend": false,
         "text": [
          "7.29"
         ],
         "textposition": "outside",
         "type": "bar",
         "x": [
          "gemma-3n-e4b-it"
         ],
         "xaxis": "x3",
         "y": [
          7.29
         ],
         "yaxis": "y3"
        },
        {
         "marker": {
          "color": "#FF6692"
         },
         "name": "gemini-2.0-flash-lite",
         "showlegend": false,
         "text": [
          "7.44"
         ],
         "textposition": "outside",
         "type": "bar",
         "x": [
          "gemini-2.0-flash-lite"
         ],
         "xaxis": "x3",
         "y": [
          7.44
         ],
         "yaxis": "y3"
        },
        {
         "marker": {
          "color": "#AB63FA"
         },
         "name": "gemma-3-12b-it",
         "showlegend": false,
         "text": [
          "7.17"
         ],
         "textposition": "outside",
         "type": "bar",
         "x": [
          "gemma-3-12b-it"
         ],
         "xaxis": "x3",
         "y": [
          7.165
         ],
         "yaxis": "y3"
        },
        {
         "marker": {
          "color": "#f89c74"
         },
         "name": "shisa-v2-llama3.1-8b",
         "showlegend": false,
         "text": [
          "6.99"
         ],
         "textposition": "outside",
         "type": "bar",
         "x": [
          "shisa-v2-llama3.1-8b"
         ],
         "xaxis": "x3",
         "y": [
          6.985
         ],
         "yaxis": "y3"
        },
        {
         "marker": {
          "color": "#B6E880"
         },
         "name": "shisa-v2-qwen2.5-7b",
         "showlegend": false,
         "text": [
          "6.93"
         ],
         "textposition": "outside",
         "type": "bar",
         "x": [
          "shisa-v2-qwen2.5-7b"
         ],
         "xaxis": "x3",
         "y": [
          6.93
         ],
         "yaxis": "y3"
        },
        {
         "marker": {
          "color": "#dcb0f2"
         },
         "name": "aya-expanse-8b-abliterated",
         "showlegend": false,
         "text": [
          "6.79"
         ],
         "textposition": "outside",
         "type": "bar",
         "x": [
          "aya-expanse-8b-abliterated"
         ],
         "xaxis": "x3",
         "y": [
          6.785
         ],
         "yaxis": "y3"
        },
        {
         "marker": {
          "color": "#FFA15A"
         },
         "name": "hunyuan-mt-chimera-7b",
         "showlegend": false,
         "text": [
          "6.83"
         ],
         "textposition": "outside",
         "type": "bar",
         "x": [
          "hunyuan-mt-chimera-7b"
         ],
         "xaxis": "x3",
         "y": [
          6.83
         ],
         "yaxis": "y3"
        },
        {
         "marker": {
          "color": "#EF553B"
         },
         "name": "qwen2.5-7b-instruct",
         "showlegend": false,
         "text": [
          "6.45"
         ],
         "textposition": "outside",
         "type": "bar",
         "x": [
          "qwen2.5-7b-instruct"
         ],
         "xaxis": "x3",
         "y": [
          6.45
         ],
         "yaxis": "y3"
        },
        {
         "marker": {
          "color": "#87c55f"
         },
         "name": "deepcogito_cogito-v1-preview-llama-8b",
         "showlegend": false,
         "text": [
          "6.57"
         ],
         "textposition": "outside",
         "type": "bar",
         "x": [
          "deepcogito_cogito-v1-preview-llama-8b"
         ],
         "xaxis": "x3",
         "y": [
          6.565
         ],
         "yaxis": "y3"
        },
        {
         "marker": {
          "color": "#19D3F3"
         },
         "name": "internvl3_5-8b",
         "showlegend": false,
         "text": [
          "6.45"
         ],
         "textposition": "outside",
         "type": "bar",
         "x": [
          "internvl3_5-8b"
         ],
         "xaxis": "x3",
         "y": [
          6.445
         ],
         "yaxis": "y3"
        },
        {
         "marker": {
          "color": "#c9db74"
         },
         "name": "hunyuan-mt-7b",
         "showlegend": false,
         "text": [
          "6.88"
         ],
         "textposition": "outside",
         "type": "bar",
         "x": [
          "hunyuan-mt-7b"
         ],
         "xaxis": "x3",
         "y": [
          6.875
         ],
         "yaxis": "y3"
        },
        {
         "marker": {
          "color": "#b3b3b3"
         },
         "name": "gemma-3-4b",
         "showlegend": false,
         "text": [
          "6.62"
         ],
         "textposition": "outside",
         "type": "bar",
         "x": [
          "gemma-3-4b"
         ],
         "xaxis": "x3",
         "y": [
          6.615
         ],
         "yaxis": "y3"
        },
        {
         "marker": {
          "color": "#FF97FF"
         },
         "name": "qwen3-8b",
         "showlegend": false,
         "text": [
          "6.38"
         ],
         "textposition": "outside",
         "type": "bar",
         "x": [
          "qwen3-8b"
         ],
         "xaxis": "x3",
         "y": [
          6.375
         ],
         "yaxis": "y3"
        },
        {
         "marker": {
          "color": "#b497e7"
         },
         "name": "granite-3.3-8b-instruct",
         "showlegend": false,
         "text": [
          "6.00"
         ],
         "textposition": "outside",
         "type": "bar",
         "x": [
          "granite-3.3-8b-instruct"
         ],
         "xaxis": "x3",
         "y": [
          6
         ],
         "yaxis": "y3"
        },
        {
         "marker": {
          "color": "#FECB52"
         },
         "name": "llama-3.1-8b-instruct",
         "showlegend": false,
         "text": [
          "6.25"
         ],
         "textposition": "outside",
         "type": "bar",
         "x": [
          "llama-3.1-8b-instruct"
         ],
         "xaxis": "x3",
         "y": [
          6.255
         ],
         "yaxis": "y3"
        },
        {
         "marker": {
          "color": "#fe88b1"
         },
         "name": "dolphin3.0-llama3.1-8b",
         "showlegend": false,
         "text": [
          "6.34"
         ],
         "textposition": "outside",
         "type": "bar",
         "x": [
          "dolphin3.0-llama3.1-8b"
         ],
         "xaxis": "x3",
         "y": [
          6.34
         ],
         "yaxis": "y3"
        },
        {
         "marker": {
          "color": "#00CC96"
         },
         "name": "internvl3_5-4b",
         "showlegend": false,
         "text": [
          "5.87"
         ],
         "textposition": "outside",
         "type": "bar",
         "x": [
          "internvl3_5-4b"
         ],
         "xaxis": "x3",
         "y": [
          5.87
         ],
         "yaxis": "y3"
        },
        {
         "marker": {
          "color": "#f6cf71"
         },
         "name": "aixsatoshi-honyaku-multi-translator-swallow-ms7b",
         "showlegend": false,
         "text": [
          "2.86"
         ],
         "textposition": "outside",
         "type": "bar",
         "x": [
          "aixsatoshi-honyaku-multi-translator-swallow-ms7b"
         ],
         "xaxis": "x3",
         "y": [
          2.86
         ],
         "yaxis": "y3"
        },
        {
         "marker": {
          "color": "#66c5cc"
         },
         "name": "gpt-4o",
         "showlegend": false,
         "text": [
          "8.60"
         ],
         "textposition": "outside",
         "type": "bar",
         "x": [
          "gpt-4o"
         ],
         "xaxis": "x4",
         "y": [
          8.595
         ],
         "yaxis": "y4"
        },
        {
         "marker": {
          "color": "#9eb9f3"
         },
         "name": "gemma-3n-e4b-it",
         "showlegend": false,
         "text": [
          "7.93"
         ],
         "textposition": "outside",
         "type": "bar",
         "x": [
          "gemma-3n-e4b-it"
         ],
         "xaxis": "x4",
         "y": [
          7.93
         ],
         "yaxis": "y4"
        },
        {
         "marker": {
          "color": "#FF6692"
         },
         "name": "gemini-2.0-flash-lite",
         "showlegend": false,
         "text": [
          "8.02"
         ],
         "textposition": "outside",
         "type": "bar",
         "x": [
          "gemini-2.0-flash-lite"
         ],
         "xaxis": "x4",
         "y": [
          8.015
         ],
         "yaxis": "y4"
        },
        {
         "marker": {
          "color": "#AB63FA"
         },
         "name": "gemma-3-12b-it",
         "showlegend": false,
         "text": [
          "7.79"
         ],
         "textposition": "outside",
         "type": "bar",
         "x": [
          "gemma-3-12b-it"
         ],
         "xaxis": "x4",
         "y": [
          7.795
         ],
         "yaxis": "y4"
        },
        {
         "marker": {
          "color": "#f89c74"
         },
         "name": "shisa-v2-llama3.1-8b",
         "showlegend": false,
         "text": [
          "7.71"
         ],
         "textposition": "outside",
         "type": "bar",
         "x": [
          "shisa-v2-llama3.1-8b"
         ],
         "xaxis": "x4",
         "y": [
          7.71
         ],
         "yaxis": "y4"
        },
        {
         "marker": {
          "color": "#B6E880"
         },
         "name": "shisa-v2-qwen2.5-7b",
         "showlegend": false,
         "text": [
          "7.59"
         ],
         "textposition": "outside",
         "type": "bar",
         "x": [
          "shisa-v2-qwen2.5-7b"
         ],
         "xaxis": "x4",
         "y": [
          7.59
         ],
         "yaxis": "y4"
        },
        {
         "marker": {
          "color": "#dcb0f2"
         },
         "name": "aya-expanse-8b-abliterated",
         "showlegend": false,
         "text": [
          "7.53"
         ],
         "textposition": "outside",
         "type": "bar",
         "x": [
          "aya-expanse-8b-abliterated"
         ],
         "xaxis": "x4",
         "y": [
          7.525
         ],
         "yaxis": "y4"
        },
        {
         "marker": {
          "color": "#FFA15A"
         },
         "name": "hunyuan-mt-chimera-7b",
         "showlegend": false,
         "text": [
          "7.67"
         ],
         "textposition": "outside",
         "type": "bar",
         "x": [
          "hunyuan-mt-chimera-7b"
         ],
         "xaxis": "x4",
         "y": [
          7.675
         ],
         "yaxis": "y4"
        },
        {
         "marker": {
          "color": "#EF553B"
         },
         "name": "qwen2.5-7b-instruct",
         "showlegend": false,
         "text": [
          "7.13"
         ],
         "textposition": "outside",
         "type": "bar",
         "x": [
          "qwen2.5-7b-instruct"
         ],
         "xaxis": "x4",
         "y": [
          7.13
         ],
         "yaxis": "y4"
        },
        {
         "marker": {
          "color": "#87c55f"
         },
         "name": "deepcogito_cogito-v1-preview-llama-8b",
         "showlegend": false,
         "text": [
          "7.21"
         ],
         "textposition": "outside",
         "type": "bar",
         "x": [
          "deepcogito_cogito-v1-preview-llama-8b"
         ],
         "xaxis": "x4",
         "y": [
          7.21
         ],
         "yaxis": "y4"
        },
        {
         "marker": {
          "color": "#19D3F3"
         },
         "name": "internvl3_5-8b",
         "showlegend": false,
         "text": [
          "7.11"
         ],
         "textposition": "outside",
         "type": "bar",
         "x": [
          "internvl3_5-8b"
         ],
         "xaxis": "x4",
         "y": [
          7.105
         ],
         "yaxis": "y4"
        },
        {
         "marker": {
          "color": "#c9db74"
         },
         "name": "hunyuan-mt-7b",
         "showlegend": false,
         "text": [
          "7.59"
         ],
         "textposition": "outside",
         "type": "bar",
         "x": [
          "hunyuan-mt-7b"
         ],
         "xaxis": "x4",
         "y": [
          7.59
         ],
         "yaxis": "y4"
        },
        {
         "marker": {
          "color": "#b3b3b3"
         },
         "name": "gemma-3-4b",
         "showlegend": false,
         "text": [
          "7.26"
         ],
         "textposition": "outside",
         "type": "bar",
         "x": [
          "gemma-3-4b"
         ],
         "xaxis": "x4",
         "y": [
          7.26
         ],
         "yaxis": "y4"
        },
        {
         "marker": {
          "color": "#FF97FF"
         },
         "name": "qwen3-8b",
         "showlegend": false,
         "text": [
          "6.98"
         ],
         "textposition": "outside",
         "type": "bar",
         "x": [
          "qwen3-8b"
         ],
         "xaxis": "x4",
         "y": [
          6.98
         ],
         "yaxis": "y4"
        },
        {
         "marker": {
          "color": "#b497e7"
         },
         "name": "granite-3.3-8b-instruct",
         "showlegend": false,
         "text": [
          "6.68"
         ],
         "textposition": "outside",
         "type": "bar",
         "x": [
          "granite-3.3-8b-instruct"
         ],
         "xaxis": "x4",
         "y": [
          6.685
         ],
         "yaxis": "y4"
        },
        {
         "marker": {
          "color": "#FECB52"
         },
         "name": "llama-3.1-8b-instruct",
         "showlegend": false,
         "text": [
          "7.14"
         ],
         "textposition": "outside",
         "type": "bar",
         "x": [
          "llama-3.1-8b-instruct"
         ],
         "xaxis": "x4",
         "y": [
          7.145
         ],
         "yaxis": "y4"
        },
        {
         "marker": {
          "color": "#fe88b1"
         },
         "name": "dolphin3.0-llama3.1-8b",
         "showlegend": false,
         "text": [
          "6.96"
         ],
         "textposition": "outside",
         "type": "bar",
         "x": [
          "dolphin3.0-llama3.1-8b"
         ],
         "xaxis": "x4",
         "y": [
          6.965
         ],
         "yaxis": "y4"
        },
        {
         "marker": {
          "color": "#00CC96"
         },
         "name": "internvl3_5-4b",
         "showlegend": false,
         "text": [
          "6.44"
         ],
         "textposition": "outside",
         "type": "bar",
         "x": [
          "internvl3_5-4b"
         ],
         "xaxis": "x4",
         "y": [
          6.44
         ],
         "yaxis": "y4"
        },
        {
         "marker": {
          "color": "#f6cf71"
         },
         "name": "aixsatoshi-honyaku-multi-translator-swallow-ms7b",
         "showlegend": false,
         "text": [
          "3.10"
         ],
         "textposition": "outside",
         "type": "bar",
         "x": [
          "aixsatoshi-honyaku-multi-translator-swallow-ms7b"
         ],
         "xaxis": "x4",
         "y": [
          3.095
         ],
         "yaxis": "y4"
        },
        {
         "marker": {
          "color": "#66c5cc"
         },
         "name": "gpt-4o",
         "showlegend": false,
         "text": [
          "7.72"
         ],
         "textposition": "outside",
         "type": "bar",
         "x": [
          "gpt-4o"
         ],
         "xaxis": "x5",
         "y": [
          7.72
         ],
         "yaxis": "y5"
        },
        {
         "marker": {
          "color": "#9eb9f3"
         },
         "name": "gemma-3n-e4b-it",
         "showlegend": false,
         "text": [
          "7.00"
         ],
         "textposition": "outside",
         "type": "bar",
         "x": [
          "gemma-3n-e4b-it"
         ],
         "xaxis": "x5",
         "y": [
          7
         ],
         "yaxis": "y5"
        },
        {
         "marker": {
          "color": "#FF6692"
         },
         "name": "gemini-2.0-flash-lite",
         "showlegend": false,
         "text": [
          "7.04"
         ],
         "textposition": "outside",
         "type": "bar",
         "x": [
          "gemini-2.0-flash-lite"
         ],
         "xaxis": "x5",
         "y": [
          7.04
         ],
         "yaxis": "y5"
        },
        {
         "marker": {
          "color": "#AB63FA"
         },
         "name": "gemma-3-12b-it",
         "showlegend": false,
         "text": [
          "6.62"
         ],
         "textposition": "outside",
         "type": "bar",
         "x": [
          "gemma-3-12b-it"
         ],
         "xaxis": "x5",
         "y": [
          6.615
         ],
         "yaxis": "y5"
        },
        {
         "marker": {
          "color": "#f89c74"
         },
         "name": "shisa-v2-llama3.1-8b",
         "showlegend": false,
         "text": [
          "6.46"
         ],
         "textposition": "outside",
         "type": "bar",
         "x": [
          "shisa-v2-llama3.1-8b"
         ],
         "xaxis": "x5",
         "y": [
          6.46
         ],
         "yaxis": "y5"
        },
        {
         "marker": {
          "color": "#B6E880"
         },
         "name": "shisa-v2-qwen2.5-7b",
         "showlegend": false,
         "text": [
          "6.39"
         ],
         "textposition": "outside",
         "type": "bar",
         "x": [
          "shisa-v2-qwen2.5-7b"
         ],
         "xaxis": "x5",
         "y": [
          6.395
         ],
         "yaxis": "y5"
        },
        {
         "marker": {
          "color": "#dcb0f2"
         },
         "name": "aya-expanse-8b-abliterated",
         "showlegend": false,
         "text": [
          "6.33"
         ],
         "textposition": "outside",
         "type": "bar",
         "x": [
          "aya-expanse-8b-abliterated"
         ],
         "xaxis": "x5",
         "y": [
          6.335
         ],
         "yaxis": "y5"
        },
        {
         "marker": {
          "color": "#FFA15A"
         },
         "name": "hunyuan-mt-chimera-7b",
         "showlegend": false,
         "text": [
          "6.08"
         ],
         "textposition": "outside",
         "type": "bar",
         "x": [
          "hunyuan-mt-chimera-7b"
         ],
         "xaxis": "x5",
         "y": [
          6.085
         ],
         "yaxis": "y5"
        },
        {
         "marker": {
          "color": "#EF553B"
         },
         "name": "qwen2.5-7b-instruct",
         "showlegend": false,
         "text": [
          "5.67"
         ],
         "textposition": "outside",
         "type": "bar",
         "x": [
          "qwen2.5-7b-instruct"
         ],
         "xaxis": "x5",
         "y": [
          5.67
         ],
         "yaxis": "y5"
        },
        {
         "marker": {
          "color": "#87c55f"
         },
         "name": "deepcogito_cogito-v1-preview-llama-8b",
         "showlegend": false,
         "text": [
          "5.96"
         ],
         "textposition": "outside",
         "type": "bar",
         "x": [
          "deepcogito_cogito-v1-preview-llama-8b"
         ],
         "xaxis": "x5",
         "y": [
          5.96
         ],
         "yaxis": "y5"
        },
        {
         "marker": {
          "color": "#19D3F3"
         },
         "name": "internvl3_5-8b",
         "showlegend": false,
         "text": [
          "5.71"
         ],
         "textposition": "outside",
         "type": "bar",
         "x": [
          "internvl3_5-8b"
         ],
         "xaxis": "x5",
         "y": [
          5.705
         ],
         "yaxis": "y5"
        },
        {
         "marker": {
          "color": "#c9db74"
         },
         "name": "hunyuan-mt-7b",
         "showlegend": false,
         "text": [
          "5.88"
         ],
         "textposition": "outside",
         "type": "bar",
         "x": [
          "hunyuan-mt-7b"
         ],
         "xaxis": "x5",
         "y": [
          5.885
         ],
         "yaxis": "y5"
        },
        {
         "marker": {
          "color": "#b3b3b3"
         },
         "name": "gemma-3-4b",
         "showlegend": false,
         "text": [
          "6.02"
         ],
         "textposition": "outside",
         "type": "bar",
         "x": [
          "gemma-3-4b"
         ],
         "xaxis": "x5",
         "y": [
          6.02
         ],
         "yaxis": "y5"
        },
        {
         "marker": {
          "color": "#FF97FF"
         },
         "name": "qwen3-8b",
         "showlegend": false,
         "text": [
          "5.62"
         ],
         "textposition": "outside",
         "type": "bar",
         "x": [
          "qwen3-8b"
         ],
         "xaxis": "x5",
         "y": [
          5.625
         ],
         "yaxis": "y5"
        },
        {
         "marker": {
          "color": "#b497e7"
         },
         "name": "granite-3.3-8b-instruct",
         "showlegend": false,
         "text": [
          "5.43"
         ],
         "textposition": "outside",
         "type": "bar",
         "x": [
          "granite-3.3-8b-instruct"
         ],
         "xaxis": "x5",
         "y": [
          5.43
         ],
         "yaxis": "y5"
        },
        {
         "marker": {
          "color": "#FECB52"
         },
         "name": "llama-3.1-8b-instruct",
         "showlegend": false,
         "text": [
          "5.82"
         ],
         "textposition": "outside",
         "type": "bar",
         "x": [
          "llama-3.1-8b-instruct"
         ],
         "xaxis": "x5",
         "y": [
          5.82
         ],
         "yaxis": "y5"
        },
        {
         "marker": {
          "color": "#fe88b1"
         },
         "name": "dolphin3.0-llama3.1-8b",
         "showlegend": false,
         "text": [
          "5.64"
         ],
         "textposition": "outside",
         "type": "bar",
         "x": [
          "dolphin3.0-llama3.1-8b"
         ],
         "xaxis": "x5",
         "y": [
          5.645
         ],
         "yaxis": "y5"
        },
        {
         "marker": {
          "color": "#00CC96"
         },
         "name": "internvl3_5-4b",
         "showlegend": false,
         "text": [
          "4.96"
         ],
         "textposition": "outside",
         "type": "bar",
         "x": [
          "internvl3_5-4b"
         ],
         "xaxis": "x5",
         "y": [
          4.965
         ],
         "yaxis": "y5"
        },
        {
         "marker": {
          "color": "#f6cf71"
         },
         "name": "aixsatoshi-honyaku-multi-translator-swallow-ms7b",
         "showlegend": false,
         "text": [
          "2.59"
         ],
         "textposition": "outside",
         "type": "bar",
         "x": [
          "aixsatoshi-honyaku-multi-translator-swallow-ms7b"
         ],
         "xaxis": "x5",
         "y": [
          2.59
         ],
         "yaxis": "y5"
        },
        {
         "marker": {
          "color": "#66c5cc"
         },
         "name": "gpt-4o",
         "showlegend": false,
         "text": [
          "8.72"
         ],
         "textposition": "outside",
         "type": "bar",
         "x": [
          "gpt-4o"
         ],
         "xaxis": "x6",
         "y": [
          8.72
         ],
         "yaxis": "y6"
        },
        {
         "marker": {
          "color": "#9eb9f3"
         },
         "name": "gemma-3n-e4b-it",
         "showlegend": false,
         "text": [
          "8.59"
         ],
         "textposition": "outside",
         "type": "bar",
         "x": [
          "gemma-3n-e4b-it"
         ],
         "xaxis": "x6",
         "y": [
          8.585
         ],
         "yaxis": "y6"
        },
        {
         "marker": {
          "color": "#FF6692"
         },
         "name": "gemini-2.0-flash-lite",
         "showlegend": false,
         "text": [
          "8.21"
         ],
         "textposition": "outside",
         "type": "bar",
         "x": [
          "gemini-2.0-flash-lite"
         ],
         "xaxis": "x6",
         "y": [
          8.215
         ],
         "yaxis": "y6"
        },
        {
         "marker": {
          "color": "#AB63FA"
         },
         "name": "gemma-3-12b-it",
         "showlegend": false,
         "text": [
          "8.01"
         ],
         "textposition": "outside",
         "type": "bar",
         "x": [
          "gemma-3-12b-it"
         ],
         "xaxis": "x6",
         "y": [
          8.005
         ],
         "yaxis": "y6"
        },
        {
         "marker": {
          "color": "#f89c74"
         },
         "name": "shisa-v2-llama3.1-8b",
         "showlegend": false,
         "text": [
          "5.08"
         ],
         "textposition": "outside",
         "type": "bar",
         "x": [
          "shisa-v2-llama3.1-8b"
         ],
         "xaxis": "x6",
         "y": [
          5.075
         ],
         "yaxis": "y6"
        },
        {
         "marker": {
          "color": "#B6E880"
         },
         "name": "shisa-v2-qwen2.5-7b",
         "showlegend": false,
         "text": [
          "4.83"
         ],
         "textposition": "outside",
         "type": "bar",
         "x": [
          "shisa-v2-qwen2.5-7b"
         ],
         "xaxis": "x6",
         "y": [
          4.835
         ],
         "yaxis": "y6"
        },
        {
         "marker": {
          "color": "#dcb0f2"
         },
         "name": "aya-expanse-8b-abliterated",
         "showlegend": false,
         "text": [
          "4.82"
         ],
         "textposition": "outside",
         "type": "bar",
         "x": [
          "aya-expanse-8b-abliterated"
         ],
         "xaxis": "x6",
         "y": [
          4.82
         ],
         "yaxis": "y6"
        },
        {
         "marker": {
          "color": "#FFA15A"
         },
         "name": "hunyuan-mt-chimera-7b",
         "showlegend": false,
         "text": [
          "4.41"
         ],
         "textposition": "outside",
         "type": "bar",
         "x": [
          "hunyuan-mt-chimera-7b"
         ],
         "xaxis": "x6",
         "y": [
          4.405
         ],
         "yaxis": "y6"
        },
        {
         "marker": {
          "color": "#EF553B"
         },
         "name": "qwen2.5-7b-instruct",
         "showlegend": false,
         "text": [
          "7.29"
         ],
         "textposition": "outside",
         "type": "bar",
         "x": [
          "qwen2.5-7b-instruct"
         ],
         "xaxis": "x6",
         "y": [
          7.29
         ],
         "yaxis": "y6"
        },
        {
         "marker": {
          "color": "#87c55f"
         },
         "name": "deepcogito_cogito-v1-preview-llama-8b",
         "showlegend": false,
         "text": [
          "6.12"
         ],
         "textposition": "outside",
         "type": "bar",
         "x": [
          "deepcogito_cogito-v1-preview-llama-8b"
         ],
         "xaxis": "x6",
         "y": [
          6.125
         ],
         "yaxis": "y6"
        },
        {
         "marker": {
          "color": "#19D3F3"
         },
         "name": "internvl3_5-8b",
         "showlegend": false,
         "text": [
          "7.06"
         ],
         "textposition": "outside",
         "type": "bar",
         "x": [
          "internvl3_5-8b"
         ],
         "xaxis": "x6",
         "y": [
          7.06
         ],
         "yaxis": "y6"
        },
        {
         "marker": {
          "color": "#c9db74"
         },
         "name": "hunyuan-mt-7b",
         "showlegend": false,
         "text": [
          "4.15"
         ],
         "textposition": "outside",
         "type": "bar",
         "x": [
          "hunyuan-mt-7b"
         ],
         "xaxis": "x6",
         "y": [
          4.15
         ],
         "yaxis": "y6"
        },
        {
         "marker": {
          "color": "#b3b3b3"
         },
         "name": "gemma-3-4b",
         "showlegend": false,
         "text": [
          "5.25"
         ],
         "textposition": "outside",
         "type": "bar",
         "x": [
          "gemma-3-4b"
         ],
         "xaxis": "x6",
         "y": [
          5.25
         ],
         "yaxis": "y6"
        },
        {
         "marker": {
          "color": "#FF97FF"
         },
         "name": "qwen3-8b",
         "showlegend": false,
         "text": [
          "6.56"
         ],
         "textposition": "outside",
         "type": "bar",
         "x": [
          "qwen3-8b"
         ],
         "xaxis": "x6",
         "y": [
          6.56
         ],
         "yaxis": "y6"
        },
        {
         "marker": {
          "color": "#b497e7"
         },
         "name": "granite-3.3-8b-instruct",
         "showlegend": false,
         "text": [
          "7.18"
         ],
         "textposition": "outside",
         "type": "bar",
         "x": [
          "granite-3.3-8b-instruct"
         ],
         "xaxis": "x6",
         "y": [
          7.18
         ],
         "yaxis": "y6"
        },
        {
         "marker": {
          "color": "#FECB52"
         },
         "name": "llama-3.1-8b-instruct",
         "showlegend": false,
         "text": [
          "5.29"
         ],
         "textposition": "outside",
         "type": "bar",
         "x": [
          "llama-3.1-8b-instruct"
         ],
         "xaxis": "x6",
         "y": [
          5.285
         ],
         "yaxis": "y6"
        },
        {
         "marker": {
          "color": "#fe88b1"
         },
         "name": "dolphin3.0-llama3.1-8b",
         "showlegend": false,
         "text": [
          "4.37"
         ],
         "textposition": "outside",
         "type": "bar",
         "x": [
          "dolphin3.0-llama3.1-8b"
         ],
         "xaxis": "x6",
         "y": [
          4.365
         ],
         "yaxis": "y6"
        },
        {
         "marker": {
          "color": "#00CC96"
         },
         "name": "internvl3_5-4b",
         "showlegend": false,
         "text": [
          "5.30"
         ],
         "textposition": "outside",
         "type": "bar",
         "x": [
          "internvl3_5-4b"
         ],
         "xaxis": "x6",
         "y": [
          5.3
         ],
         "yaxis": "y6"
        },
        {
         "marker": {
          "color": "#f6cf71"
         },
         "name": "aixsatoshi-honyaku-multi-translator-swallow-ms7b",
         "showlegend": false,
         "text": [
          "2.33"
         ],
         "textposition": "outside",
         "type": "bar",
         "x": [
          "aixsatoshi-honyaku-multi-translator-swallow-ms7b"
         ],
         "xaxis": "x6",
         "y": [
          2.335
         ],
         "yaxis": "y6"
        },
        {
         "marker": {
          "color": "#66c5cc"
         },
         "name": "gpt-4o",
         "showlegend": false,
         "text": [
          "8.30"
         ],
         "textposition": "outside",
         "type": "bar",
         "x": [
          "gpt-4o"
         ],
         "xaxis": "x7",
         "y": [
          8.304166666666665
         ],
         "yaxis": "y7"
        },
        {
         "marker": {
          "color": "#9eb9f3"
         },
         "name": "gemma-3n-e4b-it",
         "showlegend": false,
         "text": [
          "7.69"
         ],
         "textposition": "outside",
         "type": "bar",
         "x": [
          "gemma-3n-e4b-it"
         ],
         "xaxis": "x7",
         "y": [
          7.694166666666667
         ],
         "yaxis": "y7"
        },
        {
         "marker": {
          "color": "#FF6692"
         },
         "name": "gemini-2.0-flash-lite",
         "showlegend": false,
         "text": [
          "7.68"
         ],
         "textposition": "outside",
         "type": "bar",
         "x": [
          "gemini-2.0-flash-lite"
         ],
         "xaxis": "x7",
         "y": [
          7.677499999999999
         ],
         "yaxis": "y7"
        },
        {
         "marker": {
          "color": "#AB63FA"
         },
         "name": "gemma-3-12b-it",
         "showlegend": false,
         "text": [
          "7.37"
         ],
         "textposition": "outside",
         "type": "bar",
         "x": [
          "gemma-3-12b-it"
         ],
         "xaxis": "x7",
         "y": [
          7.3691666666666675
         ],
         "yaxis": "y7"
        },
        {
         "marker": {
          "color": "#f89c74"
         },
         "name": "shisa-v2-llama3.1-8b",
         "showlegend": false,
         "text": [
          "6.81"
         ],
         "textposition": "outside",
         "type": "bar",
         "x": [
          "shisa-v2-llama3.1-8b"
         ],
         "xaxis": "x7",
         "y": [
          6.805833333333333
         ],
         "yaxis": "y7"
        },
        {
         "marker": {
          "color": "#B6E880"
         },
         "name": "shisa-v2-qwen2.5-7b",
         "showlegend": false,
         "text": [
          "6.68"
         ],
         "textposition": "outside",
         "type": "bar",
         "x": [
          "shisa-v2-qwen2.5-7b"
         ],
         "xaxis": "x7",
         "y": [
          6.685
         ],
         "yaxis": "y7"
        },
        {
         "marker": {
          "color": "#dcb0f2"
         },
         "name": "aya-expanse-8b-abliterated",
         "showlegend": false,
         "text": [
          "6.66"
         ],
         "textposition": "outside",
         "type": "bar",
         "x": [
          "aya-expanse-8b-abliterated"
         ],
         "xaxis": "x7",
         "y": [
          6.655833333333334
         ],
         "yaxis": "y7"
        },
        {
         "marker": {
          "color": "#FFA15A"
         },
         "name": "hunyuan-mt-chimera-7b",
         "showlegend": false,
         "text": [
          "6.58"
         ],
         "textposition": "outside",
         "type": "bar",
         "x": [
          "hunyuan-mt-chimera-7b"
         ],
         "xaxis": "x7",
         "y": [
          6.5775
         ],
         "yaxis": "y7"
        },
        {
         "marker": {
          "color": "#EF553B"
         },
         "name": "qwen2.5-7b-instruct",
         "showlegend": false,
         "text": [
          "6.56"
         ],
         "textposition": "outside",
         "type": "bar",
         "x": [
          "qwen2.5-7b-instruct"
         ],
         "xaxis": "x7",
         "y": [
          6.564166666666666
         ],
         "yaxis": "y7"
        },
        {
         "marker": {
          "color": "#87c55f"
         },
         "name": "deepcogito_cogito-v1-preview-llama-8b",
         "showlegend": false,
         "text": [
          "6.56"
         ],
         "textposition": "outside",
         "type": "bar",
         "x": [
          "deepcogito_cogito-v1-preview-llama-8b"
         ],
         "xaxis": "x7",
         "y": [
          6.559166666666667
         ],
         "yaxis": "y7"
        },
        {
         "marker": {
          "color": "#19D3F3"
         },
         "name": "internvl3_5-8b",
         "showlegend": false,
         "text": [
          "6.55"
         ],
         "textposition": "outside",
         "type": "bar",
         "x": [
          "internvl3_5-8b"
         ],
         "xaxis": "x7",
         "y": [
          6.550000000000001
         ],
         "yaxis": "y7"
        },
        {
         "marker": {
          "color": "#c9db74"
         },
         "name": "hunyuan-mt-7b",
         "showlegend": false,
         "text": [
          "6.47"
         ],
         "textposition": "outside",
         "type": "bar",
         "x": [
          "hunyuan-mt-7b"
         ],
         "xaxis": "x7",
         "y": [
          6.469166666666666
         ],
         "yaxis": "y7"
        },
        {
         "marker": {
          "color": "#b3b3b3"
         },
         "name": "gemma-3-4b",
         "showlegend": false,
         "text": [
          "6.42"
         ],
         "textposition": "outside",
         "type": "bar",
         "x": [
          "gemma-3-4b"
         ],
         "xaxis": "x7",
         "y": [
          6.416666666666667
         ],
         "yaxis": "y7"
        },
        {
         "marker": {
          "color": "#FF97FF"
         },
         "name": "qwen3-8b",
         "showlegend": false,
         "text": [
          "6.39"
         ],
         "textposition": "outside",
         "type": "bar",
         "x": [
          "qwen3-8b"
         ],
         "xaxis": "x7",
         "y": [
          6.392499999999999
         ],
         "yaxis": "y7"
        },
        {
         "marker": {
          "color": "#b497e7"
         },
         "name": "granite-3.3-8b-instruct",
         "showlegend": false,
         "text": [
          "6.25"
         ],
         "textposition": "outside",
         "type": "bar",
         "x": [
          "granite-3.3-8b-instruct"
         ],
         "xaxis": "x7",
         "y": [
          6.2525
         ],
         "yaxis": "y7"
        },
        {
         "marker": {
          "color": "#FECB52"
         },
         "name": "llama-3.1-8b-instruct",
         "showlegend": false,
         "text": [
          "6.25"
         ],
         "textposition": "outside",
         "type": "bar",
         "x": [
          "llama-3.1-8b-instruct"
         ],
         "xaxis": "x7",
         "y": [
          6.245
         ],
         "yaxis": "y7"
        },
        {
         "marker": {
          "color": "#fe88b1"
         },
         "name": "dolphin3.0-llama3.1-8b",
         "showlegend": false,
         "text": [
          "5.99"
         ],
         "textposition": "outside",
         "type": "bar",
         "x": [
          "dolphin3.0-llama3.1-8b"
         ],
         "xaxis": "x7",
         "y": [
          5.989166666666667
         ],
         "yaxis": "y7"
        },
        {
         "marker": {
          "color": "#00CC96"
         },
         "name": "internvl3_5-4b",
         "showlegend": false,
         "text": [
          "5.69"
         ],
         "textposition": "outside",
         "type": "bar",
         "x": [
          "internvl3_5-4b"
         ],
         "xaxis": "x7",
         "y": [
          5.6925
         ],
         "yaxis": "y7"
        },
        {
         "marker": {
          "color": "#f6cf71"
         },
         "name": "aixsatoshi-honyaku-multi-translator-swallow-ms7b",
         "showlegend": false,
         "text": [
          "2.81"
         ],
         "textposition": "outside",
         "type": "bar",
         "x": [
          "aixsatoshi-honyaku-multi-translator-swallow-ms7b"
         ],
         "xaxis": "x7",
         "y": [
          2.813333333333333
         ],
         "yaxis": "y7"
        }
       ],
       "layout": {
        "annotations": [
         {
          "font": {
           "size": 16
          },
          "showarrow": false,
          "text": "Accuracy",
          "x": 0.2375,
          "xanchor": "center",
          "xref": "paper",
          "y": 1,
          "yanchor": "bottom",
          "yref": "paper"
         },
         {
          "font": {
           "size": 16
          },
          "showarrow": false,
          "text": "Fluency",
          "x": 0.7625,
          "xanchor": "center",
          "xref": "paper",
          "y": 1,
          "yanchor": "bottom",
          "yref": "paper"
         },
         {
          "font": {
           "size": 16
          },
          "showarrow": false,
          "text": "Character Voice",
          "x": 0.2375,
          "xanchor": "center",
          "xref": "paper",
          "y": 0.73,
          "yanchor": "bottom",
          "yref": "paper"
         },
         {
          "font": {
           "size": 16
          },
          "showarrow": false,
          "text": "Tone",
          "x": 0.7625,
          "xanchor": "center",
          "xref": "paper",
          "y": 0.73,
          "yanchor": "bottom",
          "yref": "paper"
         },
         {
          "font": {
           "size": 16
          },
          "showarrow": false,
          "text": "Localization",
          "x": 0.2375,
          "xanchor": "center",
          "xref": "paper",
          "y": 0.46,
          "yanchor": "bottom",
          "yref": "paper"
         },
         {
          "font": {
           "size": 16
          },
          "showarrow": false,
          "text": "Direction Following",
          "x": 0.7625,
          "xanchor": "center",
          "xref": "paper",
          "y": 0.46,
          "yanchor": "bottom",
          "yref": "paper"
         },
         {
          "font": {
           "size": 16
          },
          "showarrow": false,
          "text": "Average Sub-Score",
          "x": 0.2375,
          "xanchor": "center",
          "xref": "paper",
          "y": 0.19,
          "yanchor": "bottom",
          "yref": "paper"
         }
        ],
        "bargap": 0.01,
        "bargroupgap": 0.01,
        "barmode": "group",
        "height": 1400,
        "legend": {
         "title": {
          "text": "Model"
         }
        },
        "template": {
         "data": {
          "bar": [
           {
            "error_x": {
             "color": "#2a3f5f"
            },
            "error_y": {
             "color": "#2a3f5f"
            },
            "marker": {
             "line": {
              "color": "white",
              "width": 0.5
             },
             "pattern": {
              "fillmode": "overlay",
              "size": 10,
              "solidity": 0.2
             }
            },
            "type": "bar"
           }
          ],
          "barpolar": [
           {
            "marker": {
             "line": {
              "color": "white",
              "width": 0.5
             },
             "pattern": {
              "fillmode": "overlay",
              "size": 10,
              "solidity": 0.2
             }
            },
            "type": "barpolar"
           }
          ],
          "carpet": [
           {
            "aaxis": {
             "endlinecolor": "#2a3f5f",
             "gridcolor": "#C8D4E3",
             "linecolor": "#C8D4E3",
             "minorgridcolor": "#C8D4E3",
             "startlinecolor": "#2a3f5f"
            },
            "baxis": {
             "endlinecolor": "#2a3f5f",
             "gridcolor": "#C8D4E3",
             "linecolor": "#C8D4E3",
             "minorgridcolor": "#C8D4E3",
             "startlinecolor": "#2a3f5f"
            },
            "type": "carpet"
           }
          ],
          "choropleth": [
           {
            "colorbar": {
             "outlinewidth": 0,
             "ticks": ""
            },
            "type": "choropleth"
           }
          ],
          "contour": [
           {
            "colorbar": {
             "outlinewidth": 0,
             "ticks": ""
            },
            "colorscale": [
             [
              0,
              "#0d0887"
             ],
             [
              0.1111111111111111,
              "#46039f"
             ],
             [
              0.2222222222222222,
              "#7201a8"
             ],
             [
              0.3333333333333333,
              "#9c179e"
             ],
             [
              0.4444444444444444,
              "#bd3786"
             ],
             [
              0.5555555555555556,
              "#d8576b"
             ],
             [
              0.6666666666666666,
              "#ed7953"
             ],
             [
              0.7777777777777778,
              "#fb9f3a"
             ],
             [
              0.8888888888888888,
              "#fdca26"
             ],
             [
              1,
              "#f0f921"
             ]
            ],
            "type": "contour"
           }
          ],
          "contourcarpet": [
           {
            "colorbar": {
             "outlinewidth": 0,
             "ticks": ""
            },
            "type": "contourcarpet"
           }
          ],
          "heatmap": [
           {
            "colorbar": {
             "outlinewidth": 0,
             "ticks": ""
            },
            "colorscale": [
             [
              0,
              "#0d0887"
             ],
             [
              0.1111111111111111,
              "#46039f"
             ],
             [
              0.2222222222222222,
              "#7201a8"
             ],
             [
              0.3333333333333333,
              "#9c179e"
             ],
             [
              0.4444444444444444,
              "#bd3786"
             ],
             [
              0.5555555555555556,
              "#d8576b"
             ],
             [
              0.6666666666666666,
              "#ed7953"
             ],
             [
              0.7777777777777778,
              "#fb9f3a"
             ],
             [
              0.8888888888888888,
              "#fdca26"
             ],
             [
              1,
              "#f0f921"
             ]
            ],
            "type": "heatmap"
           }
          ],
          "histogram": [
           {
            "marker": {
             "pattern": {
              "fillmode": "overlay",
              "size": 10,
              "solidity": 0.2
             }
            },
            "type": "histogram"
           }
          ],
          "histogram2d": [
           {
            "colorbar": {
             "outlinewidth": 0,
             "ticks": ""
            },
            "colorscale": [
             [
              0,
              "#0d0887"
             ],
             [
              0.1111111111111111,
              "#46039f"
             ],
             [
              0.2222222222222222,
              "#7201a8"
             ],
             [
              0.3333333333333333,
              "#9c179e"
             ],
             [
              0.4444444444444444,
              "#bd3786"
             ],
             [
              0.5555555555555556,
              "#d8576b"
             ],
             [
              0.6666666666666666,
              "#ed7953"
             ],
             [
              0.7777777777777778,
              "#fb9f3a"
             ],
             [
              0.8888888888888888,
              "#fdca26"
             ],
             [
              1,
              "#f0f921"
             ]
            ],
            "type": "histogram2d"
           }
          ],
          "histogram2dcontour": [
           {
            "colorbar": {
             "outlinewidth": 0,
             "ticks": ""
            },
            "colorscale": [
             [
              0,
              "#0d0887"
             ],
             [
              0.1111111111111111,
              "#46039f"
             ],
             [
              0.2222222222222222,
              "#7201a8"
             ],
             [
              0.3333333333333333,
              "#9c179e"
             ],
             [
              0.4444444444444444,
              "#bd3786"
             ],
             [
              0.5555555555555556,
              "#d8576b"
             ],
             [
              0.6666666666666666,
              "#ed7953"
             ],
             [
              0.7777777777777778,
              "#fb9f3a"
             ],
             [
              0.8888888888888888,
              "#fdca26"
             ],
             [
              1,
              "#f0f921"
             ]
            ],
            "type": "histogram2dcontour"
           }
          ],
          "mesh3d": [
           {
            "colorbar": {
             "outlinewidth": 0,
             "ticks": ""
            },
            "type": "mesh3d"
           }
          ],
          "parcoords": [
           {
            "line": {
             "colorbar": {
              "outlinewidth": 0,
              "ticks": ""
             }
            },
            "type": "parcoords"
           }
          ],
          "pie": [
           {
            "automargin": true,
            "type": "pie"
           }
          ],
          "scatter": [
           {
            "fillpattern": {
             "fillmode": "overlay",
             "size": 10,
             "solidity": 0.2
            },
            "type": "scatter"
           }
          ],
          "scatter3d": [
           {
            "line": {
             "colorbar": {
              "outlinewidth": 0,
              "ticks": ""
             }
            },
            "marker": {
             "colorbar": {
              "outlinewidth": 0,
              "ticks": ""
             }
            },
            "type": "scatter3d"
           }
          ],
          "scattercarpet": [
           {
            "marker": {
             "colorbar": {
              "outlinewidth": 0,
              "ticks": ""
             }
            },
            "type": "scattercarpet"
           }
          ],
          "scattergeo": [
           {
            "marker": {
             "colorbar": {
              "outlinewidth": 0,
              "ticks": ""
             }
            },
            "type": "scattergeo"
           }
          ],
          "scattergl": [
           {
            "marker": {
             "colorbar": {
              "outlinewidth": 0,
              "ticks": ""
             }
            },
            "type": "scattergl"
           }
          ],
          "scattermap": [
           {
            "marker": {
             "colorbar": {
              "outlinewidth": 0,
              "ticks": ""
             }
            },
            "type": "scattermap"
           }
          ],
          "scattermapbox": [
           {
            "marker": {
             "colorbar": {
              "outlinewidth": 0,
              "ticks": ""
             }
            },
            "type": "scattermapbox"
           }
          ],
          "scatterpolar": [
           {
            "marker": {
             "colorbar": {
              "outlinewidth": 0,
              "ticks": ""
             }
            },
            "type": "scatterpolar"
           }
          ],
          "scatterpolargl": [
           {
            "marker": {
             "colorbar": {
              "outlinewidth": 0,
              "ticks": ""
             }
            },
            "type": "scatterpolargl"
           }
          ],
          "scatterternary": [
           {
            "marker": {
             "colorbar": {
              "outlinewidth": 0,
              "ticks": ""
             }
            },
            "type": "scatterternary"
           }
          ],
          "surface": [
           {
            "colorbar": {
             "outlinewidth": 0,
             "ticks": ""
            },
            "colorscale": [
             [
              0,
              "#0d0887"
             ],
             [
              0.1111111111111111,
              "#46039f"
             ],
             [
              0.2222222222222222,
              "#7201a8"
             ],
             [
              0.3333333333333333,
              "#9c179e"
             ],
             [
              0.4444444444444444,
              "#bd3786"
             ],
             [
              0.5555555555555556,
              "#d8576b"
             ],
             [
              0.6666666666666666,
              "#ed7953"
             ],
             [
              0.7777777777777778,
              "#fb9f3a"
             ],
             [
              0.8888888888888888,
              "#fdca26"
             ],
             [
              1,
              "#f0f921"
             ]
            ],
            "type": "surface"
           }
          ],
          "table": [
           {
            "cells": {
             "fill": {
              "color": "#EBF0F8"
             },
             "line": {
              "color": "white"
             }
            },
            "header": {
             "fill": {
              "color": "#C8D4E3"
             },
             "line": {
              "color": "white"
             }
            },
            "type": "table"
           }
          ]
         },
         "layout": {
          "annotationdefaults": {
           "arrowcolor": "#2a3f5f",
           "arrowhead": 0,
           "arrowwidth": 1
          },
          "autotypenumbers": "strict",
          "coloraxis": {
           "colorbar": {
            "outlinewidth": 0,
            "ticks": ""
           }
          },
          "colorscale": {
           "diverging": [
            [
             0,
             "#8e0152"
            ],
            [
             0.1,
             "#c51b7d"
            ],
            [
             0.2,
             "#de77ae"
            ],
            [
             0.3,
             "#f1b6da"
            ],
            [
             0.4,
             "#fde0ef"
            ],
            [
             0.5,
             "#f7f7f7"
            ],
            [
             0.6,
             "#e6f5d0"
            ],
            [
             0.7,
             "#b8e186"
            ],
            [
             0.8,
             "#7fbc41"
            ],
            [
             0.9,
             "#4d9221"
            ],
            [
             1,
             "#276419"
            ]
           ],
           "sequential": [
            [
             0,
             "#0d0887"
            ],
            [
             0.1111111111111111,
             "#46039f"
            ],
            [
             0.2222222222222222,
             "#7201a8"
            ],
            [
             0.3333333333333333,
             "#9c179e"
            ],
            [
             0.4444444444444444,
             "#bd3786"
            ],
            [
             0.5555555555555556,
             "#d8576b"
            ],
            [
             0.6666666666666666,
             "#ed7953"
            ],
            [
             0.7777777777777778,
             "#fb9f3a"
            ],
            [
             0.8888888888888888,
             "#fdca26"
            ],
            [
             1,
             "#f0f921"
            ]
           ],
           "sequentialminus": [
            [
             0,
             "#0d0887"
            ],
            [
             0.1111111111111111,
             "#46039f"
            ],
            [
             0.2222222222222222,
             "#7201a8"
            ],
            [
             0.3333333333333333,
             "#9c179e"
            ],
            [
             0.4444444444444444,
             "#bd3786"
            ],
            [
             0.5555555555555556,
             "#d8576b"
            ],
            [
             0.6666666666666666,
             "#ed7953"
            ],
            [
             0.7777777777777778,
             "#fb9f3a"
            ],
            [
             0.8888888888888888,
             "#fdca26"
            ],
            [
             1,
             "#f0f921"
            ]
           ]
          },
          "colorway": [
           "#636efa",
           "#EF553B",
           "#00cc96",
           "#ab63fa",
           "#FFA15A",
           "#19d3f3",
           "#FF6692",
           "#B6E880",
           "#FF97FF",
           "#FECB52"
          ],
          "font": {
           "color": "#2a3f5f"
          },
          "geo": {
           "bgcolor": "white",
           "lakecolor": "white",
           "landcolor": "white",
           "showlakes": true,
           "showland": true,
           "subunitcolor": "#C8D4E3"
          },
          "hoverlabel": {
           "align": "left"
          },
          "hovermode": "closest",
          "mapbox": {
           "style": "light"
          },
          "paper_bgcolor": "white",
          "plot_bgcolor": "white",
          "polar": {
           "angularaxis": {
            "gridcolor": "#EBF0F8",
            "linecolor": "#EBF0F8",
            "ticks": ""
           },
           "bgcolor": "white",
           "radialaxis": {
            "gridcolor": "#EBF0F8",
            "linecolor": "#EBF0F8",
            "ticks": ""
           }
          },
          "scene": {
           "xaxis": {
            "backgroundcolor": "white",
            "gridcolor": "#DFE8F3",
            "gridwidth": 2,
            "linecolor": "#EBF0F8",
            "showbackground": true,
            "ticks": "",
            "zerolinecolor": "#EBF0F8"
           },
           "yaxis": {
            "backgroundcolor": "white",
            "gridcolor": "#DFE8F3",
            "gridwidth": 2,
            "linecolor": "#EBF0F8",
            "showbackground": true,
            "ticks": "",
            "zerolinecolor": "#EBF0F8"
           },
           "zaxis": {
            "backgroundcolor": "white",
            "gridcolor": "#DFE8F3",
            "gridwidth": 2,
            "linecolor": "#EBF0F8",
            "showbackground": true,
            "ticks": "",
            "zerolinecolor": "#EBF0F8"
           }
          },
          "shapedefaults": {
           "line": {
            "color": "#2a3f5f"
           }
          },
          "ternary": {
           "aaxis": {
            "gridcolor": "#DFE8F3",
            "linecolor": "#A2B1C6",
            "ticks": ""
           },
           "baxis": {
            "gridcolor": "#DFE8F3",
            "linecolor": "#A2B1C6",
            "ticks": ""
           },
           "bgcolor": "white",
           "caxis": {
            "gridcolor": "#DFE8F3",
            "linecolor": "#A2B1C6",
            "ticks": ""
           }
          },
          "title": {
           "x": 0.05
          },
          "xaxis": {
           "automargin": true,
           "gridcolor": "#EBF0F8",
           "linecolor": "#EBF0F8",
           "ticks": "",
           "title": {
            "standoff": 15
           },
           "zerolinecolor": "#EBF0F8",
           "zerolinewidth": 2
          },
          "yaxis": {
           "automargin": true,
           "gridcolor": "#EBF0F8",
           "linecolor": "#EBF0F8",
           "ticks": "",
           "title": {
            "standoff": 15
           },
           "zerolinecolor": "#EBF0F8",
           "zerolinewidth": 2
          }
         }
        },
        "title": {
         "text": "VNTL Detailed Score Comparison<br><sup>Judge: gpt-5-mini | 4B - 8B Model Range</sup>",
         "x": 0.5
        },
        "width": 1200,
        "xaxis": {
         "anchor": "y",
         "domain": [
          0,
          0.475
         ],
         "showticklabels": false
        },
        "xaxis2": {
         "anchor": "y2",
         "domain": [
          0.525,
          1
         ],
         "showticklabels": false
        },
        "xaxis3": {
         "anchor": "y3",
         "domain": [
          0,
          0.475
         ],
         "showticklabels": false
        },
        "xaxis4": {
         "anchor": "y4",
         "domain": [
          0.525,
          1
         ],
         "showticklabels": false
        },
        "xaxis5": {
         "anchor": "y5",
         "domain": [
          0,
          0.475
         ],
         "showticklabels": false
        },
        "xaxis6": {
         "anchor": "y6",
         "domain": [
          0.525,
          1
         ],
         "showticklabels": false
        },
        "xaxis7": {
         "anchor": "y7",
         "domain": [
          0,
          0.475
         ],
         "showticklabels": false
        },
        "xaxis8": {
         "anchor": "y8",
         "domain": [
          0.525,
          1
         ]
        },
        "yaxis": {
         "anchor": "x",
         "domain": [
          0.81,
          1
         ],
         "range": [
          0,
          10.5
         ]
        },
        "yaxis2": {
         "anchor": "x2",
         "domain": [
          0.81,
          1
         ],
         "range": [
          0,
          10.5
         ]
        },
        "yaxis3": {
         "anchor": "x3",
         "domain": [
          0.54,
          0.73
         ],
         "range": [
          0,
          10.5
         ]
        },
        "yaxis4": {
         "anchor": "x4",
         "domain": [
          0.54,
          0.73
         ],
         "range": [
          0,
          10.5
         ]
        },
        "yaxis5": {
         "anchor": "x5",
         "domain": [
          0.27,
          0.46
         ],
         "range": [
          0,
          10.5
         ]
        },
        "yaxis6": {
         "anchor": "x6",
         "domain": [
          0.27,
          0.46
         ],
         "range": [
          0,
          10.5
         ]
        },
        "yaxis7": {
         "anchor": "x7",
         "domain": [
          0,
          0.19
         ],
         "range": [
          0,
          10.5
         ]
        },
        "yaxis8": {
         "anchor": "x8",
         "domain": [
          0,
          0.19
         ]
        }
       }
      }
     },
     "metadata": {},
     "output_type": "display_data"
    },
    {
     "data": {
      "application/vnd.plotly.v1+json": {
       "config": {
        "plotlyServerURL": "https://plot.ly"
       },
       "data": [
        {
         "marker": {
          "color": "#66c5cc"
         },
         "name": "gpt-4o",
         "showlegend": true,
         "text": [
          "8.26"
         ],
         "textposition": "outside",
         "type": "bar",
         "x": [
          "gpt-4o"
         ],
         "xaxis": "x",
         "y": [
          8.255
         ],
         "yaxis": "y"
        },
        {
         "marker": {
          "color": "#FF6692"
         },
         "name": "gemini-2.0-flash-lite",
         "showlegend": true,
         "text": [
          "7.60"
         ],
         "textposition": "outside",
         "type": "bar",
         "x": [
          "gemini-2.0-flash-lite"
         ],
         "xaxis": "x",
         "y": [
          7.5975
         ],
         "yaxis": "y"
        },
        {
         "marker": {
          "color": "#9eb9f3"
         },
         "name": "gemma-3n-e4b-it",
         "showlegend": true,
         "text": [
          "7.27"
         ],
         "textposition": "outside",
         "type": "bar",
         "x": [
          "gemma-3n-e4b-it"
         ],
         "xaxis": "x",
         "y": [
          7.27
         ],
         "yaxis": "y"
        },
        {
         "marker": {
          "color": "#AB63FA"
         },
         "name": "gemma-3-12b-it",
         "showlegend": true,
         "text": [
          "7.11"
         ],
         "textposition": "outside",
         "type": "bar",
         "x": [
          "gemma-3-12b-it"
         ],
         "xaxis": "x",
         "y": [
          7.11
         ],
         "yaxis": "y"
        },
        {
         "marker": {
          "color": "#f89c74"
         },
         "name": "shisa-v2-llama3.1-8b",
         "showlegend": true,
         "text": [
          "6.81"
         ],
         "textposition": "outside",
         "type": "bar",
         "x": [
          "shisa-v2-llama3.1-8b"
         ],
         "xaxis": "x",
         "y": [
          6.81
         ],
         "yaxis": "y"
        },
        {
         "marker": {
          "color": "#B6E880"
         },
         "name": "shisa-v2-qwen2.5-7b",
         "showlegend": true,
         "text": [
          "6.55"
         ],
         "textposition": "outside",
         "type": "bar",
         "x": [
          "shisa-v2-qwen2.5-7b"
         ],
         "xaxis": "x",
         "y": [
          6.555
         ],
         "yaxis": "y"
        },
        {
         "marker": {
          "color": "#FFA15A"
         },
         "name": "hunyuan-mt-chimera-7b",
         "showlegend": true,
         "text": [
          "6.70"
         ],
         "textposition": "outside",
         "type": "bar",
         "x": [
          "hunyuan-mt-chimera-7b"
         ],
         "xaxis": "x",
         "y": [
          6.7
         ],
         "yaxis": "y"
        },
        {
         "marker": {
          "color": "#b3b3b3"
         },
         "name": "gemma-3-4b",
         "showlegend": true,
         "text": [
          "6.23"
         ],
         "textposition": "outside",
         "type": "bar",
         "x": [
          "gemma-3-4b"
         ],
         "xaxis": "x",
         "y": [
          6.2275
         ],
         "yaxis": "y"
        },
        {
         "marker": {
          "color": "#dcb0f2"
         },
         "name": "aya-expanse-8b-abliterated",
         "showlegend": true,
         "text": [
          "6.57"
         ],
         "textposition": "outside",
         "type": "bar",
         "x": [
          "aya-expanse-8b-abliterated"
         ],
         "xaxis": "x",
         "y": [
          6.5725
         ],
         "yaxis": "y"
        },
        {
         "marker": {
          "color": "#c9db74"
         },
         "name": "hunyuan-mt-7b",
         "showlegend": true,
         "text": [
          "6.48"
         ],
         "textposition": "outside",
         "type": "bar",
         "x": [
          "hunyuan-mt-7b"
         ],
         "xaxis": "x",
         "y": [
          6.4775
         ],
         "yaxis": "y"
        },
        {
         "marker": {
          "color": "#FF97FF"
         },
         "name": "qwen3-8b",
         "showlegend": true,
         "text": [
          "6.35"
         ],
         "textposition": "outside",
         "type": "bar",
         "x": [
          "qwen3-8b"
         ],
         "xaxis": "x",
         "y": [
          6.3475
         ],
         "yaxis": "y"
        },
        {
         "marker": {
          "color": "#87c55f"
         },
         "name": "deepcogito_cogito-v1-preview-llama-8b",
         "showlegend": true,
         "text": [
          "6.25"
         ],
         "textposition": "outside",
         "type": "bar",
         "x": [
          "deepcogito_cogito-v1-preview-llama-8b"
         ],
         "xaxis": "x",
         "y": [
          6.25
         ],
         "yaxis": "y"
        },
        {
         "marker": {
          "color": "#19D3F3"
         },
         "name": "internvl3_5-8b",
         "showlegend": true,
         "text": [
          "6.02"
         ],
         "textposition": "outside",
         "type": "bar",
         "x": [
          "internvl3_5-8b"
         ],
         "xaxis": "x",
         "y": [
          6.0175
         ],
         "yaxis": "y"
        },
        {
         "marker": {
          "color": "#EF553B"
         },
         "name": "qwen2.5-7b-instruct",
         "showlegend": true,
         "text": [
          "6.08"
         ],
         "textposition": "outside",
         "type": "bar",
         "x": [
          "qwen2.5-7b-instruct"
         ],
         "xaxis": "x",
         "y": [
          6.075
         ],
         "yaxis": "y"
        },
        {
         "marker": {
          "color": "#FECB52"
         },
         "name": "llama-3.1-8b-instruct",
         "showlegend": true,
         "text": [
          "5.96"
         ],
         "textposition": "outside",
         "type": "bar",
         "x": [
          "llama-3.1-8b-instruct"
         ],
         "xaxis": "x",
         "y": [
          5.9575
         ],
         "yaxis": "y"
        },
        {
         "marker": {
          "color": "#b497e7"
         },
         "name": "granite-3.3-8b-instruct",
         "showlegend": true,
         "text": [
          "5.42"
         ],
         "textposition": "outside",
         "type": "bar",
         "x": [
          "granite-3.3-8b-instruct"
         ],
         "xaxis": "x",
         "y": [
          5.425
         ],
         "yaxis": "y"
        },
        {
         "marker": {
          "color": "#fe88b1"
         },
         "name": "dolphin3.0-llama3.1-8b",
         "showlegend": true,
         "text": [
          "5.88"
         ],
         "textposition": "outside",
         "type": "bar",
         "x": [
          "dolphin3.0-llama3.1-8b"
         ],
         "xaxis": "x",
         "y": [
          5.875
         ],
         "yaxis": "y"
        },
        {
         "marker": {
          "color": "#00CC96"
         },
         "name": "internvl3_5-4b",
         "showlegend": true,
         "text": [
          "5.24"
         ],
         "textposition": "outside",
         "type": "bar",
         "x": [
          "internvl3_5-4b"
         ],
         "xaxis": "x",
         "y": [
          5.24
         ],
         "yaxis": "y"
        },
        {
         "marker": {
          "color": "#f6cf71"
         },
         "name": "aixsatoshi-honyaku-multi-translator-swallow-ms7b",
         "showlegend": true,
         "text": [
          "3.78"
         ],
         "textposition": "outside",
         "type": "bar",
         "x": [
          "aixsatoshi-honyaku-multi-translator-swallow-ms7b"
         ],
         "xaxis": "x",
         "y": [
          3.7775
         ],
         "yaxis": "y"
        },
        {
         "marker": {
          "color": "#66c5cc"
         },
         "name": "gpt-4o",
         "showlegend": false,
         "text": [
          "8.82"
         ],
         "textposition": "outside",
         "type": "bar",
         "x": [
          "gpt-4o"
         ],
         "xaxis": "x2",
         "y": [
          8.82
         ],
         "yaxis": "y2"
        },
        {
         "marker": {
          "color": "#FF6692"
         },
         "name": "gemini-2.0-flash-lite",
         "showlegend": false,
         "text": [
          "7.59"
         ],
         "textposition": "outside",
         "type": "bar",
         "x": [
          "gemini-2.0-flash-lite"
         ],
         "xaxis": "x2",
         "y": [
          7.59
         ],
         "yaxis": "y2"
        },
        {
         "marker": {
          "color": "#9eb9f3"
         },
         "name": "gemma-3n-e4b-it",
         "showlegend": false,
         "text": [
          "7.89"
         ],
         "textposition": "outside",
         "type": "bar",
         "x": [
          "gemma-3n-e4b-it"
         ],
         "xaxis": "x2",
         "y": [
          7.8925
         ],
         "yaxis": "y2"
        },
        {
         "marker": {
          "color": "#AB63FA"
         },
         "name": "gemma-3-12b-it",
         "showlegend": false,
         "text": [
          "7.50"
         ],
         "textposition": "outside",
         "type": "bar",
         "x": [
          "gemma-3-12b-it"
         ],
         "xaxis": "x2",
         "y": [
          7.505
         ],
         "yaxis": "y2"
        },
        {
         "marker": {
          "color": "#f89c74"
         },
         "name": "shisa-v2-llama3.1-8b",
         "showlegend": false,
         "text": [
          "7.77"
         ],
         "textposition": "outside",
         "type": "bar",
         "x": [
          "shisa-v2-llama3.1-8b"
         ],
         "xaxis": "x2",
         "y": [
          7.7675
         ],
         "yaxis": "y2"
        },
        {
         "marker": {
          "color": "#B6E880"
         },
         "name": "shisa-v2-qwen2.5-7b",
         "showlegend": false,
         "text": [
          "7.69"
         ],
         "textposition": "outside",
         "type": "bar",
         "x": [
          "shisa-v2-qwen2.5-7b"
         ],
         "xaxis": "x2",
         "y": [
          7.6875
         ],
         "yaxis": "y2"
        },
        {
         "marker": {
          "color": "#FFA15A"
         },
         "name": "hunyuan-mt-chimera-7b",
         "showlegend": false,
         "text": [
          "7.69"
         ],
         "textposition": "outside",
         "type": "bar",
         "x": [
          "hunyuan-mt-chimera-7b"
         ],
         "xaxis": "x2",
         "y": [
          7.69
         ],
         "yaxis": "y2"
        },
        {
         "marker": {
          "color": "#b3b3b3"
         },
         "name": "gemma-3-4b",
         "showlegend": false,
         "text": [
          "7.22"
         ],
         "textposition": "outside",
         "type": "bar",
         "x": [
          "gemma-3-4b"
         ],
         "xaxis": "x2",
         "y": [
          7.225
         ],
         "yaxis": "y2"
        },
        {
         "marker": {
          "color": "#dcb0f2"
         },
         "name": "aya-expanse-8b-abliterated",
         "showlegend": false,
         "text": [
          "7.66"
         ],
         "textposition": "outside",
         "type": "bar",
         "x": [
          "aya-expanse-8b-abliterated"
         ],
         "xaxis": "x2",
         "y": [
          7.655
         ],
         "yaxis": "y2"
        },
        {
         "marker": {
          "color": "#c9db74"
         },
         "name": "hunyuan-mt-7b",
         "showlegend": false,
         "text": [
          "7.83"
         ],
         "textposition": "outside",
         "type": "bar",
         "x": [
          "hunyuan-mt-7b"
         ],
         "xaxis": "x2",
         "y": [
          7.8275
         ],
         "yaxis": "y2"
        },
        {
         "marker": {
          "color": "#FF97FF"
         },
         "name": "qwen3-8b",
         "showlegend": false,
         "text": [
          "6.52"
         ],
         "textposition": "outside",
         "type": "bar",
         "x": [
          "qwen3-8b"
         ],
         "xaxis": "x2",
         "y": [
          6.52
         ],
         "yaxis": "y2"
        },
        {
         "marker": {
          "color": "#87c55f"
         },
         "name": "deepcogito_cogito-v1-preview-llama-8b",
         "showlegend": false,
         "text": [
          "7.12"
         ],
         "textposition": "outside",
         "type": "bar",
         "x": [
          "deepcogito_cogito-v1-preview-llama-8b"
         ],
         "xaxis": "x2",
         "y": [
          7.115
         ],
         "yaxis": "y2"
        },
        {
         "marker": {
          "color": "#19D3F3"
         },
         "name": "internvl3_5-8b",
         "showlegend": false,
         "text": [
          "6.84"
         ],
         "textposition": "outside",
         "type": "bar",
         "x": [
          "internvl3_5-8b"
         ],
         "xaxis": "x2",
         "y": [
          6.845
         ],
         "yaxis": "y2"
        },
        {
         "marker": {
          "color": "#EF553B"
         },
         "name": "qwen2.5-7b-instruct",
         "showlegend": false,
         "text": [
          "6.55"
         ],
         "textposition": "outside",
         "type": "bar",
         "x": [
          "qwen2.5-7b-instruct"
         ],
         "xaxis": "x2",
         "y": [
          6.5475
         ],
         "yaxis": "y2"
        },
        {
         "marker": {
          "color": "#FECB52"
         },
         "name": "llama-3.1-8b-instruct",
         "showlegend": false,
         "text": [
          "6.91"
         ],
         "textposition": "outside",
         "type": "bar",
         "x": [
          "llama-3.1-8b-instruct"
         ],
         "xaxis": "x2",
         "y": [
          6.91
         ],
         "yaxis": "y2"
        },
        {
         "marker": {
          "color": "#b497e7"
         },
         "name": "granite-3.3-8b-instruct",
         "showlegend": false,
         "text": [
          "6.71"
         ],
         "textposition": "outside",
         "type": "bar",
         "x": [
          "granite-3.3-8b-instruct"
         ],
         "xaxis": "x2",
         "y": [
          6.7075
         ],
         "yaxis": "y2"
        },
        {
         "marker": {
          "color": "#fe88b1"
         },
         "name": "dolphin3.0-llama3.1-8b",
         "showlegend": false,
         "text": [
          "6.63"
         ],
         "textposition": "outside",
         "type": "bar",
         "x": [
          "dolphin3.0-llama3.1-8b"
         ],
         "xaxis": "x2",
         "y": [
          6.635
         ],
         "yaxis": "y2"
        },
        {
         "marker": {
          "color": "#00CC96"
         },
         "name": "internvl3_5-4b",
         "showlegend": false,
         "text": [
          "6.28"
         ],
         "textposition": "outside",
         "type": "bar",
         "x": [
          "internvl3_5-4b"
         ],
         "xaxis": "x2",
         "y": [
          6.2775
         ],
         "yaxis": "y2"
        },
        {
         "marker": {
          "color": "#f6cf71"
         },
         "name": "aixsatoshi-honyaku-multi-translator-swallow-ms7b",
         "showlegend": false,
         "text": [
          "4.17"
         ],
         "textposition": "outside",
         "type": "bar",
         "x": [
          "aixsatoshi-honyaku-multi-translator-swallow-ms7b"
         ],
         "xaxis": "x2",
         "y": [
          4.1725
         ],
         "yaxis": "y2"
        },
        {
         "marker": {
          "color": "#66c5cc"
         },
         "name": "gpt-4o",
         "showlegend": false,
         "text": [
          "7.93"
         ],
         "textposition": "outside",
         "type": "bar",
         "x": [
          "gpt-4o"
         ],
         "xaxis": "x3",
         "y": [
          7.935
         ],
         "yaxis": "y3"
        },
        {
         "marker": {
          "color": "#FF6692"
         },
         "name": "gemini-2.0-flash-lite",
         "showlegend": false,
         "text": [
          "7.22"
         ],
         "textposition": "outside",
         "type": "bar",
         "x": [
          "gemini-2.0-flash-lite"
         ],
         "xaxis": "x3",
         "y": [
          7.225
         ],
         "yaxis": "y3"
        },
        {
         "marker": {
          "color": "#9eb9f3"
         },
         "name": "gemma-3n-e4b-it",
         "showlegend": false,
         "text": [
          "7.10"
         ],
         "textposition": "outside",
         "type": "bar",
         "x": [
          "gemma-3n-e4b-it"
         ],
         "xaxis": "x3",
         "y": [
          7.0975
         ],
         "yaxis": "y3"
        },
        {
         "marker": {
          "color": "#AB63FA"
         },
         "name": "gemma-3-12b-it",
         "showlegend": false,
         "text": [
          "6.97"
         ],
         "textposition": "outside",
         "type": "bar",
         "x": [
          "gemma-3-12b-it"
         ],
         "xaxis": "x3",
         "y": [
          6.9725
         ],
         "yaxis": "y3"
        },
        {
         "marker": {
          "color": "#f89c74"
         },
         "name": "shisa-v2-llama3.1-8b",
         "showlegend": false,
         "text": [
          "6.82"
         ],
         "textposition": "outside",
         "type": "bar",
         "x": [
          "shisa-v2-llama3.1-8b"
         ],
         "xaxis": "x3",
         "y": [
          6.8225
         ],
         "yaxis": "y3"
        },
        {
         "marker": {
          "color": "#B6E880"
         },
         "name": "shisa-v2-qwen2.5-7b",
         "showlegend": false,
         "text": [
          "6.68"
         ],
         "textposition": "outside",
         "type": "bar",
         "x": [
          "shisa-v2-qwen2.5-7b"
         ],
         "xaxis": "x3",
         "y": [
          6.6775
         ],
         "yaxis": "y3"
        },
        {
         "marker": {
          "color": "#FFA15A"
         },
         "name": "hunyuan-mt-chimera-7b",
         "showlegend": false,
         "text": [
          "6.58"
         ],
         "textposition": "outside",
         "type": "bar",
         "x": [
          "hunyuan-mt-chimera-7b"
         ],
         "xaxis": "x3",
         "y": [
          6.585
         ],
         "yaxis": "y3"
        },
        {
         "marker": {
          "color": "#b3b3b3"
         },
         "name": "gemma-3-4b",
         "showlegend": false,
         "text": [
          "6.45"
         ],
         "textposition": "outside",
         "type": "bar",
         "x": [
          "gemma-3-4b"
         ],
         "xaxis": "x3",
         "y": [
          6.45
         ],
         "yaxis": "y3"
        },
        {
         "marker": {
          "color": "#dcb0f2"
         },
         "name": "aya-expanse-8b-abliterated",
         "showlegend": false,
         "text": [
          "6.46"
         ],
         "textposition": "outside",
         "type": "bar",
         "x": [
          "aya-expanse-8b-abliterated"
         ],
         "xaxis": "x3",
         "y": [
          6.4625
         ],
         "yaxis": "y3"
        },
        {
         "marker": {
          "color": "#c9db74"
         },
         "name": "hunyuan-mt-7b",
         "showlegend": false,
         "text": [
          "6.58"
         ],
         "textposition": "outside",
         "type": "bar",
         "x": [
          "hunyuan-mt-7b"
         ],
         "xaxis": "x3",
         "y": [
          6.585
         ],
         "yaxis": "y3"
        },
        {
         "marker": {
          "color": "#FF97FF"
         },
         "name": "qwen3-8b",
         "showlegend": false,
         "text": [
          "6.32"
         ],
         "textposition": "outside",
         "type": "bar",
         "x": [
          "qwen3-8b"
         ],
         "xaxis": "x3",
         "y": [
          6.315
         ],
         "yaxis": "y3"
        },
        {
         "marker": {
          "color": "#87c55f"
         },
         "name": "deepcogito_cogito-v1-preview-llama-8b",
         "showlegend": false,
         "text": [
          "6.24"
         ],
         "textposition": "outside",
         "type": "bar",
         "x": [
          "deepcogito_cogito-v1-preview-llama-8b"
         ],
         "xaxis": "x3",
         "y": [
          6.24
         ],
         "yaxis": "y3"
        },
        {
         "marker": {
          "color": "#19D3F3"
         },
         "name": "internvl3_5-8b",
         "showlegend": false,
         "text": [
          "6.08"
         ],
         "textposition": "outside",
         "type": "bar",
         "x": [
          "internvl3_5-8b"
         ],
         "xaxis": "x3",
         "y": [
          6.085
         ],
         "yaxis": "y3"
        },
        {
         "marker": {
          "color": "#EF553B"
         },
         "name": "qwen2.5-7b-instruct",
         "showlegend": false,
         "text": [
          "6.07"
         ],
         "textposition": "outside",
         "type": "bar",
         "x": [
          "qwen2.5-7b-instruct"
         ],
         "xaxis": "x3",
         "y": [
          6.065
         ],
         "yaxis": "y3"
        },
        {
         "marker": {
          "color": "#FECB52"
         },
         "name": "llama-3.1-8b-instruct",
         "showlegend": false,
         "text": [
          "6.02"
         ],
         "textposition": "outside",
         "type": "bar",
         "x": [
          "llama-3.1-8b-instruct"
         ],
         "xaxis": "x3",
         "y": [
          6.0175
         ],
         "yaxis": "y3"
        },
        {
         "marker": {
          "color": "#b497e7"
         },
         "name": "granite-3.3-8b-instruct",
         "showlegend": false,
         "text": [
          "5.69"
         ],
         "textposition": "outside",
         "type": "bar",
         "x": [
          "granite-3.3-8b-instruct"
         ],
         "xaxis": "x3",
         "y": [
          5.6875
         ],
         "yaxis": "y3"
        },
        {
         "marker": {
          "color": "#fe88b1"
         },
         "name": "dolphin3.0-llama3.1-8b",
         "showlegend": false,
         "text": [
          "6.00"
         ],
         "textposition": "outside",
         "type": "bar",
         "x": [
          "dolphin3.0-llama3.1-8b"
         ],
         "xaxis": "x3",
         "y": [
          6.0025
         ],
         "yaxis": "y3"
        },
        {
         "marker": {
          "color": "#00CC96"
         },
         "name": "internvl3_5-4b",
         "showlegend": false,
         "text": [
          "5.53"
         ],
         "textposition": "outside",
         "type": "bar",
         "x": [
          "internvl3_5-4b"
         ],
         "xaxis": "x3",
         "y": [
          5.525
         ],
         "yaxis": "y3"
        },
        {
         "marker": {
          "color": "#f6cf71"
         },
         "name": "aixsatoshi-honyaku-multi-translator-swallow-ms7b",
         "showlegend": false,
         "text": [
          "3.82"
         ],
         "textposition": "outside",
         "type": "bar",
         "x": [
          "aixsatoshi-honyaku-multi-translator-swallow-ms7b"
         ],
         "xaxis": "x3",
         "y": [
          3.8225
         ],
         "yaxis": "y3"
        },
        {
         "marker": {
          "color": "#66c5cc"
         },
         "name": "gpt-4o",
         "showlegend": false,
         "text": [
          "8.68"
         ],
         "textposition": "outside",
         "type": "bar",
         "x": [
          "gpt-4o"
         ],
         "xaxis": "x4",
         "y": [
          8.6825
         ],
         "yaxis": "y4"
        },
        {
         "marker": {
          "color": "#FF6692"
         },
         "name": "gemini-2.0-flash-lite",
         "showlegend": false,
         "text": [
          "7.83"
         ],
         "textposition": "outside",
         "type": "bar",
         "x": [
          "gemini-2.0-flash-lite"
         ],
         "xaxis": "x4",
         "y": [
          7.8325
         ],
         "yaxis": "y4"
        },
        {
         "marker": {
          "color": "#9eb9f3"
         },
         "name": "gemma-3n-e4b-it",
         "showlegend": false,
         "text": [
          "7.79"
         ],
         "textposition": "outside",
         "type": "bar",
         "x": [
          "gemma-3n-e4b-it"
         ],
         "xaxis": "x4",
         "y": [
          7.785
         ],
         "yaxis": "y4"
        },
        {
         "marker": {
          "color": "#AB63FA"
         },
         "name": "gemma-3-12b-it",
         "showlegend": false,
         "text": [
          "7.66"
         ],
         "textposition": "outside",
         "type": "bar",
         "x": [
          "gemma-3-12b-it"
         ],
         "xaxis": "x4",
         "y": [
          7.6625
         ],
         "yaxis": "y4"
        },
        {
         "marker": {
          "color": "#f89c74"
         },
         "name": "shisa-v2-llama3.1-8b",
         "showlegend": false,
         "text": [
          "7.58"
         ],
         "textposition": "outside",
         "type": "bar",
         "x": [
          "shisa-v2-llama3.1-8b"
         ],
         "xaxis": "x4",
         "y": [
          7.5775
         ],
         "yaxis": "y4"
        },
        {
         "marker": {
          "color": "#B6E880"
         },
         "name": "shisa-v2-qwen2.5-7b",
         "showlegend": false,
         "text": [
          "7.42"
         ],
         "textposition": "outside",
         "type": "bar",
         "x": [
          "shisa-v2-qwen2.5-7b"
         ],
         "xaxis": "x4",
         "y": [
          7.42
         ],
         "yaxis": "y4"
        },
        {
         "marker": {
          "color": "#FFA15A"
         },
         "name": "hunyuan-mt-chimera-7b",
         "showlegend": false,
         "text": [
          "7.49"
         ],
         "textposition": "outside",
         "type": "bar",
         "x": [
          "hunyuan-mt-chimera-7b"
         ],
         "xaxis": "x4",
         "y": [
          7.485
         ],
         "yaxis": "y4"
        },
        {
         "marker": {
          "color": "#b3b3b3"
         },
         "name": "gemma-3-4b",
         "showlegend": false,
         "text": [
          "7.16"
         ],
         "textposition": "outside",
         "type": "bar",
         "x": [
          "gemma-3-4b"
         ],
         "xaxis": "x4",
         "y": [
          7.1575
         ],
         "yaxis": "y4"
        },
        {
         "marker": {
          "color": "#dcb0f2"
         },
         "name": "aya-expanse-8b-abliterated",
         "showlegend": false,
         "text": [
          "7.26"
         ],
         "textposition": "outside",
         "type": "bar",
         "x": [
          "aya-expanse-8b-abliterated"
         ],
         "xaxis": "x4",
         "y": [
          7.265
         ],
         "yaxis": "y4"
        },
        {
         "marker": {
          "color": "#c9db74"
         },
         "name": "hunyuan-mt-7b",
         "showlegend": false,
         "text": [
          "7.39"
         ],
         "textposition": "outside",
         "type": "bar",
         "x": [
          "hunyuan-mt-7b"
         ],
         "xaxis": "x4",
         "y": [
          7.39
         ],
         "yaxis": "y4"
        },
        {
         "marker": {
          "color": "#FF97FF"
         },
         "name": "qwen3-8b",
         "showlegend": false,
         "text": [
          "6.77"
         ],
         "textposition": "outside",
         "type": "bar",
         "x": [
          "qwen3-8b"
         ],
         "xaxis": "x4",
         "y": [
          6.7725
         ],
         "yaxis": "y4"
        },
        {
         "marker": {
          "color": "#87c55f"
         },
         "name": "deepcogito_cogito-v1-preview-llama-8b",
         "showlegend": false,
         "text": [
          "6.99"
         ],
         "textposition": "outside",
         "type": "bar",
         "x": [
          "deepcogito_cogito-v1-preview-llama-8b"
         ],
         "xaxis": "x4",
         "y": [
          6.99
         ],
         "yaxis": "y4"
        },
        {
         "marker": {
          "color": "#19D3F3"
         },
         "name": "internvl3_5-8b",
         "showlegend": false,
         "text": [
          "6.83"
         ],
         "textposition": "outside",
         "type": "bar",
         "x": [
          "internvl3_5-8b"
         ],
         "xaxis": "x4",
         "y": [
          6.835
         ],
         "yaxis": "y4"
        },
        {
         "marker": {
          "color": "#EF553B"
         },
         "name": "qwen2.5-7b-instruct",
         "showlegend": false,
         "text": [
          "6.83"
         ],
         "textposition": "outside",
         "type": "bar",
         "x": [
          "qwen2.5-7b-instruct"
         ],
         "xaxis": "x4",
         "y": [
          6.8325
         ],
         "yaxis": "y4"
        },
        {
         "marker": {
          "color": "#FECB52"
         },
         "name": "llama-3.1-8b-instruct",
         "showlegend": false,
         "text": [
          "6.88"
         ],
         "textposition": "outside",
         "type": "bar",
         "x": [
          "llama-3.1-8b-instruct"
         ],
         "xaxis": "x4",
         "y": [
          6.875
         ],
         "yaxis": "y4"
        },
        {
         "marker": {
          "color": "#b497e7"
         },
         "name": "granite-3.3-8b-instruct",
         "showlegend": false,
         "text": [
          "6.47"
         ],
         "textposition": "outside",
         "type": "bar",
         "x": [
          "granite-3.3-8b-instruct"
         ],
         "xaxis": "x4",
         "y": [
          6.47
         ],
         "yaxis": "y4"
        },
        {
         "marker": {
          "color": "#fe88b1"
         },
         "name": "dolphin3.0-llama3.1-8b",
         "showlegend": false,
         "text": [
          "6.73"
         ],
         "textposition": "outside",
         "type": "bar",
         "x": [
          "dolphin3.0-llama3.1-8b"
         ],
         "xaxis": "x4",
         "y": [
          6.7275
         ],
         "yaxis": "y4"
        },
        {
         "marker": {
          "color": "#00CC96"
         },
         "name": "internvl3_5-4b",
         "showlegend": false,
         "text": [
          "6.18"
         ],
         "textposition": "outside",
         "type": "bar",
         "x": [
          "internvl3_5-4b"
         ],
         "xaxis": "x4",
         "y": [
          6.1825
         ],
         "yaxis": "y4"
        },
        {
         "marker": {
          "color": "#f6cf71"
         },
         "name": "aixsatoshi-honyaku-multi-translator-swallow-ms7b",
         "showlegend": false,
         "text": [
          "4.09"
         ],
         "textposition": "outside",
         "type": "bar",
         "x": [
          "aixsatoshi-honyaku-multi-translator-swallow-ms7b"
         ],
         "xaxis": "x4",
         "y": [
          4.095
         ],
         "yaxis": "y4"
        },
        {
         "marker": {
          "color": "#66c5cc"
         },
         "name": "gpt-4o",
         "showlegend": false,
         "text": [
          "7.67"
         ],
         "textposition": "outside",
         "type": "bar",
         "x": [
          "gpt-4o"
         ],
         "xaxis": "x5",
         "y": [
          7.675
         ],
         "yaxis": "y5"
        },
        {
         "marker": {
          "color": "#FF6692"
         },
         "name": "gemini-2.0-flash-lite",
         "showlegend": false,
         "text": [
          "6.72"
         ],
         "textposition": "outside",
         "type": "bar",
         "x": [
          "gemini-2.0-flash-lite"
         ],
         "xaxis": "x5",
         "y": [
          6.725
         ],
         "yaxis": "y5"
        },
        {
         "marker": {
          "color": "#9eb9f3"
         },
         "name": "gemma-3n-e4b-it",
         "showlegend": false,
         "text": [
          "6.68"
         ],
         "textposition": "outside",
         "type": "bar",
         "x": [
          "gemma-3n-e4b-it"
         ],
         "xaxis": "x5",
         "y": [
          6.685
         ],
         "yaxis": "y5"
        },
        {
         "marker": {
          "color": "#AB63FA"
         },
         "name": "gemma-3-12b-it",
         "showlegend": false,
         "text": [
          "6.39"
         ],
         "textposition": "outside",
         "type": "bar",
         "x": [
          "gemma-3-12b-it"
         ],
         "xaxis": "x5",
         "y": [
          6.39
         ],
         "yaxis": "y5"
        },
        {
         "marker": {
          "color": "#f89c74"
         },
         "name": "shisa-v2-llama3.1-8b",
         "showlegend": false,
         "text": [
          "6.29"
         ],
         "textposition": "outside",
         "type": "bar",
         "x": [
          "shisa-v2-llama3.1-8b"
         ],
         "xaxis": "x5",
         "y": [
          6.2925
         ],
         "yaxis": "y5"
        },
        {
         "marker": {
          "color": "#B6E880"
         },
         "name": "shisa-v2-qwen2.5-7b",
         "showlegend": false,
         "text": [
          "6.20"
         ],
         "textposition": "outside",
         "type": "bar",
         "x": [
          "shisa-v2-qwen2.5-7b"
         ],
         "xaxis": "x5",
         "y": [
          6.195
         ],
         "yaxis": "y5"
        },
        {
         "marker": {
          "color": "#FFA15A"
         },
         "name": "hunyuan-mt-chimera-7b",
         "showlegend": false,
         "text": [
          "5.89"
         ],
         "textposition": "outside",
         "type": "bar",
         "x": [
          "hunyuan-mt-chimera-7b"
         ],
         "xaxis": "x5",
         "y": [
          5.895
         ],
         "yaxis": "y5"
        },
        {
         "marker": {
          "color": "#b3b3b3"
         },
         "name": "gemma-3-4b",
         "showlegend": false,
         "text": [
          "5.88"
         ],
         "textposition": "outside",
         "type": "bar",
         "x": [
          "gemma-3-4b"
         ],
         "xaxis": "x5",
         "y": [
          5.88
         ],
         "yaxis": "y5"
        },
        {
         "marker": {
          "color": "#dcb0f2"
         },
         "name": "aya-expanse-8b-abliterated",
         "showlegend": false,
         "text": [
          "6.02"
         ],
         "textposition": "outside",
         "type": "bar",
         "x": [
          "aya-expanse-8b-abliterated"
         ],
         "xaxis": "x5",
         "y": [
          6.0225
         ],
         "yaxis": "y5"
        },
        {
         "marker": {
          "color": "#c9db74"
         },
         "name": "hunyuan-mt-7b",
         "showlegend": false,
         "text": [
          "5.76"
         ],
         "textposition": "outside",
         "type": "bar",
         "x": [
          "hunyuan-mt-7b"
         ],
         "xaxis": "x5",
         "y": [
          5.7575
         ],
         "yaxis": "y5"
        },
        {
         "marker": {
          "color": "#FF97FF"
         },
         "name": "qwen3-8b",
         "showlegend": false,
         "text": [
          "5.73"
         ],
         "textposition": "outside",
         "type": "bar",
         "x": [
          "qwen3-8b"
         ],
         "xaxis": "x5",
         "y": [
          5.73
         ],
         "yaxis": "y5"
        },
        {
         "marker": {
          "color": "#87c55f"
         },
         "name": "deepcogito_cogito-v1-preview-llama-8b",
         "showlegend": false,
         "text": [
          "5.67"
         ],
         "textposition": "outside",
         "type": "bar",
         "x": [
          "deepcogito_cogito-v1-preview-llama-8b"
         ],
         "xaxis": "x5",
         "y": [
          5.67
         ],
         "yaxis": "y5"
        },
        {
         "marker": {
          "color": "#19D3F3"
         },
         "name": "internvl3_5-8b",
         "showlegend": false,
         "text": [
          "5.46"
         ],
         "textposition": "outside",
         "type": "bar",
         "x": [
          "internvl3_5-8b"
         ],
         "xaxis": "x5",
         "y": [
          5.455
         ],
         "yaxis": "y5"
        },
        {
         "marker": {
          "color": "#EF553B"
         },
         "name": "qwen2.5-7b-instruct",
         "showlegend": false,
         "text": [
          "5.37"
         ],
         "textposition": "outside",
         "type": "bar",
         "x": [
          "qwen2.5-7b-instruct"
         ],
         "xaxis": "x5",
         "y": [
          5.3725
         ],
         "yaxis": "y5"
        },
        {
         "marker": {
          "color": "#FECB52"
         },
         "name": "llama-3.1-8b-instruct",
         "showlegend": false,
         "text": [
          "5.51"
         ],
         "textposition": "outside",
         "type": "bar",
         "x": [
          "llama-3.1-8b-instruct"
         ],
         "xaxis": "x5",
         "y": [
          5.5125
         ],
         "yaxis": "y5"
        },
        {
         "marker": {
          "color": "#b497e7"
         },
         "name": "granite-3.3-8b-instruct",
         "showlegend": false,
         "text": [
          "5.20"
         ],
         "textposition": "outside",
         "type": "bar",
         "x": [
          "granite-3.3-8b-instruct"
         ],
         "xaxis": "x5",
         "y": [
          5.1975
         ],
         "yaxis": "y5"
        },
        {
         "marker": {
          "color": "#fe88b1"
         },
         "name": "dolphin3.0-llama3.1-8b",
         "showlegend": false,
         "text": [
          "5.39"
         ],
         "textposition": "outside",
         "type": "bar",
         "x": [
          "dolphin3.0-llama3.1-8b"
         ],
         "xaxis": "x5",
         "y": [
          5.3875
         ],
         "yaxis": "y5"
        },
        {
         "marker": {
          "color": "#00CC96"
         },
         "name": "internvl3_5-4b",
         "showlegend": false,
         "text": [
          "4.81"
         ],
         "textposition": "outside",
         "type": "bar",
         "x": [
          "internvl3_5-4b"
         ],
         "xaxis": "x5",
         "y": [
          4.8125
         ],
         "yaxis": "y5"
        },
        {
         "marker": {
          "color": "#f6cf71"
         },
         "name": "aixsatoshi-honyaku-multi-translator-swallow-ms7b",
         "showlegend": false,
         "text": [
          "3.57"
         ],
         "textposition": "outside",
         "type": "bar",
         "x": [
          "aixsatoshi-honyaku-multi-translator-swallow-ms7b"
         ],
         "xaxis": "x5",
         "y": [
          3.5675
         ],
         "yaxis": "y5"
        },
        {
         "marker": {
          "color": "#66c5cc"
         },
         "name": "gpt-4o",
         "showlegend": false,
         "text": [
          "8.38"
         ],
         "textposition": "outside",
         "type": "bar",
         "x": [
          "gpt-4o"
         ],
         "xaxis": "x6",
         "y": [
          8.3775
         ],
         "yaxis": "y6"
        },
        {
         "marker": {
          "color": "#FF6692"
         },
         "name": "gemini-2.0-flash-lite",
         "showlegend": false,
         "text": [
          "8.19"
         ],
         "textposition": "outside",
         "type": "bar",
         "x": [
          "gemini-2.0-flash-lite"
         ],
         "xaxis": "x6",
         "y": [
          8.1875
         ],
         "yaxis": "y6"
        },
        {
         "marker": {
          "color": "#9eb9f3"
         },
         "name": "gemma-3n-e4b-it",
         "showlegend": false,
         "text": [
          "8.09"
         ],
         "textposition": "outside",
         "type": "bar",
         "x": [
          "gemma-3n-e4b-it"
         ],
         "xaxis": "x6",
         "y": [
          8.0925
         ],
         "yaxis": "y6"
        },
        {
         "marker": {
          "color": "#AB63FA"
         },
         "name": "gemma-3-12b-it",
         "showlegend": false,
         "text": [
          "7.67"
         ],
         "textposition": "outside",
         "type": "bar",
         "x": [
          "gemma-3-12b-it"
         ],
         "xaxis": "x6",
         "y": [
          7.6675
         ],
         "yaxis": "y6"
        },
        {
         "marker": {
          "color": "#f89c74"
         },
         "name": "shisa-v2-llama3.1-8b",
         "showlegend": false,
         "text": [
          "6.03"
         ],
         "textposition": "outside",
         "type": "bar",
         "x": [
          "shisa-v2-llama3.1-8b"
         ],
         "xaxis": "x6",
         "y": [
          6.025
         ],
         "yaxis": "y6"
        },
        {
         "marker": {
          "color": "#B6E880"
         },
         "name": "shisa-v2-qwen2.5-7b",
         "showlegend": false,
         "text": [
          "5.45"
         ],
         "textposition": "outside",
         "type": "bar",
         "x": [
          "shisa-v2-qwen2.5-7b"
         ],
         "xaxis": "x6",
         "y": [
          5.4525
         ],
         "yaxis": "y6"
        },
        {
         "marker": {
          "color": "#FFA15A"
         },
         "name": "hunyuan-mt-chimera-7b",
         "showlegend": false,
         "text": [
          "5.09"
         ],
         "textposition": "outside",
         "type": "bar",
         "x": [
          "hunyuan-mt-chimera-7b"
         ],
         "xaxis": "x6",
         "y": [
          5.0875
         ],
         "yaxis": "y6"
        },
        {
         "marker": {
          "color": "#b3b3b3"
         },
         "name": "gemma-3-4b",
         "showlegend": false,
         "text": [
          "6.32"
         ],
         "textposition": "outside",
         "type": "bar",
         "x": [
          "gemma-3-4b"
         ],
         "xaxis": "x6",
         "y": [
          6.3225
         ],
         "yaxis": "y6"
        },
        {
         "marker": {
          "color": "#dcb0f2"
         },
         "name": "aya-expanse-8b-abliterated",
         "showlegend": false,
         "text": [
          "4.82"
         ],
         "textposition": "outside",
         "type": "bar",
         "x": [
          "aya-expanse-8b-abliterated"
         ],
         "xaxis": "x6",
         "y": [
          4.815
         ],
         "yaxis": "y6"
        },
        {
         "marker": {
          "color": "#c9db74"
         },
         "name": "hunyuan-mt-7b",
         "showlegend": false,
         "text": [
          "4.41"
         ],
         "textposition": "outside",
         "type": "bar",
         "x": [
          "hunyuan-mt-7b"
         ],
         "xaxis": "x6",
         "y": [
          4.4125
         ],
         "yaxis": "y6"
        },
        {
         "marker": {
          "color": "#FF97FF"
         },
         "name": "qwen3-8b",
         "showlegend": false,
         "text": [
          "6.68"
         ],
         "textposition": "outside",
         "type": "bar",
         "x": [
          "qwen3-8b"
         ],
         "xaxis": "x6",
         "y": [
          6.68
         ],
         "yaxis": "y6"
        },
        {
         "marker": {
          "color": "#87c55f"
         },
         "name": "deepcogito_cogito-v1-preview-llama-8b",
         "showlegend": false,
         "text": [
          "5.88"
         ],
         "textposition": "outside",
         "type": "bar",
         "x": [
          "deepcogito_cogito-v1-preview-llama-8b"
         ],
         "xaxis": "x6",
         "y": [
          5.875
         ],
         "yaxis": "y6"
        },
        {
         "marker": {
          "color": "#19D3F3"
         },
         "name": "internvl3_5-8b",
         "showlegend": false,
         "text": [
          "6.89"
         ],
         "textposition": "outside",
         "type": "bar",
         "x": [
          "internvl3_5-8b"
         ],
         "xaxis": "x6",
         "y": [
          6.895
         ],
         "yaxis": "y6"
        },
        {
         "marker": {
          "color": "#EF553B"
         },
         "name": "qwen2.5-7b-instruct",
         "showlegend": false,
         "text": [
          "6.77"
         ],
         "textposition": "outside",
         "type": "bar",
         "x": [
          "qwen2.5-7b-instruct"
         ],
         "xaxis": "x6",
         "y": [
          6.7675
         ],
         "yaxis": "y6"
        },
        {
         "marker": {
          "color": "#FECB52"
         },
         "name": "llama-3.1-8b-instruct",
         "showlegend": false,
         "text": [
          "5.13"
         ],
         "textposition": "outside",
         "type": "bar",
         "x": [
          "llama-3.1-8b-instruct"
         ],
         "xaxis": "x6",
         "y": [
          5.1275
         ],
         "yaxis": "y6"
        },
        {
         "marker": {
          "color": "#b497e7"
         },
         "name": "granite-3.3-8b-instruct",
         "showlegend": false,
         "text": [
          "6.58"
         ],
         "textposition": "outside",
         "type": "bar",
         "x": [
          "granite-3.3-8b-instruct"
         ],
         "xaxis": "x6",
         "y": [
          6.5775
         ],
         "yaxis": "y6"
        },
        {
         "marker": {
          "color": "#fe88b1"
         },
         "name": "dolphin3.0-llama3.1-8b",
         "showlegend": false,
         "text": [
          "5.13"
         ],
         "textposition": "outside",
         "type": "bar",
         "x": [
          "dolphin3.0-llama3.1-8b"
         ],
         "xaxis": "x6",
         "y": [
          5.1325
         ],
         "yaxis": "y6"
        },
        {
         "marker": {
          "color": "#00CC96"
         },
         "name": "internvl3_5-4b",
         "showlegend": false,
         "text": [
          "5.46"
         ],
         "textposition": "outside",
         "type": "bar",
         "x": [
          "internvl3_5-4b"
         ],
         "xaxis": "x6",
         "y": [
          5.4625
         ],
         "yaxis": "y6"
        },
        {
         "marker": {
          "color": "#f6cf71"
         },
         "name": "aixsatoshi-honyaku-multi-translator-swallow-ms7b",
         "showlegend": false,
         "text": [
          "3.90"
         ],
         "textposition": "outside",
         "type": "bar",
         "x": [
          "aixsatoshi-honyaku-multi-translator-swallow-ms7b"
         ],
         "xaxis": "x6",
         "y": [
          3.8975
         ],
         "yaxis": "y6"
        },
        {
         "marker": {
          "color": "#66c5cc"
         },
         "name": "gpt-4o",
         "showlegend": false,
         "text": [
          "8.29"
         ],
         "textposition": "outside",
         "type": "bar",
         "x": [
          "gpt-4o"
         ],
         "xaxis": "x7",
         "y": [
          8.290833333333333
         ],
         "yaxis": "y7"
        },
        {
         "marker": {
          "color": "#FF6692"
         },
         "name": "gemini-2.0-flash-lite",
         "showlegend": false,
         "text": [
          "7.53"
         ],
         "textposition": "outside",
         "type": "bar",
         "x": [
          "gemini-2.0-flash-lite"
         ],
         "xaxis": "x7",
         "y": [
          7.52625
         ],
         "yaxis": "y7"
        },
        {
         "marker": {
          "color": "#9eb9f3"
         },
         "name": "gemma-3n-e4b-it",
         "showlegend": false,
         "text": [
          "7.47"
         ],
         "textposition": "outside",
         "type": "bar",
         "x": [
          "gemma-3n-e4b-it"
         ],
         "xaxis": "x7",
         "y": [
          7.470416666666666
         ],
         "yaxis": "y7"
        },
        {
         "marker": {
          "color": "#AB63FA"
         },
         "name": "gemma-3-12b-it",
         "showlegend": false,
         "text": [
          "7.22"
         ],
         "textposition": "outside",
         "type": "bar",
         "x": [
          "gemma-3-12b-it"
         ],
         "xaxis": "x7",
         "y": [
          7.217916666666667
         ],
         "yaxis": "y7"
        },
        {
         "marker": {
          "color": "#f89c74"
         },
         "name": "shisa-v2-llama3.1-8b",
         "showlegend": false,
         "text": [
          "6.88"
         ],
         "textposition": "outside",
         "type": "bar",
         "x": [
          "shisa-v2-llama3.1-8b"
         ],
         "xaxis": "x7",
         "y": [
          6.882499999999999
         ],
         "yaxis": "y7"
        },
        {
         "marker": {
          "color": "#B6E880"
         },
         "name": "shisa-v2-qwen2.5-7b",
         "showlegend": false,
         "text": [
          "6.66"
         ],
         "textposition": "outside",
         "type": "bar",
         "x": [
          "shisa-v2-qwen2.5-7b"
         ],
         "xaxis": "x7",
         "y": [
          6.664583333333334
         ],
         "yaxis": "y7"
        },
        {
         "marker": {
          "color": "#FFA15A"
         },
         "name": "hunyuan-mt-chimera-7b",
         "showlegend": false,
         "text": [
          "6.57"
         ],
         "textposition": "outside",
         "type": "bar",
         "x": [
          "hunyuan-mt-chimera-7b"
         ],
         "xaxis": "x7",
         "y": [
          6.57375
         ],
         "yaxis": "y7"
        },
        {
         "marker": {
          "color": "#b3b3b3"
         },
         "name": "gemma-3-4b",
         "showlegend": false,
         "text": [
          "6.54"
         ],
         "textposition": "outside",
         "type": "bar",
         "x": [
          "gemma-3-4b"
         ],
         "xaxis": "x7",
         "y": [
          6.543749999999999
         ],
         "yaxis": "y7"
        },
        {
         "marker": {
          "color": "#dcb0f2"
         },
         "name": "aya-expanse-8b-abliterated",
         "showlegend": false,
         "text": [
          "6.47"
         ],
         "textposition": "outside",
         "type": "bar",
         "x": [
          "aya-expanse-8b-abliterated"
         ],
         "xaxis": "x7",
         "y": [
          6.465416666666666
         ],
         "yaxis": "y7"
        },
        {
         "marker": {
          "color": "#c9db74"
         },
         "name": "hunyuan-mt-7b",
         "showlegend": false,
         "text": [
          "6.41"
         ],
         "textposition": "outside",
         "type": "bar",
         "x": [
          "hunyuan-mt-7b"
         ],
         "xaxis": "x7",
         "y": [
          6.408333333333334
         ],
         "yaxis": "y7"
        },
        {
         "marker": {
          "color": "#FF97FF"
         },
         "name": "qwen3-8b",
         "showlegend": false,
         "text": [
          "6.39"
         ],
         "textposition": "outside",
         "type": "bar",
         "x": [
          "qwen3-8b"
         ],
         "xaxis": "x7",
         "y": [
          6.394166666666667
         ],
         "yaxis": "y7"
        },
        {
         "marker": {
          "color": "#87c55f"
         },
         "name": "deepcogito_cogito-v1-preview-llama-8b",
         "showlegend": false,
         "text": [
          "6.36"
         ],
         "textposition": "outside",
         "type": "bar",
         "x": [
          "deepcogito_cogito-v1-preview-llama-8b"
         ],
         "xaxis": "x7",
         "y": [
          6.3566666666666665
         ],
         "yaxis": "y7"
        },
        {
         "marker": {
          "color": "#19D3F3"
         },
         "name": "internvl3_5-8b",
         "showlegend": false,
         "text": [
          "6.36"
         ],
         "textposition": "outside",
         "type": "bar",
         "x": [
          "internvl3_5-8b"
         ],
         "xaxis": "x7",
         "y": [
          6.355416666666668
         ],
         "yaxis": "y7"
        },
        {
         "marker": {
          "color": "#EF553B"
         },
         "name": "qwen2.5-7b-instruct",
         "showlegend": false,
         "text": [
          "6.28"
         ],
         "textposition": "outside",
         "type": "bar",
         "x": [
          "qwen2.5-7b-instruct"
         ],
         "xaxis": "x7",
         "y": [
          6.276666666666666
         ],
         "yaxis": "y7"
        },
        {
         "marker": {
          "color": "#FECB52"
         },
         "name": "llama-3.1-8b-instruct",
         "showlegend": false,
         "text": [
          "6.07"
         ],
         "textposition": "outside",
         "type": "bar",
         "x": [
          "llama-3.1-8b-instruct"
         ],
         "xaxis": "x7",
         "y": [
          6.066666666666666
         ],
         "yaxis": "y7"
        },
        {
         "marker": {
          "color": "#b497e7"
         },
         "name": "granite-3.3-8b-instruct",
         "showlegend": false,
         "text": [
          "6.01"
         ],
         "textposition": "outside",
         "type": "bar",
         "x": [
          "granite-3.3-8b-instruct"
         ],
         "xaxis": "x7",
         "y": [
          6.010833333333333
         ],
         "yaxis": "y7"
        },
        {
         "marker": {
          "color": "#fe88b1"
         },
         "name": "dolphin3.0-llama3.1-8b",
         "showlegend": false,
         "text": [
          "5.96"
         ],
         "textposition": "outside",
         "type": "bar",
         "x": [
          "dolphin3.0-llama3.1-8b"
         ],
         "xaxis": "x7",
         "y": [
          5.96
         ],
         "yaxis": "y7"
        },
        {
         "marker": {
          "color": "#00CC96"
         },
         "name": "internvl3_5-4b",
         "showlegend": false,
         "text": [
          "5.58"
         ],
         "textposition": "outside",
         "type": "bar",
         "x": [
          "internvl3_5-4b"
         ],
         "xaxis": "x7",
         "y": [
          5.583333333333333
         ],
         "yaxis": "y7"
        },
        {
         "marker": {
          "color": "#f6cf71"
         },
         "name": "aixsatoshi-honyaku-multi-translator-swallow-ms7b",
         "showlegend": false,
         "text": [
          "3.89"
         ],
         "textposition": "outside",
         "type": "bar",
         "x": [
          "aixsatoshi-honyaku-multi-translator-swallow-ms7b"
         ],
         "xaxis": "x7",
         "y": [
          3.88875
         ],
         "yaxis": "y7"
        }
       ],
       "layout": {
        "annotations": [
         {
          "font": {
           "size": 16
          },
          "showarrow": false,
          "text": "Accuracy",
          "x": 0.2375,
          "xanchor": "center",
          "xref": "paper",
          "y": 1,
          "yanchor": "bottom",
          "yref": "paper"
         },
         {
          "font": {
           "size": 16
          },
          "showarrow": false,
          "text": "Fluency",
          "x": 0.7625,
          "xanchor": "center",
          "xref": "paper",
          "y": 1,
          "yanchor": "bottom",
          "yref": "paper"
         },
         {
          "font": {
           "size": 16
          },
          "showarrow": false,
          "text": "Character Voice",
          "x": 0.2375,
          "xanchor": "center",
          "xref": "paper",
          "y": 0.73,
          "yanchor": "bottom",
          "yref": "paper"
         },
         {
          "font": {
           "size": 16
          },
          "showarrow": false,
          "text": "Tone",
          "x": 0.7625,
          "xanchor": "center",
          "xref": "paper",
          "y": 0.73,
          "yanchor": "bottom",
          "yref": "paper"
         },
         {
          "font": {
           "size": 16
          },
          "showarrow": false,
          "text": "Localization",
          "x": 0.2375,
          "xanchor": "center",
          "xref": "paper",
          "y": 0.46,
          "yanchor": "bottom",
          "yref": "paper"
         },
         {
          "font": {
           "size": 16
          },
          "showarrow": false,
          "text": "Direction Following",
          "x": 0.7625,
          "xanchor": "center",
          "xref": "paper",
          "y": 0.46,
          "yanchor": "bottom",
          "yref": "paper"
         },
         {
          "font": {
           "size": 16
          },
          "showarrow": false,
          "text": "Average Sub-Score",
          "x": 0.2375,
          "xanchor": "center",
          "xref": "paper",
          "y": 0.19,
          "yanchor": "bottom",
          "yref": "paper"
         }
        ],
        "bargap": 0.01,
        "bargroupgap": 0.01,
        "barmode": "group",
        "height": 1400,
        "legend": {
         "title": {
          "text": "Model"
         }
        },
        "template": {
         "data": {
          "bar": [
           {
            "error_x": {
             "color": "#2a3f5f"
            },
            "error_y": {
             "color": "#2a3f5f"
            },
            "marker": {
             "line": {
              "color": "white",
              "width": 0.5
             },
             "pattern": {
              "fillmode": "overlay",
              "size": 10,
              "solidity": 0.2
             }
            },
            "type": "bar"
           }
          ],
          "barpolar": [
           {
            "marker": {
             "line": {
              "color": "white",
              "width": 0.5
             },
             "pattern": {
              "fillmode": "overlay",
              "size": 10,
              "solidity": 0.2
             }
            },
            "type": "barpolar"
           }
          ],
          "carpet": [
           {
            "aaxis": {
             "endlinecolor": "#2a3f5f",
             "gridcolor": "#C8D4E3",
             "linecolor": "#C8D4E3",
             "minorgridcolor": "#C8D4E3",
             "startlinecolor": "#2a3f5f"
            },
            "baxis": {
             "endlinecolor": "#2a3f5f",
             "gridcolor": "#C8D4E3",
             "linecolor": "#C8D4E3",
             "minorgridcolor": "#C8D4E3",
             "startlinecolor": "#2a3f5f"
            },
            "type": "carpet"
           }
          ],
          "choropleth": [
           {
            "colorbar": {
             "outlinewidth": 0,
             "ticks": ""
            },
            "type": "choropleth"
           }
          ],
          "contour": [
           {
            "colorbar": {
             "outlinewidth": 0,
             "ticks": ""
            },
            "colorscale": [
             [
              0,
              "#0d0887"
             ],
             [
              0.1111111111111111,
              "#46039f"
             ],
             [
              0.2222222222222222,
              "#7201a8"
             ],
             [
              0.3333333333333333,
              "#9c179e"
             ],
             [
              0.4444444444444444,
              "#bd3786"
             ],
             [
              0.5555555555555556,
              "#d8576b"
             ],
             [
              0.6666666666666666,
              "#ed7953"
             ],
             [
              0.7777777777777778,
              "#fb9f3a"
             ],
             [
              0.8888888888888888,
              "#fdca26"
             ],
             [
              1,
              "#f0f921"
             ]
            ],
            "type": "contour"
           }
          ],
          "contourcarpet": [
           {
            "colorbar": {
             "outlinewidth": 0,
             "ticks": ""
            },
            "type": "contourcarpet"
           }
          ],
          "heatmap": [
           {
            "colorbar": {
             "outlinewidth": 0,
             "ticks": ""
            },
            "colorscale": [
             [
              0,
              "#0d0887"
             ],
             [
              0.1111111111111111,
              "#46039f"
             ],
             [
              0.2222222222222222,
              "#7201a8"
             ],
             [
              0.3333333333333333,
              "#9c179e"
             ],
             [
              0.4444444444444444,
              "#bd3786"
             ],
             [
              0.5555555555555556,
              "#d8576b"
             ],
             [
              0.6666666666666666,
              "#ed7953"
             ],
             [
              0.7777777777777778,
              "#fb9f3a"
             ],
             [
              0.8888888888888888,
              "#fdca26"
             ],
             [
              1,
              "#f0f921"
             ]
            ],
            "type": "heatmap"
           }
          ],
          "histogram": [
           {
            "marker": {
             "pattern": {
              "fillmode": "overlay",
              "size": 10,
              "solidity": 0.2
             }
            },
            "type": "histogram"
           }
          ],
          "histogram2d": [
           {
            "colorbar": {
             "outlinewidth": 0,
             "ticks": ""
            },
            "colorscale": [
             [
              0,
              "#0d0887"
             ],
             [
              0.1111111111111111,
              "#46039f"
             ],
             [
              0.2222222222222222,
              "#7201a8"
             ],
             [
              0.3333333333333333,
              "#9c179e"
             ],
             [
              0.4444444444444444,
              "#bd3786"
             ],
             [
              0.5555555555555556,
              "#d8576b"
             ],
             [
              0.6666666666666666,
              "#ed7953"
             ],
             [
              0.7777777777777778,
              "#fb9f3a"
             ],
             [
              0.8888888888888888,
              "#fdca26"
             ],
             [
              1,
              "#f0f921"
             ]
            ],
            "type": "histogram2d"
           }
          ],
          "histogram2dcontour": [
           {
            "colorbar": {
             "outlinewidth": 0,
             "ticks": ""
            },
            "colorscale": [
             [
              0,
              "#0d0887"
             ],
             [
              0.1111111111111111,
              "#46039f"
             ],
             [
              0.2222222222222222,
              "#7201a8"
             ],
             [
              0.3333333333333333,
              "#9c179e"
             ],
             [
              0.4444444444444444,
              "#bd3786"
             ],
             [
              0.5555555555555556,
              "#d8576b"
             ],
             [
              0.6666666666666666,
              "#ed7953"
             ],
             [
              0.7777777777777778,
              "#fb9f3a"
             ],
             [
              0.8888888888888888,
              "#fdca26"
             ],
             [
              1,
              "#f0f921"
             ]
            ],
            "type": "histogram2dcontour"
           }
          ],
          "mesh3d": [
           {
            "colorbar": {
             "outlinewidth": 0,
             "ticks": ""
            },
            "type": "mesh3d"
           }
          ],
          "parcoords": [
           {
            "line": {
             "colorbar": {
              "outlinewidth": 0,
              "ticks": ""
             }
            },
            "type": "parcoords"
           }
          ],
          "pie": [
           {
            "automargin": true,
            "type": "pie"
           }
          ],
          "scatter": [
           {
            "fillpattern": {
             "fillmode": "overlay",
             "size": 10,
             "solidity": 0.2
            },
            "type": "scatter"
           }
          ],
          "scatter3d": [
           {
            "line": {
             "colorbar": {
              "outlinewidth": 0,
              "ticks": ""
             }
            },
            "marker": {
             "colorbar": {
              "outlinewidth": 0,
              "ticks": ""
             }
            },
            "type": "scatter3d"
           }
          ],
          "scattercarpet": [
           {
            "marker": {
             "colorbar": {
              "outlinewidth": 0,
              "ticks": ""
             }
            },
            "type": "scattercarpet"
           }
          ],
          "scattergeo": [
           {
            "marker": {
             "colorbar": {
              "outlinewidth": 0,
              "ticks": ""
             }
            },
            "type": "scattergeo"
           }
          ],
          "scattergl": [
           {
            "marker": {
             "colorbar": {
              "outlinewidth": 0,
              "ticks": ""
             }
            },
            "type": "scattergl"
           }
          ],
          "scattermap": [
           {
            "marker": {
             "colorbar": {
              "outlinewidth": 0,
              "ticks": ""
             }
            },
            "type": "scattermap"
           }
          ],
          "scattermapbox": [
           {
            "marker": {
             "colorbar": {
              "outlinewidth": 0,
              "ticks": ""
             }
            },
            "type": "scattermapbox"
           }
          ],
          "scatterpolar": [
           {
            "marker": {
             "colorbar": {
              "outlinewidth": 0,
              "ticks": ""
             }
            },
            "type": "scatterpolar"
           }
          ],
          "scatterpolargl": [
           {
            "marker": {
             "colorbar": {
              "outlinewidth": 0,
              "ticks": ""
             }
            },
            "type": "scatterpolargl"
           }
          ],
          "scatterternary": [
           {
            "marker": {
             "colorbar": {
              "outlinewidth": 0,
              "ticks": ""
             }
            },
            "type": "scatterternary"
           }
          ],
          "surface": [
           {
            "colorbar": {
             "outlinewidth": 0,
             "ticks": ""
            },
            "colorscale": [
             [
              0,
              "#0d0887"
             ],
             [
              0.1111111111111111,
              "#46039f"
             ],
             [
              0.2222222222222222,
              "#7201a8"
             ],
             [
              0.3333333333333333,
              "#9c179e"
             ],
             [
              0.4444444444444444,
              "#bd3786"
             ],
             [
              0.5555555555555556,
              "#d8576b"
             ],
             [
              0.6666666666666666,
              "#ed7953"
             ],
             [
              0.7777777777777778,
              "#fb9f3a"
             ],
             [
              0.8888888888888888,
              "#fdca26"
             ],
             [
              1,
              "#f0f921"
             ]
            ],
            "type": "surface"
           }
          ],
          "table": [
           {
            "cells": {
             "fill": {
              "color": "#EBF0F8"
             },
             "line": {
              "color": "white"
             }
            },
            "header": {
             "fill": {
              "color": "#C8D4E3"
             },
             "line": {
              "color": "white"
             }
            },
            "type": "table"
           }
          ]
         },
         "layout": {
          "annotationdefaults": {
           "arrowcolor": "#2a3f5f",
           "arrowhead": 0,
           "arrowwidth": 1
          },
          "autotypenumbers": "strict",
          "coloraxis": {
           "colorbar": {
            "outlinewidth": 0,
            "ticks": ""
           }
          },
          "colorscale": {
           "diverging": [
            [
             0,
             "#8e0152"
            ],
            [
             0.1,
             "#c51b7d"
            ],
            [
             0.2,
             "#de77ae"
            ],
            [
             0.3,
             "#f1b6da"
            ],
            [
             0.4,
             "#fde0ef"
            ],
            [
             0.5,
             "#f7f7f7"
            ],
            [
             0.6,
             "#e6f5d0"
            ],
            [
             0.7,
             "#b8e186"
            ],
            [
             0.8,
             "#7fbc41"
            ],
            [
             0.9,
             "#4d9221"
            ],
            [
             1,
             "#276419"
            ]
           ],
           "sequential": [
            [
             0,
             "#0d0887"
            ],
            [
             0.1111111111111111,
             "#46039f"
            ],
            [
             0.2222222222222222,
             "#7201a8"
            ],
            [
             0.3333333333333333,
             "#9c179e"
            ],
            [
             0.4444444444444444,
             "#bd3786"
            ],
            [
             0.5555555555555556,
             "#d8576b"
            ],
            [
             0.6666666666666666,
             "#ed7953"
            ],
            [
             0.7777777777777778,
             "#fb9f3a"
            ],
            [
             0.8888888888888888,
             "#fdca26"
            ],
            [
             1,
             "#f0f921"
            ]
           ],
           "sequentialminus": [
            [
             0,
             "#0d0887"
            ],
            [
             0.1111111111111111,
             "#46039f"
            ],
            [
             0.2222222222222222,
             "#7201a8"
            ],
            [
             0.3333333333333333,
             "#9c179e"
            ],
            [
             0.4444444444444444,
             "#bd3786"
            ],
            [
             0.5555555555555556,
             "#d8576b"
            ],
            [
             0.6666666666666666,
             "#ed7953"
            ],
            [
             0.7777777777777778,
             "#fb9f3a"
            ],
            [
             0.8888888888888888,
             "#fdca26"
            ],
            [
             1,
             "#f0f921"
            ]
           ]
          },
          "colorway": [
           "#636efa",
           "#EF553B",
           "#00cc96",
           "#ab63fa",
           "#FFA15A",
           "#19d3f3",
           "#FF6692",
           "#B6E880",
           "#FF97FF",
           "#FECB52"
          ],
          "font": {
           "color": "#2a3f5f"
          },
          "geo": {
           "bgcolor": "white",
           "lakecolor": "white",
           "landcolor": "white",
           "showlakes": true,
           "showland": true,
           "subunitcolor": "#C8D4E3"
          },
          "hoverlabel": {
           "align": "left"
          },
          "hovermode": "closest",
          "mapbox": {
           "style": "light"
          },
          "paper_bgcolor": "white",
          "plot_bgcolor": "white",
          "polar": {
           "angularaxis": {
            "gridcolor": "#EBF0F8",
            "linecolor": "#EBF0F8",
            "ticks": ""
           },
           "bgcolor": "white",
           "radialaxis": {
            "gridcolor": "#EBF0F8",
            "linecolor": "#EBF0F8",
            "ticks": ""
           }
          },
          "scene": {
           "xaxis": {
            "backgroundcolor": "white",
            "gridcolor": "#DFE8F3",
            "gridwidth": 2,
            "linecolor": "#EBF0F8",
            "showbackground": true,
            "ticks": "",
            "zerolinecolor": "#EBF0F8"
           },
           "yaxis": {
            "backgroundcolor": "white",
            "gridcolor": "#DFE8F3",
            "gridwidth": 2,
            "linecolor": "#EBF0F8",
            "showbackground": true,
            "ticks": "",
            "zerolinecolor": "#EBF0F8"
           },
           "zaxis": {
            "backgroundcolor": "white",
            "gridcolor": "#DFE8F3",
            "gridwidth": 2,
            "linecolor": "#EBF0F8",
            "showbackground": true,
            "ticks": "",
            "zerolinecolor": "#EBF0F8"
           }
          },
          "shapedefaults": {
           "line": {
            "color": "#2a3f5f"
           }
          },
          "ternary": {
           "aaxis": {
            "gridcolor": "#DFE8F3",
            "linecolor": "#A2B1C6",
            "ticks": ""
           },
           "baxis": {
            "gridcolor": "#DFE8F3",
            "linecolor": "#A2B1C6",
            "ticks": ""
           },
           "bgcolor": "white",
           "caxis": {
            "gridcolor": "#DFE8F3",
            "linecolor": "#A2B1C6",
            "ticks": ""
           }
          },
          "title": {
           "x": 0.05
          },
          "xaxis": {
           "automargin": true,
           "gridcolor": "#EBF0F8",
           "linecolor": "#EBF0F8",
           "ticks": "",
           "title": {
            "standoff": 15
           },
           "zerolinecolor": "#EBF0F8",
           "zerolinewidth": 2
          },
          "yaxis": {
           "automargin": true,
           "gridcolor": "#EBF0F8",
           "linecolor": "#EBF0F8",
           "ticks": "",
           "title": {
            "standoff": 15
           },
           "zerolinecolor": "#EBF0F8",
           "zerolinewidth": 2
          }
         }
        },
        "title": {
         "text": "VNTL Detailed Score Comparison (Averaged)<br><sup>Average Across gpt-4.1, gpt-5-mini | 4B - 8B Model Range</sup>",
         "x": 0.5
        },
        "width": 1200,
        "xaxis": {
         "anchor": "y",
         "domain": [
          0,
          0.475
         ],
         "showticklabels": false
        },
        "xaxis2": {
         "anchor": "y2",
         "domain": [
          0.525,
          1
         ],
         "showticklabels": false
        },
        "xaxis3": {
         "anchor": "y3",
         "domain": [
          0,
          0.475
         ],
         "showticklabels": false
        },
        "xaxis4": {
         "anchor": "y4",
         "domain": [
          0.525,
          1
         ],
         "showticklabels": false
        },
        "xaxis5": {
         "anchor": "y5",
         "domain": [
          0,
          0.475
         ],
         "showticklabels": false
        },
        "xaxis6": {
         "anchor": "y6",
         "domain": [
          0.525,
          1
         ],
         "showticklabels": false
        },
        "xaxis7": {
         "anchor": "y7",
         "domain": [
          0,
          0.475
         ],
         "showticklabels": false
        },
        "xaxis8": {
         "anchor": "y8",
         "domain": [
          0.525,
          1
         ]
        },
        "yaxis": {
         "anchor": "x",
         "domain": [
          0.81,
          1
         ],
         "range": [
          0,
          10.5
         ]
        },
        "yaxis2": {
         "anchor": "x2",
         "domain": [
          0.81,
          1
         ],
         "range": [
          0,
          10.5
         ]
        },
        "yaxis3": {
         "anchor": "x3",
         "domain": [
          0.54,
          0.73
         ],
         "range": [
          0,
          10.5
         ]
        },
        "yaxis4": {
         "anchor": "x4",
         "domain": [
          0.54,
          0.73
         ],
         "range": [
          0,
          10.5
         ]
        },
        "yaxis5": {
         "anchor": "x5",
         "domain": [
          0.27,
          0.46
         ],
         "range": [
          0,
          10.5
         ]
        },
        "yaxis6": {
         "anchor": "x6",
         "domain": [
          0.27,
          0.46
         ],
         "range": [
          0,
          10.5
         ]
        },
        "yaxis7": {
         "anchor": "x7",
         "domain": [
          0,
          0.19
         ],
         "range": [
          0,
          10.5
         ]
        },
        "yaxis8": {
         "anchor": "x8",
         "domain": [
          0,
          0.19
         ]
        }
       }
      }
     },
     "metadata": {},
     "output_type": "display_data"
    }
   ],
   "source": [
    "# --- VNTL Sub-score Grid Visualization (Looping by Judge) ---\n",
    "\n",
    "import plotly.graph_objects as go\n",
    "import plotly.express as px\n",
    "from plotly.subplots import make_subplots\n",
    "\n",
    "# Define the VNTL score columns we want to create plots for\n",
    "vntl_score_columns = [\n",
    "    \"score_accuracy\", \n",
    "    \"score_fluency\", \n",
    "    \"score_character_voice\", \n",
    "    \"score_tone\", \n",
    "    \"score_localization\",\n",
    "    \"score_direction_following\"\n",
    "]\n",
    "\n",
    "# Use the mapped name to correctly filter for VNTL data\n",
    "VNTL_MAPPED_NAME = eval_dataset_map.get('VNTL-Translation')\n",
    "if VNTL_MAPPED_NAME:\n",
    "    df_vntl = all_result_df[all_result_df['eval_dataset'] == VNTL_MAPPED_NAME].copy()\n",
    "else:\n",
    "    df_vntl = pd.DataFrame()\n",
    "\n",
    "# Check if the VNTL data exists and has the required columns\n",
    "if not df_vntl.empty and all(col in df_vntl.columns for col in vntl_score_columns):\n",
    "    \n",
    "    # Loop through each judge model that has VNTL data\n",
    "    for judge_model in df_vntl['judge_model'].unique():\n",
    "        df_vntl_judge = df_vntl[df_vntl['judge_model'] == judge_model]\n",
    "\n",
    "        # Calculate the mean of each sub-score for each model for the current judge\n",
    "        vntl_summary = df_vntl_judge.groupby('model_name')[vntl_score_columns].mean()\n",
    "        \n",
    "        # Calculate an overall average score for sorting\n",
    "        vntl_summary['Average'] = vntl_summary.mean(axis=1)\n",
    "        \n",
    "        # Create a VNTL-specific model order for the current judge\n",
    "        vntl_model_order = vntl_summary.sort_values(by='Average', ascending=False).index.tolist()\n",
    "        vntl_summary = vntl_summary.reindex(vntl_model_order)\n",
    "        \n",
    "        # --- Create the 4x2 Grid Plot ---\n",
    "        n_rows, n_cols = 4, 2\n",
    "        \n",
    "        # Create titles for all 6 sub-scores, plus the final average\n",
    "        subplot_titles = [col.replace('score_', '').replace('_', ' ').title() for col in vntl_score_columns]\n",
    "        subplot_titles.append(\"Average Sub-Score\")\n",
    "\n",
    "        fig_vntl_grid = make_subplots(\n",
    "            rows=n_rows, \n",
    "            cols=n_cols, \n",
    "            subplot_titles=subplot_titles,\n",
    "            vertical_spacing=0.08,\n",
    "            horizontal_spacing=0.05\n",
    "        )\n",
    "        \n",
    "        # Loop through all 6 score types plus the 'Average'\n",
    "        plot_order = vntl_score_columns + ['Average']\n",
    "        for i, score_type in enumerate(plot_order):\n",
    "            row = i // n_cols + 1\n",
    "            col = i % n_cols + 1\n",
    "            \n",
    "            # Add a bar for each model in the current subplot\n",
    "            for model_name in vntl_model_order:\n",
    "                score = vntl_summary.loc[model_name, score_type]\n",
    "                fig_vntl_grid.add_trace(go.Bar(\n",
    "                    x=[model_name],\n",
    "                    y=[score],\n",
    "                    name=model_name,\n",
    "                    marker_color=color_map.get(model_name), # Uses the global color_map\n",
    "                    text=[f\"{score:.2f}\"],\n",
    "                    textposition='outside',\n",
    "                    showlegend=(i == 0)\n",
    "                ), row=row, col=col)\n",
    "            \n",
    "            fig_vntl_grid.update_yaxes(range=[0, 10.5], row=row, col=col)\n",
    "            fig_vntl_grid.update_xaxes(showticklabels=False, row=row, col=col)\n",
    "\n",
    "        fig_vntl_grid.update_layout(\n",
    "            height=1400, \n",
    "            width=1200, \n",
    "            barmode='group',\n",
    "            # Dynamically set the title to include the current judge model\n",
    "            title_text=f\"VNTL Detailed Score Comparison<br><sup>Judge: {judge_model.replace('judge_', '')} | {MODEL_RANGE_GROUP}</sup>\",\n",
    "            title_x=0.5, \n",
    "            template='plotly_white',\n",
    "            legend_title_text='Model',\n",
    "            bargap=0.01, \n",
    "            bargroupgap=0.01\n",
    "        )\n",
    "\n",
    "        fig_vntl_grid.show()\n",
    "        # fig_vntl_grid.write_image(f\"{GRAPHS_DIR}/vntl_grid_{judge_model.replace('judge_', '')}.png\")\n",
    "else:\n",
    "    print(\"No VNTL multi-score data found to generate the plot.\")\n",
    "\n",
    "# --- AVERAGED VNTL SUB-SCORE GRID (Across All Judge Models) ---\n",
    "import plotly.graph_objects as go\n",
    "import plotly.express as px\n",
    "from plotly.subplots import make_subplots\n",
    "\n",
    "# Get the list of judge models for the title\n",
    "judge_models_list = sorted(all_result_df['judge_model'].unique())\n",
    "judge_models_formatted = [j.replace('judge_', '') for j in judge_models_list]\n",
    "judge_models_text = ', '.join(judge_models_formatted)\n",
    "\n",
    "# Define the VNTL score columns we want to create plots for\n",
    "vntl_score_columns = [\n",
    "    \"score_accuracy\", \n",
    "    \"score_fluency\", \n",
    "    \"score_character_voice\", \n",
    "    \"score_tone\", \n",
    "    \"score_localization\",\n",
    "    \"score_direction_following\"\n",
    "]\n",
    "\n",
    "# Use the mapped name to correctly filter for VNTL data\n",
    "VNTL_MAPPED_NAME = eval_dataset_map.get('VNTL-Translation')\n",
    "if VNTL_MAPPED_NAME:\n",
    "    df_vntl_avg = all_result_df[all_result_df['eval_dataset'] == VNTL_MAPPED_NAME].copy()\n",
    "else:\n",
    "    df_vntl_avg = pd.DataFrame()\n",
    "\n",
    "# Check if the VNTL data exists and has the required columns\n",
    "if not df_vntl_avg.empty and all(col in df_vntl_avg.columns for col in vntl_score_columns):\n",
    "    \n",
    "    # Calculate the mean of each sub-score for each model across ALL judge models\n",
    "    vntl_summary_avg = df_vntl_avg.groupby('model_name')[vntl_score_columns].mean()\n",
    "    \n",
    "    # Calculate an overall average score for sorting\n",
    "    vntl_summary_avg['Average'] = vntl_summary_avg.mean(axis=1)\n",
    "    \n",
    "    # Create a VNTL-specific model order for the averaged data\n",
    "    vntl_model_order_avg = vntl_summary_avg.sort_values(by='Average', ascending=False).index.tolist()\n",
    "    vntl_summary_avg = vntl_summary_avg.reindex(vntl_model_order_avg)\n",
    "    \n",
    "    # --- Create the 4x2 Grid Plot ---\n",
    "    n_rows, n_cols = 4, 2\n",
    "    \n",
    "    # Create titles for all 6 sub-scores, plus the final average\n",
    "    subplot_titles = [col.replace('score_', '').replace('_', ' ').title() for col in vntl_score_columns]\n",
    "    subplot_titles.append(\"Average Sub-Score\")\n",
    "\n",
    "    fig_vntl_grid_avg = make_subplots(\n",
    "        rows=n_rows, \n",
    "        cols=n_cols, \n",
    "        subplot_titles=subplot_titles,\n",
    "        vertical_spacing=0.08,\n",
    "        horizontal_spacing=0.05\n",
    "    )\n",
    "    \n",
    "    # Loop through all 6 score types plus the 'Average'\n",
    "    plot_order = vntl_score_columns + ['Average']\n",
    "    for i, score_type in enumerate(plot_order):\n",
    "        row = i // n_cols + 1\n",
    "        col = i % n_cols + 1\n",
    "        \n",
    "        # Add a bar for each model in the current subplot\n",
    "        for model_name in vntl_model_order_avg:\n",
    "            score = vntl_summary_avg.loc[model_name, score_type]\n",
    "            fig_vntl_grid_avg.add_trace(go.Bar(\n",
    "                x=[model_name],\n",
    "                y=[score],\n",
    "                name=model_name,\n",
    "                marker_color=color_map.get(model_name), # Uses the global color_map\n",
    "                text=[f\"{score:.2f}\"],\n",
    "                textposition='outside',\n",
    "                showlegend=(i == 0)\n",
    "            ), row=row, col=col)\n",
    "        \n",
    "        fig_vntl_grid_avg.update_yaxes(range=[0, 10.5], row=row, col=col)\n",
    "        fig_vntl_grid_avg.update_xaxes(showticklabels=False, row=row, col=col)\n",
    "\n",
    "    fig_vntl_grid_avg.update_layout(\n",
    "        height=1400, \n",
    "        width=1200, \n",
    "        barmode='group',\n",
    "        # Title indicates this is averaged across all judges\n",
    "        title_text=f\"VNTL Detailed Score Comparison (Averaged)<br><sup>Average Across {judge_models_text} | {MODEL_RANGE_GROUP}</sup>\",\n",
    "        title_x=0.5, \n",
    "        template='plotly_white',\n",
    "        legend_title_text='Model',\n",
    "        bargap=0.01, \n",
    "        bargroupgap=0.01\n",
    "    )\n",
    "\n",
    "    fig_vntl_grid_avg.show()\n",
    "    # fig_vntl_grid_avg.write_image(f\"{GRAPHS_DIR}/vntl_grid_averaged.png\")\n",
    "else:\n",
    "    print(\"No VNTL multi-score data found to generate the averaged plot.\")"
   ]
  },
  {
   "cell_type": "code",
   "execution_count": 69,
   "id": "0c67de16",
   "metadata": {},
   "outputs": [
    {
     "data": {
      "text/html": [
       "<style type=\"text/css\">\n",
       "#T_34c48_row0_col0, #T_34c48_row0_col1, #T_34c48_row0_col2, #T_34c48_row0_col3, #T_34c48_row0_col4, #T_34c48_row0_col5, #T_34c48_row0_col6 {\n",
       "  background-color: #FFF8C4;\n",
       "}\n",
       "</style>\n",
       "<table id=\"T_34c48\">\n",
       "  <caption>VNTL Subscore Mean Table (Highlight: Max per Column)</caption>\n",
       "  <thead>\n",
       "    <tr>\n",
       "      <th class=\"blank level0\" >&nbsp;</th>\n",
       "      <th id=\"T_34c48_level0_col0\" class=\"col_heading level0 col0\" >score_accuracy</th>\n",
       "      <th id=\"T_34c48_level0_col1\" class=\"col_heading level0 col1\" >score_fluency</th>\n",
       "      <th id=\"T_34c48_level0_col2\" class=\"col_heading level0 col2\" >score_character_voice</th>\n",
       "      <th id=\"T_34c48_level0_col3\" class=\"col_heading level0 col3\" >score_tone</th>\n",
       "      <th id=\"T_34c48_level0_col4\" class=\"col_heading level0 col4\" >score_localization</th>\n",
       "      <th id=\"T_34c48_level0_col5\" class=\"col_heading level0 col5\" >score_direction_following</th>\n",
       "      <th id=\"T_34c48_level0_col6\" class=\"col_heading level0 col6\" >Average</th>\n",
       "    </tr>\n",
       "    <tr>\n",
       "      <th class=\"index_name level0\" >model_name</th>\n",
       "      <th class=\"blank col0\" >&nbsp;</th>\n",
       "      <th class=\"blank col1\" >&nbsp;</th>\n",
       "      <th class=\"blank col2\" >&nbsp;</th>\n",
       "      <th class=\"blank col3\" >&nbsp;</th>\n",
       "      <th class=\"blank col4\" >&nbsp;</th>\n",
       "      <th class=\"blank col5\" >&nbsp;</th>\n",
       "      <th class=\"blank col6\" >&nbsp;</th>\n",
       "    </tr>\n",
       "  </thead>\n",
       "  <tbody>\n",
       "    <tr>\n",
       "      <th id=\"T_34c48_level0_row0\" class=\"row_heading level0 row0\" >gpt-4o</th>\n",
       "      <td id=\"T_34c48_row0_col0\" class=\"data row0 col0\" >8.26</td>\n",
       "      <td id=\"T_34c48_row0_col1\" class=\"data row0 col1\" >8.82</td>\n",
       "      <td id=\"T_34c48_row0_col2\" class=\"data row0 col2\" >7.93</td>\n",
       "      <td id=\"T_34c48_row0_col3\" class=\"data row0 col3\" >8.68</td>\n",
       "      <td id=\"T_34c48_row0_col4\" class=\"data row0 col4\" >7.67</td>\n",
       "      <td id=\"T_34c48_row0_col5\" class=\"data row0 col5\" >8.38</td>\n",
       "      <td id=\"T_34c48_row0_col6\" class=\"data row0 col6\" >8.29</td>\n",
       "    </tr>\n",
       "    <tr>\n",
       "      <th id=\"T_34c48_level0_row1\" class=\"row_heading level0 row1\" >gemini-2.0-flash-lite</th>\n",
       "      <td id=\"T_34c48_row1_col0\" class=\"data row1 col0\" >7.60</td>\n",
       "      <td id=\"T_34c48_row1_col1\" class=\"data row1 col1\" >7.59</td>\n",
       "      <td id=\"T_34c48_row1_col2\" class=\"data row1 col2\" >7.22</td>\n",
       "      <td id=\"T_34c48_row1_col3\" class=\"data row1 col3\" >7.83</td>\n",
       "      <td id=\"T_34c48_row1_col4\" class=\"data row1 col4\" >6.72</td>\n",
       "      <td id=\"T_34c48_row1_col5\" class=\"data row1 col5\" >8.19</td>\n",
       "      <td id=\"T_34c48_row1_col6\" class=\"data row1 col6\" >7.53</td>\n",
       "    </tr>\n",
       "    <tr>\n",
       "      <th id=\"T_34c48_level0_row2\" class=\"row_heading level0 row2\" >gemma-3n-e4b-it</th>\n",
       "      <td id=\"T_34c48_row2_col0\" class=\"data row2 col0\" >7.27</td>\n",
       "      <td id=\"T_34c48_row2_col1\" class=\"data row2 col1\" >7.89</td>\n",
       "      <td id=\"T_34c48_row2_col2\" class=\"data row2 col2\" >7.10</td>\n",
       "      <td id=\"T_34c48_row2_col3\" class=\"data row2 col3\" >7.79</td>\n",
       "      <td id=\"T_34c48_row2_col4\" class=\"data row2 col4\" >6.68</td>\n",
       "      <td id=\"T_34c48_row2_col5\" class=\"data row2 col5\" >8.09</td>\n",
       "      <td id=\"T_34c48_row2_col6\" class=\"data row2 col6\" >7.47</td>\n",
       "    </tr>\n",
       "    <tr>\n",
       "      <th id=\"T_34c48_level0_row3\" class=\"row_heading level0 row3\" >gemma-3-12b-it</th>\n",
       "      <td id=\"T_34c48_row3_col0\" class=\"data row3 col0\" >7.11</td>\n",
       "      <td id=\"T_34c48_row3_col1\" class=\"data row3 col1\" >7.50</td>\n",
       "      <td id=\"T_34c48_row3_col2\" class=\"data row3 col2\" >6.97</td>\n",
       "      <td id=\"T_34c48_row3_col3\" class=\"data row3 col3\" >7.66</td>\n",
       "      <td id=\"T_34c48_row3_col4\" class=\"data row3 col4\" >6.39</td>\n",
       "      <td id=\"T_34c48_row3_col5\" class=\"data row3 col5\" >7.67</td>\n",
       "      <td id=\"T_34c48_row3_col6\" class=\"data row3 col6\" >7.22</td>\n",
       "    </tr>\n",
       "    <tr>\n",
       "      <th id=\"T_34c48_level0_row4\" class=\"row_heading level0 row4\" >shisa-v2-llama3.1-8b</th>\n",
       "      <td id=\"T_34c48_row4_col0\" class=\"data row4 col0\" >6.81</td>\n",
       "      <td id=\"T_34c48_row4_col1\" class=\"data row4 col1\" >7.77</td>\n",
       "      <td id=\"T_34c48_row4_col2\" class=\"data row4 col2\" >6.82</td>\n",
       "      <td id=\"T_34c48_row4_col3\" class=\"data row4 col3\" >7.58</td>\n",
       "      <td id=\"T_34c48_row4_col4\" class=\"data row4 col4\" >6.29</td>\n",
       "      <td id=\"T_34c48_row4_col5\" class=\"data row4 col5\" >6.03</td>\n",
       "      <td id=\"T_34c48_row4_col6\" class=\"data row4 col6\" >6.88</td>\n",
       "    </tr>\n",
       "    <tr>\n",
       "      <th id=\"T_34c48_level0_row5\" class=\"row_heading level0 row5\" >shisa-v2-qwen2.5-7b</th>\n",
       "      <td id=\"T_34c48_row5_col0\" class=\"data row5 col0\" >6.55</td>\n",
       "      <td id=\"T_34c48_row5_col1\" class=\"data row5 col1\" >7.69</td>\n",
       "      <td id=\"T_34c48_row5_col2\" class=\"data row5 col2\" >6.68</td>\n",
       "      <td id=\"T_34c48_row5_col3\" class=\"data row5 col3\" >7.42</td>\n",
       "      <td id=\"T_34c48_row5_col4\" class=\"data row5 col4\" >6.20</td>\n",
       "      <td id=\"T_34c48_row5_col5\" class=\"data row5 col5\" >5.45</td>\n",
       "      <td id=\"T_34c48_row5_col6\" class=\"data row5 col6\" >6.66</td>\n",
       "    </tr>\n",
       "    <tr>\n",
       "      <th id=\"T_34c48_level0_row6\" class=\"row_heading level0 row6\" >hunyuan-mt-chimera-7b</th>\n",
       "      <td id=\"T_34c48_row6_col0\" class=\"data row6 col0\" >6.70</td>\n",
       "      <td id=\"T_34c48_row6_col1\" class=\"data row6 col1\" >7.69</td>\n",
       "      <td id=\"T_34c48_row6_col2\" class=\"data row6 col2\" >6.58</td>\n",
       "      <td id=\"T_34c48_row6_col3\" class=\"data row6 col3\" >7.49</td>\n",
       "      <td id=\"T_34c48_row6_col4\" class=\"data row6 col4\" >5.89</td>\n",
       "      <td id=\"T_34c48_row6_col5\" class=\"data row6 col5\" >5.09</td>\n",
       "      <td id=\"T_34c48_row6_col6\" class=\"data row6 col6\" >6.57</td>\n",
       "    </tr>\n",
       "    <tr>\n",
       "      <th id=\"T_34c48_level0_row7\" class=\"row_heading level0 row7\" >gemma-3-4b</th>\n",
       "      <td id=\"T_34c48_row7_col0\" class=\"data row7 col0\" >6.23</td>\n",
       "      <td id=\"T_34c48_row7_col1\" class=\"data row7 col1\" >7.22</td>\n",
       "      <td id=\"T_34c48_row7_col2\" class=\"data row7 col2\" >6.45</td>\n",
       "      <td id=\"T_34c48_row7_col3\" class=\"data row7 col3\" >7.16</td>\n",
       "      <td id=\"T_34c48_row7_col4\" class=\"data row7 col4\" >5.88</td>\n",
       "      <td id=\"T_34c48_row7_col5\" class=\"data row7 col5\" >6.32</td>\n",
       "      <td id=\"T_34c48_row7_col6\" class=\"data row7 col6\" >6.54</td>\n",
       "    </tr>\n",
       "    <tr>\n",
       "      <th id=\"T_34c48_level0_row8\" class=\"row_heading level0 row8\" >aya-expanse-8b-abliterated</th>\n",
       "      <td id=\"T_34c48_row8_col0\" class=\"data row8 col0\" >6.57</td>\n",
       "      <td id=\"T_34c48_row8_col1\" class=\"data row8 col1\" >7.66</td>\n",
       "      <td id=\"T_34c48_row8_col2\" class=\"data row8 col2\" >6.46</td>\n",
       "      <td id=\"T_34c48_row8_col3\" class=\"data row8 col3\" >7.26</td>\n",
       "      <td id=\"T_34c48_row8_col4\" class=\"data row8 col4\" >6.02</td>\n",
       "      <td id=\"T_34c48_row8_col5\" class=\"data row8 col5\" >4.82</td>\n",
       "      <td id=\"T_34c48_row8_col6\" class=\"data row8 col6\" >6.47</td>\n",
       "    </tr>\n",
       "    <tr>\n",
       "      <th id=\"T_34c48_level0_row9\" class=\"row_heading level0 row9\" >hunyuan-mt-7b</th>\n",
       "      <td id=\"T_34c48_row9_col0\" class=\"data row9 col0\" >6.48</td>\n",
       "      <td id=\"T_34c48_row9_col1\" class=\"data row9 col1\" >7.83</td>\n",
       "      <td id=\"T_34c48_row9_col2\" class=\"data row9 col2\" >6.58</td>\n",
       "      <td id=\"T_34c48_row9_col3\" class=\"data row9 col3\" >7.39</td>\n",
       "      <td id=\"T_34c48_row9_col4\" class=\"data row9 col4\" >5.76</td>\n",
       "      <td id=\"T_34c48_row9_col5\" class=\"data row9 col5\" >4.41</td>\n",
       "      <td id=\"T_34c48_row9_col6\" class=\"data row9 col6\" >6.41</td>\n",
       "    </tr>\n",
       "    <tr>\n",
       "      <th id=\"T_34c48_level0_row10\" class=\"row_heading level0 row10\" >qwen3-8b</th>\n",
       "      <td id=\"T_34c48_row10_col0\" class=\"data row10 col0\" >6.35</td>\n",
       "      <td id=\"T_34c48_row10_col1\" class=\"data row10 col1\" >6.52</td>\n",
       "      <td id=\"T_34c48_row10_col2\" class=\"data row10 col2\" >6.32</td>\n",
       "      <td id=\"T_34c48_row10_col3\" class=\"data row10 col3\" >6.77</td>\n",
       "      <td id=\"T_34c48_row10_col4\" class=\"data row10 col4\" >5.73</td>\n",
       "      <td id=\"T_34c48_row10_col5\" class=\"data row10 col5\" >6.68</td>\n",
       "      <td id=\"T_34c48_row10_col6\" class=\"data row10 col6\" >6.39</td>\n",
       "    </tr>\n",
       "    <tr>\n",
       "      <th id=\"T_34c48_level0_row11\" class=\"row_heading level0 row11\" >deepcogito_cogito-v1-preview-llama-8b</th>\n",
       "      <td id=\"T_34c48_row11_col0\" class=\"data row11 col0\" >6.25</td>\n",
       "      <td id=\"T_34c48_row11_col1\" class=\"data row11 col1\" >7.12</td>\n",
       "      <td id=\"T_34c48_row11_col2\" class=\"data row11 col2\" >6.24</td>\n",
       "      <td id=\"T_34c48_row11_col3\" class=\"data row11 col3\" >6.99</td>\n",
       "      <td id=\"T_34c48_row11_col4\" class=\"data row11 col4\" >5.67</td>\n",
       "      <td id=\"T_34c48_row11_col5\" class=\"data row11 col5\" >5.88</td>\n",
       "      <td id=\"T_34c48_row11_col6\" class=\"data row11 col6\" >6.36</td>\n",
       "    </tr>\n",
       "    <tr>\n",
       "      <th id=\"T_34c48_level0_row12\" class=\"row_heading level0 row12\" >internvl3_5-8b</th>\n",
       "      <td id=\"T_34c48_row12_col0\" class=\"data row12 col0\" >6.02</td>\n",
       "      <td id=\"T_34c48_row12_col1\" class=\"data row12 col1\" >6.84</td>\n",
       "      <td id=\"T_34c48_row12_col2\" class=\"data row12 col2\" >6.08</td>\n",
       "      <td id=\"T_34c48_row12_col3\" class=\"data row12 col3\" >6.83</td>\n",
       "      <td id=\"T_34c48_row12_col4\" class=\"data row12 col4\" >5.46</td>\n",
       "      <td id=\"T_34c48_row12_col5\" class=\"data row12 col5\" >6.89</td>\n",
       "      <td id=\"T_34c48_row12_col6\" class=\"data row12 col6\" >6.36</td>\n",
       "    </tr>\n",
       "    <tr>\n",
       "      <th id=\"T_34c48_level0_row13\" class=\"row_heading level0 row13\" >qwen2.5-7b-instruct</th>\n",
       "      <td id=\"T_34c48_row13_col0\" class=\"data row13 col0\" >6.08</td>\n",
       "      <td id=\"T_34c48_row13_col1\" class=\"data row13 col1\" >6.55</td>\n",
       "      <td id=\"T_34c48_row13_col2\" class=\"data row13 col2\" >6.07</td>\n",
       "      <td id=\"T_34c48_row13_col3\" class=\"data row13 col3\" >6.83</td>\n",
       "      <td id=\"T_34c48_row13_col4\" class=\"data row13 col4\" >5.37</td>\n",
       "      <td id=\"T_34c48_row13_col5\" class=\"data row13 col5\" >6.77</td>\n",
       "      <td id=\"T_34c48_row13_col6\" class=\"data row13 col6\" >6.28</td>\n",
       "    </tr>\n",
       "    <tr>\n",
       "      <th id=\"T_34c48_level0_row14\" class=\"row_heading level0 row14\" >llama-3.1-8b-instruct</th>\n",
       "      <td id=\"T_34c48_row14_col0\" class=\"data row14 col0\" >5.96</td>\n",
       "      <td id=\"T_34c48_row14_col1\" class=\"data row14 col1\" >6.91</td>\n",
       "      <td id=\"T_34c48_row14_col2\" class=\"data row14 col2\" >6.02</td>\n",
       "      <td id=\"T_34c48_row14_col3\" class=\"data row14 col3\" >6.88</td>\n",
       "      <td id=\"T_34c48_row14_col4\" class=\"data row14 col4\" >5.51</td>\n",
       "      <td id=\"T_34c48_row14_col5\" class=\"data row14 col5\" >5.13</td>\n",
       "      <td id=\"T_34c48_row14_col6\" class=\"data row14 col6\" >6.07</td>\n",
       "    </tr>\n",
       "    <tr>\n",
       "      <th id=\"T_34c48_level0_row15\" class=\"row_heading level0 row15\" >granite-3.3-8b-instruct</th>\n",
       "      <td id=\"T_34c48_row15_col0\" class=\"data row15 col0\" >5.42</td>\n",
       "      <td id=\"T_34c48_row15_col1\" class=\"data row15 col1\" >6.71</td>\n",
       "      <td id=\"T_34c48_row15_col2\" class=\"data row15 col2\" >5.69</td>\n",
       "      <td id=\"T_34c48_row15_col3\" class=\"data row15 col3\" >6.47</td>\n",
       "      <td id=\"T_34c48_row15_col4\" class=\"data row15 col4\" >5.20</td>\n",
       "      <td id=\"T_34c48_row15_col5\" class=\"data row15 col5\" >6.58</td>\n",
       "      <td id=\"T_34c48_row15_col6\" class=\"data row15 col6\" >6.01</td>\n",
       "    </tr>\n",
       "    <tr>\n",
       "      <th id=\"T_34c48_level0_row16\" class=\"row_heading level0 row16\" >dolphin3.0-llama3.1-8b</th>\n",
       "      <td id=\"T_34c48_row16_col0\" class=\"data row16 col0\" >5.88</td>\n",
       "      <td id=\"T_34c48_row16_col1\" class=\"data row16 col1\" >6.63</td>\n",
       "      <td id=\"T_34c48_row16_col2\" class=\"data row16 col2\" >6.00</td>\n",
       "      <td id=\"T_34c48_row16_col3\" class=\"data row16 col3\" >6.73</td>\n",
       "      <td id=\"T_34c48_row16_col4\" class=\"data row16 col4\" >5.39</td>\n",
       "      <td id=\"T_34c48_row16_col5\" class=\"data row16 col5\" >5.13</td>\n",
       "      <td id=\"T_34c48_row16_col6\" class=\"data row16 col6\" >5.96</td>\n",
       "    </tr>\n",
       "    <tr>\n",
       "      <th id=\"T_34c48_level0_row17\" class=\"row_heading level0 row17\" >internvl3_5-4b</th>\n",
       "      <td id=\"T_34c48_row17_col0\" class=\"data row17 col0\" >5.24</td>\n",
       "      <td id=\"T_34c48_row17_col1\" class=\"data row17 col1\" >6.28</td>\n",
       "      <td id=\"T_34c48_row17_col2\" class=\"data row17 col2\" >5.53</td>\n",
       "      <td id=\"T_34c48_row17_col3\" class=\"data row17 col3\" >6.18</td>\n",
       "      <td id=\"T_34c48_row17_col4\" class=\"data row17 col4\" >4.81</td>\n",
       "      <td id=\"T_34c48_row17_col5\" class=\"data row17 col5\" >5.46</td>\n",
       "      <td id=\"T_34c48_row17_col6\" class=\"data row17 col6\" >5.58</td>\n",
       "    </tr>\n",
       "    <tr>\n",
       "      <th id=\"T_34c48_level0_row18\" class=\"row_heading level0 row18\" >aixsatoshi-honyaku-multi-translator-swallow-ms7b</th>\n",
       "      <td id=\"T_34c48_row18_col0\" class=\"data row18 col0\" >3.78</td>\n",
       "      <td id=\"T_34c48_row18_col1\" class=\"data row18 col1\" >4.17</td>\n",
       "      <td id=\"T_34c48_row18_col2\" class=\"data row18 col2\" >3.82</td>\n",
       "      <td id=\"T_34c48_row18_col3\" class=\"data row18 col3\" >4.09</td>\n",
       "      <td id=\"T_34c48_row18_col4\" class=\"data row18 col4\" >3.57</td>\n",
       "      <td id=\"T_34c48_row18_col5\" class=\"data row18 col5\" >3.90</td>\n",
       "      <td id=\"T_34c48_row18_col6\" class=\"data row18 col6\" >3.89</td>\n",
       "    </tr>\n",
       "  </tbody>\n",
       "</table>\n"
      ],
      "text/plain": [
       "<pandas.io.formats.style.Styler at 0x15df72964d0>"
      ]
     },
     "metadata": {},
     "output_type": "display_data"
    }
   ],
   "source": [
    "# --- Styled Correlation Table for VNTL Subscores ---\n",
    "import pandas as pd\n",
    "\n",
    "if not df_vntl.empty and all(col in df_vntl.columns for col in vntl_score_columns):\n",
    "    # Calculate mean subscores for each model\n",
    "    vntl_corr_df = df_vntl.groupby('model_name')[vntl_score_columns].mean()\n",
    "    vntl_corr_df['Average'] = vntl_corr_df.mean(axis=1)\n",
    "    vntl_corr_df = vntl_corr_df.sort_values(by='Average', ascending=False)\n",
    "\n",
    "    def highlight_max_vntl(s):\n",
    "        is_max = s.max()\n",
    "        return ['background-color: #FFF8C4' if v == is_max else '' for v in s]\n",
    "\n",
    "    styled_vntl = vntl_corr_df.style.apply(highlight_max_vntl, axis=0).format(\"{:.2f}\").set_caption(\"VNTL Subscore Mean Table (Highlight: Max per Column)\")\n",
    "    display(styled_vntl)\n",
    "else:\n",
    "    print(\"No VNTL subscore data available for styled correlation table.\")\n"
   ]
  },
  {
   "cell_type": "markdown",
   "id": "1839f7f1",
   "metadata": {},
   "source": [
    "# Benchmark Descriptions\n",
    "\n",
    "* **ELYZA-tasks-100**: A Japanese benchmark consisting of 100 diverse tasks, designed to evaluate general language understanding and generation capabilities of LLMs in Japanese. Tasks include question answering, summarization, and also translation evaluation.\n",
    "\n",
    "* **Rakuda**: A Japanese benchmark focused on evaluating LLMs' performance on a wide range of question-answering tasks, including both factual and reasoning-based questions.\n",
    "\n",
    "* **Tengu-Bench**: A comprehensive Japanese benchmark that tests LLMs on various categories such as knowledge, reasoning, and reading comprehension, aiming to provide a broad assessment of model capabilities.\n",
    "\n",
    "* **MT-Bench**: The Japanese adaptation of the MT-Bench, which is a multi-turn dialogue benchmark. It evaluates LLMs' ability to handle conversational tasks, including context retention, instruction following, and multi-turn reasoning.\n",
    "\n",
    "* **VNTL-Translation**: A benchmark specifically designed for evaluating the quality of Japanese-to-English translation. It consists of text from Japanese visual novels, testing the model's ability to handle narrative and colloquial language. Performance is measured using standard translation metrics like BLEU and chrF."
   ]
  }
 ],
 "metadata": {
  "environment": {
   "kernel": "python3",
   "name": "common-cpu.m118",
   "type": "gcloud",
   "uri": "us-docker.pkg.dev/deeplearning-platform-release/gcr.io/base-cpu:m118"
  },
  "kernelspec": {
   "display_name": "shaberi",
   "language": "python",
   "name": "python3"
  },
  "language_info": {
   "codemirror_mode": {
    "name": "ipython",
    "version": 3
   },
   "file_extension": ".py",
   "mimetype": "text/x-python",
   "name": "python",
   "nbconvert_exporter": "python",
   "pygments_lexer": "ipython3",
   "version": "3.11.13"
  }
 },
 "nbformat": 4,
 "nbformat_minor": 5
}
