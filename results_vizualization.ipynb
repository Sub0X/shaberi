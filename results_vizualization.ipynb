{
 "cells": [
  {
   "cell_type": "code",
   "execution_count": 152,
   "id": "f7159e3b-518d-4e56-86af-7c8a25c7adcd",
   "metadata": {
    "tags": []
   },
   "outputs": [],
   "source": [
    "from glob import glob\n",
    "\n",
    "model_result_paths = glob(\"./data/judgements/*gpt-4.1/*/*.json\")"
   ]
  },
  {
   "cell_type": "code",
   "execution_count": 153,
   "id": "51e02ab0",
   "metadata": {},
   "outputs": [],
   "source": [
    "eval_dataset_dict = {\n",
    "    \"elyza__ELYZA-tasks-100\": \"ELYZA-tasks-100\",\n",
    "    \"yuzuai__rakuda-questions\": \"Rakuda\",\n",
    "    \"lightblue__tengu_bench\": \"Tengu-Bench\",\n",
    "    \"shisa-ai__ja-mt-bench-1shot\": \"MT-Bench\",\n",
    "}"
   ]
  },
  {
   "cell_type": "code",
   "execution_count": 154,
   "id": "fe36503f-515f-4e29-b58f-81b1684734b0",
   "metadata": {
    "tags": []
   },
   "outputs": [
    {
     "name": "stdout",
     "output_type": "stream",
     "text": [
      "Processing ./data/judgements\\judge_gpt-4.1\\elyza__ELYZA-tasks-100\\aya-expanse-32b-abliterated.json with 100 rows\n",
      "['./data/judgements', 'judge_gpt-4.1', 'elyza__ELYZA-tasks-100', 'aya-expanse-32b-abliterated.json']\n",
      "Processing ./data/judgements\\judge_gpt-4.1\\elyza__ELYZA-tasks-100\\gpt-4o.json with 100 rows\n",
      "['./data/judgements', 'judge_gpt-4.1', 'elyza__ELYZA-tasks-100', 'gpt-4o.json']\n",
      "Processing ./data/judgements\\judge_gpt-4.1\\elyza__ELYZA-tasks-100\\mistral-small-3.2-24b-instruct-2506.json with 100 rows\n",
      "['./data/judgements', 'judge_gpt-4.1', 'elyza__ELYZA-tasks-100', 'mistral-small-3.2-24b-instruct-2506.json']\n",
      "Processing ./data/judgements\\judge_gpt-4.1\\elyza__ELYZA-tasks-100\\qwen3-32b.json with 100 rows\n",
      "['./data/judgements', 'judge_gpt-4.1', 'elyza__ELYZA-tasks-100', 'qwen3-32b.json']\n",
      "Processing ./data/judgements\\judge_gpt-4.1\\elyza__ELYZA-tasks-100\\shisa-v2-mistral-small-24b.json with 100 rows\n",
      "['./data/judgements', 'judge_gpt-4.1', 'elyza__ELYZA-tasks-100', 'shisa-v2-mistral-small-24b.json']\n",
      "Processing ./data/judgements\\judge_gpt-4.1\\elyza__ELYZA-tasks-100\\shisa-v2-qwen2.5-32b.json with 100 rows\n",
      "['./data/judgements', 'judge_gpt-4.1', 'elyza__ELYZA-tasks-100', 'shisa-v2-qwen2.5-32b.json']\n",
      "Processing ./data/judgements\\judge_gpt-4.1\\lightblue__tengu_bench\\aya-expanse-32b-abliterated.json with 120 rows\n",
      "['./data/judgements', 'judge_gpt-4.1', 'lightblue__tengu_bench', 'aya-expanse-32b-abliterated.json']\n",
      "Processing ./data/judgements\\judge_gpt-4.1\\lightblue__tengu_bench\\gpt-4o.json with 120 rows\n",
      "['./data/judgements', 'judge_gpt-4.1', 'lightblue__tengu_bench', 'gpt-4o.json']\n",
      "Processing ./data/judgements\\judge_gpt-4.1\\lightblue__tengu_bench\\mistral-small-3.2-24b-instruct-2506.json with 120 rows\n",
      "['./data/judgements', 'judge_gpt-4.1', 'lightblue__tengu_bench', 'mistral-small-3.2-24b-instruct-2506.json']\n",
      "Processing ./data/judgements\\judge_gpt-4.1\\lightblue__tengu_bench\\qwen3-32b.json with 120 rows\n",
      "['./data/judgements', 'judge_gpt-4.1', 'lightblue__tengu_bench', 'qwen3-32b.json']\n",
      "Processing ./data/judgements\\judge_gpt-4.1\\lightblue__tengu_bench\\shisa-v2-mistral-small-24b.json with 120 rows\n",
      "['./data/judgements', 'judge_gpt-4.1', 'lightblue__tengu_bench', 'shisa-v2-mistral-small-24b.json']\n",
      "Processing ./data/judgements\\judge_gpt-4.1\\lightblue__tengu_bench\\shisa-v2-qwen2.5-32b.json with 120 rows\n",
      "['./data/judgements', 'judge_gpt-4.1', 'lightblue__tengu_bench', 'shisa-v2-qwen2.5-32b.json']\n",
      "Processing ./data/judgements\\judge_gpt-4.1\\shisa-ai__ja-mt-bench-1shot\\aya-expanse-32b-abliterated.json with 60 rows\n",
      "['./data/judgements', 'judge_gpt-4.1', 'shisa-ai__ja-mt-bench-1shot', 'aya-expanse-32b-abliterated.json']\n",
      "Processing ./data/judgements\\judge_gpt-4.1\\shisa-ai__ja-mt-bench-1shot\\gpt-4o.json with 60 rows\n",
      "['./data/judgements', 'judge_gpt-4.1', 'shisa-ai__ja-mt-bench-1shot', 'gpt-4o.json']\n",
      "Processing ./data/judgements\\judge_gpt-4.1\\shisa-ai__ja-mt-bench-1shot\\mistral-small-3.2-24b-instruct-2506.json with 60 rows\n",
      "['./data/judgements', 'judge_gpt-4.1', 'shisa-ai__ja-mt-bench-1shot', 'mistral-small-3.2-24b-instruct-2506.json']\n",
      "Processing ./data/judgements\\judge_gpt-4.1\\shisa-ai__ja-mt-bench-1shot\\qwen3-32b.json with 60 rows\n",
      "['./data/judgements', 'judge_gpt-4.1', 'shisa-ai__ja-mt-bench-1shot', 'qwen3-32b.json']\n",
      "Processing ./data/judgements\\judge_gpt-4.1\\shisa-ai__ja-mt-bench-1shot\\shisa-v2-mistral-small-24b.json with 60 rows\n",
      "['./data/judgements', 'judge_gpt-4.1', 'shisa-ai__ja-mt-bench-1shot', 'shisa-v2-mistral-small-24b.json']\n",
      "Processing ./data/judgements\\judge_gpt-4.1\\shisa-ai__ja-mt-bench-1shot\\shisa-v2-qwen2.5-32b.json with 60 rows\n",
      "['./data/judgements', 'judge_gpt-4.1', 'shisa-ai__ja-mt-bench-1shot', 'shisa-v2-qwen2.5-32b.json']\n",
      "Processing ./data/judgements\\judge_gpt-4.1\\yuzuai__rakuda-questions\\aya-expanse-32b-abliterated.json with 40 rows\n",
      "['./data/judgements', 'judge_gpt-4.1', 'yuzuai__rakuda-questions', 'aya-expanse-32b-abliterated.json']\n",
      "Processing ./data/judgements\\judge_gpt-4.1\\yuzuai__rakuda-questions\\gpt-4o.json with 40 rows\n",
      "['./data/judgements', 'judge_gpt-4.1', 'yuzuai__rakuda-questions', 'gpt-4o.json']\n",
      "Processing ./data/judgements\\judge_gpt-4.1\\yuzuai__rakuda-questions\\mistral-small-3.2-24b-instruct-2506.json with 40 rows\n",
      "['./data/judgements', 'judge_gpt-4.1', 'yuzuai__rakuda-questions', 'mistral-small-3.2-24b-instruct-2506.json']\n",
      "Processing ./data/judgements\\judge_gpt-4.1\\yuzuai__rakuda-questions\\qwen3-32b.json with 40 rows\n",
      "['./data/judgements', 'judge_gpt-4.1', 'yuzuai__rakuda-questions', 'qwen3-32b.json']\n",
      "Processing ./data/judgements\\judge_gpt-4.1\\yuzuai__rakuda-questions\\shisa-v2-mistral-small-24b.json with 40 rows\n",
      "['./data/judgements', 'judge_gpt-4.1', 'yuzuai__rakuda-questions', 'shisa-v2-mistral-small-24b.json']\n",
      "Processing ./data/judgements\\judge_gpt-4.1\\yuzuai__rakuda-questions\\shisa-v2-qwen2.5-32b.json with 40 rows\n",
      "['./data/judgements', 'judge_gpt-4.1', 'yuzuai__rakuda-questions', 'shisa-v2-qwen2.5-32b.json']\n"
     ]
    }
   ],
   "source": [
    "import pandas as pd\n",
    "import os\n",
    "\n",
    "all_result_dfs = []\n",
    "\n",
    "for model_result_path in model_result_paths:\n",
    "    temp_df = pd.read_json(model_result_path, lines=True)\n",
    "    print(f\"Processing {model_result_path} with {len(temp_df)} rows\")\n",
    "    print(model_result_path.split(os.sep))\n",
    "    temp_df[\"judge_model\"] = model_result_path.split(os.sep)[1]\n",
    "    temp_df[\"eval_dataset\"] = eval_dataset_dict[model_result_path.split(os.sep)[2]]\n",
    "    temp_df[\"model_name\"] = model_result_path.split(os.sep)[3].replace(\".json\", \"\")\n",
    "    \n",
    "    all_result_dfs.append(temp_df)"
   ]
  },
  {
   "cell_type": "code",
   "execution_count": 155,
   "id": "b1a0bda1-3deb-4f73-912e-971c8f7187e3",
   "metadata": {
    "tags": []
   },
   "outputs": [],
   "source": [
    "import pandas as pd\n",
    "import json\n",
    "\n",
    "all_result_dfs = []\n",
    "\n",
    "for model_result_path in model_result_paths:\n",
    "    try:\n",
    "        # Try the standard pandas read_json first\n",
    "        temp_df = pd.read_json(model_result_path, lines=True)\n",
    "    except ValueError as e:\n",
    "        print(f\"Error reading {model_result_path}: {e}\")\n",
    "        print(\"Attempting alternative parsing method...\")\n",
    "        try:\n",
    "            # Try manual parsing as fallback\n",
    "            with open(model_result_path, 'r', encoding='utf-8') as f:\n",
    "                json_lines = []\n",
    "                for i, line in enumerate(f):\n",
    "                    try:\n",
    "                        # Attempt to parse each line individually\n",
    "                        if line.strip():  # Skip empty lines\n",
    "                            json_obj = json.loads(line.strip())\n",
    "                            json_lines.append(json_obj)\n",
    "                    except json.JSONDecodeError as je:\n",
    "                        print(f\"Error in line {i+1}: {je} - {line[:50]}...\")\n",
    "                # Create dataframe from successfully parsed lines\n",
    "                if json_lines:\n",
    "                    temp_df = pd.DataFrame(json_lines)\n",
    "                else:\n",
    "                    print(f\"Could not parse any lines in {model_result_path}, skipping file\")\n",
    "                    continue\n",
    "        except Exception as e2:\n",
    "            print(f\"Failed to parse {model_result_path} with alternative method: {e2}\")\n",
    "            continue\n",
    "    \n",
    "    # Add metadata columns\n",
    "    temp_df[\"judge_model\"] = model_result_path.split(os.sep)[1]\n",
    "    temp_df[\"eval_dataset\"] = eval_dataset_dict[model_result_path.split(os.sep)[2]]\n",
    "    temp_df[\"model_name\"] = model_result_path.split(os.sep)[3].replace(\".json\", \"\")\n",
    "    \n",
    "    all_result_dfs.append(temp_df)\n"
   ]
  },
  {
   "cell_type": "code",
   "execution_count": 156,
   "id": "8d63791e",
   "metadata": {},
   "outputs": [],
   "source": [
    "import pandas as pd\n",
    "\n",
    "all_result_df = pd.concat(all_result_dfs)\n",
    "\n",
    "all_result_df[\"dataset_category\"] = all_result_df[\"eval_dataset\"] + \" \" + all_result_df[\"Category\"]\n"
   ]
  },
  {
   "cell_type": "code",
   "execution_count": 157,
   "id": "3b3ed1c8",
   "metadata": {},
   "outputs": [],
   "source": [
    "# Output the main results DataFrame to output.csv\n",
    "all_result_df.to_csv(\"output.csv\", index=False)"
   ]
  },
  {
   "cell_type": "code",
   "execution_count": 158,
   "id": "f86cdffa",
   "metadata": {},
   "outputs": [
    {
     "name": "stdout",
     "output_type": "stream",
     "text": [
      "Column names: ['Question', 'output', 'eval_aspect', 'ModelAnswer', 'score', 'judge_model', 'eval_dataset', 'model_name', 'Category', 'Answer', 'Criteria', 'id', 'category', 'question_id', 'dataset_category']\n",
      "Sample scores: 0    5\n",
      "1    5\n",
      "2    5\n",
      "3    5\n",
      "4    5\n",
      "5    5\n",
      "6    2\n",
      "7    5\n",
      "8    5\n",
      "9    5\n",
      "Name: score, dtype: int64\n",
      "Non-null score count: 1920\n"
     ]
    }
   ],
   "source": [
    "# Check for whitespace in column names and ensure score is numeric\n",
    "print('Column names:', list(all_result_df.columns))\n",
    "# Strip whitespace from column names\n",
    "all_result_df.columns = all_result_df.columns.str.strip()\n",
    "# Convert score to numeric\n",
    "all_result_df['score'] = pd.to_numeric(all_result_df['score'], errors='coerce')\n",
    "print('Sample scores:', all_result_df['score'].head(10))\n",
    "print('Non-null score count:', all_result_df['score'].notnull().sum())"
   ]
  },
  {
   "cell_type": "code",
   "execution_count": 159,
   "id": "7afc4168",
   "metadata": {},
   "outputs": [
    {
     "data": {
      "text/html": [
       "<div>\n",
       "<style scoped>\n",
       "    .dataframe tbody tr th:only-of-type {\n",
       "        vertical-align: middle;\n",
       "    }\n",
       "\n",
       "    .dataframe tbody tr th {\n",
       "        vertical-align: top;\n",
       "    }\n",
       "\n",
       "    .dataframe thead th {\n",
       "        text-align: right;\n",
       "    }\n",
       "</style>\n",
       "<table border=\"1\" class=\"dataframe\">\n",
       "  <thead>\n",
       "    <tr style=\"text-align: right;\">\n",
       "      <th>bench_judge_label</th>\n",
       "      <th>model_name</th>\n",
       "      <th>ELYZA 100 (judge_gpt-4.1)</th>\n",
       "      <th>JA-MT (judge_gpt-4.1)</th>\n",
       "      <th>Rakuda (judge_gpt-4.1)</th>\n",
       "      <th>Tengu (judge_gpt-4.1)</th>\n",
       "      <th>Average (All)</th>\n",
       "    </tr>\n",
       "  </thead>\n",
       "  <tbody>\n",
       "    <tr>\n",
       "      <th>0</th>\n",
       "      <td>aya-expanse-32b-abliterated</td>\n",
       "      <td>4.06</td>\n",
       "      <td>8.70</td>\n",
       "      <td>8.88</td>\n",
       "      <td>7.14</td>\n",
       "      <td>7.19</td>\n",
       "    </tr>\n",
       "    <tr>\n",
       "      <th>1</th>\n",
       "      <td>gpt-4o</td>\n",
       "      <td>4.61</td>\n",
       "      <td>9.32</td>\n",
       "      <td>9.90</td>\n",
       "      <td>8.52</td>\n",
       "      <td>8.09</td>\n",
       "    </tr>\n",
       "    <tr>\n",
       "      <th>2</th>\n",
       "      <td>mistral-small-3.2-24b-instruct-2506</td>\n",
       "      <td>4.15</td>\n",
       "      <td>8.87</td>\n",
       "      <td>9.45</td>\n",
       "      <td>7.87</td>\n",
       "      <td>7.58</td>\n",
       "    </tr>\n",
       "    <tr>\n",
       "      <th>3</th>\n",
       "      <td>qwen3-32b</td>\n",
       "      <td>4.46</td>\n",
       "      <td>9.33</td>\n",
       "      <td>8.75</td>\n",
       "      <td>7.95</td>\n",
       "      <td>7.62</td>\n",
       "    </tr>\n",
       "    <tr>\n",
       "      <th>4</th>\n",
       "      <td>shisa-v2-mistral-small-24b</td>\n",
       "      <td>4.15</td>\n",
       "      <td>7.93</td>\n",
       "      <td>8.45</td>\n",
       "      <td>7.68</td>\n",
       "      <td>7.05</td>\n",
       "    </tr>\n",
       "    <tr>\n",
       "      <th>5</th>\n",
       "      <td>shisa-v2-qwen2.5-32b</td>\n",
       "      <td>4.35</td>\n",
       "      <td>8.78</td>\n",
       "      <td>9.12</td>\n",
       "      <td>7.57</td>\n",
       "      <td>7.46</td>\n",
       "    </tr>\n",
       "  </tbody>\n",
       "</table>\n",
       "</div>"
      ],
      "text/plain": [
       "bench_judge_label                           model_name  \\\n",
       "0                          aya-expanse-32b-abliterated   \n",
       "1                                               gpt-4o   \n",
       "2                  mistral-small-3.2-24b-instruct-2506   \n",
       "3                                            qwen3-32b   \n",
       "4                           shisa-v2-mistral-small-24b   \n",
       "5                                 shisa-v2-qwen2.5-32b   \n",
       "\n",
       "bench_judge_label ELYZA 100 (judge_gpt-4.1) JA-MT (judge_gpt-4.1)  \\\n",
       "0                                      4.06                  8.70   \n",
       "1                                      4.61                  9.32   \n",
       "2                                      4.15                  8.87   \n",
       "3                                      4.46                  9.33   \n",
       "4                                      4.15                  7.93   \n",
       "5                                      4.35                  8.78   \n",
       "\n",
       "bench_judge_label Rakuda (judge_gpt-4.1) Tengu (judge_gpt-4.1) Average (All)  \n",
       "0                                   8.88                  7.14          7.19  \n",
       "1                                   9.90                  8.52          8.09  \n",
       "2                                   9.45                  7.87          7.58  \n",
       "3                                   8.75                  7.95          7.62  \n",
       "4                                   8.45                  7.68          7.05  \n",
       "5                                   9.12                  7.57          7.46  "
      ]
     },
     "metadata": {},
     "output_type": "display_data"
    }
   ],
   "source": [
    "# Output summary in a robust, dynamic format for the current data, with judge model in column names and scores rounded to 2 decimals in CSV\n",
    "\n",
    "import numpy as np\n",
    "import pandas as pd # Added import for pandas\n",
    "\n",
    "def get_bench_label(bench):\n",
    "    if 'ELYZA' in bench:\n",
    "        return 'ELYZA 100'\n",
    "    elif 'mt-bench' in bench.lower():\n",
    "        return 'JA-MT'\n",
    "    elif 'rakuda' in bench.lower():\n",
    "        return 'Rakuda'\n",
    "    elif 'tengu' in bench.lower():\n",
    "        return 'Tengu'\n",
    "    else:\n",
    "        return bench\n",
    "\n",
    "all_result_df['bench_label'] = all_result_df['eval_dataset'].apply(get_bench_label)\n",
    "\n",
    "# Combine benchmark and judge for column names\n",
    "all_result_df['bench_judge_label'] = all_result_df['bench_label'] + ' (' + all_result_df['judge_model'] + ')'\n",
    "\n",
    "# Pivot: model_name as index, bench_judge_label as columns, mean score as values\n",
    "pivot = all_result_df.pivot_table(\n",
    "    index='model_name',\n",
    "    columns='bench_judge_label',\n",
    "    values='score',\n",
    "    aggfunc='mean'\n",
    ")\n",
    "\n",
    "# Compute overall average (across all available benchmarks)\n",
    "pivot['Average (All)'] = pivot.mean(axis=1)\n",
    "\n",
    "# Reorder columns: model_name, each benchmark (with judge), Average (All)\n",
    "col_order = [col for col in pivot.columns if col != 'Average (All)'] + ['Average (All)']\n",
    "pivot = pivot[col_order]\n",
    "\n",
    "# Reset index to have model_name as a column\n",
    "pivot = pivot.reset_index()\n",
    "\n",
    "# Round all float columns to two decimals and convert to string for CSV\n",
    "float_cols = pivot.select_dtypes(include=['float', 'float64']).columns\n",
    "for col in float_cols:\n",
    "    pivot[col] = pivot[col].apply(lambda x: format(x, '.2f') if pd.notnull(x) else '')\n",
    "\n",
    "# Output to CSV and display\n",
    "from IPython.display import display\n",
    "\n",
    "display(pivot)\n",
    "pivot.to_csv('output.csv', index=False, quoting=1)  # quoting=1 ensures all fields are quoted\n"
   ]
  },
  {
   "cell_type": "code",
   "execution_count": 160,
   "id": "1a989b72",
   "metadata": {},
   "outputs": [],
   "source": [
    "eval_dataset_names = all_result_df.eval_dataset.unique()\n",
    "model_names = all_result_df.model_name.unique()\n"
   ]
  },
  {
   "cell_type": "code",
   "execution_count": 161,
   "id": "63b24a3e",
   "metadata": {},
   "outputs": [
    {
     "data": {
      "text/plain": [
       "array(['ELYZA-tasks-100', 'Tengu-Bench', 'MT-Bench', 'Rakuda'],\n",
       "      dtype=object)"
      ]
     },
     "execution_count": 161,
     "metadata": {},
     "output_type": "execute_result"
    }
   ],
   "source": [
    "eval_dataset_names"
   ]
  },
  {
   "cell_type": "code",
   "execution_count": 162,
   "id": "bcffd600",
   "metadata": {},
   "outputs": [
    {
     "data": {
      "text/plain": [
       "array(['aya-expanse-32b-abliterated', 'gpt-4o',\n",
       "       'mistral-small-3.2-24b-instruct-2506', 'qwen3-32b',\n",
       "       'shisa-v2-mistral-small-24b', 'shisa-v2-qwen2.5-32b'], dtype=object)"
      ]
     },
     "execution_count": 162,
     "metadata": {},
     "output_type": "execute_result"
    }
   ],
   "source": [
    "model_names"
   ]
  },
  {
   "cell_type": "code",
   "execution_count": 163,
   "id": "d8a81669",
   "metadata": {},
   "outputs": [
    {
     "data": {
      "text/html": [
       "<div>\n",
       "<style scoped>\n",
       "    .dataframe tbody tr th:only-of-type {\n",
       "        vertical-align: middle;\n",
       "    }\n",
       "\n",
       "    .dataframe tbody tr th {\n",
       "        vertical-align: top;\n",
       "    }\n",
       "\n",
       "    .dataframe thead th {\n",
       "        text-align: right;\n",
       "    }\n",
       "</style>\n",
       "<table border=\"1\" class=\"dataframe\">\n",
       "  <thead>\n",
       "    <tr style=\"text-align: right;\">\n",
       "      <th></th>\n",
       "      <th>Question</th>\n",
       "      <th>output</th>\n",
       "      <th>eval_aspect</th>\n",
       "      <th>ModelAnswer</th>\n",
       "      <th>score</th>\n",
       "      <th>judge_model</th>\n",
       "      <th>eval_dataset</th>\n",
       "      <th>model_name</th>\n",
       "      <th>Category</th>\n",
       "      <th>Answer</th>\n",
       "      <th>Criteria</th>\n",
       "      <th>id</th>\n",
       "      <th>category</th>\n",
       "      <th>question_id</th>\n",
       "      <th>dataset_category</th>\n",
       "      <th>bench_label</th>\n",
       "      <th>bench_judge_label</th>\n",
       "    </tr>\n",
       "  </thead>\n",
       "  <tbody>\n",
       "    <tr>\n",
       "      <th>0</th>\n",
       "      <td>仕事の熱意を取り戻すためのアイデアを5つ挙げてください。</td>\n",
       "      <td>1. 自分の仕事に対する興味を再発見するために、新しい技能や知識を学ぶこと。\\n2. カレッ...</td>\n",
       "      <td>- 熱意を取り戻すのではなく、仕事の効率化・スキルアップのような文脈になっていたら1点減点\\...</td>\n",
       "      <td>仕事の熱意を取り戻すためのアイデアを5つご紹介します：\\n\\n1. **目的と目標の再確認*...</td>\n",
       "      <td>5</td>\n",
       "      <td>judge_gpt-4.1</td>\n",
       "      <td>ELYZA-tasks-100</td>\n",
       "      <td>aya-expanse-32b-abliterated</td>\n",
       "      <td>NaN</td>\n",
       "      <td>NaN</td>\n",
       "      <td>NaN</td>\n",
       "      <td>NaN</td>\n",
       "      <td>NaN</td>\n",
       "      <td>NaN</td>\n",
       "      <td>NaN</td>\n",
       "      <td>ELYZA 100</td>\n",
       "      <td>ELYZA 100 (judge_gpt-4.1)</td>\n",
       "    </tr>\n",
       "    <tr>\n",
       "      <th>1</th>\n",
       "      <td>クマが海辺に行ってアザラシと友達になり、最終的には家に帰るというプロットの短編小説を書いてく...</td>\n",
       "      <td>クマは、森での生活に飽き飽きし、新しい冒険を求めて海辺に向かった。彼は海に興味があり、そこに...</td>\n",
       "      <td>- クマが海辺に行く\\n- クマとアザラシが友達になる\\n- 最後に家に帰る\\nの3つ要素が...</td>\n",
       "      <td># 海岸の友情\\n\\nある晴れた夏の朝、一頭の好奇心旺盛なクマが、広大な森の端にある未知の世...</td>\n",
       "      <td>5</td>\n",
       "      <td>judge_gpt-4.1</td>\n",
       "      <td>ELYZA-tasks-100</td>\n",
       "      <td>aya-expanse-32b-abliterated</td>\n",
       "      <td>NaN</td>\n",
       "      <td>NaN</td>\n",
       "      <td>NaN</td>\n",
       "      <td>NaN</td>\n",
       "      <td>NaN</td>\n",
       "      <td>NaN</td>\n",
       "      <td>NaN</td>\n",
       "      <td>ELYZA 100</td>\n",
       "      <td>ELYZA 100 (judge_gpt-4.1)</td>\n",
       "    </tr>\n",
       "    <tr>\n",
       "      <th>2</th>\n",
       "      <td>古代ギリシャを学ぶ上で知っておくべきポイントは？</td>\n",
       "      <td>古代ギリシャは、古代文明の中で重要な役割を担った文化であり、西洋文明の原点とされています。主...</td>\n",
       "      <td>- 「独自の文化や哲学、神話が有名です」などのように具体例がない場合は-1点\\n- 事実と異...</td>\n",
       "      <td>古代ギリシャは西洋文明の基礎を築いた重要な時代であり、学ぶべきポイントは多岐にわたります。以...</td>\n",
       "      <td>5</td>\n",
       "      <td>judge_gpt-4.1</td>\n",
       "      <td>ELYZA-tasks-100</td>\n",
       "      <td>aya-expanse-32b-abliterated</td>\n",
       "      <td>NaN</td>\n",
       "      <td>NaN</td>\n",
       "      <td>NaN</td>\n",
       "      <td>NaN</td>\n",
       "      <td>NaN</td>\n",
       "      <td>NaN</td>\n",
       "      <td>NaN</td>\n",
       "      <td>ELYZA 100</td>\n",
       "      <td>ELYZA 100 (judge_gpt-4.1)</td>\n",
       "    </tr>\n",
       "    <tr>\n",
       "      <th>3</th>\n",
       "      <td>以下の説明を読んだユーザーが感じるであろう疑問とは？\\n\\n大量のゴミの処理にお困りではあり...</td>\n",
       "      <td>ユーザーは以下のような点について疑問を感じる可能性があります。\\n\\n- ゴミ圧縮機はどれく...</td>\n",
       "      <td>- 疑問になっておらず、説明や回答などになっている場合: -4点 (1点になる)\\n- 「ゴ...</td>\n",
       "      <td>この説明を読んだユーザーが感じるであろう疑問はいくつかあります：\\n\\n1. **ゴミ圧縮機...</td>\n",
       "      <td>5</td>\n",
       "      <td>judge_gpt-4.1</td>\n",
       "      <td>ELYZA-tasks-100</td>\n",
       "      <td>aya-expanse-32b-abliterated</td>\n",
       "      <td>NaN</td>\n",
       "      <td>NaN</td>\n",
       "      <td>NaN</td>\n",
       "      <td>NaN</td>\n",
       "      <td>NaN</td>\n",
       "      <td>NaN</td>\n",
       "      <td>NaN</td>\n",
       "      <td>ELYZA 100</td>\n",
       "      <td>ELYZA 100 (judge_gpt-4.1)</td>\n",
       "    </tr>\n",
       "    <tr>\n",
       "      <th>4</th>\n",
       "      <td>次に読むべきSFを10冊挙げて</td>\n",
       "      <td>それではSFというジャンルに大きな影響を与えた古典とされるSF小説を読んでみるのはどうでしょ...</td>\n",
       "      <td>- 「読むべき」とあるように小説であるべきで、アバターなどのSF映画だと -2点\\n- 実在...</td>\n",
       "      <td>はい、SF（サイエンス・フィクション）の分野でおすすめの書籍を10冊ご紹介します：\\n\\n1...</td>\n",
       "      <td>5</td>\n",
       "      <td>judge_gpt-4.1</td>\n",
       "      <td>ELYZA-tasks-100</td>\n",
       "      <td>aya-expanse-32b-abliterated</td>\n",
       "      <td>NaN</td>\n",
       "      <td>NaN</td>\n",
       "      <td>NaN</td>\n",
       "      <td>NaN</td>\n",
       "      <td>NaN</td>\n",
       "      <td>NaN</td>\n",
       "      <td>NaN</td>\n",
       "      <td>ELYZA 100</td>\n",
       "      <td>ELYZA 100 (judge_gpt-4.1)</td>\n",
       "    </tr>\n",
       "    <tr>\n",
       "      <th>...</th>\n",
       "      <td>...</td>\n",
       "      <td>...</td>\n",
       "      <td>...</td>\n",
       "      <td>...</td>\n",
       "      <td>...</td>\n",
       "      <td>...</td>\n",
       "      <td>...</td>\n",
       "      <td>...</td>\n",
       "      <td>...</td>\n",
       "      <td>...</td>\n",
       "      <td>...</td>\n",
       "      <td>...</td>\n",
       "      <td>...</td>\n",
       "      <td>...</td>\n",
       "      <td>...</td>\n",
       "      <td>...</td>\n",
       "      <td>...</td>\n",
       "    </tr>\n",
       "    <tr>\n",
       "      <th>35</th>\n",
       "      <td>過去10年間で日本の所得格差がどのように変化したかを説明し、それが何を示しているのかについて...</td>\n",
       "      <td>NaN</td>\n",
       "      <td>NaN</td>\n",
       "      <td>## 過去10年間の日本の所得格差の変化とその意味\\n\\n過去10年間（2013年～2023...</td>\n",
       "      <td>9</td>\n",
       "      <td>judge_gpt-4.1</td>\n",
       "      <td>Rakuda</td>\n",
       "      <td>shisa-v2-qwen2.5-32b</td>\n",
       "      <td>NaN</td>\n",
       "      <td>NaN</td>\n",
       "      <td>NaN</td>\n",
       "      <td>NaN</td>\n",
       "      <td>社会</td>\n",
       "      <td>CwkkWjBySsr4pEN5PDhHjQ</td>\n",
       "      <td>NaN</td>\n",
       "      <td>Rakuda</td>\n",
       "      <td>Rakuda (judge_gpt-4.1)</td>\n",
       "    </tr>\n",
       "    <tr>\n",
       "      <th>36</th>\n",
       "      <td>日本のエネルギー政策と環境保護のバランスについて、現状と改善策を提案してください。</td>\n",
       "      <td>NaN</td>\n",
       "      <td>NaN</td>\n",
       "      <td>## 日本のエネルギー政策と環境保護のバランス：現状と改善策\\n\\n日本のエネルギー政策は、...</td>\n",
       "      <td>9</td>\n",
       "      <td>judge_gpt-4.1</td>\n",
       "      <td>Rakuda</td>\n",
       "      <td>shisa-v2-qwen2.5-32b</td>\n",
       "      <td>NaN</td>\n",
       "      <td>NaN</td>\n",
       "      <td>NaN</td>\n",
       "      <td>NaN</td>\n",
       "      <td>社会</td>\n",
       "      <td>V7bUjFGgCcKU4Xz3p9zpm4</td>\n",
       "      <td>NaN</td>\n",
       "      <td>Rakuda</td>\n",
       "      <td>Rakuda (judge_gpt-4.1)</td>\n",
       "    </tr>\n",
       "    <tr>\n",
       "      <th>37</th>\n",
       "      <td>日本の労働市場の女性活躍推進に関する政策とその結果について説明してください。</td>\n",
       "      <td>NaN</td>\n",
       "      <td>NaN</td>\n",
       "      <td>## 日本の労働市場における女性活躍推進に関する政策とその結果\\n\\n日本は長らく、女性の社...</td>\n",
       "      <td>9</td>\n",
       "      <td>judge_gpt-4.1</td>\n",
       "      <td>Rakuda</td>\n",
       "      <td>shisa-v2-qwen2.5-32b</td>\n",
       "      <td>NaN</td>\n",
       "      <td>NaN</td>\n",
       "      <td>NaN</td>\n",
       "      <td>NaN</td>\n",
       "      <td>社会</td>\n",
       "      <td>XPfkQA2Y6TYsyjq3PiWJPa</td>\n",
       "      <td>NaN</td>\n",
       "      <td>Rakuda</td>\n",
       "      <td>Rakuda (judge_gpt-4.1)</td>\n",
       "    </tr>\n",
       "    <tr>\n",
       "      <th>38</th>\n",
       "      <td>コロナウイルスが日本経済に及ぼした影響と、それに対する政府の対策を評価してください。</td>\n",
       "      <td>NaN</td>\n",
       "      <td>NaN</td>\n",
       "      <td>## コロナウイルスが日本経済に及ぼした影響と政府の対策評価\\n\\n新型コロナウイルス感染症...</td>\n",
       "      <td>9</td>\n",
       "      <td>judge_gpt-4.1</td>\n",
       "      <td>Rakuda</td>\n",
       "      <td>shisa-v2-qwen2.5-32b</td>\n",
       "      <td>NaN</td>\n",
       "      <td>NaN</td>\n",
       "      <td>NaN</td>\n",
       "      <td>NaN</td>\n",
       "      <td>社会</td>\n",
       "      <td>Ms5tjifAoCaPuCSkEMhzXw</td>\n",
       "      <td>NaN</td>\n",
       "      <td>Rakuda</td>\n",
       "      <td>Rakuda (judge_gpt-4.1)</td>\n",
       "    </tr>\n",
       "    <tr>\n",
       "      <th>39</th>\n",
       "      <td>消費税の引き上げが日本の経済に与えた影響を評価してください。</td>\n",
       "      <td>NaN</td>\n",
       "      <td>NaN</td>\n",
       "      <td>## 消費税引き上げが日本の経済に与えた影響：多角的な評価\\n\\n日本の消費税は、1989年...</td>\n",
       "      <td>9</td>\n",
       "      <td>judge_gpt-4.1</td>\n",
       "      <td>Rakuda</td>\n",
       "      <td>shisa-v2-qwen2.5-32b</td>\n",
       "      <td>NaN</td>\n",
       "      <td>NaN</td>\n",
       "      <td>NaN</td>\n",
       "      <td>NaN</td>\n",
       "      <td>社会</td>\n",
       "      <td>eXwkFgRKqVHn2EPpSWBNsF</td>\n",
       "      <td>NaN</td>\n",
       "      <td>Rakuda</td>\n",
       "      <td>Rakuda (judge_gpt-4.1)</td>\n",
       "    </tr>\n",
       "  </tbody>\n",
       "</table>\n",
       "<p>1920 rows × 17 columns</p>\n",
       "</div>"
      ],
      "text/plain": [
       "                                             Question  \\\n",
       "0                        仕事の熱意を取り戻すためのアイデアを5つ挙げてください。   \n",
       "1   クマが海辺に行ってアザラシと友達になり、最終的には家に帰るというプロットの短編小説を書いてく...   \n",
       "2                            古代ギリシャを学ぶ上で知っておくべきポイントは？   \n",
       "3   以下の説明を読んだユーザーが感じるであろう疑問とは？\\n\\n大量のゴミの処理にお困りではあり...   \n",
       "4                                     次に読むべきSFを10冊挙げて   \n",
       "..                                                ...   \n",
       "35  過去10年間で日本の所得格差がどのように変化したかを説明し、それが何を示しているのかについて...   \n",
       "36          日本のエネルギー政策と環境保護のバランスについて、現状と改善策を提案してください。   \n",
       "37             日本の労働市場の女性活躍推進に関する政策とその結果について説明してください。   \n",
       "38         コロナウイルスが日本経済に及ぼした影響と、それに対する政府の対策を評価してください。   \n",
       "39                     消費税の引き上げが日本の経済に与えた影響を評価してください。   \n",
       "\n",
       "                                               output  \\\n",
       "0   1. 自分の仕事に対する興味を再発見するために、新しい技能や知識を学ぶこと。\\n2. カレッ...   \n",
       "1   クマは、森での生活に飽き飽きし、新しい冒険を求めて海辺に向かった。彼は海に興味があり、そこに...   \n",
       "2   古代ギリシャは、古代文明の中で重要な役割を担った文化であり、西洋文明の原点とされています。主...   \n",
       "3   ユーザーは以下のような点について疑問を感じる可能性があります。\\n\\n- ゴミ圧縮機はどれく...   \n",
       "4   それではSFというジャンルに大きな影響を与えた古典とされるSF小説を読んでみるのはどうでしょ...   \n",
       "..                                                ...   \n",
       "35                                                NaN   \n",
       "36                                                NaN   \n",
       "37                                                NaN   \n",
       "38                                                NaN   \n",
       "39                                                NaN   \n",
       "\n",
       "                                          eval_aspect  \\\n",
       "0   - 熱意を取り戻すのではなく、仕事の効率化・スキルアップのような文脈になっていたら1点減点\\...   \n",
       "1   - クマが海辺に行く\\n- クマとアザラシが友達になる\\n- 最後に家に帰る\\nの3つ要素が...   \n",
       "2   - 「独自の文化や哲学、神話が有名です」などのように具体例がない場合は-1点\\n- 事実と異...   \n",
       "3   - 疑問になっておらず、説明や回答などになっている場合: -4点 (1点になる)\\n- 「ゴ...   \n",
       "4   - 「読むべき」とあるように小説であるべきで、アバターなどのSF映画だと -2点\\n- 実在...   \n",
       "..                                                ...   \n",
       "35                                                NaN   \n",
       "36                                                NaN   \n",
       "37                                                NaN   \n",
       "38                                                NaN   \n",
       "39                                                NaN   \n",
       "\n",
       "                                          ModelAnswer  score    judge_model  \\\n",
       "0   仕事の熱意を取り戻すためのアイデアを5つご紹介します：\\n\\n1. **目的と目標の再確認*...      5  judge_gpt-4.1   \n",
       "1   # 海岸の友情\\n\\nある晴れた夏の朝、一頭の好奇心旺盛なクマが、広大な森の端にある未知の世...      5  judge_gpt-4.1   \n",
       "2   古代ギリシャは西洋文明の基礎を築いた重要な時代であり、学ぶべきポイントは多岐にわたります。以...      5  judge_gpt-4.1   \n",
       "3   この説明を読んだユーザーが感じるであろう疑問はいくつかあります：\\n\\n1. **ゴミ圧縮機...      5  judge_gpt-4.1   \n",
       "4   はい、SF（サイエンス・フィクション）の分野でおすすめの書籍を10冊ご紹介します：\\n\\n1...      5  judge_gpt-4.1   \n",
       "..                                                ...    ...            ...   \n",
       "35  ## 過去10年間の日本の所得格差の変化とその意味\\n\\n過去10年間（2013年～2023...      9  judge_gpt-4.1   \n",
       "36  ## 日本のエネルギー政策と環境保護のバランス：現状と改善策\\n\\n日本のエネルギー政策は、...      9  judge_gpt-4.1   \n",
       "37  ## 日本の労働市場における女性活躍推進に関する政策とその結果\\n\\n日本は長らく、女性の社...      9  judge_gpt-4.1   \n",
       "38  ## コロナウイルスが日本経済に及ぼした影響と政府の対策評価\\n\\n新型コロナウイルス感染症...      9  judge_gpt-4.1   \n",
       "39  ## 消費税引き上げが日本の経済に与えた影響：多角的な評価\\n\\n日本の消費税は、1989年...      9  judge_gpt-4.1   \n",
       "\n",
       "       eval_dataset                   model_name Category Answer Criteria  id  \\\n",
       "0   ELYZA-tasks-100  aya-expanse-32b-abliterated      NaN    NaN      NaN NaN   \n",
       "1   ELYZA-tasks-100  aya-expanse-32b-abliterated      NaN    NaN      NaN NaN   \n",
       "2   ELYZA-tasks-100  aya-expanse-32b-abliterated      NaN    NaN      NaN NaN   \n",
       "3   ELYZA-tasks-100  aya-expanse-32b-abliterated      NaN    NaN      NaN NaN   \n",
       "4   ELYZA-tasks-100  aya-expanse-32b-abliterated      NaN    NaN      NaN NaN   \n",
       "..              ...                          ...      ...    ...      ...  ..   \n",
       "35           Rakuda         shisa-v2-qwen2.5-32b      NaN    NaN      NaN NaN   \n",
       "36           Rakuda         shisa-v2-qwen2.5-32b      NaN    NaN      NaN NaN   \n",
       "37           Rakuda         shisa-v2-qwen2.5-32b      NaN    NaN      NaN NaN   \n",
       "38           Rakuda         shisa-v2-qwen2.5-32b      NaN    NaN      NaN NaN   \n",
       "39           Rakuda         shisa-v2-qwen2.5-32b      NaN    NaN      NaN NaN   \n",
       "\n",
       "   category             question_id dataset_category bench_label  \\\n",
       "0       NaN                     NaN              NaN   ELYZA 100   \n",
       "1       NaN                     NaN              NaN   ELYZA 100   \n",
       "2       NaN                     NaN              NaN   ELYZA 100   \n",
       "3       NaN                     NaN              NaN   ELYZA 100   \n",
       "4       NaN                     NaN              NaN   ELYZA 100   \n",
       "..      ...                     ...              ...         ...   \n",
       "35       社会  CwkkWjBySsr4pEN5PDhHjQ              NaN      Rakuda   \n",
       "36       社会  V7bUjFGgCcKU4Xz3p9zpm4              NaN      Rakuda   \n",
       "37       社会  XPfkQA2Y6TYsyjq3PiWJPa              NaN      Rakuda   \n",
       "38       社会  Ms5tjifAoCaPuCSkEMhzXw              NaN      Rakuda   \n",
       "39       社会  eXwkFgRKqVHn2EPpSWBNsF              NaN      Rakuda   \n",
       "\n",
       "            bench_judge_label  \n",
       "0   ELYZA 100 (judge_gpt-4.1)  \n",
       "1   ELYZA 100 (judge_gpt-4.1)  \n",
       "2   ELYZA 100 (judge_gpt-4.1)  \n",
       "3   ELYZA 100 (judge_gpt-4.1)  \n",
       "4   ELYZA 100 (judge_gpt-4.1)  \n",
       "..                        ...  \n",
       "35     Rakuda (judge_gpt-4.1)  \n",
       "36     Rakuda (judge_gpt-4.1)  \n",
       "37     Rakuda (judge_gpt-4.1)  \n",
       "38     Rakuda (judge_gpt-4.1)  \n",
       "39     Rakuda (judge_gpt-4.1)  \n",
       "\n",
       "[1920 rows x 17 columns]"
      ]
     },
     "execution_count": 163,
     "metadata": {},
     "output_type": "execute_result"
    }
   ],
   "source": [
    "all_result_df"
   ]
  },
  {
   "cell_type": "code",
   "execution_count": 164,
   "id": "aaf6077d",
   "metadata": {},
   "outputs": [],
   "source": [
    "eval_corr_results = {}\n",
    "for eval_dataset_name in eval_dataset_names:\n",
    "    eval_corr_results[eval_dataset_name] = {}\n",
    "    for model_name in model_names:\n",
    "        eval_corr_results[eval_dataset_name][model_name] = all_result_df[(all_result_df.eval_dataset == eval_dataset_name) & (all_result_df.model_name == model_name)].score.mean()"
   ]
  },
  {
   "cell_type": "code",
   "execution_count": 165,
   "id": "4c43c69c",
   "metadata": {},
   "outputs": [
    {
     "data": {
      "text/plain": [
       "{'ELYZA-tasks-100': {'aya-expanse-32b-abliterated': np.float64(4.06),\n",
       "  'gpt-4o': np.float64(4.61),\n",
       "  'mistral-small-3.2-24b-instruct-2506': np.float64(4.15),\n",
       "  'qwen3-32b': np.float64(4.46),\n",
       "  'shisa-v2-mistral-small-24b': np.float64(4.15),\n",
       "  'shisa-v2-qwen2.5-32b': np.float64(4.35)},\n",
       " 'Tengu-Bench': {'aya-expanse-32b-abliterated': np.float64(7.141666666666667),\n",
       "  'gpt-4o': np.float64(8.516666666666667),\n",
       "  'mistral-small-3.2-24b-instruct-2506': np.float64(7.866666666666666),\n",
       "  'qwen3-32b': np.float64(7.95),\n",
       "  'shisa-v2-mistral-small-24b': np.float64(7.683333333333334),\n",
       "  'shisa-v2-qwen2.5-32b': np.float64(7.566666666666666)},\n",
       " 'MT-Bench': {'aya-expanse-32b-abliterated': np.float64(8.7),\n",
       "  'gpt-4o': np.float64(9.316666666666666),\n",
       "  'mistral-small-3.2-24b-instruct-2506': np.float64(8.866666666666667),\n",
       "  'qwen3-32b': np.float64(9.333333333333334),\n",
       "  'shisa-v2-mistral-small-24b': np.float64(7.933333333333334),\n",
       "  'shisa-v2-qwen2.5-32b': np.float64(8.783333333333333)},\n",
       " 'Rakuda': {'aya-expanse-32b-abliterated': np.float64(8.875),\n",
       "  'gpt-4o': np.float64(9.9),\n",
       "  'mistral-small-3.2-24b-instruct-2506': np.float64(9.45),\n",
       "  'qwen3-32b': np.float64(8.75),\n",
       "  'shisa-v2-mistral-small-24b': np.float64(8.45),\n",
       "  'shisa-v2-qwen2.5-32b': np.float64(9.125)}}"
      ]
     },
     "execution_count": 165,
     "metadata": {},
     "output_type": "execute_result"
    }
   ],
   "source": [
    "eval_corr_results"
   ]
  },
  {
   "cell_type": "code",
   "execution_count": 166,
   "id": "9edf2bc0",
   "metadata": {},
   "outputs": [
    {
     "data": {
      "text/html": [
       "<div>\n",
       "<style scoped>\n",
       "    .dataframe tbody tr th:only-of-type {\n",
       "        vertical-align: middle;\n",
       "    }\n",
       "\n",
       "    .dataframe tbody tr th {\n",
       "        vertical-align: top;\n",
       "    }\n",
       "\n",
       "    .dataframe thead th {\n",
       "        text-align: right;\n",
       "    }\n",
       "</style>\n",
       "<table border=\"1\" class=\"dataframe\">\n",
       "  <thead>\n",
       "    <tr style=\"text-align: right;\">\n",
       "      <th></th>\n",
       "      <th>ELYZA-tasks-100</th>\n",
       "      <th>Tengu-Bench</th>\n",
       "      <th>MT-Bench</th>\n",
       "      <th>Rakuda</th>\n",
       "    </tr>\n",
       "  </thead>\n",
       "  <tbody>\n",
       "    <tr>\n",
       "      <th>ELYZA-tasks-100</th>\n",
       "      <td>1.0000</td>\n",
       "      <td>0.8228</td>\n",
       "      <td>0.7128</td>\n",
       "      <td>0.5263</td>\n",
       "    </tr>\n",
       "    <tr>\n",
       "      <th>Tengu-Bench</th>\n",
       "      <td>0.8228</td>\n",
       "      <td>1.0000</td>\n",
       "      <td>0.5362</td>\n",
       "      <td>0.6405</td>\n",
       "    </tr>\n",
       "    <tr>\n",
       "      <th>MT-Bench</th>\n",
       "      <td>0.7128</td>\n",
       "      <td>0.5362</td>\n",
       "      <td>1.0000</td>\n",
       "      <td>0.6261</td>\n",
       "    </tr>\n",
       "    <tr>\n",
       "      <th>Rakuda</th>\n",
       "      <td>0.5263</td>\n",
       "      <td>0.6405</td>\n",
       "      <td>0.6261</td>\n",
       "      <td>1.0000</td>\n",
       "    </tr>\n",
       "  </tbody>\n",
       "</table>\n",
       "</div>"
      ],
      "text/plain": [
       "                 ELYZA-tasks-100  Tengu-Bench  MT-Bench  Rakuda\n",
       "ELYZA-tasks-100           1.0000       0.8228    0.7128  0.5263\n",
       "Tengu-Bench               0.8228       1.0000    0.5362  0.6405\n",
       "MT-Bench                  0.7128       0.5362    1.0000  0.6261\n",
       "Rakuda                    0.5263       0.6405    0.6261  1.0000"
      ]
     },
     "execution_count": 166,
     "metadata": {},
     "output_type": "execute_result"
    }
   ],
   "source": [
    "pd.DataFrame(eval_corr_results).corr().round(4)"
   ]
  },
  {
   "cell_type": "code",
   "execution_count": 167,
   "id": "e8bae080",
   "metadata": {},
   "outputs": [
    {
     "data": {
      "text/html": [
       "<style type=\"text/css\">\n",
       "#T_3ba4a_row0_col0, #T_3ba4a_row0_col1, #T_3ba4a_row0_col3, #T_3ba4a_row0_col4, #T_3ba4a_row1_col2 {\n",
       "  background-color: yellow;\n",
       "}\n",
       "</style>\n",
       "<table id=\"T_3ba4a\">\n",
       "  <thead>\n",
       "    <tr>\n",
       "      <th class=\"blank level0\" >&nbsp;</th>\n",
       "      <th id=\"T_3ba4a_level0_col0\" class=\"col_heading level0 col0\" >ELYZA-tasks-100</th>\n",
       "      <th id=\"T_3ba4a_level0_col1\" class=\"col_heading level0 col1\" >Tengu-Bench</th>\n",
       "      <th id=\"T_3ba4a_level0_col2\" class=\"col_heading level0 col2\" >MT-Bench</th>\n",
       "      <th id=\"T_3ba4a_level0_col3\" class=\"col_heading level0 col3\" >Rakuda</th>\n",
       "      <th id=\"T_3ba4a_level0_col4\" class=\"col_heading level0 col4\" >mean</th>\n",
       "    </tr>\n",
       "  </thead>\n",
       "  <tbody>\n",
       "    <tr>\n",
       "      <th id=\"T_3ba4a_level0_row0\" class=\"row_heading level0 row0\" >gpt-4o</th>\n",
       "      <td id=\"T_3ba4a_row0_col0\" class=\"data row0 col0\" >9.22</td>\n",
       "      <td id=\"T_3ba4a_row0_col1\" class=\"data row0 col1\" >8.52</td>\n",
       "      <td id=\"T_3ba4a_row0_col2\" class=\"data row0 col2\" >9.32</td>\n",
       "      <td id=\"T_3ba4a_row0_col3\" class=\"data row0 col3\" >9.90</td>\n",
       "      <td id=\"T_3ba4a_row0_col4\" class=\"data row0 col4\" >9.24</td>\n",
       "    </tr>\n",
       "    <tr>\n",
       "      <th id=\"T_3ba4a_level0_row1\" class=\"row_heading level0 row1\" >qwen3-32b</th>\n",
       "      <td id=\"T_3ba4a_row1_col0\" class=\"data row1 col0\" >8.92</td>\n",
       "      <td id=\"T_3ba4a_row1_col1\" class=\"data row1 col1\" >7.95</td>\n",
       "      <td id=\"T_3ba4a_row1_col2\" class=\"data row1 col2\" >9.33</td>\n",
       "      <td id=\"T_3ba4a_row1_col3\" class=\"data row1 col3\" >8.75</td>\n",
       "      <td id=\"T_3ba4a_row1_col4\" class=\"data row1 col4\" >8.74</td>\n",
       "    </tr>\n",
       "    <tr>\n",
       "      <th id=\"T_3ba4a_level0_row2\" class=\"row_heading level0 row2\" >mistral-small-3.2-24b-instruct-2506</th>\n",
       "      <td id=\"T_3ba4a_row2_col0\" class=\"data row2 col0\" >8.30</td>\n",
       "      <td id=\"T_3ba4a_row2_col1\" class=\"data row2 col1\" >7.87</td>\n",
       "      <td id=\"T_3ba4a_row2_col2\" class=\"data row2 col2\" >8.87</td>\n",
       "      <td id=\"T_3ba4a_row2_col3\" class=\"data row2 col3\" >9.45</td>\n",
       "      <td id=\"T_3ba4a_row2_col4\" class=\"data row2 col4\" >8.62</td>\n",
       "    </tr>\n",
       "    <tr>\n",
       "      <th id=\"T_3ba4a_level0_row3\" class=\"row_heading level0 row3\" >shisa-v2-qwen2.5-32b</th>\n",
       "      <td id=\"T_3ba4a_row3_col0\" class=\"data row3 col0\" >8.70</td>\n",
       "      <td id=\"T_3ba4a_row3_col1\" class=\"data row3 col1\" >7.57</td>\n",
       "      <td id=\"T_3ba4a_row3_col2\" class=\"data row3 col2\" >8.78</td>\n",
       "      <td id=\"T_3ba4a_row3_col3\" class=\"data row3 col3\" >9.12</td>\n",
       "      <td id=\"T_3ba4a_row3_col4\" class=\"data row3 col4\" >8.54</td>\n",
       "    </tr>\n",
       "    <tr>\n",
       "      <th id=\"T_3ba4a_level0_row4\" class=\"row_heading level0 row4\" >aya-expanse-32b-abliterated</th>\n",
       "      <td id=\"T_3ba4a_row4_col0\" class=\"data row4 col0\" >8.12</td>\n",
       "      <td id=\"T_3ba4a_row4_col1\" class=\"data row4 col1\" >7.14</td>\n",
       "      <td id=\"T_3ba4a_row4_col2\" class=\"data row4 col2\" >8.70</td>\n",
       "      <td id=\"T_3ba4a_row4_col3\" class=\"data row4 col3\" >8.88</td>\n",
       "      <td id=\"T_3ba4a_row4_col4\" class=\"data row4 col4\" >8.21</td>\n",
       "    </tr>\n",
       "    <tr>\n",
       "      <th id=\"T_3ba4a_level0_row5\" class=\"row_heading level0 row5\" >shisa-v2-mistral-small-24b</th>\n",
       "      <td id=\"T_3ba4a_row5_col0\" class=\"data row5 col0\" >8.30</td>\n",
       "      <td id=\"T_3ba4a_row5_col1\" class=\"data row5 col1\" >7.68</td>\n",
       "      <td id=\"T_3ba4a_row5_col2\" class=\"data row5 col2\" >7.93</td>\n",
       "      <td id=\"T_3ba4a_row5_col3\" class=\"data row5 col3\" >8.45</td>\n",
       "      <td id=\"T_3ba4a_row5_col4\" class=\"data row5 col4\" >8.09</td>\n",
       "    </tr>\n",
       "  </tbody>\n",
       "</table>\n"
      ],
      "text/plain": [
       "<pandas.io.formats.style.Styler at 0x24c67a4fbd0>"
      ]
     },
     "execution_count": 167,
     "metadata": {},
     "output_type": "execute_result"
    }
   ],
   "source": [
    "eval_res_df = pd.DataFrame(eval_corr_results)\n",
    "\n",
    "eval_res_df['ELYZA-tasks-100'] = eval_res_df['ELYZA-tasks-100'] * 2\n",
    "\n",
    "eval_res_df['mean'] = eval_res_df.mean(axis=1)\n",
    "\n",
    "eval_res_df = eval_res_df.sort_values(by='mean', ascending=False)\n",
    "\n",
    "def highlight_max(s):\n",
    "    is_max = s == s.max()\n",
    "    return ['background-color: yellow' if v else '' for v in is_max]\n",
    "\n",
    "styled_df = eval_res_df.style.apply(highlight_max, axis=0)\n",
    "styled_df = styled_df.format(\"{:.2f}\")\n",
    "styled_df\n",
    "\n"
   ]
  },
  {
   "cell_type": "code",
   "execution_count": 168,
   "id": "7a01caae",
   "metadata": {},
   "outputs": [],
   "source": [
    "# Latex形式で出力\n",
    "# print(eval_res_df.to_latex(float_format=\"%.4f\").replace(\"__\",\"/\").replace(\"_\",\"\\_\"))"
   ]
  },
  {
   "cell_type": "code",
   "execution_count": 169,
   "id": "d05ad959",
   "metadata": {},
   "outputs": [],
   "source": [
    "# 相関を可視化\n",
    "# cols = eval_res_df.columns\n",
    "\n",
    "# for c1 in range(len(cols)):\n",
    "#     for c2 in range(c1, len(cols)):\n",
    "#         eval_res_df.plot(kind='scatter', x=cols[c1], y=cols[c2], title=f'{cols[c1]} vs {cols[c2]}')"
   ]
  },
  {
   "cell_type": "code",
   "execution_count": 170,
   "id": "b66da917",
   "metadata": {},
   "outputs": [],
   "source": [
    "import re\n",
    "def get_model_size(x):\n",
    "    # Dictionary for known models with their sizes\n",
    "    known_models = {\n",
    "        \"openchat__openchat-3.5-0106\": 7,\n",
    "        \"CohereForAI__c4ai-command-r-v01\": 35,\n",
    "        # Add more known models as needed\n",
    "    }\n",
    "    \n",
    "    # Check if the model is in our known list\n",
    "    if x.name in known_models:\n",
    "        return known_models[x.name]\n",
    "    \n",
    "    # Try multiple regex patterns to extract size\n",
    "    try:\n",
    "        # Try pattern like \"7b\" or \"13B\"\n",
    "        size_match = re.search(r\"\\b(\\d{1,3})[bB]\\b\", x.name)\n",
    "        if size_match:\n",
    "            return int(size_match.group(1))\n",
    "        \n",
    "        # Try other common patterns (add more as needed)\n",
    "        size_match = re.search(r\"-(\\d{1,3})b\", x.name, re.IGNORECASE)\n",
    "        if size_match:\n",
    "            return int(size_match.group(1))\n",
    "            \n",
    "        # For models like \"llama-3-70b\"\n",
    "        size_match = re.search(r\"\\b(\\d{1,3})b-\", x.name, re.IGNORECASE)\n",
    "        if size_match:\n",
    "            return int(size_match.group(1))\n",
    "        \n",
    "        print(f\"Could not find model size for: {x.name}\")\n",
    "        return None\n",
    "    except Exception as e:\n",
    "        print(f\"Error parsing model size for {x.name}: {e}\")\n",
    "        return None\n"
   ]
  },
  {
   "cell_type": "code",
   "execution_count": 171,
   "id": "05a7e6e8",
   "metadata": {},
   "outputs": [
    {
     "name": "stdout",
     "output_type": "stream",
     "text": [
      "Could not find model size for: gpt-4o\n"
     ]
    }
   ],
   "source": [
    "model_size_df = eval_res_df.copy()\n",
    "model_size_df['model_size'] = model_size_df.apply(get_model_size, axis=1)\n",
    "size_df = model_size_df.dropna(subset=['model_size']).sort_values(by='model_size', ascending=False).groupby('model_size').mean()\n"
   ]
  },
  {
   "cell_type": "code",
   "execution_count": 172,
   "id": "262eb37c",
   "metadata": {},
   "outputs": [],
   "source": [
    "size_df['model_size'] = size_df.index"
   ]
  },
  {
   "cell_type": "code",
   "execution_count": 173,
   "id": "bed53280",
   "metadata": {},
   "outputs": [],
   "source": [
    "log_size_df = size_df\n"
   ]
  },
  {
   "cell_type": "code",
   "execution_count": 174,
   "id": "106e674b",
   "metadata": {},
   "outputs": [],
   "source": [
    "from math import log\n",
    "\n",
    "# Add a safety check for the logarithm (only positive numbers)\n",
    "def safe_log(x):\n",
    "    try:\n",
    "        if x <= 0:\n",
    "            print(f\"Warning: Cannot take logarithm of non-positive number {x}, using 1 instead\")\n",
    "            return log(1)  # Default to log(1) = 0\n",
    "        return log(x)\n",
    "    except Exception as e:\n",
    "        print(f\"Error calculating log for value {x}: {e}\")\n",
    "        return log(1)  # Default to log(1) = 0\n",
    "\n",
    "log_size_df[\"model_size\"] = log_size_df[\"model_size\"].apply(safe_log)\n"
   ]
  },
  {
   "cell_type": "code",
   "execution_count": 175,
   "id": "560079a2",
   "metadata": {},
   "outputs": [
    {
     "data": {
      "image/png": "[encoded data removed]",
      "text/plain": [
       "<Figure size 1000x600 with 1 Axes>"
      ]
     },
     "metadata": {},
     "output_type": "display_data"
    }
   ],
   "source": [
    "import matplotlib.pyplot as plt\n",
    "import seaborn as sns\n",
    "\n",
    "# 図のサイズを設定\n",
    "plt.figure(figsize=(10, 6))\n",
    "\n",
    "# データごとに違う色で散布図と回帰直線を描画\n",
    "colors = ['blue', 'green', 'red', 'gold']  # 色を指定\n",
    "for i, column in enumerate(['ELYZA-tasks-100', 'Rakuda', 'Tengu-Bench', 'MT-Bench']):\n",
    "    sns.regplot(x='model_size', y=column, data=log_size_df, scatter=True, \n",
    "                label=column, ci=None, )\n",
    "\n",
    "\n",
    "plt.xticks([log(7), log(13), log(32), log(70)], [\"7B\", \"13B\", \"32B\", \"70B\"])\n",
    "# 凡例を表示\n",
    "plt.legend()\n",
    "# タイトルを設定\n",
    "plt.title('Model Size vs Scores with Regression Lines')\n",
    "# グラフを表示\n",
    "# plt.savefig(\"model-size_vs_score.svg\")\n",
    "plt.show()\n"
   ]
  },
  {
   "cell_type": "code",
   "execution_count": 176,
   "id": "a8ecf0e5",
   "metadata": {},
   "outputs": [
    {
     "name": "stdout",
     "output_type": "stream",
     "text": [
      "\\begin{tabular}{lr}\n",
      "\\toprule\n",
      " & score \\\\\n",
      "Category &  \\\\\n",
      "\\midrule\n",
      "アイデア生成 & 10.000000 \\\\\n",
      "プロジェクト作成 & 10.000000 \\\\\n",
      "長い文書要約（千トークン以上） & 10.000000 \\\\\n",
      "会話要約 & 9.966667 \\\\\n",
      "フォーマット & 9.666667 \\\\\n",
      "コスト見積 & 9.633333 \\\\\n",
      "長い文書のClosed QA（千トークン以上） & 9.500000 \\\\\n",
      "雑談 & 9.500000 \\\\\n",
      "抽出 & 9.433333 \\\\\n",
      "敬語 & 9.166667 \\\\\n",
      "表の読み取り & 8.566667 \\\\\n",
      "翻訳 & 8.033333 \\\\\n",
      "数学 & 8.000000 \\\\\n",
      "Function calling & 7.933333 \\\\\n",
      "政治 & 7.200000 \\\\\n",
      "法律判断 & 7.066667 \\\\\n",
      "ビジネス & 6.433333 \\\\\n",
      "建設 & 6.100000 \\\\\n",
      "ダジャレ & 5.400000 \\\\\n",
      "倫理的制御 & 5.133333 \\\\\n",
      "日本 & 5.083333 \\\\\n",
      "架空の質問 & 5.000000 \\\\\n",
      "論理パズル & 5.000000 \\\\\n",
      "\\bottomrule\n",
      "\\end{tabular}\n",
      "\n"
     ]
    }
   ],
   "source": [
    "print(all_result_df[all_result_df['eval_dataset']==\"Tengu-Bench\"].groupby(\"Category\").score.mean().sort_values(ascending=False).to_frame().to_latex())"
   ]
  },
  {
   "cell_type": "code",
   "execution_count": 177,
   "id": "2250a287-35ab-441c-afa5-be78e99d9b87",
   "metadata": {
    "tags": []
   },
   "outputs": [
    {
     "data": {
      "text/html": [
       "<div>\n",
       "<style scoped>\n",
       "    .dataframe tbody tr th:only-of-type {\n",
       "        vertical-align: middle;\n",
       "    }\n",
       "\n",
       "    .dataframe tbody tr th {\n",
       "        vertical-align: top;\n",
       "    }\n",
       "\n",
       "    .dataframe thead th {\n",
       "        text-align: right;\n",
       "    }\n",
       "</style>\n",
       "<table border=\"1\" class=\"dataframe\">\n",
       "  <thead>\n",
       "    <tr style=\"text-align: right;\">\n",
       "      <th>eval_dataset</th>\n",
       "      <th>ELYZA-tasks-100</th>\n",
       "      <th>MT-Bench</th>\n",
       "      <th>Rakuda</th>\n",
       "      <th>Tengu-Bench</th>\n",
       "    </tr>\n",
       "    <tr>\n",
       "      <th>model_name</th>\n",
       "      <th></th>\n",
       "      <th></th>\n",
       "      <th></th>\n",
       "      <th></th>\n",
       "    </tr>\n",
       "  </thead>\n",
       "  <tbody>\n",
       "    <tr>\n",
       "      <th>aya-expanse-32b-abliterated</th>\n",
       "      <td>4.06</td>\n",
       "      <td>8.700000</td>\n",
       "      <td>8.875</td>\n",
       "      <td>7.141667</td>\n",
       "    </tr>\n",
       "    <tr>\n",
       "      <th>gpt-4o</th>\n",
       "      <td>4.61</td>\n",
       "      <td>9.316667</td>\n",
       "      <td>9.900</td>\n",
       "      <td>8.516667</td>\n",
       "    </tr>\n",
       "    <tr>\n",
       "      <th>mistral-small-3.2-24b-instruct-2506</th>\n",
       "      <td>4.15</td>\n",
       "      <td>8.866667</td>\n",
       "      <td>9.450</td>\n",
       "      <td>7.866667</td>\n",
       "    </tr>\n",
       "    <tr>\n",
       "      <th>qwen3-32b</th>\n",
       "      <td>4.46</td>\n",
       "      <td>9.333333</td>\n",
       "      <td>8.750</td>\n",
       "      <td>7.950000</td>\n",
       "    </tr>\n",
       "    <tr>\n",
       "      <th>shisa-v2-mistral-small-24b</th>\n",
       "      <td>4.15</td>\n",
       "      <td>7.933333</td>\n",
       "      <td>8.450</td>\n",
       "      <td>7.683333</td>\n",
       "    </tr>\n",
       "    <tr>\n",
       "      <th>shisa-v2-qwen2.5-32b</th>\n",
       "      <td>4.35</td>\n",
       "      <td>8.783333</td>\n",
       "      <td>9.125</td>\n",
       "      <td>7.566667</td>\n",
       "    </tr>\n",
       "  </tbody>\n",
       "</table>\n",
       "</div>"
      ],
      "text/plain": [
       "eval_dataset                         ELYZA-tasks-100  MT-Bench  Rakuda  \\\n",
       "model_name                                                               \n",
       "aya-expanse-32b-abliterated                     4.06  8.700000   8.875   \n",
       "gpt-4o                                          4.61  9.316667   9.900   \n",
       "mistral-small-3.2-24b-instruct-2506             4.15  8.866667   9.450   \n",
       "qwen3-32b                                       4.46  9.333333   8.750   \n",
       "shisa-v2-mistral-small-24b                      4.15  7.933333   8.450   \n",
       "shisa-v2-qwen2.5-32b                            4.35  8.783333   9.125   \n",
       "\n",
       "eval_dataset                         Tengu-Bench  \n",
       "model_name                                        \n",
       "aya-expanse-32b-abliterated             7.141667  \n",
       "gpt-4o                                  8.516667  \n",
       "mistral-small-3.2-24b-instruct-2506     7.866667  \n",
       "qwen3-32b                               7.950000  \n",
       "shisa-v2-mistral-small-24b              7.683333  \n",
       "shisa-v2-qwen2.5-32b                    7.566667  "
      ]
     },
     "execution_count": 177,
     "metadata": {},
     "output_type": "execute_result"
    }
   ],
   "source": [
    "all_result_df.groupby(\n",
    "    [\"model_name\", \"eval_dataset\"]\n",
    ").score.mean().reset_index(drop=False).pivot_table(values=\"score\", index=\"model_name\", columns=\"eval_dataset\")"
   ]
  },
  {
   "cell_type": "code",
   "execution_count": 178,
   "id": "0bd8da5b-57a6-4809-9c9b-34959158787b",
   "metadata": {
    "tags": []
   },
   "outputs": [],
   "source": [
    "\n",
    "mean_df = all_result_df.groupby(\n",
    "    [\"eval_dataset\", \"Category\", \"model_name\"]\n",
    ").score.mean().reset_index(level=1, drop=False).pivot_table(index='model_name', columns=['eval_dataset', 'Category'], values='score')\n"
   ]
  },
  {
   "cell_type": "code",
   "execution_count": 179,
   "id": "1e7e95fb",
   "metadata": {},
   "outputs": [
    {
     "data": {
      "text/html": [
       "<div>\n",
       "<style scoped>\n",
       "    .dataframe tbody tr th:only-of-type {\n",
       "        vertical-align: middle;\n",
       "    }\n",
       "\n",
       "    .dataframe tbody tr th {\n",
       "        vertical-align: top;\n",
       "    }\n",
       "\n",
       "    .dataframe thead tr th {\n",
       "        text-align: left;\n",
       "    }\n",
       "\n",
       "    .dataframe thead tr:last-of-type th {\n",
       "        text-align: right;\n",
       "    }\n",
       "</style>\n",
       "<table border=\"1\" class=\"dataframe\">\n",
       "  <thead>\n",
       "    <tr>\n",
       "      <th>eval_dataset</th>\n",
       "      <th colspan=\"21\" halign=\"left\">Tengu-Bench</th>\n",
       "    </tr>\n",
       "    <tr>\n",
       "      <th>Category</th>\n",
       "      <th>Function calling</th>\n",
       "      <th>アイデア生成</th>\n",
       "      <th>コスト見積</th>\n",
       "      <th>ダジャレ</th>\n",
       "      <th>ビジネス</th>\n",
       "      <th>フォーマット</th>\n",
       "      <th>プロジェクト作成</th>\n",
       "      <th>会話要約</th>\n",
       "      <th>倫理的制御</th>\n",
       "      <th>建設</th>\n",
       "      <th>...</th>\n",
       "      <th>数学</th>\n",
       "      <th>日本</th>\n",
       "      <th>架空の質問</th>\n",
       "      <th>法律判断</th>\n",
       "      <th>翻訳</th>\n",
       "      <th>表の読み取り</th>\n",
       "      <th>論理パズル</th>\n",
       "      <th>長い文書のClosed QA（千トークン以上）</th>\n",
       "      <th>長い文書要約（千トークン以上）</th>\n",
       "      <th>雑談</th>\n",
       "    </tr>\n",
       "    <tr>\n",
       "      <th>model_name</th>\n",
       "      <th></th>\n",
       "      <th></th>\n",
       "      <th></th>\n",
       "      <th></th>\n",
       "      <th></th>\n",
       "      <th></th>\n",
       "      <th></th>\n",
       "      <th></th>\n",
       "      <th></th>\n",
       "      <th></th>\n",
       "      <th></th>\n",
       "      <th></th>\n",
       "      <th></th>\n",
       "      <th></th>\n",
       "      <th></th>\n",
       "      <th></th>\n",
       "      <th></th>\n",
       "      <th></th>\n",
       "      <th></th>\n",
       "      <th></th>\n",
       "      <th></th>\n",
       "    </tr>\n",
       "  </thead>\n",
       "  <tbody>\n",
       "    <tr>\n",
       "      <th>aya-expanse-32b-abliterated</th>\n",
       "      <td>8.4</td>\n",
       "      <td>10.0</td>\n",
       "      <td>9.4</td>\n",
       "      <td>6.0</td>\n",
       "      <td>4.0</td>\n",
       "      <td>10.0</td>\n",
       "      <td>10.0</td>\n",
       "      <td>10.0</td>\n",
       "      <td>2.4</td>\n",
       "      <td>5.4</td>\n",
       "      <td>...</td>\n",
       "      <td>5.4</td>\n",
       "      <td>5.2</td>\n",
       "      <td>2.4</td>\n",
       "      <td>6.8</td>\n",
       "      <td>6.8</td>\n",
       "      <td>6.8</td>\n",
       "      <td>3.0</td>\n",
       "      <td>9.6</td>\n",
       "      <td>10.0</td>\n",
       "      <td>9.8</td>\n",
       "    </tr>\n",
       "    <tr>\n",
       "      <th>gpt-4o</th>\n",
       "      <td>7.2</td>\n",
       "      <td>10.0</td>\n",
       "      <td>9.8</td>\n",
       "      <td>4.6</td>\n",
       "      <td>8.4</td>\n",
       "      <td>10.0</td>\n",
       "      <td>10.0</td>\n",
       "      <td>10.0</td>\n",
       "      <td>8.8</td>\n",
       "      <td>7.4</td>\n",
       "      <td>...</td>\n",
       "      <td>8.6</td>\n",
       "      <td>7.5</td>\n",
       "      <td>8.4</td>\n",
       "      <td>8.6</td>\n",
       "      <td>8.6</td>\n",
       "      <td>9.0</td>\n",
       "      <td>3.8</td>\n",
       "      <td>9.2</td>\n",
       "      <td>10.0</td>\n",
       "      <td>9.8</td>\n",
       "    </tr>\n",
       "    <tr>\n",
       "      <th>mistral-small-3.2-24b-instruct-2506</th>\n",
       "      <td>8.4</td>\n",
       "      <td>10.0</td>\n",
       "      <td>9.8</td>\n",
       "      <td>4.0</td>\n",
       "      <td>6.8</td>\n",
       "      <td>9.8</td>\n",
       "      <td>10.0</td>\n",
       "      <td>10.0</td>\n",
       "      <td>5.8</td>\n",
       "      <td>6.8</td>\n",
       "      <td>...</td>\n",
       "      <td>8.2</td>\n",
       "      <td>5.1</td>\n",
       "      <td>3.6</td>\n",
       "      <td>6.8</td>\n",
       "      <td>7.6</td>\n",
       "      <td>9.0</td>\n",
       "      <td>6.8</td>\n",
       "      <td>9.4</td>\n",
       "      <td>10.0</td>\n",
       "      <td>9.4</td>\n",
       "    </tr>\n",
       "    <tr>\n",
       "      <th>qwen3-32b</th>\n",
       "      <td>7.2</td>\n",
       "      <td>10.0</td>\n",
       "      <td>9.6</td>\n",
       "      <td>6.4</td>\n",
       "      <td>6.8</td>\n",
       "      <td>9.6</td>\n",
       "      <td>10.0</td>\n",
       "      <td>9.8</td>\n",
       "      <td>4.6</td>\n",
       "      <td>5.8</td>\n",
       "      <td>...</td>\n",
       "      <td>10.0</td>\n",
       "      <td>4.5</td>\n",
       "      <td>6.8</td>\n",
       "      <td>6.6</td>\n",
       "      <td>8.0</td>\n",
       "      <td>9.2</td>\n",
       "      <td>7.0</td>\n",
       "      <td>9.6</td>\n",
       "      <td>10.0</td>\n",
       "      <td>9.4</td>\n",
       "    </tr>\n",
       "    <tr>\n",
       "      <th>shisa-v2-mistral-small-24b</th>\n",
       "      <td>8.4</td>\n",
       "      <td>10.0</td>\n",
       "      <td>9.6</td>\n",
       "      <td>5.6</td>\n",
       "      <td>6.6</td>\n",
       "      <td>9.6</td>\n",
       "      <td>10.0</td>\n",
       "      <td>10.0</td>\n",
       "      <td>3.4</td>\n",
       "      <td>6.0</td>\n",
       "      <td>...</td>\n",
       "      <td>7.8</td>\n",
       "      <td>4.6</td>\n",
       "      <td>5.2</td>\n",
       "      <td>6.8</td>\n",
       "      <td>9.0</td>\n",
       "      <td>8.4</td>\n",
       "      <td>3.8</td>\n",
       "      <td>9.4</td>\n",
       "      <td>10.0</td>\n",
       "      <td>9.4</td>\n",
       "    </tr>\n",
       "    <tr>\n",
       "      <th>shisa-v2-qwen2.5-32b</th>\n",
       "      <td>8.0</td>\n",
       "      <td>10.0</td>\n",
       "      <td>9.6</td>\n",
       "      <td>5.8</td>\n",
       "      <td>6.0</td>\n",
       "      <td>9.0</td>\n",
       "      <td>10.0</td>\n",
       "      <td>10.0</td>\n",
       "      <td>5.8</td>\n",
       "      <td>5.2</td>\n",
       "      <td>...</td>\n",
       "      <td>8.0</td>\n",
       "      <td>3.6</td>\n",
       "      <td>3.6</td>\n",
       "      <td>6.8</td>\n",
       "      <td>8.2</td>\n",
       "      <td>9.0</td>\n",
       "      <td>5.6</td>\n",
       "      <td>9.8</td>\n",
       "      <td>10.0</td>\n",
       "      <td>9.2</td>\n",
       "    </tr>\n",
       "  </tbody>\n",
       "</table>\n",
       "<p>6 rows × 23 columns</p>\n",
       "</div>"
      ],
      "text/plain": [
       "eval_dataset                             Tengu-Bench                         \\\n",
       "Category                            Function calling アイデア生成 コスト見積 ダジャレ ビジネス   \n",
       "model_name                                                                    \n",
       "aya-expanse-32b-abliterated                      8.4   10.0   9.4  6.0  4.0   \n",
       "gpt-4o                                           7.2   10.0   9.8  4.6  8.4   \n",
       "mistral-small-3.2-24b-instruct-2506              8.4   10.0   9.8  4.0  6.8   \n",
       "qwen3-32b                                        7.2   10.0   9.6  6.4  6.8   \n",
       "shisa-v2-mistral-small-24b                       8.4   10.0   9.6  5.6  6.6   \n",
       "shisa-v2-qwen2.5-32b                             8.0   10.0   9.6  5.8  6.0   \n",
       "\n",
       "eval_dataset                                                          ...  \\\n",
       "Category                            フォーマット プロジェクト作成  会話要約 倫理的制御   建設  ...   \n",
       "model_name                                                            ...   \n",
       "aya-expanse-32b-abliterated           10.0     10.0  10.0   2.4  5.4  ...   \n",
       "gpt-4o                                10.0     10.0  10.0   8.8  7.4  ...   \n",
       "mistral-small-3.2-24b-instruct-2506    9.8     10.0  10.0   5.8  6.8  ...   \n",
       "qwen3-32b                              9.6     10.0   9.8   4.6  5.8  ...   \n",
       "shisa-v2-mistral-small-24b             9.6     10.0  10.0   3.4  6.0  ...   \n",
       "shisa-v2-qwen2.5-32b                   9.0     10.0  10.0   5.8  5.2  ...   \n",
       "\n",
       "eval_dataset                                                                 \\\n",
       "Category                               数学   日本 架空の質問 法律判断   翻訳 表の読み取り 論理パズル   \n",
       "model_name                                                                    \n",
       "aya-expanse-32b-abliterated           5.4  5.2   2.4  6.8  6.8    6.8   3.0   \n",
       "gpt-4o                                8.6  7.5   8.4  8.6  8.6    9.0   3.8   \n",
       "mistral-small-3.2-24b-instruct-2506   8.2  5.1   3.6  6.8  7.6    9.0   6.8   \n",
       "qwen3-32b                            10.0  4.5   6.8  6.6  8.0    9.2   7.0   \n",
       "shisa-v2-mistral-small-24b            7.8  4.6   5.2  6.8  9.0    8.4   3.8   \n",
       "shisa-v2-qwen2.5-32b                  8.0  3.6   3.6  6.8  8.2    9.0   5.6   \n",
       "\n",
       "eval_dataset                                                                 \\\n",
       "Category                            長い文書のClosed QA（千トークン以上） 長い文書要約（千トークン以上）   \n",
       "model_name                                                                    \n",
       "aya-expanse-32b-abliterated                             9.6            10.0   \n",
       "gpt-4o                                                  9.2            10.0   \n",
       "mistral-small-3.2-24b-instruct-2506                     9.4            10.0   \n",
       "qwen3-32b                                               9.6            10.0   \n",
       "shisa-v2-mistral-small-24b                              9.4            10.0   \n",
       "shisa-v2-qwen2.5-32b                                    9.8            10.0   \n",
       "\n",
       "eval_dataset                              \n",
       "Category                              雑談  \n",
       "model_name                                \n",
       "aya-expanse-32b-abliterated          9.8  \n",
       "gpt-4o                               9.8  \n",
       "mistral-small-3.2-24b-instruct-2506  9.4  \n",
       "qwen3-32b                            9.4  \n",
       "shisa-v2-mistral-small-24b           9.4  \n",
       "shisa-v2-qwen2.5-32b                 9.2  \n",
       "\n",
       "[6 rows x 23 columns]"
      ]
     },
     "execution_count": 179,
     "metadata": {},
     "output_type": "execute_result"
    }
   ],
   "source": [
    "mean_df"
   ]
  },
  {
   "cell_type": "code",
   "execution_count": 180,
   "id": "4a1d9fcc",
   "metadata": {},
   "outputs": [
    {
     "name": "stdout",
     "output_type": "stream",
     "text": [
      "| model_name                          |   ('Tengu-Bench', 'Function calling') |   ('Tengu-Bench', 'アイデア生成') |   ('Tengu-Bench', 'コスト見積') |   ('Tengu-Bench', 'ダジャレ') |   ('Tengu-Bench', 'ビジネス') |   ('Tengu-Bench', 'フォーマット') |   ('Tengu-Bench', 'プロジェクト作成') |   ('Tengu-Bench', '会話要約') |   ('Tengu-Bench', '倫理的制御') |   ('Tengu-Bench', '建設') |   ('Tengu-Bench', '抽出') |   ('Tengu-Bench', '政治') |   ('Tengu-Bench', '敬語') |   ('Tengu-Bench', '数学') |   ('Tengu-Bench', '日本') |   ('Tengu-Bench', '架空の質問') |   ('Tengu-Bench', '法律判断') |   ('Tengu-Bench', '翻訳') |   ('Tengu-Bench', '表の読み取り') |   ('Tengu-Bench', '論理パズル') |   ('Tengu-Bench', '長い文書のClosed QA（千トークン以上）') |   ('Tengu-Bench', '長い文書要約（千トークン以上）') |   ('Tengu-Bench', '雑談') |\n",
      "|:------------------------------------|--------------------------------------:|----------------------------------:|--------------------------------:|------------------------------:|------------------------------:|----------------------------------:|--------------------------------------:|------------------------------:|--------------------------------:|--------------------------:|--------------------------:|--------------------------:|--------------------------:|--------------------------:|--------------------------:|--------------------------------:|------------------------------:|--------------------------:|----------------------------------:|--------------------------------:|-----------------------------------------------------------:|----------------------------------------------------:|--------------------------:|\n",
      "| aya-expanse-32b-abliterated         |                                  8.40 |                             10.00 |                            9.40 |                          6.00 |                          4.00 |                             10.00 |                                 10.00 |                         10.00 |                            2.40 |                      5.40 |                      9.80 |                      6.00 |                      9.00 |                      5.40 |                      5.20 |                            2.40 |                          6.80 |                      6.80 |                              6.80 |                            3.00 |                                                       9.60 |                                               10.00 |                      9.80 |\n",
      "| gpt-4o                              |                                  7.20 |                             10.00 |                            9.80 |                          4.60 |                          8.40 |                             10.00 |                                 10.00 |                         10.00 |                            8.80 |                      7.40 |                     10.00 |                      8.00 |                      9.20 |                      8.60 |                      7.50 |                            8.40 |                          8.60 |                      8.60 |                              9.00 |                            3.80 |                                                       9.20 |                                               10.00 |                      9.80 |\n",
      "| mistral-small-3.2-24b-instruct-2506 |                                  8.40 |                             10.00 |                            9.80 |                          4.00 |                          6.80 |                              9.80 |                                 10.00 |                         10.00 |                            5.80 |                      6.80 |                      9.40 |                      8.00 |                      9.00 |                      8.20 |                      5.10 |                            3.60 |                          6.80 |                      7.60 |                              9.00 |                            6.80 |                                                       9.40 |                                               10.00 |                      9.40 |\n",
      "| qwen3-32b                           |                                  7.20 |                             10.00 |                            9.60 |                          6.40 |                          6.80 |                              9.60 |                                 10.00 |                          9.80 |                            4.60 |                      5.80 |                      9.40 |                      6.60 |                      9.40 |                     10.00 |                      4.50 |                            6.80 |                          6.60 |                      8.00 |                              9.20 |                            7.00 |                                                       9.60 |                                               10.00 |                      9.40 |\n",
      "| shisa-v2-mistral-small-24b          |                                  8.40 |                             10.00 |                            9.60 |                          5.60 |                          6.60 |                              9.60 |                                 10.00 |                         10.00 |                            3.40 |                      6.00 |                      9.00 |                      7.60 |                      9.60 |                      7.80 |                      4.60 |                            5.20 |                          6.80 |                      9.00 |                              8.40 |                            3.80 |                                                       9.40 |                                               10.00 |                      9.40 |\n",
      "| shisa-v2-qwen2.5-32b                |                                  8.00 |                             10.00 |                            9.60 |                          5.80 |                          6.00 |                              9.00 |                                 10.00 |                         10.00 |                            5.80 |                      5.20 |                      9.00 |                      7.00 |                      8.80 |                      8.00 |                      3.60 |                            3.60 |                          6.80 |                      8.20 |                              9.00 |                            5.60 |                                                       9.80 |                                               10.00 |                      9.20 |\n"
     ]
    }
   ],
   "source": [
    "print(mean_df.to_markdown(index=True, floatfmt='.2f'))"
   ]
  },
  {
   "cell_type": "code",
   "execution_count": 181,
   "id": "890ca161",
   "metadata": {},
   "outputs": [
    {
     "data": {
      "text/html": [
       "<div>\n",
       "<style scoped>\n",
       "    .dataframe tbody tr th:only-of-type {\n",
       "        vertical-align: middle;\n",
       "    }\n",
       "\n",
       "    .dataframe tbody tr th {\n",
       "        vertical-align: top;\n",
       "    }\n",
       "\n",
       "    .dataframe thead tr th {\n",
       "        text-align: left;\n",
       "    }\n",
       "\n",
       "    .dataframe thead tr:last-of-type th {\n",
       "        text-align: right;\n",
       "    }\n",
       "</style>\n",
       "<table border=\"1\" class=\"dataframe\">\n",
       "  <thead>\n",
       "    <tr>\n",
       "      <th>eval_dataset</th>\n",
       "      <th colspan=\"21\" halign=\"left\">Tengu-Bench</th>\n",
       "    </tr>\n",
       "    <tr>\n",
       "      <th>Category</th>\n",
       "      <th>Function calling</th>\n",
       "      <th>アイデア生成</th>\n",
       "      <th>コスト見積</th>\n",
       "      <th>ダジャレ</th>\n",
       "      <th>ビジネス</th>\n",
       "      <th>フォーマット</th>\n",
       "      <th>プロジェクト作成</th>\n",
       "      <th>会話要約</th>\n",
       "      <th>倫理的制御</th>\n",
       "      <th>建設</th>\n",
       "      <th>...</th>\n",
       "      <th>数学</th>\n",
       "      <th>日本</th>\n",
       "      <th>架空の質問</th>\n",
       "      <th>法律判断</th>\n",
       "      <th>翻訳</th>\n",
       "      <th>表の読み取り</th>\n",
       "      <th>論理パズル</th>\n",
       "      <th>長い文書のClosed QA（千トークン以上）</th>\n",
       "      <th>長い文書要約（千トークン以上）</th>\n",
       "      <th>雑談</th>\n",
       "    </tr>\n",
       "    <tr>\n",
       "      <th>model_name</th>\n",
       "      <th></th>\n",
       "      <th></th>\n",
       "      <th></th>\n",
       "      <th></th>\n",
       "      <th></th>\n",
       "      <th></th>\n",
       "      <th></th>\n",
       "      <th></th>\n",
       "      <th></th>\n",
       "      <th></th>\n",
       "      <th></th>\n",
       "      <th></th>\n",
       "      <th></th>\n",
       "      <th></th>\n",
       "      <th></th>\n",
       "      <th></th>\n",
       "      <th></th>\n",
       "      <th></th>\n",
       "      <th></th>\n",
       "      <th></th>\n",
       "      <th></th>\n",
       "    </tr>\n",
       "  </thead>\n",
       "  <tbody>\n",
       "    <tr>\n",
       "      <th>aya-expanse-32b-abliterated</th>\n",
       "      <td>8.4</td>\n",
       "      <td>10.0</td>\n",
       "      <td>9.4</td>\n",
       "      <td>6.0</td>\n",
       "      <td>4.0</td>\n",
       "      <td>10.0</td>\n",
       "      <td>10.0</td>\n",
       "      <td>10.0</td>\n",
       "      <td>2.4</td>\n",
       "      <td>5.4</td>\n",
       "      <td>...</td>\n",
       "      <td>5.4</td>\n",
       "      <td>5.2</td>\n",
       "      <td>2.4</td>\n",
       "      <td>6.8</td>\n",
       "      <td>6.8</td>\n",
       "      <td>6.8</td>\n",
       "      <td>3.0</td>\n",
       "      <td>9.6</td>\n",
       "      <td>10.0</td>\n",
       "      <td>9.8</td>\n",
       "    </tr>\n",
       "    <tr>\n",
       "      <th>gpt-4o</th>\n",
       "      <td>7.2</td>\n",
       "      <td>10.0</td>\n",
       "      <td>9.8</td>\n",
       "      <td>4.6</td>\n",
       "      <td>8.4</td>\n",
       "      <td>10.0</td>\n",
       "      <td>10.0</td>\n",
       "      <td>10.0</td>\n",
       "      <td>8.8</td>\n",
       "      <td>7.4</td>\n",
       "      <td>...</td>\n",
       "      <td>8.6</td>\n",
       "      <td>7.5</td>\n",
       "      <td>8.4</td>\n",
       "      <td>8.6</td>\n",
       "      <td>8.6</td>\n",
       "      <td>9.0</td>\n",
       "      <td>3.8</td>\n",
       "      <td>9.2</td>\n",
       "      <td>10.0</td>\n",
       "      <td>9.8</td>\n",
       "    </tr>\n",
       "    <tr>\n",
       "      <th>mistral-small-3.2-24b-instruct-2506</th>\n",
       "      <td>8.4</td>\n",
       "      <td>10.0</td>\n",
       "      <td>9.8</td>\n",
       "      <td>4.0</td>\n",
       "      <td>6.8</td>\n",
       "      <td>9.8</td>\n",
       "      <td>10.0</td>\n",
       "      <td>10.0</td>\n",
       "      <td>5.8</td>\n",
       "      <td>6.8</td>\n",
       "      <td>...</td>\n",
       "      <td>8.2</td>\n",
       "      <td>5.1</td>\n",
       "      <td>3.6</td>\n",
       "      <td>6.8</td>\n",
       "      <td>7.6</td>\n",
       "      <td>9.0</td>\n",
       "      <td>6.8</td>\n",
       "      <td>9.4</td>\n",
       "      <td>10.0</td>\n",
       "      <td>9.4</td>\n",
       "    </tr>\n",
       "    <tr>\n",
       "      <th>qwen3-32b</th>\n",
       "      <td>7.2</td>\n",
       "      <td>10.0</td>\n",
       "      <td>9.6</td>\n",
       "      <td>6.4</td>\n",
       "      <td>6.8</td>\n",
       "      <td>9.6</td>\n",
       "      <td>10.0</td>\n",
       "      <td>9.8</td>\n",
       "      <td>4.6</td>\n",
       "      <td>5.8</td>\n",
       "      <td>...</td>\n",
       "      <td>10.0</td>\n",
       "      <td>4.5</td>\n",
       "      <td>6.8</td>\n",
       "      <td>6.6</td>\n",
       "      <td>8.0</td>\n",
       "      <td>9.2</td>\n",
       "      <td>7.0</td>\n",
       "      <td>9.6</td>\n",
       "      <td>10.0</td>\n",
       "      <td>9.4</td>\n",
       "    </tr>\n",
       "    <tr>\n",
       "      <th>shisa-v2-mistral-small-24b</th>\n",
       "      <td>8.4</td>\n",
       "      <td>10.0</td>\n",
       "      <td>9.6</td>\n",
       "      <td>5.6</td>\n",
       "      <td>6.6</td>\n",
       "      <td>9.6</td>\n",
       "      <td>10.0</td>\n",
       "      <td>10.0</td>\n",
       "      <td>3.4</td>\n",
       "      <td>6.0</td>\n",
       "      <td>...</td>\n",
       "      <td>7.8</td>\n",
       "      <td>4.6</td>\n",
       "      <td>5.2</td>\n",
       "      <td>6.8</td>\n",
       "      <td>9.0</td>\n",
       "      <td>8.4</td>\n",
       "      <td>3.8</td>\n",
       "      <td>9.4</td>\n",
       "      <td>10.0</td>\n",
       "      <td>9.4</td>\n",
       "    </tr>\n",
       "    <tr>\n",
       "      <th>shisa-v2-qwen2.5-32b</th>\n",
       "      <td>8.0</td>\n",
       "      <td>10.0</td>\n",
       "      <td>9.6</td>\n",
       "      <td>5.8</td>\n",
       "      <td>6.0</td>\n",
       "      <td>9.0</td>\n",
       "      <td>10.0</td>\n",
       "      <td>10.0</td>\n",
       "      <td>5.8</td>\n",
       "      <td>5.2</td>\n",
       "      <td>...</td>\n",
       "      <td>8.0</td>\n",
       "      <td>3.6</td>\n",
       "      <td>3.6</td>\n",
       "      <td>6.8</td>\n",
       "      <td>8.2</td>\n",
       "      <td>9.0</td>\n",
       "      <td>5.6</td>\n",
       "      <td>9.8</td>\n",
       "      <td>10.0</td>\n",
       "      <td>9.2</td>\n",
       "    </tr>\n",
       "  </tbody>\n",
       "</table>\n",
       "<p>6 rows × 23 columns</p>\n",
       "</div>"
      ],
      "text/plain": [
       "eval_dataset                             Tengu-Bench                         \\\n",
       "Category                            Function calling アイデア生成 コスト見積 ダジャレ ビジネス   \n",
       "model_name                                                                    \n",
       "aya-expanse-32b-abliterated                      8.4   10.0   9.4  6.0  4.0   \n",
       "gpt-4o                                           7.2   10.0   9.8  4.6  8.4   \n",
       "mistral-small-3.2-24b-instruct-2506              8.4   10.0   9.8  4.0  6.8   \n",
       "qwen3-32b                                        7.2   10.0   9.6  6.4  6.8   \n",
       "shisa-v2-mistral-small-24b                       8.4   10.0   9.6  5.6  6.6   \n",
       "shisa-v2-qwen2.5-32b                             8.0   10.0   9.6  5.8  6.0   \n",
       "\n",
       "eval_dataset                                                          ...  \\\n",
       "Category                            フォーマット プロジェクト作成  会話要約 倫理的制御   建設  ...   \n",
       "model_name                                                            ...   \n",
       "aya-expanse-32b-abliterated           10.0     10.0  10.0   2.4  5.4  ...   \n",
       "gpt-4o                                10.0     10.0  10.0   8.8  7.4  ...   \n",
       "mistral-small-3.2-24b-instruct-2506    9.8     10.0  10.0   5.8  6.8  ...   \n",
       "qwen3-32b                              9.6     10.0   9.8   4.6  5.8  ...   \n",
       "shisa-v2-mistral-small-24b             9.6     10.0  10.0   3.4  6.0  ...   \n",
       "shisa-v2-qwen2.5-32b                   9.0     10.0  10.0   5.8  5.2  ...   \n",
       "\n",
       "eval_dataset                                                                 \\\n",
       "Category                               数学   日本 架空の質問 法律判断   翻訳 表の読み取り 論理パズル   \n",
       "model_name                                                                    \n",
       "aya-expanse-32b-abliterated           5.4  5.2   2.4  6.8  6.8    6.8   3.0   \n",
       "gpt-4o                                8.6  7.5   8.4  8.6  8.6    9.0   3.8   \n",
       "mistral-small-3.2-24b-instruct-2506   8.2  5.1   3.6  6.8  7.6    9.0   6.8   \n",
       "qwen3-32b                            10.0  4.5   6.8  6.6  8.0    9.2   7.0   \n",
       "shisa-v2-mistral-small-24b            7.8  4.6   5.2  6.8  9.0    8.4   3.8   \n",
       "shisa-v2-qwen2.5-32b                  8.0  3.6   3.6  6.8  8.2    9.0   5.6   \n",
       "\n",
       "eval_dataset                                                                 \\\n",
       "Category                            長い文書のClosed QA（千トークン以上） 長い文書要約（千トークン以上）   \n",
       "model_name                                                                    \n",
       "aya-expanse-32b-abliterated                             9.6            10.0   \n",
       "gpt-4o                                                  9.2            10.0   \n",
       "mistral-small-3.2-24b-instruct-2506                     9.4            10.0   \n",
       "qwen3-32b                                               9.6            10.0   \n",
       "shisa-v2-mistral-small-24b                              9.4            10.0   \n",
       "shisa-v2-qwen2.5-32b                                    9.8            10.0   \n",
       "\n",
       "eval_dataset                              \n",
       "Category                              雑談  \n",
       "model_name                                \n",
       "aya-expanse-32b-abliterated          9.8  \n",
       "gpt-4o                               9.8  \n",
       "mistral-small-3.2-24b-instruct-2506  9.4  \n",
       "qwen3-32b                            9.4  \n",
       "shisa-v2-mistral-small-24b           9.4  \n",
       "shisa-v2-qwen2.5-32b                 9.2  \n",
       "\n",
       "[6 rows x 23 columns]"
      ]
     },
     "execution_count": 181,
     "metadata": {},
     "output_type": "execute_result"
    }
   ],
   "source": [
    "mean_df"
   ]
  },
  {
   "cell_type": "code",
   "execution_count": 182,
   "id": "e438c0ae",
   "metadata": {},
   "outputs": [],
   "source": [
    "mean_df = all_result_df.groupby(\n",
    "    [\"model_name\", \"eval_dataset\"]\n",
    ").score.mean().reset_index(level=1, drop=False)"
   ]
  },
  {
   "cell_type": "code",
   "execution_count": 183,
   "id": "c51ea6db",
   "metadata": {},
   "outputs": [],
   "source": [
    "mean_df['score_'] = mean_df.apply(lambda x: x.score*2 if x.eval_dataset==\"ELYZA-tasks-100\" else x.score, axis=1)"
   ]
  },
  {
   "cell_type": "code",
   "execution_count": 184,
   "id": "be8694d5",
   "metadata": {},
   "outputs": [
    {
     "data": {
      "text/html": [
       "<div>\n",
       "<style scoped>\n",
       "    .dataframe tbody tr th:only-of-type {\n",
       "        vertical-align: middle;\n",
       "    }\n",
       "\n",
       "    .dataframe tbody tr th {\n",
       "        vertical-align: top;\n",
       "    }\n",
       "\n",
       "    .dataframe thead th {\n",
       "        text-align: right;\n",
       "    }\n",
       "</style>\n",
       "<table border=\"1\" class=\"dataframe\">\n",
       "  <thead>\n",
       "    <tr style=\"text-align: right;\">\n",
       "      <th></th>\n",
       "      <th>eval_dataset</th>\n",
       "      <th>score</th>\n",
       "      <th>score_</th>\n",
       "    </tr>\n",
       "    <tr>\n",
       "      <th>model_name</th>\n",
       "      <th></th>\n",
       "      <th></th>\n",
       "      <th></th>\n",
       "    </tr>\n",
       "  </thead>\n",
       "  <tbody>\n",
       "    <tr>\n",
       "      <th>aya-expanse-32b-abliterated</th>\n",
       "      <td>ELYZA-tasks-100</td>\n",
       "      <td>4.060000</td>\n",
       "      <td>8.120000</td>\n",
       "    </tr>\n",
       "    <tr>\n",
       "      <th>aya-expanse-32b-abliterated</th>\n",
       "      <td>MT-Bench</td>\n",
       "      <td>8.700000</td>\n",
       "      <td>8.700000</td>\n",
       "    </tr>\n",
       "    <tr>\n",
       "      <th>aya-expanse-32b-abliterated</th>\n",
       "      <td>Rakuda</td>\n",
       "      <td>8.875000</td>\n",
       "      <td>8.875000</td>\n",
       "    </tr>\n",
       "    <tr>\n",
       "      <th>aya-expanse-32b-abliterated</th>\n",
       "      <td>Tengu-Bench</td>\n",
       "      <td>7.141667</td>\n",
       "      <td>7.141667</td>\n",
       "    </tr>\n",
       "    <tr>\n",
       "      <th>gpt-4o</th>\n",
       "      <td>ELYZA-tasks-100</td>\n",
       "      <td>4.610000</td>\n",
       "      <td>9.220000</td>\n",
       "    </tr>\n",
       "    <tr>\n",
       "      <th>gpt-4o</th>\n",
       "      <td>MT-Bench</td>\n",
       "      <td>9.316667</td>\n",
       "      <td>9.316667</td>\n",
       "    </tr>\n",
       "    <tr>\n",
       "      <th>gpt-4o</th>\n",
       "      <td>Rakuda</td>\n",
       "      <td>9.900000</td>\n",
       "      <td>9.900000</td>\n",
       "    </tr>\n",
       "    <tr>\n",
       "      <th>gpt-4o</th>\n",
       "      <td>Tengu-Bench</td>\n",
       "      <td>8.516667</td>\n",
       "      <td>8.516667</td>\n",
       "    </tr>\n",
       "    <tr>\n",
       "      <th>mistral-small-3.2-24b-instruct-2506</th>\n",
       "      <td>ELYZA-tasks-100</td>\n",
       "      <td>4.150000</td>\n",
       "      <td>8.300000</td>\n",
       "    </tr>\n",
       "    <tr>\n",
       "      <th>mistral-small-3.2-24b-instruct-2506</th>\n",
       "      <td>MT-Bench</td>\n",
       "      <td>8.866667</td>\n",
       "      <td>8.866667</td>\n",
       "    </tr>\n",
       "    <tr>\n",
       "      <th>mistral-small-3.2-24b-instruct-2506</th>\n",
       "      <td>Rakuda</td>\n",
       "      <td>9.450000</td>\n",
       "      <td>9.450000</td>\n",
       "    </tr>\n",
       "    <tr>\n",
       "      <th>mistral-small-3.2-24b-instruct-2506</th>\n",
       "      <td>Tengu-Bench</td>\n",
       "      <td>7.866667</td>\n",
       "      <td>7.866667</td>\n",
       "    </tr>\n",
       "    <tr>\n",
       "      <th>qwen3-32b</th>\n",
       "      <td>ELYZA-tasks-100</td>\n",
       "      <td>4.460000</td>\n",
       "      <td>8.920000</td>\n",
       "    </tr>\n",
       "    <tr>\n",
       "      <th>qwen3-32b</th>\n",
       "      <td>MT-Bench</td>\n",
       "      <td>9.333333</td>\n",
       "      <td>9.333333</td>\n",
       "    </tr>\n",
       "    <tr>\n",
       "      <th>qwen3-32b</th>\n",
       "      <td>Rakuda</td>\n",
       "      <td>8.750000</td>\n",
       "      <td>8.750000</td>\n",
       "    </tr>\n",
       "    <tr>\n",
       "      <th>qwen3-32b</th>\n",
       "      <td>Tengu-Bench</td>\n",
       "      <td>7.950000</td>\n",
       "      <td>7.950000</td>\n",
       "    </tr>\n",
       "    <tr>\n",
       "      <th>shisa-v2-mistral-small-24b</th>\n",
       "      <td>ELYZA-tasks-100</td>\n",
       "      <td>4.150000</td>\n",
       "      <td>8.300000</td>\n",
       "    </tr>\n",
       "    <tr>\n",
       "      <th>shisa-v2-mistral-small-24b</th>\n",
       "      <td>MT-Bench</td>\n",
       "      <td>7.933333</td>\n",
       "      <td>7.933333</td>\n",
       "    </tr>\n",
       "    <tr>\n",
       "      <th>shisa-v2-mistral-small-24b</th>\n",
       "      <td>Rakuda</td>\n",
       "      <td>8.450000</td>\n",
       "      <td>8.450000</td>\n",
       "    </tr>\n",
       "    <tr>\n",
       "      <th>shisa-v2-mistral-small-24b</th>\n",
       "      <td>Tengu-Bench</td>\n",
       "      <td>7.683333</td>\n",
       "      <td>7.683333</td>\n",
       "    </tr>\n",
       "    <tr>\n",
       "      <th>shisa-v2-qwen2.5-32b</th>\n",
       "      <td>ELYZA-tasks-100</td>\n",
       "      <td>4.350000</td>\n",
       "      <td>8.700000</td>\n",
       "    </tr>\n",
       "    <tr>\n",
       "      <th>shisa-v2-qwen2.5-32b</th>\n",
       "      <td>MT-Bench</td>\n",
       "      <td>8.783333</td>\n",
       "      <td>8.783333</td>\n",
       "    </tr>\n",
       "    <tr>\n",
       "      <th>shisa-v2-qwen2.5-32b</th>\n",
       "      <td>Rakuda</td>\n",
       "      <td>9.125000</td>\n",
       "      <td>9.125000</td>\n",
       "    </tr>\n",
       "    <tr>\n",
       "      <th>shisa-v2-qwen2.5-32b</th>\n",
       "      <td>Tengu-Bench</td>\n",
       "      <td>7.566667</td>\n",
       "      <td>7.566667</td>\n",
       "    </tr>\n",
       "  </tbody>\n",
       "</table>\n",
       "</div>"
      ],
      "text/plain": [
       "                                        eval_dataset     score    score_\n",
       "model_name                                                              \n",
       "aya-expanse-32b-abliterated          ELYZA-tasks-100  4.060000  8.120000\n",
       "aya-expanse-32b-abliterated                 MT-Bench  8.700000  8.700000\n",
       "aya-expanse-32b-abliterated                   Rakuda  8.875000  8.875000\n",
       "aya-expanse-32b-abliterated              Tengu-Bench  7.141667  7.141667\n",
       "gpt-4o                               ELYZA-tasks-100  4.610000  9.220000\n",
       "gpt-4o                                      MT-Bench  9.316667  9.316667\n",
       "gpt-4o                                        Rakuda  9.900000  9.900000\n",
       "gpt-4o                                   Tengu-Bench  8.516667  8.516667\n",
       "mistral-small-3.2-24b-instruct-2506  ELYZA-tasks-100  4.150000  8.300000\n",
       "mistral-small-3.2-24b-instruct-2506         MT-Bench  8.866667  8.866667\n",
       "mistral-small-3.2-24b-instruct-2506           Rakuda  9.450000  9.450000\n",
       "mistral-small-3.2-24b-instruct-2506      Tengu-Bench  7.866667  7.866667\n",
       "qwen3-32b                            ELYZA-tasks-100  4.460000  8.920000\n",
       "qwen3-32b                                   MT-Bench  9.333333  9.333333\n",
       "qwen3-32b                                     Rakuda  8.750000  8.750000\n",
       "qwen3-32b                                Tengu-Bench  7.950000  7.950000\n",
       "shisa-v2-mistral-small-24b           ELYZA-tasks-100  4.150000  8.300000\n",
       "shisa-v2-mistral-small-24b                  MT-Bench  7.933333  7.933333\n",
       "shisa-v2-mistral-small-24b                    Rakuda  8.450000  8.450000\n",
       "shisa-v2-mistral-small-24b               Tengu-Bench  7.683333  7.683333\n",
       "shisa-v2-qwen2.5-32b                 ELYZA-tasks-100  4.350000  8.700000\n",
       "shisa-v2-qwen2.5-32b                        MT-Bench  8.783333  8.783333\n",
       "shisa-v2-qwen2.5-32b                          Rakuda  9.125000  9.125000\n",
       "shisa-v2-qwen2.5-32b                     Tengu-Bench  7.566667  7.566667"
      ]
     },
     "execution_count": 184,
     "metadata": {},
     "output_type": "execute_result"
    }
   ],
   "source": [
    "mean_df"
   ]
  },
  {
   "cell_type": "code",
   "execution_count": 185,
   "id": "db623d8e-a37d-4bba-bcd9-49a21ee5d688",
   "metadata": {
    "tags": []
   },
   "outputs": [],
   "source": [
    "unique_models = mean_df.index.unique()"
   ]
  },
  {
   "cell_type": "code",
   "execution_count": 190,
   "id": "602208d7-9e68-46df-bd2c-08ff616568f7",
   "metadata": {
    "tags": []
   },
   "outputs": [
    {
     "data": {
      "application/vnd.plotly.v1+json": {
       "config": {
        "plotlyServerURL": "https://plot.ly"
       },
       "data": [
        {
         "fill": "toself",
         "fillcolor": "rgba(99, 110, 250, 0.3)",
         "hovertemplate": "<b>%{fullData.name}</b><br><br>Benchmark: %{theta}<br>Score: %{r:.2f}<extra></extra>",
         "line": {
          "color": "#636EFA"
         },
         "marker": {
          "color": "#636EFA",
          "size": 8,
          "symbol": "circle"
         },
         "mode": "lines+markers",
         "name": "aya-expanse-32b-abliterated",
         "r": {
          "bdata": "PQrXo3A9IEBmZmZmZmYhQAAAAAAAwCFAERERERGRHEA=",
          "dtype": "f8"
         },
         "theta": [
          "ELYZA-tasks-100",
          "MT-Bench",
          "Rakuda",
          "Tengu-Bench"
         ],
         "type": "scatterpolar"
        },
        {
         "fill": "toself",
         "fillcolor": "rgba(239, 85, 59, 0.3)",
         "hovertemplate": "<b>%{fullData.name}</b><br><br>Benchmark: %{theta}<br>Score: %{r:.2f}<extra></extra>",
         "line": {
          "color": "#EF553B"
         },
         "marker": {
          "color": "#EF553B",
          "size": 8,
          "symbol": "circle"
         },
         "mode": "lines+markers",
         "name": "gpt-4o",
         "r": {
          "bdata": "cT0K16NwIkAiIiIiIqIiQM3MzMzMzCNAiYiIiIgIIUA=",
          "dtype": "f8"
         },
         "theta": [
          "ELYZA-tasks-100",
          "MT-Bench",
          "Rakuda",
          "Tengu-Bench"
         ],
         "type": "scatterpolar"
        },
        {
         "fill": "toself",
         "fillcolor": "rgba(0, 204, 150, 0.3)",
         "hovertemplate": "<b>%{fullData.name}</b><br><br>Benchmark: %{theta}<br>Score: %{r:.2f}<extra></extra>",
         "line": {
          "color": "#00CC96"
         },
         "marker": {
          "color": "#00CC96",
          "size": 8,
          "symbol": "circle"
         },
         "mode": "lines+markers",
         "name": "mistral-small-3.2-24b-instruct-2506",
         "r": {
          "bdata": "mpmZmZmZIEC8u7u7u7shQGZmZmZm5iJAd3d3d3d3H0A=",
          "dtype": "f8"
         },
         "theta": [
          "ELYZA-tasks-100",
          "MT-Bench",
          "Rakuda",
          "Tengu-Bench"
         ],
         "type": "scatterpolar"
        },
        {
         "fill": "toself",
         "fillcolor": "rgba(171, 99, 250, 0.3)",
         "hovertemplate": "<b>%{fullData.name}</b><br><br>Benchmark: %{theta}<br>Score: %{r:.2f}<extra></extra>",
         "line": {
          "color": "#AB63FA"
         },
         "marker": {
          "color": "#AB63FA",
          "size": 8,
          "symbol": "circle"
         },
         "mode": "lines+markers",
         "name": "qwen3-32b",
         "r": {
          "bdata": "16NwPQrXIUCrqqqqqqoiQAAAAAAAgCFAzczMzMzMH0A=",
          "dtype": "f8"
         },
         "theta": [
          "ELYZA-tasks-100",
          "MT-Bench",
          "Rakuda",
          "Tengu-Bench"
         ],
         "type": "scatterpolar"
        },
        {
         "fill": "toself",
         "fillcolor": "rgba(255, 161, 90, 0.3)",
         "hovertemplate": "<b>%{fullData.name}</b><br><br>Benchmark: %{theta}<br>Score: %{r:.2f}<extra></extra>",
         "line": {
          "color": "#FFA15A"
         },
         "marker": {
          "color": "#FFA15A",
          "size": 8,
          "symbol": "circle"
         },
         "mode": "lines+markers",
         "name": "shisa-v2-mistral-small-24b",
         "r": {
          "bdata": "mpmZmZmZIEC8u7u7u7sfQGZmZmZm5iBAvLu7u7u7HkA=",
          "dtype": "f8"
         },
         "theta": [
          "ELYZA-tasks-100",
          "MT-Bench",
          "Rakuda",
          "Tengu-Bench"
         ],
         "type": "scatterpolar"
        },
        {
         "fill": "toself",
         "fillcolor": "rgba(25, 211, 243, 0.3)",
         "hovertemplate": "<b>%{fullData.name}</b><br><br>Benchmark: %{theta}<br>Score: %{r:.2f}<extra></extra>",
         "line": {
          "color": "#19D3F3"
         },
         "marker": {
          "color": "#19D3F3",
          "size": 8,
          "symbol": "circle"
         },
         "mode": "lines+markers",
         "name": "shisa-v2-qwen2.5-32b",
         "r": {
          "bdata": "ZmZmZmZmIUAREREREZEhQAAAAAAAQCJAREREREREHkA=",
          "dtype": "f8"
         },
         "theta": [
          "ELYZA-tasks-100",
          "MT-Bench",
          "Rakuda",
          "Tengu-Bench"
         ],
         "type": "scatterpolar"
        }
       ],
       "layout": {
        "font": {
         "family": "Arial, sans-serif",
         "size": 12
        },
        "legend": {
         "orientation": "h",
         "title": {
          "font": {
           "size": 12
          },
          "text": "Models"
         },
         "x": 0.5,
         "xanchor": "center",
         "y": -0.2,
         "yanchor": "bottom"
        },
        "polar": {
         "angularaxis": {
          "tickfont": {
           "size": 14
          }
         },
         "radialaxis": {
          "gridwidth": 1,
          "range": [
           0,
           10
          ],
          "showline": false,
          "visible": true
         }
        },
        "template": {
         "data": {
          "bar": [
           {
            "error_x": {
             "color": "#2a3f5f"
            },
            "error_y": {
             "color": "#2a3f5f"
            },
            "marker": {
             "line": {
              "color": "white",
              "width": 0.5
             },
             "pattern": {
              "fillmode": "overlay",
              "size": 10,
              "solidity": 0.2
             }
            },
            "type": "bar"
           }
          ],
          "barpolar": [
           {
            "marker": {
             "line": {
              "color": "white",
              "width": 0.5
             },
             "pattern": {
              "fillmode": "overlay",
              "size": 10,
              "solidity": 0.2
             }
            },
            "type": "barpolar"
           }
          ],
          "carpet": [
           {
            "aaxis": {
             "endlinecolor": "#2a3f5f",
             "gridcolor": "#C8D4E3",
             "linecolor": "#C8D4E3",
             "minorgridcolor": "#C8D4E3",
             "startlinecolor": "#2a3f5f"
            },
            "baxis": {
             "endlinecolor": "#2a3f5f",
             "gridcolor": "#C8D4E3",
             "linecolor": "#C8D4E3",
             "minorgridcolor": "#C8D4E3",
             "startlinecolor": "#2a3f5f"
            },
            "type": "carpet"
           }
          ],
          "choropleth": [
           {
            "colorbar": {
             "outlinewidth": 0,
             "ticks": ""
            },
            "type": "choropleth"
           }
          ],
          "contour": [
           {
            "colorbar": {
             "outlinewidth": 0,
             "ticks": ""
            },
            "colorscale": [
             [
              0,
              "#0d0887"
             ],
             [
              0.1111111111111111,
              "#46039f"
             ],
             [
              0.2222222222222222,
              "#7201a8"
             ],
             [
              0.3333333333333333,
              "#9c179e"
             ],
             [
              0.4444444444444444,
              "#bd3786"
             ],
             [
              0.5555555555555556,
              "#d8576b"
             ],
             [
              0.6666666666666666,
              "#ed7953"
             ],
             [
              0.7777777777777778,
              "#fb9f3a"
             ],
             [
              0.8888888888888888,
              "#fdca26"
             ],
             [
              1,
              "#f0f921"
             ]
            ],
            "type": "contour"
           }
          ],
          "contourcarpet": [
           {
            "colorbar": {
             "outlinewidth": 0,
             "ticks": ""
            },
            "type": "contourcarpet"
           }
          ],
          "heatmap": [
           {
            "colorbar": {
             "outlinewidth": 0,
             "ticks": ""
            },
            "colorscale": [
             [
              0,
              "#0d0887"
             ],
             [
              0.1111111111111111,
              "#46039f"
             ],
             [
              0.2222222222222222,
              "#7201a8"
             ],
             [
              0.3333333333333333,
              "#9c179e"
             ],
             [
              0.4444444444444444,
              "#bd3786"
             ],
             [
              0.5555555555555556,
              "#d8576b"
             ],
             [
              0.6666666666666666,
              "#ed7953"
             ],
             [
              0.7777777777777778,
              "#fb9f3a"
             ],
             [
              0.8888888888888888,
              "#fdca26"
             ],
             [
              1,
              "#f0f921"
             ]
            ],
            "type": "heatmap"
           }
          ],
          "histogram": [
           {
            "marker": {
             "pattern": {
              "fillmode": "overlay",
              "size": 10,
              "solidity": 0.2
             }
            },
            "type": "histogram"
           }
          ],
          "histogram2d": [
           {
            "colorbar": {
             "outlinewidth": 0,
             "ticks": ""
            },
            "colorscale": [
             [
              0,
              "#0d0887"
             ],
             [
              0.1111111111111111,
              "#46039f"
             ],
             [
              0.2222222222222222,
              "#7201a8"
             ],
             [
              0.3333333333333333,
              "#9c179e"
             ],
             [
              0.4444444444444444,
              "#bd3786"
             ],
             [
              0.5555555555555556,
              "#d8576b"
             ],
             [
              0.6666666666666666,
              "#ed7953"
             ],
             [
              0.7777777777777778,
              "#fb9f3a"
             ],
             [
              0.8888888888888888,
              "#fdca26"
             ],
             [
              1,
              "#f0f921"
             ]
            ],
            "type": "histogram2d"
           }
          ],
          "histogram2dcontour": [
           {
            "colorbar": {
             "outlinewidth": 0,
             "ticks": ""
            },
            "colorscale": [
             [
              0,
              "#0d0887"
             ],
             [
              0.1111111111111111,
              "#46039f"
             ],
             [
              0.2222222222222222,
              "#7201a8"
             ],
             [
              0.3333333333333333,
              "#9c179e"
             ],
             [
              0.4444444444444444,
              "#bd3786"
             ],
             [
              0.5555555555555556,
              "#d8576b"
             ],
             [
              0.6666666666666666,
              "#ed7953"
             ],
             [
              0.7777777777777778,
              "#fb9f3a"
             ],
             [
              0.8888888888888888,
              "#fdca26"
             ],
             [
              1,
              "#f0f921"
             ]
            ],
            "type": "histogram2dcontour"
           }
          ],
          "mesh3d": [
           {
            "colorbar": {
             "outlinewidth": 0,
             "ticks": ""
            },
            "type": "mesh3d"
           }
          ],
          "parcoords": [
           {
            "line": {
             "colorbar": {
              "outlinewidth": 0,
              "ticks": ""
             }
            },
            "type": "parcoords"
           }
          ],
          "pie": [
           {
            "automargin": true,
            "type": "pie"
           }
          ],
          "scatter": [
           {
            "fillpattern": {
             "fillmode": "overlay",
             "size": 10,
             "solidity": 0.2
            },
            "type": "scatter"
           }
          ],
          "scatter3d": [
           {
            "line": {
             "colorbar": {
              "outlinewidth": 0,
              "ticks": ""
             }
            },
            "marker": {
             "colorbar": {
              "outlinewidth": 0,
              "ticks": ""
             }
            },
            "type": "scatter3d"
           }
          ],
          "scattercarpet": [
           {
            "marker": {
             "colorbar": {
              "outlinewidth": 0,
              "ticks": ""
             }
            },
            "type": "scattercarpet"
           }
          ],
          "scattergeo": [
           {
            "marker": {
             "colorbar": {
              "outlinewidth": 0,
              "ticks": ""
             }
            },
            "type": "scattergeo"
           }
          ],
          "scattergl": [
           {
            "marker": {
             "colorbar": {
              "outlinewidth": 0,
              "ticks": ""
             }
            },
            "type": "scattergl"
           }
          ],
          "scattermap": [
           {
            "marker": {
             "colorbar": {
              "outlinewidth": 0,
              "ticks": ""
             }
            },
            "type": "scattermap"
           }
          ],
          "scattermapbox": [
           {
            "marker": {
             "colorbar": {
              "outlinewidth": 0,
              "ticks": ""
             }
            },
            "type": "scattermapbox"
           }
          ],
          "scatterpolar": [
           {
            "marker": {
             "colorbar": {
              "outlinewidth": 0,
              "ticks": ""
             }
            },
            "type": "scatterpolar"
           }
          ],
          "scatterpolargl": [
           {
            "marker": {
             "colorbar": {
              "outlinewidth": 0,
              "ticks": ""
             }
            },
            "type": "scatterpolargl"
           }
          ],
          "scatterternary": [
           {
            "marker": {
             "colorbar": {
              "outlinewidth": 0,
              "ticks": ""
             }
            },
            "type": "scatterternary"
           }
          ],
          "surface": [
           {
            "colorbar": {
             "outlinewidth": 0,
             "ticks": ""
            },
            "colorscale": [
             [
              0,
              "#0d0887"
             ],
             [
              0.1111111111111111,
              "#46039f"
             ],
             [
              0.2222222222222222,
              "#7201a8"
             ],
             [
              0.3333333333333333,
              "#9c179e"
             ],
             [
              0.4444444444444444,
              "#bd3786"
             ],
             [
              0.5555555555555556,
              "#d8576b"
             ],
             [
              0.6666666666666666,
              "#ed7953"
             ],
             [
              0.7777777777777778,
              "#fb9f3a"
             ],
             [
              0.8888888888888888,
              "#fdca26"
             ],
             [
              1,
              "#f0f921"
             ]
            ],
            "type": "surface"
           }
          ],
          "table": [
           {
            "cells": {
             "fill": {
              "color": "#EBF0F8"
             },
             "line": {
              "color": "white"
             }
            },
            "header": {
             "fill": {
              "color": "#C8D4E3"
             },
             "line": {
              "color": "white"
             }
            },
            "type": "table"
           }
          ]
         },
         "layout": {
          "annotationdefaults": {
           "arrowcolor": "#2a3f5f",
           "arrowhead": 0,
           "arrowwidth": 1
          },
          "autotypenumbers": "strict",
          "coloraxis": {
           "colorbar": {
            "outlinewidth": 0,
            "ticks": ""
           }
          },
          "colorscale": {
           "diverging": [
            [
             0,
             "#8e0152"
            ],
            [
             0.1,
             "#c51b7d"
            ],
            [
             0.2,
             "#de77ae"
            ],
            [
             0.3,
             "#f1b6da"
            ],
            [
             0.4,
             "#fde0ef"
            ],
            [
             0.5,
             "#f7f7f7"
            ],
            [
             0.6,
             "#e6f5d0"
            ],
            [
             0.7,
             "#b8e186"
            ],
            [
             0.8,
             "#7fbc41"
            ],
            [
             0.9,
             "#4d9221"
            ],
            [
             1,
             "#276419"
            ]
           ],
           "sequential": [
            [
             0,
             "#0d0887"
            ],
            [
             0.1111111111111111,
             "#46039f"
            ],
            [
             0.2222222222222222,
             "#7201a8"
            ],
            [
             0.3333333333333333,
             "#9c179e"
            ],
            [
             0.4444444444444444,
             "#bd3786"
            ],
            [
             0.5555555555555556,
             "#d8576b"
            ],
            [
             0.6666666666666666,
             "#ed7953"
            ],
            [
             0.7777777777777778,
             "#fb9f3a"
            ],
            [
             0.8888888888888888,
             "#fdca26"
            ],
            [
             1,
             "#f0f921"
            ]
           ],
           "sequentialminus": [
            [
             0,
             "#0d0887"
            ],
            [
             0.1111111111111111,
             "#46039f"
            ],
            [
             0.2222222222222222,
             "#7201a8"
            ],
            [
             0.3333333333333333,
             "#9c179e"
            ],
            [
             0.4444444444444444,
             "#bd3786"
            ],
            [
             0.5555555555555556,
             "#d8576b"
            ],
            [
             0.6666666666666666,
             "#ed7953"
            ],
            [
             0.7777777777777778,
             "#fb9f3a"
            ],
            [
             0.8888888888888888,
             "#fdca26"
            ],
            [
             1,
             "#f0f921"
            ]
           ]
          },
          "colorway": [
           "#636efa",
           "#EF553B",
           "#00cc96",
           "#ab63fa",
           "#FFA15A",
           "#19d3f3",
           "#FF6692",
           "#B6E880",
           "#FF97FF",
           "#FECB52"
          ],
          "font": {
           "color": "#2a3f5f"
          },
          "geo": {
           "bgcolor": "white",
           "lakecolor": "white",
           "landcolor": "white",
           "showlakes": true,
           "showland": true,
           "subunitcolor": "#C8D4E3"
          },
          "hoverlabel": {
           "align": "left"
          },
          "hovermode": "closest",
          "mapbox": {
           "style": "light"
          },
          "paper_bgcolor": "white",
          "plot_bgcolor": "white",
          "polar": {
           "angularaxis": {
            "gridcolor": "#EBF0F8",
            "linecolor": "#EBF0F8",
            "ticks": ""
           },
           "bgcolor": "white",
           "radialaxis": {
            "gridcolor": "#EBF0F8",
            "linecolor": "#EBF0F8",
            "ticks": ""
           }
          },
          "scene": {
           "xaxis": {
            "backgroundcolor": "white",
            "gridcolor": "#DFE8F3",
            "gridwidth": 2,
            "linecolor": "#EBF0F8",
            "showbackground": true,
            "ticks": "",
            "zerolinecolor": "#EBF0F8"
           },
           "yaxis": {
            "backgroundcolor": "white",
            "gridcolor": "#DFE8F3",
            "gridwidth": 2,
            "linecolor": "#EBF0F8",
            "showbackground": true,
            "ticks": "",
            "zerolinecolor": "#EBF0F8"
           },
           "zaxis": {
            "backgroundcolor": "white",
            "gridcolor": "#DFE8F3",
            "gridwidth": 2,
            "linecolor": "#EBF0F8",
            "showbackground": true,
            "ticks": "",
            "zerolinecolor": "#EBF0F8"
           }
          },
          "shapedefaults": {
           "line": {
            "color": "#2a3f5f"
           }
          },
          "ternary": {
           "aaxis": {
            "gridcolor": "#DFE8F3",
            "linecolor": "#A2B1C6",
            "ticks": ""
           },
           "baxis": {
            "gridcolor": "#DFE8F3",
            "linecolor": "#A2B1C6",
            "ticks": ""
           },
           "bgcolor": "white",
           "caxis": {
            "gridcolor": "#DFE8F3",
            "linecolor": "#A2B1C6",
            "ticks": ""
           }
          },
          "title": {
           "x": 0.05
          },
          "xaxis": {
           "automargin": true,
           "gridcolor": "#EBF0F8",
           "linecolor": "#EBF0F8",
           "ticks": "",
           "title": {
            "standoff": 15
           },
           "zerolinecolor": "#EBF0F8",
           "zerolinewidth": 2
          },
          "yaxis": {
           "automargin": true,
           "gridcolor": "#EBF0F8",
           "linecolor": "#EBF0F8",
           "ticks": "",
           "title": {
            "standoff": 15
           },
           "zerolinecolor": "#EBF0F8",
           "zerolinewidth": 2
          }
         }
        },
        "title": {
         "font": {
          "size": 20
         },
         "text": "LLM Performance on Japanese Benchmarks<br><sup>Judge Model: gpt-4.1</sup>",
         "x": 0.5
        }
       }
      }
     },
     "metadata": {},
     "output_type": "display_data"
    }
   ],
   "source": [
    "import plotly.graph_objects as go\n",
    "from plotly import offline\n",
    "import plotly.express as px\n",
    "\n",
    "# Get unique judge model(s) from the DataFrame\n",
    "judge_models = all_result_df['judge_model'].unique()\n",
    "judge_model_str = ', '.join(judge_models)\n",
    "\n",
    "fig = go.Figure()\n",
    "\n",
    "# Dynamically generate a color sequence using Plotly Express's palettes\n",
    "color_sequence = px.colors.qualitative.Plotly\n",
    "color_map = {model: color_sequence[i % len(color_sequence)] for i, model in enumerate(unique_models)}\n",
    "\n",
    "for model_name in unique_models:\n",
    "    model_mean_df = mean_df.loc[model_name]\n",
    "\n",
    "    # Helper function to convert hex to an rgba string\n",
    "    def hex_to_rgba(hex_color, opacity):\n",
    "        hex_color = hex_color.lstrip('#')\n",
    "        r, g, b = tuple(int(hex_color[i:i+2], 16) for i in (0, 2, 4))\n",
    "        return f'rgba({r}, {g}, {b}, {opacity})'\n",
    "\n",
    "    fig.add_trace(go.Scatterpolar(\n",
    "        r=model_mean_df[\"score_\"],\n",
    "        theta=model_mean_df[\"eval_dataset\"],\n",
    "        fill='toself',\n",
    "        name=model_name,\n",
    "        mode='lines+markers',\n",
    "        line=dict(color=color_map[model_name]),\n",
    "        fillcolor=hex_to_rgba(color_map[model_name], 0.3),\n",
    "        marker=dict(\n",
    "            color=color_map[model_name],\n",
    "            size=8,\n",
    "            symbol='circle'\n",
    "        ),\n",
    "        hovertemplate=(\n",
    "            \"<b>%{fullData.name}</b><br><br>\" +\n",
    "            \"Benchmark: %{theta}<br>\" +\n",
    "            \"Score: %{r:.2f}<extra></extra>\"\n",
    "        )\n",
    "    ))\n",
    "\n",
    "fig.update_layout(\n",
    "    title=dict(\n",
    "        text=f\"LLM Performance on Japanese Benchmarks<br><sup>Judge Model: {judge_model_str.replace('judge_', '')}</sup>\",\n",
    "        font=dict(size=20),\n",
    "        x=0.5\n",
    "    ),\n",
    "    template='plotly_white',\n",
    "    polar=dict(\n",
    "        radialaxis=dict(\n",
    "            visible=True,\n",
    "            range=[0, 10],\n",
    "            showline=False,\n",
    "            gridwidth=1\n",
    "        ),\n",
    "        angularaxis=dict(\n",
    "            # The property is 'tickfont', not 'font'\n",
    "            tickfont=dict(size=14)\n",
    "        )\n",
    "    ),\n",
    "    legend=dict(\n",
    "        yanchor=\"bottom\",\n",
    "        y=-0.2,\n",
    "        xanchor=\"center\",\n",
    "        x=0.5,\n",
    "        orientation='h',\n",
    "        title=dict(text='Models', font=dict(size=12))\n",
    "    ),\n",
    "    font=dict(\n",
    "        family=\"Arial, sans-serif\",\n",
    "        size=12\n",
    "    )\n",
    ")\n",
    "\n",
    "fig.show()\n",
    "\n",
    "# offline.plot(fig)\n"
   ]
  },
  {
   "cell_type": "code",
   "execution_count": 203,
   "id": "82216dff",
   "metadata": {},
   "outputs": [
    {
     "data": {
      "application/vnd.plotly.v1+json": {
       "config": {
        "plotlyServerURL": "https://plot.ly"
       },
       "data": [
        {
         "marker": {
          "color": "#636efa"
         },
         "name": "gpt-4o",
         "orientation": "h",
         "showlegend": true,
         "text": [
          "9.22"
         ],
         "textposition": "outside",
         "type": "bar",
         "x": [
          9.22
         ],
         "xaxis": "x",
         "y": [
          ""
         ],
         "yaxis": "y"
        },
        {
         "marker": {
          "color": "#EF553B"
         },
         "name": "qwen3-32b",
         "orientation": "h",
         "showlegend": true,
         "text": [
          "8.92"
         ],
         "textposition": "outside",
         "type": "bar",
         "x": [
          8.92
         ],
         "xaxis": "x",
         "y": [
          ""
         ],
         "yaxis": "y"
        },
        {
         "marker": {
          "color": "#00cc96"
         },
         "name": "mistral-small-3.2-24b-instruct-2506",
         "orientation": "h",
         "showlegend": true,
         "text": [
          "8.30"
         ],
         "textposition": "outside",
         "type": "bar",
         "x": [
          8.3
         ],
         "xaxis": "x",
         "y": [
          ""
         ],
         "yaxis": "y"
        },
        {
         "marker": {
          "color": "#ab63fa"
         },
         "name": "shisa-v2-qwen2.5-32b",
         "orientation": "h",
         "showlegend": true,
         "text": [
          "8.70"
         ],
         "textposition": "outside",
         "type": "bar",
         "x": [
          8.7
         ],
         "xaxis": "x",
         "y": [
          ""
         ],
         "yaxis": "y"
        },
        {
         "marker": {
          "color": "#FFA15A"
         },
         "name": "aya-expanse-32b-abliterated",
         "orientation": "h",
         "showlegend": true,
         "text": [
          "8.12"
         ],
         "textposition": "outside",
         "type": "bar",
         "x": [
          8.12
         ],
         "xaxis": "x",
         "y": [
          ""
         ],
         "yaxis": "y"
        },
        {
         "marker": {
          "color": "#19d3f3"
         },
         "name": "shisa-v2-mistral-small-24b",
         "orientation": "h",
         "showlegend": true,
         "text": [
          "8.30"
         ],
         "textposition": "outside",
         "type": "bar",
         "x": [
          8.3
         ],
         "xaxis": "x",
         "y": [
          ""
         ],
         "yaxis": "y"
        },
        {
         "marker": {
          "color": "#636efa"
         },
         "name": "gpt-4o",
         "orientation": "h",
         "showlegend": false,
         "text": [
          "9.32"
         ],
         "textposition": "outside",
         "type": "bar",
         "x": [
          9.316666666666666
         ],
         "xaxis": "x2",
         "y": [
          ""
         ],
         "yaxis": "y2"
        },
        {
         "marker": {
          "color": "#EF553B"
         },
         "name": "qwen3-32b",
         "orientation": "h",
         "showlegend": false,
         "text": [
          "9.33"
         ],
         "textposition": "outside",
         "type": "bar",
         "x": [
          9.333333333333334
         ],
         "xaxis": "x2",
         "y": [
          ""
         ],
         "yaxis": "y2"
        },
        {
         "marker": {
          "color": "#00cc96"
         },
         "name": "mistral-small-3.2-24b-instruct-2506",
         "orientation": "h",
         "showlegend": false,
         "text": [
          "8.87"
         ],
         "textposition": "outside",
         "type": "bar",
         "x": [
          8.866666666666667
         ],
         "xaxis": "x2",
         "y": [
          ""
         ],
         "yaxis": "y2"
        },
        {
         "marker": {
          "color": "#ab63fa"
         },
         "name": "shisa-v2-qwen2.5-32b",
         "orientation": "h",
         "showlegend": false,
         "text": [
          "8.78"
         ],
         "textposition": "outside",
         "type": "bar",
         "x": [
          8.783333333333333
         ],
         "xaxis": "x2",
         "y": [
          ""
         ],
         "yaxis": "y2"
        },
        {
         "marker": {
          "color": "#FFA15A"
         },
         "name": "aya-expanse-32b-abliterated",
         "orientation": "h",
         "showlegend": false,
         "text": [
          "8.70"
         ],
         "textposition": "outside",
         "type": "bar",
         "x": [
          8.7
         ],
         "xaxis": "x2",
         "y": [
          ""
         ],
         "yaxis": "y2"
        },
        {
         "marker": {
          "color": "#19d3f3"
         },
         "name": "shisa-v2-mistral-small-24b",
         "orientation": "h",
         "showlegend": false,
         "text": [
          "7.93"
         ],
         "textposition": "outside",
         "type": "bar",
         "x": [
          7.933333333333334
         ],
         "xaxis": "x2",
         "y": [
          ""
         ],
         "yaxis": "y2"
        },
        {
         "marker": {
          "color": "#636efa"
         },
         "name": "gpt-4o",
         "orientation": "h",
         "showlegend": false,
         "text": [
          "9.90"
         ],
         "textposition": "outside",
         "type": "bar",
         "x": [
          9.9
         ],
         "xaxis": "x3",
         "y": [
          ""
         ],
         "yaxis": "y3"
        },
        {
         "marker": {
          "color": "#EF553B"
         },
         "name": "qwen3-32b",
         "orientation": "h",
         "showlegend": false,
         "text": [
          "8.75"
         ],
         "textposition": "outside",
         "type": "bar",
         "x": [
          8.75
         ],
         "xaxis": "x3",
         "y": [
          ""
         ],
         "yaxis": "y3"
        },
        {
         "marker": {
          "color": "#00cc96"
         },
         "name": "mistral-small-3.2-24b-instruct-2506",
         "orientation": "h",
         "showlegend": false,
         "text": [
          "9.45"
         ],
         "textposition": "outside",
         "type": "bar",
         "x": [
          9.45
         ],
         "xaxis": "x3",
         "y": [
          ""
         ],
         "yaxis": "y3"
        },
        {
         "marker": {
          "color": "#ab63fa"
         },
         "name": "shisa-v2-qwen2.5-32b",
         "orientation": "h",
         "showlegend": false,
         "text": [
          "9.12"
         ],
         "textposition": "outside",
         "type": "bar",
         "x": [
          9.125
         ],
         "xaxis": "x3",
         "y": [
          ""
         ],
         "yaxis": "y3"
        },
        {
         "marker": {
          "color": "#FFA15A"
         },
         "name": "aya-expanse-32b-abliterated",
         "orientation": "h",
         "showlegend": false,
         "text": [
          "8.88"
         ],
         "textposition": "outside",
         "type": "bar",
         "x": [
          8.875
         ],
         "xaxis": "x3",
         "y": [
          ""
         ],
         "yaxis": "y3"
        },
        {
         "marker": {
          "color": "#19d3f3"
         },
         "name": "shisa-v2-mistral-small-24b",
         "orientation": "h",
         "showlegend": false,
         "text": [
          "8.45"
         ],
         "textposition": "outside",
         "type": "bar",
         "x": [
          8.45
         ],
         "xaxis": "x3",
         "y": [
          ""
         ],
         "yaxis": "y3"
        },
        {
         "marker": {
          "color": "#636efa"
         },
         "name": "gpt-4o",
         "orientation": "h",
         "showlegend": false,
         "text": [
          "8.52"
         ],
         "textposition": "outside",
         "type": "bar",
         "x": [
          8.516666666666667
         ],
         "xaxis": "x4",
         "y": [
          ""
         ],
         "yaxis": "y4"
        },
        {
         "marker": {
          "color": "#EF553B"
         },
         "name": "qwen3-32b",
         "orientation": "h",
         "showlegend": false,
         "text": [
          "7.95"
         ],
         "textposition": "outside",
         "type": "bar",
         "x": [
          7.95
         ],
         "xaxis": "x4",
         "y": [
          ""
         ],
         "yaxis": "y4"
        },
        {
         "marker": {
          "color": "#00cc96"
         },
         "name": "mistral-small-3.2-24b-instruct-2506",
         "orientation": "h",
         "showlegend": false,
         "text": [
          "7.87"
         ],
         "textposition": "outside",
         "type": "bar",
         "x": [
          7.866666666666666
         ],
         "xaxis": "x4",
         "y": [
          ""
         ],
         "yaxis": "y4"
        },
        {
         "marker": {
          "color": "#ab63fa"
         },
         "name": "shisa-v2-qwen2.5-32b",
         "orientation": "h",
         "showlegend": false,
         "text": [
          "7.57"
         ],
         "textposition": "outside",
         "type": "bar",
         "x": [
          7.566666666666666
         ],
         "xaxis": "x4",
         "y": [
          ""
         ],
         "yaxis": "y4"
        },
        {
         "marker": {
          "color": "#FFA15A"
         },
         "name": "aya-expanse-32b-abliterated",
         "orientation": "h",
         "showlegend": false,
         "text": [
          "7.14"
         ],
         "textposition": "outside",
         "type": "bar",
         "x": [
          7.141666666666667
         ],
         "xaxis": "x4",
         "y": [
          ""
         ],
         "yaxis": "y4"
        },
        {
         "marker": {
          "color": "#19d3f3"
         },
         "name": "shisa-v2-mistral-small-24b",
         "orientation": "h",
         "showlegend": false,
         "text": [
          "7.68"
         ],
         "textposition": "outside",
         "type": "bar",
         "x": [
          7.683333333333334
         ],
         "xaxis": "x4",
         "y": [
          ""
         ],
         "yaxis": "y4"
        },
        {
         "marker": {
          "color": "#636efa"
         },
         "name": "gpt-4o",
         "orientation": "h",
         "showlegend": false,
         "text": [
          "9.24"
         ],
         "textposition": "outside",
         "type": "bar",
         "x": [
          9.238333333333333
         ],
         "xaxis": "x5",
         "y": [
          ""
         ],
         "yaxis": "y5"
        },
        {
         "marker": {
          "color": "#EF553B"
         },
         "name": "qwen3-32b",
         "orientation": "h",
         "showlegend": false,
         "text": [
          "8.74"
         ],
         "textposition": "outside",
         "type": "bar",
         "x": [
          8.738333333333333
         ],
         "xaxis": "x5",
         "y": [
          ""
         ],
         "yaxis": "y5"
        },
        {
         "marker": {
          "color": "#00cc96"
         },
         "name": "mistral-small-3.2-24b-instruct-2506",
         "orientation": "h",
         "showlegend": false,
         "text": [
          "8.62"
         ],
         "textposition": "outside",
         "type": "bar",
         "x": [
          8.620833333333334
         ],
         "xaxis": "x5",
         "y": [
          ""
         ],
         "yaxis": "y5"
        },
        {
         "marker": {
          "color": "#ab63fa"
         },
         "name": "shisa-v2-qwen2.5-32b",
         "orientation": "h",
         "showlegend": false,
         "text": [
          "8.54"
         ],
         "textposition": "outside",
         "type": "bar",
         "x": [
          8.54375
         ],
         "xaxis": "x5",
         "y": [
          ""
         ],
         "yaxis": "y5"
        },
        {
         "marker": {
          "color": "#FFA15A"
         },
         "name": "aya-expanse-32b-abliterated",
         "orientation": "h",
         "showlegend": false,
         "text": [
          "8.21"
         ],
         "textposition": "outside",
         "type": "bar",
         "x": [
          8.209166666666667
         ],
         "xaxis": "x5",
         "y": [
          ""
         ],
         "yaxis": "y5"
        },
        {
         "marker": {
          "color": "#19d3f3"
         },
         "name": "shisa-v2-mistral-small-24b",
         "orientation": "h",
         "showlegend": false,
         "text": [
          "8.09"
         ],
         "textposition": "outside",
         "type": "bar",
         "x": [
          8.091666666666667
         ],
         "xaxis": "x5",
         "y": [
          ""
         ],
         "yaxis": "y5"
        }
       ],
       "layout": {
        "annotations": [
         {
          "font": {
           "size": 16
          },
          "showarrow": false,
          "text": "ELYZA-tasks-100",
          "x": 0.2375,
          "xanchor": "center",
          "xref": "paper",
          "y": 1,
          "yanchor": "bottom",
          "yref": "paper"
         },
         {
          "font": {
           "size": 16
          },
          "showarrow": false,
          "text": "MT-Bench",
          "x": 0.7625,
          "xanchor": "center",
          "xref": "paper",
          "y": 1,
          "yanchor": "bottom",
          "yref": "paper"
         },
         {
          "font": {
           "size": 16
          },
          "showarrow": false,
          "text": "Rakuda",
          "x": 0.2375,
          "xanchor": "center",
          "xref": "paper",
          "y": 0.6466666666666667,
          "yanchor": "bottom",
          "yref": "paper"
         },
         {
          "font": {
           "size": 16
          },
          "showarrow": false,
          "text": "Tengu-Bench",
          "x": 0.7625,
          "xanchor": "center",
          "xref": "paper",
          "y": 0.6466666666666667,
          "yanchor": "bottom",
          "yref": "paper"
         },
         {
          "font": {
           "size": 16
          },
          "showarrow": false,
          "text": "Average",
          "x": 0.2375,
          "xanchor": "center",
          "xref": "paper",
          "y": 0.29333333333333333,
          "yanchor": "bottom",
          "yref": "paper"
         }
        ],
        "barmode": "group",
        "font": {
         "family": "Arial, sans-serif",
         "size": 12
        },
        "height": 1200,
        "legend": {
         "title": {
          "text": "Model"
         }
        },
        "showlegend": true,
        "template": {
         "data": {
          "bar": [
           {
            "error_x": {
             "color": "#2a3f5f"
            },
            "error_y": {
             "color": "#2a3f5f"
            },
            "marker": {
             "line": {
              "color": "white",
              "width": 0.5
             },
             "pattern": {
              "fillmode": "overlay",
              "size": 10,
              "solidity": 0.2
             }
            },
            "type": "bar"
           }
          ],
          "barpolar": [
           {
            "marker": {
             "line": {
              "color": "white",
              "width": 0.5
             },
             "pattern": {
              "fillmode": "overlay",
              "size": 10,
              "solidity": 0.2
             }
            },
            "type": "barpolar"
           }
          ],
          "carpet": [
           {
            "aaxis": {
             "endlinecolor": "#2a3f5f",
             "gridcolor": "#C8D4E3",
             "linecolor": "#C8D4E3",
             "minorgridcolor": "#C8D4E3",
             "startlinecolor": "#2a3f5f"
            },
            "baxis": {
             "endlinecolor": "#2a3f5f",
             "gridcolor": "#C8D4E3",
             "linecolor": "#C8D4E3",
             "minorgridcolor": "#C8D4E3",
             "startlinecolor": "#2a3f5f"
            },
            "type": "carpet"
           }
          ],
          "choropleth": [
           {
            "colorbar": {
             "outlinewidth": 0,
             "ticks": ""
            },
            "type": "choropleth"
           }
          ],
          "contour": [
           {
            "colorbar": {
             "outlinewidth": 0,
             "ticks": ""
            },
            "colorscale": [
             [
              0,
              "#0d0887"
             ],
             [
              0.1111111111111111,
              "#46039f"
             ],
             [
              0.2222222222222222,
              "#7201a8"
             ],
             [
              0.3333333333333333,
              "#9c179e"
             ],
             [
              0.4444444444444444,
              "#bd3786"
             ],
             [
              0.5555555555555556,
              "#d8576b"
             ],
             [
              0.6666666666666666,
              "#ed7953"
             ],
             [
              0.7777777777777778,
              "#fb9f3a"
             ],
             [
              0.8888888888888888,
              "#fdca26"
             ],
             [
              1,
              "#f0f921"
             ]
            ],
            "type": "contour"
           }
          ],
          "contourcarpet": [
           {
            "colorbar": {
             "outlinewidth": 0,
             "ticks": ""
            },
            "type": "contourcarpet"
           }
          ],
          "heatmap": [
           {
            "colorbar": {
             "outlinewidth": 0,
             "ticks": ""
            },
            "colorscale": [
             [
              0,
              "#0d0887"
             ],
             [
              0.1111111111111111,
              "#46039f"
             ],
             [
              0.2222222222222222,
              "#7201a8"
             ],
             [
              0.3333333333333333,
              "#9c179e"
             ],
             [
              0.4444444444444444,
              "#bd3786"
             ],
             [
              0.5555555555555556,
              "#d8576b"
             ],
             [
              0.6666666666666666,
              "#ed7953"
             ],
             [
              0.7777777777777778,
              "#fb9f3a"
             ],
             [
              0.8888888888888888,
              "#fdca26"
             ],
             [
              1,
              "#f0f921"
             ]
            ],
            "type": "heatmap"
           }
          ],
          "histogram": [
           {
            "marker": {
             "pattern": {
              "fillmode": "overlay",
              "size": 10,
              "solidity": 0.2
             }
            },
            "type": "histogram"
           }
          ],
          "histogram2d": [
           {
            "colorbar": {
             "outlinewidth": 0,
             "ticks": ""
            },
            "colorscale": [
             [
              0,
              "#0d0887"
             ],
             [
              0.1111111111111111,
              "#46039f"
             ],
             [
              0.2222222222222222,
              "#7201a8"
             ],
             [
              0.3333333333333333,
              "#9c179e"
             ],
             [
              0.4444444444444444,
              "#bd3786"
             ],
             [
              0.5555555555555556,
              "#d8576b"
             ],
             [
              0.6666666666666666,
              "#ed7953"
             ],
             [
              0.7777777777777778,
              "#fb9f3a"
             ],
             [
              0.8888888888888888,
              "#fdca26"
             ],
             [
              1,
              "#f0f921"
             ]
            ],
            "type": "histogram2d"
           }
          ],
          "histogram2dcontour": [
           {
            "colorbar": {
             "outlinewidth": 0,
             "ticks": ""
            },
            "colorscale": [
             [
              0,
              "#0d0887"
             ],
             [
              0.1111111111111111,
              "#46039f"
             ],
             [
              0.2222222222222222,
              "#7201a8"
             ],
             [
              0.3333333333333333,
              "#9c179e"
             ],
             [
              0.4444444444444444,
              "#bd3786"
             ],
             [
              0.5555555555555556,
              "#d8576b"
             ],
             [
              0.6666666666666666,
              "#ed7953"
             ],
             [
              0.7777777777777778,
              "#fb9f3a"
             ],
             [
              0.8888888888888888,
              "#fdca26"
             ],
             [
              1,
              "#f0f921"
             ]
            ],
            "type": "histogram2dcontour"
           }
          ],
          "mesh3d": [
           {
            "colorbar": {
             "outlinewidth": 0,
             "ticks": ""
            },
            "type": "mesh3d"
           }
          ],
          "parcoords": [
           {
            "line": {
             "colorbar": {
              "outlinewidth": 0,
              "ticks": ""
             }
            },
            "type": "parcoords"
           }
          ],
          "pie": [
           {
            "automargin": true,
            "type": "pie"
           }
          ],
          "scatter": [
           {
            "fillpattern": {
             "fillmode": "overlay",
             "size": 10,
             "solidity": 0.2
            },
            "type": "scatter"
           }
          ],
          "scatter3d": [
           {
            "line": {
             "colorbar": {
              "outlinewidth": 0,
              "ticks": ""
             }
            },
            "marker": {
             "colorbar": {
              "outlinewidth": 0,
              "ticks": ""
             }
            },
            "type": "scatter3d"
           }
          ],
          "scattercarpet": [
           {
            "marker": {
             "colorbar": {
              "outlinewidth": 0,
              "ticks": ""
             }
            },
            "type": "scattercarpet"
           }
          ],
          "scattergeo": [
           {
            "marker": {
             "colorbar": {
              "outlinewidth": 0,
              "ticks": ""
             }
            },
            "type": "scattergeo"
           }
          ],
          "scattergl": [
           {
            "marker": {
             "colorbar": {
              "outlinewidth": 0,
              "ticks": ""
             }
            },
            "type": "scattergl"
           }
          ],
          "scattermap": [
           {
            "marker": {
             "colorbar": {
              "outlinewidth": 0,
              "ticks": ""
             }
            },
            "type": "scattermap"
           }
          ],
          "scattermapbox": [
           {
            "marker": {
             "colorbar": {
              "outlinewidth": 0,
              "ticks": ""
             }
            },
            "type": "scattermapbox"
           }
          ],
          "scatterpolar": [
           {
            "marker": {
             "colorbar": {
              "outlinewidth": 0,
              "ticks": ""
             }
            },
            "type": "scatterpolar"
           }
          ],
          "scatterpolargl": [
           {
            "marker": {
             "colorbar": {
              "outlinewidth": 0,
              "ticks": ""
             }
            },
            "type": "scatterpolargl"
           }
          ],
          "scatterternary": [
           {
            "marker": {
             "colorbar": {
              "outlinewidth": 0,
              "ticks": ""
             }
            },
            "type": "scatterternary"
           }
          ],
          "surface": [
           {
            "colorbar": {
             "outlinewidth": 0,
             "ticks": ""
            },
            "colorscale": [
             [
              0,
              "#0d0887"
             ],
             [
              0.1111111111111111,
              "#46039f"
             ],
             [
              0.2222222222222222,
              "#7201a8"
             ],
             [
              0.3333333333333333,
              "#9c179e"
             ],
             [
              0.4444444444444444,
              "#bd3786"
             ],
             [
              0.5555555555555556,
              "#d8576b"
             ],
             [
              0.6666666666666666,
              "#ed7953"
             ],
             [
              0.7777777777777778,
              "#fb9f3a"
             ],
             [
              0.8888888888888888,
              "#fdca26"
             ],
             [
              1,
              "#f0f921"
             ]
            ],
            "type": "surface"
           }
          ],
          "table": [
           {
            "cells": {
             "fill": {
              "color": "#EBF0F8"
             },
             "line": {
              "color": "white"
             }
            },
            "header": {
             "fill": {
              "color": "#C8D4E3"
             },
             "line": {
              "color": "white"
             }
            },
            "type": "table"
           }
          ]
         },
         "layout": {
          "annotationdefaults": {
           "arrowcolor": "#2a3f5f",
           "arrowhead": 0,
           "arrowwidth": 1
          },
          "autotypenumbers": "strict",
          "coloraxis": {
           "colorbar": {
            "outlinewidth": 0,
            "ticks": ""
           }
          },
          "colorscale": {
           "diverging": [
            [
             0,
             "#8e0152"
            ],
            [
             0.1,
             "#c51b7d"
            ],
            [
             0.2,
             "#de77ae"
            ],
            [
             0.3,
             "#f1b6da"
            ],
            [
             0.4,
             "#fde0ef"
            ],
            [
             0.5,
             "#f7f7f7"
            ],
            [
             0.6,
             "#e6f5d0"
            ],
            [
             0.7,
             "#b8e186"
            ],
            [
             0.8,
             "#7fbc41"
            ],
            [
             0.9,
             "#4d9221"
            ],
            [
             1,
             "#276419"
            ]
           ],
           "sequential": [
            [
             0,
             "#0d0887"
            ],
            [
             0.1111111111111111,
             "#46039f"
            ],
            [
             0.2222222222222222,
             "#7201a8"
            ],
            [
             0.3333333333333333,
             "#9c179e"
            ],
            [
             0.4444444444444444,
             "#bd3786"
            ],
            [
             0.5555555555555556,
             "#d8576b"
            ],
            [
             0.6666666666666666,
             "#ed7953"
            ],
            [
             0.7777777777777778,
             "#fb9f3a"
            ],
            [
             0.8888888888888888,
             "#fdca26"
            ],
            [
             1,
             "#f0f921"
            ]
           ],
           "sequentialminus": [
            [
             0,
             "#0d0887"
            ],
            [
             0.1111111111111111,
             "#46039f"
            ],
            [
             0.2222222222222222,
             "#7201a8"
            ],
            [
             0.3333333333333333,
             "#9c179e"
            ],
            [
             0.4444444444444444,
             "#bd3786"
            ],
            [
             0.5555555555555556,
             "#d8576b"
            ],
            [
             0.6666666666666666,
             "#ed7953"
            ],
            [
             0.7777777777777778,
             "#fb9f3a"
            ],
            [
             0.8888888888888888,
             "#fdca26"
            ],
            [
             1,
             "#f0f921"
            ]
           ]
          },
          "colorway": [
           "#636efa",
           "#EF553B",
           "#00cc96",
           "#ab63fa",
           "#FFA15A",
           "#19d3f3",
           "#FF6692",
           "#B6E880",
           "#FF97FF",
           "#FECB52"
          ],
          "font": {
           "color": "#2a3f5f"
          },
          "geo": {
           "bgcolor": "white",
           "lakecolor": "white",
           "landcolor": "white",
           "showlakes": true,
           "showland": true,
           "subunitcolor": "#C8D4E3"
          },
          "hoverlabel": {
           "align": "left"
          },
          "hovermode": "closest",
          "mapbox": {
           "style": "light"
          },
          "paper_bgcolor": "white",
          "plot_bgcolor": "white",
          "polar": {
           "angularaxis": {
            "gridcolor": "#EBF0F8",
            "linecolor": "#EBF0F8",
            "ticks": ""
           },
           "bgcolor": "white",
           "radialaxis": {
            "gridcolor": "#EBF0F8",
            "linecolor": "#EBF0F8",
            "ticks": ""
           }
          },
          "scene": {
           "xaxis": {
            "backgroundcolor": "white",
            "gridcolor": "#DFE8F3",
            "gridwidth": 2,
            "linecolor": "#EBF0F8",
            "showbackground": true,
            "ticks": "",
            "zerolinecolor": "#EBF0F8"
           },
           "yaxis": {
            "backgroundcolor": "white",
            "gridcolor": "#DFE8F3",
            "gridwidth": 2,
            "linecolor": "#EBF0F8",
            "showbackground": true,
            "ticks": "",
            "zerolinecolor": "#EBF0F8"
           },
           "zaxis": {
            "backgroundcolor": "white",
            "gridcolor": "#DFE8F3",
            "gridwidth": 2,
            "linecolor": "#EBF0F8",
            "showbackground": true,
            "ticks": "",
            "zerolinecolor": "#EBF0F8"
           }
          },
          "shapedefaults": {
           "line": {
            "color": "#2a3f5f"
           }
          },
          "ternary": {
           "aaxis": {
            "gridcolor": "#DFE8F3",
            "linecolor": "#A2B1C6",
            "ticks": ""
           },
           "baxis": {
            "gridcolor": "#DFE8F3",
            "linecolor": "#A2B1C6",
            "ticks": ""
           },
           "bgcolor": "white",
           "caxis": {
            "gridcolor": "#DFE8F3",
            "linecolor": "#A2B1C6",
            "ticks": ""
           }
          },
          "title": {
           "x": 0.05
          },
          "xaxis": {
           "automargin": true,
           "gridcolor": "#EBF0F8",
           "linecolor": "#EBF0F8",
           "ticks": "",
           "title": {
            "standoff": 15
           },
           "zerolinecolor": "#EBF0F8",
           "zerolinewidth": 2
          },
          "yaxis": {
           "automargin": true,
           "gridcolor": "#EBF0F8",
           "linecolor": "#EBF0F8",
           "ticks": "",
           "title": {
            "standoff": 15
           },
           "zerolinecolor": "#EBF0F8",
           "zerolinewidth": 2
          }
         }
        },
        "title": {
         "text": "Comparison of Model Scores Across Benchmarks (with Average)\n(Judge Model: gpt-4.1)",
         "x": 0.5
        },
        "width": 1600,
        "xaxis": {
         "anchor": "y",
         "domain": [
          0,
          0.475
         ],
         "range": [
          0,
          10.5
         ]
        },
        "xaxis2": {
         "anchor": "y2",
         "domain": [
          0.525,
          1
         ],
         "range": [
          0,
          10.5
         ]
        },
        "xaxis3": {
         "anchor": "y3",
         "domain": [
          0,
          0.475
         ],
         "range": [
          0,
          10.5
         ]
        },
        "xaxis4": {
         "anchor": "y4",
         "domain": [
          0.525,
          1
         ],
         "range": [
          0,
          10.5
         ]
        },
        "xaxis5": {
         "anchor": "y5",
         "domain": [
          0,
          0.475
         ],
         "range": [
          0,
          10.5
         ]
        },
        "xaxis6": {
         "anchor": "y6",
         "domain": [
          0.525,
          1
         ]
        },
        "yaxis": {
         "anchor": "x",
         "autorange": "reversed",
         "domain": [
          0.7066666666666667,
          1
         ],
         "showticklabels": false
        },
        "yaxis2": {
         "anchor": "x2",
         "autorange": "reversed",
         "domain": [
          0.7066666666666667,
          1
         ],
         "showticklabels": false
        },
        "yaxis3": {
         "anchor": "x3",
         "autorange": "reversed",
         "domain": [
          0.35333333333333333,
          0.6466666666666667
         ],
         "showticklabels": false
        },
        "yaxis4": {
         "anchor": "x4",
         "autorange": "reversed",
         "domain": [
          0.35333333333333333,
          0.6466666666666667
         ],
         "showticklabels": false
        },
        "yaxis5": {
         "anchor": "x5",
         "autorange": "reversed",
         "domain": [
          0,
          0.29333333333333333
         ],
         "showticklabels": false
        },
        "yaxis6": {
         "anchor": "x6",
         "domain": [
          0,
          0.29333333333333333
         ]
        }
       }
      }
     },
     "metadata": {},
     "output_type": "display_data"
    }
   ],
   "source": [
    "import plotly.graph_objects as go\n",
    "from plotly.subplots import make_subplots\n",
    "import pandas as pd\n",
    "\n",
    "# Loop over all unique judge models and plot a 3x2 grid of horizontal bar graphs for each\n",
    "for judge_model in all_result_df['judge_model'].unique():\n",
    "    df_judge = all_result_df[all_result_df['judge_model'] == judge_model]\n",
    "    mean_df_judge = df_judge.groupby([\n",
    "        \"model_name\", \"eval_dataset\"\n",
    "    ]).score.mean().reset_index()\n",
    "    mean_df_judge['score_'] = mean_df_judge.apply(lambda x: x.score*2 if x.eval_dataset==\"ELYZA-tasks-100\" else x.score, axis=1)\n",
    "    \n",
    "    # Compute universal model order (best to worst overall)\n",
    "    model_overall_scores = mean_df_judge.groupby('model_name')['score_'].mean().sort_values(ascending=False)\n",
    "    model_order = model_overall_scores.index.tolist()\n",
    "    color_sequence = go.Figure().layout.template.layout.colorway or [\"#636EFA\", \"#EF553B\", \"#00CC96\", \"#AB63FA\", \"#FFA15A\", \"#19D3F3\", \"#FF6692\", \"#B6E880\", \"#FF97FF\", \"#FECB52\"]\n",
    "    color_map = {model: color_sequence[j % len(color_sequence)] for j, model in enumerate(model_order)}\n",
    "\n",
    "    # Dynamically get all benchmarks present in the data\n",
    "    benchmarks = mean_df_judge['eval_dataset'].unique()\n",
    "    n_bench = len(benchmarks)\n",
    "    if n_bench == 0:\n",
    "        continue\n",
    "    # Calculate average for each model\n",
    "    avg_scores = mean_df_judge.groupby('model_name')['score_'].mean().reindex(model_order)\n",
    "    # Set up 3x2 grid: first cell in 3rd row is average, others are benchmarks\n",
    "    n_rows, n_cols = 3, 2\n",
    "    subplot_titles = list(benchmarks)[:5]  # up to 5 benchmarks\n",
    "    subplot_titles.insert(4, \"Average\")  # 5th cell (row 3, col 1) is Average\n",
    "    while len(subplot_titles) < 6:\n",
    "        subplot_titles.append(\"\")\n",
    "    fig = make_subplots(rows=n_rows, cols=n_cols, subplot_titles=subplot_titles, vertical_spacing=0.06, horizontal_spacing=0.05)\n",
    "    bench_idx = 0\n",
    "    for i in range(6):\n",
    "        row = i // n_cols + 1\n",
    "        col = i % n_cols + 1\n",
    "        if i == 4:\n",
    "            # Average bar (row 3, col 1)\n",
    "            for j, model in enumerate(model_order):\n",
    "                score = avg_scores.get(model, float('nan'))\n",
    "                fig.add_trace(\n",
    "                    go.Bar(\n",
    "                        y=[\"\"],\n",
    "                        x=[score],\n",
    "                        name=model,\n",
    "                        marker_color=color_map[model],\n",
    "                        text=[f\"{score:.2f}\" if pd.notnull(score) else \"\"],\n",
    "                        textposition='outside',\n",
    "                        orientation='h',\n",
    "                        showlegend=(i == 0),\n",
    "                    ),\n",
    "                    row=row, col=col\n",
    "                )\n",
    "            fig.update_xaxes(range=[0, 10.5], row=row, col=col)\n",
    "            fig.update_yaxes(showticklabels=False, autorange='reversed', row=row, col=col)\n",
    "        elif bench_idx < n_bench:\n",
    "            benchmark = benchmarks[bench_idx]\n",
    "            df_bench = mean_df_judge[mean_df_judge['eval_dataset'] == benchmark].set_index('model_name')\n",
    "            for j, model in enumerate(model_order):\n",
    "                score = df_bench['score_'].get(model, float('nan'))\n",
    "                fig.add_trace(\n",
    "                    go.Bar(\n",
    "                        y=[\"\"],\n",
    "                        x=[score],\n",
    "                        name=model,\n",
    "                        marker_color=color_map[model],\n",
    "                        text=[f\"{score:.2f}\" if pd.notnull(score) else \"\"],\n",
    "                        textposition='outside',\n",
    "                        orientation='h',\n",
    "                        showlegend=(i == 0),\n",
    "                    ),\n",
    "                    row=row, col=col\n",
    "                )\n",
    "            fig.update_xaxes(range=[0, 10.5], row=row, col=col)\n",
    "            fig.update_yaxes(showticklabels=False, autorange='reversed', row=row, col=col)\n",
    "            bench_idx += 1\n",
    "    fig.update_layout(\n",
    "        height=1200,\n",
    "        width=1600,\n",
    "        title_text=f\"Comparison of Model Scores Across Benchmarks (with Average)\\n(Judge Model: {judge_model.replace('judge_', '')})\",\n",
    "        title_x=0.5,\n",
    "        template='plotly_white',\n",
    "        font=dict(family=\"Arial, sans-serif\", size=12),\n",
    "        barmode='group',\n",
    "        legend_title_text='Model',\n",
    "        showlegend=True\n",
    "    )\n",
    "    fig.show()"
   ]
  },
  {
   "cell_type": "code",
   "execution_count": 204,
   "id": "98b3c2ee",
   "metadata": {},
   "outputs": [
    {
     "data": {
      "application/vnd.plotly.v1+json": {
       "config": {
        "plotlyServerURL": "https://plot.ly"
       },
       "data": [
        {
         "marker": {
          "color": "#636efa"
         },
         "name": "gpt-4o",
         "showlegend": true,
         "text": [
          "9.22"
         ],
         "textposition": "outside",
         "type": "bar",
         "x": [
          "ELYZA-tasks-100"
         ],
         "xaxis": "x",
         "y": [
          9.22
         ],
         "yaxis": "y"
        },
        {
         "marker": {
          "color": "#EF553B"
         },
         "name": "qwen3-32b",
         "showlegend": true,
         "text": [
          "8.92"
         ],
         "textposition": "outside",
         "type": "bar",
         "x": [
          "ELYZA-tasks-100"
         ],
         "xaxis": "x",
         "y": [
          8.92
         ],
         "yaxis": "y"
        },
        {
         "marker": {
          "color": "#00cc96"
         },
         "name": "mistral-small-3.2-24b-instruct-2506",
         "showlegend": true,
         "text": [
          "8.30"
         ],
         "textposition": "outside",
         "type": "bar",
         "x": [
          "ELYZA-tasks-100"
         ],
         "xaxis": "x",
         "y": [
          8.3
         ],
         "yaxis": "y"
        },
        {
         "marker": {
          "color": "#ab63fa"
         },
         "name": "shisa-v2-qwen2.5-32b",
         "showlegend": true,
         "text": [
          "8.70"
         ],
         "textposition": "outside",
         "type": "bar",
         "x": [
          "ELYZA-tasks-100"
         ],
         "xaxis": "x",
         "y": [
          8.7
         ],
         "yaxis": "y"
        },
        {
         "marker": {
          "color": "#FFA15A"
         },
         "name": "aya-expanse-32b-abliterated",
         "showlegend": true,
         "text": [
          "8.12"
         ],
         "textposition": "outside",
         "type": "bar",
         "x": [
          "ELYZA-tasks-100"
         ],
         "xaxis": "x",
         "y": [
          8.12
         ],
         "yaxis": "y"
        },
        {
         "marker": {
          "color": "#19d3f3"
         },
         "name": "shisa-v2-mistral-small-24b",
         "showlegend": true,
         "text": [
          "8.30"
         ],
         "textposition": "outside",
         "type": "bar",
         "x": [
          "ELYZA-tasks-100"
         ],
         "xaxis": "x",
         "y": [
          8.3
         ],
         "yaxis": "y"
        },
        {
         "marker": {
          "color": "#636efa"
         },
         "name": "gpt-4o",
         "showlegend": false,
         "text": [
          "9.32"
         ],
         "textposition": "outside",
         "type": "bar",
         "x": [
          "MT-Bench"
         ],
         "xaxis": "x2",
         "y": [
          9.316666666666666
         ],
         "yaxis": "y2"
        },
        {
         "marker": {
          "color": "#EF553B"
         },
         "name": "qwen3-32b",
         "showlegend": false,
         "text": [
          "9.33"
         ],
         "textposition": "outside",
         "type": "bar",
         "x": [
          "MT-Bench"
         ],
         "xaxis": "x2",
         "y": [
          9.333333333333334
         ],
         "yaxis": "y2"
        },
        {
         "marker": {
          "color": "#00cc96"
         },
         "name": "mistral-small-3.2-24b-instruct-2506",
         "showlegend": false,
         "text": [
          "8.87"
         ],
         "textposition": "outside",
         "type": "bar",
         "x": [
          "MT-Bench"
         ],
         "xaxis": "x2",
         "y": [
          8.866666666666667
         ],
         "yaxis": "y2"
        },
        {
         "marker": {
          "color": "#ab63fa"
         },
         "name": "shisa-v2-qwen2.5-32b",
         "showlegend": false,
         "text": [
          "8.78"
         ],
         "textposition": "outside",
         "type": "bar",
         "x": [
          "MT-Bench"
         ],
         "xaxis": "x2",
         "y": [
          8.783333333333333
         ],
         "yaxis": "y2"
        },
        {
         "marker": {
          "color": "#FFA15A"
         },
         "name": "aya-expanse-32b-abliterated",
         "showlegend": false,
         "text": [
          "8.70"
         ],
         "textposition": "outside",
         "type": "bar",
         "x": [
          "MT-Bench"
         ],
         "xaxis": "x2",
         "y": [
          8.7
         ],
         "yaxis": "y2"
        },
        {
         "marker": {
          "color": "#19d3f3"
         },
         "name": "shisa-v2-mistral-small-24b",
         "showlegend": false,
         "text": [
          "7.93"
         ],
         "textposition": "outside",
         "type": "bar",
         "x": [
          "MT-Bench"
         ],
         "xaxis": "x2",
         "y": [
          7.933333333333334
         ],
         "yaxis": "y2"
        },
        {
         "marker": {
          "color": "#636efa"
         },
         "name": "gpt-4o",
         "showlegend": false,
         "text": [
          "9.90"
         ],
         "textposition": "outside",
         "type": "bar",
         "x": [
          "Rakuda"
         ],
         "xaxis": "x3",
         "y": [
          9.9
         ],
         "yaxis": "y3"
        },
        {
         "marker": {
          "color": "#EF553B"
         },
         "name": "qwen3-32b",
         "showlegend": false,
         "text": [
          "8.75"
         ],
         "textposition": "outside",
         "type": "bar",
         "x": [
          "Rakuda"
         ],
         "xaxis": "x3",
         "y": [
          8.75
         ],
         "yaxis": "y3"
        },
        {
         "marker": {
          "color": "#00cc96"
         },
         "name": "mistral-small-3.2-24b-instruct-2506",
         "showlegend": false,
         "text": [
          "9.45"
         ],
         "textposition": "outside",
         "type": "bar",
         "x": [
          "Rakuda"
         ],
         "xaxis": "x3",
         "y": [
          9.45
         ],
         "yaxis": "y3"
        },
        {
         "marker": {
          "color": "#ab63fa"
         },
         "name": "shisa-v2-qwen2.5-32b",
         "showlegend": false,
         "text": [
          "9.12"
         ],
         "textposition": "outside",
         "type": "bar",
         "x": [
          "Rakuda"
         ],
         "xaxis": "x3",
         "y": [
          9.125
         ],
         "yaxis": "y3"
        },
        {
         "marker": {
          "color": "#FFA15A"
         },
         "name": "aya-expanse-32b-abliterated",
         "showlegend": false,
         "text": [
          "8.88"
         ],
         "textposition": "outside",
         "type": "bar",
         "x": [
          "Rakuda"
         ],
         "xaxis": "x3",
         "y": [
          8.875
         ],
         "yaxis": "y3"
        },
        {
         "marker": {
          "color": "#19d3f3"
         },
         "name": "shisa-v2-mistral-small-24b",
         "showlegend": false,
         "text": [
          "8.45"
         ],
         "textposition": "outside",
         "type": "bar",
         "x": [
          "Rakuda"
         ],
         "xaxis": "x3",
         "y": [
          8.45
         ],
         "yaxis": "y3"
        },
        {
         "marker": {
          "color": "#636efa"
         },
         "name": "gpt-4o",
         "showlegend": false,
         "text": [
          "8.52"
         ],
         "textposition": "outside",
         "type": "bar",
         "x": [
          "Tengu-Bench"
         ],
         "xaxis": "x4",
         "y": [
          8.516666666666667
         ],
         "yaxis": "y4"
        },
        {
         "marker": {
          "color": "#EF553B"
         },
         "name": "qwen3-32b",
         "showlegend": false,
         "text": [
          "7.95"
         ],
         "textposition": "outside",
         "type": "bar",
         "x": [
          "Tengu-Bench"
         ],
         "xaxis": "x4",
         "y": [
          7.95
         ],
         "yaxis": "y4"
        },
        {
         "marker": {
          "color": "#00cc96"
         },
         "name": "mistral-small-3.2-24b-instruct-2506",
         "showlegend": false,
         "text": [
          "7.87"
         ],
         "textposition": "outside",
         "type": "bar",
         "x": [
          "Tengu-Bench"
         ],
         "xaxis": "x4",
         "y": [
          7.866666666666666
         ],
         "yaxis": "y4"
        },
        {
         "marker": {
          "color": "#ab63fa"
         },
         "name": "shisa-v2-qwen2.5-32b",
         "showlegend": false,
         "text": [
          "7.57"
         ],
         "textposition": "outside",
         "type": "bar",
         "x": [
          "Tengu-Bench"
         ],
         "xaxis": "x4",
         "y": [
          7.566666666666666
         ],
         "yaxis": "y4"
        },
        {
         "marker": {
          "color": "#FFA15A"
         },
         "name": "aya-expanse-32b-abliterated",
         "showlegend": false,
         "text": [
          "7.14"
         ],
         "textposition": "outside",
         "type": "bar",
         "x": [
          "Tengu-Bench"
         ],
         "xaxis": "x4",
         "y": [
          7.141666666666667
         ],
         "yaxis": "y4"
        },
        {
         "marker": {
          "color": "#19d3f3"
         },
         "name": "shisa-v2-mistral-small-24b",
         "showlegend": false,
         "text": [
          "7.68"
         ],
         "textposition": "outside",
         "type": "bar",
         "x": [
          "Tengu-Bench"
         ],
         "xaxis": "x4",
         "y": [
          7.683333333333334
         ],
         "yaxis": "y4"
        },
        {
         "marker": {
          "color": "#636efa"
         },
         "name": "gpt-4o",
         "showlegend": false,
         "text": [
          "9.24"
         ],
         "textposition": "outside",
         "type": "bar",
         "x": [
          "Average"
         ],
         "xaxis": "x5",
         "y": [
          9.238333333333333
         ],
         "yaxis": "y5"
        },
        {
         "marker": {
          "color": "#EF553B"
         },
         "name": "qwen3-32b",
         "showlegend": false,
         "text": [
          "8.74"
         ],
         "textposition": "outside",
         "type": "bar",
         "x": [
          "Average"
         ],
         "xaxis": "x5",
         "y": [
          8.738333333333333
         ],
         "yaxis": "y5"
        },
        {
         "marker": {
          "color": "#00cc96"
         },
         "name": "mistral-small-3.2-24b-instruct-2506",
         "showlegend": false,
         "text": [
          "8.62"
         ],
         "textposition": "outside",
         "type": "bar",
         "x": [
          "Average"
         ],
         "xaxis": "x5",
         "y": [
          8.620833333333334
         ],
         "yaxis": "y5"
        },
        {
         "marker": {
          "color": "#ab63fa"
         },
         "name": "shisa-v2-qwen2.5-32b",
         "showlegend": false,
         "text": [
          "8.54"
         ],
         "textposition": "outside",
         "type": "bar",
         "x": [
          "Average"
         ],
         "xaxis": "x5",
         "y": [
          8.54375
         ],
         "yaxis": "y5"
        },
        {
         "marker": {
          "color": "#FFA15A"
         },
         "name": "aya-expanse-32b-abliterated",
         "showlegend": false,
         "text": [
          "8.21"
         ],
         "textposition": "outside",
         "type": "bar",
         "x": [
          "Average"
         ],
         "xaxis": "x5",
         "y": [
          8.209166666666667
         ],
         "yaxis": "y5"
        },
        {
         "marker": {
          "color": "#19d3f3"
         },
         "name": "shisa-v2-mistral-small-24b",
         "showlegend": false,
         "text": [
          "8.09"
         ],
         "textposition": "outside",
         "type": "bar",
         "x": [
          "Average"
         ],
         "xaxis": "x5",
         "y": [
          8.091666666666667
         ],
         "yaxis": "y5"
        }
       ],
       "layout": {
        "annotations": [
         {
          "font": {
           "size": 16
          },
          "showarrow": false,
          "text": "ELYZA-tasks-100",
          "x": 0.2375,
          "xanchor": "center",
          "xref": "paper",
          "y": 1,
          "yanchor": "bottom",
          "yref": "paper"
         },
         {
          "font": {
           "size": 16
          },
          "showarrow": false,
          "text": "MT-Bench",
          "x": 0.7625,
          "xanchor": "center",
          "xref": "paper",
          "y": 1,
          "yanchor": "bottom",
          "yref": "paper"
         },
         {
          "font": {
           "size": 16
          },
          "showarrow": false,
          "text": "Rakuda",
          "x": 0.2375,
          "xanchor": "center",
          "xref": "paper",
          "y": 0.6399999999999999,
          "yanchor": "bottom",
          "yref": "paper"
         },
         {
          "font": {
           "size": 16
          },
          "showarrow": false,
          "text": "Tengu-Bench",
          "x": 0.7625,
          "xanchor": "center",
          "xref": "paper",
          "y": 0.6399999999999999,
          "yanchor": "bottom",
          "yref": "paper"
         },
         {
          "font": {
           "size": 16
          },
          "showarrow": false,
          "text": "Average",
          "x": 0.2375,
          "xanchor": "center",
          "xref": "paper",
          "y": 0.27999999999999997,
          "yanchor": "bottom",
          "yref": "paper"
         }
        ],
        "barmode": "group",
        "font": {
         "family": "Arial, sans-serif",
         "size": 12
        },
        "height": 1200,
        "legend": {
         "title": {
          "text": "Model"
         }
        },
        "template": {
         "data": {
          "bar": [
           {
            "error_x": {
             "color": "#2a3f5f"
            },
            "error_y": {
             "color": "#2a3f5f"
            },
            "marker": {
             "line": {
              "color": "white",
              "width": 0.5
             },
             "pattern": {
              "fillmode": "overlay",
              "size": 10,
              "solidity": 0.2
             }
            },
            "type": "bar"
           }
          ],
          "barpolar": [
           {
            "marker": {
             "line": {
              "color": "white",
              "width": 0.5
             },
             "pattern": {
              "fillmode": "overlay",
              "size": 10,
              "solidity": 0.2
             }
            },
            "type": "barpolar"
           }
          ],
          "carpet": [
           {
            "aaxis": {
             "endlinecolor": "#2a3f5f",
             "gridcolor": "#C8D4E3",
             "linecolor": "#C8D4E3",
             "minorgridcolor": "#C8D4E3",
             "startlinecolor": "#2a3f5f"
            },
            "baxis": {
             "endlinecolor": "#2a3f5f",
             "gridcolor": "#C8D4E3",
             "linecolor": "#C8D4E3",
             "minorgridcolor": "#C8D4E3",
             "startlinecolor": "#2a3f5f"
            },
            "type": "carpet"
           }
          ],
          "choropleth": [
           {
            "colorbar": {
             "outlinewidth": 0,
             "ticks": ""
            },
            "type": "choropleth"
           }
          ],
          "contour": [
           {
            "colorbar": {
             "outlinewidth": 0,
             "ticks": ""
            },
            "colorscale": [
             [
              0,
              "#0d0887"
             ],
             [
              0.1111111111111111,
              "#46039f"
             ],
             [
              0.2222222222222222,
              "#7201a8"
             ],
             [
              0.3333333333333333,
              "#9c179e"
             ],
             [
              0.4444444444444444,
              "#bd3786"
             ],
             [
              0.5555555555555556,
              "#d8576b"
             ],
             [
              0.6666666666666666,
              "#ed7953"
             ],
             [
              0.7777777777777778,
              "#fb9f3a"
             ],
             [
              0.8888888888888888,
              "#fdca26"
             ],
             [
              1,
              "#f0f921"
             ]
            ],
            "type": "contour"
           }
          ],
          "contourcarpet": [
           {
            "colorbar": {
             "outlinewidth": 0,
             "ticks": ""
            },
            "type": "contourcarpet"
           }
          ],
          "heatmap": [
           {
            "colorbar": {
             "outlinewidth": 0,
             "ticks": ""
            },
            "colorscale": [
             [
              0,
              "#0d0887"
             ],
             [
              0.1111111111111111,
              "#46039f"
             ],
             [
              0.2222222222222222,
              "#7201a8"
             ],
             [
              0.3333333333333333,
              "#9c179e"
             ],
             [
              0.4444444444444444,
              "#bd3786"
             ],
             [
              0.5555555555555556,
              "#d8576b"
             ],
             [
              0.6666666666666666,
              "#ed7953"
             ],
             [
              0.7777777777777778,
              "#fb9f3a"
             ],
             [
              0.8888888888888888,
              "#fdca26"
             ],
             [
              1,
              "#f0f921"
             ]
            ],
            "type": "heatmap"
           }
          ],
          "histogram": [
           {
            "marker": {
             "pattern": {
              "fillmode": "overlay",
              "size": 10,
              "solidity": 0.2
             }
            },
            "type": "histogram"
           }
          ],
          "histogram2d": [
           {
            "colorbar": {
             "outlinewidth": 0,
             "ticks": ""
            },
            "colorscale": [
             [
              0,
              "#0d0887"
             ],
             [
              0.1111111111111111,
              "#46039f"
             ],
             [
              0.2222222222222222,
              "#7201a8"
             ],
             [
              0.3333333333333333,
              "#9c179e"
             ],
             [
              0.4444444444444444,
              "#bd3786"
             ],
             [
              0.5555555555555556,
              "#d8576b"
             ],
             [
              0.6666666666666666,
              "#ed7953"
             ],
             [
              0.7777777777777778,
              "#fb9f3a"
             ],
             [
              0.8888888888888888,
              "#fdca26"
             ],
             [
              1,
              "#f0f921"
             ]
            ],
            "type": "histogram2d"
           }
          ],
          "histogram2dcontour": [
           {
            "colorbar": {
             "outlinewidth": 0,
             "ticks": ""
            },
            "colorscale": [
             [
              0,
              "#0d0887"
             ],
             [
              0.1111111111111111,
              "#46039f"
             ],
             [
              0.2222222222222222,
              "#7201a8"
             ],
             [
              0.3333333333333333,
              "#9c179e"
             ],
             [
              0.4444444444444444,
              "#bd3786"
             ],
             [
              0.5555555555555556,
              "#d8576b"
             ],
             [
              0.6666666666666666,
              "#ed7953"
             ],
             [
              0.7777777777777778,
              "#fb9f3a"
             ],
             [
              0.8888888888888888,
              "#fdca26"
             ],
             [
              1,
              "#f0f921"
             ]
            ],
            "type": "histogram2dcontour"
           }
          ],
          "mesh3d": [
           {
            "colorbar": {
             "outlinewidth": 0,
             "ticks": ""
            },
            "type": "mesh3d"
           }
          ],
          "parcoords": [
           {
            "line": {
             "colorbar": {
              "outlinewidth": 0,
              "ticks": ""
             }
            },
            "type": "parcoords"
           }
          ],
          "pie": [
           {
            "automargin": true,
            "type": "pie"
           }
          ],
          "scatter": [
           {
            "fillpattern": {
             "fillmode": "overlay",
             "size": 10,
             "solidity": 0.2
            },
            "type": "scatter"
           }
          ],
          "scatter3d": [
           {
            "line": {
             "colorbar": {
              "outlinewidth": 0,
              "ticks": ""
             }
            },
            "marker": {
             "colorbar": {
              "outlinewidth": 0,
              "ticks": ""
             }
            },
            "type": "scatter3d"
           }
          ],
          "scattercarpet": [
           {
            "marker": {
             "colorbar": {
              "outlinewidth": 0,
              "ticks": ""
             }
            },
            "type": "scattercarpet"
           }
          ],
          "scattergeo": [
           {
            "marker": {
             "colorbar": {
              "outlinewidth": 0,
              "ticks": ""
             }
            },
            "type": "scattergeo"
           }
          ],
          "scattergl": [
           {
            "marker": {
             "colorbar": {
              "outlinewidth": 0,
              "ticks": ""
             }
            },
            "type": "scattergl"
           }
          ],
          "scattermap": [
           {
            "marker": {
             "colorbar": {
              "outlinewidth": 0,
              "ticks": ""
             }
            },
            "type": "scattermap"
           }
          ],
          "scattermapbox": [
           {
            "marker": {
             "colorbar": {
              "outlinewidth": 0,
              "ticks": ""
             }
            },
            "type": "scattermapbox"
           }
          ],
          "scatterpolar": [
           {
            "marker": {
             "colorbar": {
              "outlinewidth": 0,
              "ticks": ""
             }
            },
            "type": "scatterpolar"
           }
          ],
          "scatterpolargl": [
           {
            "marker": {
             "colorbar": {
              "outlinewidth": 0,
              "ticks": ""
             }
            },
            "type": "scatterpolargl"
           }
          ],
          "scatterternary": [
           {
            "marker": {
             "colorbar": {
              "outlinewidth": 0,
              "ticks": ""
             }
            },
            "type": "scatterternary"
           }
          ],
          "surface": [
           {
            "colorbar": {
             "outlinewidth": 0,
             "ticks": ""
            },
            "colorscale": [
             [
              0,
              "#0d0887"
             ],
             [
              0.1111111111111111,
              "#46039f"
             ],
             [
              0.2222222222222222,
              "#7201a8"
             ],
             [
              0.3333333333333333,
              "#9c179e"
             ],
             [
              0.4444444444444444,
              "#bd3786"
             ],
             [
              0.5555555555555556,
              "#d8576b"
             ],
             [
              0.6666666666666666,
              "#ed7953"
             ],
             [
              0.7777777777777778,
              "#fb9f3a"
             ],
             [
              0.8888888888888888,
              "#fdca26"
             ],
             [
              1,
              "#f0f921"
             ]
            ],
            "type": "surface"
           }
          ],
          "table": [
           {
            "cells": {
             "fill": {
              "color": "#EBF0F8"
             },
             "line": {
              "color": "white"
             }
            },
            "header": {
             "fill": {
              "color": "#C8D4E3"
             },
             "line": {
              "color": "white"
             }
            },
            "type": "table"
           }
          ]
         },
         "layout": {
          "annotationdefaults": {
           "arrowcolor": "#2a3f5f",
           "arrowhead": 0,
           "arrowwidth": 1
          },
          "autotypenumbers": "strict",
          "coloraxis": {
           "colorbar": {
            "outlinewidth": 0,
            "ticks": ""
           }
          },
          "colorscale": {
           "diverging": [
            [
             0,
             "#8e0152"
            ],
            [
             0.1,
             "#c51b7d"
            ],
            [
             0.2,
             "#de77ae"
            ],
            [
             0.3,
             "#f1b6da"
            ],
            [
             0.4,
             "#fde0ef"
            ],
            [
             0.5,
             "#f7f7f7"
            ],
            [
             0.6,
             "#e6f5d0"
            ],
            [
             0.7,
             "#b8e186"
            ],
            [
             0.8,
             "#7fbc41"
            ],
            [
             0.9,
             "#4d9221"
            ],
            [
             1,
             "#276419"
            ]
           ],
           "sequential": [
            [
             0,
             "#0d0887"
            ],
            [
             0.1111111111111111,
             "#46039f"
            ],
            [
             0.2222222222222222,
             "#7201a8"
            ],
            [
             0.3333333333333333,
             "#9c179e"
            ],
            [
             0.4444444444444444,
             "#bd3786"
            ],
            [
             0.5555555555555556,
             "#d8576b"
            ],
            [
             0.6666666666666666,
             "#ed7953"
            ],
            [
             0.7777777777777778,
             "#fb9f3a"
            ],
            [
             0.8888888888888888,
             "#fdca26"
            ],
            [
             1,
             "#f0f921"
            ]
           ],
           "sequentialminus": [
            [
             0,
             "#0d0887"
            ],
            [
             0.1111111111111111,
             "#46039f"
            ],
            [
             0.2222222222222222,
             "#7201a8"
            ],
            [
             0.3333333333333333,
             "#9c179e"
            ],
            [
             0.4444444444444444,
             "#bd3786"
            ],
            [
             0.5555555555555556,
             "#d8576b"
            ],
            [
             0.6666666666666666,
             "#ed7953"
            ],
            [
             0.7777777777777778,
             "#fb9f3a"
            ],
            [
             0.8888888888888888,
             "#fdca26"
            ],
            [
             1,
             "#f0f921"
            ]
           ]
          },
          "colorway": [
           "#636efa",
           "#EF553B",
           "#00cc96",
           "#ab63fa",
           "#FFA15A",
           "#19d3f3",
           "#FF6692",
           "#B6E880",
           "#FF97FF",
           "#FECB52"
          ],
          "font": {
           "color": "#2a3f5f"
          },
          "geo": {
           "bgcolor": "white",
           "lakecolor": "white",
           "landcolor": "white",
           "showlakes": true,
           "showland": true,
           "subunitcolor": "#C8D4E3"
          },
          "hoverlabel": {
           "align": "left"
          },
          "hovermode": "closest",
          "mapbox": {
           "style": "light"
          },
          "paper_bgcolor": "white",
          "plot_bgcolor": "white",
          "polar": {
           "angularaxis": {
            "gridcolor": "#EBF0F8",
            "linecolor": "#EBF0F8",
            "ticks": ""
           },
           "bgcolor": "white",
           "radialaxis": {
            "gridcolor": "#EBF0F8",
            "linecolor": "#EBF0F8",
            "ticks": ""
           }
          },
          "scene": {
           "xaxis": {
            "backgroundcolor": "white",
            "gridcolor": "#DFE8F3",
            "gridwidth": 2,
            "linecolor": "#EBF0F8",
            "showbackground": true,
            "ticks": "",
            "zerolinecolor": "#EBF0F8"
           },
           "yaxis": {
            "backgroundcolor": "white",
            "gridcolor": "#DFE8F3",
            "gridwidth": 2,
            "linecolor": "#EBF0F8",
            "showbackground": true,
            "ticks": "",
            "zerolinecolor": "#EBF0F8"
           },
           "zaxis": {
            "backgroundcolor": "white",
            "gridcolor": "#DFE8F3",
            "gridwidth": 2,
            "linecolor": "#EBF0F8",
            "showbackground": true,
            "ticks": "",
            "zerolinecolor": "#EBF0F8"
           }
          },
          "shapedefaults": {
           "line": {
            "color": "#2a3f5f"
           }
          },
          "ternary": {
           "aaxis": {
            "gridcolor": "#DFE8F3",
            "linecolor": "#A2B1C6",
            "ticks": ""
           },
           "baxis": {
            "gridcolor": "#DFE8F3",
            "linecolor": "#A2B1C6",
            "ticks": ""
           },
           "bgcolor": "white",
           "caxis": {
            "gridcolor": "#DFE8F3",
            "linecolor": "#A2B1C6",
            "ticks": ""
           }
          },
          "title": {
           "x": 0.05
          },
          "xaxis": {
           "automargin": true,
           "gridcolor": "#EBF0F8",
           "linecolor": "#EBF0F8",
           "ticks": "",
           "title": {
            "standoff": 15
           },
           "zerolinecolor": "#EBF0F8",
           "zerolinewidth": 2
          },
          "yaxis": {
           "automargin": true,
           "gridcolor": "#EBF0F8",
           "linecolor": "#EBF0F8",
           "ticks": "",
           "title": {
            "standoff": 15
           },
           "zerolinecolor": "#EBF0F8",
           "zerolinewidth": 2
          }
         }
        },
        "title": {
         "text": "Comparison of Model Scores Across Benchmarks (with Average) (Judge Model: gpt-4.1)",
         "x": 0.5
        },
        "width": 1400,
        "xaxis": {
         "anchor": "y",
         "domain": [
          0,
          0.475
         ]
        },
        "xaxis2": {
         "anchor": "y2",
         "domain": [
          0.525,
          1
         ]
        },
        "xaxis3": {
         "anchor": "y3",
         "domain": [
          0,
          0.475
         ]
        },
        "xaxis4": {
         "anchor": "y4",
         "domain": [
          0.525,
          1
         ]
        },
        "xaxis5": {
         "anchor": "y5",
         "domain": [
          0,
          0.475
         ]
        },
        "xaxis6": {
         "anchor": "y6",
         "domain": [
          0.525,
          1
         ]
        },
        "yaxis": {
         "anchor": "x",
         "domain": [
          0.72,
          1
         ],
         "range": [
          0,
          10.5
         ]
        },
        "yaxis2": {
         "anchor": "x2",
         "domain": [
          0.72,
          1
         ],
         "range": [
          0,
          10.5
         ]
        },
        "yaxis3": {
         "anchor": "x3",
         "domain": [
          0.36,
          0.6399999999999999
         ],
         "range": [
          0,
          10.5
         ]
        },
        "yaxis4": {
         "anchor": "x4",
         "domain": [
          0.36,
          0.6399999999999999
         ],
         "range": [
          0,
          10.5
         ]
        },
        "yaxis5": {
         "anchor": "x5",
         "domain": [
          0,
          0.27999999999999997
         ],
         "range": [
          0,
          10.5
         ]
        },
        "yaxis6": {
         "anchor": "x6",
         "domain": [
          0,
          0.27999999999999997
         ]
        }
       }
      }
     },
     "metadata": {},
     "output_type": "display_data"
    }
   ],
   "source": [
    "import plotly.graph_objects as go\n",
    "from plotly.subplots import make_subplots\n",
    "import pandas as pd\n",
    "\n",
    "# Loop over all unique judge models and plot a 3x2 grid of grouped bar graphs for each\n",
    "for judge_model in all_result_df['judge_model'].unique():\n",
    "    df_judge = all_result_df[all_result_df['judge_model'] == judge_model]\n",
    "    mean_df_judge = df_judge.groupby([\n",
    "        \"model_name\", \"eval_dataset\"\n",
    "    ]).score.mean().reset_index()\n",
    "    mean_df_judge['score_'] = mean_df_judge.apply(lambda x: x.score*2 if x.eval_dataset==\"ELYZA-tasks-100\" else x.score, axis=1)\n",
    "    \n",
    "    # Compute universal model order (best to worst overall)\n",
    "    model_overall_scores = mean_df_judge.groupby('model_name')['score_'].mean().sort_values(ascending=False)\n",
    "    model_order = model_overall_scores.index.tolist()\n",
    "    color_sequence = go.Figure().layout.template.layout.colorway or [\"#636EFA\", \"#EF553B\", \"#00CC96\", \"#AB63FA\", \"#FFA15A\", \"#19D3F3\", \"#FF6692\", \"#B6E880\", \"#FF97FF\", \"#FECB52\"]\n",
    "    color_map = {model: color_sequence[j % len(color_sequence)] for j, model in enumerate(model_order)}\n",
    "\n",
    "    # Dynamically get all benchmarks present in the data\n",
    "    benchmarks = mean_df_judge['eval_dataset'].unique()\n",
    "    n_bench = len(benchmarks)\n",
    "    if n_bench == 0:\n",
    "        continue\n",
    "    # Calculate average for each model\n",
    "    avg_scores = mean_df_judge.groupby('model_name')['score_'].mean().reindex(model_order)\n",
    "    # Set up 3x2 grid: first cell in 3rd row is average, others are benchmarks\n",
    "    n_rows, n_cols = 3, 2\n",
    "    subplot_titles = list(benchmarks)[:5]  # up to 5 benchmarks\n",
    "    subplot_titles.insert(4, \"Average\")  # 5th cell (row 3, col 1) is Average\n",
    "    while len(subplot_titles) < 6:\n",
    "        subplot_titles.append(\"\")\n",
    "    fig = make_subplots(rows=n_rows, cols=n_cols, subplot_titles=subplot_titles, vertical_spacing=0.08, horizontal_spacing=0.05)\n",
    "    bench_idx = 0\n",
    "    for i in range(6):\n",
    "        row = i // n_cols + 1\n",
    "        col = i % n_cols + 1\n",
    "        if i == 4:\n",
    "            # Average bar (row 3, col 1)\n",
    "            for j, model in enumerate(model_order):\n",
    "                score = avg_scores.get(model, float('nan'))\n",
    "                fig.add_trace(\n",
    "                    go.Bar(\n",
    "                        x=[\"Average\"],\n",
    "                        y=[score],\n",
    "                        name=model,\n",
    "                        marker_color=color_map[model],\n",
    "                        text=[f\"{score:.2f}\" if pd.notnull(score) else \"\"],\n",
    "                        textposition='outside',\n",
    "                        showlegend=(i == 0),\n",
    "                    ),\n",
    "                    row=row, col=col\n",
    "                )\n",
    "            fig.update_yaxes(range=[0, 10.5], row=row, col=col)\n",
    "        elif bench_idx < n_bench:\n",
    "            benchmark = benchmarks[bench_idx]\n",
    "            df_bench = mean_df_judge[mean_df_judge['eval_dataset'] == benchmark].set_index('model_name')\n",
    "            for j, model in enumerate(model_order):\n",
    "                score = df_bench['score_'].get(model, float('nan'))\n",
    "                fig.add_trace(\n",
    "                    go.Bar(\n",
    "                        x=[benchmark],\n",
    "                        y=[score],\n",
    "                        name=model,\n",
    "                        marker_color=color_map[model],\n",
    "                        text=[f\"{score:.2f}\" if pd.notnull(score) else \"\"],\n",
    "                        textposition='outside',\n",
    "                        showlegend=(i == 0),\n",
    "                    ),\n",
    "                    row=row, col=col\n",
    "                )\n",
    "            fig.update_yaxes(range=[0, 10.5], row=row, col=col)\n",
    "            bench_idx += 1\n",
    "    fig.update_layout(\n",
    "        height=1200,\n",
    "        width=1400,\n",
    "        title_text=f\"Comparison of Model Scores Across Benchmarks (with Average) (Judge Model: {judge_model.replace('judge_', '')})\",\n",
    "        title_x=0.5,\n",
    "        template='plotly_white',\n",
    "        font=dict(family=\"Arial, sans-serif\", size=12),\n",
    "        barmode='group',\n",
    "        legend_title_text='Model'\n",
    "    )\n",
    "    fig.show()"
   ]
  },
  {
   "cell_type": "markdown",
   "id": "1839f7f1",
   "metadata": {},
   "source": [
    "# Benchmark Descriptions\n",
    "\n",
    "- **ELYZA-tasks-100**: A Japanese benchmark consisting of 100 diverse tasks, designed to evaluate general language understanding and generation capabilities of LLMs in Japanese. Tasks include question answering, summarization, and also translation evaluation.\n",
    "\n",
    "- **Rakuda**: A Japanese benchmark focused on evaluating LLMs' performance on a wide range of question-answering tasks, including both factual and reasoning-based questions.\n",
    "\n",
    "- **Tengu-Bench**: A comprehensive Japanese benchmark that tests LLMs on various categories such as knowledge, reasoning, and reading comprehension, aiming to provide a broad assessment of model capabilities.\n",
    "\n",
    "- **MT-Bench**: The Japanese adaptation of the MT-Bench, which is a multi-turn dialogue benchmark. It evaluates LLMs' ability to handle conversational tasks, including context retention, instruction following, and multi-turn reasoning.\n",
    "\n",
    "**Note:** Translation evaluation is included in ELYZA-tasks-100.\n"
   ]
  }
 ],
 "metadata": {
  "environment": {
   "kernel": "python3",
   "name": "common-cpu.m118",
   "type": "gcloud",
   "uri": "us-docker.pkg.dev/deeplearning-platform-release/gcr.io/base-cpu:m118"
  },
  "kernelspec": {
   "display_name": "eval",
   "language": "python",
   "name": "python3"
  },
  "language_info": {
   "codemirror_mode": {
    "name": "ipython",
    "version": 3
   },
   "file_extension": ".py",
   "mimetype": "text/x-python",
   "name": "python",
   "nbconvert_exporter": "python",
   "pygments_lexer": "ipython3",
   "version": "3.11.11"
  }
 },
 "nbformat": 4,
 "nbformat_minor": 5
}
