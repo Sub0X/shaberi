{
 "cells": [
  {
   "cell_type": "code",
   "execution_count": 138,
   "id": "f7159e3b-518d-4e56-86af-7c8a25c7adcd",
   "metadata": {
    "tags": []
   },
   "outputs": [],
   "source": [
    "from glob import glob\n",
    "import pandas as pd\n",
    "import os\n",
    "import json\n",
    "import re\n",
    "from math import log\n",
    "from IPython.display import display\n",
    "import plotly.graph_objects as go\n",
    "import plotly.express as px\n",
    "from plotly.subplots import make_subplots\n",
    "import matplotlib.pyplot as plt\n",
    "import seaborn as sns\n",
    "import numpy as np"
   ]
  },
  {
   "cell_type": "code",
   "execution_count": 139,
   "id": "7c8b2533",
   "metadata": {},
   "outputs": [
    {
     "name": "stdout",
     "output_type": "stream",
     "text": [
      "Available groups:\n",
      "24B - 32B Model Range\n",
      "all\n",
      "references\n"
     ]
    }
   ],
   "source": [
    "# ============================================================================\n",
    "# == View Configuration\n",
    "# ============================================================================\n",
    "# This cell dynamically lists the available model groups from your organize_views.py script.\n",
    "\n",
    "try:\n",
    "    from organize_views import MODEL_GROUPS\n",
    "    OPTION_LIST = list(MODEL_GROUPS.keys()) + [\"all\", \"references\"]\n",
    "    print(\"Available groups:\")\n",
    "    for group in OPTION_LIST:\n",
    "        print(f\"{group}\")\n",
    "except ImportError:\n",
    "    options_comment = \"# organize_views.py not found. Please enter group name manually.\"\n",
    "    print(\"Warning: Could not import from organize_views.py. Available groups will not be listed.\")"
   ]
  },
  {
   "cell_type": "code",
   "execution_count": 140,
   "id": "886557d3",
   "metadata": {},
   "outputs": [],
   "source": [
    "# --- View Configuration ---\n",
    "# Options:\n",
    "#   \"all\" : Loads all results from the main ./data directory.\n",
    "#   \"references\" : Loads only the reference models from ./data/views/references.\n",
    "#   \"24B - 32B Model Range\" : Loads a specific group from ./data/views/groups/.\n",
    "\n",
    "VIEW_TO_LOAD = \"24B - 32B Model Range\""
   ]
  },
  {
   "cell_type": "code",
   "execution_count": 141,
   "id": "bda9b531",
   "metadata": {},
   "outputs": [],
   "source": [
    "# Check if VIEW_TO_LOAD starts witha  lowercase letter\n",
    "if VIEW_TO_LOAD and VIEW_TO_LOAD[0].islower():\n",
    "    MODEL_RANGE_GROUP = VIEW_TO_LOAD[0].upper() + VIEW_TO_LOAD[1:]\n",
    "else:\n",
    "    MODEL_RANGE_GROUP = VIEW_TO_LOAD"
   ]
  },
  {
   "cell_type": "code",
   "execution_count": 142,
   "id": "87e4af85",
   "metadata": {},
   "outputs": [
    {
     "name": "stdout",
     "output_type": "stream",
     "text": [
      "Loading group '24B - 32B Model Range' from: ./data/views/groups/24B - 32B Model Range\n",
      "Also loading reference models from: ./data/views/references\n"
     ]
    }
   ],
   "source": [
    "# --- Build paths based on the selected view ---\n",
    "model_result_paths = []\n",
    "reference_path = \"./data/views/references\"\n",
    "\n",
    "if VIEW_TO_LOAD.lower() == \"all\":\n",
    "    base_path = \"./data\"\n",
    "    print(\"Loading all results from the main ./data directory...\")\n",
    "    if os.path.exists(base_path):\n",
    "        model_result_paths.extend(glob(os.path.join(base_path, \"judgements\", \"judge_*\", \"*\", \"*.json\")))\n",
    "        model_result_paths.extend(glob(os.path.join(base_path, \"judgements\", \"metrics\", \"*\", \"*.csv\")))\n",
    "    else:\n",
    "        print(f\"Warning: Main data directory not found at {base_path}\")\n",
    "\n",
    "elif VIEW_TO_LOAD.lower() == \"references\":\n",
    "    print(f\"Loading reference models from: {reference_path}\")\n",
    "    if os.path.exists(reference_path):\n",
    "        model_result_paths.extend(glob(os.path.join(reference_path, \"judgements\", \"judge_*\", \"*\", \"*.json\")))\n",
    "        model_result_paths.extend(glob(os.path.join(reference_path, \"judgements\", \"metrics\", \"*\", \"*.csv\")))\n",
    "    else:\n",
    "        print(f\"Warning: References directory not found at {reference_path}\")\n",
    "\n",
    "else: # This handles specific group views\n",
    "    group_path = f\"./data/views/groups/{VIEW_TO_LOAD}\"\n",
    "    print(f\"Loading group '{VIEW_TO_LOAD}' from: {group_path}\")\n",
    "    print(f\"Also loading reference models from: {reference_path}\")\n",
    "    \n",
    "    # Load files from the specified group directory\n",
    "    if os.path.exists(group_path):\n",
    "        model_result_paths.extend(glob(os.path.join(group_path, \"judgements\", \"judge_*\", \"*\", \"*.json\")))\n",
    "        model_result_paths.extend(glob(os.path.join(group_path, \"judgements\", \"metrics\", \"*\", \"*.csv\")))\n",
    "    else:\n",
    "        print(f\"Warning: Group directory not found: {group_path}. Please run organize_views.py first.\")\n",
    "        \n",
    "    # Also load files from the references directory\n",
    "    if os.path.exists(reference_path):\n",
    "        model_result_paths.extend(glob(os.path.join(reference_path, \"judgements\", \"judge_*\", \"*\", \"*.json\")))\n",
    "        model_result_paths.extend(glob(os.path.join(reference_path, \"judgements\", \"metrics\", \"*\", \"*.csv\")))\n",
    "    else:\n",
    "        print(f\"Warning: References directory not found at {reference_path}. Cannot include reference models.\")\n",
    "\n",
    "# Remove duplicate file paths that might occur if a model is in both a group and references\n",
    "model_result_paths = sorted(list(set(model_result_paths)))\n",
    "\n",
    "if not model_result_paths:\n",
    "    print(f\"Warning: No result files found for the selected view: '{VIEW_TO_LOAD}'\")\n"
   ]
  },
  {
   "cell_type": "code",
   "execution_count": 143,
   "id": "51e02ab0",
   "metadata": {},
   "outputs": [],
   "source": [
    "eval_dataset_dict = {\n",
    "    \"elyza__ELYZA-tasks-100\": \"ELYZA-Tasks\",\n",
    "    \"yuzuai__rakuda-questions\": \"Rakuda\",\n",
    "    \"lightblue__tengu_bench\": \"Tengu-Bench\",\n",
    "    \"shisa-ai__ja-mt-bench-1shot\": \"MT-Bench\",\n",
    "    \"lmg-anon__VNTL-v3.1-1k\": \"VNTL-Translation\"\n",
    "}\n",
    "\n",
    "eval_dataset_map = {name: None for name in eval_dataset_dict.values()}"
   ]
  },
  {
   "cell_type": "code",
   "execution_count": 144,
   "id": "2cae7633",
   "metadata": {},
   "outputs": [],
   "source": [
    "def get_eval_dataset_dict():\n",
    "    base_path = './data/model_answers'\n",
    "    dataset_dirs = [d for d in os.listdir(base_path) if os.path.isdir(os.path.join(base_path, d))]\n",
    "    dataset_dict = {}\n",
    "    for dataset in dataset_dirs:\n",
    "        dataset_path = os.path.join(base_path, dataset)\n",
    "        first_file = next((f for f in os.listdir(dataset_path) if os.path.isfile(os.path.join(dataset_path, f))), None)\n",
    "        if first_file:\n",
    "            fpath = os.path.join(dataset_path, first_file)\n",
    "            with open(fpath, encoding='utf-8') as f:\n",
    "                total_lines = sum(1 for _ in f)\n",
    "            label = eval_dataset_dict.get(dataset, dataset)\n",
    "            \n",
    "            dataset_dict[dataset] = f\"{label}-{total_lines}\"\n",
    "            eval_dataset_map[label] = f\"{label}-{total_lines}\"\n",
    "        else:\n",
    "            dataset_dict[dataset] = dataset\n",
    "    return dataset_dict\n",
    "\n",
    "eval_dataset_dict = get_eval_dataset_dict()"
   ]
  },
  {
   "cell_type": "code",
   "execution_count": 145,
   "id": "9221fdf4",
   "metadata": {},
   "outputs": [],
   "source": [
    "eval_datasets = list(eval_dataset_dict.values())"
   ]
  },
  {
   "cell_type": "code",
   "execution_count": 146,
   "id": "fe36503f-515f-4e29-b58f-81b1684734b0",
   "metadata": {
    "tags": []
   },
   "outputs": [],
   "source": [
    "all_result_dfs = []\n",
    "\n",
    "vntl_score_columns = [\n",
    "    \"score_accuracy\", \"score_fluency\", \"score_character_voice\", \n",
    "    \"score_tone\", \"score_localization\", \"score_direction_following\"\n",
    "]\n",
    "\n",
    "for model_result_path in model_result_paths:\n",
    "    path_parts = model_result_path.split(os.sep)\n",
    "    \n",
    "    try:\n",
    "        if model_result_path.endswith('.json'):\n",
    "            df = pd.read_json(model_result_path, lines=True)\n",
    "            df[\"judge_model\"] = path_parts[-3]\n",
    "            df[\"eval_dataset\"] = eval_dataset_dict.get(path_parts[-2], path_parts[-2])\n",
    "            df[\"model_name\"] = path_parts[-1].replace(\".json\", \"\")\n",
    "\n",
    "            # Check if this is a VNTL multi-score file\n",
    "            if all(col in df.columns for col in vntl_score_columns):\n",
    "                df['score'] = df[vntl_score_columns].mean(axis=1)\n",
    "                temp_df = df\n",
    "            else:\n",
    "                # Use the existing 'score' column for other benchmarks\n",
    "                temp_df = df\n",
    "\n",
    "        elif model_result_path.endswith('.csv'):\n",
    "            temp_df = pd.read_csv(model_result_path)\n",
    "            temp_df['score'] = temp_df['bleu'] / 10.0\n",
    "            temp_df[\"judge_model\"] = 'Metrics (BLEU/chrF)'\n",
    "            temp_df[\"eval_dataset\"] = eval_dataset_dict.get(path_parts[-2], path_parts[-2])\n",
    "            temp_df[\"model_name\"] = path_parts[-1].replace(\".csv\", \"\")\n",
    "\n",
    "        if 'temp_df' in locals() and temp_df is not None:\n",
    "            all_result_dfs.append(temp_df)\n",
    "            \n",
    "    except Exception as e:\n",
    "        print(f\"Skipping file due to error: {model_result_path} -> {e}\")\n"
   ]
  },
  {
   "cell_type": "code",
   "execution_count": 147,
   "id": "8d63791e",
   "metadata": {},
   "outputs": [
    {
     "name": "stdout",
     "output_type": "stream",
     "text": [
      "Combined results saved to output.csv\n"
     ]
    }
   ],
   "source": [
    "# Consolidate and clean the final DataFrame\n",
    "all_result_df = pd.concat(all_result_dfs, ignore_index=True)\n",
    "all_result_df['score'] = pd.to_numeric(all_result_df['score'], errors='coerce')\n",
    "all_result_df.dropna(subset=['score'], inplace=True)\n",
    "all_result_df.to_csv(\"output.csv\", index=False)\n",
    "print(\"Combined results saved to output.csv\")"
   ]
  },
  {
   "cell_type": "code",
   "execution_count": 148,
   "id": "56ae39c5",
   "metadata": {},
   "outputs": [
    {
     "name": "stdout",
     "output_type": "stream",
     "text": [
      "Max score for ELYZA before scaling: 5.00\n",
      "Max score for ELYZA after scaling: 10.00\n"
     ]
    }
   ],
   "source": [
    "# Scale ELYZA scores to be on a 10-point scale instead of 5\n",
    "# The .loc accessor is used to select the correct rows and multiply the 'score'\n",
    "\n",
    "if 'ELYZA-Tasks' in eval_dataset_map:\n",
    "    ELYZA_NAME = eval_dataset_map[\"ELYZA-Tasks\"]\n",
    "    print(f\"Max score for ELYZA before scaling: {all_result_df.loc[all_result_df['eval_dataset'] == ELYZA_NAME, 'score'].max():.2f}\")\n",
    "    # Scale ELYZA scores to be on a 10-point scale\n",
    "    all_result_df.loc[all_result_df['eval_dataset'] == ELYZA_NAME, 'score'] *= 2\n",
    "    print(f\"Max score for ELYZA after scaling: {all_result_df.loc[all_result_df['eval_dataset'] == ELYZA_NAME, 'score'].max():.2f}\")\n"
   ]
  },
  {
   "cell_type": "code",
   "execution_count": 149,
   "id": "2b1aa2c1",
   "metadata": {},
   "outputs": [
    {
     "name": "stdout",
     "output_type": "stream",
     "text": [
      "Global model order and color map created.\n"
     ]
    }
   ],
   "source": [
    "model_order = all_result_df.groupby('model_name')['score'].mean().sort_values(ascending=False).index.tolist()\n",
    "color_sequence = px.colors.qualitative.Plotly\n",
    "color_map = {model: color_sequence[i % len(color_sequence)] for i, model in enumerate(model_order)}\n",
    "print(\"Global model order and color map created.\")"
   ]
  },
  {
   "cell_type": "code",
   "execution_count": 150,
   "id": "7afc4168",
   "metadata": {},
   "outputs": [
    {
     "data": {
      "text/html": [
       "<div>\n",
       "<style scoped>\n",
       "    .dataframe tbody tr th:only-of-type {\n",
       "        vertical-align: middle;\n",
       "    }\n",
       "\n",
       "    .dataframe tbody tr th {\n",
       "        vertical-align: top;\n",
       "    }\n",
       "\n",
       "    .dataframe thead th {\n",
       "        text-align: right;\n",
       "    }\n",
       "</style>\n",
       "<table border=\"1\" class=\"dataframe\">\n",
       "  <thead>\n",
       "    <tr style=\"text-align: right;\">\n",
       "      <th>bench_judge_label</th>\n",
       "      <th>ELYZA 100 (judge_gpt-4.1)</th>\n",
       "      <th>JA-MT (judge_gpt-4.1)</th>\n",
       "      <th>Rakuda (judge_gpt-4.1)</th>\n",
       "      <th>Tengu (judge_gpt-4.1)</th>\n",
       "      <th>VNTL (judge_gpt-4.1)</th>\n",
       "      <th>Average (All)</th>\n",
       "    </tr>\n",
       "    <tr>\n",
       "      <th>model_name</th>\n",
       "      <th></th>\n",
       "      <th></th>\n",
       "      <th></th>\n",
       "      <th></th>\n",
       "      <th></th>\n",
       "      <th></th>\n",
       "    </tr>\n",
       "  </thead>\n",
       "  <tbody>\n",
       "    <tr>\n",
       "      <th>gpt-4o</th>\n",
       "      <td>9.22</td>\n",
       "      <td>9.32</td>\n",
       "      <td>9.90</td>\n",
       "      <td>8.52</td>\n",
       "      <td>8.28</td>\n",
       "      <td>9.05</td>\n",
       "    </tr>\n",
       "    <tr>\n",
       "      <th>mistral-small-3.2-24b-instruct-2506</th>\n",
       "      <td>8.30</td>\n",
       "      <td>8.87</td>\n",
       "      <td>9.45</td>\n",
       "      <td>7.87</td>\n",
       "      <td>7.35</td>\n",
       "      <td>8.37</td>\n",
       "    </tr>\n",
       "    <tr>\n",
       "      <th>qwen3-32b</th>\n",
       "      <td>8.92</td>\n",
       "      <td>9.33</td>\n",
       "      <td>8.75</td>\n",
       "      <td>7.95</td>\n",
       "      <td>6.83</td>\n",
       "      <td>8.36</td>\n",
       "    </tr>\n",
       "    <tr>\n",
       "      <th>shisa-v2-qwen2.5-32b</th>\n",
       "      <td>8.70</td>\n",
       "      <td>8.78</td>\n",
       "      <td>9.12</td>\n",
       "      <td>7.57</td>\n",
       "      <td>7.52</td>\n",
       "      <td>8.34</td>\n",
       "    </tr>\n",
       "    <tr>\n",
       "      <th>gemma-3-27b-it</th>\n",
       "      <td>8.36</td>\n",
       "      <td>8.92</td>\n",
       "      <td>9.22</td>\n",
       "      <td>7.69</td>\n",
       "      <td>7.46</td>\n",
       "      <td>8.33</td>\n",
       "    </tr>\n",
       "    <tr>\n",
       "      <th>gemini-2.0-flash-lite</th>\n",
       "      <td>8.30</td>\n",
       "      <td>8.58</td>\n",
       "      <td>9.60</td>\n",
       "      <td>7.67</td>\n",
       "      <td>7.38</td>\n",
       "      <td>8.30</td>\n",
       "    </tr>\n",
       "    <tr>\n",
       "      <th>mistral-small-3.1-24b-instruct-2503</th>\n",
       "      <td>8.30</td>\n",
       "      <td>8.45</td>\n",
       "      <td>9.18</td>\n",
       "      <td>7.58</td>\n",
       "      <td>7.19</td>\n",
       "      <td>8.14</td>\n",
       "    </tr>\n",
       "    <tr>\n",
       "      <th>glm-4-32b-0414</th>\n",
       "      <td>8.14</td>\n",
       "      <td>8.53</td>\n",
       "      <td>9.03</td>\n",
       "      <td>7.70</td>\n",
       "      <td>7.00</td>\n",
       "      <td>8.08</td>\n",
       "    </tr>\n",
       "    <tr>\n",
       "      <th>shisa-v2-mistral-small-24b</th>\n",
       "      <td>8.30</td>\n",
       "      <td>7.93</td>\n",
       "      <td>8.45</td>\n",
       "      <td>7.68</td>\n",
       "      <td>7.97</td>\n",
       "      <td>8.07</td>\n",
       "    </tr>\n",
       "    <tr>\n",
       "      <th>aya-expanse-32b-abliterated</th>\n",
       "      <td>8.12</td>\n",
       "      <td>8.70</td>\n",
       "      <td>8.88</td>\n",
       "      <td>7.14</td>\n",
       "      <td>7.49</td>\n",
       "      <td>8.06</td>\n",
       "    </tr>\n",
       "    <tr>\n",
       "      <th>amoral-gemma3-27b-v2-qat</th>\n",
       "      <td>6.46</td>\n",
       "      <td>3.88</td>\n",
       "      <td>3.52</td>\n",
       "      <td>5.34</td>\n",
       "      <td>6.89</td>\n",
       "      <td>5.22</td>\n",
       "    </tr>\n",
       "  </tbody>\n",
       "</table>\n",
       "</div>"
      ],
      "text/plain": [
       "bench_judge_label                   ELYZA 100 (judge_gpt-4.1)  \\\n",
       "model_name                                                      \n",
       "gpt-4o                                                   9.22   \n",
       "mistral-small-3.2-24b-instruct-2506                      8.30   \n",
       "qwen3-32b                                                8.92   \n",
       "shisa-v2-qwen2.5-32b                                     8.70   \n",
       "gemma-3-27b-it                                           8.36   \n",
       "gemini-2.0-flash-lite                                    8.30   \n",
       "mistral-small-3.1-24b-instruct-2503                      8.30   \n",
       "glm-4-32b-0414                                           8.14   \n",
       "shisa-v2-mistral-small-24b                               8.30   \n",
       "aya-expanse-32b-abliterated                              8.12   \n",
       "amoral-gemma3-27b-v2-qat                                 6.46   \n",
       "\n",
       "bench_judge_label                   JA-MT (judge_gpt-4.1)  \\\n",
       "model_name                                                  \n",
       "gpt-4o                                               9.32   \n",
       "mistral-small-3.2-24b-instruct-2506                  8.87   \n",
       "qwen3-32b                                            9.33   \n",
       "shisa-v2-qwen2.5-32b                                 8.78   \n",
       "gemma-3-27b-it                                       8.92   \n",
       "gemini-2.0-flash-lite                                8.58   \n",
       "mistral-small-3.1-24b-instruct-2503                  8.45   \n",
       "glm-4-32b-0414                                       8.53   \n",
       "shisa-v2-mistral-small-24b                           7.93   \n",
       "aya-expanse-32b-abliterated                          8.70   \n",
       "amoral-gemma3-27b-v2-qat                             3.88   \n",
       "\n",
       "bench_judge_label                   Rakuda (judge_gpt-4.1)  \\\n",
       "model_name                                                   \n",
       "gpt-4o                                                9.90   \n",
       "mistral-small-3.2-24b-instruct-2506                   9.45   \n",
       "qwen3-32b                                             8.75   \n",
       "shisa-v2-qwen2.5-32b                                  9.12   \n",
       "gemma-3-27b-it                                        9.22   \n",
       "gemini-2.0-flash-lite                                 9.60   \n",
       "mistral-small-3.1-24b-instruct-2503                   9.18   \n",
       "glm-4-32b-0414                                        9.03   \n",
       "shisa-v2-mistral-small-24b                            8.45   \n",
       "aya-expanse-32b-abliterated                           8.88   \n",
       "amoral-gemma3-27b-v2-qat                              3.52   \n",
       "\n",
       "bench_judge_label                   Tengu (judge_gpt-4.1)  \\\n",
       "model_name                                                  \n",
       "gpt-4o                                               8.52   \n",
       "mistral-small-3.2-24b-instruct-2506                  7.87   \n",
       "qwen3-32b                                            7.95   \n",
       "shisa-v2-qwen2.5-32b                                 7.57   \n",
       "gemma-3-27b-it                                       7.69   \n",
       "gemini-2.0-flash-lite                                7.67   \n",
       "mistral-small-3.1-24b-instruct-2503                  7.58   \n",
       "glm-4-32b-0414                                       7.70   \n",
       "shisa-v2-mistral-small-24b                           7.68   \n",
       "aya-expanse-32b-abliterated                          7.14   \n",
       "amoral-gemma3-27b-v2-qat                             5.34   \n",
       "\n",
       "bench_judge_label                   VNTL (judge_gpt-4.1) Average (All)  \n",
       "model_name                                                              \n",
       "gpt-4o                                              8.28          9.05  \n",
       "mistral-small-3.2-24b-instruct-2506                 7.35          8.37  \n",
       "qwen3-32b                                           6.83          8.36  \n",
       "shisa-v2-qwen2.5-32b                                7.52          8.34  \n",
       "gemma-3-27b-it                                      7.46          8.33  \n",
       "gemini-2.0-flash-lite                               7.38          8.30  \n",
       "mistral-small-3.1-24b-instruct-2503                 7.19          8.14  \n",
       "glm-4-32b-0414                                      7.00          8.08  \n",
       "shisa-v2-mistral-small-24b                          7.97          8.07  \n",
       "aya-expanse-32b-abliterated                         7.49          8.06  \n",
       "amoral-gemma3-27b-v2-qat                            6.89          5.22  "
      ]
     },
     "metadata": {},
     "output_type": "display_data"
    },
    {
     "name": "stdout",
     "output_type": "stream",
     "text": [
      "Detailed pivot table summary saved to summary_output.csv\n"
     ]
    }
   ],
   "source": [
    "# --- Create a detailed summary pivot table ---\n",
    "def get_bench_label(bench):\n",
    "    if 'elyza' in bench.lower(): return 'ELYZA 100'\n",
    "    if 'mt-bench' in bench.lower(): return 'JA-MT'\n",
    "    if 'rakuda' in bench.lower(): return 'Rakuda'\n",
    "    if 'tengu' in bench.lower(): return 'Tengu'\n",
    "    if 'vntl' in bench.lower(): return 'VNTL' # Added for new benchmark\n",
    "    return bench\n",
    "\n",
    "all_result_df['bench_label'] = all_result_df['eval_dataset'].apply(get_bench_label)\n",
    "all_result_df['bench_judge_label'] = all_result_df['bench_label'] + ' (' + all_result_df['judge_model'] + ')'\n",
    "\n",
    "pivot = all_result_df.pivot_table(\n",
    "    index='model_name',\n",
    "    columns='bench_judge_label',\n",
    "    values='score',\n",
    "    aggfunc='mean'\n",
    ")\n",
    "pivot['Average (All)'] = pivot.mean(axis=1)\n",
    "col_order = sorted([col for col in pivot.columns if col != 'Average (All)']) + ['Average (All)']\n",
    "pivot = pivot[col_order].sort_values(by='Average (All)', ascending=False)\n",
    "\n",
    "float_cols = pivot.select_dtypes(include=['float', 'float64']).columns\n",
    "for col in float_cols:\n",
    "    pivot[col] = pivot[col].apply(lambda x: format(x, '.2f') if pd.notnull(x) else '')\n",
    "\n",
    "display(pivot)\n",
    "pivot.to_csv('summary_output.csv', index=True, quoting=1)\n",
    "print(\"Detailed pivot table summary saved to summary_output.csv\")\n"
   ]
  },
  {
   "cell_type": "code",
   "execution_count": 151,
   "id": "1a989b72",
   "metadata": {},
   "outputs": [
    {
     "data": {
      "text/html": [
       "<style type=\"text/css\">\n",
       "#T_aa01a_row0_col0, #T_aa01a_row0_col1, #T_aa01a_row0_col2, #T_aa01a_row0_col4, #T_aa01a_row0_col5, #T_aa01a_row2_col3 {\n",
       "  background-color: #FFF8C4;\n",
       "}\n",
       "</style>\n",
       "<table id=\"T_aa01a\">\n",
       "  <caption>Model Mean Scores by Benchmark</caption>\n",
       "  <thead>\n",
       "    <tr>\n",
       "      <th class=\"blank level0\" >&nbsp;</th>\n",
       "      <th id=\"T_aa01a_level0_col0\" class=\"col_heading level0 col0\" >ELYZA-Tasks-100</th>\n",
       "      <th id=\"T_aa01a_level0_col1\" class=\"col_heading level0 col1\" >Tengu-Bench-120</th>\n",
       "      <th id=\"T_aa01a_level0_col2\" class=\"col_heading level0 col2\" >VNTL-Translation-200</th>\n",
       "      <th id=\"T_aa01a_level0_col3\" class=\"col_heading level0 col3\" >MT-Bench-60</th>\n",
       "      <th id=\"T_aa01a_level0_col4\" class=\"col_heading level0 col4\" >Rakuda-40</th>\n",
       "      <th id=\"T_aa01a_level0_col5\" class=\"col_heading level0 col5\" >mean</th>\n",
       "    </tr>\n",
       "  </thead>\n",
       "  <tbody>\n",
       "    <tr>\n",
       "      <th id=\"T_aa01a_level0_row0\" class=\"row_heading level0 row0\" >gpt-4o</th>\n",
       "      <td id=\"T_aa01a_row0_col0\" class=\"data row0 col0\" >9.22</td>\n",
       "      <td id=\"T_aa01a_row0_col1\" class=\"data row0 col1\" >8.52</td>\n",
       "      <td id=\"T_aa01a_row0_col2\" class=\"data row0 col2\" >8.28</td>\n",
       "      <td id=\"T_aa01a_row0_col3\" class=\"data row0 col3\" >9.32</td>\n",
       "      <td id=\"T_aa01a_row0_col4\" class=\"data row0 col4\" >9.90</td>\n",
       "      <td id=\"T_aa01a_row0_col5\" class=\"data row0 col5\" >9.05</td>\n",
       "    </tr>\n",
       "    <tr>\n",
       "      <th id=\"T_aa01a_level0_row1\" class=\"row_heading level0 row1\" >mistral-small-3.2-24b-instruct-2506</th>\n",
       "      <td id=\"T_aa01a_row1_col0\" class=\"data row1 col0\" >8.30</td>\n",
       "      <td id=\"T_aa01a_row1_col1\" class=\"data row1 col1\" >7.87</td>\n",
       "      <td id=\"T_aa01a_row1_col2\" class=\"data row1 col2\" >7.35</td>\n",
       "      <td id=\"T_aa01a_row1_col3\" class=\"data row1 col3\" >8.87</td>\n",
       "      <td id=\"T_aa01a_row1_col4\" class=\"data row1 col4\" >9.45</td>\n",
       "      <td id=\"T_aa01a_row1_col5\" class=\"data row1 col5\" >8.37</td>\n",
       "    </tr>\n",
       "    <tr>\n",
       "      <th id=\"T_aa01a_level0_row2\" class=\"row_heading level0 row2\" >qwen3-32b</th>\n",
       "      <td id=\"T_aa01a_row2_col0\" class=\"data row2 col0\" >8.92</td>\n",
       "      <td id=\"T_aa01a_row2_col1\" class=\"data row2 col1\" >7.95</td>\n",
       "      <td id=\"T_aa01a_row2_col2\" class=\"data row2 col2\" >6.83</td>\n",
       "      <td id=\"T_aa01a_row2_col3\" class=\"data row2 col3\" >9.33</td>\n",
       "      <td id=\"T_aa01a_row2_col4\" class=\"data row2 col4\" >8.75</td>\n",
       "      <td id=\"T_aa01a_row2_col5\" class=\"data row2 col5\" >8.36</td>\n",
       "    </tr>\n",
       "    <tr>\n",
       "      <th id=\"T_aa01a_level0_row3\" class=\"row_heading level0 row3\" >shisa-v2-qwen2.5-32b</th>\n",
       "      <td id=\"T_aa01a_row3_col0\" class=\"data row3 col0\" >8.70</td>\n",
       "      <td id=\"T_aa01a_row3_col1\" class=\"data row3 col1\" >7.57</td>\n",
       "      <td id=\"T_aa01a_row3_col2\" class=\"data row3 col2\" >7.52</td>\n",
       "      <td id=\"T_aa01a_row3_col3\" class=\"data row3 col3\" >8.78</td>\n",
       "      <td id=\"T_aa01a_row3_col4\" class=\"data row3 col4\" >9.12</td>\n",
       "      <td id=\"T_aa01a_row3_col5\" class=\"data row3 col5\" >8.34</td>\n",
       "    </tr>\n",
       "    <tr>\n",
       "      <th id=\"T_aa01a_level0_row4\" class=\"row_heading level0 row4\" >gemma-3-27b-it</th>\n",
       "      <td id=\"T_aa01a_row4_col0\" class=\"data row4 col0\" >8.36</td>\n",
       "      <td id=\"T_aa01a_row4_col1\" class=\"data row4 col1\" >7.69</td>\n",
       "      <td id=\"T_aa01a_row4_col2\" class=\"data row4 col2\" >7.46</td>\n",
       "      <td id=\"T_aa01a_row4_col3\" class=\"data row4 col3\" >8.92</td>\n",
       "      <td id=\"T_aa01a_row4_col4\" class=\"data row4 col4\" >9.22</td>\n",
       "      <td id=\"T_aa01a_row4_col5\" class=\"data row4 col5\" >8.33</td>\n",
       "    </tr>\n",
       "    <tr>\n",
       "      <th id=\"T_aa01a_level0_row5\" class=\"row_heading level0 row5\" >gemini-2.0-flash-lite</th>\n",
       "      <td id=\"T_aa01a_row5_col0\" class=\"data row5 col0\" >8.30</td>\n",
       "      <td id=\"T_aa01a_row5_col1\" class=\"data row5 col1\" >7.67</td>\n",
       "      <td id=\"T_aa01a_row5_col2\" class=\"data row5 col2\" >7.38</td>\n",
       "      <td id=\"T_aa01a_row5_col3\" class=\"data row5 col3\" >8.58</td>\n",
       "      <td id=\"T_aa01a_row5_col4\" class=\"data row5 col4\" >9.60</td>\n",
       "      <td id=\"T_aa01a_row5_col5\" class=\"data row5 col5\" >8.31</td>\n",
       "    </tr>\n",
       "    <tr>\n",
       "      <th id=\"T_aa01a_level0_row6\" class=\"row_heading level0 row6\" >mistral-small-3.1-24b-instruct-2503</th>\n",
       "      <td id=\"T_aa01a_row6_col0\" class=\"data row6 col0\" >8.30</td>\n",
       "      <td id=\"T_aa01a_row6_col1\" class=\"data row6 col1\" >7.58</td>\n",
       "      <td id=\"T_aa01a_row6_col2\" class=\"data row6 col2\" >7.19</td>\n",
       "      <td id=\"T_aa01a_row6_col3\" class=\"data row6 col3\" >8.45</td>\n",
       "      <td id=\"T_aa01a_row6_col4\" class=\"data row6 col4\" >9.18</td>\n",
       "      <td id=\"T_aa01a_row6_col5\" class=\"data row6 col5\" >8.14</td>\n",
       "    </tr>\n",
       "    <tr>\n",
       "      <th id=\"T_aa01a_level0_row7\" class=\"row_heading level0 row7\" >glm-4-32b-0414</th>\n",
       "      <td id=\"T_aa01a_row7_col0\" class=\"data row7 col0\" >8.14</td>\n",
       "      <td id=\"T_aa01a_row7_col1\" class=\"data row7 col1\" >7.70</td>\n",
       "      <td id=\"T_aa01a_row7_col2\" class=\"data row7 col2\" >7.00</td>\n",
       "      <td id=\"T_aa01a_row7_col3\" class=\"data row7 col3\" >8.53</td>\n",
       "      <td id=\"T_aa01a_row7_col4\" class=\"data row7 col4\" >9.03</td>\n",
       "      <td id=\"T_aa01a_row7_col5\" class=\"data row7 col5\" >8.08</td>\n",
       "    </tr>\n",
       "    <tr>\n",
       "      <th id=\"T_aa01a_level0_row8\" class=\"row_heading level0 row8\" >shisa-v2-mistral-small-24b</th>\n",
       "      <td id=\"T_aa01a_row8_col0\" class=\"data row8 col0\" >8.30</td>\n",
       "      <td id=\"T_aa01a_row8_col1\" class=\"data row8 col1\" >7.68</td>\n",
       "      <td id=\"T_aa01a_row8_col2\" class=\"data row8 col2\" >7.97</td>\n",
       "      <td id=\"T_aa01a_row8_col3\" class=\"data row8 col3\" >7.93</td>\n",
       "      <td id=\"T_aa01a_row8_col4\" class=\"data row8 col4\" >8.45</td>\n",
       "      <td id=\"T_aa01a_row8_col5\" class=\"data row8 col5\" >8.07</td>\n",
       "    </tr>\n",
       "    <tr>\n",
       "      <th id=\"T_aa01a_level0_row9\" class=\"row_heading level0 row9\" >aya-expanse-32b-abliterated</th>\n",
       "      <td id=\"T_aa01a_row9_col0\" class=\"data row9 col0\" >8.12</td>\n",
       "      <td id=\"T_aa01a_row9_col1\" class=\"data row9 col1\" >7.14</td>\n",
       "      <td id=\"T_aa01a_row9_col2\" class=\"data row9 col2\" >7.49</td>\n",
       "      <td id=\"T_aa01a_row9_col3\" class=\"data row9 col3\" >8.70</td>\n",
       "      <td id=\"T_aa01a_row9_col4\" class=\"data row9 col4\" >8.88</td>\n",
       "      <td id=\"T_aa01a_row9_col5\" class=\"data row9 col5\" >8.06</td>\n",
       "    </tr>\n",
       "    <tr>\n",
       "      <th id=\"T_aa01a_level0_row10\" class=\"row_heading level0 row10\" >amoral-gemma3-27b-v2-qat</th>\n",
       "      <td id=\"T_aa01a_row10_col0\" class=\"data row10 col0\" >6.46</td>\n",
       "      <td id=\"T_aa01a_row10_col1\" class=\"data row10 col1\" >5.34</td>\n",
       "      <td id=\"T_aa01a_row10_col2\" class=\"data row10 col2\" >6.89</td>\n",
       "      <td id=\"T_aa01a_row10_col3\" class=\"data row10 col3\" >3.88</td>\n",
       "      <td id=\"T_aa01a_row10_col4\" class=\"data row10 col4\" >3.52</td>\n",
       "      <td id=\"T_aa01a_row10_col5\" class=\"data row10 col5\" >5.22</td>\n",
       "    </tr>\n",
       "  </tbody>\n",
       "</table>\n"
      ],
      "text/plain": [
       "<pandas.io.formats.style.Styler at 0x23efb89de90>"
      ]
     },
     "metadata": {},
     "output_type": "display_data"
    }
   ],
   "source": [
    "# --- Create a styled correlation-style table ---\n",
    "eval_dataset_names = all_result_df.eval_dataset.unique()\n",
    "model_names = all_result_df.model_name.unique()\n",
    "\n",
    "eval_corr_results = {model_name: {} for model_name in model_names}\n",
    "for eval_dataset_name in eval_dataset_names:\n",
    "    for model_name in model_names:\n",
    "        score = all_result_df[(all_result_df.eval_dataset == eval_dataset_name) & (all_result_df.model_name == model_name)].score.mean()\n",
    "        eval_corr_results[model_name][eval_dataset_name] = score\n",
    "\n",
    "eval_res_df = pd.DataFrame(eval_corr_results).T # Transpose to have models as rows\n",
    "\n",
    "eval_res_df['mean'] = eval_res_df.mean(axis=1)\n",
    "eval_res_df = eval_res_df.sort_values(by='mean', ascending=False)\n",
    "\n",
    "def highlight_max(s):\n",
    "    is_max = s.max()\n",
    "    return ['background-color: #FFF8C4' if v == is_max else '' for v in s]\n",
    "\n",
    "styled_df = eval_res_df.style.apply(highlight_max, axis=0).format(\"{:.2f}\").set_caption(\"Model Mean Scores by Benchmark\")\n",
    "display(styled_df)\n"
   ]
  },
  {
   "cell_type": "code",
   "execution_count": 152,
   "id": "b66da917",
   "metadata": {},
   "outputs": [],
   "source": [
    "import re\n",
    "import numpy as np\n",
    "\n",
    "def get_model_size(model_name_str):\n",
    "    try:\n",
    "        size_match = re.search(r\"\\b(\\d{1,3})[bB]\\b\", model_name_str)\n",
    "        if size_match: return int(size_match.group(1))\n",
    "        size_match = re.search(r\"-(\\d{1,3})b\", model_name_str, re.IGNORECASE)\n",
    "        if size_match: return int(size_match.group(1))\n",
    "        return None\n",
    "    except:\n",
    "        return None\n",
    "\n",
    "model_size_df = eval_res_df.copy()\n",
    "model_size_df['model_size'] = model_size_df.index.to_series().apply(get_model_size)\n",
    "size_df = model_size_df.dropna(subset=['model_size']).groupby('model_size').mean()\n",
    "size_df['model_size_log'] = np.log(size_df.index)\n"
   ]
  },
  {
   "cell_type": "code",
   "execution_count": 153,
   "id": "b9cc91b5",
   "metadata": {},
   "outputs": [
    {
     "data": {
      "image/png": "[encoded data removed]",
      "text/plain": [
       "<Figure size 1000x600 with 1 Axes>"
      ]
     },
     "metadata": {},
     "output_type": "display_data"
    }
   ],
   "source": [
    "from matplotlib import pyplot as plt\n",
    "import seaborn as sns\n",
    "\n",
    "plt.figure(figsize=(10, 6))\n",
    "plot_columns = [col for col in eval_datasets if col in size_df.columns]\n",
    "for column in plot_columns:\n",
    "    sns.regplot(x='model_size_log', y=column, data=size_df, scatter=True, label=column, ci=None)\n",
    "\n",
    "plt.xticks(size_df['model_size_log'], size_df.index.astype(int).astype(str) + \"B\")\n",
    "plt.legend()\n",
    "plt.title(f'Model Size (Log Scale) vs. Scores with Regression Lines | {MODEL_RANGE_GROUP}')\n",
    "plt.xlabel(\"Model Size\")\n",
    "plt.ylabel(\"Score\")\n",
    "plt.grid(True, which='both', linestyle='--')\n",
    "plt.show()"
   ]
  },
  {
   "cell_type": "code",
   "execution_count": 154,
   "id": "88ebe802",
   "metadata": {},
   "outputs": [
    {
     "data": {
      "application/vnd.plotly.v1+json": {
       "config": {
        "plotlyServerURL": "https://plot.ly"
       },
       "data": [
        {
         "fill": "toself",
         "fillcolor": "rgba(99, 110, 250, 0.2)",
         "hovertemplate": "<b>%{fullData.name}</b><br>Score: %{r:.2f}<extra></extra>",
         "line": {
          "color": "#636EFA"
         },
         "mode": "lines+markers",
         "name": "gpt-4o",
         "r": {
          "bdata": "cT0K16NwIkAiIiIiIqIiQM3MzMzMzCNAiYiIiIgIIUCuR+F6FI4gQA==",
          "dtype": "f8"
         },
         "theta": [
          "ELYZA-Tasks-100",
          "MT-Bench-60",
          "Rakuda-40",
          "Tengu-Bench-120",
          "VNTL-Translation-200"
         ],
         "type": "scatterpolar"
        },
        {
         "fill": "toself",
         "fillcolor": "rgba(239, 85, 59, 0.2)",
         "hovertemplate": "<b>%{fullData.name}</b><br>Score: %{r:.2f}<extra></extra>",
         "line": {
          "color": "#EF553B"
         },
         "mode": "lines+markers",
         "name": "shisa-v2-qwen2.5-32b",
         "r": {
          "bdata": "ZmZmZmZmIUAREREREZEhQAAAAAAAQCJAREREREREHkCTXyz5xRIeQA==",
          "dtype": "f8"
         },
         "theta": [
          "ELYZA-Tasks-100",
          "MT-Bench-60",
          "Rakuda-40",
          "Tengu-Bench-120",
          "VNTL-Translation-200"
         ],
         "type": "scatterpolar"
        },
        {
         "fill": "toself",
         "fillcolor": "rgba(0, 204, 150, 0.2)",
         "hovertemplate": "<b>%{fullData.name}</b><br>Score: %{r:.2f}<extra></extra>",
         "line": {
          "color": "#00CC96"
         },
         "mode": "lines+markers",
         "name": "shisa-v2-mistral-small-24b",
         "r": {
          "bdata": "mpmZmZmZIEC8u7u7u7sfQGZmZmZm5iBAvLu7u7u7HkCkcD0K1+MfQA==",
          "dtype": "f8"
         },
         "theta": [
          "ELYZA-Tasks-100",
          "MT-Bench-60",
          "Rakuda-40",
          "Tengu-Bench-120",
          "VNTL-Translation-200"
         ],
         "type": "scatterpolar"
        },
        {
         "fill": "toself",
         "fillcolor": "rgba(171, 99, 250, 0.2)",
         "hovertemplate": "<b>%{fullData.name}</b><br>Score: %{r:.2f}<extra></extra>",
         "line": {
          "color": "#AB63FA"
         },
         "mode": "lines+markers",
         "name": "gemma-3-27b-it",
         "r": {
          "bdata": "uB6F61G4IEBVVVVVVdUhQDMzMzMzcyJARERERETEHkCTXyz5xdIdQA==",
          "dtype": "f8"
         },
         "theta": [
          "ELYZA-Tasks-100",
          "MT-Bench-60",
          "Rakuda-40",
          "Tengu-Bench-120",
          "VNTL-Translation-200"
         ],
         "type": "scatterpolar"
        },
        {
         "fill": "toself",
         "fillcolor": "rgba(255, 161, 90, 0.2)",
         "hovertemplate": "<b>%{fullData.name}</b><br>Score: %{r:.2f}<extra></extra>",
         "line": {
          "color": "#FFA15A"
         },
         "mode": "lines+markers",
         "name": "mistral-small-3.2-24b-instruct-2506",
         "r": {
          "bdata": "mpmZmZmZIEC8u7u7u7shQGZmZmZm5iJAd3d3d3d3H0BjyS+W/GIdQA==",
          "dtype": "f8"
         },
         "theta": [
          "ELYZA-Tasks-100",
          "MT-Bench-60",
          "Rakuda-40",
          "Tengu-Bench-120",
          "VNTL-Translation-200"
         ],
         "type": "scatterpolar"
        },
        {
         "fill": "toself",
         "fillcolor": "rgba(25, 211, 243, 0.2)",
         "hovertemplate": "<b>%{fullData.name}</b><br>Score: %{r:.2f}<extra></extra>",
         "line": {
          "color": "#19D3F3"
         },
         "mode": "lines+markers",
         "name": "gemini-2.0-flash-lite",
         "r": {
          "bdata": "mpmZmZmZIECrqqqqqiohQDMzMzMzMyNAq6qqqqqqHkAAAAAAAIAdQA==",
          "dtype": "f8"
         },
         "theta": [
          "ELYZA-Tasks-100",
          "MT-Bench-60",
          "Rakuda-40",
          "Tengu-Bench-120",
          "VNTL-Translation-200"
         ],
         "type": "scatterpolar"
        },
        {
         "fill": "toself",
         "fillcolor": "rgba(255, 102, 146, 0.2)",
         "hovertemplate": "<b>%{fullData.name}</b><br>Score: %{r:.2f}<extra></extra>",
         "line": {
          "color": "#FF6692"
         },
         "mode": "lines+markers",
         "name": "qwen3-32b",
         "r": {
          "bdata": "16NwPQrXIUCrqqqqqqoiQAAAAAAAgCFAzczMzMzMH0DTBjptoFMbQA==",
          "dtype": "f8"
         },
         "theta": [
          "ELYZA-Tasks-100",
          "MT-Bench-60",
          "Rakuda-40",
          "Tengu-Bench-120",
          "VNTL-Translation-200"
         ],
         "type": "scatterpolar"
        },
        {
         "fill": "toself",
         "fillcolor": "rgba(182, 232, 128, 0.2)",
         "hovertemplate": "<b>%{fullData.name}</b><br>Score: %{r:.2f}<extra></extra>",
         "line": {
          "color": "#B6E880"
         },
         "mode": "lines+markers",
         "name": "mistral-small-3.1-24b-instruct-2503",
         "r": {
          "bdata": "mpmZmZmZIEBmZmZmZuYgQJqZmZmZWSJAVVVVVVVVHkDGkl8s+cUcQA==",
          "dtype": "f8"
         },
         "theta": [
          "ELYZA-Tasks-100",
          "MT-Bench-60",
          "Rakuda-40",
          "Tengu-Bench-120",
          "VNTL-Translation-200"
         ],
         "type": "scatterpolar"
        },
        {
         "fill": "toself",
         "fillcolor": "rgba(255, 151, 255, 0.2)",
         "hovertemplate": "<b>%{fullData.name}</b><br>Score: %{r:.2f}<extra></extra>",
         "line": {
          "color": "#FF97FF"
         },
         "mode": "lines+markers",
         "name": "aya-expanse-32b-abliterated",
         "r": {
          "bdata": "PQrXo3A9IEBmZmZmZmYhQAAAAAAAwCFAERERERGRHEBxPQrXo/AdQA==",
          "dtype": "f8"
         },
         "theta": [
          "ELYZA-Tasks-100",
          "MT-Bench-60",
          "Rakuda-40",
          "Tengu-Bench-120",
          "VNTL-Translation-200"
         ],
         "type": "scatterpolar"
        },
        {
         "fill": "toself",
         "fillcolor": "rgba(254, 203, 82, 0.2)",
         "hovertemplate": "<b>%{fullData.name}</b><br>Score: %{r:.2f}<extra></extra>",
         "line": {
          "color": "#FECB52"
         },
         "mode": "lines+markers",
         "name": "glm-4-32b-0414",
         "r": {
          "bdata": "SOF6FK5HIEAREREREREhQM3MzMzMDCJAzczMzMzMHkB/seQXS/4bQA==",
          "dtype": "f8"
         },
         "theta": [
          "ELYZA-Tasks-100",
          "MT-Bench-60",
          "Rakuda-40",
          "Tengu-Bench-120",
          "VNTL-Translation-200"
         ],
         "type": "scatterpolar"
        },
        {
         "fill": "toself",
         "fillcolor": "rgba(99, 110, 250, 0.2)",
         "hovertemplate": "<b>%{fullData.name}</b><br>Score: %{r:.2f}<extra></extra>",
         "line": {
          "color": "#636EFA"
         },
         "mode": "lines+markers",
         "name": "amoral-gemma3-27b-v2-qat",
         "r": {
          "bdata": "16NwPQrXGUAREREREREPQDMzMzMzMwxA3t3d3d1dFUDRaQOdNpAbQA==",
          "dtype": "f8"
         },
         "theta": [
          "ELYZA-Tasks-100",
          "MT-Bench-60",
          "Rakuda-40",
          "Tengu-Bench-120",
          "VNTL-Translation-200"
         ],
         "type": "scatterpolar"
        }
       ],
       "layout": {
        "height": 600,
        "legend": {
         "orientation": "h",
         "x": 0.5,
         "xanchor": "center",
         "y": -0.25,
         "yanchor": "bottom"
        },
        "margin": {
         "b": 120,
         "l": 80,
         "r": 80,
         "t": 80
        },
        "polar": {
         "angularaxis": {
          "tickfont": {
           "size": 12
          }
         },
         "radialaxis": {
          "range": [
           0,
           10
          ],
          "visible": true
         }
        },
        "template": {
         "data": {
          "bar": [
           {
            "error_x": {
             "color": "#2a3f5f"
            },
            "error_y": {
             "color": "#2a3f5f"
            },
            "marker": {
             "line": {
              "color": "white",
              "width": 0.5
             },
             "pattern": {
              "fillmode": "overlay",
              "size": 10,
              "solidity": 0.2
             }
            },
            "type": "bar"
           }
          ],
          "barpolar": [
           {
            "marker": {
             "line": {
              "color": "white",
              "width": 0.5
             },
             "pattern": {
              "fillmode": "overlay",
              "size": 10,
              "solidity": 0.2
             }
            },
            "type": "barpolar"
           }
          ],
          "carpet": [
           {
            "aaxis": {
             "endlinecolor": "#2a3f5f",
             "gridcolor": "#C8D4E3",
             "linecolor": "#C8D4E3",
             "minorgridcolor": "#C8D4E3",
             "startlinecolor": "#2a3f5f"
            },
            "baxis": {
             "endlinecolor": "#2a3f5f",
             "gridcolor": "#C8D4E3",
             "linecolor": "#C8D4E3",
             "minorgridcolor": "#C8D4E3",
             "startlinecolor": "#2a3f5f"
            },
            "type": "carpet"
           }
          ],
          "choropleth": [
           {
            "colorbar": {
             "outlinewidth": 0,
             "ticks": ""
            },
            "type": "choropleth"
           }
          ],
          "contour": [
           {
            "colorbar": {
             "outlinewidth": 0,
             "ticks": ""
            },
            "colorscale": [
             [
              0,
              "#0d0887"
             ],
             [
              0.1111111111111111,
              "#46039f"
             ],
             [
              0.2222222222222222,
              "#7201a8"
             ],
             [
              0.3333333333333333,
              "#9c179e"
             ],
             [
              0.4444444444444444,
              "#bd3786"
             ],
             [
              0.5555555555555556,
              "#d8576b"
             ],
             [
              0.6666666666666666,
              "#ed7953"
             ],
             [
              0.7777777777777778,
              "#fb9f3a"
             ],
             [
              0.8888888888888888,
              "#fdca26"
             ],
             [
              1,
              "#f0f921"
             ]
            ],
            "type": "contour"
           }
          ],
          "contourcarpet": [
           {
            "colorbar": {
             "outlinewidth": 0,
             "ticks": ""
            },
            "type": "contourcarpet"
           }
          ],
          "heatmap": [
           {
            "colorbar": {
             "outlinewidth": 0,
             "ticks": ""
            },
            "colorscale": [
             [
              0,
              "#0d0887"
             ],
             [
              0.1111111111111111,
              "#46039f"
             ],
             [
              0.2222222222222222,
              "#7201a8"
             ],
             [
              0.3333333333333333,
              "#9c179e"
             ],
             [
              0.4444444444444444,
              "#bd3786"
             ],
             [
              0.5555555555555556,
              "#d8576b"
             ],
             [
              0.6666666666666666,
              "#ed7953"
             ],
             [
              0.7777777777777778,
              "#fb9f3a"
             ],
             [
              0.8888888888888888,
              "#fdca26"
             ],
             [
              1,
              "#f0f921"
             ]
            ],
            "type": "heatmap"
           }
          ],
          "histogram": [
           {
            "marker": {
             "pattern": {
              "fillmode": "overlay",
              "size": 10,
              "solidity": 0.2
             }
            },
            "type": "histogram"
           }
          ],
          "histogram2d": [
           {
            "colorbar": {
             "outlinewidth": 0,
             "ticks": ""
            },
            "colorscale": [
             [
              0,
              "#0d0887"
             ],
             [
              0.1111111111111111,
              "#46039f"
             ],
             [
              0.2222222222222222,
              "#7201a8"
             ],
             [
              0.3333333333333333,
              "#9c179e"
             ],
             [
              0.4444444444444444,
              "#bd3786"
             ],
             [
              0.5555555555555556,
              "#d8576b"
             ],
             [
              0.6666666666666666,
              "#ed7953"
             ],
             [
              0.7777777777777778,
              "#fb9f3a"
             ],
             [
              0.8888888888888888,
              "#fdca26"
             ],
             [
              1,
              "#f0f921"
             ]
            ],
            "type": "histogram2d"
           }
          ],
          "histogram2dcontour": [
           {
            "colorbar": {
             "outlinewidth": 0,
             "ticks": ""
            },
            "colorscale": [
             [
              0,
              "#0d0887"
             ],
             [
              0.1111111111111111,
              "#46039f"
             ],
             [
              0.2222222222222222,
              "#7201a8"
             ],
             [
              0.3333333333333333,
              "#9c179e"
             ],
             [
              0.4444444444444444,
              "#bd3786"
             ],
             [
              0.5555555555555556,
              "#d8576b"
             ],
             [
              0.6666666666666666,
              "#ed7953"
             ],
             [
              0.7777777777777778,
              "#fb9f3a"
             ],
             [
              0.8888888888888888,
              "#fdca26"
             ],
             [
              1,
              "#f0f921"
             ]
            ],
            "type": "histogram2dcontour"
           }
          ],
          "mesh3d": [
           {
            "colorbar": {
             "outlinewidth": 0,
             "ticks": ""
            },
            "type": "mesh3d"
           }
          ],
          "parcoords": [
           {
            "line": {
             "colorbar": {
              "outlinewidth": 0,
              "ticks": ""
             }
            },
            "type": "parcoords"
           }
          ],
          "pie": [
           {
            "automargin": true,
            "type": "pie"
           }
          ],
          "scatter": [
           {
            "fillpattern": {
             "fillmode": "overlay",
             "size": 10,
             "solidity": 0.2
            },
            "type": "scatter"
           }
          ],
          "scatter3d": [
           {
            "line": {
             "colorbar": {
              "outlinewidth": 0,
              "ticks": ""
             }
            },
            "marker": {
             "colorbar": {
              "outlinewidth": 0,
              "ticks": ""
             }
            },
            "type": "scatter3d"
           }
          ],
          "scattercarpet": [
           {
            "marker": {
             "colorbar": {
              "outlinewidth": 0,
              "ticks": ""
             }
            },
            "type": "scattercarpet"
           }
          ],
          "scattergeo": [
           {
            "marker": {
             "colorbar": {
              "outlinewidth": 0,
              "ticks": ""
             }
            },
            "type": "scattergeo"
           }
          ],
          "scattergl": [
           {
            "marker": {
             "colorbar": {
              "outlinewidth": 0,
              "ticks": ""
             }
            },
            "type": "scattergl"
           }
          ],
          "scattermap": [
           {
            "marker": {
             "colorbar": {
              "outlinewidth": 0,
              "ticks": ""
             }
            },
            "type": "scattermap"
           }
          ],
          "scattermapbox": [
           {
            "marker": {
             "colorbar": {
              "outlinewidth": 0,
              "ticks": ""
             }
            },
            "type": "scattermapbox"
           }
          ],
          "scatterpolar": [
           {
            "marker": {
             "colorbar": {
              "outlinewidth": 0,
              "ticks": ""
             }
            },
            "type": "scatterpolar"
           }
          ],
          "scatterpolargl": [
           {
            "marker": {
             "colorbar": {
              "outlinewidth": 0,
              "ticks": ""
             }
            },
            "type": "scatterpolargl"
           }
          ],
          "scatterternary": [
           {
            "marker": {
             "colorbar": {
              "outlinewidth": 0,
              "ticks": ""
             }
            },
            "type": "scatterternary"
           }
          ],
          "surface": [
           {
            "colorbar": {
             "outlinewidth": 0,
             "ticks": ""
            },
            "colorscale": [
             [
              0,
              "#0d0887"
             ],
             [
              0.1111111111111111,
              "#46039f"
             ],
             [
              0.2222222222222222,
              "#7201a8"
             ],
             [
              0.3333333333333333,
              "#9c179e"
             ],
             [
              0.4444444444444444,
              "#bd3786"
             ],
             [
              0.5555555555555556,
              "#d8576b"
             ],
             [
              0.6666666666666666,
              "#ed7953"
             ],
             [
              0.7777777777777778,
              "#fb9f3a"
             ],
             [
              0.8888888888888888,
              "#fdca26"
             ],
             [
              1,
              "#f0f921"
             ]
            ],
            "type": "surface"
           }
          ],
          "table": [
           {
            "cells": {
             "fill": {
              "color": "#EBF0F8"
             },
             "line": {
              "color": "white"
             }
            },
            "header": {
             "fill": {
              "color": "#C8D4E3"
             },
             "line": {
              "color": "white"
             }
            },
            "type": "table"
           }
          ]
         },
         "layout": {
          "annotationdefaults": {
           "arrowcolor": "#2a3f5f",
           "arrowhead": 0,
           "arrowwidth": 1
          },
          "autotypenumbers": "strict",
          "coloraxis": {
           "colorbar": {
            "outlinewidth": 0,
            "ticks": ""
           }
          },
          "colorscale": {
           "diverging": [
            [
             0,
             "#8e0152"
            ],
            [
             0.1,
             "#c51b7d"
            ],
            [
             0.2,
             "#de77ae"
            ],
            [
             0.3,
             "#f1b6da"
            ],
            [
             0.4,
             "#fde0ef"
            ],
            [
             0.5,
             "#f7f7f7"
            ],
            [
             0.6,
             "#e6f5d0"
            ],
            [
             0.7,
             "#b8e186"
            ],
            [
             0.8,
             "#7fbc41"
            ],
            [
             0.9,
             "#4d9221"
            ],
            [
             1,
             "#276419"
            ]
           ],
           "sequential": [
            [
             0,
             "#0d0887"
            ],
            [
             0.1111111111111111,
             "#46039f"
            ],
            [
             0.2222222222222222,
             "#7201a8"
            ],
            [
             0.3333333333333333,
             "#9c179e"
            ],
            [
             0.4444444444444444,
             "#bd3786"
            ],
            [
             0.5555555555555556,
             "#d8576b"
            ],
            [
             0.6666666666666666,
             "#ed7953"
            ],
            [
             0.7777777777777778,
             "#fb9f3a"
            ],
            [
             0.8888888888888888,
             "#fdca26"
            ],
            [
             1,
             "#f0f921"
            ]
           ],
           "sequentialminus": [
            [
             0,
             "#0d0887"
            ],
            [
             0.1111111111111111,
             "#46039f"
            ],
            [
             0.2222222222222222,
             "#7201a8"
            ],
            [
             0.3333333333333333,
             "#9c179e"
            ],
            [
             0.4444444444444444,
             "#bd3786"
            ],
            [
             0.5555555555555556,
             "#d8576b"
            ],
            [
             0.6666666666666666,
             "#ed7953"
            ],
            [
             0.7777777777777778,
             "#fb9f3a"
            ],
            [
             0.8888888888888888,
             "#fdca26"
            ],
            [
             1,
             "#f0f921"
            ]
           ]
          },
          "colorway": [
           "#636efa",
           "#EF553B",
           "#00cc96",
           "#ab63fa",
           "#FFA15A",
           "#19d3f3",
           "#FF6692",
           "#B6E880",
           "#FF97FF",
           "#FECB52"
          ],
          "font": {
           "color": "#2a3f5f"
          },
          "geo": {
           "bgcolor": "white",
           "lakecolor": "white",
           "landcolor": "white",
           "showlakes": true,
           "showland": true,
           "subunitcolor": "#C8D4E3"
          },
          "hoverlabel": {
           "align": "left"
          },
          "hovermode": "closest",
          "mapbox": {
           "style": "light"
          },
          "paper_bgcolor": "white",
          "plot_bgcolor": "white",
          "polar": {
           "angularaxis": {
            "gridcolor": "#EBF0F8",
            "linecolor": "#EBF0F8",
            "ticks": ""
           },
           "bgcolor": "white",
           "radialaxis": {
            "gridcolor": "#EBF0F8",
            "linecolor": "#EBF0F8",
            "ticks": ""
           }
          },
          "scene": {
           "xaxis": {
            "backgroundcolor": "white",
            "gridcolor": "#DFE8F3",
            "gridwidth": 2,
            "linecolor": "#EBF0F8",
            "showbackground": true,
            "ticks": "",
            "zerolinecolor": "#EBF0F8"
           },
           "yaxis": {
            "backgroundcolor": "white",
            "gridcolor": "#DFE8F3",
            "gridwidth": 2,
            "linecolor": "#EBF0F8",
            "showbackground": true,
            "ticks": "",
            "zerolinecolor": "#EBF0F8"
           },
           "zaxis": {
            "backgroundcolor": "white",
            "gridcolor": "#DFE8F3",
            "gridwidth": 2,
            "linecolor": "#EBF0F8",
            "showbackground": true,
            "ticks": "",
            "zerolinecolor": "#EBF0F8"
           }
          },
          "shapedefaults": {
           "line": {
            "color": "#2a3f5f"
           }
          },
          "ternary": {
           "aaxis": {
            "gridcolor": "#DFE8F3",
            "linecolor": "#A2B1C6",
            "ticks": ""
           },
           "baxis": {
            "gridcolor": "#DFE8F3",
            "linecolor": "#A2B1C6",
            "ticks": ""
           },
           "bgcolor": "white",
           "caxis": {
            "gridcolor": "#DFE8F3",
            "linecolor": "#A2B1C6",
            "ticks": ""
           }
          },
          "title": {
           "x": 0.05
          },
          "xaxis": {
           "automargin": true,
           "gridcolor": "#EBF0F8",
           "linecolor": "#EBF0F8",
           "ticks": "",
           "title": {
            "standoff": 15
           },
           "zerolinecolor": "#EBF0F8",
           "zerolinewidth": 2
          },
          "yaxis": {
           "automargin": true,
           "gridcolor": "#EBF0F8",
           "linecolor": "#EBF0F8",
           "ticks": "",
           "title": {
            "standoff": 15
           },
           "zerolinecolor": "#EBF0F8",
           "zerolinewidth": 2
          }
         }
        },
        "title": {
         "font": {
          "size": 20
         },
         "text": "Model Performance Radar Chart<br><sup>Judge: gpt-4.1 & Metrics | 24B - 32B Model Range</sup>",
         "x": 0.5,
         "y": 0.95
        }
       }
      }
     },
     "metadata": {},
     "output_type": "display_data"
    }
   ],
   "source": [
    "import plotly.graph_objects as go\n",
    "import plotly.express as px\n",
    "import textwrap\n",
    "\n",
    "primary_judge = 'judge_gpt-4.1'\n",
    "df_filtered = all_result_df[all_result_df['judge_model'].isin([primary_judge, 'Metrics (BLEU/chrF)'])]\n",
    "mean_df = df_filtered.groupby([\"model_name\", \"eval_dataset\"])['score'].mean().reset_index()\n",
    "unique_benchmarks = sorted(mean_df['eval_dataset'].unique())\n",
    "\n",
    "def hex_to_rgba(h, a):\n",
    "    h = h.lstrip('#')\n",
    "    return f'rgba({int(h[0:2], 16)}, {int(h[2:4], 16)}, {int(h[4:6], 16)}, {a})'\n",
    "\n",
    "fig_radar = go.Figure()\n",
    "# Uses the global model_order and color_map\n",
    "for model_name in model_order:\n",
    "    if model_name in mean_df['model_name'].values:\n",
    "        model_subset = mean_df[mean_df['model_name'] == model_name].set_index('eval_dataset').reindex(unique_benchmarks).reset_index()\n",
    "        fig_radar.add_trace(go.Scatterpolar(\n",
    "            r=model_subset[\"score\"], theta=model_subset[\"eval_dataset\"], fill='toself', name=model_name,\n",
    "            mode='lines+markers', line=dict(color=color_map[model_name]),\n",
    "            fillcolor=hex_to_rgba(color_map[model_name], 0.2),\n",
    "            hovertemplate=\"<b>%{fullData.name}</b><br>Score: %{r:.2f}<extra></extra>\"\n",
    "        ))\n",
    "        \n",
    "# --- Final Layout Update ---\n",
    "fig_radar.update_layout(\n",
    "    height=600,\n",
    "    title=dict(\n",
    "        text=f\"Model Performance Radar Chart<br><sup>Judge: {primary_judge.replace('judge_', '')} & Metrics | {MODEL_RANGE_GROUP}</sup>\",\n",
    "        font=dict(size=20),\n",
    "        x=0.5,\n",
    "        y=0.95\n",
    "    ),\n",
    "    polar=dict(\n",
    "        radialaxis=dict(visible=True, range=[0, 10]),\n",
    "        angularaxis=dict(\n",
    "            tickfont=dict(size=12)\n",
    "        )\n",
    "    ),\n",
    "    legend=dict(\n",
    "        orientation='h',\n",
    "        yanchor='bottom',\n",
    "        y=-0.25, # Further increase distance for legend\n",
    "        xanchor='center',\n",
    "        x=0.5\n",
    "    ),\n",
    "    template='plotly_white',\n",
    "    # Increase bottom margin significantly to ensure everything fits\n",
    "    margin=dict(l=80, r=80, b=120, t=80)\n",
    ")\n",
    "\n",
    "fig_radar.show()"
   ]
  },
  {
   "cell_type": "code",
   "execution_count": 155,
   "id": "82216dff",
   "metadata": {},
   "outputs": [
    {
     "data": {
      "application/vnd.plotly.v1+json": {
       "config": {
        "plotlyServerURL": "https://plot.ly"
       },
       "data": [
        {
         "marker": {
          "color": "#636EFA"
         },
         "name": "gpt-4o",
         "orientation": "h",
         "showlegend": true,
         "text": [
          "9.22"
         ],
         "textposition": "outside",
         "type": "bar",
         "x": [
          9.22
         ],
         "xaxis": "x",
         "y": [
          "gpt-4o"
         ],
         "yaxis": "y"
        },
        {
         "marker": {
          "color": "#EF553B"
         },
         "name": "shisa-v2-qwen2.5-32b",
         "orientation": "h",
         "showlegend": true,
         "text": [
          "8.70"
         ],
         "textposition": "outside",
         "type": "bar",
         "x": [
          8.7
         ],
         "xaxis": "x",
         "y": [
          "shisa-v2-qwen2.5-32b"
         ],
         "yaxis": "y"
        },
        {
         "marker": {
          "color": "#00CC96"
         },
         "name": "shisa-v2-mistral-small-24b",
         "orientation": "h",
         "showlegend": true,
         "text": [
          "8.30"
         ],
         "textposition": "outside",
         "type": "bar",
         "x": [
          8.3
         ],
         "xaxis": "x",
         "y": [
          "shisa-v2-mistral-small-24b"
         ],
         "yaxis": "y"
        },
        {
         "marker": {
          "color": "#AB63FA"
         },
         "name": "gemma-3-27b-it",
         "orientation": "h",
         "showlegend": true,
         "text": [
          "8.36"
         ],
         "textposition": "outside",
         "type": "bar",
         "x": [
          8.36
         ],
         "xaxis": "x",
         "y": [
          "gemma-3-27b-it"
         ],
         "yaxis": "y"
        },
        {
         "marker": {
          "color": "#FFA15A"
         },
         "name": "mistral-small-3.2-24b-instruct-2506",
         "orientation": "h",
         "showlegend": true,
         "text": [
          "8.30"
         ],
         "textposition": "outside",
         "type": "bar",
         "x": [
          8.3
         ],
         "xaxis": "x",
         "y": [
          "mistral-small-3.2-24b-instruct-2506"
         ],
         "yaxis": "y"
        },
        {
         "marker": {
          "color": "#19D3F3"
         },
         "name": "gemini-2.0-flash-lite",
         "orientation": "h",
         "showlegend": true,
         "text": [
          "8.30"
         ],
         "textposition": "outside",
         "type": "bar",
         "x": [
          8.3
         ],
         "xaxis": "x",
         "y": [
          "gemini-2.0-flash-lite"
         ],
         "yaxis": "y"
        },
        {
         "marker": {
          "color": "#FF6692"
         },
         "name": "qwen3-32b",
         "orientation": "h",
         "showlegend": true,
         "text": [
          "8.92"
         ],
         "textposition": "outside",
         "type": "bar",
         "x": [
          8.92
         ],
         "xaxis": "x",
         "y": [
          "qwen3-32b"
         ],
         "yaxis": "y"
        },
        {
         "marker": {
          "color": "#B6E880"
         },
         "name": "mistral-small-3.1-24b-instruct-2503",
         "orientation": "h",
         "showlegend": true,
         "text": [
          "8.30"
         ],
         "textposition": "outside",
         "type": "bar",
         "x": [
          8.3
         ],
         "xaxis": "x",
         "y": [
          "mistral-small-3.1-24b-instruct-2503"
         ],
         "yaxis": "y"
        },
        {
         "marker": {
          "color": "#FF97FF"
         },
         "name": "aya-expanse-32b-abliterated",
         "orientation": "h",
         "showlegend": true,
         "text": [
          "8.12"
         ],
         "textposition": "outside",
         "type": "bar",
         "x": [
          8.12
         ],
         "xaxis": "x",
         "y": [
          "aya-expanse-32b-abliterated"
         ],
         "yaxis": "y"
        },
        {
         "marker": {
          "color": "#FECB52"
         },
         "name": "glm-4-32b-0414",
         "orientation": "h",
         "showlegend": true,
         "text": [
          "8.14"
         ],
         "textposition": "outside",
         "type": "bar",
         "x": [
          8.14
         ],
         "xaxis": "x",
         "y": [
          "glm-4-32b-0414"
         ],
         "yaxis": "y"
        },
        {
         "marker": {
          "color": "#636EFA"
         },
         "name": "amoral-gemma3-27b-v2-qat",
         "orientation": "h",
         "showlegend": true,
         "text": [
          "6.46"
         ],
         "textposition": "outside",
         "type": "bar",
         "x": [
          6.46
         ],
         "xaxis": "x",
         "y": [
          "amoral-gemma3-27b-v2-qat"
         ],
         "yaxis": "y"
        },
        {
         "marker": {
          "color": "#636EFA"
         },
         "name": "gpt-4o",
         "orientation": "h",
         "showlegend": false,
         "text": [
          "9.32"
         ],
         "textposition": "outside",
         "type": "bar",
         "x": [
          9.316666666666666
         ],
         "xaxis": "x2",
         "y": [
          "gpt-4o"
         ],
         "yaxis": "y2"
        },
        {
         "marker": {
          "color": "#EF553B"
         },
         "name": "shisa-v2-qwen2.5-32b",
         "orientation": "h",
         "showlegend": false,
         "text": [
          "8.78"
         ],
         "textposition": "outside",
         "type": "bar",
         "x": [
          8.783333333333333
         ],
         "xaxis": "x2",
         "y": [
          "shisa-v2-qwen2.5-32b"
         ],
         "yaxis": "y2"
        },
        {
         "marker": {
          "color": "#00CC96"
         },
         "name": "shisa-v2-mistral-small-24b",
         "orientation": "h",
         "showlegend": false,
         "text": [
          "7.93"
         ],
         "textposition": "outside",
         "type": "bar",
         "x": [
          7.933333333333334
         ],
         "xaxis": "x2",
         "y": [
          "shisa-v2-mistral-small-24b"
         ],
         "yaxis": "y2"
        },
        {
         "marker": {
          "color": "#AB63FA"
         },
         "name": "gemma-3-27b-it",
         "orientation": "h",
         "showlegend": false,
         "text": [
          "8.92"
         ],
         "textposition": "outside",
         "type": "bar",
         "x": [
          8.916666666666666
         ],
         "xaxis": "x2",
         "y": [
          "gemma-3-27b-it"
         ],
         "yaxis": "y2"
        },
        {
         "marker": {
          "color": "#FFA15A"
         },
         "name": "mistral-small-3.2-24b-instruct-2506",
         "orientation": "h",
         "showlegend": false,
         "text": [
          "8.87"
         ],
         "textposition": "outside",
         "type": "bar",
         "x": [
          8.866666666666667
         ],
         "xaxis": "x2",
         "y": [
          "mistral-small-3.2-24b-instruct-2506"
         ],
         "yaxis": "y2"
        },
        {
         "marker": {
          "color": "#19D3F3"
         },
         "name": "gemini-2.0-flash-lite",
         "orientation": "h",
         "showlegend": false,
         "text": [
          "8.58"
         ],
         "textposition": "outside",
         "type": "bar",
         "x": [
          8.583333333333334
         ],
         "xaxis": "x2",
         "y": [
          "gemini-2.0-flash-lite"
         ],
         "yaxis": "y2"
        },
        {
         "marker": {
          "color": "#FF6692"
         },
         "name": "qwen3-32b",
         "orientation": "h",
         "showlegend": false,
         "text": [
          "9.33"
         ],
         "textposition": "outside",
         "type": "bar",
         "x": [
          9.333333333333334
         ],
         "xaxis": "x2",
         "y": [
          "qwen3-32b"
         ],
         "yaxis": "y2"
        },
        {
         "marker": {
          "color": "#B6E880"
         },
         "name": "mistral-small-3.1-24b-instruct-2503",
         "orientation": "h",
         "showlegend": false,
         "text": [
          "8.45"
         ],
         "textposition": "outside",
         "type": "bar",
         "x": [
          8.45
         ],
         "xaxis": "x2",
         "y": [
          "mistral-small-3.1-24b-instruct-2503"
         ],
         "yaxis": "y2"
        },
        {
         "marker": {
          "color": "#FF97FF"
         },
         "name": "aya-expanse-32b-abliterated",
         "orientation": "h",
         "showlegend": false,
         "text": [
          "8.70"
         ],
         "textposition": "outside",
         "type": "bar",
         "x": [
          8.7
         ],
         "xaxis": "x2",
         "y": [
          "aya-expanse-32b-abliterated"
         ],
         "yaxis": "y2"
        },
        {
         "marker": {
          "color": "#FECB52"
         },
         "name": "glm-4-32b-0414",
         "orientation": "h",
         "showlegend": false,
         "text": [
          "8.53"
         ],
         "textposition": "outside",
         "type": "bar",
         "x": [
          8.533333333333333
         ],
         "xaxis": "x2",
         "y": [
          "glm-4-32b-0414"
         ],
         "yaxis": "y2"
        },
        {
         "marker": {
          "color": "#636EFA"
         },
         "name": "amoral-gemma3-27b-v2-qat",
         "orientation": "h",
         "showlegend": false,
         "text": [
          "3.88"
         ],
         "textposition": "outside",
         "type": "bar",
         "x": [
          3.8833333333333333
         ],
         "xaxis": "x2",
         "y": [
          "amoral-gemma3-27b-v2-qat"
         ],
         "yaxis": "y2"
        },
        {
         "marker": {
          "color": "#636EFA"
         },
         "name": "gpt-4o",
         "orientation": "h",
         "showlegend": false,
         "text": [
          "9.90"
         ],
         "textposition": "outside",
         "type": "bar",
         "x": [
          9.9
         ],
         "xaxis": "x3",
         "y": [
          "gpt-4o"
         ],
         "yaxis": "y3"
        },
        {
         "marker": {
          "color": "#EF553B"
         },
         "name": "shisa-v2-qwen2.5-32b",
         "orientation": "h",
         "showlegend": false,
         "text": [
          "9.12"
         ],
         "textposition": "outside",
         "type": "bar",
         "x": [
          9.125
         ],
         "xaxis": "x3",
         "y": [
          "shisa-v2-qwen2.5-32b"
         ],
         "yaxis": "y3"
        },
        {
         "marker": {
          "color": "#00CC96"
         },
         "name": "shisa-v2-mistral-small-24b",
         "orientation": "h",
         "showlegend": false,
         "text": [
          "8.45"
         ],
         "textposition": "outside",
         "type": "bar",
         "x": [
          8.45
         ],
         "xaxis": "x3",
         "y": [
          "shisa-v2-mistral-small-24b"
         ],
         "yaxis": "y3"
        },
        {
         "marker": {
          "color": "#AB63FA"
         },
         "name": "gemma-3-27b-it",
         "orientation": "h",
         "showlegend": false,
         "text": [
          "9.22"
         ],
         "textposition": "outside",
         "type": "bar",
         "x": [
          9.225
         ],
         "xaxis": "x3",
         "y": [
          "gemma-3-27b-it"
         ],
         "yaxis": "y3"
        },
        {
         "marker": {
          "color": "#FFA15A"
         },
         "name": "mistral-small-3.2-24b-instruct-2506",
         "orientation": "h",
         "showlegend": false,
         "text": [
          "9.45"
         ],
         "textposition": "outside",
         "type": "bar",
         "x": [
          9.45
         ],
         "xaxis": "x3",
         "y": [
          "mistral-small-3.2-24b-instruct-2506"
         ],
         "yaxis": "y3"
        },
        {
         "marker": {
          "color": "#19D3F3"
         },
         "name": "gemini-2.0-flash-lite",
         "orientation": "h",
         "showlegend": false,
         "text": [
          "9.60"
         ],
         "textposition": "outside",
         "type": "bar",
         "x": [
          9.6
         ],
         "xaxis": "x3",
         "y": [
          "gemini-2.0-flash-lite"
         ],
         "yaxis": "y3"
        },
        {
         "marker": {
          "color": "#FF6692"
         },
         "name": "qwen3-32b",
         "orientation": "h",
         "showlegend": false,
         "text": [
          "8.75"
         ],
         "textposition": "outside",
         "type": "bar",
         "x": [
          8.75
         ],
         "xaxis": "x3",
         "y": [
          "qwen3-32b"
         ],
         "yaxis": "y3"
        },
        {
         "marker": {
          "color": "#B6E880"
         },
         "name": "mistral-small-3.1-24b-instruct-2503",
         "orientation": "h",
         "showlegend": false,
         "text": [
          "9.18"
         ],
         "textposition": "outside",
         "type": "bar",
         "x": [
          9.175
         ],
         "xaxis": "x3",
         "y": [
          "mistral-small-3.1-24b-instruct-2503"
         ],
         "yaxis": "y3"
        },
        {
         "marker": {
          "color": "#FF97FF"
         },
         "name": "aya-expanse-32b-abliterated",
         "orientation": "h",
         "showlegend": false,
         "text": [
          "8.88"
         ],
         "textposition": "outside",
         "type": "bar",
         "x": [
          8.875
         ],
         "xaxis": "x3",
         "y": [
          "aya-expanse-32b-abliterated"
         ],
         "yaxis": "y3"
        },
        {
         "marker": {
          "color": "#FECB52"
         },
         "name": "glm-4-32b-0414",
         "orientation": "h",
         "showlegend": false,
         "text": [
          "9.03"
         ],
         "textposition": "outside",
         "type": "bar",
         "x": [
          9.025
         ],
         "xaxis": "x3",
         "y": [
          "glm-4-32b-0414"
         ],
         "yaxis": "y3"
        },
        {
         "marker": {
          "color": "#636EFA"
         },
         "name": "amoral-gemma3-27b-v2-qat",
         "orientation": "h",
         "showlegend": false,
         "text": [
          "3.52"
         ],
         "textposition": "outside",
         "type": "bar",
         "x": [
          3.525
         ],
         "xaxis": "x3",
         "y": [
          "amoral-gemma3-27b-v2-qat"
         ],
         "yaxis": "y3"
        },
        {
         "marker": {
          "color": "#636EFA"
         },
         "name": "gpt-4o",
         "orientation": "h",
         "showlegend": false,
         "text": [
          "8.52"
         ],
         "textposition": "outside",
         "type": "bar",
         "x": [
          8.516666666666667
         ],
         "xaxis": "x4",
         "y": [
          "gpt-4o"
         ],
         "yaxis": "y4"
        },
        {
         "marker": {
          "color": "#EF553B"
         },
         "name": "shisa-v2-qwen2.5-32b",
         "orientation": "h",
         "showlegend": false,
         "text": [
          "7.57"
         ],
         "textposition": "outside",
         "type": "bar",
         "x": [
          7.566666666666666
         ],
         "xaxis": "x4",
         "y": [
          "shisa-v2-qwen2.5-32b"
         ],
         "yaxis": "y4"
        },
        {
         "marker": {
          "color": "#00CC96"
         },
         "name": "shisa-v2-mistral-small-24b",
         "orientation": "h",
         "showlegend": false,
         "text": [
          "7.68"
         ],
         "textposition": "outside",
         "type": "bar",
         "x": [
          7.683333333333334
         ],
         "xaxis": "x4",
         "y": [
          "shisa-v2-mistral-small-24b"
         ],
         "yaxis": "y4"
        },
        {
         "marker": {
          "color": "#AB63FA"
         },
         "name": "gemma-3-27b-it",
         "orientation": "h",
         "showlegend": false,
         "text": [
          "7.69"
         ],
         "textposition": "outside",
         "type": "bar",
         "x": [
          7.691666666666666
         ],
         "xaxis": "x4",
         "y": [
          "gemma-3-27b-it"
         ],
         "yaxis": "y4"
        },
        {
         "marker": {
          "color": "#FFA15A"
         },
         "name": "mistral-small-3.2-24b-instruct-2506",
         "orientation": "h",
         "showlegend": false,
         "text": [
          "7.87"
         ],
         "textposition": "outside",
         "type": "bar",
         "x": [
          7.866666666666666
         ],
         "xaxis": "x4",
         "y": [
          "mistral-small-3.2-24b-instruct-2506"
         ],
         "yaxis": "y4"
        },
        {
         "marker": {
          "color": "#19D3F3"
         },
         "name": "gemini-2.0-flash-lite",
         "orientation": "h",
         "showlegend": false,
         "text": [
          "7.67"
         ],
         "textposition": "outside",
         "type": "bar",
         "x": [
          7.666666666666667
         ],
         "xaxis": "x4",
         "y": [
          "gemini-2.0-flash-lite"
         ],
         "yaxis": "y4"
        },
        {
         "marker": {
          "color": "#FF6692"
         },
         "name": "qwen3-32b",
         "orientation": "h",
         "showlegend": false,
         "text": [
          "7.95"
         ],
         "textposition": "outside",
         "type": "bar",
         "x": [
          7.95
         ],
         "xaxis": "x4",
         "y": [
          "qwen3-32b"
         ],
         "yaxis": "y4"
        },
        {
         "marker": {
          "color": "#B6E880"
         },
         "name": "mistral-small-3.1-24b-instruct-2503",
         "orientation": "h",
         "showlegend": false,
         "text": [
          "7.58"
         ],
         "textposition": "outside",
         "type": "bar",
         "x": [
          7.583333333333333
         ],
         "xaxis": "x4",
         "y": [
          "mistral-small-3.1-24b-instruct-2503"
         ],
         "yaxis": "y4"
        },
        {
         "marker": {
          "color": "#FF97FF"
         },
         "name": "aya-expanse-32b-abliterated",
         "orientation": "h",
         "showlegend": false,
         "text": [
          "7.14"
         ],
         "textposition": "outside",
         "type": "bar",
         "x": [
          7.141666666666667
         ],
         "xaxis": "x4",
         "y": [
          "aya-expanse-32b-abliterated"
         ],
         "yaxis": "y4"
        },
        {
         "marker": {
          "color": "#FECB52"
         },
         "name": "glm-4-32b-0414",
         "orientation": "h",
         "showlegend": false,
         "text": [
          "7.70"
         ],
         "textposition": "outside",
         "type": "bar",
         "x": [
          7.7
         ],
         "xaxis": "x4",
         "y": [
          "glm-4-32b-0414"
         ],
         "yaxis": "y4"
        },
        {
         "marker": {
          "color": "#636EFA"
         },
         "name": "amoral-gemma3-27b-v2-qat",
         "orientation": "h",
         "showlegend": false,
         "text": [
          "5.34"
         ],
         "textposition": "outside",
         "type": "bar",
         "x": [
          5.341666666666667
         ],
         "xaxis": "x4",
         "y": [
          "amoral-gemma3-27b-v2-qat"
         ],
         "yaxis": "y4"
        },
        {
         "marker": {
          "color": "#636EFA"
         },
         "name": "gpt-4o",
         "orientation": "h",
         "showlegend": false,
         "text": [
          "8.28"
         ],
         "textposition": "outside",
         "type": "bar",
         "x": [
          8.2775
         ],
         "xaxis": "x5",
         "y": [
          "gpt-4o"
         ],
         "yaxis": "y5"
        },
        {
         "marker": {
          "color": "#EF553B"
         },
         "name": "shisa-v2-qwen2.5-32b",
         "orientation": "h",
         "showlegend": false,
         "text": [
          "7.52"
         ],
         "textposition": "outside",
         "type": "bar",
         "x": [
          7.5183333333333335
         ],
         "xaxis": "x5",
         "y": [
          "shisa-v2-qwen2.5-32b"
         ],
         "yaxis": "y5"
        },
        {
         "marker": {
          "color": "#00CC96"
         },
         "name": "shisa-v2-mistral-small-24b",
         "orientation": "h",
         "showlegend": false,
         "text": [
          "7.97"
         ],
         "textposition": "outside",
         "type": "bar",
         "x": [
          7.9725
         ],
         "xaxis": "x5",
         "y": [
          "shisa-v2-mistral-small-24b"
         ],
         "yaxis": "y5"
        },
        {
         "marker": {
          "color": "#AB63FA"
         },
         "name": "gemma-3-27b-it",
         "orientation": "h",
         "showlegend": false,
         "text": [
          "7.46"
         ],
         "textposition": "outside",
         "type": "bar",
         "x": [
          7.4558333333333335
         ],
         "xaxis": "x5",
         "y": [
          "gemma-3-27b-it"
         ],
         "yaxis": "y5"
        },
        {
         "marker": {
          "color": "#FFA15A"
         },
         "name": "mistral-small-3.2-24b-instruct-2506",
         "orientation": "h",
         "showlegend": false,
         "text": [
          "7.35"
         ],
         "textposition": "outside",
         "type": "bar",
         "x": [
          7.346666666666667
         ],
         "xaxis": "x5",
         "y": [
          "mistral-small-3.2-24b-instruct-2506"
         ],
         "yaxis": "y5"
        },
        {
         "marker": {
          "color": "#19D3F3"
         },
         "name": "gemini-2.0-flash-lite",
         "orientation": "h",
         "showlegend": false,
         "text": [
          "7.38"
         ],
         "textposition": "outside",
         "type": "bar",
         "x": [
          7.375
         ],
         "xaxis": "x5",
         "y": [
          "gemini-2.0-flash-lite"
         ],
         "yaxis": "y5"
        },
        {
         "marker": {
          "color": "#FF6692"
         },
         "name": "qwen3-32b",
         "orientation": "h",
         "showlegend": false,
         "text": [
          "6.83"
         ],
         "textposition": "outside",
         "type": "bar",
         "x": [
          6.831666666666666
         ],
         "xaxis": "x5",
         "y": [
          "qwen3-32b"
         ],
         "yaxis": "y5"
        },
        {
         "marker": {
          "color": "#B6E880"
         },
         "name": "mistral-small-3.1-24b-instruct-2503",
         "orientation": "h",
         "showlegend": false,
         "text": [
          "7.19"
         ],
         "textposition": "outside",
         "type": "bar",
         "x": [
          7.193333333333333
         ],
         "xaxis": "x5",
         "y": [
          "mistral-small-3.1-24b-instruct-2503"
         ],
         "yaxis": "y5"
        },
        {
         "marker": {
          "color": "#FF97FF"
         },
         "name": "aya-expanse-32b-abliterated",
         "orientation": "h",
         "showlegend": false,
         "text": [
          "7.49"
         ],
         "textposition": "outside",
         "type": "bar",
         "x": [
          7.485
         ],
         "xaxis": "x5",
         "y": [
          "aya-expanse-32b-abliterated"
         ],
         "yaxis": "y5"
        },
        {
         "marker": {
          "color": "#FECB52"
         },
         "name": "glm-4-32b-0414",
         "orientation": "h",
         "showlegend": false,
         "text": [
          "7.00"
         ],
         "textposition": "outside",
         "type": "bar",
         "x": [
          6.998333333333334
         ],
         "xaxis": "x5",
         "y": [
          "glm-4-32b-0414"
         ],
         "yaxis": "y5"
        },
        {
         "marker": {
          "color": "#636EFA"
         },
         "name": "amoral-gemma3-27b-v2-qat",
         "orientation": "h",
         "showlegend": false,
         "text": [
          "6.89"
         ],
         "textposition": "outside",
         "type": "bar",
         "x": [
          6.890833333333334
         ],
         "xaxis": "x5",
         "y": [
          "amoral-gemma3-27b-v2-qat"
         ],
         "yaxis": "y5"
        },
        {
         "marker": {
          "color": "#636EFA"
         },
         "name": "gpt-4o",
         "orientation": "h",
         "showlegend": false,
         "text": [
          "9.05"
         ],
         "textposition": "outside",
         "type": "bar",
         "x": [
          9.046166666666668
         ],
         "xaxis": "x6",
         "y": [
          "gpt-4o"
         ],
         "yaxis": "y6"
        },
        {
         "marker": {
          "color": "#EF553B"
         },
         "name": "shisa-v2-qwen2.5-32b",
         "orientation": "h",
         "showlegend": false,
         "text": [
          "8.34"
         ],
         "textposition": "outside",
         "type": "bar",
         "x": [
          8.338666666666667
         ],
         "xaxis": "x6",
         "y": [
          "shisa-v2-qwen2.5-32b"
         ],
         "yaxis": "y6"
        },
        {
         "marker": {
          "color": "#00CC96"
         },
         "name": "shisa-v2-mistral-small-24b",
         "orientation": "h",
         "showlegend": false,
         "text": [
          "8.07"
         ],
         "textposition": "outside",
         "type": "bar",
         "x": [
          8.067833333333335
         ],
         "xaxis": "x6",
         "y": [
          "shisa-v2-mistral-small-24b"
         ],
         "yaxis": "y6"
        },
        {
         "marker": {
          "color": "#AB63FA"
         },
         "name": "gemma-3-27b-it",
         "orientation": "h",
         "showlegend": false,
         "text": [
          "8.33"
         ],
         "textposition": "outside",
         "type": "bar",
         "x": [
          8.329833333333333
         ],
         "xaxis": "x6",
         "y": [
          "gemma-3-27b-it"
         ],
         "yaxis": "y6"
        },
        {
         "marker": {
          "color": "#FFA15A"
         },
         "name": "mistral-small-3.2-24b-instruct-2506",
         "orientation": "h",
         "showlegend": false,
         "text": [
          "8.37"
         ],
         "textposition": "outside",
         "type": "bar",
         "x": [
          8.366
         ],
         "xaxis": "x6",
         "y": [
          "mistral-small-3.2-24b-instruct-2506"
         ],
         "yaxis": "y6"
        },
        {
         "marker": {
          "color": "#19D3F3"
         },
         "name": "gemini-2.0-flash-lite",
         "orientation": "h",
         "showlegend": false,
         "text": [
          "8.30"
         ],
         "textposition": "outside",
         "type": "bar",
         "x": [
          8.305
         ],
         "xaxis": "x6",
         "y": [
          "gemini-2.0-flash-lite"
         ],
         "yaxis": "y6"
        },
        {
         "marker": {
          "color": "#FF6692"
         },
         "name": "qwen3-32b",
         "orientation": "h",
         "showlegend": false,
         "text": [
          "8.36"
         ],
         "textposition": "outside",
         "type": "bar",
         "x": [
          8.357
         ],
         "xaxis": "x6",
         "y": [
          "qwen3-32b"
         ],
         "yaxis": "y6"
        },
        {
         "marker": {
          "color": "#B6E880"
         },
         "name": "mistral-small-3.1-24b-instruct-2503",
         "orientation": "h",
         "showlegend": false,
         "text": [
          "8.14"
         ],
         "textposition": "outside",
         "type": "bar",
         "x": [
          8.140333333333334
         ],
         "xaxis": "x6",
         "y": [
          "mistral-small-3.1-24b-instruct-2503"
         ],
         "yaxis": "y6"
        },
        {
         "marker": {
          "color": "#FF97FF"
         },
         "name": "aya-expanse-32b-abliterated",
         "orientation": "h",
         "showlegend": false,
         "text": [
          "8.06"
         ],
         "textposition": "outside",
         "type": "bar",
         "x": [
          8.064333333333334
         ],
         "xaxis": "x6",
         "y": [
          "aya-expanse-32b-abliterated"
         ],
         "yaxis": "y6"
        },
        {
         "marker": {
          "color": "#FECB52"
         },
         "name": "glm-4-32b-0414",
         "orientation": "h",
         "showlegend": false,
         "text": [
          "8.08"
         ],
         "textposition": "outside",
         "type": "bar",
         "x": [
          8.079333333333334
         ],
         "xaxis": "x6",
         "y": [
          "glm-4-32b-0414"
         ],
         "yaxis": "y6"
        },
        {
         "marker": {
          "color": "#636EFA"
         },
         "name": "amoral-gemma3-27b-v2-qat",
         "orientation": "h",
         "showlegend": false,
         "text": [
          "5.22"
         ],
         "textposition": "outside",
         "type": "bar",
         "x": [
          5.220166666666667
         ],
         "xaxis": "x6",
         "y": [
          "amoral-gemma3-27b-v2-qat"
         ],
         "yaxis": "y6"
        }
       ],
       "layout": {
        "annotations": [
         {
          "font": {
           "size": 16
          },
          "showarrow": false,
          "text": "ELYZA-Tasks-100",
          "x": 0.2375,
          "xanchor": "center",
          "xref": "paper",
          "y": 1,
          "yanchor": "bottom",
          "yref": "paper"
         },
         {
          "font": {
           "size": 16
          },
          "showarrow": false,
          "text": "MT-Bench-60",
          "x": 0.7625,
          "xanchor": "center",
          "xref": "paper",
          "y": 1,
          "yanchor": "bottom",
          "yref": "paper"
         },
         {
          "font": {
           "size": 16
          },
          "showarrow": false,
          "text": "Rakuda-40",
          "x": 0.2375,
          "xanchor": "center",
          "xref": "paper",
          "y": 0.6333333333333333,
          "yanchor": "bottom",
          "yref": "paper"
         },
         {
          "font": {
           "size": 16
          },
          "showarrow": false,
          "text": "Tengu-Bench-120",
          "x": 0.7625,
          "xanchor": "center",
          "xref": "paper",
          "y": 0.6333333333333333,
          "yanchor": "bottom",
          "yref": "paper"
         },
         {
          "font": {
           "size": 16
          },
          "showarrow": false,
          "text": "VNTL-Translation-200",
          "x": 0.2375,
          "xanchor": "center",
          "xref": "paper",
          "y": 0.26666666666666666,
          "yanchor": "bottom",
          "yref": "paper"
         },
         {
          "font": {
           "size": 16
          },
          "showarrow": false,
          "text": "Average",
          "x": 0.7625,
          "xanchor": "center",
          "xref": "paper",
          "y": 0.26666666666666666,
          "yanchor": "bottom",
          "yref": "paper"
         }
        ],
        "bargap": 0.01,
        "bargroupgap": 0.01,
        "height": 1000,
        "legend": {
         "title": {
          "text": "Model"
         }
        },
        "template": {
         "data": {
          "bar": [
           {
            "error_x": {
             "color": "#2a3f5f"
            },
            "error_y": {
             "color": "#2a3f5f"
            },
            "marker": {
             "line": {
              "color": "white",
              "width": 0.5
             },
             "pattern": {
              "fillmode": "overlay",
              "size": 10,
              "solidity": 0.2
             }
            },
            "type": "bar"
           }
          ],
          "barpolar": [
           {
            "marker": {
             "line": {
              "color": "white",
              "width": 0.5
             },
             "pattern": {
              "fillmode": "overlay",
              "size": 10,
              "solidity": 0.2
             }
            },
            "type": "barpolar"
           }
          ],
          "carpet": [
           {
            "aaxis": {
             "endlinecolor": "#2a3f5f",
             "gridcolor": "#C8D4E3",
             "linecolor": "#C8D4E3",
             "minorgridcolor": "#C8D4E3",
             "startlinecolor": "#2a3f5f"
            },
            "baxis": {
             "endlinecolor": "#2a3f5f",
             "gridcolor": "#C8D4E3",
             "linecolor": "#C8D4E3",
             "minorgridcolor": "#C8D4E3",
             "startlinecolor": "#2a3f5f"
            },
            "type": "carpet"
           }
          ],
          "choropleth": [
           {
            "colorbar": {
             "outlinewidth": 0,
             "ticks": ""
            },
            "type": "choropleth"
           }
          ],
          "contour": [
           {
            "colorbar": {
             "outlinewidth": 0,
             "ticks": ""
            },
            "colorscale": [
             [
              0,
              "#0d0887"
             ],
             [
              0.1111111111111111,
              "#46039f"
             ],
             [
              0.2222222222222222,
              "#7201a8"
             ],
             [
              0.3333333333333333,
              "#9c179e"
             ],
             [
              0.4444444444444444,
              "#bd3786"
             ],
             [
              0.5555555555555556,
              "#d8576b"
             ],
             [
              0.6666666666666666,
              "#ed7953"
             ],
             [
              0.7777777777777778,
              "#fb9f3a"
             ],
             [
              0.8888888888888888,
              "#fdca26"
             ],
             [
              1,
              "#f0f921"
             ]
            ],
            "type": "contour"
           }
          ],
          "contourcarpet": [
           {
            "colorbar": {
             "outlinewidth": 0,
             "ticks": ""
            },
            "type": "contourcarpet"
           }
          ],
          "heatmap": [
           {
            "colorbar": {
             "outlinewidth": 0,
             "ticks": ""
            },
            "colorscale": [
             [
              0,
              "#0d0887"
             ],
             [
              0.1111111111111111,
              "#46039f"
             ],
             [
              0.2222222222222222,
              "#7201a8"
             ],
             [
              0.3333333333333333,
              "#9c179e"
             ],
             [
              0.4444444444444444,
              "#bd3786"
             ],
             [
              0.5555555555555556,
              "#d8576b"
             ],
             [
              0.6666666666666666,
              "#ed7953"
             ],
             [
              0.7777777777777778,
              "#fb9f3a"
             ],
             [
              0.8888888888888888,
              "#fdca26"
             ],
             [
              1,
              "#f0f921"
             ]
            ],
            "type": "heatmap"
           }
          ],
          "histogram": [
           {
            "marker": {
             "pattern": {
              "fillmode": "overlay",
              "size": 10,
              "solidity": 0.2
             }
            },
            "type": "histogram"
           }
          ],
          "histogram2d": [
           {
            "colorbar": {
             "outlinewidth": 0,
             "ticks": ""
            },
            "colorscale": [
             [
              0,
              "#0d0887"
             ],
             [
              0.1111111111111111,
              "#46039f"
             ],
             [
              0.2222222222222222,
              "#7201a8"
             ],
             [
              0.3333333333333333,
              "#9c179e"
             ],
             [
              0.4444444444444444,
              "#bd3786"
             ],
             [
              0.5555555555555556,
              "#d8576b"
             ],
             [
              0.6666666666666666,
              "#ed7953"
             ],
             [
              0.7777777777777778,
              "#fb9f3a"
             ],
             [
              0.8888888888888888,
              "#fdca26"
             ],
             [
              1,
              "#f0f921"
             ]
            ],
            "type": "histogram2d"
           }
          ],
          "histogram2dcontour": [
           {
            "colorbar": {
             "outlinewidth": 0,
             "ticks": ""
            },
            "colorscale": [
             [
              0,
              "#0d0887"
             ],
             [
              0.1111111111111111,
              "#46039f"
             ],
             [
              0.2222222222222222,
              "#7201a8"
             ],
             [
              0.3333333333333333,
              "#9c179e"
             ],
             [
              0.4444444444444444,
              "#bd3786"
             ],
             [
              0.5555555555555556,
              "#d8576b"
             ],
             [
              0.6666666666666666,
              "#ed7953"
             ],
             [
              0.7777777777777778,
              "#fb9f3a"
             ],
             [
              0.8888888888888888,
              "#fdca26"
             ],
             [
              1,
              "#f0f921"
             ]
            ],
            "type": "histogram2dcontour"
           }
          ],
          "mesh3d": [
           {
            "colorbar": {
             "outlinewidth": 0,
             "ticks": ""
            },
            "type": "mesh3d"
           }
          ],
          "parcoords": [
           {
            "line": {
             "colorbar": {
              "outlinewidth": 0,
              "ticks": ""
             }
            },
            "type": "parcoords"
           }
          ],
          "pie": [
           {
            "automargin": true,
            "type": "pie"
           }
          ],
          "scatter": [
           {
            "fillpattern": {
             "fillmode": "overlay",
             "size": 10,
             "solidity": 0.2
            },
            "type": "scatter"
           }
          ],
          "scatter3d": [
           {
            "line": {
             "colorbar": {
              "outlinewidth": 0,
              "ticks": ""
             }
            },
            "marker": {
             "colorbar": {
              "outlinewidth": 0,
              "ticks": ""
             }
            },
            "type": "scatter3d"
           }
          ],
          "scattercarpet": [
           {
            "marker": {
             "colorbar": {
              "outlinewidth": 0,
              "ticks": ""
             }
            },
            "type": "scattercarpet"
           }
          ],
          "scattergeo": [
           {
            "marker": {
             "colorbar": {
              "outlinewidth": 0,
              "ticks": ""
             }
            },
            "type": "scattergeo"
           }
          ],
          "scattergl": [
           {
            "marker": {
             "colorbar": {
              "outlinewidth": 0,
              "ticks": ""
             }
            },
            "type": "scattergl"
           }
          ],
          "scattermap": [
           {
            "marker": {
             "colorbar": {
              "outlinewidth": 0,
              "ticks": ""
             }
            },
            "type": "scattermap"
           }
          ],
          "scattermapbox": [
           {
            "marker": {
             "colorbar": {
              "outlinewidth": 0,
              "ticks": ""
             }
            },
            "type": "scattermapbox"
           }
          ],
          "scatterpolar": [
           {
            "marker": {
             "colorbar": {
              "outlinewidth": 0,
              "ticks": ""
             }
            },
            "type": "scatterpolar"
           }
          ],
          "scatterpolargl": [
           {
            "marker": {
             "colorbar": {
              "outlinewidth": 0,
              "ticks": ""
             }
            },
            "type": "scatterpolargl"
           }
          ],
          "scatterternary": [
           {
            "marker": {
             "colorbar": {
              "outlinewidth": 0,
              "ticks": ""
             }
            },
            "type": "scatterternary"
           }
          ],
          "surface": [
           {
            "colorbar": {
             "outlinewidth": 0,
             "ticks": ""
            },
            "colorscale": [
             [
              0,
              "#0d0887"
             ],
             [
              0.1111111111111111,
              "#46039f"
             ],
             [
              0.2222222222222222,
              "#7201a8"
             ],
             [
              0.3333333333333333,
              "#9c179e"
             ],
             [
              0.4444444444444444,
              "#bd3786"
             ],
             [
              0.5555555555555556,
              "#d8576b"
             ],
             [
              0.6666666666666666,
              "#ed7953"
             ],
             [
              0.7777777777777778,
              "#fb9f3a"
             ],
             [
              0.8888888888888888,
              "#fdca26"
             ],
             [
              1,
              "#f0f921"
             ]
            ],
            "type": "surface"
           }
          ],
          "table": [
           {
            "cells": {
             "fill": {
              "color": "#EBF0F8"
             },
             "line": {
              "color": "white"
             }
            },
            "header": {
             "fill": {
              "color": "#C8D4E3"
             },
             "line": {
              "color": "white"
             }
            },
            "type": "table"
           }
          ]
         },
         "layout": {
          "annotationdefaults": {
           "arrowcolor": "#2a3f5f",
           "arrowhead": 0,
           "arrowwidth": 1
          },
          "autotypenumbers": "strict",
          "coloraxis": {
           "colorbar": {
            "outlinewidth": 0,
            "ticks": ""
           }
          },
          "colorscale": {
           "diverging": [
            [
             0,
             "#8e0152"
            ],
            [
             0.1,
             "#c51b7d"
            ],
            [
             0.2,
             "#de77ae"
            ],
            [
             0.3,
             "#f1b6da"
            ],
            [
             0.4,
             "#fde0ef"
            ],
            [
             0.5,
             "#f7f7f7"
            ],
            [
             0.6,
             "#e6f5d0"
            ],
            [
             0.7,
             "#b8e186"
            ],
            [
             0.8,
             "#7fbc41"
            ],
            [
             0.9,
             "#4d9221"
            ],
            [
             1,
             "#276419"
            ]
           ],
           "sequential": [
            [
             0,
             "#0d0887"
            ],
            [
             0.1111111111111111,
             "#46039f"
            ],
            [
             0.2222222222222222,
             "#7201a8"
            ],
            [
             0.3333333333333333,
             "#9c179e"
            ],
            [
             0.4444444444444444,
             "#bd3786"
            ],
            [
             0.5555555555555556,
             "#d8576b"
            ],
            [
             0.6666666666666666,
             "#ed7953"
            ],
            [
             0.7777777777777778,
             "#fb9f3a"
            ],
            [
             0.8888888888888888,
             "#fdca26"
            ],
            [
             1,
             "#f0f921"
            ]
           ],
           "sequentialminus": [
            [
             0,
             "#0d0887"
            ],
            [
             0.1111111111111111,
             "#46039f"
            ],
            [
             0.2222222222222222,
             "#7201a8"
            ],
            [
             0.3333333333333333,
             "#9c179e"
            ],
            [
             0.4444444444444444,
             "#bd3786"
            ],
            [
             0.5555555555555556,
             "#d8576b"
            ],
            [
             0.6666666666666666,
             "#ed7953"
            ],
            [
             0.7777777777777778,
             "#fb9f3a"
            ],
            [
             0.8888888888888888,
             "#fdca26"
            ],
            [
             1,
             "#f0f921"
            ]
           ]
          },
          "colorway": [
           "#636efa",
           "#EF553B",
           "#00cc96",
           "#ab63fa",
           "#FFA15A",
           "#19d3f3",
           "#FF6692",
           "#B6E880",
           "#FF97FF",
           "#FECB52"
          ],
          "font": {
           "color": "#2a3f5f"
          },
          "geo": {
           "bgcolor": "white",
           "lakecolor": "white",
           "landcolor": "white",
           "showlakes": true,
           "showland": true,
           "subunitcolor": "#C8D4E3"
          },
          "hoverlabel": {
           "align": "left"
          },
          "hovermode": "closest",
          "mapbox": {
           "style": "light"
          },
          "paper_bgcolor": "white",
          "plot_bgcolor": "white",
          "polar": {
           "angularaxis": {
            "gridcolor": "#EBF0F8",
            "linecolor": "#EBF0F8",
            "ticks": ""
           },
           "bgcolor": "white",
           "radialaxis": {
            "gridcolor": "#EBF0F8",
            "linecolor": "#EBF0F8",
            "ticks": ""
           }
          },
          "scene": {
           "xaxis": {
            "backgroundcolor": "white",
            "gridcolor": "#DFE8F3",
            "gridwidth": 2,
            "linecolor": "#EBF0F8",
            "showbackground": true,
            "ticks": "",
            "zerolinecolor": "#EBF0F8"
           },
           "yaxis": {
            "backgroundcolor": "white",
            "gridcolor": "#DFE8F3",
            "gridwidth": 2,
            "linecolor": "#EBF0F8",
            "showbackground": true,
            "ticks": "",
            "zerolinecolor": "#EBF0F8"
           },
           "zaxis": {
            "backgroundcolor": "white",
            "gridcolor": "#DFE8F3",
            "gridwidth": 2,
            "linecolor": "#EBF0F8",
            "showbackground": true,
            "ticks": "",
            "zerolinecolor": "#EBF0F8"
           }
          },
          "shapedefaults": {
           "line": {
            "color": "#2a3f5f"
           }
          },
          "ternary": {
           "aaxis": {
            "gridcolor": "#DFE8F3",
            "linecolor": "#A2B1C6",
            "ticks": ""
           },
           "baxis": {
            "gridcolor": "#DFE8F3",
            "linecolor": "#A2B1C6",
            "ticks": ""
           },
           "bgcolor": "white",
           "caxis": {
            "gridcolor": "#DFE8F3",
            "linecolor": "#A2B1C6",
            "ticks": ""
           }
          },
          "title": {
           "x": 0.05
          },
          "xaxis": {
           "automargin": true,
           "gridcolor": "#EBF0F8",
           "linecolor": "#EBF0F8",
           "ticks": "",
           "title": {
            "standoff": 15
           },
           "zerolinecolor": "#EBF0F8",
           "zerolinewidth": 2
          },
          "yaxis": {
           "automargin": true,
           "gridcolor": "#EBF0F8",
           "linecolor": "#EBF0F8",
           "ticks": "",
           "title": {
            "standoff": 15
           },
           "zerolinecolor": "#EBF0F8",
           "zerolinewidth": 2
          }
         }
        },
        "title": {
         "text": "Model Score Comparison - Horizontal<br><sup>Judge: gpt-4.1 | 24B - 32B Model Range</sup>",
         "x": 0.5
        },
        "width": 1200,
        "xaxis": {
         "anchor": "y",
         "domain": [
          0,
          0.475
         ],
         "range": [
          0,
          10.5
         ]
        },
        "xaxis2": {
         "anchor": "y2",
         "domain": [
          0.525,
          1
         ],
         "range": [
          0,
          10.5
         ]
        },
        "xaxis3": {
         "anchor": "y3",
         "domain": [
          0,
          0.475
         ],
         "range": [
          0,
          10.5
         ]
        },
        "xaxis4": {
         "anchor": "y4",
         "domain": [
          0.525,
          1
         ],
         "range": [
          0,
          10.5
         ]
        },
        "xaxis5": {
         "anchor": "y5",
         "domain": [
          0,
          0.475
         ],
         "range": [
          0,
          10.5
         ]
        },
        "xaxis6": {
         "anchor": "y6",
         "domain": [
          0.525,
          1
         ],
         "range": [
          0,
          10.5
         ]
        },
        "yaxis": {
         "anchor": "x",
         "autorange": "reversed",
         "domain": [
          0.7333333333333334,
          1
         ],
         "showticklabels": false
        },
        "yaxis2": {
         "anchor": "x2",
         "autorange": "reversed",
         "domain": [
          0.7333333333333334,
          1
         ],
         "showticklabels": false
        },
        "yaxis3": {
         "anchor": "x3",
         "autorange": "reversed",
         "domain": [
          0.3666666666666667,
          0.6333333333333333
         ],
         "showticklabels": false
        },
        "yaxis4": {
         "anchor": "x4",
         "autorange": "reversed",
         "domain": [
          0.3666666666666667,
          0.6333333333333333
         ],
         "showticklabels": false
        },
        "yaxis5": {
         "anchor": "x5",
         "autorange": "reversed",
         "domain": [
          0,
          0.26666666666666666
         ],
         "showticklabels": false
        },
        "yaxis6": {
         "anchor": "x6",
         "autorange": "reversed",
         "domain": [
          0,
          0.26666666666666666
         ],
         "showticklabels": false
        }
       }
      }
     },
     "metadata": {},
     "output_type": "display_data"
    }
   ],
   "source": [
    "import plotly.graph_objects as go\n",
    "from plotly.subplots import make_subplots\n",
    "\n",
    "# --- Horizontal Bar Chart Grid (Looping through all judges) ---\n",
    "for judge_model in all_result_df['judge_model'].unique():\n",
    "    df_judge = all_result_df[all_result_df['judge_model'] == judge_model]\n",
    "    if df_judge.empty: continue\n",
    "\n",
    "    mean_df_judge = df_judge.groupby([\"model_name\", \"eval_dataset\"]).score.mean().reset_index()\n",
    "    # Uses the global model_order for consistent sorting\n",
    "    benchmarks = sorted(mean_df_judge['eval_dataset'].unique())\n",
    "    avg_scores = mean_df_judge.groupby('model_name')['score'].mean().reindex(model_order)\n",
    "    \n",
    "    n_rows, n_cols = 3, 2\n",
    "    subplot_titles = benchmarks[:5]\n",
    "    subplot_titles.append(\"Average\")\n",
    "    while len(subplot_titles) < 6: subplot_titles.append(\"\")\n",
    "\n",
    "    fig_horizontal = make_subplots(rows=n_rows, cols=n_cols, subplot_titles=subplot_titles, vertical_spacing=0.1, horizontal_spacing=0.05)\n",
    "    \n",
    "    for i, title in enumerate(subplot_titles):\n",
    "        if not title: continue\n",
    "        row, col = i // n_cols + 1, i % n_cols + 1\n",
    "        plot_data = avg_scores if title == \"Average\" else mean_df_judge[mean_df_judge['eval_dataset'] == title].set_index('model_name')['score'].reindex(model_order)\n",
    "        # Uses the global color_map\n",
    "        for model_name in model_order:\n",
    "            if model_name in plot_data.index:\n",
    "                score = plot_data.get(model_name, float('nan'))\n",
    "                fig_horizontal.add_trace(go.Bar(\n",
    "                    y=[model_name], x=[score], name=model_name, marker_color=color_map[model_name],\n",
    "                    text=[f\"{score:.2f}\" if pd.notnull(score) else \"\"], textposition='outside', orientation='h',\n",
    "                    showlegend=(i == 0)\n",
    "                ), row=row, col=col)\n",
    "        \n",
    "        fig_horizontal.update_xaxes(range=[0, 10.5], row=row, col=col)\n",
    "        fig_horizontal.update_yaxes(showticklabels=False, autorange='reversed', row=row, col=col)\n",
    "\n",
    "    fig_horizontal.update_layout(\n",
    "        height=1000, width=1200,\n",
    "        title_text=f\"Model Score Comparison - Horizontal<br><sup>Judge: {judge_model.replace('judge_', '')} | {MODEL_RANGE_GROUP}</sup>\",\n",
    "        title_x=0.5, template='plotly_white', legend_title_text='Model',\n",
    "        bargap=0.01, bargroupgap=0.01\n",
    "    )\n",
    "    fig_horizontal.show()\n",
    "\n"
   ]
  },
  {
   "cell_type": "code",
   "execution_count": 156,
   "id": "98b3c2ee",
   "metadata": {},
   "outputs": [
    {
     "data": {
      "application/vnd.plotly.v1+json": {
       "config": {
        "plotlyServerURL": "https://plot.ly"
       },
       "data": [
        {
         "marker": {
          "color": "#636EFA"
         },
         "name": "gpt-4o",
         "showlegend": true,
         "text": [
          "9.22"
         ],
         "textposition": "outside",
         "type": "bar",
         "x": [
          "gpt-4o"
         ],
         "xaxis": "x",
         "y": [
          9.22
         ],
         "yaxis": "y"
        },
        {
         "marker": {
          "color": "#EF553B"
         },
         "name": "shisa-v2-qwen2.5-32b",
         "showlegend": true,
         "text": [
          "8.70"
         ],
         "textposition": "outside",
         "type": "bar",
         "x": [
          "shisa-v2-qwen2.5-32b"
         ],
         "xaxis": "x",
         "y": [
          8.7
         ],
         "yaxis": "y"
        },
        {
         "marker": {
          "color": "#00CC96"
         },
         "name": "shisa-v2-mistral-small-24b",
         "showlegend": true,
         "text": [
          "8.30"
         ],
         "textposition": "outside",
         "type": "bar",
         "x": [
          "shisa-v2-mistral-small-24b"
         ],
         "xaxis": "x",
         "y": [
          8.3
         ],
         "yaxis": "y"
        },
        {
         "marker": {
          "color": "#AB63FA"
         },
         "name": "gemma-3-27b-it",
         "showlegend": true,
         "text": [
          "8.36"
         ],
         "textposition": "outside",
         "type": "bar",
         "x": [
          "gemma-3-27b-it"
         ],
         "xaxis": "x",
         "y": [
          8.36
         ],
         "yaxis": "y"
        },
        {
         "marker": {
          "color": "#FFA15A"
         },
         "name": "mistral-small-3.2-24b-instruct-2506",
         "showlegend": true,
         "text": [
          "8.30"
         ],
         "textposition": "outside",
         "type": "bar",
         "x": [
          "mistral-small-3.2-24b-instruct-2506"
         ],
         "xaxis": "x",
         "y": [
          8.3
         ],
         "yaxis": "y"
        },
        {
         "marker": {
          "color": "#19D3F3"
         },
         "name": "gemini-2.0-flash-lite",
         "showlegend": true,
         "text": [
          "8.30"
         ],
         "textposition": "outside",
         "type": "bar",
         "x": [
          "gemini-2.0-flash-lite"
         ],
         "xaxis": "x",
         "y": [
          8.3
         ],
         "yaxis": "y"
        },
        {
         "marker": {
          "color": "#FF6692"
         },
         "name": "qwen3-32b",
         "showlegend": true,
         "text": [
          "8.92"
         ],
         "textposition": "outside",
         "type": "bar",
         "x": [
          "qwen3-32b"
         ],
         "xaxis": "x",
         "y": [
          8.92
         ],
         "yaxis": "y"
        },
        {
         "marker": {
          "color": "#B6E880"
         },
         "name": "mistral-small-3.1-24b-instruct-2503",
         "showlegend": true,
         "text": [
          "8.30"
         ],
         "textposition": "outside",
         "type": "bar",
         "x": [
          "mistral-small-3.1-24b-instruct-2503"
         ],
         "xaxis": "x",
         "y": [
          8.3
         ],
         "yaxis": "y"
        },
        {
         "marker": {
          "color": "#FF97FF"
         },
         "name": "aya-expanse-32b-abliterated",
         "showlegend": true,
         "text": [
          "8.12"
         ],
         "textposition": "outside",
         "type": "bar",
         "x": [
          "aya-expanse-32b-abliterated"
         ],
         "xaxis": "x",
         "y": [
          8.12
         ],
         "yaxis": "y"
        },
        {
         "marker": {
          "color": "#FECB52"
         },
         "name": "glm-4-32b-0414",
         "showlegend": true,
         "text": [
          "8.14"
         ],
         "textposition": "outside",
         "type": "bar",
         "x": [
          "glm-4-32b-0414"
         ],
         "xaxis": "x",
         "y": [
          8.14
         ],
         "yaxis": "y"
        },
        {
         "marker": {
          "color": "#636EFA"
         },
         "name": "amoral-gemma3-27b-v2-qat",
         "showlegend": true,
         "text": [
          "6.46"
         ],
         "textposition": "outside",
         "type": "bar",
         "x": [
          "amoral-gemma3-27b-v2-qat"
         ],
         "xaxis": "x",
         "y": [
          6.46
         ],
         "yaxis": "y"
        },
        {
         "marker": {
          "color": "#636EFA"
         },
         "name": "gpt-4o",
         "showlegend": false,
         "text": [
          "9.32"
         ],
         "textposition": "outside",
         "type": "bar",
         "x": [
          "gpt-4o"
         ],
         "xaxis": "x2",
         "y": [
          9.316666666666666
         ],
         "yaxis": "y2"
        },
        {
         "marker": {
          "color": "#EF553B"
         },
         "name": "shisa-v2-qwen2.5-32b",
         "showlegend": false,
         "text": [
          "8.78"
         ],
         "textposition": "outside",
         "type": "bar",
         "x": [
          "shisa-v2-qwen2.5-32b"
         ],
         "xaxis": "x2",
         "y": [
          8.783333333333333
         ],
         "yaxis": "y2"
        },
        {
         "marker": {
          "color": "#00CC96"
         },
         "name": "shisa-v2-mistral-small-24b",
         "showlegend": false,
         "text": [
          "7.93"
         ],
         "textposition": "outside",
         "type": "bar",
         "x": [
          "shisa-v2-mistral-small-24b"
         ],
         "xaxis": "x2",
         "y": [
          7.933333333333334
         ],
         "yaxis": "y2"
        },
        {
         "marker": {
          "color": "#AB63FA"
         },
         "name": "gemma-3-27b-it",
         "showlegend": false,
         "text": [
          "8.92"
         ],
         "textposition": "outside",
         "type": "bar",
         "x": [
          "gemma-3-27b-it"
         ],
         "xaxis": "x2",
         "y": [
          8.916666666666666
         ],
         "yaxis": "y2"
        },
        {
         "marker": {
          "color": "#FFA15A"
         },
         "name": "mistral-small-3.2-24b-instruct-2506",
         "showlegend": false,
         "text": [
          "8.87"
         ],
         "textposition": "outside",
         "type": "bar",
         "x": [
          "mistral-small-3.2-24b-instruct-2506"
         ],
         "xaxis": "x2",
         "y": [
          8.866666666666667
         ],
         "yaxis": "y2"
        },
        {
         "marker": {
          "color": "#19D3F3"
         },
         "name": "gemini-2.0-flash-lite",
         "showlegend": false,
         "text": [
          "8.58"
         ],
         "textposition": "outside",
         "type": "bar",
         "x": [
          "gemini-2.0-flash-lite"
         ],
         "xaxis": "x2",
         "y": [
          8.583333333333334
         ],
         "yaxis": "y2"
        },
        {
         "marker": {
          "color": "#FF6692"
         },
         "name": "qwen3-32b",
         "showlegend": false,
         "text": [
          "9.33"
         ],
         "textposition": "outside",
         "type": "bar",
         "x": [
          "qwen3-32b"
         ],
         "xaxis": "x2",
         "y": [
          9.333333333333334
         ],
         "yaxis": "y2"
        },
        {
         "marker": {
          "color": "#B6E880"
         },
         "name": "mistral-small-3.1-24b-instruct-2503",
         "showlegend": false,
         "text": [
          "8.45"
         ],
         "textposition": "outside",
         "type": "bar",
         "x": [
          "mistral-small-3.1-24b-instruct-2503"
         ],
         "xaxis": "x2",
         "y": [
          8.45
         ],
         "yaxis": "y2"
        },
        {
         "marker": {
          "color": "#FF97FF"
         },
         "name": "aya-expanse-32b-abliterated",
         "showlegend": false,
         "text": [
          "8.70"
         ],
         "textposition": "outside",
         "type": "bar",
         "x": [
          "aya-expanse-32b-abliterated"
         ],
         "xaxis": "x2",
         "y": [
          8.7
         ],
         "yaxis": "y2"
        },
        {
         "marker": {
          "color": "#FECB52"
         },
         "name": "glm-4-32b-0414",
         "showlegend": false,
         "text": [
          "8.53"
         ],
         "textposition": "outside",
         "type": "bar",
         "x": [
          "glm-4-32b-0414"
         ],
         "xaxis": "x2",
         "y": [
          8.533333333333333
         ],
         "yaxis": "y2"
        },
        {
         "marker": {
          "color": "#636EFA"
         },
         "name": "amoral-gemma3-27b-v2-qat",
         "showlegend": false,
         "text": [
          "3.88"
         ],
         "textposition": "outside",
         "type": "bar",
         "x": [
          "amoral-gemma3-27b-v2-qat"
         ],
         "xaxis": "x2",
         "y": [
          3.8833333333333333
         ],
         "yaxis": "y2"
        },
        {
         "marker": {
          "color": "#636EFA"
         },
         "name": "gpt-4o",
         "showlegend": false,
         "text": [
          "9.90"
         ],
         "textposition": "outside",
         "type": "bar",
         "x": [
          "gpt-4o"
         ],
         "xaxis": "x3",
         "y": [
          9.9
         ],
         "yaxis": "y3"
        },
        {
         "marker": {
          "color": "#EF553B"
         },
         "name": "shisa-v2-qwen2.5-32b",
         "showlegend": false,
         "text": [
          "9.12"
         ],
         "textposition": "outside",
         "type": "bar",
         "x": [
          "shisa-v2-qwen2.5-32b"
         ],
         "xaxis": "x3",
         "y": [
          9.125
         ],
         "yaxis": "y3"
        },
        {
         "marker": {
          "color": "#00CC96"
         },
         "name": "shisa-v2-mistral-small-24b",
         "showlegend": false,
         "text": [
          "8.45"
         ],
         "textposition": "outside",
         "type": "bar",
         "x": [
          "shisa-v2-mistral-small-24b"
         ],
         "xaxis": "x3",
         "y": [
          8.45
         ],
         "yaxis": "y3"
        },
        {
         "marker": {
          "color": "#AB63FA"
         },
         "name": "gemma-3-27b-it",
         "showlegend": false,
         "text": [
          "9.22"
         ],
         "textposition": "outside",
         "type": "bar",
         "x": [
          "gemma-3-27b-it"
         ],
         "xaxis": "x3",
         "y": [
          9.225
         ],
         "yaxis": "y3"
        },
        {
         "marker": {
          "color": "#FFA15A"
         },
         "name": "mistral-small-3.2-24b-instruct-2506",
         "showlegend": false,
         "text": [
          "9.45"
         ],
         "textposition": "outside",
         "type": "bar",
         "x": [
          "mistral-small-3.2-24b-instruct-2506"
         ],
         "xaxis": "x3",
         "y": [
          9.45
         ],
         "yaxis": "y3"
        },
        {
         "marker": {
          "color": "#19D3F3"
         },
         "name": "gemini-2.0-flash-lite",
         "showlegend": false,
         "text": [
          "9.60"
         ],
         "textposition": "outside",
         "type": "bar",
         "x": [
          "gemini-2.0-flash-lite"
         ],
         "xaxis": "x3",
         "y": [
          9.6
         ],
         "yaxis": "y3"
        },
        {
         "marker": {
          "color": "#FF6692"
         },
         "name": "qwen3-32b",
         "showlegend": false,
         "text": [
          "8.75"
         ],
         "textposition": "outside",
         "type": "bar",
         "x": [
          "qwen3-32b"
         ],
         "xaxis": "x3",
         "y": [
          8.75
         ],
         "yaxis": "y3"
        },
        {
         "marker": {
          "color": "#B6E880"
         },
         "name": "mistral-small-3.1-24b-instruct-2503",
         "showlegend": false,
         "text": [
          "9.18"
         ],
         "textposition": "outside",
         "type": "bar",
         "x": [
          "mistral-small-3.1-24b-instruct-2503"
         ],
         "xaxis": "x3",
         "y": [
          9.175
         ],
         "yaxis": "y3"
        },
        {
         "marker": {
          "color": "#FF97FF"
         },
         "name": "aya-expanse-32b-abliterated",
         "showlegend": false,
         "text": [
          "8.88"
         ],
         "textposition": "outside",
         "type": "bar",
         "x": [
          "aya-expanse-32b-abliterated"
         ],
         "xaxis": "x3",
         "y": [
          8.875
         ],
         "yaxis": "y3"
        },
        {
         "marker": {
          "color": "#FECB52"
         },
         "name": "glm-4-32b-0414",
         "showlegend": false,
         "text": [
          "9.03"
         ],
         "textposition": "outside",
         "type": "bar",
         "x": [
          "glm-4-32b-0414"
         ],
         "xaxis": "x3",
         "y": [
          9.025
         ],
         "yaxis": "y3"
        },
        {
         "marker": {
          "color": "#636EFA"
         },
         "name": "amoral-gemma3-27b-v2-qat",
         "showlegend": false,
         "text": [
          "3.52"
         ],
         "textposition": "outside",
         "type": "bar",
         "x": [
          "amoral-gemma3-27b-v2-qat"
         ],
         "xaxis": "x3",
         "y": [
          3.525
         ],
         "yaxis": "y3"
        },
        {
         "marker": {
          "color": "#636EFA"
         },
         "name": "gpt-4o",
         "showlegend": false,
         "text": [
          "8.52"
         ],
         "textposition": "outside",
         "type": "bar",
         "x": [
          "gpt-4o"
         ],
         "xaxis": "x4",
         "y": [
          8.516666666666667
         ],
         "yaxis": "y4"
        },
        {
         "marker": {
          "color": "#EF553B"
         },
         "name": "shisa-v2-qwen2.5-32b",
         "showlegend": false,
         "text": [
          "7.57"
         ],
         "textposition": "outside",
         "type": "bar",
         "x": [
          "shisa-v2-qwen2.5-32b"
         ],
         "xaxis": "x4",
         "y": [
          7.566666666666666
         ],
         "yaxis": "y4"
        },
        {
         "marker": {
          "color": "#00CC96"
         },
         "name": "shisa-v2-mistral-small-24b",
         "showlegend": false,
         "text": [
          "7.68"
         ],
         "textposition": "outside",
         "type": "bar",
         "x": [
          "shisa-v2-mistral-small-24b"
         ],
         "xaxis": "x4",
         "y": [
          7.683333333333334
         ],
         "yaxis": "y4"
        },
        {
         "marker": {
          "color": "#AB63FA"
         },
         "name": "gemma-3-27b-it",
         "showlegend": false,
         "text": [
          "7.69"
         ],
         "textposition": "outside",
         "type": "bar",
         "x": [
          "gemma-3-27b-it"
         ],
         "xaxis": "x4",
         "y": [
          7.691666666666666
         ],
         "yaxis": "y4"
        },
        {
         "marker": {
          "color": "#FFA15A"
         },
         "name": "mistral-small-3.2-24b-instruct-2506",
         "showlegend": false,
         "text": [
          "7.87"
         ],
         "textposition": "outside",
         "type": "bar",
         "x": [
          "mistral-small-3.2-24b-instruct-2506"
         ],
         "xaxis": "x4",
         "y": [
          7.866666666666666
         ],
         "yaxis": "y4"
        },
        {
         "marker": {
          "color": "#19D3F3"
         },
         "name": "gemini-2.0-flash-lite",
         "showlegend": false,
         "text": [
          "7.67"
         ],
         "textposition": "outside",
         "type": "bar",
         "x": [
          "gemini-2.0-flash-lite"
         ],
         "xaxis": "x4",
         "y": [
          7.666666666666667
         ],
         "yaxis": "y4"
        },
        {
         "marker": {
          "color": "#FF6692"
         },
         "name": "qwen3-32b",
         "showlegend": false,
         "text": [
          "7.95"
         ],
         "textposition": "outside",
         "type": "bar",
         "x": [
          "qwen3-32b"
         ],
         "xaxis": "x4",
         "y": [
          7.95
         ],
         "yaxis": "y4"
        },
        {
         "marker": {
          "color": "#B6E880"
         },
         "name": "mistral-small-3.1-24b-instruct-2503",
         "showlegend": false,
         "text": [
          "7.58"
         ],
         "textposition": "outside",
         "type": "bar",
         "x": [
          "mistral-small-3.1-24b-instruct-2503"
         ],
         "xaxis": "x4",
         "y": [
          7.583333333333333
         ],
         "yaxis": "y4"
        },
        {
         "marker": {
          "color": "#FF97FF"
         },
         "name": "aya-expanse-32b-abliterated",
         "showlegend": false,
         "text": [
          "7.14"
         ],
         "textposition": "outside",
         "type": "bar",
         "x": [
          "aya-expanse-32b-abliterated"
         ],
         "xaxis": "x4",
         "y": [
          7.141666666666667
         ],
         "yaxis": "y4"
        },
        {
         "marker": {
          "color": "#FECB52"
         },
         "name": "glm-4-32b-0414",
         "showlegend": false,
         "text": [
          "7.70"
         ],
         "textposition": "outside",
         "type": "bar",
         "x": [
          "glm-4-32b-0414"
         ],
         "xaxis": "x4",
         "y": [
          7.7
         ],
         "yaxis": "y4"
        },
        {
         "marker": {
          "color": "#636EFA"
         },
         "name": "amoral-gemma3-27b-v2-qat",
         "showlegend": false,
         "text": [
          "5.34"
         ],
         "textposition": "outside",
         "type": "bar",
         "x": [
          "amoral-gemma3-27b-v2-qat"
         ],
         "xaxis": "x4",
         "y": [
          5.341666666666667
         ],
         "yaxis": "y4"
        },
        {
         "marker": {
          "color": "#636EFA"
         },
         "name": "gpt-4o",
         "showlegend": false,
         "text": [
          "8.28"
         ],
         "textposition": "outside",
         "type": "bar",
         "x": [
          "gpt-4o"
         ],
         "xaxis": "x5",
         "y": [
          8.2775
         ],
         "yaxis": "y5"
        },
        {
         "marker": {
          "color": "#EF553B"
         },
         "name": "shisa-v2-qwen2.5-32b",
         "showlegend": false,
         "text": [
          "7.52"
         ],
         "textposition": "outside",
         "type": "bar",
         "x": [
          "shisa-v2-qwen2.5-32b"
         ],
         "xaxis": "x5",
         "y": [
          7.5183333333333335
         ],
         "yaxis": "y5"
        },
        {
         "marker": {
          "color": "#00CC96"
         },
         "name": "shisa-v2-mistral-small-24b",
         "showlegend": false,
         "text": [
          "7.97"
         ],
         "textposition": "outside",
         "type": "bar",
         "x": [
          "shisa-v2-mistral-small-24b"
         ],
         "xaxis": "x5",
         "y": [
          7.9725
         ],
         "yaxis": "y5"
        },
        {
         "marker": {
          "color": "#AB63FA"
         },
         "name": "gemma-3-27b-it",
         "showlegend": false,
         "text": [
          "7.46"
         ],
         "textposition": "outside",
         "type": "bar",
         "x": [
          "gemma-3-27b-it"
         ],
         "xaxis": "x5",
         "y": [
          7.4558333333333335
         ],
         "yaxis": "y5"
        },
        {
         "marker": {
          "color": "#FFA15A"
         },
         "name": "mistral-small-3.2-24b-instruct-2506",
         "showlegend": false,
         "text": [
          "7.35"
         ],
         "textposition": "outside",
         "type": "bar",
         "x": [
          "mistral-small-3.2-24b-instruct-2506"
         ],
         "xaxis": "x5",
         "y": [
          7.346666666666667
         ],
         "yaxis": "y5"
        },
        {
         "marker": {
          "color": "#19D3F3"
         },
         "name": "gemini-2.0-flash-lite",
         "showlegend": false,
         "text": [
          "7.38"
         ],
         "textposition": "outside",
         "type": "bar",
         "x": [
          "gemini-2.0-flash-lite"
         ],
         "xaxis": "x5",
         "y": [
          7.375
         ],
         "yaxis": "y5"
        },
        {
         "marker": {
          "color": "#FF6692"
         },
         "name": "qwen3-32b",
         "showlegend": false,
         "text": [
          "6.83"
         ],
         "textposition": "outside",
         "type": "bar",
         "x": [
          "qwen3-32b"
         ],
         "xaxis": "x5",
         "y": [
          6.831666666666666
         ],
         "yaxis": "y5"
        },
        {
         "marker": {
          "color": "#B6E880"
         },
         "name": "mistral-small-3.1-24b-instruct-2503",
         "showlegend": false,
         "text": [
          "7.19"
         ],
         "textposition": "outside",
         "type": "bar",
         "x": [
          "mistral-small-3.1-24b-instruct-2503"
         ],
         "xaxis": "x5",
         "y": [
          7.193333333333333
         ],
         "yaxis": "y5"
        },
        {
         "marker": {
          "color": "#FF97FF"
         },
         "name": "aya-expanse-32b-abliterated",
         "showlegend": false,
         "text": [
          "7.49"
         ],
         "textposition": "outside",
         "type": "bar",
         "x": [
          "aya-expanse-32b-abliterated"
         ],
         "xaxis": "x5",
         "y": [
          7.485
         ],
         "yaxis": "y5"
        },
        {
         "marker": {
          "color": "#FECB52"
         },
         "name": "glm-4-32b-0414",
         "showlegend": false,
         "text": [
          "7.00"
         ],
         "textposition": "outside",
         "type": "bar",
         "x": [
          "glm-4-32b-0414"
         ],
         "xaxis": "x5",
         "y": [
          6.998333333333334
         ],
         "yaxis": "y5"
        },
        {
         "marker": {
          "color": "#636EFA"
         },
         "name": "amoral-gemma3-27b-v2-qat",
         "showlegend": false,
         "text": [
          "6.89"
         ],
         "textposition": "outside",
         "type": "bar",
         "x": [
          "amoral-gemma3-27b-v2-qat"
         ],
         "xaxis": "x5",
         "y": [
          6.890833333333334
         ],
         "yaxis": "y5"
        },
        {
         "marker": {
          "color": "#636EFA"
         },
         "name": "gpt-4o",
         "showlegend": false,
         "text": [
          "9.05"
         ],
         "textposition": "outside",
         "type": "bar",
         "x": [
          "gpt-4o"
         ],
         "xaxis": "x6",
         "y": [
          9.046166666666668
         ],
         "yaxis": "y6"
        },
        {
         "marker": {
          "color": "#EF553B"
         },
         "name": "shisa-v2-qwen2.5-32b",
         "showlegend": false,
         "text": [
          "8.34"
         ],
         "textposition": "outside",
         "type": "bar",
         "x": [
          "shisa-v2-qwen2.5-32b"
         ],
         "xaxis": "x6",
         "y": [
          8.338666666666667
         ],
         "yaxis": "y6"
        },
        {
         "marker": {
          "color": "#00CC96"
         },
         "name": "shisa-v2-mistral-small-24b",
         "showlegend": false,
         "text": [
          "8.07"
         ],
         "textposition": "outside",
         "type": "bar",
         "x": [
          "shisa-v2-mistral-small-24b"
         ],
         "xaxis": "x6",
         "y": [
          8.067833333333335
         ],
         "yaxis": "y6"
        },
        {
         "marker": {
          "color": "#AB63FA"
         },
         "name": "gemma-3-27b-it",
         "showlegend": false,
         "text": [
          "8.33"
         ],
         "textposition": "outside",
         "type": "bar",
         "x": [
          "gemma-3-27b-it"
         ],
         "xaxis": "x6",
         "y": [
          8.329833333333333
         ],
         "yaxis": "y6"
        },
        {
         "marker": {
          "color": "#FFA15A"
         },
         "name": "mistral-small-3.2-24b-instruct-2506",
         "showlegend": false,
         "text": [
          "8.37"
         ],
         "textposition": "outside",
         "type": "bar",
         "x": [
          "mistral-small-3.2-24b-instruct-2506"
         ],
         "xaxis": "x6",
         "y": [
          8.366
         ],
         "yaxis": "y6"
        },
        {
         "marker": {
          "color": "#19D3F3"
         },
         "name": "gemini-2.0-flash-lite",
         "showlegend": false,
         "text": [
          "8.30"
         ],
         "textposition": "outside",
         "type": "bar",
         "x": [
          "gemini-2.0-flash-lite"
         ],
         "xaxis": "x6",
         "y": [
          8.305
         ],
         "yaxis": "y6"
        },
        {
         "marker": {
          "color": "#FF6692"
         },
         "name": "qwen3-32b",
         "showlegend": false,
         "text": [
          "8.36"
         ],
         "textposition": "outside",
         "type": "bar",
         "x": [
          "qwen3-32b"
         ],
         "xaxis": "x6",
         "y": [
          8.357
         ],
         "yaxis": "y6"
        },
        {
         "marker": {
          "color": "#B6E880"
         },
         "name": "mistral-small-3.1-24b-instruct-2503",
         "showlegend": false,
         "text": [
          "8.14"
         ],
         "textposition": "outside",
         "type": "bar",
         "x": [
          "mistral-small-3.1-24b-instruct-2503"
         ],
         "xaxis": "x6",
         "y": [
          8.140333333333334
         ],
         "yaxis": "y6"
        },
        {
         "marker": {
          "color": "#FF97FF"
         },
         "name": "aya-expanse-32b-abliterated",
         "showlegend": false,
         "text": [
          "8.06"
         ],
         "textposition": "outside",
         "type": "bar",
         "x": [
          "aya-expanse-32b-abliterated"
         ],
         "xaxis": "x6",
         "y": [
          8.064333333333334
         ],
         "yaxis": "y6"
        },
        {
         "marker": {
          "color": "#FECB52"
         },
         "name": "glm-4-32b-0414",
         "showlegend": false,
         "text": [
          "8.08"
         ],
         "textposition": "outside",
         "type": "bar",
         "x": [
          "glm-4-32b-0414"
         ],
         "xaxis": "x6",
         "y": [
          8.079333333333334
         ],
         "yaxis": "y6"
        },
        {
         "marker": {
          "color": "#636EFA"
         },
         "name": "amoral-gemma3-27b-v2-qat",
         "showlegend": false,
         "text": [
          "5.22"
         ],
         "textposition": "outside",
         "type": "bar",
         "x": [
          "amoral-gemma3-27b-v2-qat"
         ],
         "xaxis": "x6",
         "y": [
          5.220166666666667
         ],
         "yaxis": "y6"
        }
       ],
       "layout": {
        "annotations": [
         {
          "font": {
           "size": 16
          },
          "showarrow": false,
          "text": "ELYZA-Tasks-100",
          "x": 0.2375,
          "xanchor": "center",
          "xref": "paper",
          "y": 1,
          "yanchor": "bottom",
          "yref": "paper"
         },
         {
          "font": {
           "size": 16
          },
          "showarrow": false,
          "text": "MT-Bench-60",
          "x": 0.7625,
          "xanchor": "center",
          "xref": "paper",
          "y": 1,
          "yanchor": "bottom",
          "yref": "paper"
         },
         {
          "font": {
           "size": 16
          },
          "showarrow": false,
          "text": "Rakuda-40",
          "x": 0.2375,
          "xanchor": "center",
          "xref": "paper",
          "y": 0.6333333333333333,
          "yanchor": "bottom",
          "yref": "paper"
         },
         {
          "font": {
           "size": 16
          },
          "showarrow": false,
          "text": "Tengu-Bench-120",
          "x": 0.7625,
          "xanchor": "center",
          "xref": "paper",
          "y": 0.6333333333333333,
          "yanchor": "bottom",
          "yref": "paper"
         },
         {
          "font": {
           "size": 16
          },
          "showarrow": false,
          "text": "VNTL-Translation-200",
          "x": 0.2375,
          "xanchor": "center",
          "xref": "paper",
          "y": 0.26666666666666666,
          "yanchor": "bottom",
          "yref": "paper"
         },
         {
          "font": {
           "size": 16
          },
          "showarrow": false,
          "text": "Average",
          "x": 0.7625,
          "xanchor": "center",
          "xref": "paper",
          "y": 0.26666666666666666,
          "yanchor": "bottom",
          "yref": "paper"
         }
        ],
        "bargap": 0.01,
        "bargroupgap": 0.01,
        "barmode": "group",
        "height": 1000,
        "legend": {
         "title": {
          "text": "Model"
         }
        },
        "template": {
         "data": {
          "bar": [
           {
            "error_x": {
             "color": "#2a3f5f"
            },
            "error_y": {
             "color": "#2a3f5f"
            },
            "marker": {
             "line": {
              "color": "white",
              "width": 0.5
             },
             "pattern": {
              "fillmode": "overlay",
              "size": 10,
              "solidity": 0.2
             }
            },
            "type": "bar"
           }
          ],
          "barpolar": [
           {
            "marker": {
             "line": {
              "color": "white",
              "width": 0.5
             },
             "pattern": {
              "fillmode": "overlay",
              "size": 10,
              "solidity": 0.2
             }
            },
            "type": "barpolar"
           }
          ],
          "carpet": [
           {
            "aaxis": {
             "endlinecolor": "#2a3f5f",
             "gridcolor": "#C8D4E3",
             "linecolor": "#C8D4E3",
             "minorgridcolor": "#C8D4E3",
             "startlinecolor": "#2a3f5f"
            },
            "baxis": {
             "endlinecolor": "#2a3f5f",
             "gridcolor": "#C8D4E3",
             "linecolor": "#C8D4E3",
             "minorgridcolor": "#C8D4E3",
             "startlinecolor": "#2a3f5f"
            },
            "type": "carpet"
           }
          ],
          "choropleth": [
           {
            "colorbar": {
             "outlinewidth": 0,
             "ticks": ""
            },
            "type": "choropleth"
           }
          ],
          "contour": [
           {
            "colorbar": {
             "outlinewidth": 0,
             "ticks": ""
            },
            "colorscale": [
             [
              0,
              "#0d0887"
             ],
             [
              0.1111111111111111,
              "#46039f"
             ],
             [
              0.2222222222222222,
              "#7201a8"
             ],
             [
              0.3333333333333333,
              "#9c179e"
             ],
             [
              0.4444444444444444,
              "#bd3786"
             ],
             [
              0.5555555555555556,
              "#d8576b"
             ],
             [
              0.6666666666666666,
              "#ed7953"
             ],
             [
              0.7777777777777778,
              "#fb9f3a"
             ],
             [
              0.8888888888888888,
              "#fdca26"
             ],
             [
              1,
              "#f0f921"
             ]
            ],
            "type": "contour"
           }
          ],
          "contourcarpet": [
           {
            "colorbar": {
             "outlinewidth": 0,
             "ticks": ""
            },
            "type": "contourcarpet"
           }
          ],
          "heatmap": [
           {
            "colorbar": {
             "outlinewidth": 0,
             "ticks": ""
            },
            "colorscale": [
             [
              0,
              "#0d0887"
             ],
             [
              0.1111111111111111,
              "#46039f"
             ],
             [
              0.2222222222222222,
              "#7201a8"
             ],
             [
              0.3333333333333333,
              "#9c179e"
             ],
             [
              0.4444444444444444,
              "#bd3786"
             ],
             [
              0.5555555555555556,
              "#d8576b"
             ],
             [
              0.6666666666666666,
              "#ed7953"
             ],
             [
              0.7777777777777778,
              "#fb9f3a"
             ],
             [
              0.8888888888888888,
              "#fdca26"
             ],
             [
              1,
              "#f0f921"
             ]
            ],
            "type": "heatmap"
           }
          ],
          "histogram": [
           {
            "marker": {
             "pattern": {
              "fillmode": "overlay",
              "size": 10,
              "solidity": 0.2
             }
            },
            "type": "histogram"
           }
          ],
          "histogram2d": [
           {
            "colorbar": {
             "outlinewidth": 0,
             "ticks": ""
            },
            "colorscale": [
             [
              0,
              "#0d0887"
             ],
             [
              0.1111111111111111,
              "#46039f"
             ],
             [
              0.2222222222222222,
              "#7201a8"
             ],
             [
              0.3333333333333333,
              "#9c179e"
             ],
             [
              0.4444444444444444,
              "#bd3786"
             ],
             [
              0.5555555555555556,
              "#d8576b"
             ],
             [
              0.6666666666666666,
              "#ed7953"
             ],
             [
              0.7777777777777778,
              "#fb9f3a"
             ],
             [
              0.8888888888888888,
              "#fdca26"
             ],
             [
              1,
              "#f0f921"
             ]
            ],
            "type": "histogram2d"
           }
          ],
          "histogram2dcontour": [
           {
            "colorbar": {
             "outlinewidth": 0,
             "ticks": ""
            },
            "colorscale": [
             [
              0,
              "#0d0887"
             ],
             [
              0.1111111111111111,
              "#46039f"
             ],
             [
              0.2222222222222222,
              "#7201a8"
             ],
             [
              0.3333333333333333,
              "#9c179e"
             ],
             [
              0.4444444444444444,
              "#bd3786"
             ],
             [
              0.5555555555555556,
              "#d8576b"
             ],
             [
              0.6666666666666666,
              "#ed7953"
             ],
             [
              0.7777777777777778,
              "#fb9f3a"
             ],
             [
              0.8888888888888888,
              "#fdca26"
             ],
             [
              1,
              "#f0f921"
             ]
            ],
            "type": "histogram2dcontour"
           }
          ],
          "mesh3d": [
           {
            "colorbar": {
             "outlinewidth": 0,
             "ticks": ""
            },
            "type": "mesh3d"
           }
          ],
          "parcoords": [
           {
            "line": {
             "colorbar": {
              "outlinewidth": 0,
              "ticks": ""
             }
            },
            "type": "parcoords"
           }
          ],
          "pie": [
           {
            "automargin": true,
            "type": "pie"
           }
          ],
          "scatter": [
           {
            "fillpattern": {
             "fillmode": "overlay",
             "size": 10,
             "solidity": 0.2
            },
            "type": "scatter"
           }
          ],
          "scatter3d": [
           {
            "line": {
             "colorbar": {
              "outlinewidth": 0,
              "ticks": ""
             }
            },
            "marker": {
             "colorbar": {
              "outlinewidth": 0,
              "ticks": ""
             }
            },
            "type": "scatter3d"
           }
          ],
          "scattercarpet": [
           {
            "marker": {
             "colorbar": {
              "outlinewidth": 0,
              "ticks": ""
             }
            },
            "type": "scattercarpet"
           }
          ],
          "scattergeo": [
           {
            "marker": {
             "colorbar": {
              "outlinewidth": 0,
              "ticks": ""
             }
            },
            "type": "scattergeo"
           }
          ],
          "scattergl": [
           {
            "marker": {
             "colorbar": {
              "outlinewidth": 0,
              "ticks": ""
             }
            },
            "type": "scattergl"
           }
          ],
          "scattermap": [
           {
            "marker": {
             "colorbar": {
              "outlinewidth": 0,
              "ticks": ""
             }
            },
            "type": "scattermap"
           }
          ],
          "scattermapbox": [
           {
            "marker": {
             "colorbar": {
              "outlinewidth": 0,
              "ticks": ""
             }
            },
            "type": "scattermapbox"
           }
          ],
          "scatterpolar": [
           {
            "marker": {
             "colorbar": {
              "outlinewidth": 0,
              "ticks": ""
             }
            },
            "type": "scatterpolar"
           }
          ],
          "scatterpolargl": [
           {
            "marker": {
             "colorbar": {
              "outlinewidth": 0,
              "ticks": ""
             }
            },
            "type": "scatterpolargl"
           }
          ],
          "scatterternary": [
           {
            "marker": {
             "colorbar": {
              "outlinewidth": 0,
              "ticks": ""
             }
            },
            "type": "scatterternary"
           }
          ],
          "surface": [
           {
            "colorbar": {
             "outlinewidth": 0,
             "ticks": ""
            },
            "colorscale": [
             [
              0,
              "#0d0887"
             ],
             [
              0.1111111111111111,
              "#46039f"
             ],
             [
              0.2222222222222222,
              "#7201a8"
             ],
             [
              0.3333333333333333,
              "#9c179e"
             ],
             [
              0.4444444444444444,
              "#bd3786"
             ],
             [
              0.5555555555555556,
              "#d8576b"
             ],
             [
              0.6666666666666666,
              "#ed7953"
             ],
             [
              0.7777777777777778,
              "#fb9f3a"
             ],
             [
              0.8888888888888888,
              "#fdca26"
             ],
             [
              1,
              "#f0f921"
             ]
            ],
            "type": "surface"
           }
          ],
          "table": [
           {
            "cells": {
             "fill": {
              "color": "#EBF0F8"
             },
             "line": {
              "color": "white"
             }
            },
            "header": {
             "fill": {
              "color": "#C8D4E3"
             },
             "line": {
              "color": "white"
             }
            },
            "type": "table"
           }
          ]
         },
         "layout": {
          "annotationdefaults": {
           "arrowcolor": "#2a3f5f",
           "arrowhead": 0,
           "arrowwidth": 1
          },
          "autotypenumbers": "strict",
          "coloraxis": {
           "colorbar": {
            "outlinewidth": 0,
            "ticks": ""
           }
          },
          "colorscale": {
           "diverging": [
            [
             0,
             "#8e0152"
            ],
            [
             0.1,
             "#c51b7d"
            ],
            [
             0.2,
             "#de77ae"
            ],
            [
             0.3,
             "#f1b6da"
            ],
            [
             0.4,
             "#fde0ef"
            ],
            [
             0.5,
             "#f7f7f7"
            ],
            [
             0.6,
             "#e6f5d0"
            ],
            [
             0.7,
             "#b8e186"
            ],
            [
             0.8,
             "#7fbc41"
            ],
            [
             0.9,
             "#4d9221"
            ],
            [
             1,
             "#276419"
            ]
           ],
           "sequential": [
            [
             0,
             "#0d0887"
            ],
            [
             0.1111111111111111,
             "#46039f"
            ],
            [
             0.2222222222222222,
             "#7201a8"
            ],
            [
             0.3333333333333333,
             "#9c179e"
            ],
            [
             0.4444444444444444,
             "#bd3786"
            ],
            [
             0.5555555555555556,
             "#d8576b"
            ],
            [
             0.6666666666666666,
             "#ed7953"
            ],
            [
             0.7777777777777778,
             "#fb9f3a"
            ],
            [
             0.8888888888888888,
             "#fdca26"
            ],
            [
             1,
             "#f0f921"
            ]
           ],
           "sequentialminus": [
            [
             0,
             "#0d0887"
            ],
            [
             0.1111111111111111,
             "#46039f"
            ],
            [
             0.2222222222222222,
             "#7201a8"
            ],
            [
             0.3333333333333333,
             "#9c179e"
            ],
            [
             0.4444444444444444,
             "#bd3786"
            ],
            [
             0.5555555555555556,
             "#d8576b"
            ],
            [
             0.6666666666666666,
             "#ed7953"
            ],
            [
             0.7777777777777778,
             "#fb9f3a"
            ],
            [
             0.8888888888888888,
             "#fdca26"
            ],
            [
             1,
             "#f0f921"
            ]
           ]
          },
          "colorway": [
           "#636efa",
           "#EF553B",
           "#00cc96",
           "#ab63fa",
           "#FFA15A",
           "#19d3f3",
           "#FF6692",
           "#B6E880",
           "#FF97FF",
           "#FECB52"
          ],
          "font": {
           "color": "#2a3f5f"
          },
          "geo": {
           "bgcolor": "white",
           "lakecolor": "white",
           "landcolor": "white",
           "showlakes": true,
           "showland": true,
           "subunitcolor": "#C8D4E3"
          },
          "hoverlabel": {
           "align": "left"
          },
          "hovermode": "closest",
          "mapbox": {
           "style": "light"
          },
          "paper_bgcolor": "white",
          "plot_bgcolor": "white",
          "polar": {
           "angularaxis": {
            "gridcolor": "#EBF0F8",
            "linecolor": "#EBF0F8",
            "ticks": ""
           },
           "bgcolor": "white",
           "radialaxis": {
            "gridcolor": "#EBF0F8",
            "linecolor": "#EBF0F8",
            "ticks": ""
           }
          },
          "scene": {
           "xaxis": {
            "backgroundcolor": "white",
            "gridcolor": "#DFE8F3",
            "gridwidth": 2,
            "linecolor": "#EBF0F8",
            "showbackground": true,
            "ticks": "",
            "zerolinecolor": "#EBF0F8"
           },
           "yaxis": {
            "backgroundcolor": "white",
            "gridcolor": "#DFE8F3",
            "gridwidth": 2,
            "linecolor": "#EBF0F8",
            "showbackground": true,
            "ticks": "",
            "zerolinecolor": "#EBF0F8"
           },
           "zaxis": {
            "backgroundcolor": "white",
            "gridcolor": "#DFE8F3",
            "gridwidth": 2,
            "linecolor": "#EBF0F8",
            "showbackground": true,
            "ticks": "",
            "zerolinecolor": "#EBF0F8"
           }
          },
          "shapedefaults": {
           "line": {
            "color": "#2a3f5f"
           }
          },
          "ternary": {
           "aaxis": {
            "gridcolor": "#DFE8F3",
            "linecolor": "#A2B1C6",
            "ticks": ""
           },
           "baxis": {
            "gridcolor": "#DFE8F3",
            "linecolor": "#A2B1C6",
            "ticks": ""
           },
           "bgcolor": "white",
           "caxis": {
            "gridcolor": "#DFE8F3",
            "linecolor": "#A2B1C6",
            "ticks": ""
           }
          },
          "title": {
           "x": 0.05
          },
          "xaxis": {
           "automargin": true,
           "gridcolor": "#EBF0F8",
           "linecolor": "#EBF0F8",
           "ticks": "",
           "title": {
            "standoff": 15
           },
           "zerolinecolor": "#EBF0F8",
           "zerolinewidth": 2
          },
          "yaxis": {
           "automargin": true,
           "gridcolor": "#EBF0F8",
           "linecolor": "#EBF0F8",
           "ticks": "",
           "title": {
            "standoff": 15
           },
           "zerolinecolor": "#EBF0F8",
           "zerolinewidth": 2
          }
         }
        },
        "title": {
         "text": "Model Score Comparison - Vertical<br><sup>Judge: gpt-4.1 | 24B - 32B Model Range</sup>",
         "x": 0.5
        },
        "width": 1200,
        "xaxis": {
         "anchor": "y",
         "domain": [
          0,
          0.475
         ],
         "showticklabels": false
        },
        "xaxis2": {
         "anchor": "y2",
         "domain": [
          0.525,
          1
         ],
         "showticklabels": false
        },
        "xaxis3": {
         "anchor": "y3",
         "domain": [
          0,
          0.475
         ],
         "showticklabels": false
        },
        "xaxis4": {
         "anchor": "y4",
         "domain": [
          0.525,
          1
         ],
         "showticklabels": false
        },
        "xaxis5": {
         "anchor": "y5",
         "domain": [
          0,
          0.475
         ],
         "showticklabels": false
        },
        "xaxis6": {
         "anchor": "y6",
         "domain": [
          0.525,
          1
         ],
         "showticklabels": false
        },
        "yaxis": {
         "anchor": "x",
         "domain": [
          0.7333333333333334,
          1
         ],
         "range": [
          0,
          10.5
         ]
        },
        "yaxis2": {
         "anchor": "x2",
         "domain": [
          0.7333333333333334,
          1
         ],
         "range": [
          0,
          10.5
         ]
        },
        "yaxis3": {
         "anchor": "x3",
         "domain": [
          0.3666666666666667,
          0.6333333333333333
         ],
         "range": [
          0,
          10.5
         ]
        },
        "yaxis4": {
         "anchor": "x4",
         "domain": [
          0.3666666666666667,
          0.6333333333333333
         ],
         "range": [
          0,
          10.5
         ]
        },
        "yaxis5": {
         "anchor": "x5",
         "domain": [
          0,
          0.26666666666666666
         ],
         "range": [
          0,
          10.5
         ]
        },
        "yaxis6": {
         "anchor": "x6",
         "domain": [
          0,
          0.26666666666666666
         ],
         "range": [
          0,
          10.5
         ]
        }
       }
      }
     },
     "metadata": {},
     "output_type": "display_data"
    }
   ],
   "source": [
    "for judge_model in all_result_df['judge_model'].unique():\n",
    "    df_judge = all_result_df[all_result_df['judge_model'] == judge_model]\n",
    "    if df_judge.empty: continue\n",
    "\n",
    "    mean_df_judge = df_judge.groupby([\"model_name\", \"eval_dataset\"]).score.mean().reset_index()\n",
    "    # Uses the global model_order\n",
    "    benchmarks = sorted(mean_df_judge['eval_dataset'].unique())\n",
    "    avg_scores = mean_df_judge.groupby('model_name')['score'].mean().reindex(model_order)\n",
    "    \n",
    "    n_rows, n_cols = 3, 2\n",
    "    subplot_titles = benchmarks[:5]\n",
    "    subplot_titles.append(\"Average\")\n",
    "    while len(subplot_titles) < 6: subplot_titles.append(\"\")\n",
    "\n",
    "    fig_vertical = make_subplots(rows=n_rows, cols=n_cols, subplot_titles=subplot_titles, vertical_spacing=0.1, horizontal_spacing=0.05)\n",
    "    \n",
    "    for i, title in enumerate(subplot_titles):\n",
    "        if not title: continue\n",
    "        row, col = i // n_cols + 1, i % n_cols + 1\n",
    "        plot_data = avg_scores if title == \"Average\" else mean_df_judge[mean_df_judge['eval_dataset'] == title].set_index('model_name')['score'].reindex(model_order)\n",
    "        # Uses the global color_map\n",
    "        for model_name in model_order:\n",
    "            if model_name in plot_data.index:\n",
    "                score = plot_data.get(model_name, float('nan'))\n",
    "                fig_vertical.add_trace(go.Bar(\n",
    "                    x=[model_name], y=[score], name=model_name, marker_color=color_map[model_name],\n",
    "                    text=[f\"{score:.2f}\" if pd.notnull(score) else \"\"], textposition='outside',\n",
    "                    showlegend=(i == 0)\n",
    "                ), row=row, col=col)\n",
    "            \n",
    "        fig_vertical.update_yaxes(range=[0, 10.5], row=row, col=col)\n",
    "        fig_vertical.update_xaxes(showticklabels=False, row=row, col=col)\n",
    "\n",
    "    fig_vertical.update_layout(\n",
    "        height=1000, width=1200, barmode='group',\n",
    "        title_text=f\"Model Score Comparison - Vertical<br><sup>Judge: {judge_model.replace('judge_', '')} | {MODEL_RANGE_GROUP}</sup>\",\n",
    "        title_x=0.5, template='plotly_white',\n",
    "        legend_title_text='Model',\n",
    "        bargap=0.01, bargroupgap=0.01\n",
    "    )\n",
    "    fig_vertical.show()\n"
   ]
  },
  {
   "cell_type": "code",
   "execution_count": 157,
   "id": "929435a7",
   "metadata": {},
   "outputs": [
    {
     "name": "stdout",
     "output_type": "stream",
     "text": [
      "VNTL-Translation dataset found: VNTL-Translation-200\n"
     ]
    }
   ],
   "source": [
    "# Check if vntl is here\n",
    "if 'VNTL-Translation' in eval_dataset_map:\n",
    "    vntl_name = eval_dataset_map['VNTL-Translation']\n",
    "    print(f\"VNTL-Translation dataset found: {vntl_name}\")"
   ]
  },
  {
   "cell_type": "code",
   "execution_count": 158,
   "id": "3c90775b",
   "metadata": {},
   "outputs": [
    {
     "data": {
      "text/plain": [
       "'VNTL-Translation-200'"
      ]
     },
     "execution_count": 158,
     "metadata": {},
     "output_type": "execute_result"
    }
   ],
   "source": [
    "eval_dataset_map['VNTL-Translation']"
   ]
  },
  {
   "cell_type": "code",
   "execution_count": null,
   "id": "01d11ce6",
   "metadata": {},
   "outputs": [
    {
     "data": {
      "application/vnd.plotly.v1+json": {
       "config": {
        "plotlyServerURL": "https://plot.ly"
       },
       "data": [
        {
         "marker": {
          "color": "#636EFA"
         },
         "name": "gpt-4o",
         "showlegend": true,
         "text": [
          "8.23"
         ],
         "textposition": "outside",
         "type": "bar",
         "x": [
          "gpt-4o"
         ],
         "xaxis": "x",
         "y": [
          8.23
         ],
         "yaxis": "y"
        },
        {
         "marker": {
          "color": "#00CC96"
         },
         "name": "shisa-v2-mistral-small-24b",
         "showlegend": true,
         "text": [
          "7.72"
         ],
         "textposition": "outside",
         "type": "bar",
         "x": [
          "shisa-v2-mistral-small-24b"
         ],
         "xaxis": "x",
         "y": [
          7.725
         ],
         "yaxis": "y"
        },
        {
         "marker": {
          "color": "#EF553B"
         },
         "name": "shisa-v2-qwen2.5-32b",
         "showlegend": true,
         "text": [
          "7.46"
         ],
         "textposition": "outside",
         "type": "bar",
         "x": [
          "shisa-v2-qwen2.5-32b"
         ],
         "xaxis": "x",
         "y": [
          7.46
         ],
         "yaxis": "y"
        },
        {
         "marker": {
          "color": "#FF97FF"
         },
         "name": "aya-expanse-32b-abliterated",
         "showlegend": true,
         "text": [
          "7.43"
         ],
         "textposition": "outside",
         "type": "bar",
         "x": [
          "aya-expanse-32b-abliterated"
         ],
         "xaxis": "x",
         "y": [
          7.435
         ],
         "yaxis": "y"
        },
        {
         "marker": {
          "color": "#AB63FA"
         },
         "name": "gemma-3-27b-it",
         "showlegend": true,
         "text": [
          "7.50"
         ],
         "textposition": "outside",
         "type": "bar",
         "x": [
          "gemma-3-27b-it"
         ],
         "xaxis": "x",
         "y": [
          7.5
         ],
         "yaxis": "y"
        },
        {
         "marker": {
          "color": "#19D3F3"
         },
         "name": "gemini-2.0-flash-lite",
         "showlegend": true,
         "text": [
          "7.48"
         ],
         "textposition": "outside",
         "type": "bar",
         "x": [
          "gemini-2.0-flash-lite"
         ],
         "xaxis": "x",
         "y": [
          7.48
         ],
         "yaxis": "y"
        },
        {
         "marker": {
          "color": "#FFA15A"
         },
         "name": "mistral-small-3.2-24b-instruct-2506",
         "showlegend": true,
         "text": [
          "7.36"
         ],
         "textposition": "outside",
         "type": "bar",
         "x": [
          "mistral-small-3.2-24b-instruct-2506"
         ],
         "xaxis": "x",
         "y": [
          7.355
         ],
         "yaxis": "y"
        },
        {
         "marker": {
          "color": "#B6E880"
         },
         "name": "mistral-small-3.1-24b-instruct-2503",
         "showlegend": true,
         "text": [
          "7.28"
         ],
         "textposition": "outside",
         "type": "bar",
         "x": [
          "mistral-small-3.1-24b-instruct-2503"
         ],
         "xaxis": "x",
         "y": [
          7.28
         ],
         "yaxis": "y"
        },
        {
         "marker": {
          "color": "#FECB52"
         },
         "name": "glm-4-32b-0414",
         "showlegend": true,
         "text": [
          "7.04"
         ],
         "textposition": "outside",
         "type": "bar",
         "x": [
          "glm-4-32b-0414"
         ],
         "xaxis": "x",
         "y": [
          7.035
         ],
         "yaxis": "y"
        },
        {
         "marker": {
          "color": "#636EFA"
         },
         "name": "amoral-gemma3-27b-v2-qat",
         "showlegend": true,
         "text": [
          "6.93"
         ],
         "textposition": "outside",
         "type": "bar",
         "x": [
          "amoral-gemma3-27b-v2-qat"
         ],
         "xaxis": "x",
         "y": [
          6.93
         ],
         "yaxis": "y"
        },
        {
         "marker": {
          "color": "#FF6692"
         },
         "name": "qwen3-32b",
         "showlegend": true,
         "text": [
          "7.02"
         ],
         "textposition": "outside",
         "type": "bar",
         "x": [
          "qwen3-32b"
         ],
         "xaxis": "x",
         "y": [
          7.02
         ],
         "yaxis": "y"
        },
        {
         "marker": {
          "color": "#636EFA"
         },
         "name": "gpt-4o",
         "showlegend": false,
         "text": [
          "9.11"
         ],
         "textposition": "outside",
         "type": "bar",
         "x": [
          "gpt-4o"
         ],
         "xaxis": "x2",
         "y": [
          9.105
         ],
         "yaxis": "y2"
        },
        {
         "marker": {
          "color": "#00CC96"
         },
         "name": "shisa-v2-mistral-small-24b",
         "showlegend": false,
         "text": [
          "8.74"
         ],
         "textposition": "outside",
         "type": "bar",
         "x": [
          "shisa-v2-mistral-small-24b"
         ],
         "xaxis": "x2",
         "y": [
          8.745
         ],
         "yaxis": "y2"
        },
        {
         "marker": {
          "color": "#EF553B"
         },
         "name": "shisa-v2-qwen2.5-32b",
         "showlegend": false,
         "text": [
          "8.22"
         ],
         "textposition": "outside",
         "type": "bar",
         "x": [
          "shisa-v2-qwen2.5-32b"
         ],
         "xaxis": "x2",
         "y": [
          8.22
         ],
         "yaxis": "y2"
        },
        {
         "marker": {
          "color": "#FF97FF"
         },
         "name": "aya-expanse-32b-abliterated",
         "showlegend": false,
         "text": [
          "8.12"
         ],
         "textposition": "outside",
         "type": "bar",
         "x": [
          "aya-expanse-32b-abliterated"
         ],
         "xaxis": "x2",
         "y": [
          8.125
         ],
         "yaxis": "y2"
        },
        {
         "marker": {
          "color": "#AB63FA"
         },
         "name": "gemma-3-27b-it",
         "showlegend": false,
         "text": [
          "7.79"
         ],
         "textposition": "outside",
         "type": "bar",
         "x": [
          "gemma-3-27b-it"
         ],
         "xaxis": "x2",
         "y": [
          7.785
         ],
         "yaxis": "y2"
        },
        {
         "marker": {
          "color": "#19D3F3"
         },
         "name": "gemini-2.0-flash-lite",
         "showlegend": false,
         "text": [
          "7.54"
         ],
         "textposition": "outside",
         "type": "bar",
         "x": [
          "gemini-2.0-flash-lite"
         ],
         "xaxis": "x2",
         "y": [
          7.54
         ],
         "yaxis": "y2"
        },
        {
         "marker": {
          "color": "#FFA15A"
         },
         "name": "mistral-small-3.2-24b-instruct-2506",
         "showlegend": false,
         "text": [
          "7.83"
         ],
         "textposition": "outside",
         "type": "bar",
         "x": [
          "mistral-small-3.2-24b-instruct-2506"
         ],
         "xaxis": "x2",
         "y": [
          7.835
         ],
         "yaxis": "y2"
        },
        {
         "marker": {
          "color": "#B6E880"
         },
         "name": "mistral-small-3.1-24b-instruct-2503",
         "showlegend": false,
         "text": [
          "7.77"
         ],
         "textposition": "outside",
         "type": "bar",
         "x": [
          "mistral-small-3.1-24b-instruct-2503"
         ],
         "xaxis": "x2",
         "y": [
          7.77
         ],
         "yaxis": "y2"
        },
        {
         "marker": {
          "color": "#FECB52"
         },
         "name": "glm-4-32b-0414",
         "showlegend": false,
         "text": [
          "7.25"
         ],
         "textposition": "outside",
         "type": "bar",
         "x": [
          "glm-4-32b-0414"
         ],
         "xaxis": "x2",
         "y": [
          7.245
         ],
         "yaxis": "y2"
        },
        {
         "marker": {
          "color": "#636EFA"
         },
         "name": "amoral-gemma3-27b-v2-qat",
         "showlegend": false,
         "text": [
          "7.24"
         ],
         "textposition": "outside",
         "type": "bar",
         "x": [
          "amoral-gemma3-27b-v2-qat"
         ],
         "xaxis": "x2",
         "y": [
          7.24
         ],
         "yaxis": "y2"
        },
        {
         "marker": {
          "color": "#FF6692"
         },
         "name": "qwen3-32b",
         "showlegend": false,
         "text": [
          "7.00"
         ],
         "textposition": "outside",
         "type": "bar",
         "x": [
          "qwen3-32b"
         ],
         "xaxis": "x2",
         "y": [
          7.005
         ],
         "yaxis": "y2"
        },
        {
         "marker": {
          "color": "#636EFA"
         },
         "name": "gpt-4o",
         "showlegend": false,
         "text": [
          "7.89"
         ],
         "textposition": "outside",
         "type": "bar",
         "x": [
          "gpt-4o"
         ],
         "xaxis": "x3",
         "y": [
          7.895
         ],
         "yaxis": "y3"
        },
        {
         "marker": {
          "color": "#00CC96"
         },
         "name": "shisa-v2-mistral-small-24b",
         "showlegend": false,
         "text": [
          "7.61"
         ],
         "textposition": "outside",
         "type": "bar",
         "x": [
          "shisa-v2-mistral-small-24b"
         ],
         "xaxis": "x3",
         "y": [
          7.61
         ],
         "yaxis": "y3"
        },
        {
         "marker": {
          "color": "#EF553B"
         },
         "name": "shisa-v2-qwen2.5-32b",
         "showlegend": false,
         "text": [
          "7.14"
         ],
         "textposition": "outside",
         "type": "bar",
         "x": [
          "shisa-v2-qwen2.5-32b"
         ],
         "xaxis": "x3",
         "y": [
          7.14
         ],
         "yaxis": "y3"
        },
        {
         "marker": {
          "color": "#FF97FF"
         },
         "name": "aya-expanse-32b-abliterated",
         "showlegend": false,
         "text": [
          "7.04"
         ],
         "textposition": "outside",
         "type": "bar",
         "x": [
          "aya-expanse-32b-abliterated"
         ],
         "xaxis": "x3",
         "y": [
          7.035
         ],
         "yaxis": "y3"
        },
        {
         "marker": {
          "color": "#AB63FA"
         },
         "name": "gemma-3-27b-it",
         "showlegend": false,
         "text": [
          "7.15"
         ],
         "textposition": "outside",
         "type": "bar",
         "x": [
          "gemma-3-27b-it"
         ],
         "xaxis": "x3",
         "y": [
          7.15
         ],
         "yaxis": "y3"
        },
        {
         "marker": {
          "color": "#19D3F3"
         },
         "name": "gemini-2.0-flash-lite",
         "showlegend": false,
         "text": [
          "7.01"
         ],
         "textposition": "outside",
         "type": "bar",
         "x": [
          "gemini-2.0-flash-lite"
         ],
         "xaxis": "x3",
         "y": [
          7.01
         ],
         "yaxis": "y3"
        },
        {
         "marker": {
          "color": "#FFA15A"
         },
         "name": "mistral-small-3.2-24b-instruct-2506",
         "showlegend": false,
         "text": [
          "7.00"
         ],
         "textposition": "outside",
         "type": "bar",
         "x": [
          "mistral-small-3.2-24b-instruct-2506"
         ],
         "xaxis": "x3",
         "y": [
          6.995
         ],
         "yaxis": "y3"
        },
        {
         "marker": {
          "color": "#B6E880"
         },
         "name": "mistral-small-3.1-24b-instruct-2503",
         "showlegend": false,
         "text": [
          "6.75"
         ],
         "textposition": "outside",
         "type": "bar",
         "x": [
          "mistral-small-3.1-24b-instruct-2503"
         ],
         "xaxis": "x3",
         "y": [
          6.75
         ],
         "yaxis": "y3"
        },
        {
         "marker": {
          "color": "#FECB52"
         },
         "name": "glm-4-32b-0414",
         "showlegend": false,
         "text": [
          "6.71"
         ],
         "textposition": "outside",
         "type": "bar",
         "x": [
          "glm-4-32b-0414"
         ],
         "xaxis": "x3",
         "y": [
          6.705
         ],
         "yaxis": "y3"
        },
        {
         "marker": {
          "color": "#636EFA"
         },
         "name": "amoral-gemma3-27b-v2-qat",
         "showlegend": false,
         "text": [
          "6.57"
         ],
         "textposition": "outside",
         "type": "bar",
         "x": [
          "amoral-gemma3-27b-v2-qat"
         ],
         "xaxis": "x3",
         "y": [
          6.565
         ],
         "yaxis": "y3"
        },
        {
         "marker": {
          "color": "#FF6692"
         },
         "name": "qwen3-32b",
         "showlegend": false,
         "text": [
          "6.54"
         ],
         "textposition": "outside",
         "type": "bar",
         "x": [
          "qwen3-32b"
         ],
         "xaxis": "x3",
         "y": [
          6.54
         ],
         "yaxis": "y3"
        },
        {
         "marker": {
          "color": "#636EFA"
         },
         "name": "gpt-4o",
         "showlegend": false,
         "text": [
          "8.77"
         ],
         "textposition": "outside",
         "type": "bar",
         "x": [
          "gpt-4o"
         ],
         "xaxis": "x4",
         "y": [
          8.77
         ],
         "yaxis": "y4"
        },
        {
         "marker": {
          "color": "#00CC96"
         },
         "name": "shisa-v2-mistral-small-24b",
         "showlegend": false,
         "text": [
          "8.44"
         ],
         "textposition": "outside",
         "type": "bar",
         "x": [
          "shisa-v2-mistral-small-24b"
         ],
         "xaxis": "x4",
         "y": [
          8.44
         ],
         "yaxis": "y4"
        },
        {
         "marker": {
          "color": "#EF553B"
         },
         "name": "shisa-v2-qwen2.5-32b",
         "showlegend": false,
         "text": [
          "7.92"
         ],
         "textposition": "outside",
         "type": "bar",
         "x": [
          "shisa-v2-qwen2.5-32b"
         ],
         "xaxis": "x4",
         "y": [
          7.925
         ],
         "yaxis": "y4"
        },
        {
         "marker": {
          "color": "#FF97FF"
         },
         "name": "aya-expanse-32b-abliterated",
         "showlegend": false,
         "text": [
          "7.86"
         ],
         "textposition": "outside",
         "type": "bar",
         "x": [
          "aya-expanse-32b-abliterated"
         ],
         "xaxis": "x4",
         "y": [
          7.855
         ],
         "yaxis": "y4"
        },
        {
         "marker": {
          "color": "#AB63FA"
         },
         "name": "gemma-3-27b-it",
         "showlegend": false,
         "text": [
          "7.88"
         ],
         "textposition": "outside",
         "type": "bar",
         "x": [
          "gemma-3-27b-it"
         ],
         "xaxis": "x4",
         "y": [
          7.885
         ],
         "yaxis": "y4"
        },
        {
         "marker": {
          "color": "#19D3F3"
         },
         "name": "gemini-2.0-flash-lite",
         "showlegend": false,
         "text": [
          "7.65"
         ],
         "textposition": "outside",
         "type": "bar",
         "x": [
          "gemini-2.0-flash-lite"
         ],
         "xaxis": "x4",
         "y": [
          7.65
         ],
         "yaxis": "y4"
        },
        {
         "marker": {
          "color": "#FFA15A"
         },
         "name": "mistral-small-3.2-24b-instruct-2506",
         "showlegend": false,
         "text": [
          "7.75"
         ],
         "textposition": "outside",
         "type": "bar",
         "x": [
          "mistral-small-3.2-24b-instruct-2506"
         ],
         "xaxis": "x4",
         "y": [
          7.745
         ],
         "yaxis": "y4"
        },
        {
         "marker": {
          "color": "#B6E880"
         },
         "name": "mistral-small-3.1-24b-instruct-2503",
         "showlegend": false,
         "text": [
          "7.59"
         ],
         "textposition": "outside",
         "type": "bar",
         "x": [
          "mistral-small-3.1-24b-instruct-2503"
         ],
         "xaxis": "x4",
         "y": [
          7.59
         ],
         "yaxis": "y4"
        },
        {
         "marker": {
          "color": "#FECB52"
         },
         "name": "glm-4-32b-0414",
         "showlegend": false,
         "text": [
          "7.46"
         ],
         "textposition": "outside",
         "type": "bar",
         "x": [
          "glm-4-32b-0414"
         ],
         "xaxis": "x4",
         "y": [
          7.465
         ],
         "yaxis": "y4"
        },
        {
         "marker": {
          "color": "#636EFA"
         },
         "name": "amoral-gemma3-27b-v2-qat",
         "showlegend": false,
         "text": [
          "7.25"
         ],
         "textposition": "outside",
         "type": "bar",
         "x": [
          "amoral-gemma3-27b-v2-qat"
         ],
         "xaxis": "x4",
         "y": [
          7.255
         ],
         "yaxis": "y4"
        },
        {
         "marker": {
          "color": "#FF6692"
         },
         "name": "qwen3-32b",
         "showlegend": false,
         "text": [
          "7.25"
         ],
         "textposition": "outside",
         "type": "bar",
         "x": [
          "qwen3-32b"
         ],
         "xaxis": "x4",
         "y": [
          7.245
         ],
         "yaxis": "y4"
        },
        {
         "marker": {
          "color": "#636EFA"
         },
         "name": "gpt-4o",
         "showlegend": false,
         "text": [
          "7.63"
         ],
         "textposition": "outside",
         "type": "bar",
         "x": [
          "gpt-4o"
         ],
         "xaxis": "x5",
         "y": [
          7.63
         ],
         "yaxis": "y5"
        },
        {
         "marker": {
          "color": "#00CC96"
         },
         "name": "shisa-v2-mistral-small-24b",
         "showlegend": false,
         "text": [
          "7.31"
         ],
         "textposition": "outside",
         "type": "bar",
         "x": [
          "shisa-v2-mistral-small-24b"
         ],
         "xaxis": "x5",
         "y": [
          7.31
         ],
         "yaxis": "y5"
        },
        {
         "marker": {
          "color": "#EF553B"
         },
         "name": "shisa-v2-qwen2.5-32b",
         "showlegend": false,
         "text": [
          "6.72"
         ],
         "textposition": "outside",
         "type": "bar",
         "x": [
          "shisa-v2-qwen2.5-32b"
         ],
         "xaxis": "x5",
         "y": [
          6.725
         ],
         "yaxis": "y5"
        },
        {
         "marker": {
          "color": "#FF97FF"
         },
         "name": "aya-expanse-32b-abliterated",
         "showlegend": false,
         "text": [
          "6.53"
         ],
         "textposition": "outside",
         "type": "bar",
         "x": [
          "aya-expanse-32b-abliterated"
         ],
         "xaxis": "x5",
         "y": [
          6.53
         ],
         "yaxis": "y5"
        },
        {
         "marker": {
          "color": "#AB63FA"
         },
         "name": "gemma-3-27b-it",
         "showlegend": false,
         "text": [
          "6.53"
         ],
         "textposition": "outside",
         "type": "bar",
         "x": [
          "gemma-3-27b-it"
         ],
         "xaxis": "x5",
         "y": [
          6.53
         ],
         "yaxis": "y5"
        },
        {
         "marker": {
          "color": "#19D3F3"
         },
         "name": "gemini-2.0-flash-lite",
         "showlegend": false,
         "text": [
          "6.41"
         ],
         "textposition": "outside",
         "type": "bar",
         "x": [
          "gemini-2.0-flash-lite"
         ],
         "xaxis": "x5",
         "y": [
          6.41
         ],
         "yaxis": "y5"
        },
        {
         "marker": {
          "color": "#FFA15A"
         },
         "name": "mistral-small-3.2-24b-instruct-2506",
         "showlegend": false,
         "text": [
          "6.48"
         ],
         "textposition": "outside",
         "type": "bar",
         "x": [
          "mistral-small-3.2-24b-instruct-2506"
         ],
         "xaxis": "x5",
         "y": [
          6.48
         ],
         "yaxis": "y5"
        },
        {
         "marker": {
          "color": "#B6E880"
         },
         "name": "mistral-small-3.1-24b-instruct-2503",
         "showlegend": false,
         "text": [
          "6.32"
         ],
         "textposition": "outside",
         "type": "bar",
         "x": [
          "mistral-small-3.1-24b-instruct-2503"
         ],
         "xaxis": "x5",
         "y": [
          6.32
         ],
         "yaxis": "y5"
        },
        {
         "marker": {
          "color": "#FECB52"
         },
         "name": "glm-4-32b-0414",
         "showlegend": false,
         "text": [
          "6.04"
         ],
         "textposition": "outside",
         "type": "bar",
         "x": [
          "glm-4-32b-0414"
         ],
         "xaxis": "x5",
         "y": [
          6.035
         ],
         "yaxis": "y5"
        },
        {
         "marker": {
          "color": "#636EFA"
         },
         "name": "amoral-gemma3-27b-v2-qat",
         "showlegend": false,
         "text": [
          "6.10"
         ],
         "textposition": "outside",
         "type": "bar",
         "x": [
          "amoral-gemma3-27b-v2-qat"
         ],
         "xaxis": "x5",
         "y": [
          6.1
         ],
         "yaxis": "y5"
        },
        {
         "marker": {
          "color": "#FF6692"
         },
         "name": "qwen3-32b",
         "showlegend": false,
         "text": [
          "5.99"
         ],
         "textposition": "outside",
         "type": "bar",
         "x": [
          "qwen3-32b"
         ],
         "xaxis": "x5",
         "y": [
          5.985
         ],
         "yaxis": "y5"
        },
        {
         "marker": {
          "color": "#636EFA"
         },
         "name": "gpt-4o",
         "showlegend": false,
         "text": [
          "8.04"
         ],
         "textposition": "outside",
         "type": "bar",
         "x": [
          "gpt-4o"
         ],
         "xaxis": "x6",
         "y": [
          8.035
         ],
         "yaxis": "y6"
        },
        {
         "marker": {
          "color": "#00CC96"
         },
         "name": "shisa-v2-mistral-small-24b",
         "showlegend": false,
         "text": [
          "8.01"
         ],
         "textposition": "outside",
         "type": "bar",
         "x": [
          "shisa-v2-mistral-small-24b"
         ],
         "xaxis": "x6",
         "y": [
          8.005
         ],
         "yaxis": "y6"
        },
        {
         "marker": {
          "color": "#EF553B"
         },
         "name": "shisa-v2-qwen2.5-32b",
         "showlegend": false,
         "text": [
          "7.64"
         ],
         "textposition": "outside",
         "type": "bar",
         "x": [
          "shisa-v2-qwen2.5-32b"
         ],
         "xaxis": "x6",
         "y": [
          7.64
         ],
         "yaxis": "y6"
        },
        {
         "marker": {
          "color": "#FF97FF"
         },
         "name": "aya-expanse-32b-abliterated",
         "showlegend": false,
         "text": [
          "7.93"
         ],
         "textposition": "outside",
         "type": "bar",
         "x": [
          "aya-expanse-32b-abliterated"
         ],
         "xaxis": "x6",
         "y": [
          7.93
         ],
         "yaxis": "y6"
        },
        {
         "marker": {
          "color": "#AB63FA"
         },
         "name": "gemma-3-27b-it",
         "showlegend": false,
         "text": [
          "7.88"
         ],
         "textposition": "outside",
         "type": "bar",
         "x": [
          "gemma-3-27b-it"
         ],
         "xaxis": "x6",
         "y": [
          7.885
         ],
         "yaxis": "y6"
        },
        {
         "marker": {
          "color": "#19D3F3"
         },
         "name": "gemini-2.0-flash-lite",
         "showlegend": false,
         "text": [
          "8.16"
         ],
         "textposition": "outside",
         "type": "bar",
         "x": [
          "gemini-2.0-flash-lite"
         ],
         "xaxis": "x6",
         "y": [
          8.16
         ],
         "yaxis": "y6"
        },
        {
         "marker": {
          "color": "#FFA15A"
         },
         "name": "mistral-small-3.2-24b-instruct-2506",
         "showlegend": false,
         "text": [
          "7.67"
         ],
         "textposition": "outside",
         "type": "bar",
         "x": [
          "mistral-small-3.2-24b-instruct-2506"
         ],
         "xaxis": "x6",
         "y": [
          7.67
         ],
         "yaxis": "y6"
        },
        {
         "marker": {
          "color": "#B6E880"
         },
         "name": "mistral-small-3.1-24b-instruct-2503",
         "showlegend": false,
         "text": [
          "7.45"
         ],
         "textposition": "outside",
         "type": "bar",
         "x": [
          "mistral-small-3.1-24b-instruct-2503"
         ],
         "xaxis": "x6",
         "y": [
          7.45
         ],
         "yaxis": "y6"
        },
        {
         "marker": {
          "color": "#FECB52"
         },
         "name": "glm-4-32b-0414",
         "showlegend": false,
         "text": [
          "7.50"
         ],
         "textposition": "outside",
         "type": "bar",
         "x": [
          "glm-4-32b-0414"
         ],
         "xaxis": "x6",
         "y": [
          7.505
         ],
         "yaxis": "y6"
        },
        {
         "marker": {
          "color": "#636EFA"
         },
         "name": "amoral-gemma3-27b-v2-qat",
         "showlegend": false,
         "text": [
          "7.25"
         ],
         "textposition": "outside",
         "type": "bar",
         "x": [
          "amoral-gemma3-27b-v2-qat"
         ],
         "xaxis": "x6",
         "y": [
          7.255
         ],
         "yaxis": "y6"
        },
        {
         "marker": {
          "color": "#FF6692"
         },
         "name": "qwen3-32b",
         "showlegend": false,
         "text": [
          "7.20"
         ],
         "textposition": "outside",
         "type": "bar",
         "x": [
          "qwen3-32b"
         ],
         "xaxis": "x6",
         "y": [
          7.195
         ],
         "yaxis": "y6"
        },
        {
         "marker": {
          "color": "#636EFA"
         },
         "name": "gpt-4o",
         "showlegend": false,
         "text": [
          "8.28"
         ],
         "textposition": "outside",
         "type": "bar",
         "x": [
          "gpt-4o"
         ],
         "xaxis": "x7",
         "y": [
          8.277500000000002
         ],
         "yaxis": "y7"
        },
        {
         "marker": {
          "color": "#00CC96"
         },
         "name": "shisa-v2-mistral-small-24b",
         "showlegend": false,
         "text": [
          "7.97"
         ],
         "textposition": "outside",
         "type": "bar",
         "x": [
          "shisa-v2-mistral-small-24b"
         ],
         "xaxis": "x7",
         "y": [
          7.9725
         ],
         "yaxis": "y7"
        },
        {
         "marker": {
          "color": "#EF553B"
         },
         "name": "shisa-v2-qwen2.5-32b",
         "showlegend": false,
         "text": [
          "7.52"
         ],
         "textposition": "outside",
         "type": "bar",
         "x": [
          "shisa-v2-qwen2.5-32b"
         ],
         "xaxis": "x7",
         "y": [
          7.5183333333333335
         ],
         "yaxis": "y7"
        },
        {
         "marker": {
          "color": "#FF97FF"
         },
         "name": "aya-expanse-32b-abliterated",
         "showlegend": false,
         "text": [
          "7.48"
         ],
         "textposition": "outside",
         "type": "bar",
         "x": [
          "aya-expanse-32b-abliterated"
         ],
         "xaxis": "x7",
         "y": [
          7.484999999999999
         ],
         "yaxis": "y7"
        },
        {
         "marker": {
          "color": "#AB63FA"
         },
         "name": "gemma-3-27b-it",
         "showlegend": false,
         "text": [
          "7.46"
         ],
         "textposition": "outside",
         "type": "bar",
         "x": [
          "gemma-3-27b-it"
         ],
         "xaxis": "x7",
         "y": [
          7.4558333333333335
         ],
         "yaxis": "y7"
        },
        {
         "marker": {
          "color": "#19D3F3"
         },
         "name": "gemini-2.0-flash-lite",
         "showlegend": false,
         "text": [
          "7.38"
         ],
         "textposition": "outside",
         "type": "bar",
         "x": [
          "gemini-2.0-flash-lite"
         ],
         "xaxis": "x7",
         "y": [
          7.375
         ],
         "yaxis": "y7"
        },
        {
         "marker": {
          "color": "#FFA15A"
         },
         "name": "mistral-small-3.2-24b-instruct-2506",
         "showlegend": false,
         "text": [
          "7.35"
         ],
         "textposition": "outside",
         "type": "bar",
         "x": [
          "mistral-small-3.2-24b-instruct-2506"
         ],
         "xaxis": "x7",
         "y": [
          7.346666666666668
         ],
         "yaxis": "y7"
        },
        {
         "marker": {
          "color": "#B6E880"
         },
         "name": "mistral-small-3.1-24b-instruct-2503",
         "showlegend": false,
         "text": [
          "7.19"
         ],
         "textposition": "outside",
         "type": "bar",
         "x": [
          "mistral-small-3.1-24b-instruct-2503"
         ],
         "xaxis": "x7",
         "y": [
          7.193333333333334
         ],
         "yaxis": "y7"
        },
        {
         "marker": {
          "color": "#FECB52"
         },
         "name": "glm-4-32b-0414",
         "showlegend": false,
         "text": [
          "7.00"
         ],
         "textposition": "outside",
         "type": "bar",
         "x": [
          "glm-4-32b-0414"
         ],
         "xaxis": "x7",
         "y": [
          6.998333333333334
         ],
         "yaxis": "y7"
        },
        {
         "marker": {
          "color": "#636EFA"
         },
         "name": "amoral-gemma3-27b-v2-qat",
         "showlegend": false,
         "text": [
          "6.89"
         ],
         "textposition": "outside",
         "type": "bar",
         "x": [
          "amoral-gemma3-27b-v2-qat"
         ],
         "xaxis": "x7",
         "y": [
          6.890833333333333
         ],
         "yaxis": "y7"
        },
        {
         "marker": {
          "color": "#FF6692"
         },
         "name": "qwen3-32b",
         "showlegend": false,
         "text": [
          "6.83"
         ],
         "textposition": "outside",
         "type": "bar",
         "x": [
          "qwen3-32b"
         ],
         "xaxis": "x7",
         "y": [
          6.831666666666667
         ],
         "yaxis": "y7"
        }
       ],
       "layout": {
        "annotations": [
         {
          "font": {
           "size": 16
          },
          "showarrow": false,
          "text": "Accuracy",
          "x": 0.2375,
          "xanchor": "center",
          "xref": "paper",
          "y": 1,
          "yanchor": "bottom",
          "yref": "paper"
         },
         {
          "font": {
           "size": 16
          },
          "showarrow": false,
          "text": "Fluency",
          "x": 0.7625,
          "xanchor": "center",
          "xref": "paper",
          "y": 1,
          "yanchor": "bottom",
          "yref": "paper"
         },
         {
          "font": {
           "size": 16
          },
          "showarrow": false,
          "text": "Character Voice",
          "x": 0.2375,
          "xanchor": "center",
          "xref": "paper",
          "y": 0.73,
          "yanchor": "bottom",
          "yref": "paper"
         },
         {
          "font": {
           "size": 16
          },
          "showarrow": false,
          "text": "Tone",
          "x": 0.7625,
          "xanchor": "center",
          "xref": "paper",
          "y": 0.73,
          "yanchor": "bottom",
          "yref": "paper"
         },
         {
          "font": {
           "size": 16
          },
          "showarrow": false,
          "text": "Localization",
          "x": 0.2375,
          "xanchor": "center",
          "xref": "paper",
          "y": 0.46,
          "yanchor": "bottom",
          "yref": "paper"
         },
         {
          "font": {
           "size": 16
          },
          "showarrow": false,
          "text": "Direction Following",
          "x": 0.7625,
          "xanchor": "center",
          "xref": "paper",
          "y": 0.46,
          "yanchor": "bottom",
          "yref": "paper"
         },
         {
          "font": {
           "size": 16
          },
          "showarrow": false,
          "text": "Average Sub-Score",
          "x": 0.2375,
          "xanchor": "center",
          "xref": "paper",
          "y": 0.19,
          "yanchor": "bottom",
          "yref": "paper"
         }
        ],
        "bargap": 0.01,
        "bargroupgap": 0.01,
        "barmode": "group",
        "height": 1400,
        "legend": {
         "title": {
          "text": "Model"
         }
        },
        "template": {
         "data": {
          "bar": [
           {
            "error_x": {
             "color": "#2a3f5f"
            },
            "error_y": {
             "color": "#2a3f5f"
            },
            "marker": {
             "line": {
              "color": "white",
              "width": 0.5
             },
             "pattern": {
              "fillmode": "overlay",
              "size": 10,
              "solidity": 0.2
             }
            },
            "type": "bar"
           }
          ],
          "barpolar": [
           {
            "marker": {
             "line": {
              "color": "white",
              "width": 0.5
             },
             "pattern": {
              "fillmode": "overlay",
              "size": 10,
              "solidity": 0.2
             }
            },
            "type": "barpolar"
           }
          ],
          "carpet": [
           {
            "aaxis": {
             "endlinecolor": "#2a3f5f",
             "gridcolor": "#C8D4E3",
             "linecolor": "#C8D4E3",
             "minorgridcolor": "#C8D4E3",
             "startlinecolor": "#2a3f5f"
            },
            "baxis": {
             "endlinecolor": "#2a3f5f",
             "gridcolor": "#C8D4E3",
             "linecolor": "#C8D4E3",
             "minorgridcolor": "#C8D4E3",
             "startlinecolor": "#2a3f5f"
            },
            "type": "carpet"
           }
          ],
          "choropleth": [
           {
            "colorbar": {
             "outlinewidth": 0,
             "ticks": ""
            },
            "type": "choropleth"
           }
          ],
          "contour": [
           {
            "colorbar": {
             "outlinewidth": 0,
             "ticks": ""
            },
            "colorscale": [
             [
              0,
              "#0d0887"
             ],
             [
              0.1111111111111111,
              "#46039f"
             ],
             [
              0.2222222222222222,
              "#7201a8"
             ],
             [
              0.3333333333333333,
              "#9c179e"
             ],
             [
              0.4444444444444444,
              "#bd3786"
             ],
             [
              0.5555555555555556,
              "#d8576b"
             ],
             [
              0.6666666666666666,
              "#ed7953"
             ],
             [
              0.7777777777777778,
              "#fb9f3a"
             ],
             [
              0.8888888888888888,
              "#fdca26"
             ],
             [
              1,
              "#f0f921"
             ]
            ],
            "type": "contour"
           }
          ],
          "contourcarpet": [
           {
            "colorbar": {
             "outlinewidth": 0,
             "ticks": ""
            },
            "type": "contourcarpet"
           }
          ],
          "heatmap": [
           {
            "colorbar": {
             "outlinewidth": 0,
             "ticks": ""
            },
            "colorscale": [
             [
              0,
              "#0d0887"
             ],
             [
              0.1111111111111111,
              "#46039f"
             ],
             [
              0.2222222222222222,
              "#7201a8"
             ],
             [
              0.3333333333333333,
              "#9c179e"
             ],
             [
              0.4444444444444444,
              "#bd3786"
             ],
             [
              0.5555555555555556,
              "#d8576b"
             ],
             [
              0.6666666666666666,
              "#ed7953"
             ],
             [
              0.7777777777777778,
              "#fb9f3a"
             ],
             [
              0.8888888888888888,
              "#fdca26"
             ],
             [
              1,
              "#f0f921"
             ]
            ],
            "type": "heatmap"
           }
          ],
          "histogram": [
           {
            "marker": {
             "pattern": {
              "fillmode": "overlay",
              "size": 10,
              "solidity": 0.2
             }
            },
            "type": "histogram"
           }
          ],
          "histogram2d": [
           {
            "colorbar": {
             "outlinewidth": 0,
             "ticks": ""
            },
            "colorscale": [
             [
              0,
              "#0d0887"
             ],
             [
              0.1111111111111111,
              "#46039f"
             ],
             [
              0.2222222222222222,
              "#7201a8"
             ],
             [
              0.3333333333333333,
              "#9c179e"
             ],
             [
              0.4444444444444444,
              "#bd3786"
             ],
             [
              0.5555555555555556,
              "#d8576b"
             ],
             [
              0.6666666666666666,
              "#ed7953"
             ],
             [
              0.7777777777777778,
              "#fb9f3a"
             ],
             [
              0.8888888888888888,
              "#fdca26"
             ],
             [
              1,
              "#f0f921"
             ]
            ],
            "type": "histogram2d"
           }
          ],
          "histogram2dcontour": [
           {
            "colorbar": {
             "outlinewidth": 0,
             "ticks": ""
            },
            "colorscale": [
             [
              0,
              "#0d0887"
             ],
             [
              0.1111111111111111,
              "#46039f"
             ],
             [
              0.2222222222222222,
              "#7201a8"
             ],
             [
              0.3333333333333333,
              "#9c179e"
             ],
             [
              0.4444444444444444,
              "#bd3786"
             ],
             [
              0.5555555555555556,
              "#d8576b"
             ],
             [
              0.6666666666666666,
              "#ed7953"
             ],
             [
              0.7777777777777778,
              "#fb9f3a"
             ],
             [
              0.8888888888888888,
              "#fdca26"
             ],
             [
              1,
              "#f0f921"
             ]
            ],
            "type": "histogram2dcontour"
           }
          ],
          "mesh3d": [
           {
            "colorbar": {
             "outlinewidth": 0,
             "ticks": ""
            },
            "type": "mesh3d"
           }
          ],
          "parcoords": [
           {
            "line": {
             "colorbar": {
              "outlinewidth": 0,
              "ticks": ""
             }
            },
            "type": "parcoords"
           }
          ],
          "pie": [
           {
            "automargin": true,
            "type": "pie"
           }
          ],
          "scatter": [
           {
            "fillpattern": {
             "fillmode": "overlay",
             "size": 10,
             "solidity": 0.2
            },
            "type": "scatter"
           }
          ],
          "scatter3d": [
           {
            "line": {
             "colorbar": {
              "outlinewidth": 0,
              "ticks": ""
             }
            },
            "marker": {
             "colorbar": {
              "outlinewidth": 0,
              "ticks": ""
             }
            },
            "type": "scatter3d"
           }
          ],
          "scattercarpet": [
           {
            "marker": {
             "colorbar": {
              "outlinewidth": 0,
              "ticks": ""
             }
            },
            "type": "scattercarpet"
           }
          ],
          "scattergeo": [
           {
            "marker": {
             "colorbar": {
              "outlinewidth": 0,
              "ticks": ""
             }
            },
            "type": "scattergeo"
           }
          ],
          "scattergl": [
           {
            "marker": {
             "colorbar": {
              "outlinewidth": 0,
              "ticks": ""
             }
            },
            "type": "scattergl"
           }
          ],
          "scattermap": [
           {
            "marker": {
             "colorbar": {
              "outlinewidth": 0,
              "ticks": ""
             }
            },
            "type": "scattermap"
           }
          ],
          "scattermapbox": [
           {
            "marker": {
             "colorbar": {
              "outlinewidth": 0,
              "ticks": ""
             }
            },
            "type": "scattermapbox"
           }
          ],
          "scatterpolar": [
           {
            "marker": {
             "colorbar": {
              "outlinewidth": 0,
              "ticks": ""
             }
            },
            "type": "scatterpolar"
           }
          ],
          "scatterpolargl": [
           {
            "marker": {
             "colorbar": {
              "outlinewidth": 0,
              "ticks": ""
             }
            },
            "type": "scatterpolargl"
           }
          ],
          "scatterternary": [
           {
            "marker": {
             "colorbar": {
              "outlinewidth": 0,
              "ticks": ""
             }
            },
            "type": "scatterternary"
           }
          ],
          "surface": [
           {
            "colorbar": {
             "outlinewidth": 0,
             "ticks": ""
            },
            "colorscale": [
             [
              0,
              "#0d0887"
             ],
             [
              0.1111111111111111,
              "#46039f"
             ],
             [
              0.2222222222222222,
              "#7201a8"
             ],
             [
              0.3333333333333333,
              "#9c179e"
             ],
             [
              0.4444444444444444,
              "#bd3786"
             ],
             [
              0.5555555555555556,
              "#d8576b"
             ],
             [
              0.6666666666666666,
              "#ed7953"
             ],
             [
              0.7777777777777778,
              "#fb9f3a"
             ],
             [
              0.8888888888888888,
              "#fdca26"
             ],
             [
              1,
              "#f0f921"
             ]
            ],
            "type": "surface"
           }
          ],
          "table": [
           {
            "cells": {
             "fill": {
              "color": "#EBF0F8"
             },
             "line": {
              "color": "white"
             }
            },
            "header": {
             "fill": {
              "color": "#C8D4E3"
             },
             "line": {
              "color": "white"
             }
            },
            "type": "table"
           }
          ]
         },
         "layout": {
          "annotationdefaults": {
           "arrowcolor": "#2a3f5f",
           "arrowhead": 0,
           "arrowwidth": 1
          },
          "autotypenumbers": "strict",
          "coloraxis": {
           "colorbar": {
            "outlinewidth": 0,
            "ticks": ""
           }
          },
          "colorscale": {
           "diverging": [
            [
             0,
             "#8e0152"
            ],
            [
             0.1,
             "#c51b7d"
            ],
            [
             0.2,
             "#de77ae"
            ],
            [
             0.3,
             "#f1b6da"
            ],
            [
             0.4,
             "#fde0ef"
            ],
            [
             0.5,
             "#f7f7f7"
            ],
            [
             0.6,
             "#e6f5d0"
            ],
            [
             0.7,
             "#b8e186"
            ],
            [
             0.8,
             "#7fbc41"
            ],
            [
             0.9,
             "#4d9221"
            ],
            [
             1,
             "#276419"
            ]
           ],
           "sequential": [
            [
             0,
             "#0d0887"
            ],
            [
             0.1111111111111111,
             "#46039f"
            ],
            [
             0.2222222222222222,
             "#7201a8"
            ],
            [
             0.3333333333333333,
             "#9c179e"
            ],
            [
             0.4444444444444444,
             "#bd3786"
            ],
            [
             0.5555555555555556,
             "#d8576b"
            ],
            [
             0.6666666666666666,
             "#ed7953"
            ],
            [
             0.7777777777777778,
             "#fb9f3a"
            ],
            [
             0.8888888888888888,
             "#fdca26"
            ],
            [
             1,
             "#f0f921"
            ]
           ],
           "sequentialminus": [
            [
             0,
             "#0d0887"
            ],
            [
             0.1111111111111111,
             "#46039f"
            ],
            [
             0.2222222222222222,
             "#7201a8"
            ],
            [
             0.3333333333333333,
             "#9c179e"
            ],
            [
             0.4444444444444444,
             "#bd3786"
            ],
            [
             0.5555555555555556,
             "#d8576b"
            ],
            [
             0.6666666666666666,
             "#ed7953"
            ],
            [
             0.7777777777777778,
             "#fb9f3a"
            ],
            [
             0.8888888888888888,
             "#fdca26"
            ],
            [
             1,
             "#f0f921"
            ]
           ]
          },
          "colorway": [
           "#636efa",
           "#EF553B",
           "#00cc96",
           "#ab63fa",
           "#FFA15A",
           "#19d3f3",
           "#FF6692",
           "#B6E880",
           "#FF97FF",
           "#FECB52"
          ],
          "font": {
           "color": "#2a3f5f"
          },
          "geo": {
           "bgcolor": "white",
           "lakecolor": "white",
           "landcolor": "white",
           "showlakes": true,
           "showland": true,
           "subunitcolor": "#C8D4E3"
          },
          "hoverlabel": {
           "align": "left"
          },
          "hovermode": "closest",
          "mapbox": {
           "style": "light"
          },
          "paper_bgcolor": "white",
          "plot_bgcolor": "white",
          "polar": {
           "angularaxis": {
            "gridcolor": "#EBF0F8",
            "linecolor": "#EBF0F8",
            "ticks": ""
           },
           "bgcolor": "white",
           "radialaxis": {
            "gridcolor": "#EBF0F8",
            "linecolor": "#EBF0F8",
            "ticks": ""
           }
          },
          "scene": {
           "xaxis": {
            "backgroundcolor": "white",
            "gridcolor": "#DFE8F3",
            "gridwidth": 2,
            "linecolor": "#EBF0F8",
            "showbackground": true,
            "ticks": "",
            "zerolinecolor": "#EBF0F8"
           },
           "yaxis": {
            "backgroundcolor": "white",
            "gridcolor": "#DFE8F3",
            "gridwidth": 2,
            "linecolor": "#EBF0F8",
            "showbackground": true,
            "ticks": "",
            "zerolinecolor": "#EBF0F8"
           },
           "zaxis": {
            "backgroundcolor": "white",
            "gridcolor": "#DFE8F3",
            "gridwidth": 2,
            "linecolor": "#EBF0F8",
            "showbackground": true,
            "ticks": "",
            "zerolinecolor": "#EBF0F8"
           }
          },
          "shapedefaults": {
           "line": {
            "color": "#2a3f5f"
           }
          },
          "ternary": {
           "aaxis": {
            "gridcolor": "#DFE8F3",
            "linecolor": "#A2B1C6",
            "ticks": ""
           },
           "baxis": {
            "gridcolor": "#DFE8F3",
            "linecolor": "#A2B1C6",
            "ticks": ""
           },
           "bgcolor": "white",
           "caxis": {
            "gridcolor": "#DFE8F3",
            "linecolor": "#A2B1C6",
            "ticks": ""
           }
          },
          "title": {
           "x": 0.05
          },
          "xaxis": {
           "automargin": true,
           "gridcolor": "#EBF0F8",
           "linecolor": "#EBF0F8",
           "ticks": "",
           "title": {
            "standoff": 15
           },
           "zerolinecolor": "#EBF0F8",
           "zerolinewidth": 2
          },
          "yaxis": {
           "automargin": true,
           "gridcolor": "#EBF0F8",
           "linecolor": "#EBF0F8",
           "ticks": "",
           "title": {
            "standoff": 15
           },
           "zerolinecolor": "#EBF0F8",
           "zerolinewidth": 2
          }
         }
        },
        "title": {
         "text": "VNTL Detailed Score Comparison<br><sup>Judge: gpt-4.1 | 24B - 32B Model Range</sup>",
         "x": 0.5
        },
        "width": 1200,
        "xaxis": {
         "anchor": "y",
         "domain": [
          0,
          0.475
         ],
         "showticklabels": false
        },
        "xaxis2": {
         "anchor": "y2",
         "domain": [
          0.525,
          1
         ],
         "showticklabels": false
        },
        "xaxis3": {
         "anchor": "y3",
         "domain": [
          0,
          0.475
         ],
         "showticklabels": false
        },
        "xaxis4": {
         "anchor": "y4",
         "domain": [
          0.525,
          1
         ],
         "showticklabels": false
        },
        "xaxis5": {
         "anchor": "y5",
         "domain": [
          0,
          0.475
         ],
         "showticklabels": false
        },
        "xaxis6": {
         "anchor": "y6",
         "domain": [
          0.525,
          1
         ],
         "showticklabels": false
        },
        "xaxis7": {
         "anchor": "y7",
         "domain": [
          0,
          0.475
         ],
         "showticklabels": false
        },
        "xaxis8": {
         "anchor": "y8",
         "domain": [
          0.525,
          1
         ]
        },
        "yaxis": {
         "anchor": "x",
         "domain": [
          0.81,
          1
         ],
         "range": [
          0,
          10.5
         ]
        },
        "yaxis2": {
         "anchor": "x2",
         "domain": [
          0.81,
          1
         ],
         "range": [
          0,
          10.5
         ]
        },
        "yaxis3": {
         "anchor": "x3",
         "domain": [
          0.54,
          0.73
         ],
         "range": [
          0,
          10.5
         ]
        },
        "yaxis4": {
         "anchor": "x4",
         "domain": [
          0.54,
          0.73
         ],
         "range": [
          0,
          10.5
         ]
        },
        "yaxis5": {
         "anchor": "x5",
         "domain": [
          0.27,
          0.46
         ],
         "range": [
          0,
          10.5
         ]
        },
        "yaxis6": {
         "anchor": "x6",
         "domain": [
          0.27,
          0.46
         ],
         "range": [
          0,
          10.5
         ]
        },
        "yaxis7": {
         "anchor": "x7",
         "domain": [
          0,
          0.19
         ],
         "range": [
          0,
          10.5
         ]
        },
        "yaxis8": {
         "anchor": "x8",
         "domain": [
          0,
          0.19
         ]
        }
       }
      }
     },
     "metadata": {},
     "output_type": "display_data"
    }
   ],
   "source": [
    "# --- VNTL Sub-score Grid Visualization (Looping by Judge) ---\n",
    "\n",
    "import plotly.graph_objects as go\n",
    "import plotly.express as px\n",
    "from plotly.subplots import make_subplots\n",
    "\n",
    "# Define the VNTL score columns we want to create plots for\n",
    "vntl_score_columns = [\n",
    "    \"score_accuracy\", \n",
    "    \"score_fluency\", \n",
    "    \"score_character_voice\", \n",
    "    \"score_tone\", \n",
    "    \"score_localization\",\n",
    "    \"score_direction_following\"\n",
    "]\n",
    "\n",
    "# Use the mapped name to correctly filter for VNTL data\n",
    "VNTL_MAPPED_NAME = eval_dataset_map.get('VNTL-Translation')\n",
    "if VNTL_MAPPED_NAME:\n",
    "    df_vntl = all_result_df[all_result_df['eval_dataset'] == VNTL_MAPPED_NAME].copy()\n",
    "else:\n",
    "    df_vntl = pd.DataFrame()\n",
    "\n",
    "# Check if the VNTL data exists and has the required columns\n",
    "if not df_vntl.empty and all(col in df_vntl.columns for col in vntl_score_columns):\n",
    "    \n",
    "    # Loop through each judge model that has VNTL data\n",
    "    for judge_model in df_vntl['judge_model'].unique():\n",
    "        df_vntl_judge = df_vntl[df_vntl['judge_model'] == judge_model]\n",
    "\n",
    "        # Calculate the mean of each sub-score for each model for the current judge\n",
    "        vntl_summary = df_vntl_judge.groupby('model_name')[vntl_score_columns].mean()\n",
    "        \n",
    "        # Calculate an overall average score for sorting\n",
    "        vntl_summary['Average'] = vntl_summary.mean(axis=1)\n",
    "        \n",
    "        # Create a VNTL-specific model order for the current judge\n",
    "        vntl_model_order = vntl_summary.sort_values(by='Average', ascending=False).index.tolist()\n",
    "        vntl_summary = vntl_summary.reindex(vntl_model_order)\n",
    "        \n",
    "        # --- Create the 4x2 Grid Plot ---\n",
    "        n_rows, n_cols = 4, 2\n",
    "        \n",
    "        # Create titles for all 6 sub-scores, plus the final average\n",
    "        subplot_titles = [col.replace('score_', '').replace('_', ' ').title() for col in vntl_score_columns]\n",
    "        subplot_titles.append(\"Average Sub-Score\")\n",
    "\n",
    "        fig_vntl_grid = make_subplots(\n",
    "            rows=n_rows, \n",
    "            cols=n_cols, \n",
    "            subplot_titles=subplot_titles,\n",
    "            vertical_spacing=0.08,\n",
    "            horizontal_spacing=0.05\n",
    "        )\n",
    "        \n",
    "        # Loop through all 6 score types plus the 'Average'\n",
    "        plot_order = vntl_score_columns + ['Average']\n",
    "        for i, score_type in enumerate(plot_order):\n",
    "            row = i // n_cols + 1\n",
    "            col = i % n_cols + 1\n",
    "            \n",
    "            # Add a bar for each model in the current subplot\n",
    "            for model_name in vntl_model_order:\n",
    "                score = vntl_summary.loc[model_name, score_type]\n",
    "                fig_vntl_grid.add_trace(go.Bar(\n",
    "                    x=[model_name],\n",
    "                    y=[score],\n",
    "                    name=model_name,\n",
    "                    marker_color=color_map.get(model_name), # Uses the global color_map\n",
    "                    text=[f\"{score:.2f}\"],\n",
    "                    textposition='outside',\n",
    "                    showlegend=(i == 0)\n",
    "                ), row=row, col=col)\n",
    "            \n",
    "            fig_vntl_grid.update_yaxes(range=[0, 10.5], row=row, col=col)\n",
    "            fig_vntl_grid.update_xaxes(showticklabels=False, row=row, col=col)\n",
    "\n",
    "        fig_vntl_grid.update_layout(\n",
    "            height=1400, \n",
    "            width=1200, \n",
    "            barmode='group',\n",
    "            # Dynamically set the title to include the current judge model\n",
    "            title_text=f\"VNTL Detailed Score Comparison<br><sup>Judge: {judge_model.replace('judge_', '')} | {MODEL_RANGE_GROUP}</sup>\",\n",
    "            title_x=0.5, \n",
    "            template='plotly_white',\n",
    "            legend_title_text='Model',\n",
    "            bargap=0.01, \n",
    "            bargroupgap=0.01\n",
    "        )\n",
    "\n",
    "        fig_vntl_grid.show()\n",
    "else:\n",
    "    print(\"No VNTL multi-score data found to generate the plot.\")"
   ]
  },
  {
   "cell_type": "markdown",
   "id": "1839f7f1",
   "metadata": {},
   "source": [
    "# Benchmark Descriptions\n",
    "\n",
    "* **ELYZA-tasks-100**: A Japanese benchmark consisting of 100 diverse tasks, designed to evaluate general language understanding and generation capabilities of LLMs in Japanese. Tasks include question answering, summarization, and also translation evaluation.\n",
    "\n",
    "* **Rakuda**: A Japanese benchmark focused on evaluating LLMs' performance on a wide range of question-answering tasks, including both factual and reasoning-based questions.\n",
    "\n",
    "* **Tengu-Bench**: A comprehensive Japanese benchmark that tests LLMs on various categories such as knowledge, reasoning, and reading comprehension, aiming to provide a broad assessment of model capabilities.\n",
    "\n",
    "* **MT-Bench**: The Japanese adaptation of the MT-Bench, which is a multi-turn dialogue benchmark. It evaluates LLMs' ability to handle conversational tasks, including context retention, instruction following, and multi-turn reasoning.\n",
    "\n",
    "* **VNTL-Translation**: A benchmark specifically designed for evaluating the quality of Japanese-to-English translation. It consists of text from Japanese visual novels, testing the model's ability to handle narrative and colloquial language. Performance is measured using standard translation metrics like BLEU and chrF."
   ]
  }
 ],
 "metadata": {
  "environment": {
   "kernel": "python3",
   "name": "common-cpu.m118",
   "type": "gcloud",
   "uri": "us-docker.pkg.dev/deeplearning-platform-release/gcr.io/base-cpu:m118"
  },
  "kernelspec": {
   "display_name": "eval",
   "language": "python",
   "name": "python3"
  },
  "language_info": {
   "codemirror_mode": {
    "name": "ipython",
    "version": 3
   },
   "file_extension": ".py",
   "mimetype": "text/x-python",
   "name": "python",
   "nbconvert_exporter": "python",
   "pygments_lexer": "ipython3",
   "version": "3.11.11"
  }
 },
 "nbformat": 4,
 "nbformat_minor": 5
}
